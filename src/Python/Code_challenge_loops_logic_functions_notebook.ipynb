{
 "cells": [
  {
   "cell_type": "markdown",
   "id": "39b12a74",
   "metadata": {},
   "source": [
    "<div align=\"center\" style=\" font-size: 80%; text-align: center; margin: 0 auto\">\n",
    "<img src=\"https://raw.githubusercontent.com/Explore-AI/Pictures/master/Python-Notebook-Banners/Code_challenge.png\"  style=\"display: block; margin-left: auto; margin-right: auto;\";/>\n",
    "</div>"
   ]
  },
  {
   "cell_type": "markdown",
   "id": "f662d169",
   "metadata": {},
   "source": [
    "# Code challenge notebook: Loops and functions\n",
    "© ExploreAI Academy"
   ]
  },
  {
   "cell_type": "markdown",
   "id": "26af890c",
   "metadata": {},
   "source": [
    "In this coding challenge, we will apply our Python programming skills to automate more complex movement of our farm equipment. We will use functions to make our code more modular, making it simpler to read, modify, and extend."
   ]
  },
  {
   "cell_type": "markdown",
   "id": "2d230d14",
   "metadata": {
    "tags": []
   },
   "source": [
    "⚠️ **NOTE: This notebook should be used to work though the code challenge, but should not be submitted. Please transfer your code to `GCC_Submit_loops_and_functions.ipynb` and submit that file online. Submitting this notebook will **fail** the autograder tests.**\n",
    "\n",
    "### Instructions\n",
    "\n",
    "- **Do not add or remove cells in this notebook. Do not edit or remove the `### START FUNCTION` or `### END FUNCTION` comments. Do not add any code outside of the functions you are required to edit. Doing any of this will lead to a mark of 0%!**\n",
    "\n",
    "- Answer the questions according to the specifications provided.\n",
    "\n",
    "- Use the given cell in each question to see if your function matches the expected outputs.\n",
    "\n",
    "- Do not hard-code answers to the questions.\n",
    "\n",
    "- The use of StackOverflow, Google, and other online tools is permitted. However, copying a fellow student's code is not permissible and is considered a breach of the Honour code. Doing this will result in a mark of 0%."
   ]
  },
  {
   "cell_type": "markdown",
   "id": "77f6ad3f",
   "metadata": {},
   "source": [
    "## Introduction\n",
    "\n",
    "Our ultimate goal is to develop fully autonomous farming equipment. These machines will not just follow preset instructions; they will make intelligent decisions based on real-time data. Imagine tractors that know when to plough, seeders that understand the best planting patterns, and irrigation systems that water crops precisely when needed.\n",
    "\n",
    "But every grand plan starts with a first step. For us, it's creating a digital mirror of Maji Ndogo's farming ecosystem - a comprehensive **Digital Twin**. This virtual model will be our testing ground. Here, we'll experiment with different agricultural strategies, analyse their outcomes, and perfect our approaches without a single seed being sown in the real world.\n",
    "\n",
    "To build this digital farm, we'll rely on our Python programming skills. We’ll start by digitally constructing the farm elements:\n",
    "\n",
    "- **Fields:** We'll create grid representations of fields where each cell is a patch of land.\n",
    "\n",
    "- **Farming Equipment:** Digital tractors and tools will interact with the virtual crops and fields.\n",
    "\n",
    "Let's gear up, roll up our sleeves, and dive in. 🌱🚜🌾"
   ]
  },
  {
   "cell_type": "markdown",
   "id": "5a0b7683",
   "metadata": {
    "tags": []
   },
   "source": [
    "## Initialising simulation code\n",
    "\n",
    "In order for the simulation to run, we have to install the `Pygame` package. This Python package is used to draw graphics for games written in Python, and we'll use it to see the results of our code.\n",
    "\n",
    "First, we install the `Pygame` package with pip:"
   ]
  },
  {
   "cell_type": "code",
   "execution_count": 1,
   "id": "c81ba261",
   "metadata": {},
   "outputs": [
    {
     "name": "stdout",
     "output_type": "stream",
     "text": [
      "The following packages are already present in the pyproject.toml and will be skipped:\n",
      "\n",
      "  • \u001b[36mpygame\u001b[39m\n",
      "\n",
      "If you want to update it to the latest compatible version, you can use `poetry update package`.\n",
      "If you prefer to upgrade it to the latest available version, you can use `poetry add package@latest`.\n",
      "\n",
      "Nothing to add.\n"
     ]
    }
   ],
   "source": [
    "!poetry add pygame"
   ]
  },
  {
   "cell_type": "markdown",
   "id": "c6382abd",
   "metadata": {},
   "source": [
    "Then run some code to set up the visuals. \n",
    "\n",
    "Before scrolling down, remember that we **don't have to understand every line of code in the cell below**. \n",
    "\n",
    "Scroll down and try to spot **variables**, **functions**, **conditional flow**, **loops**, **datatypes**, and so on.\n",
    "\n",
    "By the end of the course, all of this code will make sense. But for now, we can just execute this cell."
   ]
  },
  {
   "cell_type": "code",
   "execution_count": 2,
   "id": "4fd4f0b6",
   "metadata": {},
   "outputs": [
    {
     "name": "stdout",
     "output_type": "stream",
     "text": [
      "pygame 2.5.2 (SDL 2.28.2, Python 3.11.6)\n",
      "Hello from the pygame community. https://www.pygame.org/contribute.html\n"
     ]
    }
   ],
   "source": [
    "# DO NOT CHANGE ANYTHING IN THIS CELL, ONLY EXECUTE IT!\n",
    "\n",
    "import pygame\n",
    "import logging\n",
    "import random\n",
    "\n",
    "\n",
    "# Constants for the tile size\n",
    "TILE_SIZE = 16\n",
    "UI_WIDTH = 200                  # Width of the UI section\n",
    "UI_HEIGHT = 600                 # Height\n",
    "TRACTOR_SIZE = 12\n",
    "WHITE = (255, 255, 255)\n",
    "LIGHT_BROWN = (210, 180, 140)   # Light brown for un-ploughed soil\n",
    "DARK_BROWN = (101, 67, 33)      # Dark brown for ploughed soil\n",
    "GREEN = (0, 255, 0)             # Green for planted crops\n",
    "RED = (255, 0, 0) \n",
    "TILE_SIZE = 16                  # Constants for the tile size\n",
    "\n",
    "#Default field\n",
    "field_height = 20 # min 20\n",
    "field_width = 20 # min 1\n",
    "\n",
    "\n",
    "#Class declarations\n",
    "class Field:\n",
    "    \"\"\"\n",
    "    Represents a virtual field with custom dimensions and layout.\n",
    "\n",
    "    This class creates a field represented as a two-dimensional grid. Each cell of the grid can contain different types of tiles, such as grass, soil, and various border elements. The field's dimensions are specified at the time of object creation. The class automatically generates the layout of the field, including the borders and inner soil tiles with random variations.\n",
    "\n",
    "    Attributes:\n",
    "        width (int): The width of the field specified by the user, excluding the outer grass layer.\n",
    "        height (int): The height of the field specified by the user, excluding the outer grass layer.\n",
    "        layout (list): A 2D list representing the field's layout, including the outer grass layer and the specified soil variations.\n",
    "\n",
    "    Methods:\n",
    "        generate_field(height, width): Generates the complete layout of the field with specified height and width. It includes an additional outer layer for grass borders and corners and fills the interior with random soil variations.\n",
    "\n",
    "    Example:\n",
    "        >>> field = Field(5, 5)\n",
    "        >>> field.layout\n",
    "        [['soil_bottom_right', 'soil_bottom', ...], [...], ...]\n",
    "    \"\"\"\n",
    "\n",
    "    def __init__(self, width, height):\n",
    "        self.width = width\n",
    "        self.height = height\n",
    "        self.layout = self.generate_field(height, width)\n",
    "\n",
    "    def generate_field(self, height, width):\n",
    "        # Adjust height and width to include the outer grass layer\n",
    "        height += 2\n",
    "        width += 2\n",
    "\n",
    "        # initialise the field as a 2D array filled with grass\n",
    "        field = [['grass' for _ in range(width)] for _ in range(height)]\n",
    "\n",
    "        # Define the tile names for the borders, corners, and soil variations\n",
    "        grass_corner_tl = 'soil_bottom_right'\n",
    "        grass_corner_tr = 'soil_bottom_left'\n",
    "        grass_corner_bl = 'soil_top_right'\n",
    "        grass_corner_br = 'soil_top_left'\n",
    "        grass_edge_top = 'soil_bottom'\n",
    "        grass_edge_bottom = 'soil_top'\n",
    "        grass_edge_left = 'soil_right'\n",
    "        grass_edge_right = 'soil_left'\n",
    "        soil_variations = ['soil1', 'soil2', 'soil3']\n",
    "\n",
    "        # Fill in the corners\n",
    "        field[1][1] = grass_corner_tl\n",
    "        field[1][width - 2] = grass_corner_tr\n",
    "        field[height - 2][1] = grass_corner_bl\n",
    "        field[height - 2][width - 2] = grass_corner_br\n",
    "\n",
    "        # Fill in the borders\n",
    "        for x in range(2, width - 2):\n",
    "            field[1][x] = grass_edge_top\n",
    "            field[height - 2][x] = grass_edge_bottom\n",
    "        for y in range(2, height - 2):\n",
    "            field[y][1] = grass_edge_left\n",
    "            field[y][width - 2] = grass_edge_right\n",
    "\n",
    "        # Fill in the interior with random soil variations\n",
    "        for y in range(2, height - 2):\n",
    "            for x in range(2, width - 2):\n",
    "                field[y][x] = random.choice(soil_variations)\n",
    "\n",
    "        return field\n",
    "\n",
    "    def plough_field(self, row, col):\n",
    "        # Check if the row and col indices are within the valid range\n",
    "        if 0 <= row < len(self.layout) and 0 <= col < len(self.layout[0]):\n",
    "            # Adjust for border offset\n",
    "            self.layout[row + 2][col + 2] = 'ploughed_soil'\n",
    "        else:\n",
    "            # Optionally log an error or handle the invalid index case\n",
    "            logging.error(f\"Invalid plough field indices: row {row}, col {col}\")\n",
    "\n",
    "    def get_truncated_layout(self):\n",
    "        return [row[2:-2] for row in self.layout[2:-2]]\n",
    "\n",
    "    def render(self, screen, tileset):\n",
    "        for y, row in enumerate(self.layout):\n",
    "            for x, tile_name in enumerate(row):\n",
    "                if tile_name == 'ploughed_soil':\n",
    "                    screen.blit(darker_soil_tile, (x * TILE_SIZE, y * TILE_SIZE))\n",
    "                else:\n",
    "                    render_tile(screen, tile_name, x, y, tileset)\n",
    "\n",
    "class Tractor:\n",
    "    \"\"\"\n",
    "    Represents a tractor in a virtual field environment.\n",
    "\n",
    "    This class creates a tractor object that can be drawn on a Pygame window. \n",
    "    The tractor's position is defined by its row and column in a grid layout. \n",
    "    Additionally, the tractor's appearance is determined by its colour, with a corresponding image loaded based on the specified colour.\n",
    "\n",
    "    Attributes:\n",
    "        row (int): The row position of the tractor in the grid.\n",
    "        col (int): The column position of the tractor in the grid.\n",
    "        border_offset (int): The offset to account for the border when drawing the tractor.\n",
    "        tractor_colour (str): The colour of the tractor, used to load the correct image.\n",
    "        tractor_image (Surface): The Pygame Surface object representing the tractor's image.\n",
    "\n",
    "    Methods:\n",
    "        draw(win): Draws the tractor on the given Pygame window at its current position.\n",
    "        move_to(position): Updates the tractor's row and column to a new position.\n",
    "\n",
    "    Example:\n",
    "        >>> tractor = Tractor(3, 4, 'red')\n",
    "        >>> tractor.move_to((5, 6))\n",
    "        >>> tractor.draw(pygame_window)\n",
    "    \"\"\"\n",
    "\n",
    "    def __init__(self, row, col, tractor_colour):\n",
    "        self.row = row\n",
    "        self.col = col\n",
    "        self.border_offset = 2\n",
    "        self.tractor_colour = tractor_colour\n",
    "        # Load the tractor image based on the specified colour\n",
    "        self.tractor_image = pygame.image.load(f'assets/{tractor_colour}_tractor_12x12.png')\n",
    "\n",
    "    def draw(self, win):\n",
    "        # Adjust position to include border offset\n",
    "        x = (self.col + self.border_offset) * TILE_SIZE + (TILE_SIZE - TRACTOR_SIZE) // 2\n",
    "        y = (self.row + self.border_offset) * TILE_SIZE + (TILE_SIZE - TRACTOR_SIZE) // 2\n",
    "        # Draw the tractor image\n",
    "        win.blit(self.tractor_image, (x, y))\n",
    "\n",
    "    def move_to(self, position):\n",
    "        self.row, self.col = position\n",
    "\n",
    "class Button:\n",
    "    \"\"\"\n",
    "    Represents a button in a Pygame application.\n",
    "\n",
    "    This class creates a button that can be drawn on a Pygame window. \n",
    "    The button's position and size are defined upon creation. \n",
    "    The class also provides functionality to check whether the button has been clicked, \n",
    "    based on the mouse position.\n",
    "\n",
    "    Attributes:\n",
    "        rect (Rect): A Pygame Rect object representing the button's position and size.\n",
    "        text (str): The text displayed on the button.\n",
    "\n",
    "    Methods:\n",
    "        draw(screen): Draws the button on the given Pygame screen, including the text.\n",
    "        is_clicked(pos): Determines if the button is clicked, given the mouse position.\n",
    "\n",
    "    Example:\n",
    "        >>> button = Button(100, 150, 200, 50, 'Start')\n",
    "        >>> button.draw(pygame_screen)\n",
    "        >>> if button.is_clicked(pygame.mouse.get_pos()):\n",
    "        >>>     print(\"Button clicked!\")\n",
    "    \"\"\"   \n",
    "\n",
    "    def __init__(self, x, y, width, height, text):\n",
    "        self.rect = pygame.Rect(x, y, width, height)\n",
    "        self.text = text\n",
    "\n",
    "    def draw(self, screen):\n",
    "        # Draw the button\n",
    "        pygame.draw.rect(screen, (59, 130, 246), self.rect)\n",
    "        font = pygame.font.Font(None, 30)\n",
    "        text_surf = font.render(self.text, True, (255, 255, 255))\n",
    "        text_rect = text_surf.get_rect(center=self.rect.center)\n",
    "        screen.blit(text_surf, text_rect)\n",
    "\n",
    "    def is_clicked(self, pos):\n",
    "        return self.rect.collidepoint(pos)\n",
    "    \n",
    "#Function declarations\n",
    "\n",
    "def get_tile_by_name(tileset, name, tile_width, tile_height):\n",
    "    \"\"\"\n",
    "    Extracts a specific tile image from a larger tileset based on a descriptive name.\n",
    "\n",
    "    This function locates the tile within the tileset using a predefined dictionary of tile names and their corresponding coordinates. It then creates and returns an image of the specified tile.\n",
    "\n",
    "    Parameters:\n",
    "        tileset (Surface): The Pygame Surface object representing the entire tileset image.\n",
    "        name (str): The descriptive name of the tile to be extracted.\n",
    "        tile_width (int): The width of each individual tile in the tileset.\n",
    "        tile_height (int): The height of each individual tile in the tileset.\n",
    "\n",
    "    Returns:\n",
    "        Surface: A Pygame Surface object representing the extracted tile image.\n",
    "\n",
    "    Example:\n",
    "        >>> tile_image = get_tile_by_name(my_tileset, 'grass', 32, 32)\n",
    "    \"\"\"\n",
    "    \n",
    "    x, y = reversed_tile_names[name]\n",
    "    rect = pygame.Rect(x * tile_width, y * tile_height, tile_width, tile_height)\n",
    "    image = pygame.Surface(rect.size, pygame.SRCALPHA).convert_alpha()\n",
    "    image.blit(tileset, (0, 0), rect)\n",
    "    return image\n",
    "\n",
    "def render_tile(screen, tile_name, x, y, tileset):\n",
    "    \"\"\"\n",
    "    Renders a single tile on the screen at a specified location.\n",
    "\n",
    "    If a tile name is provided, the function extracts the corresponding tile image from the tileset and displays it at the specified (x, y) coordinates on the screen.\n",
    "\n",
    "    Parameters:\n",
    "        screen (Surface): The Pygame Surface object representing the screen where the tile will be rendered.\n",
    "        tile_name (str): The descriptive name of the tile to be rendered.\n",
    "        x (int): The x-coordinate on the screen where the tile will be placed.\n",
    "        y (int): The y-coordinate on the screen where the tile will be placed.\n",
    "        tileset (Surface): The Pygame Surface object representing the entire tileset image.\n",
    "\n",
    "    Example:\n",
    "        >>> render_tile(game_screen, 'soil', 5, 5, my_tileset)\n",
    "    \"\"\"\n",
    "\n",
    "    if tile_name:  # If there's a tile name present\n",
    "        tile_image = get_tile_by_name(tileset, tile_name, TILE_SIZE, TILE_SIZE)\n",
    "        screen.blit(tile_image, (x * TILE_SIZE, y * TILE_SIZE))\n",
    "\n",
    "def start_tractor(field):\n",
    "    \"\"\"\n",
    "    initialises a tractor and calculates its movements based on the provided field.\n",
    "\n",
    "    The function creates a Tractor object with a starting position within the ploughable area of the field. It then determines the tractor's movement path by executing a student-defined function.\n",
    "\n",
    "    Parameters:\n",
    "        field (list): A 2D list representing the field layout.\n",
    "\n",
    "    Returns:\n",
    "        tuple: A tuple containing the Tractor object and a list of all movements it should make.\n",
    "\n",
    "    Example:\n",
    "        >>> tractor, movements = start_tractor(my_field)\n",
    "    \"\"\"  \n",
    "\n",
    "    # Starting position within the ploughable area\n",
    "    tractor = Tractor(2, 2, tractor_colour)  # No need to offset by border size anymore\n",
    "    plough_movements = student_function(field)\n",
    "    all_movements = plough_movements\n",
    "    return tractor, all_movements\n",
    "\n",
    "def render_score(screen, score, x, y):\n",
    "    \"\"\"\n",
    "    Renders the current score on the screen at the specified location.\n",
    "\n",
    "    This function displays the score on the screen using Pygame's font rendering system. The score is displayed at the given (x, y) coordinates.\n",
    "\n",
    "    Parameters:\n",
    "        screen (Surface): The Pygame Surface object representing the screen where the score will be rendered.\n",
    "        score (int): The current score to be displayed.\n",
    "        x (int): The x-coordinate on the screen where the score will be displayed.\n",
    "        y (int): The y-coordinate on the screen where the score will be displayed.\n",
    "\n",
    "    Example:\n",
    "        >>> render_score(game_screen, 100, 10, 10)\n",
    "    \"\"\"\n",
    "\n",
    "    font = pygame.font.Font(None, 36)\n",
    "    text = font.render(f\"Score: {score}\", True, (0, 0, 0))\n",
    "    screen.blit(text, (x, y))\n",
    "\n",
    "def print_field(field):\n",
    "    \"\"\"\n",
    "    Prints the current status of the field in a readable format as a list of lists inside another list.\n",
    "    \n",
    "    :param field: Field object\n",
    "    \"\"\"\n",
    "\n",
    "    truncated_layout = field.get_truncated_layout()\n",
    "    for i, row in enumerate(truncated_layout):\n",
    "        row_str = ', '.join([cell.replace('soil1', 'soil').replace('soil2', 'soil').replace('soil3', 'soil') for cell in row])\n",
    "        if i == 0:\n",
    "            print(f\"[[{row_str}],\")\n",
    "        elif i == len(truncated_layout) - 1:\n",
    "            print(f\" [{row_str}]]\")\n",
    "        else:\n",
    "            print(f\" [{row_str}],\")\n",
    "\n",
    "def print_movement(field):\n",
    "    \"\"\"\n",
    "    This function abstracts the field and function calls\n",
    "    \"\"\"\n",
    "    print(student_function(field.get_truncated_layout()))\n",
    "    \n",
    "def student_function(field):\n",
    "    \"\"\"\n",
    "    This function is a dummy student function to init the first time.\n",
    "    \"\"\"\n",
    "    plough_movements = []\n",
    "    for row in range(len(field)):\n",
    "        plough_movements.append((row, 0))\n",
    "    return plough_movements\n",
    "\n",
    "#MAIN CODE\n",
    "\n",
    "logging.basicConfig(level=logging.INFO, format='%(asctime)s - %(levelname)s - %(message)s')\n",
    "\n",
    "# Initialise Pygame\n",
    "pygame.init()\n",
    "\n",
    "# Define the tile names and their corresponding positions in the tileset image\n",
    "tile_names = {\n",
    "    (0, 0): \"soil_top_left\", (2, 0): \"soil_top_right\",\n",
    "    #(3, 0): \"diag_tl__br\", (4, 0): \"diag_bl_tr\", \n",
    "    (5, 0): \"soil1\", (6, 0): \"soil2\", (7, 0): \"soil3\",\n",
    "    (0, 1): \"soil_left\", (1, 1): \"grass\", (2, 1): \"soil_right\", (3, 1): \"soil_bottom_right\", (4, 1): \"soil_bottom_left\", (6, 1): \"soil_top_left\", (7, 1): \"soil_top_right\", (8, 1): \"soil_top\", #(10, 1): \"soil_left\", \n",
    "    (1, 2): \"soil_bottom\"\n",
    "    # Note that positions with empty strings are omitted\n",
    "}\n",
    "# Reverse the mapping to get positions from names\n",
    "reversed_tile_names = {v: k for k, v in tile_names.items()}\n",
    "\n",
    "# Load the darker soil tile\n",
    "darker_soil_tile = pygame.image.load('assets/soil_tile_darker.png')\n",
    "\n",
    "# Instantiate the field\n",
    "field = Field(field_width + 2, field_height + 2)\n",
    "field_layout = field.get_truncated_layout()\n",
    "movement_list = student_function(field.get_truncated_layout())\n",
    "\n",
    "#This is the main game code that is executed when we run: if __name__ == \"__main__\": main()\n",
    "def main():\n",
    "    global movement_list\n",
    "    pygame.init()\n",
    "    clock = pygame.time.Clock()\n",
    "\n",
    "    # Load the tileset image\n",
    "    tileset = pygame.image.load('assets/free.png')  # Replace with the actual path to your tileset image\n",
    "    eai_image = pygame.image.load('assets/EAI_Blue_Dark.png')\n",
    "\n",
    "    # Scale down the EAI image\n",
    "    scale_factor = 0.3  # Example scale factor\n",
    "    scaled_eai_width = int(eai_image.get_width() * scale_factor)\n",
    "    scaled_eai_height = int(eai_image.get_height() * scale_factor)\n",
    "    eai_image = pygame.transform.scale(eai_image, (scaled_eai_width, scaled_eai_height))\n",
    "\n",
    "    # Initialise variables\n",
    "    tractor = None\n",
    "    current_movement_list = []\n",
    "    movement_index = 0\n",
    "    tractor_active = False\n",
    "    score = 0\n",
    "    score_shift = 15\n",
    "\n",
    "    # Calculate the display size (including UI)\n",
    "    rows, cols = len(field.layout) - 4, len(field.layout[0]) - 4\n",
    "    display_width = TILE_SIZE * (cols + 4) + UI_WIDTH\n",
    "    display_height = TILE_SIZE * (rows + 4)\n",
    "    if display_height < 400:\n",
    "        display_height = 400\n",
    "    screen = pygame.display.set_mode((display_width, display_height))\n",
    "\n",
    "    ui_center_x = TILE_SIZE * cols + (UI_WIDTH // 2)\n",
    "\n",
    "    # Initialise buttons\n",
    "    button_width, button_height = 100, 50\n",
    "    start_button = Button(ui_center_x + 13, 100, button_width, button_height, \"Start\")\n",
    "    stop_button = Button(ui_center_x + 13, 200, button_width, button_height, \"Stop\")\n",
    "\n",
    "    # Position for the EAI image\n",
    "    eai_image_x = ui_center_x + 60 - scaled_eai_width // 2\n",
    "    eai_image_y = 10\n",
    "\n",
    "    # Main game loop\n",
    "    running = True\n",
    "    while running:\n",
    "        for event in pygame.event.get():\n",
    "            if event.type == pygame.QUIT:\n",
    "                running = False\n",
    "            elif event.type == pygame.MOUSEBUTTONDOWN:\n",
    "                if start_button.is_clicked(event.pos):\n",
    "                    print(\"Starting Tractor\")\n",
    "                    tractor, current_movement_list = start_tractor(field.get_truncated_layout())\n",
    "                    movement_index = 0\n",
    "                    tractor_active = True\n",
    "                elif stop_button.is_clicked(event.pos):\n",
    "                    print(\"Stop button clicked\")\n",
    "                    running = False\n",
    "\n",
    "        screen.fill(WHITE)  # Clear the screen\n",
    "\n",
    "        # Draw the EAI image at the top\n",
    "        screen.blit(eai_image, (eai_image_x, eai_image_y))\n",
    "\n",
    "        # Draw the buttons\n",
    "        start_button.draw(screen)\n",
    "        stop_button.draw(screen)\n",
    "\n",
    "        # Render the field\n",
    "        field.render(screen, tileset)\n",
    "\n",
    "        # Render score\n",
    "        render_score(screen, score, ui_center_x + score_shift, 300)\n",
    "\n",
    "        # Animate tractor movement\n",
    "        if tractor_active and tractor:\n",
    "            if movement_index < len(current_movement_list):\n",
    "                # Move the tractor\n",
    "                prev_position = tractor.row, tractor.col\n",
    "                next_position = current_movement_list[movement_index]\n",
    "                tractor.move_to(next_position)\n",
    "\n",
    "                # Plough the field at the tractor's new position\n",
    "                field.plough_field(next_position[0], next_position[1])\n",
    "\n",
    "                # Update score\n",
    "                score += 1\n",
    "                if next_position[0] != prev_position[0]:\n",
    "                    if (next_position[0] % 2 == 0 and next_position[1] != 0) or \\\n",
    "                    (next_position[0] % 2 == 1 and next_position[1] != len(field.get_truncated_layout()[0]) - 1):\n",
    "                        score += 20  # Apply penalty\n",
    "                \n",
    "                movement_index += 1\n",
    "            else:\n",
    "                tractor_active = False\n",
    "\n",
    "        # Draw the tractor at its current position\n",
    "        if tractor:\n",
    "            tractor.draw(screen)\n",
    "\n",
    "        pygame.display.flip()\n",
    "        clock.tick(simulation_speed)\n",
    "\n",
    "    pygame.quit()"
   ]
  },
  {
   "cell_type": "markdown",
   "id": "291b6595",
   "metadata": {},
   "source": [
    "> ⚠️ If we get any errors after running the cell above, we have to make sure we have installed `Pygame`, and extracted all of the files in the `asset` folder."
   ]
  },
  {
   "cell_type": "markdown",
   "id": "6c7b9401",
   "metadata": {},
   "source": [
    "Next up are some parameters we can change. \n",
    "\n",
    "- If we run the simulation and the `Pygame` screen is too large, we can reduce the `field_height` and `field_width` parameters. \n",
    "\n",
    "- If the simulation is slowing our computers down, decrease the `simulation_speed`\n",
    "\n",
    "- Finally, we have several options to customise our tractors. `tractor_colour` specifies which colour we want, and the options are:\n",
    "\n",
    " `['blue', 'green', 'orange', 'pink', 'purple', 'red']`\n",
    " \n",
    "Simply change the string below to one of these options.\n"
   ]
  },
  {
   "cell_type": "code",
   "execution_count": 3,
   "id": "526bcbcc",
   "metadata": {},
   "outputs": [],
   "source": [
    "simulation_speed = 40\n",
    "tractor_colour = 'pink'\n",
    "field_height = 5 # min 1\n",
    "field_width =  5 # min 1"
   ]
  },
  {
   "cell_type": "markdown",
   "id": "36143340",
   "metadata": {},
   "source": [
    "## Creating a digital field\n",
    "\n",
    "As we continue our journey in creating a digital twin for Maji Ndogo's agriculture, we now focus on a crucial aspect: programming the movement of our virtual tractor across a field. \n",
    "\n",
    "We can represent a field as cells:\n",
    "\n",
    "<div align=\"center\" style=\"font-size: 80%; text-align: center; margin: 0 auto\">\n",
    "  <figure>\n",
    "    <img src=\"https://github.com/Explore-AI/Pictures/blob/master/alx_ds_python/Code_challenges/Field.png?raw=true\"\n",
    "         style=\"display: block; margin-left: auto; margin-right: auto; width: 25%; height: auto;\"/>\n",
    "    <figcaption>Figure 1: Representing a field digitally</figcaption>\n",
    "  </figure>\n",
    "</div>\n",
    "\n",
    "The field above is 5x5, meaning it has a width of 5 and a height of 5 cells. To digitally represent the field, each cell can be a string `'soil'`, and all of the strings can be placed in a list to make a row in the field, `['soil', 'soil', 'soil', 'soil', 'soil']`.  If we then nest these in another list, we can represent the field as a list of lists:"
   ]
  },
  {
   "cell_type": "code",
   "execution_count": 4,
   "id": "fd359ab4",
   "metadata": {},
   "outputs": [],
   "source": [
    "field_5x5 = [\n",
    " ['soil', 'soil', 'soil', 'soil', 'soil'],\n",
    " ['soil', 'soil', 'soil', 'soil', 'soil'],\n",
    " ['soil', 'soil', 'soil', 'soil', 'soil'],\n",
    " ['soil', 'soil', 'soil', 'soil', 'soil'],\n",
    " ['soil', 'soil', 'soil', 'soil', 'soil'],\n",
    "]"
   ]
  },
  {
   "cell_type": "markdown",
   "id": "14ada285",
   "metadata": {},
   "source": [
    "To create a field in this code challenge, we can use the command `field = Field(field_width + 2, field_height + 2)` with `field_height = 10`\n",
    "`field_width =  5`, we will create a nested list of lists where each row represents the width of the field, and all of the rows combined give the height. \n",
    "\n",
    "If we print out the field with the command `print_field(field)` we can see that each element in the list is a string, `soil`."
   ]
  },
  {
   "cell_type": "code",
   "execution_count": 5,
   "id": "b93c189c",
   "metadata": {},
   "outputs": [
    {
     "name": "stdout",
     "output_type": "stream",
     "text": [
      "[[soil, soil, soil, soil, soil],\n",
      " [soil, soil, soil, soil, soil],\n",
      " [soil, soil, soil, soil, soil],\n",
      " [soil, soil, soil, soil, soil],\n",
      " [soil, soil, soil, soil, soil],\n",
      " [soil, soil, soil, soil, soil],\n",
      " [soil, soil, soil, soil, soil],\n",
      " [soil, soil, soil, soil, soil],\n",
      " [soil, soil, soil, soil, soil],\n",
      " [soil, soil, soil, soil, soil]]\n"
     ]
    }
   ],
   "source": [
    "field_height = 10\n",
    "field_width =  5\n",
    "\n",
    "field = Field(field_width + 2, field_height + 2) # We create a new field with this line that is two tiles wider than the values we gave, which makes room for some grass.\n",
    "print_field(field)"
   ]
  },
  {
   "cell_type": "markdown",
   "id": "a4be630c",
   "metadata": {},
   "source": [
    "We can change the field dimensions by altering the field's parameters."
   ]
  },
  {
   "cell_type": "code",
   "execution_count": 6,
   "id": "91bea2b2",
   "metadata": {},
   "outputs": [
    {
     "name": "stdout",
     "output_type": "stream",
     "text": [
      "[[soil, soil, soil, soil, soil, soil],\n",
      " [soil, soil, soil, soil, soil, soil],\n",
      " [soil, soil, soil, soil, soil, soil],\n",
      " [soil, soil, soil, soil, soil, soil],\n",
      " [soil, soil, soil, soil, soil, soil]]\n"
     ]
    }
   ],
   "source": [
    "field_height = 5\n",
    "field_width =  6\n",
    "\n",
    "field = Field(field_width + 2, field_height + 2)\n",
    "print_field(field)"
   ]
  },
  {
   "cell_type": "markdown",
   "id": "7a9073d0",
   "metadata": {},
   "source": [
    "Now the field is 6x5."
   ]
  },
  {
   "cell_type": "markdown",
   "id": "732229a0",
   "metadata": {},
   "source": [
    "## Moving through our digital field\n",
    "\n",
    "We can control the movement of the tractor in the field using `student_function()`. This function takes a field in the format above as input and creates a list of coordinates as output where the tractor should move to called `plough_movements`.\n",
    "\n",
    "In the example below, the function takes in a 5x5 `field`, and moves through the first row of the field (`field[0]`). `student_function()` returns a list of `plough_movements` which are tuples of the indexes of the field to where the tractor should move `(col, row)`."
   ]
  },
  {
   "cell_type": "code",
   "execution_count": 7,
   "id": "4993416b",
   "metadata": {},
   "outputs": [
    {
     "name": "stdout",
     "output_type": "stream",
     "text": [
      "[[soil, soil, soil, soil, soil],\n",
      " [soil, soil, soil, soil, soil],\n",
      " [soil, soil, soil, soil, soil],\n",
      " [soil, soil, soil, soil, soil],\n",
      " [soil, soil, soil, soil, soil]]\n",
      "[(0, 0), (0, 1), (0, 2), (0, 3), (0, 4)]\n"
     ]
    }
   ],
   "source": [
    "field_height = 5\n",
    "field_width =  5\n",
    "\n",
    "field = Field(field_width + 2, field_height + 2)\n",
    "print_field(field)\n",
    "\n",
    "def student_function(field):\n",
    "    # Example function - we will write our own functions\n",
    "    plough_movements = []\n",
    "    for row in range(len(field[0])): # Create a list of length of field[0]\n",
    "        plough_movements.append((0,row))\n",
    "\n",
    "    return plough_movements\n",
    "\n",
    "print_movement(field)"
   ]
  },
  {
   "cell_type": "markdown",
   "id": "3306c5ec",
   "metadata": {},
   "source": [
    "**Note:** This function loops through the indexes from `0` to `range(len(field[0]))` - the length of the row (`[0, 1, 2, 3, 4]`). For each element in the row, we append the `plough_movements` list with a tuple, `(row, col)`.\n",
    "\n",
    "The output, `[(0, 0), (0, 1), (0, 2), (0, 3), (0, 4)]`, means that the tractor starts at `(0, 0)` (always top left), then moves to position `(0, 1)`, which is to the right, until it gets to `(0, 4)`. \n",
    "\n",
    "<div align=\"center\" style=\"font-size: 80%; text-align: center; margin: 0 auto\">\n",
    "  <figure>\n",
    "    <img src=\"https://github.com/Explore-AI/Pictures/blob/master/alx_ds_python/Code_challenges/Field_plough_single.png?raw=true\"\n",
    "         style=\"display: block; margin-left: auto; margin-right: auto; width: 20%; height: auto;\"/>\n",
    "    <figcaption>Figure 2: Ploughing the first row</figcaption>\n",
    "  </figure>\n",
    "</div>\n",
    "\n",
    "\n"
   ]
  },
  {
   "cell_type": "markdown",
   "id": "c2ac5df2",
   "metadata": {},
   "source": [
    "We can run the simulation by executing the cell below. A new window should pop up, and if we click on `Start`, the tractor will plough the first row. To stop the tractor, click on `Stop`.\n",
    "\n",
    "Running the code below should open a new window, sometimes in the background, so if no window appears, look for it on your taskbar."
   ]
  },
  {
   "cell_type": "code",
   "execution_count": 8,
   "id": "eb4aae8a",
   "metadata": {},
   "outputs": [
    {
     "name": "stdout",
     "output_type": "stream",
     "text": [
      "Starting Tractor\n",
      "Stop button clicked\n"
     ]
    }
   ],
   "source": [
    "field = Field(field_width + 2, field_height + 2)\n",
    "\n",
    "if __name__ == \"__main__\":\n",
    "    main()"
   ]
  },
  {
   "cell_type": "markdown",
   "id": "88522c4a",
   "metadata": {},
   "source": [
    "If we wanted to plough only the second row, we could use the column index, 1:"
   ]
  },
  {
   "cell_type": "code",
   "execution_count": 9,
   "id": "1cc8287b",
   "metadata": {},
   "outputs": [
    {
     "name": "stdout",
     "output_type": "stream",
     "text": [
      "[(1, 0), (1, 1), (1, 2), (1, 3), (1, 4)]\n"
     ]
    }
   ],
   "source": [
    "def student_function(field):\n",
    "    plough_movements = []\n",
    "    for row in range(len(field[1])):\n",
    "        plough_movements.append((1,row))\n",
    "    return plough_movements\n",
    "\n",
    "print_movement(field)"
   ]
  },
  {
   "cell_type": "markdown",
   "id": "c14c0bc6",
   "metadata": {},
   "source": [
    "If we run simulation again:"
   ]
  },
  {
   "cell_type": "code",
   "execution_count": 10,
   "id": "77b97525",
   "metadata": {},
   "outputs": [
    {
     "name": "stdout",
     "output_type": "stream",
     "text": [
      "Starting Tractor\n",
      "Stop button clicked\n"
     ]
    }
   ],
   "source": [
    "field = Field(field_width + 2, field_height + 2)\n",
    "\n",
    "if __name__ == \"__main__\":\n",
    "    main()"
   ]
  },
  {
   "cell_type": "markdown",
   "id": "c9b26635",
   "metadata": {},
   "source": [
    "We can see the tractor only ploughs the second row, index 1.\n",
    "\n",
    "<br>"
   ]
  },
  {
   "cell_type": "markdown",
   "id": "0d50a708",
   "metadata": {},
   "source": [
    "Of course we want to plough the whole field, so we can use a nested loop to do that. If we add an outer loop to the one we have, we can loop through the rows, one by one, and for each row, plough the field."
   ]
  },
  {
   "cell_type": "markdown",
   "id": "d9c9c575",
   "metadata": {},
   "source": [
    "## Challenge 1: Plough the whole field"
   ]
  },
  {
   "cell_type": "markdown",
   "id": "f25155d6",
   "metadata": {},
   "source": [
    "Your task is to write a function `student_function()` that takes the field as input and returns a list of coordinates in tuple format. The coordinates should represent the series of movements the tractor should make.\n",
    "\n",
    "Rearrange the code below to make the tractor plough the entire field, row by row."
   ]
  },
  {
   "cell_type": "markdown",
   "id": "eb126fc6",
   "metadata": {},
   "source": [
    "### Answer"
   ]
  },
  {
   "cell_type": "code",
   "execution_count": 12,
   "id": "9fc4d6a9",
   "metadata": {},
   "outputs": [],
   "source": [
    "def student_function(field):\n",
    "    plough_movements = []\n",
    "    \n",
    "    for col in range(len(field)):\n",
    "        for row in range(len(field[col])):\n",
    "            plough_movements.append((col, row))\n",
    "    return plough_movements\n"
   ]
  },
  {
   "cell_type": "markdown",
   "id": "559167de",
   "metadata": {},
   "source": [
    "### Expected outputs"
   ]
  },
  {
   "cell_type": "markdown",
   "id": "22bf4519",
   "metadata": {},
   "source": [
    "**Input 1:**"
   ]
  },
  {
   "cell_type": "code",
   "execution_count": 13,
   "id": "5d60d60b",
   "metadata": {},
   "outputs": [
    {
     "data": {
      "text/plain": [
       "[(0, 0),\n",
       " (0, 1),\n",
       " (0, 2),\n",
       " (0, 3),\n",
       " (0, 4),\n",
       " (1, 0),\n",
       " (1, 1),\n",
       " (1, 2),\n",
       " (1, 3),\n",
       " (1, 4),\n",
       " (2, 0),\n",
       " (2, 1),\n",
       " (2, 2),\n",
       " (2, 3),\n",
       " (2, 4),\n",
       " (3, 0),\n",
       " (3, 1),\n",
       " (3, 2),\n",
       " (3, 3),\n",
       " (3, 4),\n",
       " (4, 0),\n",
       " (4, 1),\n",
       " (4, 2),\n",
       " (4, 3),\n",
       " (4, 4),\n",
       " (5, 0),\n",
       " (5, 1),\n",
       " (5, 2),\n",
       " (5, 3),\n",
       " (5, 4),\n",
       " (6, 0),\n",
       " (6, 1),\n",
       " (6, 2),\n",
       " (6, 3),\n",
       " (6, 4),\n",
       " (7, 0),\n",
       " (7, 1),\n",
       " (7, 2),\n",
       " (7, 3),\n",
       " (7, 4),\n",
       " (8, 0),\n",
       " (8, 1),\n",
       " (8, 2),\n",
       " (8, 3),\n",
       " (8, 4),\n",
       " (9, 0),\n",
       " (9, 1),\n",
       " (9, 2),\n",
       " (9, 3),\n",
       " (9, 4)]"
      ]
     },
     "execution_count": 13,
     "metadata": {},
     "output_type": "execute_result"
    }
   ],
   "source": [
    "# soil1, soil2 and soil3 are used to draw variations of a soil tile in Pygame. They have no meaning to our code.\n",
    "\n",
    "field_standard = [\n",
    "    ['soil3', 'soil3', 'soil1', 'soil2', 'soil2'],  \n",
    "    ['soil2', 'soil3', 'soil2', 'soil1', 'soil3'],\n",
    "    ['soil2', 'soil3', 'soil1', 'soil3', 'soil3'],\n",
    "    ['soil3', 'soil2', 'soil3', 'soil3', 'soil2'],\n",
    "    ['soil3', 'soil2', 'soil1', 'soil3', 'soil2'],\n",
    "    ['soil2', 'soil3', 'soil3', 'soil1', 'soil3'],\n",
    "    ['soil3', 'soil1', 'soil3', 'soil2', 'soil2'],\n",
    "    ['soil2', 'soil1', 'soil2', 'soil2', 'soil1'],\n",
    "    ['soil1', 'soil1', 'soil3', 'soil2', 'soil3'],\n",
    "    ['soil3', 'soil3', 'soil3', 'soil1', 'soil1']\n",
    "]\n",
    "\n",
    "student_function(field_standard)"
   ]
  },
  {
   "cell_type": "markdown",
   "id": "3cfb244a",
   "metadata": {},
   "source": [
    "**Output:** \n",
    "\n",
    "`[(0, 0), (0, 1), (0, 2), (0, 3), (0, 4), (1, 0), (1, 1), (1, 2), (1, 3), (1, 4), (2, 0), (2, 1), (2, 2), (2, 3), (2, 4), (3, 0), (3, 1), (3, 2), (3, 3), (3, 4), (4, 0), (4, 1), (4, 2), (4, 3), (4, 4), (5, 0), (5, 1), (5, 2), (5, 3), (5, 4), (6, 0), (6, 1), (6, 2), (6, 3), (6, 4), (7, 0), (7, 1), (7, 2), (7, 3), (7, 4), (8, 0), (8, 1), (8, 2), (8, 3), (8, 4), (9, 0), (9, 1), (9, 2), (9, 3), (9, 4)]`\n",
    "\n",
    "<br>\n"
   ]
  },
  {
   "cell_type": "markdown",
   "id": "f2767ed5",
   "metadata": {},
   "source": [
    "**Input 2:**"
   ]
  },
  {
   "cell_type": "code",
   "execution_count": 14,
   "id": "5b65a05a",
   "metadata": {},
   "outputs": [
    {
     "data": {
      "text/plain": [
       "[(0, 0),\n",
       " (0, 1),\n",
       " (0, 2),\n",
       " (0, 3),\n",
       " (0, 4),\n",
       " (0, 5),\n",
       " (0, 6),\n",
       " (0, 7),\n",
       " (0, 8),\n",
       " (0, 9),\n",
       " (0, 10),\n",
       " (0, 11),\n",
       " (0, 12),\n",
       " (0, 13),\n",
       " (0, 14),\n",
       " (1, 0),\n",
       " (1, 1),\n",
       " (1, 2),\n",
       " (1, 3),\n",
       " (1, 4),\n",
       " (1, 5),\n",
       " (1, 6)]"
      ]
     },
     "execution_count": 14,
     "metadata": {},
     "output_type": "execute_result"
    }
   ],
   "source": [
    "field_wide = [\n",
    "    ['soil3', 'soil3', 'soil1', 'soil2', 'soil2', 'soil3', 'soil3', 'soil1', 'soil2', 'soil2', 'soil3', 'soil3', 'soil1', 'soil2', 'soil2'],\n",
    "    ['soil3', 'soil3', 'soil1', 'soil2','soil2', 'soil3', 'soil3']\n",
    "]\n",
    "\n",
    "student_function(field_wide)"
   ]
  },
  {
   "cell_type": "markdown",
   "id": "0af38b9e",
   "metadata": {},
   "source": [
    "**Output:** \n",
    "\n",
    "`[(0, 0), (0, 1), (0, 2), (0, 3), (0, 4), (0, 5), (0, 6), (0, 7), (0, 8), (0, 9), (0, 10), (0, 11), (0, 12), (0, 13), (0, 14), (1, 0), (1, 1), (1, 2), (1, 3), (1, 4), (1, 5), (1, 6)]`"
   ]
  },
  {
   "cell_type": "markdown",
   "id": "9900c20a",
   "metadata": {},
   "source": [
    "### Simulation"
   ]
  },
  {
   "cell_type": "markdown",
   "id": "2202892e",
   "metadata": {},
   "source": [
    "If our code gives the correct outputs, we can run the simulation to see if the tractor did what we expected. We should see the tractor moving from left to right, row by row until it reaches the last cell. This is what the loop is doing too. Each cell in a row is ploughed, one by one, row by row. "
   ]
  },
  {
   "cell_type": "code",
   "execution_count": 16,
   "id": "38e421d1",
   "metadata": {},
   "outputs": [
    {
     "name": "stdout",
     "output_type": "stream",
     "text": [
      "Starting Tractor\n",
      "Starting Tractor\n",
      "Starting Tractor\n",
      "Starting Tractor\n",
      "Starting Tractor\n",
      "Stop button clicked\n"
     ]
    }
   ],
   "source": [
    "field = Field(field_width + 2, field_height + 2)\n",
    "\n",
    "if __name__ == \"__main__\":\n",
    "    main()"
   ]
  },
  {
   "cell_type": "markdown",
   "id": "506cf8be",
   "metadata": {},
   "source": [
    "Before contiunuing, make sure to understand how the student function was able to create the output."
   ]
  },
  {
   "cell_type": "markdown",
   "id": "f26cf4e0",
   "metadata": {},
   "source": [
    "## Challenge 2: Turning the tractor around\n",
    "\n",
    "Tractors in real fields don't just move in one direction like this:\n",
    "\n",
    "<div align=\"center\" style=\"font-size: 80%; text-align: center; margin: 0 auto\">\n",
    "  <figure>\n",
    "    <img src=\"https://github.com/Explore-AI/Pictures/blob/master/alx_ds_python/Code_challenges/Field_plough_standard.png?raw=true\"\n",
    "         style=\"display: block; margin-left: auto; margin-right: auto; width: 20%; height: auto;\"/>\n",
    "    <figcaption>Figure 3: Ploughing the whole field</figcaption>\n",
    "  </figure>\n",
    "</div>\n",
    "\n",
    "They turn around at the end of each row:\n",
    "\n",
    "<div align=\"center\" style=\"font-size: 80%; text-align: center; margin: 0 auto\">\n",
    "  <figure>\n",
    "    <img src=\"https://github.com/Explore-AI/Pictures/blob/master/alx_ds_python/Code_challenges/Field_plough_real.png?raw=true\"\n",
    "         style=\"display: block; margin-left: auto; margin-right: auto; width: 20%; height: auto;\"/>\n",
    "    <figcaption>Figure 4: Realistic tractor movements</figcaption>\n",
    "  </figure>\n",
    "</div>\n",
    "\n",
    "Let’s explore how we can recreate this behaviour digitally. To make it more challenging, we introduced a penalty to the score. If we plow a row and start a new row from the left each time(as shown in Figure 3), we receive a penalty of +20 added to the score. For each row, the score will be 5 + 20, resulting in a high score. However, if we plow the field in alternating directions, there is no penalty applied, so we can aim for a lower score.\n",
    "\n",
    "**Discussing approaches**\n",
    "- **List reversal:** For odd rows, reverse the order of columns traversed.\n",
    "- **If-Else condition:** We can use if-else conditions to change the direction of movement based on whether the row number is even or odd."
   ]
  },
  {
   "cell_type": "markdown",
   "id": "e4f07a97",
   "metadata": {},
   "source": [
    "So let's start with creating a function that will take a list, reverse the order, and return a list. This is a very common task in programming, so search around to find out how to do this."
   ]
  },
  {
   "cell_type": "markdown",
   "id": "0b095fde",
   "metadata": {},
   "source": [
    "### Answer"
   ]
  },
  {
   "cell_type": "code",
   "execution_count": 17,
   "id": "21748c7c",
   "metadata": {},
   "outputs": [],
   "source": [
    "def reverse_list(input_list):\n",
    "    input_list.reverse()\n",
    "    return input_list"
   ]
  },
  {
   "cell_type": "markdown",
   "id": "8b0b38d5",
   "metadata": {},
   "source": [
    "### Expected outputs"
   ]
  },
  {
   "cell_type": "markdown",
   "id": "7d861d96",
   "metadata": {},
   "source": [
    "**Input 1:**"
   ]
  },
  {
   "cell_type": "code",
   "execution_count": 18,
   "id": "1db31326",
   "metadata": {},
   "outputs": [
    {
     "data": {
      "text/plain": [
       "[4, 3, 2, 1, 0]"
      ]
     },
     "execution_count": 18,
     "metadata": {},
     "output_type": "execute_result"
    }
   ],
   "source": [
    "current_row = [0, 1, 2, 3, 4]\n",
    "\n",
    "reverse_list(current_row)"
   ]
  },
  {
   "cell_type": "markdown",
   "id": "d2917b51",
   "metadata": {},
   "source": [
    "**Output:**\n",
    "\n",
    "`[4, 3, 2, 1, 0]`"
   ]
  },
  {
   "cell_type": "markdown",
   "id": "0b07a6d4",
   "metadata": {},
   "source": [
    "<br>\n",
    "\n",
    "**Input 2:**"
   ]
  },
  {
   "cell_type": "code",
   "execution_count": 19,
   "id": "ae68d074",
   "metadata": {},
   "outputs": [
    {
     "data": {
      "text/plain": [
       "[4, 0, 2, 3, 1]"
      ]
     },
     "execution_count": 19,
     "metadata": {},
     "output_type": "execute_result"
    }
   ],
   "source": [
    "current_row = [1, 3, 2, 0, 4]\n",
    "\n",
    "reverse_list(current_row)"
   ]
  },
  {
   "cell_type": "markdown",
   "id": "3e1f2a18",
   "metadata": {},
   "source": [
    "**Output:**\n",
    "\n",
    "`[4, 0, 2, 3, 1]`"
   ]
  },
  {
   "cell_type": "markdown",
   "id": "42d283bd",
   "metadata": {},
   "source": [
    "## Challenge 3: Ploughing a field realistically\n",
    "\n",
    "In this challenge, your task is to create a function that simulates the movement of a tractor across a field in the most efficient manner. The tractor should move from left to right across each row and then reverse direction for the next row. Here's how to approach it:\n",
    "\n",
    "- **Understand the field:** Recognise that the field is a nested list of lists where each element can be accessed using row and column indexes.\n",
    "\n",
    "- **Plan the path:** On even rows (0, 2, 4, ...), the tractor should move from left to right. On odd rows (1, 3, 5, ...), it should move from right to left.\n",
    "\n",
    "- **Implement the Logic:** Use loops and conditions to build the path according to the above plan.\n",
    "\n",
    "- **Reuse the `reverse_list` function:** Change the direction of the tractor by reusing code.\n",
    "\n",
    "- **Return the movements:** Your function should ultimately return a list of tuples, with each tuple representing the coordinates (row, column) of each movement.\n",
    "\n",
    "Remember, the goal is to translate a real-world problem into a digital format and solve it using programming.\n",
    "\n",
    "**Hint:** You can begin by using the `tractor_movement_standard()` as a starting point for your implementation."
   ]
  },
  {
   "cell_type": "markdown",
   "id": "342f8520",
   "metadata": {},
   "source": [
    "### Answer"
   ]
  },
  {
   "cell_type": "code",
   "execution_count": 23,
   "id": "56b561bf",
   "metadata": {},
   "outputs": [],
   "source": [
    "def student_function(field):\n",
    "    output = []\n",
    "    for field_index, field_name in enumerate(field):\n",
    "        if (0 <= field_index and field_index % 2 == 1):\n",
    "            for inner_index in range(len(field_name)-1,-1,-1):\n",
    "                output.append((field_index,inner_index))\n",
    "        else:\n",
    "            for inner_index in range(len(field_name)):\n",
    "                output.append((field_index,inner_index))\n",
    "\n",
    "    return output"
   ]
  },
  {
   "cell_type": "markdown",
   "id": "01eacd87",
   "metadata": {},
   "source": [
    "### Expected outputs"
   ]
  },
  {
   "cell_type": "markdown",
   "id": "8aa4b3e4",
   "metadata": {},
   "source": [
    "**Input 1:**"
   ]
  },
  {
   "cell_type": "code",
   "execution_count": 24,
   "id": "1ec064e4",
   "metadata": {},
   "outputs": [
    {
     "data": {
      "text/plain": [
       "[(0, 0),\n",
       " (0, 1),\n",
       " (0, 2),\n",
       " (0, 3),\n",
       " (0, 4),\n",
       " (1, 4),\n",
       " (1, 3),\n",
       " (1, 2),\n",
       " (1, 1),\n",
       " (1, 0),\n",
       " (2, 0),\n",
       " (2, 1),\n",
       " (2, 2),\n",
       " (2, 3),\n",
       " (2, 4),\n",
       " (3, 4),\n",
       " (3, 3),\n",
       " (3, 2),\n",
       " (3, 1),\n",
       " (3, 0),\n",
       " (4, 0),\n",
       " (4, 1),\n",
       " (4, 2),\n",
       " (4, 3),\n",
       " (4, 4),\n",
       " (5, 4),\n",
       " (5, 3),\n",
       " (5, 2),\n",
       " (5, 1),\n",
       " (5, 0),\n",
       " (6, 0),\n",
       " (6, 1),\n",
       " (6, 2),\n",
       " (6, 3),\n",
       " (6, 4),\n",
       " (7, 4),\n",
       " (7, 3),\n",
       " (7, 2),\n",
       " (7, 1),\n",
       " (7, 0),\n",
       " (8, 0),\n",
       " (8, 1),\n",
       " (8, 2),\n",
       " (8, 3),\n",
       " (8, 4),\n",
       " (9, 4),\n",
       " (9, 3),\n",
       " (9, 2),\n",
       " (9, 1),\n",
       " (9, 0)]"
      ]
     },
     "execution_count": 24,
     "metadata": {},
     "output_type": "execute_result"
    }
   ],
   "source": [
    "field_standard = [\n",
    "    ['soil3', 'soil3', 'soil1', 'soil2', 'soil2'],\n",
    "    ['soil2', 'soil3', 'soil2', 'soil1', 'soil3'],\n",
    "    ['soil2', 'soil3', 'soil1', 'soil3', 'soil3'],\n",
    "    ['soil3', 'soil2', 'soil3', 'soil3', 'soil2'],\n",
    "    ['soil3', 'soil2', 'soil1', 'soil3', 'soil2'],\n",
    "    ['soil2', 'soil3', 'soil3', 'soil1', 'soil3'],\n",
    "    ['soil3', 'soil1', 'soil3', 'soil2', 'soil2'],\n",
    "    ['soil2', 'soil1', 'soil2', 'soil2', 'soil1'],\n",
    "    ['soil1', 'soil1', 'soil3', 'soil2', 'soil3'],\n",
    "    ['soil3', 'soil3', 'soil3', 'soil1', 'soil1']\n",
    "]\n",
    "\n",
    "student_function(field_standard)"
   ]
  },
  {
   "cell_type": "markdown",
   "id": "0cf8dd11",
   "metadata": {},
   "source": [
    "**Output**:\n",
    "\n",
    "`[(0, 0), (0, 1), (0, 2), (0, 3), (0, 4), (1, 4), (1, 3), (1, 2), (1, 1), (1, 0), (2, 0), (2, 1), (2, 2), (2, 3), (2, 4), (3, 4), (3, 3), (3, 2), (3, 1), (3, 0), (4, 0), (4, 1), (4, 2), (4, 3), (4, 4), (5, 4), (5, 3), (5, 2), (5, 1), (5, 0), (6, 0), (6, 1), (6, 2), (6, 3), (6, 4), (7, 4), (7, 3), (7, 2), (7, 1), (7, 0), (8, 0), (8, 1), (8, 2), (8, 3), (8, 4), (9, 4), (9, 3), (9, 2), (9, 1), (9, 0)]` \n",
    "\n",
    "Note the tractor goes to the next row, but stays at index 4: `...(0, 4), (1, 4)...`"
   ]
  },
  {
   "cell_type": "markdown",
   "id": "bea49508",
   "metadata": {},
   "source": [
    "<br>\n",
    "\n",
    "**Input 2:**"
   ]
  },
  {
   "cell_type": "code",
   "execution_count": 25,
   "id": "cb9eca12",
   "metadata": {},
   "outputs": [
    {
     "data": {
      "text/plain": [
       "[(0, 0),\n",
       " (0, 1),\n",
       " (0, 2),\n",
       " (0, 3),\n",
       " (0, 4),\n",
       " (1, 4),\n",
       " (1, 3),\n",
       " (1, 2),\n",
       " (1, 1),\n",
       " (1, 0),\n",
       " (2, 0),\n",
       " (2, 1),\n",
       " (2, 2),\n",
       " (2, 3),\n",
       " (2, 4),\n",
       " (3, 4),\n",
       " (3, 3),\n",
       " (3, 2),\n",
       " (3, 1),\n",
       " (3, 0),\n",
       " (4, 0),\n",
       " (4, 1),\n",
       " (4, 2),\n",
       " (4, 3),\n",
       " (4, 4)]"
      ]
     },
     "execution_count": 25,
     "metadata": {},
     "output_type": "execute_result"
    }
   ],
   "source": [
    "field_5x5 = [\n",
    " ['soil', 'soil', 'soil', 'soil', 'soil'],\n",
    " ['soil', 'soil', 'soil', 'soil', 'soil'],\n",
    " ['soil', 'soil', 'soil', 'soil', 'soil'],\n",
    " ['soil', 'soil', 'soil', 'soil', 'soil'],\n",
    " ['soil', 'soil', 'soil', 'soil', 'soil'],\n",
    "]\n",
    "\n",
    "student_function(field_5x5)"
   ]
  },
  {
   "cell_type": "markdown",
   "id": "60e31bbf",
   "metadata": {},
   "source": [
    "**Output**:\n",
    "\n",
    "`[(0, 0), (0, 1), (0, 2), (0, 3), (0, 4), (1, 4), (1, 3), (1, 2), (1, 1), (1, 0), (2, 0), (2, 1), (2, 2), (2, 3), (2, 4), (3, 4), (3, 3), (3, 2), (3, 1), (3, 0), (4, 0), (4, 1), (4, 2), (4, 3), (4, 4)]`"
   ]
  },
  {
   "cell_type": "markdown",
   "id": "a9e9d6c6",
   "metadata": {},
   "source": [
    "Finally, increase the size of the field to 20x25 and run the simulation again to see the fruits of our hard work!"
   ]
  },
  {
   "cell_type": "code",
   "execution_count": 26,
   "id": "96f21a81",
   "metadata": {},
   "outputs": [
    {
     "name": "stdout",
     "output_type": "stream",
     "text": [
      "Starting Tractor\n",
      "Stop button clicked\n"
     ]
    }
   ],
   "source": [
    "field_height = 20\n",
    "field_width =  25\n",
    "\n",
    "field = Field(field_width + 2, field_height + 2)\n",
    "\n",
    "if __name__ == \"__main__\":\n",
    "    main()"
   ]
  },
  {
   "cell_type": "markdown",
   "id": "9f80825a",
   "metadata": {},
   "source": [
    "Remember to transfer your answers to the `GCC_Submit_loops_and_functions.ipynb` file and submit the file."
   ]
  },
  {
   "cell_type": "markdown",
   "id": "3711cb87",
   "metadata": {},
   "source": [
    "<br>"
   ]
  },
  {
   "cell_type": "markdown",
   "id": "26fd094b-0fee-46f1-a4b8-73766813c42b",
   "metadata": {
    "tags": []
   },
   "source": [
    "#  \n",
    "\n",
    "<div align=\"center\" style=\" font-size: 80%; text-align: center; margin: 0 auto\">\n",
    "<img src=\"https://raw.githubusercontent.com/Explore-AI/Pictures/master/ExploreAI_logos/EAI_Blue_Dark.png\"  style=\"width:200px\";/>\n",
    "</div>"
   ]
  }
 ],
 "metadata": {
  "kernelspec": {
   "display_name": "Python 3 (ipykernel)",
   "language": "python",
   "name": "python3"
  },
  "language_info": {
   "codemirror_mode": {
    "name": "ipython",
    "version": 3
   },
   "file_extension": ".py",
   "mimetype": "text/x-python",
   "name": "python",
   "nbconvert_exporter": "python",
   "pygments_lexer": "ipython3",
   "version": "3.11.6"
  }
 },
 "nbformat": 4,
 "nbformat_minor": 5
}
