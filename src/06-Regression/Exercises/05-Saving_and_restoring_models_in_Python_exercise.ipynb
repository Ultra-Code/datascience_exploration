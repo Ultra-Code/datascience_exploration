{
 "cells": [
  {
   "cell_type": "markdown",
   "metadata": {
    "id": "Ee-v8I_P8rfp"
   },
   "source": [
    "<div align=\"center\" style=\" font-size: 80%; text-align: center; margin: 0 auto\">\n",
    "<img src=\"https://raw.githubusercontent.com/Explore-AI/Pictures/master/Python-Notebook-Banners/Exercise.png\"  style=\"display: block; margin-left: auto; margin-right: auto;\";/>\n",
    "</div>\n",
    "\n",
    "# Exercise: Saving and restoring models in Python\n",
    "© ExploreAI Academy\n",
    "\n",
    "In this exercise, we save a trained model and restore it to make additional predictions on new inputs."
   ]
  },
  {
   "cell_type": "markdown",
   "metadata": {
    "id": "ITqrvAqq8xSC"
   },
   "source": [
    "## Learning objectives\n",
    "\n",
    "By the end of this train, you should be able to:\n",
    "\n",
    "* Use pickling to save and re-use previously trained models."
   ]
  },
  {
   "cell_type": "markdown",
   "metadata": {},
   "source": [
    "## Exercises\n",
    "\n",
    "We are provided with the `Crop_yield` dataset that contains various factors that could influence the yield of a particular crop across different regions.\n",
    "\n",
    "We are interested in how some features, namely: `Temperature`, `Rainfall`, `Fertilizer_usage`, and `Pesticide_usage` influence the yield of the crop."
   ]
  },
  {
   "cell_type": "markdown",
   "metadata": {},
   "source": [
    "### Import libraries and dataset"
   ]
  },
  {
   "cell_type": "code",
   "execution_count": 9,
   "metadata": {},
   "outputs": [],
   "source": [
    "import numpy as np\n",
    "import pandas as pd\n",
    "from sklearn.model_selection import train_test_split\n",
    "from sklearn.linear_model import LinearRegression\n",
    "from sklearn.metrics import mean_squared_error, r2_score\n",
    "import pickle\n",
    "from pathlib import Path"
   ]
  },
  {
   "cell_type": "code",
   "execution_count": 10,
   "metadata": {},
   "outputs": [
    {
     "data": {
      "text/html": [
       "<div>\n",
       "<style scoped>\n",
       "    .dataframe tbody tr th:only-of-type {\n",
       "        vertical-align: middle;\n",
       "    }\n",
       "\n",
       "    .dataframe tbody tr th {\n",
       "        vertical-align: top;\n",
       "    }\n",
       "\n",
       "    .dataframe thead th {\n",
       "        text-align: right;\n",
       "    }\n",
       "</style>\n",
       "<table border=\"1\" class=\"dataframe\">\n",
       "  <thead>\n",
       "    <tr style=\"text-align: right;\">\n",
       "      <th></th>\n",
       "      <th>Region</th>\n",
       "      <th>Temperature</th>\n",
       "      <th>Rainfall</th>\n",
       "      <th>Soil_Type</th>\n",
       "      <th>Fertilizer_Usage</th>\n",
       "      <th>Pesticide_Usage</th>\n",
       "      <th>Irrigation</th>\n",
       "      <th>Crop_Variety</th>\n",
       "      <th>Yield</th>\n",
       "    </tr>\n",
       "  </thead>\n",
       "  <tbody>\n",
       "    <tr>\n",
       "      <th>0</th>\n",
       "      <td>East</td>\n",
       "      <td>23.152156</td>\n",
       "      <td>803.362573</td>\n",
       "      <td>Clayey</td>\n",
       "      <td>204.792011</td>\n",
       "      <td>20.767590</td>\n",
       "      <td>1</td>\n",
       "      <td>Variety B</td>\n",
       "      <td>40.316318</td>\n",
       "    </tr>\n",
       "    <tr>\n",
       "      <th>1</th>\n",
       "      <td>West</td>\n",
       "      <td>19.382419</td>\n",
       "      <td>571.567670</td>\n",
       "      <td>Sandy</td>\n",
       "      <td>256.201737</td>\n",
       "      <td>49.290242</td>\n",
       "      <td>0</td>\n",
       "      <td>Variety A</td>\n",
       "      <td>26.846639</td>\n",
       "    </tr>\n",
       "    <tr>\n",
       "      <th>2</th>\n",
       "      <td>North</td>\n",
       "      <td>27.895890</td>\n",
       "      <td>-8.699637</td>\n",
       "      <td>Loamy</td>\n",
       "      <td>222.202626</td>\n",
       "      <td>25.316121</td>\n",
       "      <td>0</td>\n",
       "      <td>Variety C</td>\n",
       "      <td>-0.323558</td>\n",
       "    </tr>\n",
       "    <tr>\n",
       "      <th>3</th>\n",
       "      <td>East</td>\n",
       "      <td>26.741361</td>\n",
       "      <td>897.426194</td>\n",
       "      <td>Loamy</td>\n",
       "      <td>187.984090</td>\n",
       "      <td>17.115362</td>\n",
       "      <td>0</td>\n",
       "      <td>Variety C</td>\n",
       "      <td>45.440871</td>\n",
       "    </tr>\n",
       "    <tr>\n",
       "      <th>4</th>\n",
       "      <td>East</td>\n",
       "      <td>19.090286</td>\n",
       "      <td>649.384694</td>\n",
       "      <td>Loamy</td>\n",
       "      <td>110.459549</td>\n",
       "      <td>24.068804</td>\n",
       "      <td>1</td>\n",
       "      <td>Variety B</td>\n",
       "      <td>35.478118</td>\n",
       "    </tr>\n",
       "  </tbody>\n",
       "</table>\n",
       "</div>"
      ],
      "text/plain": [
       "  Region  Temperature    Rainfall Soil_Type  Fertilizer_Usage  \\\n",
       "0   East    23.152156  803.362573    Clayey        204.792011   \n",
       "1   West    19.382419  571.567670     Sandy        256.201737   \n",
       "2  North    27.895890   -8.699637     Loamy        222.202626   \n",
       "3   East    26.741361  897.426194     Loamy        187.984090   \n",
       "4   East    19.090286  649.384694     Loamy        110.459549   \n",
       "\n",
       "   Pesticide_Usage  Irrigation Crop_Variety      Yield  \n",
       "0        20.767590           1    Variety B  40.316318  \n",
       "1        49.290242           0    Variety A  26.846639  \n",
       "2        25.316121           0    Variety C  -0.323558  \n",
       "3        17.115362           0    Variety C  45.440871  \n",
       "4        24.068804           1    Variety B  35.478118  "
      ]
     },
     "execution_count": 10,
     "metadata": {},
     "output_type": "execute_result"
    }
   ],
   "source": [
    "# Load dataset\n",
    "df= pd.read_csv(\"https://raw.githubusercontent.com/Explore-AI/Public-Data/master/Data/Python/Crop_yield.csv\")\n",
    "df.head(5)"
   ]
  },
  {
   "cell_type": "markdown",
   "metadata": {},
   "source": [
    "### Exercise 1\n",
    "\n",
    "We begin by training and evaluating a multiple linear regression model to map the relationship between the features: `Temperature`, `Rainfall`, `Fertilizer_usage`, and `Pesticide_usage` and the response variable, `Yield`. This model will enable us to predict crop yields based on the given factors."
   ]
  },
  {
   "cell_type": "code",
   "execution_count": 11,
   "metadata": {},
   "outputs": [
    {
     "name": "stdout",
     "output_type": "stream",
     "text": [
      "MSE:  0.3346060708725859\n",
      "R2 score:  0.9963871774411283\n"
     ]
    }
   ],
   "source": [
    "x = df[[\"Temperature\", \"Rainfall\", \"Fertilizer_Usage\", \"Pesticide_Usage\"]]\n",
    "y = df[\"Yield\"]\n",
    "x_train, x_test, y_train, y_test = train_test_split(x,y,test_size=0.2,random_state=42)\n",
    "lm = LinearRegression()\n",
    "lm = lm.fit(x_train,y_train)\n",
    "y_predicted = lm.predict(x_test)\n",
    "print(\"MSE: \",mean_squared_error(y_test,y_predicted))\n",
    "print(\"R2 score: \", r2_score(y_test,y_predicted))"
   ]
  },
  {
   "cell_type": "markdown",
   "metadata": {},
   "source": [
    "### Exercise 2\n",
    "\n",
    "We want to be able to conveniently retrieve and use the model for predictions in future. We therefore need to persist the trained model by saving it to a file. \n",
    "\n",
    "Use the `Pickle` library to serialize the model and store it in a file named `crop_yield_model.pkl`."
   ]
  },
  {
   "cell_type": "code",
   "execution_count": 12,
   "metadata": {},
   "outputs": [],
   "source": [
    "model_file = \"crop_yeild_mlr_model.pkl\"\n",
    "\n",
    "with Path(model_file).open(mode=\"wb\") as file:\n",
    "    pickle.dump(lm ,file)"
   ]
  },
  {
   "cell_type": "markdown",
   "metadata": {},
   "source": [
    "### Exercise 3\n",
    "\n",
    "We have received a new set of conditions for which we need to predict the crop yield. To accomplish this, we'll utilize the model we previously trained and saved.\n",
    "\n",
    "New conditions:\n",
    "- Temperature - `25` \n",
    "- Rainfall - `150` \n",
    "- Fertilizer usage - `200`  \n",
    "- Pesticide usage - `30`\n",
    "\n",
    "Prepare the new data, load the saved model and use it to make predictions on the given feature values. "
   ]
  },
  {
   "cell_type": "code",
   "execution_count": 14,
   "metadata": {},
   "outputs": [
    {
     "name": "stdout",
     "output_type": "stream",
     "text": [
      "[8.17286033]\n"
     ]
    }
   ],
   "source": [
    "with Path(model_file).open(mode=\"rb\") as file:\n",
    "   loaded_model = pickle.load(file)\n",
    "\n",
    "# A dictionary to store the new set of conditions\n",
    "new_conditions = {\n",
    "    'Temperature': [25],  # average temperature in °C\n",
    "    'Rainfall': [150],  # total rainfall in mm\n",
    "    'Fertilizer_Usage': [200],  # fertilizer used in kg per hectare\n",
    "    'Pesticide_Usage': [30]  # pesticide used in liters per hectare\n",
    "}\n",
    "\n",
    "# Convert to DataFrame\n",
    "new_conditions_df = pd.DataFrame(new_conditions)\n",
    "\n",
    "y_pred_with_new_condition = loaded_model.predict(new_conditions_df)\n",
    "print(y_pred_with_new_condition)"
   ]
  },
  {
   "cell_type": "markdown",
   "metadata": {},
   "source": [
    "## Solutions"
   ]
  },
  {
   "cell_type": "markdown",
   "metadata": {},
   "source": [
    "### Exercise 1"
   ]
  },
  {
   "cell_type": "code",
   "execution_count": 15,
   "metadata": {},
   "outputs": [
    {
     "name": "stdout",
     "output_type": "stream",
     "text": [
      "Test MSE: 0.3346060708725859\n",
      "Test R-squared: 0.9963871774411283\n"
     ]
    }
   ],
   "source": [
    "# Define predictors and target variable\n",
    "X = df[['Temperature', 'Rainfall', 'Fertilizer_Usage', 'Pesticide_Usage']]\n",
    "y = df['Yield']\n",
    "\n",
    "# Split the dataset into training and testing sets\n",
    "X_train, X_test, y_train, y_test = train_test_split(X, y, test_size=0.2, random_state=42)\n",
    "\n",
    "# Train a multiple linear regression model\n",
    "model = LinearRegression()\n",
    "model.fit(X_train, y_train)\n",
    "\n",
    "# Evaluate the model's performance on the test set\n",
    "y_pred = model.predict(X_test)\n",
    "mse = mean_squared_error(y_test, y_pred)\n",
    "r2 = r2_score(y_test, y_pred)\n",
    "\n",
    "print(f\"Test MSE: {mse}\")\n",
    "print(f\"Test R-squared: {r2}\")"
   ]
  },
  {
   "cell_type": "markdown",
   "metadata": {},
   "source": [
    "We train a model using a subset of the features from the `Crop_yield` dataset."
   ]
  },
  {
   "cell_type": "markdown",
   "metadata": {},
   "source": [
    "### Exercise 2"
   ]
  },
  {
   "cell_type": "code",
   "execution_count": 17,
   "metadata": {},
   "outputs": [
    {
     "name": "stdout",
     "output_type": "stream",
     "text": [
      "Model saved to crop_yield_model.pkl\n"
     ]
    }
   ],
   "source": [
    "# Define the path where the model will be saved.\n",
    "saved_model_path = 'crop_yield_model.pkl'\n",
    "\n",
    "# Save the trained model to a file\n",
    "with Path(saved_model_path).open('wb') as file:\n",
    "    pickle.dump(model, file)\n",
    "\n",
    "print(f\"Model saved to {saved_model_path}\")"
   ]
  },
  {
   "cell_type": "markdown",
   "metadata": {},
   "source": [
    "We specify that we want to save our model in a pickle file, indicated by the `.pkl` extension.\n",
    "\n",
    "We open the file in **write-binary (`wb`)** mode - if the file doesn't exist, it will be created. Otherwise, its contents will be overwritten.\n",
    "\n",
    "We then use the `pickle.dump()` method to serialize the model object and saving it into the file."
   ]
  },
  {
   "cell_type": "markdown",
   "metadata": {},
   "source": [
    "### Exercise 3"
   ]
  },
  {
   "cell_type": "code",
   "execution_count": 18,
   "metadata": {},
   "outputs": [
    {
     "name": "stdout",
     "output_type": "stream",
     "text": [
      "Predicted Yield for the new conditions: 8.172860333818225 tonnes per hectare\n"
     ]
    }
   ],
   "source": [
    "# A dictionary to store the new set of conditions\n",
    "new_conditions = {\n",
    "    'Temperature': [25],  # average temperature in °C\n",
    "    'Rainfall': [150],  # total rainfall in mm\n",
    "    'Fertilizer_Usage': [200],  # fertilizer used in kg per hectare\n",
    "    'Pesticide_Usage': [30]  # pesticide used in liters per hectare\n",
    "}\n",
    "\n",
    "# Convert to DataFrame\n",
    "new_conditions_df = pd.DataFrame(new_conditions)\n",
    "\n",
    "# This is where the model is saved\n",
    "model_load_path = 'crop_yield_model.pkl'\n",
    "\n",
    "# Load the updated model\n",
    "with open(model_load_path, 'rb') as file:\n",
    "    loaded_model = pickle.load(file)\n",
    "\n",
    "# Use the model to predict the yield for the new conditions\n",
    "predicted_yield = loaded_model.predict(new_conditions_df)\n",
    "\n",
    "print(f\"Predicted Yield for the new conditions: {predicted_yield[0]} tonnes per hectare\")"
   ]
  },
  {
   "cell_type": "markdown",
   "metadata": {},
   "source": [
    "We start by preparing the new data for compatibility with the model's **expected input format**, that is, a tabular format.\n",
    "\n",
    "We then open the file where we saved the model in **binary read (`rb`)** mode which is required for reading pickle files.\n",
    "\n",
    "The `pickle.load()` method deserializes the model from the file back into a Python object.\n",
    "\n",
    "We are then able to use the loaded model to predict the yield based on the new conditions provided."
   ]
  },
  {
   "cell_type": "markdown",
   "metadata": {},
   "source": [
    "<div align=\"center\" style=\" font-size: 80%; text-align: center; margin: 0 auto\">\n",
    "<img src=\"https://raw.githubusercontent.com/Explore-AI/Pictures/master/ExploreAI_logos/EAI_Blue_Dark.png\"  style=\"width:200px\";/>\n",
    "</div>"
   ]
  }
 ],
 "metadata": {
  "colab": {
   "authorship_tag": "ABX9TyPZFCZhaikX+N2/Bg7W6SY+",
   "collapsed_sections": [],
   "name": "Search_algorithms.ipynb",
   "provenance": [],
   "toc_visible": true
  },
  "interpreter": {
   "hash": "6b5ebbc2c6bde2831bc6c0426f75aca8137ccfc69d329557556ed73faee126ae"
  },
  "kernelspec": {
   "display_name": "Python 3 (ipykernel)",
   "language": "python",
   "name": "python3"
  },
  "language_info": {
   "codemirror_mode": {
    "name": "ipython",
    "version": 3
   },
   "file_extension": ".py",
   "mimetype": "text/x-python",
   "name": "python",
   "nbconvert_exporter": "python",
   "pygments_lexer": "ipython3",
   "version": "3.12.4"
  }
 },
 "nbformat": 4,
 "nbformat_minor": 4
}
