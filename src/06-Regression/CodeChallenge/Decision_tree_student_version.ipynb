{
 "cells": [
  {
   "cell_type": "markdown",
   "id": "047f9f94",
   "metadata": {},
   "source": [
    "<div align=\"center\" style=\" font-size: 80%; text-align: center; margin: 0 auto\">\n",
    "<img src=\"https://raw.githubusercontent.com/Explore-AI/Pictures/master/Python-Notebook-Banners/Code_challenge.png\"  style=\"display: block; margin-left: auto; margin-right: auto;\";/>\n",
    "</div>"
   ]
  },
  {
   "attachments": {},
   "cell_type": "markdown",
   "id": "f662d169",
   "metadata": {},
   "source": [
    "# Code challenge: Decision trees\n",
    "© ExploreAI Academy"
   ]
  },
  {
   "attachments": {},
   "cell_type": "markdown",
   "id": "26af890c",
   "metadata": {},
   "source": [
    "In this code challenge, we will test our knowledge of the fundamental concepts of decision trees by implementing a decision tree regression model and analysing its RMSLE.\n",
    "\n"
   ]
  },
  {
   "cell_type": "markdown",
   "id": "3e3b5c1e",
   "metadata": {},
   "source": [
    "⚠️ **Note that this code challenge is graded and will contribute to your overall marks for this module. Submit this notebook for grading. Note that the names of the functions are different in this notebook. Transfer the code in your notebook to this submission notebook**\n",
    "\n",
    "### Instructions\n",
    "\n",
    "- **Do not add or remove cells in this notebook. Do not edit or remove the `### START FUNCTION` or `### END FUNCTION` comments. Do not add any code outside of the functions you are required to edit. Doing any of this will lead to a mark of 0%!**\n",
    "\n",
    "- Answer the questions according to the specifications provided.\n",
    "\n",
    "- Use the given cell in each question to see if your function matches the expected outputs.\n",
    "\n",
    "- Do not hard-code answers to the questions.\n",
    "\n",
    "- The use of StackOverflow, Google, and other online tools is permitted. However, copying a fellow student's code is not permissible and is considered a breach of the Honour code. Doing this will result in a mark of 0%."
   ]
  },
  {
   "attachments": {},
   "cell_type": "markdown",
   "id": "a275af89",
   "metadata": {},
   "source": [
    "We begin by importing the necessary packages for the challenges."
   ]
  },
  {
   "cell_type": "code",
   "execution_count": 155,
   "id": "7918a99c",
   "metadata": {},
   "outputs": [],
   "source": [
    "import numpy as np\n",
    "import pandas as pd\n",
    "from sklearn.tree import DecisionTreeRegressor"
   ]
  },
  {
   "attachments": {},
   "cell_type": "markdown",
   "id": "022dbac7",
   "metadata": {},
   "source": [
    "## The dataset\n",
    "\n",
    "The dataset contains population data for various countries over the years from 1960 to 2017. Each row corresponds to a specific country, identified by a country code, and each column represents a year. The values within the dataset represent the population count for each country in the corresponding year."
   ]
  },
  {
   "cell_type": "code",
   "execution_count": 156,
   "id": "9c17898c",
   "metadata": {},
   "outputs": [
    {
     "data": {
      "text/html": [
       "<div>\n",
       "<style scoped>\n",
       "    .dataframe tbody tr th:only-of-type {\n",
       "        vertical-align: middle;\n",
       "    }\n",
       "\n",
       "    .dataframe tbody tr th {\n",
       "        vertical-align: top;\n",
       "    }\n",
       "\n",
       "    .dataframe thead th {\n",
       "        text-align: right;\n",
       "    }\n",
       "</style>\n",
       "<table border=\"1\" class=\"dataframe\">\n",
       "  <thead>\n",
       "    <tr style=\"text-align: right;\">\n",
       "      <th></th>\n",
       "      <th>1960</th>\n",
       "      <th>1961</th>\n",
       "      <th>1962</th>\n",
       "      <th>1963</th>\n",
       "      <th>1964</th>\n",
       "      <th>1965</th>\n",
       "      <th>1966</th>\n",
       "      <th>1967</th>\n",
       "      <th>1968</th>\n",
       "      <th>1969</th>\n",
       "      <th>...</th>\n",
       "      <th>2008</th>\n",
       "      <th>2009</th>\n",
       "      <th>2010</th>\n",
       "      <th>2011</th>\n",
       "      <th>2012</th>\n",
       "      <th>2013</th>\n",
       "      <th>2014</th>\n",
       "      <th>2015</th>\n",
       "      <th>2016</th>\n",
       "      <th>2017</th>\n",
       "    </tr>\n",
       "    <tr>\n",
       "      <th>Country Code</th>\n",
       "      <th></th>\n",
       "      <th></th>\n",
       "      <th></th>\n",
       "      <th></th>\n",
       "      <th></th>\n",
       "      <th></th>\n",
       "      <th></th>\n",
       "      <th></th>\n",
       "      <th></th>\n",
       "      <th></th>\n",
       "      <th></th>\n",
       "      <th></th>\n",
       "      <th></th>\n",
       "      <th></th>\n",
       "      <th></th>\n",
       "      <th></th>\n",
       "      <th></th>\n",
       "      <th></th>\n",
       "      <th></th>\n",
       "      <th></th>\n",
       "      <th></th>\n",
       "    </tr>\n",
       "  </thead>\n",
       "  <tbody>\n",
       "    <tr>\n",
       "      <th>ABW</th>\n",
       "      <td>54211.0</td>\n",
       "      <td>55438.0</td>\n",
       "      <td>56225.0</td>\n",
       "      <td>56695.0</td>\n",
       "      <td>57032.0</td>\n",
       "      <td>57360.0</td>\n",
       "      <td>57715.0</td>\n",
       "      <td>58055.0</td>\n",
       "      <td>58386.0</td>\n",
       "      <td>58726.0</td>\n",
       "      <td>...</td>\n",
       "      <td>101353.0</td>\n",
       "      <td>101453.0</td>\n",
       "      <td>101669.0</td>\n",
       "      <td>102053.0</td>\n",
       "      <td>102577.0</td>\n",
       "      <td>103187.0</td>\n",
       "      <td>103795.0</td>\n",
       "      <td>104341.0</td>\n",
       "      <td>104822.0</td>\n",
       "      <td>105264.0</td>\n",
       "    </tr>\n",
       "    <tr>\n",
       "      <th>AFG</th>\n",
       "      <td>8996351.0</td>\n",
       "      <td>9166764.0</td>\n",
       "      <td>9345868.0</td>\n",
       "      <td>9533954.0</td>\n",
       "      <td>9731361.0</td>\n",
       "      <td>9938414.0</td>\n",
       "      <td>10152331.0</td>\n",
       "      <td>10372630.0</td>\n",
       "      <td>10604346.0</td>\n",
       "      <td>10854428.0</td>\n",
       "      <td>...</td>\n",
       "      <td>27294031.0</td>\n",
       "      <td>28004331.0</td>\n",
       "      <td>28803167.0</td>\n",
       "      <td>29708599.0</td>\n",
       "      <td>30696958.0</td>\n",
       "      <td>31731688.0</td>\n",
       "      <td>32758020.0</td>\n",
       "      <td>33736494.0</td>\n",
       "      <td>34656032.0</td>\n",
       "      <td>35530081.0</td>\n",
       "    </tr>\n",
       "    <tr>\n",
       "      <th>AGO</th>\n",
       "      <td>5643182.0</td>\n",
       "      <td>5753024.0</td>\n",
       "      <td>5866061.0</td>\n",
       "      <td>5980417.0</td>\n",
       "      <td>6093321.0</td>\n",
       "      <td>6203299.0</td>\n",
       "      <td>6309770.0</td>\n",
       "      <td>6414995.0</td>\n",
       "      <td>6523791.0</td>\n",
       "      <td>6642632.0</td>\n",
       "      <td>...</td>\n",
       "      <td>21759420.0</td>\n",
       "      <td>22549547.0</td>\n",
       "      <td>23369131.0</td>\n",
       "      <td>24218565.0</td>\n",
       "      <td>25096150.0</td>\n",
       "      <td>25998340.0</td>\n",
       "      <td>26920466.0</td>\n",
       "      <td>27859305.0</td>\n",
       "      <td>28813463.0</td>\n",
       "      <td>29784193.0</td>\n",
       "    </tr>\n",
       "    <tr>\n",
       "      <th>ALB</th>\n",
       "      <td>1608800.0</td>\n",
       "      <td>1659800.0</td>\n",
       "      <td>1711319.0</td>\n",
       "      <td>1762621.0</td>\n",
       "      <td>1814135.0</td>\n",
       "      <td>1864791.0</td>\n",
       "      <td>1914573.0</td>\n",
       "      <td>1965598.0</td>\n",
       "      <td>2022272.0</td>\n",
       "      <td>2081695.0</td>\n",
       "      <td>...</td>\n",
       "      <td>2947314.0</td>\n",
       "      <td>2927519.0</td>\n",
       "      <td>2913021.0</td>\n",
       "      <td>2905195.0</td>\n",
       "      <td>2900401.0</td>\n",
       "      <td>2895092.0</td>\n",
       "      <td>2889104.0</td>\n",
       "      <td>2880703.0</td>\n",
       "      <td>2876101.0</td>\n",
       "      <td>2873457.0</td>\n",
       "    </tr>\n",
       "    <tr>\n",
       "      <th>AND</th>\n",
       "      <td>13411.0</td>\n",
       "      <td>14375.0</td>\n",
       "      <td>15370.0</td>\n",
       "      <td>16412.0</td>\n",
       "      <td>17469.0</td>\n",
       "      <td>18549.0</td>\n",
       "      <td>19647.0</td>\n",
       "      <td>20758.0</td>\n",
       "      <td>21890.0</td>\n",
       "      <td>23058.0</td>\n",
       "      <td>...</td>\n",
       "      <td>83861.0</td>\n",
       "      <td>84462.0</td>\n",
       "      <td>84449.0</td>\n",
       "      <td>83751.0</td>\n",
       "      <td>82431.0</td>\n",
       "      <td>80788.0</td>\n",
       "      <td>79223.0</td>\n",
       "      <td>78014.0</td>\n",
       "      <td>77281.0</td>\n",
       "      <td>76965.0</td>\n",
       "    </tr>\n",
       "  </tbody>\n",
       "</table>\n",
       "<p>5 rows × 58 columns</p>\n",
       "</div>"
      ],
      "text/plain": [
       "                   1960       1961       1962       1963       1964  \\\n",
       "Country Code                                                          \n",
       "ABW             54211.0    55438.0    56225.0    56695.0    57032.0   \n",
       "AFG           8996351.0  9166764.0  9345868.0  9533954.0  9731361.0   \n",
       "AGO           5643182.0  5753024.0  5866061.0  5980417.0  6093321.0   \n",
       "ALB           1608800.0  1659800.0  1711319.0  1762621.0  1814135.0   \n",
       "AND             13411.0    14375.0    15370.0    16412.0    17469.0   \n",
       "\n",
       "                   1965        1966        1967        1968        1969  ...  \\\n",
       "Country Code                                                             ...   \n",
       "ABW             57360.0     57715.0     58055.0     58386.0     58726.0  ...   \n",
       "AFG           9938414.0  10152331.0  10372630.0  10604346.0  10854428.0  ...   \n",
       "AGO           6203299.0   6309770.0   6414995.0   6523791.0   6642632.0  ...   \n",
       "ALB           1864791.0   1914573.0   1965598.0   2022272.0   2081695.0  ...   \n",
       "AND             18549.0     19647.0     20758.0     21890.0     23058.0  ...   \n",
       "\n",
       "                    2008        2009        2010        2011        2012  \\\n",
       "Country Code                                                               \n",
       "ABW             101353.0    101453.0    101669.0    102053.0    102577.0   \n",
       "AFG           27294031.0  28004331.0  28803167.0  29708599.0  30696958.0   \n",
       "AGO           21759420.0  22549547.0  23369131.0  24218565.0  25096150.0   \n",
       "ALB            2947314.0   2927519.0   2913021.0   2905195.0   2900401.0   \n",
       "AND              83861.0     84462.0     84449.0     83751.0     82431.0   \n",
       "\n",
       "                    2013        2014        2015        2016        2017  \n",
       "Country Code                                                              \n",
       "ABW             103187.0    103795.0    104341.0    104822.0    105264.0  \n",
       "AFG           31731688.0  32758020.0  33736494.0  34656032.0  35530081.0  \n",
       "AGO           25998340.0  26920466.0  27859305.0  28813463.0  29784193.0  \n",
       "ALB            2895092.0   2889104.0   2880703.0   2876101.0   2873457.0  \n",
       "AND              80788.0     79223.0     78014.0     77281.0     76965.0  \n",
       "\n",
       "[5 rows x 58 columns]"
      ]
     },
     "execution_count": 156,
     "metadata": {},
     "output_type": "execute_result"
    }
   ],
   "source": [
    "population_df = pd.read_csv('https://raw.githubusercontent.com/Explore-AI/Public-Data/master/AnalyseProject/world_population.csv', index_col='Country Code')\n",
    "population_df.head()"
   ]
  },
  {
   "cell_type": "markdown",
   "id": "de45a481",
   "metadata": {},
   "source": [
    "## Analysis"
   ]
  },
  {
   "attachments": {},
   "cell_type": "markdown",
   "id": "5a0b7683",
   "metadata": {
    "tags": []
   },
   "source": [
    "### Challenge 1: Population growth\n",
    "\n",
    "The world population data spans from 1960 to 2017. We'd like to build a predictive model that can give us the best guess at what the population growth rate in a given year might be. We will calculate the population growth rate as follows:-\n",
    "\n",
    "$$\n",
    "Growth\\_rate = \\frac{current\\_year\\_population - previous\\_year\\_population}{previous\\_year\\_population}\n",
    "$$\n",
    "\n",
    "As such, we can only calculate the growth rate for the year 1961 onwards.\n",
    "\n",
    "Write a function that takes the `population_df` and a `country_code` as input and computes the population growth rate for a given country starting from the year 1961. This function must return a return a 2-d numpy array that contains the year and corresponding growth rate for the country.\n",
    "\n",
    "_**Function Specifications:**_\n",
    "* Should take a `population_df` and `country_code` string as input and return a numpy `array` as output.\n",
    "* The array should only have two columns containing the year and the population growth rate, in other words, it should have a shape `(?, 2)` where `?` is the length of the data.\n",
    "* The growth rates should be rounded to 5 decimal places"
   ]
  },
  {
   "cell_type": "code",
   "execution_count": 157,
   "id": "c2ee76ec",
   "metadata": {},
   "outputs": [],
   "source": [
    "### START FUNCTION\n",
    "def get_population_growth_rate_by_country_year(population_df, country_code):\n",
    "    country_df = population_df.loc()[country_code]\n",
    "\n",
    "    previous_population=0\n",
    "    # contains the year and growth rate\n",
    "    output = []\n",
    "    for year, population in country_df.items():\n",
    "        if(int(year)==1960):\n",
    "            previous_population = population\n",
    "            continue\n",
    "\n",
    "        growth_rate = (population-previous_population)/previous_population\n",
    "        # set the current population as the previous location\n",
    "        previous_population = population\n",
    "        output.append([int(year),np.round(float(growth_rate),5)])\n",
    "    return np.array(output)\n",
    "        \n",
    "\n",
    "### END FUNCTION"
   ]
  },
  {
   "cell_type": "markdown",
   "id": "de3132bb",
   "metadata": {},
   "source": [
    "Input:"
   ]
  },
  {
   "cell_type": "code",
   "execution_count": 158,
   "id": "50ceaa4a-5706-4948-a5a2-be8eb01fcc72",
   "metadata": {},
   "outputs": [
    {
     "data": {
      "text/plain": [
       "array([[ 1.961e+03,  2.263e-02],\n",
       "       [ 1.962e+03,  1.420e-02],\n",
       "       [ 1.963e+03,  8.360e-03],\n",
       "       [ 1.964e+03,  5.940e-03],\n",
       "       [ 1.965e+03,  5.750e-03],\n",
       "       [ 1.966e+03,  6.190e-03],\n",
       "       [ 1.967e+03,  5.890e-03],\n",
       "       [ 1.968e+03,  5.700e-03],\n",
       "       [ 1.969e+03,  5.820e-03],\n",
       "       [ 1.970e+03,  5.740e-03],\n",
       "       [ 1.971e+03,  6.380e-03],\n",
       "       [ 1.972e+03,  6.730e-03],\n",
       "       [ 1.973e+03,  6.730e-03],\n",
       "       [ 1.974e+03,  4.730e-03],\n",
       "       [ 1.975e+03,  2.130e-03],\n",
       "       [ 1.976e+03, -1.170e-03],\n",
       "       [ 1.977e+03, -3.630e-03],\n",
       "       [ 1.978e+03, -4.360e-03],\n",
       "       [ 1.979e+03, -2.050e-03],\n",
       "       [ 1.980e+03,  1.930e-03],\n",
       "       [ 1.981e+03,  7.840e-03],\n",
       "       [ 1.982e+03,  1.285e-02],\n",
       "       [ 1.983e+03,  1.395e-02],\n",
       "       [ 1.984e+03,  1.021e-02],\n",
       "       [ 1.985e+03,  3.020e-03],\n",
       "       [ 1.986e+03, -6.060e-03],\n",
       "       [ 1.987e+03, -1.295e-02],\n",
       "       [ 1.988e+03, -1.219e-02],\n",
       "       [ 1.989e+03, -7.700e-04],\n",
       "       [ 1.990e+03,  1.830e-02],\n",
       "       [ 1.991e+03,  3.979e-02],\n",
       "       [ 1.992e+03,  5.591e-02],\n",
       "       [ 1.993e+03,  6.256e-02],\n",
       "       [ 1.994e+03,  5.787e-02],\n",
       "       [ 1.995e+03,  4.725e-02],\n",
       "       [ 1.996e+03,  3.580e-02],\n",
       "       [ 1.997e+03,  2.706e-02],\n",
       "       [ 1.998e+03,  2.137e-02],\n",
       "       [ 1.999e+03,  1.980e-02],\n",
       "       [ 2.000e+03,  2.076e-02],\n",
       "       [ 2.001e+03,  2.251e-02],\n",
       "       [ 2.002e+03,  2.254e-02],\n",
       "       [ 2.003e+03,  2.132e-02],\n",
       "       [ 2.004e+03,  1.773e-02],\n",
       "       [ 2.005e+03,  1.311e-02],\n",
       "       [ 2.006e+03,  8.010e-03],\n",
       "       [ 2.007e+03,  3.850e-03],\n",
       "       [ 2.008e+03,  1.310e-03],\n",
       "       [ 2.009e+03,  9.900e-04],\n",
       "       [ 2.010e+03,  2.130e-03],\n",
       "       [ 2.011e+03,  3.780e-03],\n",
       "       [ 2.012e+03,  5.130e-03],\n",
       "       [ 2.013e+03,  5.950e-03],\n",
       "       [ 2.014e+03,  5.890e-03],\n",
       "       [ 2.015e+03,  5.260e-03],\n",
       "       [ 2.016e+03,  4.610e-03],\n",
       "       [ 2.017e+03,  4.220e-03]])"
      ]
     },
     "execution_count": 158,
     "metadata": {},
     "output_type": "execute_result"
    }
   ],
   "source": [
    "get_population_growth_rate_by_country_year(population_df,'ABW')"
   ]
  },
  {
   "cell_type": "markdown",
   "id": "c584dbd2",
   "metadata": {},
   "source": [
    "Expected output:"
   ]
  },
  {
   "cell_type": "markdown",
   "id": "71369555",
   "metadata": {},
   "source": [
    "```\n",
    "array([[ 1.961e+03,  2.263e-02],\n",
    "       [ 1.962e+03,  1.420e-02],\n",
    "       [ 1.963e+03,  8.360e-03],\n",
    "       [ 1.964e+03,  5.940e-03],\n",
    "            ...       ....\n",
    "       [ 2.015e+03,  5.260e-03],\n",
    "       [ 2.016e+03,  4.610e-03],\n",
    "       [ 2.017e+03,  4.220e-03]])\n",
    "```"
   ]
  },
  {
   "attachments": {},
   "cell_type": "markdown",
   "id": "dc9b7dc6",
   "metadata": {},
   "source": [
    "### Challenge 2: Even-odd train-test split\n",
    "\n",
    "Now that we have our data, we need to divide it into two sets: the variables we will train on and the variables we will predict on. In this scenario, we're separating the variables so that the **training set contains growth rates for even years and the test set contains growth rates for odd years**. We also need to divide our data into the predictive features (`X`) and the response features (`y`). \n",
    "\n",
    "Write a function that will take a 2-D numpy array as input and return four variables in the form of `(X_train, y_train), (X_test, y_test)`, where `(X_train, y_train)` are the features and response variables of the training set, and `(X_test, y_test)` are the features and response variables of the testing set. The training and testing data consist of even and odd years, respectively. The function should return two tuples of the form `(X_train, y_train), (X_test, y_test)`.\n",
    "\n",
    "_**Function Specifications:**_\n",
    "* Should take a 2-d numpy `array` as input.\n",
    "* Should return two `tuples` of the form `(X_train, y_train), (X_test, y_test)`.\n",
    "* `(X_train, y_train)` should consist of data from even years and `(X_test, y_test)` should consist of data from odd years."
   ]
  },
  {
   "cell_type": "code",
   "execution_count": 188,
   "id": "ae48fab0",
   "metadata": {},
   "outputs": [],
   "source": [
    "### START FUNCTION\n",
    "\n",
    "def feature_response_split(array):\n",
    "    x_train = []\n",
    "    y_train = []\n",
    "    x_test = []\n",
    "    y_test = []\n",
    "    for year, population in array:\n",
    "        if(year % 2 == 0):\n",
    "            x_train.append(year)\n",
    "            y_train.append(population)\n",
    "        else:\n",
    "            x_test.append(year)\n",
    "            y_test.append(population)  \n",
    "            \n",
    "    return (np.array(x_train),np.array(y_train)), (np.array(x_test), np.array(y_test))\n",
    "\n",
    "### END FUNCTION"
   ]
  },
  {
   "cell_type": "markdown",
   "id": "c44015d7",
   "metadata": {},
   "source": [
    "Input:"
   ]
  },
  {
   "cell_type": "code",
   "execution_count": 160,
   "id": "edbfa32b",
   "metadata": {},
   "outputs": [
    {
     "name": "stdout",
     "output_type": "stream",
     "text": [
      "X_train is [1962. 1964. 1966. 1968. 1970. 1972. 1974. 1976. 1978. 1980. 1982. 1984.\n",
      " 1986. 1988. 1990. 1992. 1994. 1996. 1998. 2000. 2002. 2004. 2006. 2008.\n",
      " 2010. 2012. 2014. 2016.],\n",
      "\n",
      "and y_train is [ 0.0142   0.00594  0.00619  0.0057   0.00574  0.00673  0.00473 -0.00117\n",
      " -0.00436  0.00193  0.01285  0.01021 -0.00606 -0.01219  0.0183   0.05591\n",
      "  0.05787  0.0358   0.02137  0.02076  0.02254  0.01773  0.00801  0.00131\n",
      "  0.00213  0.00513  0.00589  0.00461]\n",
      "\n",
      "\n",
      "X_test is [1961. 1963. 1965. 1967. 1969. 1971. 1973. 1975. 1977. 1979. 1981. 1983.\n",
      " 1985. 1987. 1989. 1991. 1993. 1995. 1997. 1999. 2001. 2003. 2005. 2007.\n",
      " 2009. 2011. 2013. 2015. 2017.],\n",
      "\n",
      "and y_test is [ 0.02263  0.00836  0.00575  0.00589  0.00582  0.00638  0.00673  0.00213\n",
      " -0.00363 -0.00205  0.00784  0.01395  0.00302 -0.01295 -0.00077  0.03979\n",
      "  0.06256  0.04725  0.02706  0.0198   0.02251  0.02132  0.01311  0.00385\n",
      "  0.00099  0.00378  0.00595  0.00526  0.00422]\n",
      "\n",
      "\n"
     ]
    }
   ],
   "source": [
    "data = get_population_growth_rate_by_country_year(population_df,'ABW')\n",
    "(X_train, y_train), (X_test, y_test) = feature_response_split(data)\n",
    "print(f\"X_train is {X_train},\\n\\nand y_train is {y_train}\\n\\n\")\n",
    "print(f\"X_test is {X_test},\\n\\nand y_test is {y_test}\\n\\n\")"
   ]
  },
  {
   "cell_type": "markdown",
   "id": "c9751dcb",
   "metadata": {},
   "source": [
    "Expected output:"
   ]
  },
  {
   "cell_type": "markdown",
   "id": "e2f1efd5",
   "metadata": {},
   "source": [
    "```\n",
    "y_train ==  array([ 0.01419604,  0.00594409,  0.00618898,  0.00570149,  0.00573851,\n",
    "        0.00672948,  0.00473084, -0.00117052, -0.00435676,  0.00193398,\n",
    "        0.01284528,  0.01020884, -0.00606099, -0.01219414,  0.01830187,\n",
    "        0.05590975,  0.05787267,  0.03580499,  0.02136897,  0.02076288,\n",
    "        0.02254085,  0.01772885,  0.00800752,  0.00131397,  0.00212906,\n",
    "        0.00513459,  0.00589222,  0.00460988])\n",
    "```\n",
    "\n",
    "```\n",
    "X_test == array([1961., 1963., 1965., 1967., 1969., 1971., 1973., 1975., 1977.,\n",
    "       1979., 1981., 1983., 1985., 1987., 1989., 1991., 1993., 1995.,\n",
    "       1997., 1999., 2001., 2003., 2005., 2007., 2009., 2011., 2013.,\n",
    "       2015., 2017.])\n",
    "```\n",
    "\n",
    "```\n",
    "y_test == array([ 0.02263378,  0.00835927,  0.00575116,  0.00589102,  0.00582331,\n",
    "        0.00638301,  0.00673463,  0.00213125, -0.0036312 , -0.00204649,\n",
    "        0.00783746,  0.01395387,  0.00302374, -0.01294617, -0.0007695 ,\n",
    "        0.03979147,  0.0625632 ,  0.04724902,  0.02705529,  0.01979903,\n",
    "        0.02250889,  0.02131758,  0.01310552,  0.00384798,  0.00098665,\n",
    "        0.00377696,  0.00594675,  0.00526037,  0.00421667])      \n",
    " ```"
   ]
  },
  {
   "attachments": {},
   "cell_type": "markdown",
   "id": "aa09265c",
   "metadata": {},
   "source": [
    "### Question 3\n",
    "\n",
    "Now that we have formatted our data, we can fit a model using sklearn's `DecisionTreeRegressor` class. We'll write a function that will take as input the features and response variables that we created in the last question, and return a trained model.\n",
    "\n",
    "_**Function Specifications:**_\n",
    "* Should take two numpy `arrays` as input in the form `(X_train, y_train)` as well as a `MaxDepth` int corresponding to the max_depth hyperparameter in decision trees.\n",
    "* Should return an sklearn `DecisionTreeRegressor` model.\n",
    "* The returned model should be fitted to the data.\n",
    "\n",
    "_**Hint:**_\n",
    "You may need to reshape the data within the function. You can use `.reshape(-1, 1)` to do this."
   ]
  },
  {
   "cell_type": "code",
   "execution_count": 201,
   "id": "22984670",
   "metadata": {},
   "outputs": [],
   "source": [
    "### START FUNCTION\n",
    "from sklearn.tree import DecisionTreeRegressor\n",
    "\n",
    "def train_model(x_train, y_train, max_depth):\n",
    "    tree_model = DecisionTreeRegressor(max_depth=max_depth)\n",
    "    return tree_model.fit(x_train.reshape(-1, 1),y_train.reshape(-1, 1))\n",
    "\n",
    "### END FUNCTION"
   ]
  },
  {
   "cell_type": "markdown",
   "id": "90ab9f5e",
   "metadata": {},
   "source": [
    "Input:"
   ]
  },
  {
   "cell_type": "code",
   "execution_count": 202,
   "id": "52c5efb1",
   "metadata": {},
   "outputs": [
    {
     "data": {
      "text/plain": [
       "array([0.00451333])"
      ]
     },
     "execution_count": 202,
     "metadata": {},
     "output_type": "execute_result"
    }
   ],
   "source": [
    "data = get_population_growth_rate_by_country_year(population_df,'ABW')\n",
    "(X_train, y_train), _ = feature_response_split(data)\n",
    "\n",
    "train_model(X_train, y_train,3).predict([[2017]])"
   ]
  },
  {
   "cell_type": "markdown",
   "id": "59712459",
   "metadata": {},
   "source": [
    "Expected output:"
   ]
  },
  {
   "cell_type": "markdown",
   "id": "3e8875e2",
   "metadata": {},
   "source": [
    "```\n",
    "array([0.00451333])\n",
    "```"
   ]
  },
  {
   "attachments": {},
   "cell_type": "markdown",
   "id": "14a50f5e",
   "metadata": {},
   "source": [
    "### Challenge 4\n",
    "\n",
    "Now we would like to test our model on the testing data that we produced in Exercise 2. This test will give the Root Mean Squared Logarithmic Error (RMSLE), which is determined by:\n",
    "\n",
    "$$\n",
    "RMSLE = \\sqrt{\\frac{1}{N}\\sum_{i=1}^N [log(1+p_i) - log(1+y_i)]^2}\n",
    "$$\n",
    "\n",
    "* *$p_i$ refers to the $i^{\\rm th}$ prediction made from `X_test` \n",
    "* $y_i$ refers to the $i^{\\rm th}$ value in `y_test`\n",
    "* $N$ is the length of `y_test`\n",
    "\n",
    "_**Function Specifications:**_\n",
    "* Should take a trained model and two `arrays` as input. This will be the `X_test` and `y_test` variables from Question 2. \n",
    "* Should calculate and return the Root Mean Squared Logarithmic Error (RMSLE) between the predicted values from `X_test` and the actual values in `y_test`.\n",
    "* The output should be a `float` rounded to 3 decimal places.\n",
    "\n"
   ]
  },
  {
   "cell_type": "code",
   "execution_count": 196,
   "id": "3b0ea2f8",
   "metadata": {},
   "outputs": [],
   "source": [
    "### START FUNCTION\n",
    "from sklearn.metrics import mean_squared_log_error\n",
    "from sklearn.preprocessing import MinMaxScaler\n",
    "\n",
    "def test_model(model, y_test, x_test):\n",
    "    y_pred = model.predict(x_test.reshape(-1, 1))\n",
    "    scaler = MinMaxScaler()\n",
    "    y_test_scaled = scaler.fit_transform(y_test.reshape(-1, 1))\n",
    "    y_pred_scaled = scaler.fit_transform(y_pred.reshape(-1, 1))\n",
    "    return float(np.round(mean_squared_log_error(y_test_scaled,y_pred_scaled),3))\n",
    "\n",
    "### END FUNCTION"
   ]
  },
  {
   "cell_type": "code",
   "execution_count": 205,
   "id": "664752cd-2eee-400b-8b45-baf403d2d6e9",
   "metadata": {},
   "outputs": [],
   "source": [
    "### START FUNCTION\n",
    "from sklearn.metrics import mean_squared_log_error\n",
    "from sklearn.preprocessing import MinMaxScaler\n",
    "\n",
    "def test_model(model, y_test, x_test):\n",
    "    y_pred = model.predict(x_test.reshape(-1, 1))\n",
    "    scaler = MinMaxScaler()\n",
    "    y_test_scaled = scaler.fit_transform(y_test.reshape(-1, 1))\n",
    "    y_pred_scaled = scaler.fit_transform(y_pred.reshape(-1, 1))\n",
    "    return np.round(float(mean_squared_log_error(y_test_scaled,y_pred_scaled)),3)\n",
    "\n",
    "### END FUNCTION"
   ]
  },
  {
   "cell_type": "markdown",
   "id": "e9e50777",
   "metadata": {},
   "source": [
    "Input:"
   ]
  },
  {
   "cell_type": "code",
   "execution_count": 206,
   "id": "2c1d59c3",
   "metadata": {},
   "outputs": [
    {
     "data": {
      "text/plain": [
       "0.008"
      ]
     },
     "execution_count": 206,
     "metadata": {},
     "output_type": "execute_result"
    }
   ],
   "source": [
    "data = get_population_growth_rate_by_country_year(population_df,'ABW')\n",
    "(X_train, y_train), (X_test, y_test) = feature_response_split(data)\n",
    "lm = train_model(X_train, y_train,3)\n",
    "test_model(lm,y_test, X_test)"
   ]
  },
  {
   "cell_type": "code",
   "execution_count": 207,
   "id": "2cf9bc62-96d7-4267-8d3d-18fe6d5b213a",
   "metadata": {},
   "outputs": [
    {
     "data": {
      "text/plain": [
       "0.0"
      ]
     },
     "execution_count": 207,
     "metadata": {},
     "output_type": "execute_result"
    }
   ],
   "source": [
    "test_model(lm, np.array([7501739318]),np.array([2017]))"
   ]
  },
  {
   "cell_type": "code",
   "execution_count": 208,
   "id": "921e603f-8808-4713-a4af-a220fa80679d",
   "metadata": {},
   "outputs": [
    {
     "data": {
      "text/plain": [
       "0.0"
      ]
     },
     "execution_count": 208,
     "metadata": {},
     "output_type": "execute_result"
    }
   ],
   "source": [
    "test_model(lm,np.array([2016]), np.array([7415694711]))"
   ]
  },
  {
   "cell_type": "markdown",
   "id": "2a986cb0",
   "metadata": {},
   "source": [
    "Expected output:"
   ]
  },
  {
   "cell_type": "markdown",
   "id": "9b154f38",
   "metadata": {},
   "source": [
    "```\n",
    "0.008\n",
    "```"
   ]
  },
  {
   "cell_type": "markdown",
   "id": "62316258",
   "metadata": {},
   "source": [
    "What does this value say about our model?\n",
    "- ✍️ Your notes here"
   ]
  },
  {
   "cell_type": "markdown",
   "id": "26fd094b-0fee-46f1-a4b8-73766813c42b",
   "metadata": {
    "tags": []
   },
   "source": [
    "#  \n",
    "\n",
    "<div align=\"center\" style=\" font-size: 80%; text-align: center; margin: 0 auto\">\n",
    "<img src=\"https://raw.githubusercontent.com/Explore-AI/Pictures/master/ExploreAI_logos/EAI_Blue_Dark.png\"  style=\"width:200px\";/>\n",
    "</div>"
   ]
  }
 ],
 "metadata": {
  "kernelspec": {
   "display_name": "Python 3 (ipykernel)",
   "language": "python",
   "name": "python3"
  },
  "language_info": {
   "codemirror_mode": {
    "name": "ipython",
    "version": 3
   },
   "file_extension": ".py",
   "mimetype": "text/x-python",
   "name": "python",
   "nbconvert_exporter": "python",
   "pygments_lexer": "ipython3",
   "version": "3.11.8"
  }
 },
 "nbformat": 4,
 "nbformat_minor": 5
}
