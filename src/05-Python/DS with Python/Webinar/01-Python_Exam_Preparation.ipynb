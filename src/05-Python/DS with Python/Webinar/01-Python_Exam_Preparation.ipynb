{
  "cells": [
    {
      "cell_type": "markdown",
      "source": [
        "<div align=\"center\" style=\" font-size: 80%; text-align: center; margin: 0 auto\">\n",
        "<img src=\"https://raw.githubusercontent.com/Explore-AI/Pictures/master/Python-Notebook-Banners/Code_challenge.png\"  style=\"display: block; margin-left: auto; margin-right: auto;\";/>\n",
        "</div>"
      ],
      "metadata": {
        "id": "z5Ztq5OELuYm"
      }
    },
    {
      "cell_type": "markdown",
      "metadata": {
        "id": "t9rBVdvwLedO"
      },
      "source": [
        "# Exam Prep"
      ]
    },
    {
      "cell_type": "markdown",
      "metadata": {
        "id": "j0T-J_4JLedQ"
      },
      "source": [
        "## Section 1"
      ]
    },
    {
      "cell_type": "markdown",
      "metadata": {
        "id": "W7_N_byYLedR"
      },
      "source": [
        "### Question 1"
      ]
    },
    {
      "cell_type": "markdown",
      "metadata": {
        "id": "tauomUZKLedR"
      },
      "source": [
        "Write a function that converts a given string into \"txt spk\".\n",
        "\n",
        "The function should take as input a sentence (as `str`) and return as output the string but with all vowles and punctuation removed. For example:\n",
        "```python\n",
        "text_speech('Hello, World!') == 'Hll Wrld'\n",
        "```\n",
        "\n",
        "_**Function specfications:**_\n",
        "* Vowels are defined as any character in `aeiou`. Uppercase vowels should also be removed.\n",
        "* Punctuation is defined as any symbol in `.,!?;:`.\n",
        "* The function should return a `str` type.\n",
        "\n",
        "_**HINT:**_\n",
        "\n",
        "Try Googling \"How to delete a character in Python\" if you get stuck."
      ]
    },
    {
      "cell_type": "code",
      "execution_count": null,
      "metadata": {
        "id": "IyJsM_KMLedR"
      },
      "outputs": [],
      "source": [
        "def text_speech(sentence):\n",
        "    return \"hello\".translate({ord(vowel): None for vowel in 'AEIOUaeiou.,!?;:'})\n"
      ]
    },
    {
      "cell_type": "code",
      "source": [
        "def text_speech(sentence):\n",
        "    vowels = \"aeiouAEIOU\"\n",
        "    punctuation = \".,!?;:\"\n",
        "    txt_spk = \"\"\n",
        "    for char in sentence:\n",
        "        if char not in vowels and char not in punctuation:\n",
        "            txt_spk += char\n",
        "    return txt_spk"
      ],
      "metadata": {
        "id": "mS6alzYJ4zvi"
      },
      "execution_count": null,
      "outputs": []
    },
    {
      "cell_type": "code",
      "execution_count": null,
      "metadata": {
        "colab": {
          "base_uri": "https://localhost:8080/",
          "height": 35
        },
        "id": "-ZY8lZCuLedS",
        "outputId": "7192646c-c062-4775-f134-9e3d6d3665b5"
      },
      "outputs": [
        {
          "output_type": "execute_result",
          "data": {
            "text/plain": [
              "' tlk fnny'"
            ],
            "application/vnd.google.colaboratory.intrinsic+json": {
              "type": "string"
            }
          },
          "metadata": {},
          "execution_count": 4
        }
      ],
      "source": [
        "text_speech('I talk funny')"
      ]
    },
    {
      "cell_type": "markdown",
      "metadata": {
        "id": "kxUyOi5iLedS"
      },
      "source": [
        "_**Expected Outputs:**_\n",
        "```python\n",
        "text_speech('Hello, World!') == 'Hll Wrld'\n",
        "text_speech('I talk funny') == ' tlk fnny'\n",
        "text_speech('This is not good English') == 'Ths s nt gd nglsh'\n",
        "```"
      ]
    },
    {
      "cell_type": "markdown",
      "metadata": {
        "id": "KaB1smCJLedS"
      },
      "source": [
        "### Question 2"
      ]
    },
    {
      "cell_type": "markdown",
      "metadata": {
        "id": "42sHf1OTLedT"
      },
      "source": [
        "The function below should sort the elements of the list in reverse order (highest to lowest) and return the first two elements of the list, however, it contains a number of errors. Uncomment the function, and correct the errors until the function yields the desired output.\n",
        "\n",
        "_**Hint:**_\n",
        "\n",
        "* Use the error messages python provides you to correct the function\n",
        "* To check whether the function is working, you can use the Athena autograder. _**Don't be afraid to submit multiple times to the autograder when checking whether your function works.**_"
      ]
    },
    {
      "cell_type": "code",
      "execution_count": null,
      "metadata": {
        "id": "Tx4fw4VQLedT"
      },
      "outputs": [],
      "source": [
        "def reverse_sort_slice_list(a):\n",
        "    output = sorted(a, reverse=True)\n",
        "    output = output[:2]\n",
        "    return output"
      ]
    },
    {
      "cell_type": "code",
      "source": [
        "def first_two_max(lst):\n",
        "    lst.sort(reverse=True)\n",
        "    return lst[:2]"
      ],
      "metadata": {
        "id": "EA00Porn5Dmj"
      },
      "execution_count": null,
      "outputs": []
    },
    {
      "cell_type": "code",
      "execution_count": null,
      "metadata": {
        "id": "kKMBm5quLedT",
        "outputId": "c4a051ff-b6e4-466d-827d-3022c46443d8"
      },
      "outputs": [
        {
          "output_type": "execute_result",
          "data": {
            "text/plain": [
              "True"
            ]
          },
          "metadata": {},
          "execution_count": 5
        }
      ],
      "source": [
        "reverse_sort_slice_list([1, 5, 3, 2]) == [5, 3]"
      ]
    },
    {
      "cell_type": "markdown",
      "metadata": {
        "id": "WH7DwlWbLedT"
      },
      "source": [
        "_**Expected outputs:**_\n",
        "```python\n",
        "reverse_sort_slice_list([1, 5, 3, 2]) == [5, 3]\n",
        "reverse_sort_slice_list([-1, 3, -6, 7]) == [7, 3]\n",
        "reverse_sort_slice_list([2]) == [2]\n",
        "```"
      ]
    },
    {
      "cell_type": "markdown",
      "metadata": {
        "id": "AywqiaM4LedT"
      },
      "source": [
        "## Section 2"
      ]
    },
    {
      "cell_type": "markdown",
      "metadata": {
        "id": "6LsfWYkSLedT"
      },
      "source": [
        "You will require the use of the `numpy` and `pandas` packages in this section. Use them to answer the following questions."
      ]
    },
    {
      "cell_type": "code",
      "execution_count": null,
      "metadata": {
        "id": "EZlLb59_LedT"
      },
      "outputs": [],
      "source": [
        "import numpy as np\n",
        "import pandas as pd"
      ]
    },
    {
      "cell_type": "markdown",
      "metadata": {
        "id": "LOzo-S5BLedT"
      },
      "source": [
        "### Question 3"
      ]
    },
    {
      "cell_type": "markdown",
      "metadata": {
        "id": "fzddKdhXLedT"
      },
      "source": [
        "Write a function which calculates the following math equation and round your answer to 2 decimal places.\n",
        "\n",
        "\\begin{equation}\n",
        " z = \\frac{\\pi e^{x^2}}{4y}\n",
        "\\end{equation}\n",
        "\n",
        "_**Function Specifications:**_\n",
        "* The input variables `x` and `y` are single values (that is, not a `list`/`array`)\n",
        "* If a division by zero occurs, raise a `ValueError`.\n",
        "* Output should be rounded to 2 decimal places."
      ]
    },
    {
      "cell_type": "code",
      "execution_count": null,
      "metadata": {
        "id": "0IEPza-1LedU"
      },
      "outputs": [],
      "source": [
        "def custom_function(x,y):\n",
        "    import maths\n",
        "    if y == 0:\n",
        "        raise ValueError\n",
        "\n",
        "    z = np.pi * np.exp(x**2) / (4 *  y)\n",
        "\n",
        "    return round(z,2)"
      ]
    },
    {
      "cell_type": "markdown",
      "source": [
        "***If you use any other library please include it within the function***"
      ],
      "metadata": {
        "id": "DjTUf9815SHV"
      }
    },
    {
      "cell_type": "code",
      "execution_count": null,
      "metadata": {
        "id": "FkD_zziELedU",
        "outputId": "90aaa616-d7a2-48a1-af12-f59330a8d6ae"
      },
      "outputs": [
        {
          "output_type": "execute_result",
          "data": {
            "text/plain": [
              "True"
            ]
          },
          "metadata": {},
          "execution_count": 11
        }
      ],
      "source": [
        "custom_function(0.5, 7) == 0.14"
      ]
    },
    {
      "cell_type": "markdown",
      "metadata": {
        "id": "bR9C2KWULedU"
      },
      "source": [
        "_**Expected Outputs:**_\n",
        "```python\n",
        "custom_function(0.5, 7) == 0.14\n",
        "custom_function(0.5,0.01) == 100.85\n",
        "custom_function(0.1,0.3) == 2.64\n",
        "```"
      ]
    },
    {
      "cell_type": "markdown",
      "metadata": {
        "id": "BiRIXvYqLedU"
      },
      "source": [
        "### Question 4"
      ]
    },
    {
      "cell_type": "markdown",
      "metadata": {
        "id": "yTxFKPmdLedU"
      },
      "source": [
        "Given a Python list, calculate and return the difference between the second largest number and the second smallest number. Assume that the list contains two or more elements.\n",
        "\n",
        "_**Function Specifications:**_\n",
        "* The second largest / smallest must be different to the largest / smallest number in a list. That is:\n",
        "```python\n",
        "difference([10, 10, 10, 8, 5, 2, 1, 1, 1]) == 8 - 2 == 6\n",
        "```\n",
        "* Should take a `list` as input."
      ]
    },
    {
      "cell_type": "code",
      "execution_count": null,
      "metadata": {
        "id": "iAQRV6X6LedU"
      },
      "outputs": [],
      "source": [
        "### START FUNCTION\n",
        "def difference(list1):\n",
        "\n",
        "    if len(list1) == 2:\n",
        "        diff = min(list1)-max(list1)\n",
        "        return diff\n",
        "\n",
        "    maximum = max(list1)\n",
        "    minimum = min(list1)\n",
        "\n",
        "    for i in list1:\n",
        "        if maximum in list1:\n",
        "            list1.remove(maximum)\n",
        "        if minimum in list1:\n",
        "            list1.remove(minimum)\n",
        "\n",
        "    diff = max(list1)-min(list1)\n",
        "\n",
        "    return diff\n",
        "### END FUNCTION"
      ]
    },
    {
      "cell_type": "code",
      "source": [
        "def difference(nums):\n",
        "    sorted_nums = sorted(set(nums))\n",
        "\n",
        "    # Calculate and return the difference between the second largest and second smallest numbers\n",
        "    return sorted_nums[-2] - sorted_nums[1]"
      ],
      "metadata": {
        "id": "lzJGxd5K5rYd"
      },
      "execution_count": null,
      "outputs": []
    },
    {
      "cell_type": "markdown",
      "source": [
        "[1,2]\n",
        "1-2 =-1"
      ],
      "metadata": {
        "id": "6A6Pl4DVn_j_"
      }
    },
    {
      "cell_type": "code",
      "execution_count": null,
      "metadata": {
        "colab": {
          "base_uri": "https://localhost:8080/"
        },
        "id": "D8DzSZokLedV",
        "outputId": "56662814-6f12-4e4c-df52-828a5d4bd29a"
      },
      "outputs": [
        {
          "output_type": "execute_result",
          "data": {
            "text/plain": [
              "True"
            ]
          },
          "metadata": {},
          "execution_count": 2
        }
      ],
      "source": [
        "difference([1, 2]) == -1"
      ]
    },
    {
      "cell_type": "markdown",
      "metadata": {
        "id": "Bv9rqM4nLedV"
      },
      "source": [
        "_**Expected Outputs:**_\n",
        "```python\n",
        "difference([1,2]) == -1\n",
        "difference([1,2,3,4]) == 1\n",
        "difference([5,13,1,9,18]) == 8\n",
        "```"
      ]
    },
    {
      "cell_type": "markdown",
      "metadata": {
        "id": "cHjT5A-VLedV"
      },
      "source": [
        "### Question 5"
      ]
    },
    {
      "cell_type": "markdown",
      "metadata": {
        "id": "znXVOQiELedV"
      },
      "source": [
        "Write a function that takes a list of numbers as an input and produces a report on the sample statistics of the list. The function should return a `dict` type object containing statistics of the list.\n",
        "\n",
        "_**Function Specifications:**_\n",
        "* Must take a `list` as input.\n",
        "* If the function does not receive a `list`, it must raise a `TypeError`.\n",
        "* If the length of the `list` is smaller than or equal to 1, raise a `ValueError`.\n",
        "* Function must return a `dict`, whose keys represent the sample statistics of the input with the following format:\n",
        "```python\n",
        "{\n",
        "    'mean': # mean of the input,\n",
        "    'std': # unbiased estimate of the standard deviation,\n",
        "    'min': # minimum of the input,\n",
        "    'median': # median of the input,\n",
        "    'max': # maximum of the input\n",
        "}\n",
        "```\n",
        "* If the input list contains multiple rows, the function should report on the mean/std/max/etc of each row in the form of a list.\n",
        "```python\n",
        "statistics([[1, 2], [3, 4]]) == {\n",
        "    'mean': [1.5, 3.5],\n",
        "    'std': [0.71, 0.71],\n",
        "    'min': [1, 3],\n",
        "    'median': [1.5, 3.5],\n",
        "    'max': [2, 4]\n",
        "}\n",
        "```\n",
        "* All numerical values should be rounded to 2 decimal places\n",
        "\n",
        "_**HINT:**_\n",
        "\n",
        "* Use `numpy` functions with the `axis` keyword.\n",
        "* When doing an unbiased estimate, try googling the `ddof` keyword, or refer to the train in Athena.\n",
        "* The `axis` keyword should be either `0`, `1`, or `-1`. One of these will work better than the other.\n",
        "* _You can get partial marks for this question if you only get part of it correct. Don't be afraid to submit to the autograder for marks if you are getting stuck._"
      ]
    },
    {
      "cell_type": "code",
      "execution_count": null,
      "metadata": {
        "id": "aBqyo8v5LedV"
      },
      "outputs": [],
      "source": [
        "def statistics(x):\n",
        "\n",
        "    if len(x) <= 1:\n",
        "        raise ValueError\n",
        "\n",
        "    if not isinstance(x, list):\n",
        "        raise TypeError\n",
        "\n",
        "    out = dict()\n",
        "    out['mean'] = np.mean(x, axis=-1)\n",
        "    out['std'] = np.std(x, axis=-1, ddof=1)\n",
        "    out['min'] = np.min(x, axis=-1)\n",
        "    out['median'] = np.median(x, axis=-1)\n",
        "    out['max'] = np.max(x, axis=-1)\n",
        "\n",
        "    for key, value in out.items():\n",
        "        out[key] = np.round(value, 2).tolist()\n",
        "    return out"
      ]
    },
    {
      "cell_type": "code",
      "execution_count": null,
      "metadata": {
        "id": "xN2hTECILedV",
        "outputId": "814d3c68-54ab-415f-d908-c22db479bca0"
      },
      "outputs": [
        {
          "data": {
            "text/plain": [
              "{'mean': 2.4, 'std': 1.14, 'min': 1, 'median': 2.0, 'max': 4}"
            ]
          },
          "execution_count": 11,
          "metadata": {},
          "output_type": "execute_result"
        }
      ],
      "source": [
        "statistics([1, 2, 2, 3, 4])"
      ]
    },
    {
      "cell_type": "markdown",
      "metadata": {
        "id": "8ZRfxDFbLedV"
      },
      "source": [
        "_**Expected Outputs:**_\n",
        "```python\n",
        "statistics([1, 1, 1, 1]) == {'mean': 1, 'std': 0, 'min': 1, 'median', 1, 'max': 1}\n",
        "statistics([1, 2, 2, 3, 4]) == {'mean': 2.4, 'std': 1.14, 'min': 1, 'median': 2.0, 'max': 4}\n",
        "statistics([[1, 2], [3, 4]]) == {\n",
        "    'mean': [1.5, 3.5],\n",
        "    'std': [0.71, 0.71],\n",
        "    'min': [1, 3],\n",
        "    'median': [1.5, 3.5],\n",
        "    'max': [2, 4]\n",
        "}\n",
        "```"
      ]
    },
    {
      "cell_type": "markdown",
      "metadata": {
        "id": "dwim3omkLedW"
      },
      "source": [
        "### Dataframes"
      ]
    },
    {
      "cell_type": "markdown",
      "metadata": {
        "id": "yXpwQZKpLedW"
      },
      "source": [
        "You will need these dataframes in order to answer the following questions.\n",
        "\n",
        "_**DO NOT ALTER THESE DATAFRAMES AS DOING SO CAN LEAD TO A NEGATIVE MARK**_"
      ]
    },
    {
      "cell_type": "code",
      "execution_count": null,
      "metadata": {
        "id": "Xr0u9CylLedW"
      },
      "outputs": [],
      "source": [
        "country_map_df = pd.read_csv('https://raw.githubusercontent.com/Explore-AI/Public-Data/master/AnalyseProject/country_code_map.csv', index_col='Country Code')\n",
        "population_df = pd.read_csv('https://raw.githubusercontent.com/Explore-AI/Public-Data/master/AnalyseProject/world_population.csv', index_col='Country Code')\n",
        "meta_df = pd.read_csv('https://raw.githubusercontent.com/Explore-AI/Public-Data/master/AnalyseProject/metadata.csv', index_col='Country Code')"
      ]
    },
    {
      "cell_type": "markdown",
      "metadata": {
        "id": "DNtRu8-uLedW"
      },
      "source": [
        "_**Dataframe specifications:**_\n",
        "\n",
        "The dataframes provide information about the population of the world for various years. Some things to note:\n",
        "* All dataframes have a `Country Code` as an index, which is a three letter code referring to a country.\n",
        "* The `country_map_df` data maps the `Country Code` to a `Country Name`.\n",
        "* The `population_df` data contains information on the population for a given country between the years of 1960 and 2017.\n",
        "* The `meta_df` data contains meta information about each country, including it's geographical region, it's income group, and a comment on the country as a whole."
      ]
    },
    {
      "cell_type": "code",
      "execution_count": null,
      "metadata": {
        "id": "QwLAnV_bLedW",
        "outputId": "a0fc74f4-9384-49a8-bd51-843ed22d2e86"
      },
      "outputs": [
        {
          "output_type": "execute_result",
          "data": {
            "text/plain": [
              "             Country Name\n",
              "Country Code             \n",
              "ABW                 Aruba\n",
              "AFG           Afghanistan\n",
              "AGO                Angola\n",
              "ALB               Albania\n",
              "AND               Andorra"
            ],
            "text/html": "<div>\n<style scoped>\n    .dataframe tbody tr th:only-of-type {\n        vertical-align: middle;\n    }\n\n    .dataframe tbody tr th {\n        vertical-align: top;\n    }\n\n    .dataframe thead th {\n        text-align: right;\n    }\n</style>\n<table border=\"1\" class=\"dataframe\">\n  <thead>\n    <tr style=\"text-align: right;\">\n      <th></th>\n      <th>Country Name</th>\n    </tr>\n    <tr>\n      <th>Country Code</th>\n      <th></th>\n    </tr>\n  </thead>\n  <tbody>\n    <tr>\n      <th>ABW</th>\n      <td>Aruba</td>\n    </tr>\n    <tr>\n      <th>AFG</th>\n      <td>Afghanistan</td>\n    </tr>\n    <tr>\n      <th>AGO</th>\n      <td>Angola</td>\n    </tr>\n    <tr>\n      <th>ALB</th>\n      <td>Albania</td>\n    </tr>\n    <tr>\n      <th>AND</th>\n      <td>Andorra</td>\n    </tr>\n  </tbody>\n</table>\n</div>"
          },
          "metadata": {},
          "execution_count": 15
        }
      ],
      "source": [
        "country_map_df.head()"
      ]
    },
    {
      "cell_type": "code",
      "execution_count": null,
      "metadata": {
        "id": "2_KwpEqVLedW",
        "outputId": "3a19e331-c02d-45b4-b977-3fe8638ed0e1"
      },
      "outputs": [
        {
          "output_type": "execute_result",
          "data": {
            "text/plain": [
              "                   1960       1961       1962       1963       1964  \\\n",
              "Country Code                                                          \n",
              "ABW             54211.0    55438.0    56225.0    56695.0    57032.0   \n",
              "AFG           8996351.0  9166764.0  9345868.0  9533954.0  9731361.0   \n",
              "AGO           5643182.0  5753024.0  5866061.0  5980417.0  6093321.0   \n",
              "ALB           1608800.0  1659800.0  1711319.0  1762621.0  1814135.0   \n",
              "AND             13411.0    14375.0    15370.0    16412.0    17469.0   \n",
              "\n",
              "                   1965        1966        1967        1968        1969  ...  \\\n",
              "Country Code                                                             ...   \n",
              "ABW             57360.0     57715.0     58055.0     58386.0     58726.0  ...   \n",
              "AFG           9938414.0  10152331.0  10372630.0  10604346.0  10854428.0  ...   \n",
              "AGO           6203299.0   6309770.0   6414995.0   6523791.0   6642632.0  ...   \n",
              "ALB           1864791.0   1914573.0   1965598.0   2022272.0   2081695.0  ...   \n",
              "AND             18549.0     19647.0     20758.0     21890.0     23058.0  ...   \n",
              "\n",
              "                    2008        2009        2010        2011        2012  \\\n",
              "Country Code                                                               \n",
              "ABW             101353.0    101453.0    101669.0    102053.0    102577.0   \n",
              "AFG           27294031.0  28004331.0  28803167.0  29708599.0  30696958.0   \n",
              "AGO           21759420.0  22549547.0  23369131.0  24218565.0  25096150.0   \n",
              "ALB            2947314.0   2927519.0   2913021.0   2905195.0   2900401.0   \n",
              "AND              83861.0     84462.0     84449.0     83751.0     82431.0   \n",
              "\n",
              "                    2013        2014        2015        2016        2017  \n",
              "Country Code                                                              \n",
              "ABW             103187.0    103795.0    104341.0    104822.0    105264.0  \n",
              "AFG           31731688.0  32758020.0  33736494.0  34656032.0  35530081.0  \n",
              "AGO           25998340.0  26920466.0  27859305.0  28813463.0  29784193.0  \n",
              "ALB            2895092.0   2889104.0   2880703.0   2876101.0   2873457.0  \n",
              "AND              80788.0     79223.0     78014.0     77281.0     76965.0  \n",
              "\n",
              "[5 rows x 58 columns]"
            ],
            "text/html": "<div>\n<style scoped>\n    .dataframe tbody tr th:only-of-type {\n        vertical-align: middle;\n    }\n\n    .dataframe tbody tr th {\n        vertical-align: top;\n    }\n\n    .dataframe thead th {\n        text-align: right;\n    }\n</style>\n<table border=\"1\" class=\"dataframe\">\n  <thead>\n    <tr style=\"text-align: right;\">\n      <th></th>\n      <th>1960</th>\n      <th>1961</th>\n      <th>1962</th>\n      <th>1963</th>\n      <th>1964</th>\n      <th>1965</th>\n      <th>1966</th>\n      <th>1967</th>\n      <th>1968</th>\n      <th>1969</th>\n      <th>...</th>\n      <th>2008</th>\n      <th>2009</th>\n      <th>2010</th>\n      <th>2011</th>\n      <th>2012</th>\n      <th>2013</th>\n      <th>2014</th>\n      <th>2015</th>\n      <th>2016</th>\n      <th>2017</th>\n    </tr>\n    <tr>\n      <th>Country Code</th>\n      <th></th>\n      <th></th>\n      <th></th>\n      <th></th>\n      <th></th>\n      <th></th>\n      <th></th>\n      <th></th>\n      <th></th>\n      <th></th>\n      <th></th>\n      <th></th>\n      <th></th>\n      <th></th>\n      <th></th>\n      <th></th>\n      <th></th>\n      <th></th>\n      <th></th>\n      <th></th>\n      <th></th>\n    </tr>\n  </thead>\n  <tbody>\n    <tr>\n      <th>ABW</th>\n      <td>54211.0</td>\n      <td>55438.0</td>\n      <td>56225.0</td>\n      <td>56695.0</td>\n      <td>57032.0</td>\n      <td>57360.0</td>\n      <td>57715.0</td>\n      <td>58055.0</td>\n      <td>58386.0</td>\n      <td>58726.0</td>\n      <td>...</td>\n      <td>101353.0</td>\n      <td>101453.0</td>\n      <td>101669.0</td>\n      <td>102053.0</td>\n      <td>102577.0</td>\n      <td>103187.0</td>\n      <td>103795.0</td>\n      <td>104341.0</td>\n      <td>104822.0</td>\n      <td>105264.0</td>\n    </tr>\n    <tr>\n      <th>AFG</th>\n      <td>8996351.0</td>\n      <td>9166764.0</td>\n      <td>9345868.0</td>\n      <td>9533954.0</td>\n      <td>9731361.0</td>\n      <td>9938414.0</td>\n      <td>10152331.0</td>\n      <td>10372630.0</td>\n      <td>10604346.0</td>\n      <td>10854428.0</td>\n      <td>...</td>\n      <td>27294031.0</td>\n      <td>28004331.0</td>\n      <td>28803167.0</td>\n      <td>29708599.0</td>\n      <td>30696958.0</td>\n      <td>31731688.0</td>\n      <td>32758020.0</td>\n      <td>33736494.0</td>\n      <td>34656032.0</td>\n      <td>35530081.0</td>\n    </tr>\n    <tr>\n      <th>AGO</th>\n      <td>5643182.0</td>\n      <td>5753024.0</td>\n      <td>5866061.0</td>\n      <td>5980417.0</td>\n      <td>6093321.0</td>\n      <td>6203299.0</td>\n      <td>6309770.0</td>\n      <td>6414995.0</td>\n      <td>6523791.0</td>\n      <td>6642632.0</td>\n      <td>...</td>\n      <td>21759420.0</td>\n      <td>22549547.0</td>\n      <td>23369131.0</td>\n      <td>24218565.0</td>\n      <td>25096150.0</td>\n      <td>25998340.0</td>\n      <td>26920466.0</td>\n      <td>27859305.0</td>\n      <td>28813463.0</td>\n      <td>29784193.0</td>\n    </tr>\n    <tr>\n      <th>ALB</th>\n      <td>1608800.0</td>\n      <td>1659800.0</td>\n      <td>1711319.0</td>\n      <td>1762621.0</td>\n      <td>1814135.0</td>\n      <td>1864791.0</td>\n      <td>1914573.0</td>\n      <td>1965598.0</td>\n      <td>2022272.0</td>\n      <td>2081695.0</td>\n      <td>...</td>\n      <td>2947314.0</td>\n      <td>2927519.0</td>\n      <td>2913021.0</td>\n      <td>2905195.0</td>\n      <td>2900401.0</td>\n      <td>2895092.0</td>\n      <td>2889104.0</td>\n      <td>2880703.0</td>\n      <td>2876101.0</td>\n      <td>2873457.0</td>\n    </tr>\n    <tr>\n      <th>AND</th>\n      <td>13411.0</td>\n      <td>14375.0</td>\n      <td>15370.0</td>\n      <td>16412.0</td>\n      <td>17469.0</td>\n      <td>18549.0</td>\n      <td>19647.0</td>\n      <td>20758.0</td>\n      <td>21890.0</td>\n      <td>23058.0</td>\n      <td>...</td>\n      <td>83861.0</td>\n      <td>84462.0</td>\n      <td>84449.0</td>\n      <td>83751.0</td>\n      <td>82431.0</td>\n      <td>80788.0</td>\n      <td>79223.0</td>\n      <td>78014.0</td>\n      <td>77281.0</td>\n      <td>76965.0</td>\n    </tr>\n  </tbody>\n</table>\n<p>5 rows × 58 columns</p>\n</div>"
          },
          "metadata": {},
          "execution_count": 16
        }
      ],
      "source": [
        "population_df.head()"
      ]
    },
    {
      "cell_type": "code",
      "execution_count": null,
      "metadata": {
        "id": "HkhDdOLiLedW",
        "outputId": "3b79215a-f0f5-4894-eec4-6075820624ec"
      },
      "outputs": [
        {
          "output_type": "execute_result",
          "data": {
            "text/plain": [
              "                                 Region         Income Group  \\\n",
              "Country Code                                                   \n",
              "ABW           Latin America & Caribbean          High income   \n",
              "AFG                          South Asia           Low income   \n",
              "AGO                  Sub-Saharan Africa  Lower middle income   \n",
              "ALB               Europe & Central Asia  Upper middle income   \n",
              "AND               Europe & Central Asia          High income   \n",
              "\n",
              "                                                  Special Notes  \n",
              "Country Code                                                     \n",
              "ABW           Mining is included in agriculture\\r\\r\\r\\nElect...  \n",
              "AFG           Fiscal year end: March 20; reporting period fo...  \n",
              "AGO                                                         NaN  \n",
              "ALB                                                         NaN  \n",
              "AND           WB-3 code changed from ADO to AND to align wit...  "
            ],
            "text/html": "<div>\n<style scoped>\n    .dataframe tbody tr th:only-of-type {\n        vertical-align: middle;\n    }\n\n    .dataframe tbody tr th {\n        vertical-align: top;\n    }\n\n    .dataframe thead th {\n        text-align: right;\n    }\n</style>\n<table border=\"1\" class=\"dataframe\">\n  <thead>\n    <tr style=\"text-align: right;\">\n      <th></th>\n      <th>Region</th>\n      <th>Income Group</th>\n      <th>Special Notes</th>\n    </tr>\n    <tr>\n      <th>Country Code</th>\n      <th></th>\n      <th></th>\n      <th></th>\n    </tr>\n  </thead>\n  <tbody>\n    <tr>\n      <th>ABW</th>\n      <td>Latin America &amp; Caribbean</td>\n      <td>High income</td>\n      <td>Mining is included in agriculture\\r\\r\\r\\nElect...</td>\n    </tr>\n    <tr>\n      <th>AFG</th>\n      <td>South Asia</td>\n      <td>Low income</td>\n      <td>Fiscal year end: March 20; reporting period fo...</td>\n    </tr>\n    <tr>\n      <th>AGO</th>\n      <td>Sub-Saharan Africa</td>\n      <td>Lower middle income</td>\n      <td>NaN</td>\n    </tr>\n    <tr>\n      <th>ALB</th>\n      <td>Europe &amp; Central Asia</td>\n      <td>Upper middle income</td>\n      <td>NaN</td>\n    </tr>\n    <tr>\n      <th>AND</th>\n      <td>Europe &amp; Central Asia</td>\n      <td>High income</td>\n      <td>WB-3 code changed from ADO to AND to align wit...</td>\n    </tr>\n  </tbody>\n</table>\n</div>"
          },
          "metadata": {},
          "execution_count": 17
        }
      ],
      "source": [
        "meta_df.head()"
      ]
    },
    {
      "cell_type": "markdown",
      "metadata": {
        "id": "G6xJdmcILedX"
      },
      "source": [
        "Using this information, answer the questions below:"
      ]
    },
    {
      "cell_type": "markdown",
      "metadata": {
        "id": "QcojcwANLedX"
      },
      "source": [
        "### Question 6"
      ]
    },
    {
      "cell_type": "markdown",
      "metadata": {
        "id": "LYcDvih3LedX"
      },
      "source": [
        "Write a function that returns the population for a given year and country name.\n",
        "\n",
        "_**Function Specifications:**_\n",
        "* The function should take in a year as `int` and a country name as a `str` as inputs.\n",
        "* The function should return an `int`.\n",
        "\n",
        "_**Note:**_\n",
        "* Column references should be a `str` type. This is relevant when referring to the years in the `population_df` table."
      ]
    },
    {
      "cell_type": "code",
      "execution_count": null,
      "metadata": {
        "id": "IrZjPLAuLedX"
      },
      "outputs": [],
      "source": [
        "### START FUNCTION\n",
        "def population_by_country_year(country_name, year):\n",
        "    df = country_map_df.copy()\n",
        "    df = df.join(population_df)\n",
        "    df = df[df['Country Name'] == country_name]\n",
        "    out = df[str(year)].values\n",
        "    return int(out)\n",
        "### END FUNCTION"
      ]
    },
    {
      "cell_type": "code",
      "execution_count": null,
      "metadata": {
        "id": "KjNmGcIhLedX",
        "outputId": "aa6dce1e-4f87-4c94-a9cd-658e11e2ce14"
      },
      "outputs": [
        {
          "output_type": "execute_result",
          "data": {
            "text/plain": [
              "39871528"
            ]
          },
          "metadata": {},
          "execution_count": 19
        }
      ],
      "source": [
        "population_by_country_year('Algeria', 2015)"
      ]
    },
    {
      "cell_type": "markdown",
      "metadata": {
        "id": "4fH3FuKvLedX"
      },
      "source": [
        "_**Expected Outputs:**_\n",
        "```python\n",
        "population_by_country_year('South Africa', 1960) == 17456855\n",
        "population_by_country_year('Canada', 2012) == 34750545\n",
        "population_by_country_year('Algeria', 2015) == 39871528\n",
        "```"
      ]
    },
    {
      "cell_type": "markdown",
      "metadata": {
        "id": "v1uShNGdLedX"
      },
      "source": [
        "### Question 7"
      ]
    },
    {
      "cell_type": "markdown",
      "metadata": {
        "id": "NXhh4bCELedX"
      },
      "source": [
        "Write a function that returns the summed population total in each geographic region for a given year.\n",
        "\n",
        "_**Function Specifications:**_\n",
        "* Should take as input a year as an `int`.\n",
        "* Should have `Region` as the index.\n",
        "* Should return a `DataFrame`, NOT a `Series`."
      ]
    },
    {
      "cell_type": "code",
      "execution_count": null,
      "metadata": {
        "id": "sWgrpY9iLedY"
      },
      "outputs": [],
      "source": [
        "### START FUNCTION\n",
        "def total_pop_in_region(year):\n",
        "    df = meta_df[['Region']].copy()\n",
        "    df = df.join(population_df)\n",
        "    df = df.groupby('Region').sum()\n",
        "    df = df[[str(year)]]\n",
        "    return df\n",
        "### END FUNCTION"
      ]
    },
    {
      "cell_type": "code",
      "execution_count": null,
      "metadata": {
        "id": "lNCusU5OLedY",
        "outputId": "90dd7e1f-8bd2-488b-f651-a4ba85eadf71"
      },
      "outputs": [
        {
          "output_type": "execute_result",
          "data": {
            "text/plain": [
              "                                    1960\n",
              "Region                                  \n",
              "East Asia & Pacific         1.029333e+09\n",
              "Europe & Central Asia       6.606384e+08\n",
              "Latin America & Caribbean   2.204347e+08\n",
              "Middle East & North Africa  1.054887e+08\n",
              "North America               1.986244e+08\n",
              "South Asia                  5.718357e+08\n",
              "Sub-Saharan Africa          2.285860e+08"
            ],
            "text/html": "<div>\n<style scoped>\n    .dataframe tbody tr th:only-of-type {\n        vertical-align: middle;\n    }\n\n    .dataframe tbody tr th {\n        vertical-align: top;\n    }\n\n    .dataframe thead th {\n        text-align: right;\n    }\n</style>\n<table border=\"1\" class=\"dataframe\">\n  <thead>\n    <tr style=\"text-align: right;\">\n      <th></th>\n      <th>1960</th>\n    </tr>\n    <tr>\n      <th>Region</th>\n      <th></th>\n    </tr>\n  </thead>\n  <tbody>\n    <tr>\n      <th>East Asia &amp; Pacific</th>\n      <td>1.029333e+09</td>\n    </tr>\n    <tr>\n      <th>Europe &amp; Central Asia</th>\n      <td>6.606384e+08</td>\n    </tr>\n    <tr>\n      <th>Latin America &amp; Caribbean</th>\n      <td>2.204347e+08</td>\n    </tr>\n    <tr>\n      <th>Middle East &amp; North Africa</th>\n      <td>1.054887e+08</td>\n    </tr>\n    <tr>\n      <th>North America</th>\n      <td>1.986244e+08</td>\n    </tr>\n    <tr>\n      <th>South Asia</th>\n      <td>5.718357e+08</td>\n    </tr>\n    <tr>\n      <th>Sub-Saharan Africa</th>\n      <td>2.285860e+08</td>\n    </tr>\n  </tbody>\n</table>\n</div>"
          },
          "metadata": {},
          "execution_count": 21
        }
      ],
      "source": [
        "total_pop_in_region(1960)"
      ]
    },
    {
      "cell_type": "markdown",
      "metadata": {
        "id": "YTE05lf6LedY"
      },
      "source": [
        "_**Expected Outputs:**_\n",
        "```python\n",
        "total_pop_in_region(1960)\n",
        "```\n",
        "> <table class=\"dataframe\" border=\"1\">\n",
        "  <thead>\n",
        "    <tr style=\"text-align: right;\">\n",
        "      <th></th>\n",
        "      <th>1960</th>\n",
        "    </tr>\n",
        "    <tr>\n",
        "      <th>Region</th>\n",
        "      <th></th>\n",
        "    </tr>\n",
        "  </thead>\n",
        "  <tbody>\n",
        "    <tr>\n",
        "      <th>East Asia &amp; Pacific</th>\n",
        "      <td>1.029333e+09</td>\n",
        "    </tr>\n",
        "    <tr>\n",
        "      <th>Europe &amp; Central Asia</th>\n",
        "      <td>6.606384e+08</td>\n",
        "    </tr>\n",
        "    <tr>\n",
        "      <th>Latin America &amp; Caribbean</th>\n",
        "      <td>2.204347e+08</td>\n",
        "    </tr>\n",
        "    <tr>\n",
        "      <th>Middle East &amp; North Africa</th>\n",
        "      <td>1.054887e+08</td>\n",
        "    </tr>\n",
        "    <tr>\n",
        "      <th>North America</th>\n",
        "      <td>1.986244e+08</td>\n",
        "    </tr>\n",
        "    <tr>\n",
        "      <th>South Asia</th>\n",
        "      <td>5.718357e+08</td>\n",
        "    </tr>\n",
        "    <tr>\n",
        "      <th>Sub-Saharan Africa</th>\n",
        "      <td>2.285860e+08</td>\n",
        "    </tr>\n",
        "  </tbody>\n",
        "</table>\n",
        "\n",
        "```python\n",
        "total_pop_in_region(2016)\n",
        "```\n",
        "> <table class=\"dataframe\" border=\"1\">\n",
        "  <thead>\n",
        "    <tr style=\"text-align: right;\">\n",
        "      <th></th>\n",
        "      <th>2016</th>\n",
        "    </tr>\n",
        "    <tr>\n",
        "      <th>Region</th>\n",
        "      <th></th>\n",
        "    </tr>\n",
        "  </thead>\n",
        "  <tbody>\n",
        "    <tr>\n",
        "      <th>East Asia &amp; Pacific</th>\n",
        "      <td>2.275219e+09</td>\n",
        "    </tr>\n",
        "    <tr>\n",
        "      <th>Europe &amp; Central Asia</th>\n",
        "      <td>9.116863e+08</td>\n",
        "    </tr>\n",
        "    <tr>\n",
        "      <th>Latin America &amp; Caribbean</th>\n",
        "      <td>6.376639e+08</td>\n",
        "    </tr>\n",
        "    <tr>\n",
        "      <th>Middle East &amp; North Africa</th>\n",
        "      <td>4.367380e+08</td>\n",
        "    </tr>\n",
        "    <tr>\n",
        "      <th>North America</th>\n",
        "      <td>3.597359e+08</td>\n",
        "    </tr>\n",
        "    <tr>\n",
        "      <th>South Asia</th>\n",
        "      <td>1.766394e+09</td>\n",
        "    </tr>\n",
        "    <tr>\n",
        "      <th>Sub-Saharan Africa</th>\n",
        "      <td>1.028258e+09</td>\n",
        "    </tr>\n",
        "  </tbody>\n",
        "</table>"
      ]
    },
    {
      "cell_type": "markdown",
      "source": [
        "#Examples for you"
      ],
      "metadata": {
        "id": "U6LdWF1PPY5a"
      }
    },
    {
      "cell_type": "markdown",
      "source": [
        "### Challenge 1:\n",
        "\n",
        "Palindrome Check\n",
        "Question: Write a function to determine if a given string is a palindrome.\n",
        "\n"
      ],
      "metadata": {
        "id": "ZaCJQtrCPgvc"
      }
    },
    {
      "cell_type": "code",
      "source": [
        "def is_palindrome(s):\n",
        "    # CODE HERE\n",
        "    return"
      ],
      "metadata": {
        "id": "Nrocf90yPgLs"
      },
      "execution_count": null,
      "outputs": []
    },
    {
      "cell_type": "markdown",
      "source": [
        "**Expected Output**\n",
        "\n",
        "```python\n",
        "is_palindrome(\"radar\"))  == True\n",
        "is_palindrome(\"hello\")) ==  False\n",
        "```"
      ],
      "metadata": {
        "id": "-CzzfNF1PrEa"
      }
    },
    {
      "cell_type": "markdown",
      "source": [
        "### Challenge 2:\n",
        "\n",
        "Factorial Calculation\n",
        "Question: Write a function to calculate the factorial of a given number."
      ],
      "metadata": {
        "id": "GyeIY01-QwjR"
      }
    },
    {
      "cell_type": "code",
      "source": [
        "def factorial(n):\n",
        "  # CODE HERE\n",
        "  return"
      ],
      "metadata": {
        "id": "txmHqb-VQk62"
      },
      "execution_count": null,
      "outputs": []
    },
    {
      "cell_type": "markdown",
      "source": [
        "**Expected Output**\n",
        "\n",
        "```python\n",
        "factorial(5) == 120\n",
        "```\n",
        "\n"
      ],
      "metadata": {
        "id": "HowpQp9TQ6v4"
      }
    },
    {
      "cell_type": "markdown",
      "source": [
        "### Challenge 3:\n",
        "Find the Missing Number\n",
        "Question: Given an array containing n distinct numbers taken from 0, 1, 2, ..., n, find the one that is missing from the array.\n",
        "\n"
      ],
      "metadata": {
        "id": "j1VEqVDRRKqe"
      }
    },
    {
      "cell_type": "code",
      "source": [
        "def missing_number(nums):\n",
        "  # CODE HERE\n",
        "  return"
      ],
      "metadata": {
        "id": "My0SzOSDRFVY"
      },
      "execution_count": null,
      "outputs": []
    },
    {
      "cell_type": "markdown",
      "source": [
        "**Expected Output**\n",
        "\n",
        "```python\n",
        "missing_number([3, 0, 1]) == 2\n",
        "missing_number([9, 6, 4, 2, 3, 5, 7, 0, 1]))  ==  8\n",
        "```\n",
        "\n"
      ],
      "metadata": {
        "id": "jP9PeD14TUsZ"
      }
    },
    {
      "cell_type": "markdown",
      "source": [
        "# Solutions"
      ],
      "metadata": {
        "id": "zLH2bmIY6KbY"
      }
    },
    {
      "cell_type": "code",
      "source": [
        "def is_palindrome(s):\n",
        "    # Convert string to lowercase\n",
        "    s = s.lower()\n",
        "    # Check if the string is equal to its reverse\n",
        "    return s == s[::-1]"
      ],
      "metadata": {
        "id": "nDGFeTxx4MKF"
      },
      "execution_count": null,
      "outputs": []
    },
    {
      "cell_type": "code",
      "source": [
        "def factorial(n):\n",
        "    if n == 0:\n",
        "        return 1\n",
        "    else:\n",
        "        return n * factorial(n - 1)\n"
      ],
      "metadata": {
        "id": "zJ1zs1Fa6WGS"
      },
      "execution_count": null,
      "outputs": []
    },
    {
      "cell_type": "code",
      "source": [
        "def missing_number(nums):\n",
        "    n = len(nums)\n",
        "    # Sum of all numbers from 0 to n\n",
        "    total = n * (n + 1) // 2\n",
        "    # Sum of all numbers in the array\n",
        "    actual_sum = sum(nums)\n",
        "    return total - actual_sum"
      ],
      "metadata": {
        "id": "eqIB_HdC6baS"
      },
      "execution_count": null,
      "outputs": []
    }
  ],
  "metadata": {
    "kernelspec": {
      "display_name": "Python 3",
      "language": "python",
      "name": "python3"
    },
    "language_info": {
      "codemirror_mode": {
        "name": "ipython",
        "version": 3
      },
      "file_extension": ".py",
      "mimetype": "text/x-python",
      "name": "python",
      "nbconvert_exporter": "python",
      "pygments_lexer": "ipython3",
      "version": "3.7.6-final"
    },
    "colab": {
      "provenance": [],
      "collapsed_sections": [
        "BiRIXvYqLedU"
      ]
    }
  },
  "nbformat": 4,
  "nbformat_minor": 0
}