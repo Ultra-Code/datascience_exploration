{
 "cells": [
  {
   "cell_type": "markdown",
   "metadata": {},
   "source": [
    "<div align=\"center\" style=\" font-size: 80%; text-align: center; margin: 0 auto\">\n",
    "<img src=\"https://raw.githubusercontent.com/Explore-AI/Pictures/master/Python-Notebook-Banners/Examples.png\"  style=\"display: block; margin-left: auto; margin-right: auto;\";/>\n",
    "</div>"
   ]
  },
  {
   "cell_type": "markdown",
   "metadata": {},
   "source": [
    "# Examples: Building a Python package\n",
    "© ExploreAI Academy"
   ]
  },
  {
   "cell_type": "markdown",
   "metadata": {},
   "source": [
    "In this notebook, we cover how to build a Python package and share it with others online. We also look at how to install the package and steps for updating it in the future."
   ]
  },
  {
   "cell_type": "markdown",
   "metadata": {},
   "source": [
    "## Learning objectives\n",
    "\n",
    "In this lesson, we will:\n",
    "* Understand how Python packages work.\n",
    "* Create our own Python package.\n",
    "* Distribute the package on GitHub.\n",
    "\n"
   ]
  },
  {
   "cell_type": "markdown",
   "metadata": {},
   "source": [
    "## Outline\n",
    "\n",
    "  - [Introduction](#Introduction)\n",
    "  - [1. Set up project working directory](#1.-Set-up-project-working-directory)\n",
    "  - [2. Build our package](#2.-Build-our-package)\n",
    "  - [3. Distribute our package](#3.-Distribute-our-package)\n",
    "  - [4. Install our package](#4.-Install-our-package)\n",
    "  - [5. Maintaining our package](#5.-Maintaining-our-package)\n",
    "  - [Conclusion](#Conclusion)"
   ]
  },
  {
   "cell_type": "markdown",
   "metadata": {},
   "source": [
    "## Introduction\n",
    "\n",
    "By now, we have made use of some popular Python packages such as `numpy` and `pandas`. It's hard to find a data scientist who hasn't, at the very least, *heard* of either of these packages. \n",
    "\n",
    "One of the great features of Python is that it is an **open-source programming language**, with an active community of developers who have helped, and continue to help, make it so user-friendly and versatile. \n",
    "\n",
    "NumPy and Pandas are just two examples of useful packages that we will come across on our data science journey. There are thousands of Python packages out there, and today we are going to **learn how to build our own**!"
   ]
  },
  {
   "cell_type": "markdown",
   "metadata": {},
   "source": [
    "### Requirements\n",
    "\n",
    "Before we get started, here are a few things we will need to do:\n",
    "\n",
    "  - Install the [Visual Studio Code IDE](https://code.visualstudio.com/download).\n",
    "  - Install [Git](https://git-scm.com/downloads).\n",
    "  - Sign up for a [free GitHub account](https://github.com/).\n",
    "  \n",
    "**Note:** It is recommended that we be familiar with GitHub and know how to use Git."
   ]
  },
  {
   "cell_type": "markdown",
   "metadata": {},
   "source": [
    "## 1. Set up project working directory\n",
    "\n",
    "Once all of the necessary software has been installed, we will need to **set up our project working directory**. Let's work through this process step by step to **create** our **file structure** and each of the **files we will need**."
   ]
  },
  {
   "cell_type": "markdown",
   "metadata": {},
   "source": [
    "### File structure\n",
    "\n",
    "We navigate to a **location** in our computer's file system where we wish **to store our project** and **create a new folder**. \n",
    "\n",
    "We may **name the folder** whatever we like. For this tutorial, we will name it **`mypackage`**. \n",
    "\n",
    "From here on, we will refer to this new folder as our **project's root folder**.\n",
    "\n",
    "> **Note:** The naming convention for Python packages is to use **short** and **all-lowercase** names. Underscores are permissible but discouraged.\n",
    "\n",
    "<img src=\"https://github.com/Explore-AI/Pictures/blob/master/mypackage.jpg?raw=true\" alt=\"Python package root folder - Windows\" style=\"width: 60%;\"/>\n",
    "\n",
    "If you are using a Mac, your folder will look similar to this:\n",
    "\n",
    "<img src=\"https://github.com/Explore-AI/Pictures/blob/master/mypackage-mac.png?raw=true\" alt=\"Python package root folder - Mac\" style=\"width: 60%;\"/>\n",
    "\n",
    "The end goal of this tutorial is to make our package **_pip installable_**. For this to be possible, we will need to **structure our files in a particular way**."
   ]
  },
  {
   "cell_type": "markdown",
   "metadata": {},
   "source": [
    "### Setup files\n",
    "\n",
    "Now let's **create our files**. We will do this using the VS Code IDE we installed earlier. \n",
    "\n",
    "Open up the VS Code text editor then click on **`Open...`** and navigate to and select the root folder, `mypackage` , which we created in the previous step.\n",
    "\n",
    "> VS Code has a built-in file browser that allows us to create new files and folders. The file browser is shown on the left side of our screen.\n",
    "\n",
    "Our next step is to **create two new folders** within our project's **root folder**:\n",
    "\n",
    "- **`mypackage`**\n",
    "- **`tests`**\n",
    "\n",
    "<img src=\"https://raw.githubusercontent.com/Explore-AI/Pictures/master/Python_package_1.png\" width=\"500\">\n",
    "\n",
    "Within the **`mypackage`** folder, we **create two Python files**: \n",
    "\n",
    "- **`myModule.py`** : This is where we will write our function – the task we wish our package to do.\n",
    "- **`__init__.py`** : This is used so that Python knows the directory is a module.\n",
    "\n",
    "Within the **`tests`** folder, we **create one Python file**:\n",
    "\n",
    "- **`test.py`** : This file will be our unit test, to ensure our module is working correctly before we publish our package.\n",
    "\n",
    "Our project directory should now look like this:   \n",
    "\n",
    "<img src=\"https://raw.githubusercontent.com/Explore-AI/Pictures/master/Python_package_2.png\" width=\"400\">"
   ]
  },
  {
   "cell_type": "markdown",
   "metadata": {},
   "source": [
    "## 2. Build our package\n",
    "\n",
    "Now that we have our folder structure set out, we can start writing some code! We will need to do three things:\n",
    "\n",
    "- Create our function.\n",
    "- Test our function.\n",
    "- Write some documentation for our package."
   ]
  },
  {
   "cell_type": "markdown",
   "metadata": {},
   "source": [
    "### Create our function\n",
    "\n",
    "The function we are going to create will perform the task of **returning** the **top-n items** in an **array**, in **descending order**. To do this, we will create an algorithm not too dissimilar to the Bubble sort algorithm.\n",
    "\n",
    "> #### Docstrings\n",
    "All good programmers need to know how to write **clean, concise,** and **descriptive** [docstrings](https://www.python.org/dev/peps/pep-0257/#:~:text=A%20docstring%20is%20a%20string,module%20should%20also%20have%20docstrings.) for their functions. \n",
    "\n",
    "Here is an example of a well-documented function:"
   ]
  },
  {
   "cell_type": "code",
   "execution_count": null,
   "metadata": {},
   "outputs": [],
   "source": [
    "def fibonacci(n):\n",
    "\n",
    "    \"\"\"\n",
    "    Calculate nth term in fibonacci sequence\n",
    "    \n",
    "    Args:\n",
    "        n (int): nth term in fibonacci sequence to calculate\n",
    "    \n",
    "    Returns:\n",
    "        int: nth term of fibonacci sequence,\n",
    "             equal to sum of previous two terms\n",
    "    \n",
    "    Examples:\n",
    "        >>> fibonacci(1)\n",
    "        1        \n",
    "        >> fibonacci(2)\n",
    "        1\n",
    "        >> fibonacci(3)\n",
    "        2\n",
    "    \"\"\"\n",
    "\n",
    "    if n <= 1:\n",
    "        return n\n",
    "\n",
    "    else:\n",
    "        return fibonacci(n - 1) + fibonacci(n - 2)"
   ]
  },
  {
   "cell_type": "markdown",
   "metadata": {},
   "source": [
    "Having this level of documentation will help anyone who uses your function to **properly understand how the function works**.\n",
    "\n",
    "We'll do the same for our function. Add the following code into the **`myModule.py`** file:"
   ]
  },
  {
   "cell_type": "code",
   "execution_count": null,
   "metadata": {},
   "outputs": [],
   "source": [
    "def top_n(items, n):\n",
    "    \"\"\"Return the top n items in an array, in descending order.\n",
    "\n",
    "    Args:\n",
    "        items (array): list or array-like object containing numerical values.\n",
    "        n (int): number of top items to return.\n",
    "\n",
    "    Returns:\n",
    "        array: top n items, in descending order.\n",
    "\n",
    "    Examples:\n",
    "        >>> top_n([8, 3, 2, 7, 4], 3)\n",
    "        [8, 7, 3]\n",
    "    \"\"\"\n",
    "    \n",
    "    # We add the body of the function just below the docstring:\n",
    "    \n",
    "    for i in range(n):  # Keep sorting until we have the top n items\n",
    "        for j in range(len(items)-1-i):\n",
    "\n",
    "            if items[j] > items[j+1]:  # If this item is bigger than next the item..\n",
    "                items[j], items[j+1] = items[j+1], items[j]  # swap the two!\n",
    "                \n",
    "    # Get last two items\n",
    "    top_n = items[-n:]\n",
    "    \n",
    "    # Return in descending order\n",
    "    return top_n[::-1]"
   ]
  },
  {
   "cell_type": "code",
   "execution_count": null,
   "metadata": {},
   "outputs": [],
   "source": [
    "# Check whether the function works\n",
    "top_n([8, 3, 2, 7, 4], 3)"
   ]
  },
  {
   "cell_type": "markdown",
   "metadata": {},
   "source": [
    "This is what it should look like in VS Code:\n",
    "\n",
    "\n",
    "<img src=\"https://raw.githubusercontent.com/Explore-AI/Pictures/master/Python_package_3.png\" alt=\"View of our code in VS Code\" style=\"width: 65%;\"/>"
   ]
  },
  {
   "cell_type": "markdown",
   "metadata": {},
   "source": [
    "Now add the following to the **`__init__.py`** file. \n",
    "\n",
    "> Ensure that you **save** your files.\n",
    "\n",
    "<br>\n",
    "\n",
    "```python\n",
    "from . import myModule\n",
    "```"
   ]
  },
  {
   "cell_type": "markdown",
   "metadata": {},
   "source": [
    "### Testing our package\n",
    "\n",
    "It is good practice to write some tests for every function we  create. \n",
    "\n",
    "> Why is this a good practice?\n",
    "\n",
    "In **`test.py`**, add the following:"
   ]
  },
  {
   "cell_type": "code",
   "execution_count": null,
   "metadata": {},
   "outputs": [],
   "source": [
    "from mypackage import myModule\n",
    "\n",
    "def test_top_n():\n",
    "    \"\"\"\n",
    "    make sure top_n works correctly\n",
    "    \"\"\"\n",
    "    \n",
    "    assert myModule.top_n([8, 3, 2, 7, 4], 3) == [8, 7, 4], 'incorrect'\n",
    "    assert myModule.top_n([10, 1, 12, 9, 2], 2) == [12, 10], 'incorrect'\n",
    "    assert myModule.top_n([1, 2, 3, 4, 5], 5) == [5, 4, 3, 2, 1], 'incorrect'"
   ]
  },
  {
   "cell_type": "markdown",
   "metadata": {},
   "source": [
    "### Creating supporting files\n",
    "\n",
    "Next, we will need to create another file named **`setup.py`** which **describes our package**. This setup file is what makes our **package installable**. \n",
    "\n",
    "In our package's **root directory**, create **`setup.py`** and add the following code. \n",
    "\n",
    "> Replace the `url`, `author`, and `author_email` value fields with what is relevant to your package."
   ]
  },
  {
   "cell_type": "code",
   "execution_count": null,
   "metadata": {},
   "outputs": [],
   "source": [
    "from setuptools import setup, find_packages\n",
    "\n",
    "setup(\n",
    "    name='mypackage',\n",
    "    version='0.1',\n",
    "    packages=find_packages(exclude=['tests*']),\n",
    "    license='MIT',\n",
    "    description='EDSA example python package',\n",
    "    long_description=open('README.md').read(),\n",
    "    install_requires=['numpy'],\n",
    "    url='https://github.com/<username>/<package-name>',\n",
    "    author='<Your Name>',\n",
    "    author_email='<Your Email>'\n",
    ")"
   ]
  },
  {
   "cell_type": "markdown",
   "metadata": {},
   "source": [
    "Consult the table below for some additional information on the **parameters** in `setup.py`.\n",
    "\n",
    "| Parameter | Comments |\n",
    "|---|---|\n",
    "| name | The name package managers will use for your project, like `numpy` or `pandas` |\n",
    "| version | The current version number of your project |\n",
    "| license | Name of the [license](https://opensource.org/licenses/) you chose |\n",
    "| description | One-sentence description of your package |\n",
    "| install_requires | List of all other packages this package depends on; package managers will install these automatically as needed |"
   ]
  },
  {
   "cell_type": "markdown",
   "metadata": {},
   "source": [
    "Lastly, we create a **`README.md`** file in our project's root folder. Here, we add anything we would like to **describe our package in more detail**. \n",
    "\n",
    "> Go to [this website](https://www.makeareadme.com/) for some helpful info on how to make a proper README file.\n",
    "\n",
    "<img src=\"https://github.com/James-Leslie/example-python-package/blob/master/images/4.0_readme.png?raw=true\" alt=\"Completed code in Atom\" style=\"width: 65%;\"/>"
   ]
  },
  {
   "cell_type": "markdown",
   "metadata": {},
   "source": [
    "## 3. Distribute our package\n",
    "\n",
    "We are now ready to ship our package. Let's **package it** up and **distribute it** on GitHub."
   ]
  },
  {
   "cell_type": "markdown",
   "metadata": {},
   "source": [
    "### Distribute to GitHub\n",
    "\n",
    "We now want to publish our package so that anyone else can **download and use it**. This is done by publishing your package to GitHub. \n",
    "\n",
    "> What are some of the other ways to publish a Python package?\n",
    "\n",
    "#### a) Initialise local Git repository\n",
    "Using any terminal, we **navigate to our project's root folder** and issue the following commands, one line at a time.\n",
    "\n",
    "```bash\n",
    "git init\n",
    "git add .\n",
    "git commit -m \"First commit\"\n",
    "```\n",
    "\n",
    "#### b) Create remote repository\n",
    "Log into **GitHub** and **create a new repository**. \n",
    "\n",
    "> The following image depicts this process, where the GitHub user 'James-Leslie' is creating a new repository. Ensure that your repository is marked as **Public**.\n",
    "\n",
    "<img src=\"https://github.com/James-Leslie/example-python-package/blob/master/images/4.2_new_repo.png?raw=true\" width=\"700\">\n",
    "\n",
    "\n",
    "#### c) Push to GitHub\n",
    "Copy the **URL for the remote repository** and issue the following commands. \n",
    "\n",
    "> The image below shows where you can obtain the URL.\n",
    "\n",
    "```bash\n",
    "git remote add origin <remoteURL>\n",
    "git push origin master\n",
    "```\n",
    "\n",
    "<img src=\"https://github.com/James-Leslie/example-python-package/blob/master/images/5_new_repo.png?raw=true\" width=\"700\">\n"
   ]
  },
  {
   "cell_type": "markdown",
   "metadata": {},
   "source": [
    "## 4. Install our package\n",
    "\n",
    "We can now install our package onto any computer with internet access!  \n",
    "\n",
    "We issue the command below to **install our package from GitHub**.\n",
    "\n",
    "> Make sure to replace `your-name` and `your-repo` with the appropriate text.  \n",
    "\n",
    "```\n",
    "pip install git+https://github.com/your-name/your-repo.git\n",
    "```\n",
    "\n",
    "If you need to **install a later version** of your package, then use:  \n",
    "\n",
    "```\n",
    "pip install --upgrade git+https://github.com/your-name/your-repo.git\n",
    "```"
   ]
  },
  {
   "cell_type": "markdown",
   "metadata": {},
   "source": [
    "## 5. Maintaining our package\n",
    "\n",
    "We now have a `version 0.1` of our first Python package! With this being done, we are in a position to make improvements and expand on its scope."
   ]
  },
  {
   "cell_type": "markdown",
   "metadata": {},
   "source": [
    "### Package development workflow\n",
    "We follow these steps when making changes to our package:\n",
    "\n",
    "1. Make changes locally.\n",
    "2. Push changes to GitHub.\n",
    "3. Install updated version."
   ]
  },
  {
   "cell_type": "markdown",
   "metadata": {},
   "source": [
    "#### 1) Make changes locally\n",
    "Your package consists of **several interdependent files**. It is important to keep all of these dependencies in check.   \n",
    "\n",
    "A likely workflow will look something like this:\n",
    "\n",
    "- add new functions, or improve existing functions\n",
    "- update `test.py` if needed\n",
    "- update `__init__.py` if needed\n",
    "- update `setup.py` if needed (make sure to update the version number)\n",
    "    \n",
    "Once we have **tested our functions**, and we are happy to push the new version, we run the same setup command as before:   \n",
    "```\n",
    "python setup.py sdist\n",
    "```"
   ]
  },
  {
   "cell_type": "markdown",
   "metadata": {},
   "source": [
    "#### 2) Push changes to GitHub\n",
    "When we are **ready to publish our updated package**, we follow the commands below:\n",
    "\n",
    "```\n",
    "git status\n",
    "git add .\n",
    "git commit -m 'make sure to include an appropriate commit message'\n",
    "git push\n",
    "```"
   ]
  },
  {
   "cell_type": "markdown",
   "metadata": {},
   "source": [
    "#### 3) Install the updated version\n",
    "The last step is to **install our updated version**, using the command below: \n",
    "\n",
    "```\n",
    "pip install --upgrade git+https://github.com/your-name/your-repo.git\n"
   ]
  },
  {
   "cell_type": "markdown",
   "metadata": {},
   "source": [
    "## Conclusion\n",
    "\n",
    "We have now built a modular Python package and published this package to GitHub. We should now understand how Python packages work and also have gained more experience using Git. Storing our projects on GitHub is a great way to share our portfolio of work with potential employers."
   ]
  },
  {
   "cell_type": "markdown",
   "metadata": {},
   "source": [
    "#  \n",
    "\n",
    "<div align=\"center\" style=\" font-size: 80%; text-align: center; margin: 0 auto\">\n",
    "<img src=\"https://raw.githubusercontent.com/Explore-AI/Pictures/master/ExploreAI_logos/EAI_Blue_Dark.png\"  style=\"width:200px\";/>\n",
    "</div>"
   ]
  }
 ],
 "metadata": {
  "kernelspec": {
   "display_name": "Python 3 (ipykernel)",
   "language": "python",
   "name": "python3"
  },
  "language_info": {
   "codemirror_mode": {
    "name": "ipython",
    "version": 3
   },
   "file_extension": ".py",
   "mimetype": "text/x-python",
   "name": "python",
   "nbconvert_exporter": "python",
   "pygments_lexer": "ipython3",
   "version": "3.11.4"
  }
 },
 "nbformat": 4,
 "nbformat_minor": 4
}
