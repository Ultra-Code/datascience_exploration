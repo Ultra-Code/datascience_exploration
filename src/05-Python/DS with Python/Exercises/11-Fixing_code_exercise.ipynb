{
 "cells": [
  {
   "attachments": {},
   "cell_type": "markdown",
   "metadata": {},
   "source": [
    "<div align=\"center\" style=\" font-size: 80%; text-align: center; margin: 0 auto\">\n",
    "<img src=\"https://raw.githubusercontent.com/Explore-AI/Pictures/master/Python-Notebook-Banners/Exercise.png\"  style=\"display: block; margin-left: auto; margin-right: auto;\";/>\n",
    "</div>"
   ]
  },
  {
   "attachments": {},
   "cell_type": "markdown",
   "metadata": {},
   "source": [
    "# Exercise: Fixing code\n",
    "© ExploreAI Academy"
   ]
  },
  {
   "attachments": {},
   "cell_type": "markdown",
   "metadata": {},
   "source": [
    "In this exercise, we will use our understanding of interpreting error messages and debugging code to examine and fix problematic code."
   ]
  },
  {
   "attachments": {},
   "cell_type": "markdown",
   "metadata": {},
   "source": [
    "## Learning objectives\n",
    "\n",
    "By the end of this exercise, you should be able to:\n",
    "* Interpret error messages.\n",
    "* Fix code that doesn't run as it should.\n"
   ]
  },
  {
   "attachments": {},
   "cell_type": "markdown",
   "metadata": {},
   "source": [
    "## Exercises"
   ]
  },
  {
   "attachments": {},
   "cell_type": "markdown",
   "metadata": {},
   "source": [
    "### Exercise 1\n",
    "\n",
    "The following code defines a function to calculate the area of a rectangular piece of land. However, the function lacks **input validation**, leading to potential errors if negative values are provided for length or width. \n"
   ]
  },
  {
   "cell_type": "code",
   "execution_count": null,
   "metadata": {},
   "outputs": [],
   "source": [
    "def calculate_habitat_area(length, width):\n",
    "    \"\"\"\n",
    "    Calculates the total area of a wildlife habitat given the lengths of its sides.\n",
    "\n",
    "    Args:\n",
    "        length (float): Length of the habitat.\n",
    "        width (float): Width of the habitat.\n",
    "\n",
    "    Returns:\n",
    "        float: Total area of the habitat.\n",
    "    \"\"\"\n",
    "    area = length * width\n",
    "    return area\n",
    "\n",
    "\n",
    "# Test the function with potentially invalid input\n",
    "length = -5\n",
    "width = 10\n",
    "area = calculate_habitat_area(length, width)\n",
    "print(f\"The habitat area is: {area}\")\n"
   ]
  },
  {
   "attachments": {},
   "cell_type": "markdown",
   "metadata": {},
   "source": [
    "Modify the code to include input validation and return an appropriate error message if invalid values are detected."
   ]
  },
  {
   "cell_type": "code",
   "execution_count": null,
   "metadata": {},
   "outputs": [],
   "source": [
    "# insert code here"
   ]
  },
  {
   "attachments": {},
   "cell_type": "markdown",
   "metadata": {},
   "source": [
    "### Exercise 2\n",
    "\n",
    "The following function attempts to access an element at a specific index in a list, but it results in an `IndexError`. "
   ]
  },
  {
   "cell_type": "code",
   "execution_count": null,
   "metadata": {},
   "outputs": [],
   "source": [
    "def get_element(data, index):\n",
    "    \"\"\"\n",
    "    Retrieves an element from the list based on the given index.\n",
    "\n",
    "    Parameters:\n",
    "    - data (list): The input list.\n",
    "    - index (int): The index of the element to retrieve.\n",
    "\n",
    "    Returns:\n",
    "    - int: The retrieved element.\n",
    "    \"\"\"\n",
    "    return data[index]\n",
    "\n",
    "# Test the function with a list and an invalid index\n",
    "values = [10, 20, 30, 40]\n",
    "result = get_element(values, 5)\n",
    "print(\"Result:\", result)\n",
    "\n"
   ]
  },
  {
   "attachments": {},
   "cell_type": "markdown",
   "metadata": {},
   "source": [
    "Identify the issue and modify the code to ensure accurate list access."
   ]
  },
  {
   "cell_type": "code",
   "execution_count": null,
   "metadata": {},
   "outputs": [],
   "source": [
    "# insert code here"
   ]
  },
  {
   "attachments": {},
   "cell_type": "markdown",
   "metadata": {},
   "source": [
    "### Exercise 3\n",
    "\n",
    "This function aims to count the number of unique species in a given list. However, there is an `AttributeError` preventing it from providing any results.\n",
    "\n"
   ]
  },
  {
   "cell_type": "code",
   "execution_count": null,
   "metadata": {},
   "outputs": [],
   "source": [
    "def biodiversity_counter(species_list):\n",
    "    \"\"\"\n",
    "    Count the number of unique species in the given list.\n",
    "\n",
    "    Args:\n",
    "    - species_list (list): A list of species.\n",
    "\n",
    "    Returns:\n",
    "    - int: The number of unique species.\n",
    "    \"\"\"\n",
    "    unique_species = set()\n",
    "    for species in species_list:\n",
    "        unique_species.append(species)\n",
    "    return len(unique_species)\n",
    "\n",
    "\n",
    "# Test the function with example input\n",
    "species_list = ['Lion', 'Tiger', 'Bear', 'Lion', 'Elephant', 'Tiger']\n",
    "result = biodiversity_counter(species_list)\n",
    "print(result)  # This should print 4\n"
   ]
  },
  {
   "attachments": {},
   "cell_type": "markdown",
   "metadata": {},
   "source": [
    "Identify the issue and modify the code to ensure the function runs as intended."
   ]
  },
  {
   "cell_type": "code",
   "execution_count": null,
   "metadata": {},
   "outputs": [],
   "source": [
    "# insert code here"
   ]
  },
  {
   "attachments": {},
   "cell_type": "markdown",
   "metadata": {},
   "source": [
    "### Exercise 4\n",
    "\n",
    "This function is designed to identify whether a given species is invasive based on a predefined list. However, there is a fault in the code, preventing accurate detection. "
   ]
  },
  {
   "cell_type": "code",
   "execution_count": null,
   "metadata": {},
   "outputs": [],
   "source": [
    "def is_species_invasive(species):\n",
    "    \"\"\"\n",
    "    Identifies whether a given species is invasive based on a predefined list.\n",
    "\n",
    "    Args:\n",
    "        species (str): The species to be checked.\n",
    "\n",
    "    Returns:\n",
    "        bool: True if the species is invasive, False otherwise.\n",
    "    \"\"\"\n",
    "    invasive_species = ['Mongoose', 'Kudzu', 'Cane Toad', 'European Starling']\n",
    "    return species in invasive_species\n",
    "\n",
    "# Test the function with example input\n",
    "species = 'mongoose'\n",
    "result = is_species_invasive(species)\n",
    "result\n"
   ]
  },
  {
   "attachments": {},
   "cell_type": "markdown",
   "metadata": {},
   "source": [
    "Based on the result of the function, find the error and fix it."
   ]
  },
  {
   "cell_type": "code",
   "execution_count": null,
   "metadata": {},
   "outputs": [],
   "source": [
    "# insert code here"
   ]
  },
  {
   "attachments": {},
   "cell_type": "markdown",
   "metadata": {},
   "source": [
    "### Exercise 5\n",
    "\n",
    "The following code represents a countdown to the launch of our eco_friendly campaign's online platform. However, a logical flaw is present. With input `n`, the expected functionality is to display a countdown from `n` to 'Eco-Friendly Blastoff!'. "
   ]
  },
  {
   "cell_type": "code",
   "execution_count": null,
   "metadata": {},
   "outputs": [],
   "source": [
    "def eco_friendly_countdown(n):\n",
    "    \"\"\"\n",
    "    Function representing an eco-friendly countdown.\n",
    "\n",
    "    Parameters:\n",
    "    - n (int): The initial count value.\n",
    "\n",
    "    Returns:\n",
    "    - str: Message indicating the eco-friendly blastoff.\n",
    "    \"\"\"\n",
    "    while n > 0:\n",
    "        print(n)\n",
    "        n += 1  \n",
    "    return \"Eco-Friendly Blastoff!\"\n",
    "\n",
    "# Uncomment the code below to see the result of the function. Hint! Interrupt the kernel to stop the loop.\n",
    "#result = eco_friendly_countdown(10)\n",
    "#result"
   ]
  },
  {
   "attachments": {},
   "cell_type": "markdown",
   "metadata": {},
   "source": [
    "Identify the issue and modify the code to ensure proper countdown termination."
   ]
  },
  {
   "cell_type": "code",
   "execution_count": null,
   "metadata": {},
   "outputs": [],
   "source": [
    "# insert code here"
   ]
  },
  {
   "attachments": {},
   "cell_type": "markdown",
   "metadata": {},
   "source": [
    "## Solutions\n",
    "\n",
    "### Exercise 1"
   ]
  },
  {
   "cell_type": "code",
   "execution_count": null,
   "metadata": {},
   "outputs": [],
   "source": [
    "def calculate_habitat_area(length, width):\n",
    "    \"\"\"\n",
    "    Calculates the total area of a wildlife habitat given the lengths of its sides.\n",
    "\n",
    "    Args:\n",
    "        length (float): Length of the habitat.\n",
    "        width (float): Width of the habitat.\n",
    "\n",
    "    Returns:\n",
    "        float: Total area of the habitat rounded to two decimal places.\n",
    "    \"\"\"\n",
    "    if length <= 0 or width <= 0:\n",
    "        return \"Invalid input: Length and width must be positive numbers.\"\n",
    "    return length * width\n",
    "\n",
    "# Test the function with potentially invalid input\n",
    "length = -5\n",
    "width = 10\n",
    "area = calculate_habitat_area(length, width)\n",
    "area"
   ]
  },
  {
   "attachments": {},
   "cell_type": "markdown",
   "metadata": {},
   "source": [
    "The original code calculates the area of a rectangle without checking for potentially invalid input (negative values). We added input validation to ensure that the function returns an error message for negative or zero values of length or width."
   ]
  },
  {
   "attachments": {},
   "cell_type": "markdown",
   "metadata": {},
   "source": [
    "### Exercise 2"
   ]
  },
  {
   "cell_type": "code",
   "execution_count": null,
   "metadata": {},
   "outputs": [],
   "source": [
    "def get_element(data, index):\n",
    "    \"\"\"\n",
    "    Retrieves an element from the list based on the given index.\n",
    "\n",
    "    Parameters:\n",
    "    - data (list): The input list.\n",
    "    - index (int): The index of the element to retrieve.\n",
    "\n",
    "    Returns:\n",
    "    - int or str: The retrieved element or an error message.\n",
    "    \"\"\"\n",
    "    if 0 <= index < len(data):\n",
    "        return data[index]\n",
    "    else:\n",
    "        return f\"Invalid index. Index should be between 0 and {len(data)-1}.\"\n",
    "\n",
    "# Test the function with a list and an index\n",
    "values = [10, 20, 30, 40]\n",
    "result = get_element(values, 5)\n",
    "print(\"Result:\", result)\n"
   ]
  },
  {
   "attachments": {},
   "cell_type": "markdown",
   "metadata": {},
   "source": [
    "The original code attempts to access an element in a list without checking for a valid index range, potentially causing a list index error. The corrected code ensures safe list access with proper index validation and an error message."
   ]
  },
  {
   "attachments": {},
   "cell_type": "markdown",
   "metadata": {},
   "source": [
    "### Exercise 3"
   ]
  },
  {
   "cell_type": "code",
   "execution_count": null,
   "metadata": {},
   "outputs": [],
   "source": [
    "def biodiversity_counter(species_list):\n",
    "    \"\"\"\n",
    "    Counts the number of unique species in a given list.\n",
    "\n",
    "    Args:\n",
    "    - species_list (list): A list containing species names.\n",
    "\n",
    "    Returns:\n",
    "    - int: The number of unique species.\n",
    "    \"\"\"\n",
    "    unique_species = set(species_list)\n",
    "    return len(unique_species)\n",
    "\n",
    "# Test the function with example input\n",
    "species_list = ['Lion', 'Tiger', 'Bear', 'Lion', 'Elephant', 'Tiger']\n",
    "result = biodiversity_counter(species_list)\n",
    "print(result)  # This should print 4\n",
    "\n"
   ]
  },
  {
   "attachments": {},
   "cell_type": "markdown",
   "metadata": {},
   "source": [
    "The provided code attempted to use the append method on a set, which is incorrect and results in an `AttributeError`. The fix in the solution code creates a set directly from the input list."
   ]
  },
  {
   "attachments": {},
   "cell_type": "markdown",
   "metadata": {},
   "source": [
    "### Exercise 4\n"
   ]
  },
  {
   "cell_type": "code",
   "execution_count": null,
   "metadata": {},
   "outputs": [],
   "source": [
    "def is_species_invasive(species):\n",
    "    \"\"\"\n",
    "    Identifies whether a given species is invasive based on a predefined list.\n",
    "\n",
    "    Args:\n",
    "        species (str): The species to be checked.\n",
    "\n",
    "    Returns:\n",
    "        bool: True if the species is invasive, False otherwise.\n",
    "    \"\"\"\n",
    "    invasive_species = ['Mongoose', 'Kudzu', 'Cane Toad', 'European Starling']\n",
    "    return species.title() in invasive_species\n",
    "\n",
    "# Test the function with example input\n",
    "species = 'mongoose'\n",
    "result = is_species_invasive(species)\n",
    "result\n"
   ]
  },
  {
   "attachments": {},
   "cell_type": "markdown",
   "metadata": {},
   "source": [
    "The fault in the original code arises from case sensitivity issues. The fix in the solution code involves converting the input species to title case for consistent comparison."
   ]
  },
  {
   "attachments": {},
   "cell_type": "markdown",
   "metadata": {},
   "source": [
    "### Exercise 5"
   ]
  },
  {
   "cell_type": "code",
   "execution_count": null,
   "metadata": {},
   "outputs": [],
   "source": [
    "def countdown(n):\n",
    "    \"\"\"\n",
    "    Function representing an eco-friendly countdown.\n",
    "\n",
    "    Parameters:\n",
    "    - n (int): The initial count value.\n",
    "\n",
    "    Returns:\n",
    "    - str: Message indicating the eco-friendly blastoff.\n",
    "    \"\"\"\n",
    "    while n > 0:\n",
    "        print(n)\n",
    "        n -= 1  # Correct increment\n",
    "    print(\"Blastoff!\")\n",
    "\n",
    "# Test the function with an initial value\n",
    "countdown(10)\n",
    "\n"
   ]
  },
  {
   "attachments": {},
   "cell_type": "markdown",
   "metadata": {},
   "source": [
    "The original code contains a logical flaw in the loop increment, leading to an infinite loop. The corrected code adjusts the increment to ensure a proper eco-friendly countdown termination. The function now provides a message indicating the eco-friendly blastoff."
   ]
  },
  {
   "attachments": {},
   "cell_type": "markdown",
   "metadata": {},
   "source": [
    "#  \n",
    "\n",
    "<div align=\"center\" style=\" font-size: 80%; text-align: center; margin: 0 auto\">\n",
    "<img src=\"https://raw.githubusercontent.com/Explore-AI/Pictures/master/ExploreAI_logos/EAI_Blue_Dark.png\"  style=\"width:200px\";/>\n",
    "</div>"
   ]
  }
 ],
 "metadata": {
  "kernelspec": {
   "display_name": "Python 3",
   "language": "python",
   "name": "python3"
  },
  "language_info": {
   "codemirror_mode": {
    "name": "ipython",
    "version": 3
   },
   "file_extension": ".py",
   "mimetype": "text/x-python",
   "name": "python",
   "nbconvert_exporter": "python",
   "pygments_lexer": "ipython3",
   "version": "3.11.4"
  },
  "orig_nbformat": 4
 },
 "nbformat": 4,
 "nbformat_minor": 2
}
