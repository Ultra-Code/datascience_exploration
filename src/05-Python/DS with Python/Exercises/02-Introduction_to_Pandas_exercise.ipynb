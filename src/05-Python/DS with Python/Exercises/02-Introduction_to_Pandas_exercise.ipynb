{
 "cells": [
  {
   "cell_type": "markdown",
   "metadata": {
    "id": "Ee-v8I_P8rfp"
   },
   "source": [
    "<div align=\"center\" style=\" font-size: 80%; text-align: center; margin: 0 auto\">\n",
    "<img src=\"https://raw.githubusercontent.com/Explore-AI/Pictures/master/Python-Notebook-Banners/Exercise.png\"  style=\"display: block; margin-left: auto; margin-right: auto;\";/>\n",
    "</div>\n",
    "\n",
    "# Exercise: Introduction to Pandas \n",
    "© ExploreAI Academy\n",
    "\n",
    "In this exercise, we test our understanding of basic Pandas functions.\n"
   ]
  },
  {
   "cell_type": "markdown",
   "metadata": {
    "id": "ITqrvAqq8xSC"
   },
   "source": [
    "## Learning objectives\n",
    "\n",
    "By the end of this train, you should be able to:\n",
    "* Create and display the data stored in a DataFrame.\n"
   ]
  },
  {
   "cell_type": "markdown",
   "metadata": {},
   "source": [
    "## Exercises"
   ]
  },
  {
   "cell_type": "markdown",
   "metadata": {},
   "source": [
    "### Import libraries"
   ]
  },
  {
   "cell_type": "code",
   "execution_count": null,
   "metadata": {},
   "outputs": [],
   "source": [
    "import pandas as pd\n",
    "import numpy as np"
   ]
  },
  {
   "cell_type": "markdown",
   "metadata": {},
   "source": [
    "### Exercise 1\n",
    "\n",
    "Create a Pandas DataFrame from a dictionary. The dictionary keys should be `Crop`, `Yield_per_Acre`, and `Country`, and the values should be lists, as shown in the data below:\n",
    "\n",
    "- Crop: `['Wheat', 'Corn', 'Rice', 'Soybean']`\n",
    "- Yields per Acre (in tons): `[3, 4.5, 5, 2.8]`\n",
    "- Country: `['USA', 'China', 'India', 'Brazil']`"
   ]
  },
  {
   "cell_type": "code",
   "execution_count": null,
   "metadata": {},
   "outputs": [],
   "source": [
    "# Your solution here..."
   ]
  },
  {
   "cell_type": "markdown",
   "metadata": {},
   "source": [
    "### Exercise 2\n",
    "\n",
    "Using the DataFrame we created in **Exercise 1**, return only observations for index values 1 and 2 from the dataset."
   ]
  },
  {
   "cell_type": "code",
   "execution_count": null,
   "metadata": {},
   "outputs": [],
   "source": [
    "# Your solution here..."
   ]
  },
  {
   "cell_type": "markdown",
   "metadata": {},
   "source": [
    "### Exercise 3\n",
    "\n",
    "- Using the NumPy library, create a 3x2 array named `tree_array` to store information for different tree species as follows: \n",
    "\n",
    "`[[30, 25], [60, 30], [25, 20]]`\n",
    "\n",
    "- Use the array to create a DataFrame with the following columns: `Max_Height_m`, and `Growth_Rate_cm_per_year`, and the following index: `Maple`, `Pine` and `Birch`. "
   ]
  },
  {
   "cell_type": "code",
   "execution_count": null,
   "metadata": {},
   "outputs": [],
   "source": [
    "# Your solution here..."
   ]
  },
  {
   "cell_type": "markdown",
   "metadata": {},
   "source": [
    "### Exercise 4\n",
    "\n",
    "Using the DataFrame we created in **Exercise 3**, display the `Max_Height_m` and `Growth_Rate_cm_per_year` columns for the `Pine` tree."
   ]
  },
  {
   "cell_type": "code",
   "execution_count": null,
   "metadata": {},
   "outputs": [],
   "source": [
    "# Your solution here..."
   ]
  },
  {
   "cell_type": "markdown",
   "metadata": {},
   "source": [
    "### Exercise 5\n",
    "\n",
    "- We have a dataset named `Animals.csv` that stores information about a variety of animal species. Use Pandas to load the CSV file into a DataFrame called `animals_df`. \n",
    "\n",
    "- Display the first 5 rows of the DataFrame.\n",
    "\n",
    "**NB:** Use this link to access the dataset: https://raw.githubusercontent.com/Explore-AI/Public-Data/master/Data/Python/Animals.csv"
   ]
  },
  {
   "cell_type": "code",
   "execution_count": null,
   "metadata": {},
   "outputs": [],
   "source": [
    "# Your solution here..."
   ]
  },
  {
   "cell_type": "markdown",
   "metadata": {},
   "source": [
    "### Exercise 6\n",
    "\n",
    "Using the DataFrame we have created in **Exercise 5**, access and display information on animals that are listed as `Critically Endangered` in the `Conservation Status` column."
   ]
  },
  {
   "cell_type": "code",
   "execution_count": null,
   "metadata": {},
   "outputs": [],
   "source": [
    "# Your solution here..."
   ]
  },
  {
   "cell_type": "markdown",
   "metadata": {},
   "source": [
    "## Solutions"
   ]
  },
  {
   "cell_type": "markdown",
   "metadata": {},
   "source": [
    "### Exercise 1"
   ]
  },
  {
   "cell_type": "code",
   "execution_count": null,
   "metadata": {},
   "outputs": [],
   "source": [
    "# Creating a dictionary to hold agriculture data\n",
    "agri_data = {\n",
    "    'Crop': ['Wheat', 'Corn', 'Rice', 'Soybean'],\n",
    "    'Yield_per_Acre': [3, 4.5, 5, 2.8],\n",
    "    'Country': ['USA', 'China', 'India', 'Brazil']\n",
    "}\n",
    "\n",
    "# Creating a DataFrame from the agriculture data dictionary\n",
    "agri_df = pd.DataFrame(agri_data)\n",
    "\n",
    "# Printing the created DataFrame\n",
    "print(agri_df)"
   ]
  },
  {
   "cell_type": "markdown",
   "metadata": {},
   "source": [
    "### Exercise 2"
   ]
  },
  {
   "cell_type": "code",
   "execution_count": null,
   "metadata": {},
   "outputs": [],
   "source": [
    "agri_df.iloc[1:3]"
   ]
  },
  {
   "cell_type": "markdown",
   "metadata": {},
   "source": [
    "In the solution above, we use `.iloc` for **position-based indexing** where we select rows based on their integer index.\n",
    "\n",
    "We use the range 1 to 3 (not included). This returns the 2nd and the 3rd rows of data which correspond to `Corn` and `Rice` observations."
   ]
  },
  {
   "cell_type": "markdown",
   "metadata": {},
   "source": [
    "### Exercise 3"
   ]
  },
  {
   "cell_type": "code",
   "execution_count": null,
   "metadata": {},
   "outputs": [],
   "source": [
    "# Creating a NumPy array to represent data for different tree species\n",
    "tree_array = np.array([[30, 25], [60, 30], [25, 20]])\n",
    "\n",
    "# Defining the column names for the DataFrame\n",
    "columns = ['Max_Height_m', 'Growth_Rate_cm_per_year']\n",
    "\n",
    "# Defining the index for the DataFrame which represents the names of the tree species\n",
    "index = ['Maple', 'Pine', 'Birch']\n",
    "\n",
    "# Creating a DataFrame from the NumPy array above\n",
    "tree_df = pd.DataFrame(data=tree_array, index=index, columns=columns)\n",
    "\n",
    "# Printing the created DataFrame\n",
    "print(tree_df)"
   ]
  },
  {
   "cell_type": "markdown",
   "metadata": {},
   "source": [
    "### Exercise 4"
   ]
  },
  {
   "cell_type": "code",
   "execution_count": null,
   "metadata": {},
   "outputs": [],
   "source": [
    "tree_df.loc['Pine'][['Max_Height_m', 'Growth_Rate_cm_per_year']]"
   ]
  },
  {
   "cell_type": "markdown",
   "metadata": {},
   "source": [
    "In the above solution, we have used the `.loc` method for **label-based indexing.**\n",
    "\n",
    "The label `Pine` is used to select the row corresponding to the Pine tree. From this row, only the specified columns (`Max_Height_m` and `Growth_Rate_cm_per_year`) are selected and displayed. "
   ]
  },
  {
   "cell_type": "markdown",
   "metadata": {},
   "source": [
    "### Exercise 5"
   ]
  },
  {
   "cell_type": "code",
   "execution_count": null,
   "metadata": {},
   "outputs": [],
   "source": [
    "# Loading data from a CSV file named 'Animals.csv' into a DataFrame\n",
    "animals_df = pd.read_csv('https://raw.githubusercontent.com/Explore-AI/Public-Data/master/Data/Python/Animals.csv')\n",
    "\n",
    "# Displaying the first 5 rows of the DataFrame\n",
    "animals_df.head()"
   ]
  },
  {
   "cell_type": "markdown",
   "metadata": {},
   "source": [
    "The `.head(n)` function returns the first n rows, with the default being 5. This is useful for getting a quick view of the dataset."
   ]
  },
  {
   "cell_type": "markdown",
   "metadata": {},
   "source": [
    "### Exercise 6"
   ]
  },
  {
   "cell_type": "code",
   "execution_count": null,
   "metadata": {},
   "outputs": [],
   "source": [
    "# Create a new DataFrame based on a condition\n",
    "Critically_endangered = animals_df[animals_df['Conservation Status'] == 'Critically Endangered']\n",
    "\n",
    "# Displaying the newly created DataFrame\n",
    "Critically_endangered"
   ]
  },
  {
   "cell_type": "markdown",
   "metadata": {},
   "source": [
    "**Conditional selection** is performed on the `animals_df` DataFrame. The condition `(animals_df['Conservation Status'] == 'Critically Endangered')` checks each row to see if the `Conservation Status` column's value is `Critically Endangered`. The rows that meet this condition are then used to create a new DataFrame named `Critically_endangered`."
   ]
  },
  {
   "cell_type": "markdown",
   "metadata": {},
   "source": [
    "<div align=\"center\" style=\" font-size: 80%; text-align: center; margin: 0 auto\">\n",
    "<img src=\"https://raw.githubusercontent.com/Explore-AI/Pictures/master/ExploreAI_logos/EAI_Blue_Dark.png\"  style=\"width:200px\";/>\n",
    "</div>"
   ]
  }
 ],
 "metadata": {
  "colab": {
   "authorship_tag": "ABX9TyPZFCZhaikX+N2/Bg7W6SY+",
   "collapsed_sections": [],
   "name": "Search_algorithms.ipynb",
   "provenance": [],
   "toc_visible": true
  },
  "interpreter": {
   "hash": "6b5ebbc2c6bde2831bc6c0426f75aca8137ccfc69d329557556ed73faee126ae"
  },
  "kernelspec": {
   "display_name": "Python 3 (ipykernel)",
   "language": "python",
   "name": "python3"
  },
  "language_info": {
   "codemirror_mode": {
    "name": "ipython",
    "version": 3
   },
   "file_extension": ".py",
   "mimetype": "text/x-python",
   "name": "python",
   "nbconvert_exporter": "python",
   "pygments_lexer": "ipython3",
   "version": "3.11.4"
  }
 },
 "nbformat": 4,
 "nbformat_minor": 2
}
