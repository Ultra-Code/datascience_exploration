{
 "cells": [
  {
   "cell_type": "markdown",
   "metadata": {},
   "source": [
    "<div align=\"center\" style=\" font-size: 80%; text-align: center; margin: 0 auto\">\n",
    "<img src=\"https://raw.githubusercontent.com/Explore-AI/Pictures/master/Python-Notebook-Banners/Examples.png\"  style=\"display: block; margin-left: auto; margin-right: auto;\";/>\n",
    "</div>"
   ]
  },
  {
   "cell_type": "markdown",
   "metadata": {},
   "source": [
    "# Examples: Working with DataFrames\n",
    "© ExploreAI Academy"
   ]
  },
  {
   "cell_type": "markdown",
   "metadata": {},
   "source": [
    "In this notebook, we cover how to manipulate, transform, and alter Pandas DataFrames."
   ]
  },
  {
   "cell_type": "markdown",
   "metadata": {},
   "source": [
    "## Learning objectives\n",
    "\n",
    "* Know how to sort, filter, and group Pandas DataFrames.\n",
    "* Understand how to create and delete columns in Pandas DataFrames.\n",
    "* Know how to apply custom transformations to Pandas DataFrames.\n"
   ]
  },
  {
   "cell_type": "markdown",
   "metadata": {},
   "source": [
    "## Introduction\n",
    "\n",
    "When a dataset only has a few data points, it's very easy to manually apply operations to the entire dataset. However, good datasets are very rarely this small. \n",
    "\n",
    "The Pandas library in Python allows us to use **vectorised operations** (i.e. operations across multiple data points simultaneously), making it much easier to **work with large amounts of data**.\n",
    "\n",
    "In this train, we look at how to **manipulate data within DataFrames**. \n",
    "\n",
    "Let's start by **importing** the **Pandas library** and the **dataset**."
   ]
  },
  {
   "cell_type": "code",
   "execution_count": null,
   "metadata": {
    "jupyter": {
     "outputs_hidden": true
    }
   },
   "outputs": [],
   "source": [
    "import pandas as pd"
   ]
  },
  {
   "cell_type": "markdown",
   "metadata": {},
   "source": [
    "**Note:** A new version of the Pandas package, `Pandas 2`, was released in April 2023. While it comes with added functionality, we continue to use `Pandas 1` in this train for stability purposes."
   ]
  },
  {
   "cell_type": "code",
   "execution_count": null,
   "metadata": {},
   "outputs": [],
   "source": [
    "# Load data - pass 'Name' as our index column.\n",
    "df = pd.read_csv('https://raw.githubusercontent.com/Explore-AI/Public-Data/master/Data/fundamentals/football_players.csv', index_col='Name')\n",
    "\n",
    "# Use the head() function to look at the first 5 rows.\n",
    "df.head()"
   ]
  },
  {
   "cell_type": "markdown",
   "metadata": {},
   "source": [
    "## Sorting\n",
    "\n",
    "One basic operation to perform when working with a large dataset is to **sort the values using some criteria**. \n",
    "\n",
    "For DataFrames, sorting can be achieved by using the `sort_values()` function. To **sort** data entries **by a specific column(s)**, we need to pass the column(s) to the function. \n",
    "\n",
    "Let's look at some examples:"
   ]
  },
  {
   "cell_type": "markdown",
   "metadata": {},
   "source": [
    "### Example 1a"
   ]
  },
  {
   "cell_type": "code",
   "execution_count": null,
   "metadata": {},
   "outputs": [],
   "source": [
    "# Sort by age from youngest to oldest (select first 5 entries).\n",
    "df.sort_values(by='Age').head()"
   ]
  },
  {
   "cell_type": "markdown",
   "metadata": {},
   "source": [
    "### Example 1b"
   ]
  },
  {
   "cell_type": "code",
   "execution_count": null,
   "metadata": {},
   "outputs": [],
   "source": [
    "# Sort by age from youngest to oldest (select first 5 entries), then by Overall, also ascending.\n",
    "df.sort_values(by=['Age', 'Overall']).head()"
   ]
  },
  {
   "cell_type": "markdown",
   "metadata": {},
   "source": [
    "### Example 2\n",
    "\n",
    "When sorting values, the default option sorts data in ascending order. If we want to sort in descending order, we need to pass in the parameter `ascending=False`."
   ]
  },
  {
   "cell_type": "code",
   "execution_count": null,
   "metadata": {},
   "outputs": [],
   "source": [
    "# Sort by age from oldest to youngest (select first 5 entries).\n",
    "df.sort_values(by='Age', ascending=False).head()"
   ]
  },
  {
   "cell_type": "markdown",
   "metadata": {},
   "source": [
    "## Filtering\n",
    "\n",
    "Another useful thing to do with a DataFrame is to filter the values to **only view the data we are interested in**. \n",
    "\n",
    "If we **pass in any condition inside the square brackets** after the DataFrame name, we filter out rows that fail to meet that condition. For example, the command `df['Age' > 30]` returns a boolean series containing the players' names (the index for our DataFrame) and whether the age is above 30 or not. When this is used to filter on our original DataFrame, it returns only rows that meet the condition."
   ]
  },
  {
   "cell_type": "markdown",
   "metadata": {},
   "source": [
    "### Example 3"
   ]
  },
  {
   "cell_type": "code",
   "execution_count": null,
   "metadata": {},
   "outputs": [],
   "source": [
    "# Filter on players older than 30.\n",
    "df[df['Age'] > 30]"
   ]
  },
  {
   "cell_type": "markdown",
   "metadata": {},
   "source": [
    "### Example 4\n",
    "\n",
    "We can also **pass multiple conditions** in the square brackets by using the `|` and `&` operators. \n",
    "\n",
    "**Note:** Each condition should be closed inside round brackets as well."
   ]
  },
  {
   "cell_type": "code",
   "execution_count": null,
   "metadata": {},
   "outputs": [],
   "source": [
    "# Filter on players older than 30 and overall rating greater than 90.\n",
    "df[(df['Age'] > 30) & (df['Overall'] > 90)]"
   ]
  },
  {
   "cell_type": "markdown",
   "metadata": {},
   "source": [
    "## Creating columns\n",
    "\n",
    "We can **create new columns from existing** columns in a Pandas DataFrame. \n",
    "\n",
    "We simply **define the new column name** as a string inside square brackets, followed by an `=` sign, and then the **function or operation** applied to the existing column(s). "
   ]
  },
  {
   "cell_type": "markdown",
   "metadata": {},
   "source": [
    "### Example 5"
   ]
  },
  {
   "cell_type": "code",
   "execution_count": null,
   "metadata": {},
   "outputs": [],
   "source": [
    "# Create a column of rating per year of age.\n",
    "df['Rating Per Year of Age'] = df['Overall'] / df['Age']\n",
    "\n",
    "# Look at the first 5 entries.\n",
    "df['Rating Per Year of Age'].head()"
   ]
  },
  {
   "cell_type": "markdown",
   "metadata": {},
   "source": [
    "## Deleting columns\n",
    "\n",
    "Columns can be deleted using the `drop()` function. \n",
    "\n",
    "The arguments are the **column name** and the **axis** which should be:\n",
    "- **1** if we are deleting **columns.**\n",
    "- **0** if we are deleting **rows**.\n"
   ]
  },
  {
   "cell_type": "markdown",
   "metadata": {},
   "source": [
    "### Example 6"
   ]
  },
  {
   "cell_type": "code",
   "execution_count": null,
   "metadata": {},
   "outputs": [],
   "source": [
    "# Drop the column we just created in Example 5\n",
    "df = df.drop('Rating Per Year of Age', axis=1)\n",
    "\n",
    "df.head()"
   ]
  },
  {
   "cell_type": "markdown",
   "metadata": {},
   "source": [
    "## Grouping data\n",
    "\n",
    "We can also **group** the data in a DataFrame **according to desired criteria**. \n",
    "\n",
    "Grouping in DataFrames can be achieved using the `groupby()` function. \n",
    "\n",
    "Depending on our application, we **may need to call an aggregation function** for the grouped data after the `groupby()` function call. Examples of aggregation functions include `mean()`, `sum()`, `min()`, and `max()`. This will result in **a column of values from the chosen aggregation** (for numeric columns)."
   ]
  },
  {
   "cell_type": "markdown",
   "metadata": {},
   "source": [
    "### Example 7"
   ]
  },
  {
   "cell_type": "code",
   "execution_count": null,
   "metadata": {},
   "outputs": [],
   "source": [
    "# Let's look at the average rating by age (first 5 rows).\n",
    "df.groupby('Age')[['Overall']].mean().head()"
   ]
  },
  {
   "cell_type": "markdown",
   "metadata": {},
   "source": [
    "### Example 8\n",
    "\n",
    "It is possible to **group by more than one column**. We simply need to pass the list of columns."
   ]
  },
  {
   "cell_type": "code",
   "execution_count": null,
   "metadata": {},
   "outputs": [],
   "source": [
    "# Look at the average rating by age and nationality (first 15 rows).\n",
    "df.groupby(['Age', 'Nationality'])[['Overall']].mean().head(15)"
   ]
  },
  {
   "cell_type": "markdown",
   "metadata": {},
   "source": [
    "## Transforming data\n",
    "\n",
    "It is often the case that we want to **format columns inside our DataFrame**. \n",
    "\n",
    "We can transform a column using the `apply()` function, while we use the `map()` function to transform multiple columns at once. We can create a function by using `def` or `lambda`."
   ]
  },
  {
   "cell_type": "markdown",
   "metadata": {},
   "source": [
    "### Example 9\n",
    "\n",
    "**a) Apply a custom function to a DataFrame**\n",
    "\n",
    "To format a column in our dataset, we start by creating the function."
   ]
  },
  {
   "cell_type": "code",
   "execution_count": null,
   "metadata": {},
   "outputs": [],
   "source": [
    "# Using def to create a custom function.\n",
    "def year_to_month(x):\n",
    "    \"Converts no of years to no of months\"\n",
    "    return x * 12"
   ]
  },
  {
   "cell_type": "markdown",
   "metadata": {},
   "source": [
    "We then apply the function to the intended column."
   ]
  },
  {
   "cell_type": "code",
   "execution_count": null,
   "metadata": {},
   "outputs": [],
   "source": [
    "# Change the age column to months and look at the first 5 entries.\n",
    "df['Age'].apply(year_to_month).head()"
   ]
  },
  {
   "cell_type": "markdown",
   "metadata": {},
   "source": [
    "### Example 10\n",
    "\n",
    "**b) Using a lambda function on a DataFrame**\n",
    "\n",
    "We can also use a lambda function and apply it to the DataFrame. A lambda operator or lambda function is used for **creating small, one-time, anonymous function objects** in Python. \n",
    "\n",
    "**Basic syntax:**\n",
    "\n",
    "```python\n",
    "lambda [arguments]: [expression]\n",
    "```\n",
    "\n",
    "Lambda operators can have any number of arguments, but they can have **only one expression**. It cannot contain any  `print` or `raise` statements, and it returns a function object which can be assigned to any variable."
   ]
  },
  {
   "cell_type": "code",
   "execution_count": null,
   "metadata": {},
   "outputs": [],
   "source": [
    "# Using a lambda operator.\n",
    "year_to_month_lamb = lambda x: x * 12"
   ]
  },
  {
   "cell_type": "code",
   "execution_count": null,
   "metadata": {},
   "outputs": [],
   "source": [
    "# Print function answer.\n",
    "print('def: ', year_to_month(30))\n",
    "print('lambda: ', year_to_month_lamb(30))"
   ]
  },
  {
   "cell_type": "markdown",
   "metadata": {},
   "source": [
    "In the example above, we can see that both function versions, `def` and `lambda`, produce the same output. The difference is that the `lambda` can only have a single expression and does not need to return anything.\n",
    "\n",
    "Let's use the lambda function to format a column in our dataset:"
   ]
  },
  {
   "cell_type": "code",
   "execution_count": null,
   "metadata": {},
   "outputs": [],
   "source": [
    "# Change the age column to months and look at the first 5 entries.\n",
    "df['Age'].apply(lambda x: x*12).head()"
   ]
  },
  {
   "cell_type": "markdown",
   "metadata": {},
   "source": [
    "### Example 11\n",
    "\n",
    "Let's try to create a function that creates a column with the **player position type**, where types can be `Forward`, `Midfielder`, `Back`, or `GoalKeeper`."
   ]
  },
  {
   "cell_type": "code",
   "execution_count": null,
   "metadata": {},
   "outputs": [],
   "source": [
    "# Create function.\n",
    "def position_type(s):\n",
    "    \n",
    "    \"\"\"\"This function converts the individual positions (abbreviations) and classifies it\n",
    "    as either a Forward, Midfielder, Back, or Goalkeeper\"\"\"\n",
    "    \n",
    "    if (s[-2] == 'T') | (s[-2] == 'W'):\n",
    "        return 'Forward'\n",
    "    elif s[-2] == 'M':\n",
    "        return 'Midfielder'\n",
    "    elif s[-2] == 'B':\n",
    "        return 'Back'\n",
    "    else:\n",
    "        return 'GoalKeeper'"
   ]
  },
  {
   "cell_type": "code",
   "execution_count": null,
   "metadata": {},
   "outputs": [],
   "source": [
    "# Create position type column.\n",
    "df['Preferred Positions Type'] = df['Preferred Positions'].apply(position_type)\n",
    "\n",
    "# Look at the first 5 entries.\n",
    "df['Preferred Positions Type'].head()"
   ]
  },
  {
   "cell_type": "markdown",
   "metadata": {},
   "source": [
    "### Example 12\n",
    "\n",
    "Let's create another function to transform many columns at once using the `map()` function. \n",
    "\n",
    "Before we go on, a lot of the columns look like they should be numerical but are actually stored as a string. We can check this by using the `info()` function:"
   ]
  },
  {
   "cell_type": "code",
   "execution_count": null,
   "metadata": {},
   "outputs": [],
   "source": [
    "df.info()"
   ]
  },
  {
   "cell_type": "markdown",
   "metadata": {},
   "source": [
    "As we can see, most of the number columns (attributes) are stored as strings (objects).\n",
    "\n",
    "We will create a function that:\n",
    "- Transforms all the supposedly **numeric columns to a float**.\n",
    "- For the string-number columns, we will only select and **transform the first two digits** before the comma."
   ]
  },
  {
   "cell_type": "code",
   "execution_count": null,
   "metadata": {},
   "outputs": [],
   "source": [
    "# Select all numeric attribute columns, i.e. excluding \"word-type\" columns such as Nationality.\n",
    "cols = ['Overall', 'Acceleration', 'Aggression',\n",
    "       'Agility', 'Balance', 'Ball control', 'Composure', 'Crossing', 'Curve',\n",
    "       'Dribbling', 'Finishing', 'Free kick accuracy', 'GK diving',\n",
    "       'GK handling', 'GK kicking', 'GK positioning', 'GK reflexes',\n",
    "       'Heading accuracy', 'Interceptions', 'Jumping', 'Long passing',\n",
    "       'Long shots', 'Marking', 'Penalties', 'Positioning', 'Reactions',\n",
    "       'Short passing', 'Shot power', 'Sliding tackle', 'Sprint speed',\n",
    "       'Stamina', 'Standing tackle', 'Strength', 'Vision', 'Volleys']"
   ]
  },
  {
   "cell_type": "code",
   "execution_count": null,
   "metadata": {},
   "outputs": [],
   "source": [
    "# Create function.\n",
    "def to_float(x):    \n",
    "    \"Transforms numeric attribute columns to type float\"\n",
    "    \n",
    "    if type(x) is int:\n",
    "        return float(x)\n",
    "    else:\n",
    "        return float(x[0:2])"
   ]
  },
  {
   "cell_type": "code",
   "execution_count": null,
   "metadata": {},
   "outputs": [],
   "source": [
    "# Use the map() function to transform all selected columns.\n",
    "df[cols] = df[cols].map(to_float)"
   ]
  },
  {
   "cell_type": "markdown",
   "metadata": {},
   "source": [
    "Now let's look at the data types of the columns:"
   ]
  },
  {
   "cell_type": "code",
   "execution_count": null,
   "metadata": {},
   "outputs": [],
   "source": [
    "df.info()"
   ]
  },
  {
   "cell_type": "markdown",
   "metadata": {},
   "source": [
    "We can see that the columns have been transformed to the `float` type successfully."
   ]
  },
  {
   "cell_type": "markdown",
   "metadata": {},
   "source": [
    "#  \n",
    "\n",
    "<div align=\"center\" style=\" font-size: 80%; text-align: center; margin: 0 auto\">\n",
    "<img src=\"https://raw.githubusercontent.com/Explore-AI/Pictures/master/ExploreAI_logos/EAI_Blue_Dark.png\"  style=\"width:200px\";/>\n",
    "</div>"
   ]
  }
 ],
 "metadata": {
  "kernelspec": {
   "display_name": "Python 3 (ipykernel)",
   "language": "python",
   "name": "python3"
  },
  "language_info": {
   "codemirror_mode": {
    "name": "ipython",
    "version": 3
   },
   "file_extension": ".py",
   "mimetype": "text/x-python",
   "name": "python",
   "nbconvert_exporter": "python",
   "pygments_lexer": "ipython3",
   "version": "3.11.4"
  }
 },
 "nbformat": 4,
 "nbformat_minor": 4
}
