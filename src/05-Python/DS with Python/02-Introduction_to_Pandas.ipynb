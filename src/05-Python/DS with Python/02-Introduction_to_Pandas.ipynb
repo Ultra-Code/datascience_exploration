{
 "cells": [
  {
   "cell_type": "markdown",
   "metadata": {},
   "source": [
    "<div align=\"center\" style=\" font-size: 80%; text-align: center; margin: 0 auto\">\n",
    "<img src=\"https://raw.githubusercontent.com/Explore-AI/Pictures/master/Python-Notebook-Banners/Examples.png\"  style=\"display: block; margin-left: auto; margin-right: auto;\";/>\n",
    "</div>"
   ]
  },
  {
   "cell_type": "markdown",
   "metadata": {},
   "source": [
    "# Examples: Introduction to Pandas\n",
    "© ExploreAI Academy"
   ]
  },
  {
   "cell_type": "markdown",
   "metadata": {},
   "source": [
    "In this train, we will look at the Pandas package, and its key data structure, DataFrames, which is commonly used for data analysis in Python. We will define what a Pandas DataFrame is, show how to create DataFrames, and how to access them."
   ]
  },
  {
   "cell_type": "markdown",
   "metadata": {},
   "source": [
    "## Learning objectives\n",
    "* Understand what Pandas is and how DataFrames are used in Python to handle data.\n",
    "* Know how to load, manipulate, and analyse data using Pandas."
   ]
  },
  {
   "cell_type": "markdown",
   "metadata": {},
   "source": [
    "Pandas is a tool, built on the NumPy package, that allows us to work with data. It has functions for analysing, cleaning, exploring, and manipulating data.\n",
    "\n",
    "### What is a Pandas DataFrame?\n",
    "Pandas' key data structure is the `DataFrame`. A DataFrame allows for the storage and manipulation of tabular data. It is a two-dimensional labelled data structure. \n",
    "\n",
    "<img src=\"https://raw.githubusercontent.com/Explore-AI/Pictures/master/Pandas_dataframe.jpg\" width=\"700\">\n",
    "\n",
    "Basically, we could say that the Pandas DataFrame consists of three main components: the data, index, and columns. Let's walk through some examples to gain an understanding of these components."
   ]
  },
  {
   "cell_type": "markdown",
   "metadata": {},
   "source": [
    "#### Creating a DataFrame\n",
    "We can create a DataFrame by calling the `DataFrame()` constructor. The main arguments in the constructor are the data, index, and columns. The data that are passed in can be in the form of other data structures (lists, dictionaries, or NumPy arrays) or by loading in a file. Pandas is particularly useful for handling structured data, like CSV or Excel files.\n",
    "\n",
    "Let's start by first importing the Pandas library:"
   ]
  },
  {
   "cell_type": "code",
   "execution_count": null,
   "metadata": {
    "collapsed": true,
    "jupyter": {
     "outputs_hidden": true
    }
   },
   "outputs": [],
   "source": [
    "import pandas as pd"
   ]
  },
  {
   "cell_type": "markdown",
   "metadata": {},
   "source": [
    "### Example 1\n",
    "\n",
    "Creating a DataFrame from a **list** of lists: Here each inner list represents a row of data, and the outer list contains all the rows. By providing an optional index and specifying column names, we can organise the data into a structured two-dimensional table. Note that if we don't explicitly pass in an index, it would be automatically generated, starting at 0."
   ]
  },
  {
   "cell_type": "code",
   "execution_count": null,
   "metadata": {},
   "outputs": [],
   "source": [
    "# Create list of lists containing data.\n",
    "list_df = [[32, 'Portugal', 94], [30, 'Argentina', 93], [25 , 'Brazil', 92]]\n",
    "\n",
    "# Create index – names of players.\n",
    "index = ['Christiano Ronaldo', 'Lionel Messi', 'Neymar']\n",
    "\n",
    "# Create column names.\n",
    "columns = ['Age', 'Nationality', 'Overall']\n",
    "\n",
    "# Create a DataFrame by passing in data, index, and columns.\n",
    "pd.DataFrame(data=list_df, index=index, columns=columns)"
   ]
  },
  {
   "cell_type": "markdown",
   "metadata": {},
   "source": [
    "### Example 2\n",
    "\n",
    "We can also create a DataFrame from a **dictionary**. The dictionary keys should be the column names, while the values should be the data entries for that column. We can also pass in an index, if we want to. Note that because the keys account for the column names, we don't have to pass in an argument for columns."
   ]
  },
  {
   "cell_type": "code",
   "execution_count": null,
   "metadata": {},
   "outputs": [],
   "source": [
    "# Create dictionary containing data.\n",
    "dict_df = {'Age':[32, 30, 25], 'Nationality':['Portugal', 'Argentina', 'Brazil'], 'Overall':[94, 93, 92]}\n",
    "\n",
    "# Create index – names of players.\n",
    "index = ['Christiano Ronaldo', 'Lionel Messi', 'Neymar']\n",
    "\n",
    "# Create a DataFrame by passing in data, index, and columns.\n",
    "pd.DataFrame(data=dict_df, index=index)"
   ]
  },
  {
   "cell_type": "markdown",
   "metadata": {},
   "source": [
    "### Example 3\n",
    "\n",
    "If the data are stored in **NumPy arrays**, we can also use that to generate a Pandas DataFrame. We pass the data, then the column names, and an index (player names), if required.\n",
    "\n",
    "When creating a DataFrame from a NumPy array, the data types of the array elements should be consistent for **each column**. This is because Pandas DataFrames, like NumPy arrays, prefer homogeneity within each column for optimal performance."
   ]
  },
  {
   "cell_type": "code",
   "execution_count": null,
   "metadata": {},
   "outputs": [],
   "source": [
    "import NumPy as np\n",
    "\n",
    "# Create NumPy array containing data.\n",
    "array_df = np.array([[32, 'Portugal', 94], [30, 'Argentina', 93], [25 , 'Brazil', 92]])\n",
    "\n",
    "# Create index – names of players.\n",
    "index = ['Christiano Ronaldo', 'Lionel Messi', 'Neymar']\n",
    "\n",
    "# Create column names.\n",
    "columns = ['Age', 'Nationality', 'Overall']\n",
    "\n",
    "# Create a DataFrame by passing in data, index, and columns.\n",
    "pd.DataFrame(data=array_df, index=index, columns=columns)"
   ]
  },
  {
   "cell_type": "markdown",
   "metadata": {},
   "source": [
    "#### DataFrames from other files\n",
    "The data argument can also be a loaded file. Pandas has the ability to read various file formats, such as CSV, Excel, JSON, etc."
   ]
  },
  {
   "cell_type": "markdown",
   "metadata": {},
   "source": [
    "### Example 4\n",
    "\n",
    " We will load the full csv file. Pandas make it very easy to do this; we simply load the data using the `read_csv()` function and pass in the full path of the file as a string.\n",
    "\n",
    "Pandas will use the first row as columns so we don't need to pass column names. We can also specify the index when we load the data by passing our index column as a string under the index_col argument. Remember to always check whether there are any warnings in the loaded data – in this case there seems to be different data types in some columns.\n",
    "\n",
    "To check our data has loaded as we expected, we can use the `head()` function. This will return the first five records of our data. This is helpful if the DataFrame has many rows and loading it will take lots of time."
   ]
  },
  {
   "cell_type": "code",
   "execution_count": null,
   "metadata": {},
   "outputs": [],
   "source": [
    "# Load data – pass 'Name' as our index column.\n",
    "# For this exercise, we'll use football player data to evaluate our DataFrame.\n",
    "load_df = pd.read_csv('https://raw.githubusercontent.com/Explore-AI/Public-Data/master/Data/fundamentals/football_players.csv', index_col='Name')\n",
    "\n",
    "# Create a DataFrame called df.\n",
    "df = pd.DataFrame(load_df)\n",
    "\n",
    "# Use the head() function to look at the first 5 rows.\n",
    "df.head()"
   ]
  },
  {
   "cell_type": "markdown",
   "metadata": {},
   "source": [
    "### Accessing DataFrames\n",
    "\n",
    "Accessing data within DataFrames is not as straightforward as with the previous data structures. This can be done by index, by column, or by both. Let's work through these methods."
   ]
  },
  {
   "cell_type": "markdown",
   "metadata": {},
   "source": [
    "### Example 5\n",
    "\n",
    "To access by index only in a DataFrame we can use the `iloc` or `loc` functions with the indices in square brackets. The `iloc` function refers to the index location, so we pass in the number of the index, while the `loc` function refers to the name of the index, so we pass in the index name. We can use slicing if we want more than one index, for example:\n",
    "\n",
    "* `dataframe.iloc[index i]` – returns series at index i\n",
    "* `dataframe.iloc[index start: index end]` – returns DataFrame from start to end (end not included)\n",
    "* `dataframe.loc['index name']` – returns series of given index name\n",
    "\n",
    "Let's look at a few examples:"
   ]
  },
  {
   "cell_type": "code",
   "execution_count": null,
   "metadata": {},
   "outputs": [],
   "source": [
    "# Select the 5th row using iloc[].\n",
    "df.iloc[4]"
   ]
  },
  {
   "cell_type": "code",
   "execution_count": null,
   "metadata": {},
   "outputs": [],
   "source": [
    "# Select rows 5 to 10.\n",
    "df.iloc[4:10]"
   ]
  },
  {
   "cell_type": "code",
   "execution_count": null,
   "metadata": {},
   "outputs": [],
   "source": [
    "# Select the M. Neuer index using loc[].\n",
    "df.loc['M. Neuer']"
   ]
  },
  {
   "cell_type": "markdown",
   "metadata": {},
   "source": [
    "### Example 6\n",
    "To access by column only we can simply call `dataframe['Column Name']`. If we want more than one column we input a list of column names inside the square brackets:\n",
    "\n",
    "* `dataframe['Column Name']` – returns series of given column\n",
    "* `dataframe[['Column 1', 'Column 2']]` – returns DataFrame with the given columns\n",
    "\n",
    "Let's look at examples."
   ]
  },
  {
   "cell_type": "code",
   "execution_count": null,
   "metadata": {},
   "outputs": [],
   "source": [
    "# Select the column 'Age'.\n",
    "df['Age']"
   ]
  },
  {
   "cell_type": "code",
   "execution_count": null,
   "metadata": {},
   "outputs": [],
   "source": [
    "# Select the columns 'Age' and 'Nationality'.\n",
    "df[['Age', 'Nationality']]"
   ]
  },
  {
   "cell_type": "markdown",
   "metadata": {},
   "source": [
    "### Example 7\n",
    "We can also select a subset of the DataFrame using indices and columns in combination. Let's look at a few examples:"
   ]
  },
  {
   "cell_type": "code",
   "execution_count": null,
   "metadata": {},
   "outputs": [],
   "source": [
    "# Select the first 5 rows and first 2 columns – Rows first.\n",
    "df.iloc[0:5][['Age', 'Nationality']]"
   ]
  },
  {
   "cell_type": "code",
   "execution_count": null,
   "metadata": {},
   "outputs": [],
   "source": [
    "# Select the first 5 rows and first 2 columns – Columns first.\n",
    "df[['Age', 'Nationality']].iloc[0:5]"
   ]
  },
  {
   "cell_type": "markdown",
   "metadata": {},
   "source": [
    "### When to use DataFrames\n",
    "Unlike the NumPy array which is suited for storing and performing computations on homogeneous data (data of the same type), Pandas DataFrames can accommodate heterogeneous data. This makes them the choice data structure for manipulating often messy data (for example, tabular data from spreadsheets, or SQL tables). \n",
    "\n",
    "We should use a Pandas DataFrame if all of the following statements hold:\n",
    "\n",
    "* We have 2-dimensional data (rows and columns).\n",
    "* The data type is the same within a column.\n",
    "* We are interested in the index (rows) and column names.\n",
    "\n",
    "Pandas DataFrames are especially beneficial for data manipulation tasks like merging, joining, and reshaping data."
   ]
  },
  {
   "cell_type": "markdown",
   "metadata": {},
   "source": [
    "## Additional resources\n",
    "- [Pandas package home page](https://pandas.pydata.org/)"
   ]
  },
  {
   "cell_type": "markdown",
   "metadata": {},
   "source": [
    "#  \n",
    "\n",
    "<div align=\"center\" style=\" font-size: 80%; text-align: center; margin: 0 auto\">\n",
    "<img src=\"https://raw.githubusercontent.com/Explore-AI/Pictures/master/ExploreAI_logos/EAI_Blue_Dark.png\"  style=\"width:200px\";/>\n",
    "</div>"
   ]
  }
 ],
 "metadata": {
  "kernelspec": {
   "display_name": "Python 3",
   "language": "python",
   "name": "python3"
  },
  "language_info": {
   "codemirror_mode": {
    "name": "ipython",
    "version": 3
   },
   "file_extension": ".py",
   "mimetype": "text/x-python",
   "name": "python",
   "nbconvert_exporter": "python",
   "pygments_lexer": "ipython3",
   "version": "3.11.5"
  }
 },
 "nbformat": 4,
 "nbformat_minor": 4
}
