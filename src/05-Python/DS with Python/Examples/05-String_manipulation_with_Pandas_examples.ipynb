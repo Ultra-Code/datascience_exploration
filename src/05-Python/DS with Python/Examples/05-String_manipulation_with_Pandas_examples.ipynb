{
 "cells": [
  {
   "cell_type": "markdown",
   "metadata": {},
   "source": [
    "<div align=\"center\" style=\" font-size: 80%; text-align: center; margin: 0 auto\">\n",
    "<img src=\"https://raw.githubusercontent.com/Explore-AI/Pictures/master/Python-Notebook-Banners/Examples.png\"  style=\"display: block; margin-left: auto; margin-right: auto;\";/>\n",
    "</div>"
   ]
  },
  {
   "cell_type": "markdown",
   "id": "f662d169",
   "metadata": {},
   "source": [
    "# Examples: String manipulation with Pandas\n",
    "© ExploreAI Academy"
   ]
  },
  {
   "cell_type": "markdown",
   "id": "26af890c",
   "metadata": {},
   "source": [
    "In this notebook, we return to the Pandas library, this time looking specifically at functionality aimed at string manipulation."
   ]
  },
  {
   "cell_type": "markdown",
   "id": "2d230d14",
   "metadata": {
    "tags": []
   },
   "source": [
    "## Learning objectives\n",
    "\n",
    "By the end of this notebook, you should be able to:\n",
    "- Understand how to apply Pandas to manipulate strings in Python."
   ]
  },
  {
   "cell_type": "markdown",
   "id": "661bad04",
   "metadata": {},
   "source": [
    "## Examples\n",
    "\n",
    "Let's explore how Pandas, a powerful Python library, can be used for manipulating strings within DataFrames and series. This builds upon our knowledge of Python regex, introducing how these concepts can be applied using Pandas."
   ]
  },
  {
   "cell_type": "markdown",
   "id": "42dba616",
   "metadata": {},
   "source": [
    "### Example 1\n",
    "\n",
    "**Scenario**: Suppose we have been given a dataset of different plant species recorded in a national park. The species names are inconsistently formatted with leading/trailing spaces and varying case letters. \n",
    "\n",
    "**Question**: Clean the 'species' column by removing leading/trailing spaces and converting all names to lowercase.\n",
    "\n",
    "**Solution**:\n"
   ]
  },
  {
   "cell_type": "code",
   "execution_count": null,
   "id": "62341cd8",
   "metadata": {},
   "outputs": [],
   "source": [
    "import pandas as pd\n",
    "\n",
    "# Sample data\n",
    "data = {'species': [' Maple (10 years) ', 'oak', 'Pine(3 years)', 'maple ', ' Oak (1.5 Years)']}\n",
    "df = pd.DataFrame(data)\n",
    "\n",
    "# Cleaning the 'species' column\n",
    "df['species'] = df['species'].str.strip().str.lower()\n",
    "print(df)"
   ]
  },
  {
   "cell_type": "markdown",
   "id": "073f0609",
   "metadata": {},
   "source": [
    "**Explanation**: We first isolate the column that needs to be formatted, `species`. The `strip()` function is used to remove any leading and trailing spaces from the string. `lower()` converts all the characters in the string to lowercase. These methods are chained to perform both operations in a single line. The output is returned as the same column in the DataFrame."
   ]
  },
  {
   "cell_type": "markdown",
   "id": "7d892fee",
   "metadata": {},
   "source": [
    "### Example 2\n",
    "\n",
    "**Scenario**: In our dataset, some species have their age mentioned in years within the name in parentheses (e.g. \"Maple (10 years)\"). \n",
    "\n",
    "**Question**: Use a regex to extract the age in years from the species name and create a new column 'age'. Fill with 'Unknown' if there is no age present.\n"
   ]
  },
  {
   "cell_type": "code",
   "execution_count": null,
   "id": "6477dc99",
   "metadata": {},
   "outputs": [],
   "source": [
    "\n",
    "# Extracting age using regular expression\n",
    "df['age'] = df['species'].str.extract('(\\d+\\.\\d+|\\d+)').fillna(\"Unknown\")\n",
    "print(df)\n"
   ]
  },
  {
   "cell_type": "markdown",
   "id": "2d18deca",
   "metadata": {},
   "source": [
    "**Explanation**:\n",
    "\n",
    "The regular expression `(\\d+\\.\\d+|\\d+)` is used here. This regex has two parts:\n",
    "* `\\d+\\.\\d+` matches a sequence of digits followed by a decimal point and then another sequence of digits, capturing decimal numbers.\n",
    "* `\\d+` matches a sequence of digits, capturing whole numbers.\n",
    "\n",
    "The `|` operator in the regex means \"or\", so the expression looks for either a decimal number or a whole number.\n",
    "`fillna(\"Unknown\")` is used to handle cases where no age information is found in the species name."
   ]
  },
  {
   "cell_type": "markdown",
   "id": "474a1865",
   "metadata": {},
   "source": [
    "### Example 3\n",
    "\n",
    "**Scenario**: After cleaning the dataset, we want to know how many unique species are recorded and their respective counts.\n",
    "\n",
    "**Question**: Aggregate the data to count the number of occurrences of each unique species."
   ]
  },
  {
   "cell_type": "code",
   "execution_count": null,
   "id": "b0076e42",
   "metadata": {},
   "outputs": [],
   "source": [
    "# Clean and standardise species names\n",
    "df['species'] = df['species'].str.extract('([a-zA-Z]+)', expand=False).fillna('').str.strip().str.lower()\n",
    "\n",
    "# Counting occurrences of each species\n",
    "species_counts = df['species'].value_counts()\n",
    "print(species_counts)\n"
   ]
  },
  {
   "cell_type": "markdown",
   "id": "494d0991",
   "metadata": {},
   "source": [
    "**Explanation**: \n",
    "1. `df['species']` is used to access the 'species' column as a Series.\n",
    "2. `.str.extract('([a-zA-Z]+)', expand=False)` is applied directly to the 'species' column to extract alphabetic characters, and `expand=False` is used to ensure it remains a Series.\n",
    "3. The subsequent string operations `(fillna('').str.strip().str.lower())` are applied directly to the 'species' Series.\n",
    "4. Finally, `value_counts()` is used to count the occurrences of each unique species in the 'species' Series."
   ]
  },
  {
   "cell_type": "markdown",
   "id": "dfeac942",
   "metadata": {},
   "source": [
    "### Example 4\n",
    "\n",
    "**Scenario**: The park authorities are interested in grouping species by their first letter to design different zones in the park.\n",
    "\n",
    "**Question**: Create a new column 'zone' based on the first letter of each species name and group the DataFrame by this new column."
   ]
  },
  {
   "cell_type": "code",
   "execution_count": null,
   "id": "4c75408d",
   "metadata": {},
   "outputs": [],
   "source": [
    "# Creating a 'zone' column based on the first letter\n",
    "df['zone'] = df['species'].str[0]\n",
    "grouped_data = df.groupby('zone').size()\n",
    "print(grouped_data)"
   ]
  },
  {
   "cell_type": "markdown",
   "id": "9165aaea",
   "metadata": {},
   "source": [
    "The `zone` column is created by extracting the first letter of each species name using `str[0]`. Then, the `groupby` function is used to group the DataFrame by the 'zone' column, and `size()` is used to count the number of entries in each group. The function `count()` would return a similar answer, but both the `species` and `age` columns would be returned in the form of a DataFrame."
   ]
  },
  {
   "cell_type": "markdown",
   "id": "e9956efe",
   "metadata": {
    "tags": []
   },
   "source": [
    "## Summary\n",
    "\n",
    "And with that, we've been introduced to key concepts related to manipulating and analysing text data using the Pandas library in Python. We've covered techniques such as cleaning and standardising text data, extracting information using regular expressions, and aggregating data based on text patterns. These concepts will enable us to effectively process and gain insights from textual information within DataFrames."
   ]
  },
  {
   "cell_type": "markdown",
   "id": "26fd094b-0fee-46f1-a4b8-73766813c42b",
   "metadata": {
    "tags": []
   },
   "source": [
    "#  \n",
    "\n",
    "<div align=\"center\" style=\" font-size: 80%; text-align: center; margin: 0 auto\">\n",
    "<img src=\"https://raw.githubusercontent.com/Explore-AI/Pictures/master/ExploreAI_logos/EAI_Blue_Dark.png\"  style=\"width:200px\";/>\n",
    "</div>"
   ]
  }
 ],
 "metadata": {
  "kernelspec": {
   "display_name": "Python 3 (ipykernel)",
   "language": "python",
   "name": "python3"
  },
  "language_info": {
   "codemirror_mode": {
    "name": "ipython",
    "version": 3
   },
   "file_extension": ".py",
   "mimetype": "text/x-python",
   "name": "python",
   "nbconvert_exporter": "python",
   "pygments_lexer": "ipython3",
   "version": "3.11.5"
  }
 },
 "nbformat": 4,
 "nbformat_minor": 5
}
