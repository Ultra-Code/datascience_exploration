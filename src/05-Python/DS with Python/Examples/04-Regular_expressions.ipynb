{
 "cells": [
  {
   "cell_type": "markdown",
   "id": "OCq9BZwd8F3z",
   "metadata": {
    "id": "OCq9BZwd8F3z"
   },
   "source": [
    "<div align=\"center\" style=\" font-size: 80%; text-align: center; margin: 0 auto\">\n",
    "<img src=\"https://raw.githubusercontent.com/Explore-AI/Pictures/master/Python-Notebook-Banners/Examples.png\"  style=\"display: block; margin-left: auto; margin-right: auto;\";/>\n",
    "</div>"
   ]
  },
  {
   "cell_type": "markdown",
   "id": "f662d169",
   "metadata": {
    "id": "f662d169"
   },
   "source": [
    "# Examples: Regular expressions\n",
    "© ExploreAI Academy"
   ]
  },
  {
   "cell_type": "markdown",
   "id": "26af890c",
   "metadata": {
    "id": "26af890c"
   },
   "source": [
    "In this notebook, we look at how to use the `re` library in Python and apply some of the functionality to easily extract the data we're interested in. We also look at the `re.compile` function – creating compiled objects for specific regex functions."
   ]
  },
  {
   "cell_type": "markdown",
   "id": "2d230d14",
   "metadata": {
    "id": "2d230d14",
    "tags": []
   },
   "source": [
    "## Learning objectives\n",
    "\n",
    "By the end of this notebook, you should be able to:\n",
    "- Understand how to use regex to extract data we're interested in.\n",
    "- Apply regex to both compiled objects and normal text."
   ]
  },
  {
   "cell_type": "markdown",
   "id": "661bad04",
   "metadata": {
    "id": "661bad04"
   },
   "source": [
    "## Examples"
   ]
  },
  {
   "cell_type": "markdown",
   "id": "42dba616",
   "metadata": {
    "id": "42dba616"
   },
   "source": [
    "### Example 1\n",
    "\n",
    "#### Question\n",
    "Given a paragraph about conservation efforts, split the text into individual sentences using regular expressions.\n",
    "\n",
    "#### Solution"
   ]
  },
  {
   "cell_type": "code",
   "execution_count": 1,
   "id": "62341cd8",
   "metadata": {
    "colab": {
     "base_uri": "https://localhost:8080/"
    },
    "executionInfo": {
     "elapsed": 9,
     "status": "ok",
     "timestamp": 1707399546896,
     "user": {
      "displayName": "Bernard Assan",
      "userId": "07109241628391151433"
     },
     "user_tz": 0
    },
    "id": "62341cd8",
    "outputId": "91ef68cb-8a0e-4c31-c94d-4f502ecb8d90"
   },
   "outputs": [
    {
     "name": "stdout",
     "output_type": "stream",
     "text": [
      "['Conservation efforts are increasing', 'Habitats are being restored', 'Species are recovering.']\n"
     ]
    }
   ],
   "source": [
    "import re\n",
    "\n",
    "text = \"Conservation efforts are increasing. Habitats are being restored. Species are recovering.\"\n",
    "sentences = re.split(r\"\\. \", text)\n",
    "\n",
    "print(sentences)"
   ]
  },
  {
   "cell_type": "markdown",
   "id": "1a2075e6",
   "metadata": {
    "id": "1a2075e6"
   },
   "source": [
    "#### Explanation\n",
    "This code uses `re.split` to split a paragraph into sentences based on the period followed by a space. This is a simple use case of `re.split`, demonstrating its effectiveness in text segmentation."
   ]
  },
  {
   "cell_type": "markdown",
   "id": "f5363a1c",
   "metadata": {
    "id": "f5363a1c"
   },
   "source": [
    "### Example 2\n",
    "\n",
    "#### Question\n",
    "Extract all numbers followed by \"acres\" to find references to land area in a text. Utilise `re.compile` to create a regex pattern that matches this format.\n",
    "\n",
    "#### Solution"
   ]
  },
  {
   "cell_type": "code",
   "execution_count": 2,
   "id": "636046ab",
   "metadata": {
    "colab": {
     "base_uri": "https://localhost:8080/"
    },
    "executionInfo": {
     "elapsed": 382,
     "status": "ok",
     "timestamp": 1707399587416,
     "user": {
      "displayName": "Bernard Assan",
      "userId": "07109241628391151433"
     },
     "user_tz": 0
    },
    "id": "636046ab",
    "outputId": "c907fc9f-b82d-4ce3-f876-1f9d76f211ea"
   },
   "outputs": [
    {
     "name": "stdout",
     "output_type": "stream",
     "text": [
      "['5000 Acres', '750 acres']\n"
     ]
    }
   ],
   "source": [
    "import re\n",
    "\n",
    "text = \"The national park covers 5000 Acres, while the community forest spans 750 acres.\"\n",
    "\n",
    "# Compiling the regex pattern\n",
    "pattern = re.compile(r'\\d+\\s*acres', re.IGNORECASE)\n",
    "\n",
    "# Finding all occurrences of land area\n",
    "land_areas = pattern.findall(text)\n",
    "\n",
    "print(land_areas)"
   ]
  },
  {
   "cell_type": "markdown",
   "id": "99d6c4f0",
   "metadata": {
    "id": "99d6c4f0"
   },
   "source": [
    "#### Explanation\n",
    "This solution uses a compiled regex pattern to efficiently find numerical values followed by \"acres\". The regex `\\d+\\s*acres` looks for one or more digits `(\\d+)` followed by zero or more spaces `(\\s*)` and the word \"acres\". The `re.IGNORECASE` flag ensures that variations in the capitalisation of \"acres\" are also matched."
   ]
  },
  {
   "cell_type": "markdown",
   "id": "7d892fee",
   "metadata": {
    "id": "7d892fee"
   },
   "source": [
    "### Example 3\n",
    "\n",
    "#### Question\n",
    "Given a text with various animal and plant species names formatted as 'Genus Species', compile a regex object to find all occurrences of these species' names in the text.\n",
    "\n",
    "#### Solution"
   ]
  },
  {
   "cell_type": "code",
   "execution_count": 6,
   "id": "6477dc99",
   "metadata": {
    "colab": {
     "base_uri": "https://localhost:8080/"
    },
    "executionInfo": {
     "elapsed": 377,
     "status": "ok",
     "timestamp": 1707399652077,
     "user": {
      "displayName": "Bernard Assan",
      "userId": "07109241628391151433"
     },
     "user_tz": 0
    },
    "id": "6477dc99",
    "outputId": "a780ed95-835e-42cc-f783-d27b54bfab83"
   },
   "outputs": [
    {
     "name": "stdout",
     "output_type": "stream",
     "text": [
      "['In the', 'Amazon rainforest', 'Panthera onca', 'Inia geoffrensis', 'Euterpe precatoria']\n"
     ]
    }
   ],
   "source": [
    "import re\n",
    "\n",
    "pattern = re.compile(r'\\b[A-Z][a-z]* [a-z]+\\b')\n",
    "text = \"In the Amazon rainforest, species like Panthera onca, Inia geoffrensis, and Euterpe precatoria are found.\"\n",
    "\n",
    "species = pattern.findall(text)\n",
    "print(species)"
   ]
  },
  {
   "cell_type": "markdown",
   "id": "43115101",
   "metadata": {
    "id": "43115101"
   },
   "source": [
    "#### Explanation\n",
    "The script compiles a regex pattern using `re.compile`, which is then used to find all matches in the given text. The regex `\\b[A-Z][a-z]* [a-z]+\\b` is designed to match words that start with a capital letter (indicative of a genus name in biological nomenclature) followed by lowercase letters, a space, and then a series of lowercase letters (representing the species name).\n",
    "\n",
    "While this pattern is typically representative of scientific names for species, it's important to note that it may not exclusively capture viable species names. This limitation arises because the pattern does not account for the complexities and exceptions found in biological nomenclature, such as species names with hyphens, Latin abbreviations, or those comprising more than two words. Additionally, the pattern might inadvertently match other text that coincidentally follows the same format but does not represent actual species names. Therefore, while this regex can be a powerful tool for preliminary data extraction, further verification and refinement may be necessary to ensure the accuracy and relevance of the extracted data, especially for scientific or research purposes."
   ]
  },
  {
   "cell_type": "markdown",
   "id": "1d4f8974",
   "metadata": {
    "id": "1d4f8974"
   },
   "source": [
    "### Example 4\n",
    "\n",
    "#### Question\n",
    "Given a text containing different plant names related to sustainable land management, extract all occurrences of specific plants. The names to extract are \"oak\", \"maple\", and \"pine\". Use `re.compile` to optimise the pattern matching.\n",
    "\n",
    "#### Solution"
   ]
  },
  {
   "cell_type": "code",
   "execution_count": 7,
   "id": "ed0b4be6",
   "metadata": {
    "colab": {
     "base_uri": "https://localhost:8080/"
    },
    "executionInfo": {
     "elapsed": 16,
     "status": "ok",
     "timestamp": 1707399947046,
     "user": {
      "displayName": "Bernard Assan",
      "userId": "07109241628391151433"
     },
     "user_tz": 0
    },
    "id": "ed0b4be6",
    "outputId": "058a50bb-9ae8-4af2-adcd-7ecbd797402e"
   },
   "outputs": [
    {
     "name": "stdout",
     "output_type": "stream",
     "text": [
      "['oak', 'maple', 'pine']\n"
     ]
    }
   ],
   "source": [
    "import re\n",
    "\n",
    "text = \"The forest had a variety of trees including oak, maple, and pine. Other species included birch and spruce.\"\n",
    "\n",
    "# Compiling the regex pattern\n",
    "pattern = re.compile(r'\\boak\\b|\\bmaple\\b|\\bpine\\b', re.IGNORECASE)\n",
    "\n",
    "# Finding all occurrences of the specified plants\n",
    "found_plants = pattern.findall(text)\n",
    "\n",
    "print(found_plants)\n"
   ]
  },
  {
   "cell_type": "markdown",
   "id": "e2226404",
   "metadata": {
    "id": "e2226404"
   },
   "source": [
    "#### Explanation\n",
    "This code uses `re.compile` to create a compiled regex object for efficient matching.\n",
    "* When working with regex in Python, compiling a regex pattern into a regex object can enhance performance, especially when the pattern is used multiple times. This approach is more efficient because the regex engine converts the pattern string into an internal format optimised for repeated searches. This is particularly useful in scenarios like parsing large texts or processing multiple strings using the same pattern, as it avoids the overhead of recompiling the pattern for each use.\n",
    "\n",
    "The regex pattern `\\boak\\b|\\bmaple\\b|\\bpine\\b` uses word boundaries `(\\b)` to match whole words and `|` as an `OR` operator to match any of the specified plant names. The `re.IGNORECASE` flag makes the search case insensitive."
   ]
  },
  {
   "cell_type": "code",
   "execution_count": 8,
   "id": "sExxStmB-Nnz",
   "metadata": {
    "id": "sExxStmB-Nnz"
   },
   "outputs": [],
   "source": [
    "social_media_posts = \"\"\"\n",
    "Great news! The GreenWood Project has successfully planted 10000 trees in the Amazon Rainforest #GreenEarth #Conservation\n",
    "Update: ForestCoverApp shows a 12% increase in forest cover in the last 5 years. #TechForGood\n",
    "Sad to see illegal logging in Madagascan rainforests. We need stricter laws! #SaveForests #ActNow\n",
    "Celebrating World Environment Day with a pledge to plant 20000 trees. Join us! #EnvironmentDay #GoGreen\n",
    "Interesting study published in NatureJournal: Rainforest biodiversity is crucial for ecological balance. #ScienceForNature\n",
    "\"\"\""
   ]
  },
  {
   "cell_type": "code",
   "execution_count": 9,
   "id": "oSacGyWe-aKh",
   "metadata": {
    "colab": {
     "base_uri": "https://localhost:8080/"
    },
    "executionInfo": {
     "elapsed": 385,
     "status": "ok",
     "timestamp": 1707400364738,
     "user": {
      "displayName": "Bernard Assan",
      "userId": "07109241628391151433"
     },
     "user_tz": 0
    },
    "id": "oSacGyWe-aKh",
    "outputId": "239996b6-9393-40d6-acd6-1b7665699f8f"
   },
   "outputs": [
    {
     "name": "stdout",
     "output_type": "stream",
     "text": [
      "['#GreenEarth', '#Conservation', '#TechForGood', '#SaveForests', '#ActNow', '#EnvironmentDay', '#GoGreen', '#ScienceForNature']\n"
     ]
    }
   ],
   "source": [
    "# insert code here\n",
    "def extract_hashtags(text):\n",
    "    pattern = re.compile(r\"#\\w+\")\n",
    "    return pattern.findall(text)\n",
    "\n",
    "# Test with the provided text\n",
    "print(extract_hashtags(social_media_posts))"
   ]
  },
  {
   "cell_type": "code",
   "execution_count": 11,
   "id": "TVhANgifAGZl",
   "metadata": {
    "colab": {
     "base_uri": "https://localhost:8080/"
    },
    "executionInfo": {
     "elapsed": 15,
     "status": "ok",
     "timestamp": 1707401760220,
     "user": {
      "displayName": "Bernard Assan",
      "userId": "07109241628391151433"
     },
     "user_tz": 0
    },
    "id": "TVhANgifAGZl",
    "outputId": "a6b2d262-edc7-42ce-a310-1910409048d0"
   },
   "outputs": [
    {
     "name": "stdout",
     "output_type": "stream",
     "text": [
      "['10000', '12%', '5', '20000']\n"
     ]
    }
   ],
   "source": [
    "# insert code here\n",
    "def extract_numbers(text):\n",
    "    pattern = re.compile(r\"\\b[\\d%?]+\")\n",
    "    return pattern.findall(text)\n",
    "\n",
    "# Test with the provided text\n",
    "print(extract_numbers(social_media_posts))"
   ]
  },
  {
   "cell_type": "code",
   "execution_count": 12,
   "id": "_V6s9GlNFgNj",
   "metadata": {
    "colab": {
     "base_uri": "https://localhost:8080/"
    },
    "executionInfo": {
     "elapsed": 11,
     "status": "ok",
     "timestamp": 1707410574386,
     "user": {
      "displayName": "Bernard Assan",
      "userId": "07109241628391151433"
     },
     "user_tz": 0
    },
    "id": "_V6s9GlNFgNj",
    "outputId": "07f32269-9029-488b-f5da-a2ea70971240"
   },
   "outputs": [
    {
     "name": "stdout",
     "output_type": "stream",
     "text": [
      "2\n"
     ]
    }
   ],
   "source": [
    "# insert code here\n",
    "def count_specific_words(text):\n",
    "    pattern = re.compile(r\"(\\billegal\\b|\\blogging\\b)\")\n",
    "    return len(pattern.findall(text))\n",
    "\n",
    "# Test with the provided text\n",
    "print(count_specific_words(social_media_posts))"
   ]
  },
  {
   "cell_type": "code",
   "execution_count": 13,
   "id": "axZS-orjWjdY",
   "metadata": {
    "colab": {
     "base_uri": "https://localhost:8080/"
    },
    "executionInfo": {
     "elapsed": 557,
     "status": "ok",
     "timestamp": 1707407924176,
     "user": {
      "displayName": "Bernard Assan",
      "userId": "07109241628391151433"
     },
     "user_tz": 0
    },
    "id": "axZS-orjWjdY",
    "outputId": "c66b29d3-da19-44d6-eb1f-33bbfba3550d"
   },
   "outputs": [
    {
     "name": "stdout",
     "output_type": "stream",
     "text": [
      "['Amazon Rainforest', 'Madagascan rainforests']\n"
     ]
    }
   ],
   "source": [
    "# insert code here\n",
    "def extract_locations(text):\n",
    "    matches = re.findall(r\"[A-Z]\\w+\\s+[rR]\\w+\",text)\n",
    "    return matches\n",
    "\n",
    "# Test with the provided text\n",
    "print(extract_locations(social_media_posts))"
   ]
  },
  {
   "cell_type": "code",
   "execution_count": 14,
   "id": "LyoTodG9cFAw",
   "metadata": {
    "colab": {
     "base_uri": "https://localhost:8080/"
    },
    "executionInfo": {
     "elapsed": 15,
     "status": "ok",
     "timestamp": 1707407859927,
     "user": {
      "displayName": "Bernard Assan",
      "userId": "07109241628391151433"
     },
     "user_tz": 0
    },
    "id": "LyoTodG9cFAw",
    "outputId": "f92efee2-819c-44be-8136-2d857109dce2"
   },
   "outputs": [
    {
     "name": "stdout",
     "output_type": "stream",
     "text": [
      "['Amazon Rainforest', 'Madagascan rainforests']\n"
     ]
    }
   ],
   "source": [
    "def extract_locations(text):\n",
    "    # Regular expression to match potential location names\n",
    "    pattern = r'\\b[A-Z][a-z]+(?:\\s[A-Z][a-z]+)*(?:\\s[rR]ainforests?)?\\b'\n",
    "\n",
    "    # Find all matches\n",
    "    potential_locations = re.findall(pattern, text)\n",
    "\n",
    "    # Filtering based on context and avoiding false positives\n",
    "    locations = [loc for loc in potential_locations if not loc.endswith(':') and 'rainforest' in loc.lower() and loc != 'Rainforest']\n",
    "\n",
    "    return locations\n",
    "\n",
    "# Test with the provided text\n",
    "print(extract_locations(social_media_posts))"
   ]
  },
  {
   "cell_type": "code",
   "execution_count": 21,
   "id": "JQ8M-y5Nl6Ad",
   "metadata": {
    "colab": {
     "base_uri": "https://localhost:8080/"
    },
    "executionInfo": {
     "elapsed": 923,
     "status": "ok",
     "timestamp": 1707410435964,
     "user": {
      "displayName": "Bernard Assan",
      "userId": "07109241628391151433"
     },
     "user_tz": 0
    },
    "id": "JQ8M-y5Nl6Ad",
    "outputId": "f4ead968-d78c-40de-ad15-300d129c53b4"
   },
   "outputs": [
    {
     "name": "stdout",
     "output_type": "stream",
     "text": [
      "Before\n"
     ]
    },
    {
     "data": {
      "text/html": [
       "<div>\n",
       "<style scoped>\n",
       "    .dataframe tbody tr th:only-of-type {\n",
       "        vertical-align: middle;\n",
       "    }\n",
       "\n",
       "    .dataframe tbody tr th {\n",
       "        vertical-align: top;\n",
       "    }\n",
       "\n",
       "    .dataframe thead th {\n",
       "        text-align: right;\n",
       "    }\n",
       "</style>\n",
       "<table border=\"1\" class=\"dataframe\">\n",
       "  <thead>\n",
       "    <tr style=\"text-align: right;\">\n",
       "      <th></th>\n",
       "      <th>species</th>\n",
       "    </tr>\n",
       "  </thead>\n",
       "  <tbody>\n",
       "    <tr>\n",
       "      <th>0</th>\n",
       "      <td>Maple (10 years)</td>\n",
       "    </tr>\n",
       "    <tr>\n",
       "      <th>1</th>\n",
       "      <td>oak</td>\n",
       "    </tr>\n",
       "    <tr>\n",
       "      <th>2</th>\n",
       "      <td>Pine(3 years)</td>\n",
       "    </tr>\n",
       "    <tr>\n",
       "      <th>3</th>\n",
       "      <td>maple</td>\n",
       "    </tr>\n",
       "    <tr>\n",
       "      <th>4</th>\n",
       "      <td>Oak (1.5 Years)</td>\n",
       "    </tr>\n",
       "  </tbody>\n",
       "</table>\n",
       "</div>"
      ],
      "text/plain": [
       "              species\n",
       "0   Maple (10 years) \n",
       "1                 oak\n",
       "2       Pine(3 years)\n",
       "3              maple \n",
       "4     Oak (1.5 Years)"
      ]
     },
     "metadata": {},
     "output_type": "display_data"
    },
    {
     "name": "stdout",
     "output_type": "stream",
     "text": [
      "After\n"
     ]
    },
    {
     "data": {
      "text/html": [
       "<div>\n",
       "<style scoped>\n",
       "    .dataframe tbody tr th:only-of-type {\n",
       "        vertical-align: middle;\n",
       "    }\n",
       "\n",
       "    .dataframe tbody tr th {\n",
       "        vertical-align: top;\n",
       "    }\n",
       "\n",
       "    .dataframe thead th {\n",
       "        text-align: right;\n",
       "    }\n",
       "</style>\n",
       "<table border=\"1\" class=\"dataframe\">\n",
       "  <thead>\n",
       "    <tr style=\"text-align: right;\">\n",
       "      <th></th>\n",
       "      <th>species</th>\n",
       "    </tr>\n",
       "  </thead>\n",
       "  <tbody>\n",
       "    <tr>\n",
       "      <th>0</th>\n",
       "      <td>maple (10 years)</td>\n",
       "    </tr>\n",
       "    <tr>\n",
       "      <th>1</th>\n",
       "      <td>oak</td>\n",
       "    </tr>\n",
       "    <tr>\n",
       "      <th>2</th>\n",
       "      <td>pine(3 years)</td>\n",
       "    </tr>\n",
       "    <tr>\n",
       "      <th>3</th>\n",
       "      <td>maple</td>\n",
       "    </tr>\n",
       "    <tr>\n",
       "      <th>4</th>\n",
       "      <td>oak (1.5 years)</td>\n",
       "    </tr>\n",
       "  </tbody>\n",
       "</table>\n",
       "</div>"
      ],
      "text/plain": [
       "            species\n",
       "0  maple (10 years)\n",
       "1               oak\n",
       "2     pine(3 years)\n",
       "3             maple\n",
       "4   oak (1.5 years)"
      ]
     },
     "execution_count": 21,
     "metadata": {},
     "output_type": "execute_result"
    }
   ],
   "source": [
    "import pandas as pd\n",
    "from IPython.display import display\n",
    "\n",
    "# Sample data\n",
    "data = {'species': [' Maple (10 years) ', 'oak', 'Pine(3 years)', 'maple ', ' Oak (1.5 Years)']}\n",
    "df = pd.DataFrame(data)\n",
    "print(\"Before\")\n",
    "display(df)\n",
    "\n",
    "# Cleaning the 'species' column\n",
    "df['species'] = df['species'].str.strip().str.lower()\n",
    "print(\"After\")\n",
    "df"
   ]
  },
  {
   "cell_type": "code",
   "execution_count": 26,
   "id": "Sxf0Blopl59G",
   "metadata": {
    "colab": {
     "base_uri": "https://localhost:8080/"
    },
    "executionInfo": {
     "elapsed": 401,
     "status": "ok",
     "timestamp": 1707410462893,
     "user": {
      "displayName": "Bernard Assan",
      "userId": "07109241628391151433"
     },
     "user_tz": 0
    },
    "id": "Sxf0Blopl59G",
    "outputId": "6465e597-bc44-4262-c93a-8859b72ddfc2"
   },
   "outputs": [
    {
     "data": {
      "text/html": [
       "<div>\n",
       "<style scoped>\n",
       "    .dataframe tbody tr th:only-of-type {\n",
       "        vertical-align: middle;\n",
       "    }\n",
       "\n",
       "    .dataframe tbody tr th {\n",
       "        vertical-align: top;\n",
       "    }\n",
       "\n",
       "    .dataframe thead th {\n",
       "        text-align: right;\n",
       "    }\n",
       "</style>\n",
       "<table border=\"1\" class=\"dataframe\">\n",
       "  <thead>\n",
       "    <tr style=\"text-align: right;\">\n",
       "      <th></th>\n",
       "      <th>species</th>\n",
       "      <th>age</th>\n",
       "    </tr>\n",
       "  </thead>\n",
       "  <tbody>\n",
       "    <tr>\n",
       "      <th>0</th>\n",
       "      <td>maple (10 years)</td>\n",
       "      <td>10</td>\n",
       "    </tr>\n",
       "    <tr>\n",
       "      <th>1</th>\n",
       "      <td>oak</td>\n",
       "      <td>Unknown</td>\n",
       "    </tr>\n",
       "    <tr>\n",
       "      <th>2</th>\n",
       "      <td>pine(3 years)</td>\n",
       "      <td>3</td>\n",
       "    </tr>\n",
       "    <tr>\n",
       "      <th>3</th>\n",
       "      <td>maple</td>\n",
       "      <td>Unknown</td>\n",
       "    </tr>\n",
       "    <tr>\n",
       "      <th>4</th>\n",
       "      <td>oak (1.5 years)</td>\n",
       "      <td>1.5</td>\n",
       "    </tr>\n",
       "  </tbody>\n",
       "</table>\n",
       "</div>"
      ],
      "text/plain": [
       "            species      age\n",
       "0  maple (10 years)       10\n",
       "1               oak  Unknown\n",
       "2     pine(3 years)        3\n",
       "3             maple  Unknown\n",
       "4   oak (1.5 years)      1.5"
      ]
     },
     "execution_count": 26,
     "metadata": {},
     "output_type": "execute_result"
    }
   ],
   "source": [
    "# Extracting age using regular expression\n",
    "df['age'] = df['species'].str.extract(r'(\\d+\\.\\d+|\\d+)').fillna(\"Unknown\")\n",
    "df"
   ]
  },
  {
   "cell_type": "code",
   "execution_count": 42,
   "id": "1YKXNL_pnQCH",
   "metadata": {
    "colab": {
     "base_uri": "https://localhost:8080/"
    },
    "executionInfo": {
     "elapsed": 366,
     "status": "ok",
     "timestamp": 1707410793488,
     "user": {
      "displayName": "Bernard Assan",
      "userId": "07109241628391151433"
     },
     "user_tz": 0
    },
    "id": "1YKXNL_pnQCH",
    "outputId": "c6919e11-5e1d-4827-cfc2-e235191ad4e4"
   },
   "outputs": [
    {
     "data": {
      "text/html": [
       "<div>\n",
       "<style scoped>\n",
       "    .dataframe tbody tr th:only-of-type {\n",
       "        vertical-align: middle;\n",
       "    }\n",
       "\n",
       "    .dataframe tbody tr th {\n",
       "        vertical-align: top;\n",
       "    }\n",
       "\n",
       "    .dataframe thead th {\n",
       "        text-align: right;\n",
       "    }\n",
       "</style>\n",
       "<table border=\"1\" class=\"dataframe\">\n",
       "  <thead>\n",
       "    <tr style=\"text-align: right;\">\n",
       "      <th></th>\n",
       "      <th>species</th>\n",
       "    </tr>\n",
       "  </thead>\n",
       "  <tbody>\n",
       "    <tr>\n",
       "      <th>0</th>\n",
       "      <td>maple</td>\n",
       "    </tr>\n",
       "    <tr>\n",
       "      <th>1</th>\n",
       "      <td>oak</td>\n",
       "    </tr>\n",
       "    <tr>\n",
       "      <th>2</th>\n",
       "      <td>pine</td>\n",
       "    </tr>\n",
       "    <tr>\n",
       "      <th>3</th>\n",
       "      <td>maple</td>\n",
       "    </tr>\n",
       "    <tr>\n",
       "      <th>4</th>\n",
       "      <td>oak</td>\n",
       "    </tr>\n",
       "  </tbody>\n",
       "</table>\n",
       "</div>"
      ],
      "text/plain": [
       "  species\n",
       "0   maple\n",
       "1     oak\n",
       "2    pine\n",
       "3   maple\n",
       "4     oak"
      ]
     },
     "metadata": {},
     "output_type": "display_data"
    },
    {
     "data": {
      "text/plain": [
       "species\n",
       "maple    2\n",
       "oak      2\n",
       "pine     1\n",
       "Name: count, dtype: int64"
      ]
     },
     "execution_count": 42,
     "metadata": {},
     "output_type": "execute_result"
    }
   ],
   "source": [
    "# Clean and standardise species names\n",
    "df['species'] = df['species'].str.extract(r'([a-zA-Z]+)', expand=False).fillna('').str.strip().str.lower()\n",
    "display(df[['species']])\n",
    "\n",
    "# Counting occurrences of each species\n",
    "species_counts = df['species'].value_counts()\n",
    "species_counts"
   ]
  },
  {
   "cell_type": "code",
   "execution_count": 44,
   "id": "QLV8f-O6ng8c",
   "metadata": {
    "colab": {
     "base_uri": "https://localhost:8080/"
    },
    "executionInfo": {
     "elapsed": 10,
     "status": "ok",
     "timestamp": 1707410859996,
     "user": {
      "displayName": "Bernard Assan",
      "userId": "07109241628391151433"
     },
     "user_tz": 0
    },
    "id": "QLV8f-O6ng8c",
    "outputId": "0947ed91-60ec-48e2-98da-7de5ab71bcac"
   },
   "outputs": [
    {
     "data": {
      "text/html": [
       "<div>\n",
       "<style scoped>\n",
       "    .dataframe tbody tr th:only-of-type {\n",
       "        vertical-align: middle;\n",
       "    }\n",
       "\n",
       "    .dataframe tbody tr th {\n",
       "        vertical-align: top;\n",
       "    }\n",
       "\n",
       "    .dataframe thead th {\n",
       "        text-align: right;\n",
       "    }\n",
       "</style>\n",
       "<table border=\"1\" class=\"dataframe\">\n",
       "  <thead>\n",
       "    <tr style=\"text-align: right;\">\n",
       "      <th></th>\n",
       "      <th>species</th>\n",
       "      <th>age</th>\n",
       "      <th>zone</th>\n",
       "    </tr>\n",
       "  </thead>\n",
       "  <tbody>\n",
       "    <tr>\n",
       "      <th>0</th>\n",
       "      <td>maple</td>\n",
       "      <td>10</td>\n",
       "      <td>m</td>\n",
       "    </tr>\n",
       "    <tr>\n",
       "      <th>1</th>\n",
       "      <td>oak</td>\n",
       "      <td>Unknown</td>\n",
       "      <td>o</td>\n",
       "    </tr>\n",
       "    <tr>\n",
       "      <th>2</th>\n",
       "      <td>pine</td>\n",
       "      <td>3</td>\n",
       "      <td>p</td>\n",
       "    </tr>\n",
       "    <tr>\n",
       "      <th>3</th>\n",
       "      <td>maple</td>\n",
       "      <td>Unknown</td>\n",
       "      <td>m</td>\n",
       "    </tr>\n",
       "    <tr>\n",
       "      <th>4</th>\n",
       "      <td>oak</td>\n",
       "      <td>1.5</td>\n",
       "      <td>o</td>\n",
       "    </tr>\n",
       "  </tbody>\n",
       "</table>\n",
       "</div>"
      ],
      "text/plain": [
       "  species      age zone\n",
       "0   maple       10    m\n",
       "1     oak  Unknown    o\n",
       "2    pine        3    p\n",
       "3   maple  Unknown    m\n",
       "4     oak      1.5    o"
      ]
     },
     "metadata": {},
     "output_type": "display_data"
    },
    {
     "data": {
      "text/plain": [
       "zone\n",
       "m    2\n",
       "o    2\n",
       "p    1\n",
       "dtype: int64"
      ]
     },
     "execution_count": 44,
     "metadata": {},
     "output_type": "execute_result"
    }
   ],
   "source": [
    "# Creating a 'zone' column based on the first letter\n",
    "df['zone'] = df['species'].str[0]\n",
    "display(df)\n",
    "\n",
    "grouped_data = df.groupby('zone').size()\n",
    "grouped_data"
   ]
  },
  {
   "cell_type": "code",
   "execution_count": 46,
   "id": "ZlMxqn_pog5-",
   "metadata": {
    "colab": {
     "base_uri": "https://localhost:8080/"
    },
    "executionInfo": {
     "elapsed": 365,
     "status": "ok",
     "timestamp": 1707411628035,
     "user": {
      "displayName": "Bernard Assan",
      "userId": "07109241628391151433"
     },
     "user_tz": 0
    },
    "id": "ZlMxqn_pog5-",
    "outputId": "d724271a-bab6-470c-bb95-2b6de5d2d4d1"
   },
   "outputs": [
    {
     "data": {
      "text/html": [
       "<div>\n",
       "<style scoped>\n",
       "    .dataframe tbody tr th:only-of-type {\n",
       "        vertical-align: middle;\n",
       "    }\n",
       "\n",
       "    .dataframe tbody tr th {\n",
       "        vertical-align: top;\n",
       "    }\n",
       "\n",
       "    .dataframe thead th {\n",
       "        text-align: right;\n",
       "    }\n",
       "</style>\n",
       "<table border=\"1\" class=\"dataframe\">\n",
       "  <thead>\n",
       "    <tr style=\"text-align: right;\">\n",
       "      <th></th>\n",
       "      <th>ID</th>\n",
       "      <th>Description</th>\n",
       "      <th>Date</th>\n",
       "      <th>Location</th>\n",
       "      <th>Budget</th>\n",
       "      <th>Notes</th>\n",
       "    </tr>\n",
       "  </thead>\n",
       "  <tbody>\n",
       "    <tr>\n",
       "      <th>0</th>\n",
       "      <td>1</td>\n",
       "      <td>Forest Conservation Project in Spain</td>\n",
       "      <td>2021-03-15</td>\n",
       "      <td>madrid, spain</td>\n",
       "      <td>$20000</td>\n",
       "      <td>Focusing on native forest species in Spain</td>\n",
       "    </tr>\n",
       "    <tr>\n",
       "      <th>1</th>\n",
       "      <td>2</td>\n",
       "      <td>River Cleanup Initiative Project 2021 in Portugal</td>\n",
       "      <td>2021-06-20</td>\n",
       "      <td>LISBON, Portugal</td>\n",
       "      <td>€15000</td>\n",
       "      <td>Cleanup of the Tagus river in Portugal. Endang...</td>\n",
       "    </tr>\n",
       "    <tr>\n",
       "      <th>2</th>\n",
       "      <td>3</td>\n",
       "      <td>Urban Gardening Community Project in Germany</td>\n",
       "      <td>2022-01-11</td>\n",
       "      <td>berlin, germany</td>\n",
       "      <td>€12000</td>\n",
       "      <td>Community project in urban Berlin, Germany</td>\n",
       "    </tr>\n",
       "    <tr>\n",
       "      <th>3</th>\n",
       "      <td>4</td>\n",
       "      <td>Forest Reforestation Project 2022 in France</td>\n",
       "      <td>2022-04-05</td>\n",
       "      <td>Paris, France</td>\n",
       "      <td>£18000</td>\n",
       "      <td>Reforestation of oak trees in Paris, France</td>\n",
       "    </tr>\n",
       "    <tr>\n",
       "      <th>4</th>\n",
       "      <td>5</td>\n",
       "      <td>Wildlife Protection Project Plan in Italy</td>\n",
       "      <td>2023-02-22</td>\n",
       "      <td>rome, Italy</td>\n",
       "      <td>$25000</td>\n",
       "      <td>Plan for protecting local wildlife in Italy. E...</td>\n",
       "    </tr>\n",
       "    <tr>\n",
       "      <th>5</th>\n",
       "      <td>6</td>\n",
       "      <td>Endangered Species Conservation Project in Greece</td>\n",
       "      <td>2023-05-30</td>\n",
       "      <td>Athens, GREECE</td>\n",
       "      <td>€20000</td>\n",
       "      <td>Study on the impact on endangered bird species...</td>\n",
       "    </tr>\n",
       "    <tr>\n",
       "      <th>6</th>\n",
       "      <td>7</td>\n",
       "      <td>Wetland Restoration Project in Spain</td>\n",
       "      <td>2021-09-13</td>\n",
       "      <td>Valencia, Spain</td>\n",
       "      <td>$17000</td>\n",
       "      <td>Restoration of wetlands in Valencia, Spain</td>\n",
       "    </tr>\n",
       "    <tr>\n",
       "      <th>7</th>\n",
       "      <td>8</td>\n",
       "      <td>Marine Life Conservation Project in Portugal</td>\n",
       "      <td>2022-07-19</td>\n",
       "      <td>PORTO, Portugal</td>\n",
       "      <td>€13000</td>\n",
       "      <td>Conservation of marine life in Porto, Portugal</td>\n",
       "    </tr>\n",
       "    <tr>\n",
       "      <th>8</th>\n",
       "      <td>9</td>\n",
       "      <td>Air Quality Improvement Project Initiative in ...</td>\n",
       "      <td>2023-03-08</td>\n",
       "      <td>Munich, Germany</td>\n",
       "      <td>€11000</td>\n",
       "      <td>Initiative for improving air quality in Munich...</td>\n",
       "    </tr>\n",
       "    <tr>\n",
       "      <th>9</th>\n",
       "      <td>10</td>\n",
       "      <td>Habitat Preservation Project for Birds in France</td>\n",
       "      <td>2022-11-21</td>\n",
       "      <td>Lyon, France</td>\n",
       "      <td>£16000</td>\n",
       "      <td>Preservation of bird habitats in Lyon, France</td>\n",
       "    </tr>\n",
       "  </tbody>\n",
       "</table>\n",
       "</div>"
      ],
      "text/plain": [
       "   ID                                        Description        Date  \\\n",
       "0   1               Forest Conservation Project in Spain  2021-03-15   \n",
       "1   2  River Cleanup Initiative Project 2021 in Portugal  2021-06-20   \n",
       "2   3       Urban Gardening Community Project in Germany  2022-01-11   \n",
       "3   4        Forest Reforestation Project 2022 in France  2022-04-05   \n",
       "4   5          Wildlife Protection Project Plan in Italy  2023-02-22   \n",
       "5   6  Endangered Species Conservation Project in Greece  2023-05-30   \n",
       "6   7               Wetland Restoration Project in Spain  2021-09-13   \n",
       "7   8       Marine Life Conservation Project in Portugal  2022-07-19   \n",
       "8   9  Air Quality Improvement Project Initiative in ...  2023-03-08   \n",
       "9  10   Habitat Preservation Project for Birds in France  2022-11-21   \n",
       "\n",
       "           Location  Budget                                              Notes  \n",
       "0     madrid, spain  $20000         Focusing on native forest species in Spain  \n",
       "1  LISBON, Portugal  €15000  Cleanup of the Tagus river in Portugal. Endang...  \n",
       "2   berlin, germany  €12000         Community project in urban Berlin, Germany  \n",
       "3     Paris, France  £18000        Reforestation of oak trees in Paris, France  \n",
       "4       rome, Italy  $25000  Plan for protecting local wildlife in Italy. E...  \n",
       "5    Athens, GREECE  €20000  Study on the impact on endangered bird species...  \n",
       "6   Valencia, Spain  $17000         Restoration of wetlands in Valencia, Spain  \n",
       "7   PORTO, Portugal  €13000     Conservation of marine life in Porto, Portugal  \n",
       "8   Munich, Germany  €11000  Initiative for improving air quality in Munich...  \n",
       "9      Lyon, France  £16000      Preservation of bird habitats in Lyon, France  "
      ]
     },
     "execution_count": 46,
     "metadata": {},
     "output_type": "execute_result"
    }
   ],
   "source": [
    "data = {\n",
    "    'ID': [1, 2, 3, 4, 5, 6, 7, 8, 9, 10],\n",
    "    'Description': [\n",
    "        'Forest Conservation Project in Spain',\n",
    "        'River Cleanup Initiative Project 2021 in Portugal',\n",
    "        'Urban Gardening Community Project in Germany',\n",
    "        'Forest Reforestation Project 2022 in France',\n",
    "        'Wildlife Protection Project Plan in Italy',\n",
    "        'Endangered Species Conservation Project in Greece',\n",
    "        'Wetland Restoration Project in Spain',\n",
    "        'Marine Life Conservation Project in Portugal',\n",
    "        'Air Quality Improvement Project Initiative in Germany',\n",
    "        'Habitat Preservation Project for Birds in France'\n",
    "    ],\n",
    "    'Date': ['2021-03-15', '2021-06-20', '2022-01-11', '2022-04-05', '2023-02-22', '2023-05-30', '2021-09-13', '2022-07-19', '2023-03-08', '2022-11-21'],\n",
    "    'Location': ['madrid, spain', 'LISBON, Portugal', 'berlin, germany', 'Paris, France', 'rome, Italy', 'Athens, GREECE', 'Valencia, Spain', 'PORTO, Portugal', 'Munich, Germany', 'Lyon, France'],\n",
    "    'Budget': ['$20000', '€15000', '€12000', '£18000', '$25000', '€20000', '$17000', '€13000', '€11000', '£16000'],\n",
    "    'Notes': [\n",
    "        'Focusing on native forest species in Spain',\n",
    "        'Cleanup of the Tagus river in Portugal. Endangered species alert!',\n",
    "        'Community project in urban Berlin, Germany',\n",
    "        'Reforestation of oak trees in Paris, France',\n",
    "        'Plan for protecting local wildlife in Italy. Endangered species identified.',\n",
    "        'Study on the impact on endangered bird species in Greece',\n",
    "        'Restoration of wetlands in Valencia, Spain',\n",
    "        'Conservation of marine life in Porto, Portugal',\n",
    "        'Initiative for improving air quality in Munich, Germany',\n",
    "        'Preservation of bird habitats in Lyon, France'\n",
    "    ]\n",
    "}\n",
    "\n",
    "\n",
    "\n",
    "environment_df = pd.DataFrame(data)\n",
    "environment_df"
   ]
  },
  {
   "cell_type": "code",
   "execution_count": 61,
   "id": "BPNR6Jmso9lb",
   "metadata": {
    "colab": {
     "base_uri": "https://localhost:8080/"
    },
    "executionInfo": {
     "elapsed": 418,
     "status": "ok",
     "timestamp": 1707413332265,
     "user": {
      "displayName": "Bernard Assan",
      "userId": "07109241628391151433"
     },
     "user_tz": 0
    },
    "id": "BPNR6Jmso9lb",
    "outputId": "6a52a076-5c6b-4b6e-f409-5d76e1fe72ad"
   },
   "outputs": [
    {
     "data": {
      "text/html": [
       "<div>\n",
       "<style scoped>\n",
       "    .dataframe tbody tr th:only-of-type {\n",
       "        vertical-align: middle;\n",
       "    }\n",
       "\n",
       "    .dataframe tbody tr th {\n",
       "        vertical-align: top;\n",
       "    }\n",
       "\n",
       "    .dataframe thead th {\n",
       "        text-align: right;\n",
       "    }\n",
       "</style>\n",
       "<table border=\"1\" class=\"dataframe\">\n",
       "  <thead>\n",
       "    <tr style=\"text-align: right;\">\n",
       "      <th></th>\n",
       "      <th>Location_test</th>\n",
       "    </tr>\n",
       "  </thead>\n",
       "  <tbody>\n",
       "    <tr>\n",
       "      <th>0</th>\n",
       "      <td>Madrid,Spain</td>\n",
       "    </tr>\n",
       "    <tr>\n",
       "      <th>1</th>\n",
       "      <td>Lisbon,Portugal</td>\n",
       "    </tr>\n",
       "    <tr>\n",
       "      <th>2</th>\n",
       "      <td>Berlin,Germany</td>\n",
       "    </tr>\n",
       "    <tr>\n",
       "      <th>3</th>\n",
       "      <td>Paris,France</td>\n",
       "    </tr>\n",
       "    <tr>\n",
       "      <th>4</th>\n",
       "      <td>Rome,Italy</td>\n",
       "    </tr>\n",
       "    <tr>\n",
       "      <th>5</th>\n",
       "      <td>Athens,Greece</td>\n",
       "    </tr>\n",
       "    <tr>\n",
       "      <th>6</th>\n",
       "      <td>Valencia,Spain</td>\n",
       "    </tr>\n",
       "    <tr>\n",
       "      <th>7</th>\n",
       "      <td>Porto,Portugal</td>\n",
       "    </tr>\n",
       "    <tr>\n",
       "      <th>8</th>\n",
       "      <td>Munich,Germany</td>\n",
       "    </tr>\n",
       "    <tr>\n",
       "      <th>9</th>\n",
       "      <td>Lyon,France</td>\n",
       "    </tr>\n",
       "  </tbody>\n",
       "</table>\n",
       "</div>"
      ],
      "text/plain": [
       "     Location_test\n",
       "0     Madrid,Spain\n",
       "1  Lisbon,Portugal\n",
       "2   Berlin,Germany\n",
       "3     Paris,France\n",
       "4       Rome,Italy\n",
       "5    Athens,Greece\n",
       "6   Valencia,Spain\n",
       "7   Porto,Portugal\n",
       "8   Munich,Germany\n",
       "9      Lyon,France"
      ]
     },
     "execution_count": 61,
     "metadata": {},
     "output_type": "execute_result"
    }
   ],
   "source": [
    "environment_df['Location_test'] = [\"\".join(word.capitalize() for word in Country) for Country in environment_df['Location'].str.split()]\n",
    "environment_df[['Location_test']]"
   ]
  },
  {
   "cell_type": "code",
   "execution_count": 62,
   "id": "DXcARp8tyQrE",
   "metadata": {
    "colab": {
     "base_uri": "https://localhost:8080/"
    },
    "executionInfo": {
     "elapsed": 429,
     "status": "ok",
     "timestamp": 1707413674473,
     "user": {
      "displayName": "Bernard Assan",
      "userId": "07109241628391151433"
     },
     "user_tz": 0
    },
    "id": "DXcARp8tyQrE",
    "outputId": "061d4e6a-31c9-4636-f21e-d7dca946e0d1"
   },
   "outputs": [
    {
     "data": {
      "text/html": [
       "<div>\n",
       "<style scoped>\n",
       "    .dataframe tbody tr th:only-of-type {\n",
       "        vertical-align: middle;\n",
       "    }\n",
       "\n",
       "    .dataframe tbody tr th {\n",
       "        vertical-align: top;\n",
       "    }\n",
       "\n",
       "    .dataframe thead th {\n",
       "        text-align: right;\n",
       "    }\n",
       "</style>\n",
       "<table border=\"1\" class=\"dataframe\">\n",
       "  <thead>\n",
       "    <tr style=\"text-align: right;\">\n",
       "      <th></th>\n",
       "      <th>ID</th>\n",
       "      <th>Description</th>\n",
       "      <th>Date</th>\n",
       "      <th>Location</th>\n",
       "      <th>Budget</th>\n",
       "      <th>Notes</th>\n",
       "      <th>Location_test</th>\n",
       "      <th>Year</th>\n",
       "    </tr>\n",
       "  </thead>\n",
       "  <tbody>\n",
       "    <tr>\n",
       "      <th>0</th>\n",
       "      <td>1</td>\n",
       "      <td>Forest Conservation Project in Spain</td>\n",
       "      <td>2021-03-15</td>\n",
       "      <td>Madrid, Spain</td>\n",
       "      <td>$20000</td>\n",
       "      <td>Focusing on native forest species in Spain</td>\n",
       "      <td>Madrid,Spain</td>\n",
       "      <td>2021</td>\n",
       "    </tr>\n",
       "    <tr>\n",
       "      <th>1</th>\n",
       "      <td>2</td>\n",
       "      <td>River Cleanup Initiative Project 2021 in Portugal</td>\n",
       "      <td>2021-06-20</td>\n",
       "      <td>Lisbon, Portugal</td>\n",
       "      <td>€15000</td>\n",
       "      <td>Cleanup of the Tagus river in Portugal. Endang...</td>\n",
       "      <td>Lisbon,Portugal</td>\n",
       "      <td>2021</td>\n",
       "    </tr>\n",
       "    <tr>\n",
       "      <th>2</th>\n",
       "      <td>3</td>\n",
       "      <td>Urban Gardening Community Project in Germany</td>\n",
       "      <td>2022-01-11</td>\n",
       "      <td>Berlin, Germany</td>\n",
       "      <td>€12000</td>\n",
       "      <td>Community project in urban Berlin, Germany</td>\n",
       "      <td>Berlin,Germany</td>\n",
       "      <td>2022</td>\n",
       "    </tr>\n",
       "    <tr>\n",
       "      <th>3</th>\n",
       "      <td>4</td>\n",
       "      <td>Forest Reforestation Project 2022 in France</td>\n",
       "      <td>2022-04-05</td>\n",
       "      <td>Paris, France</td>\n",
       "      <td>£18000</td>\n",
       "      <td>Reforestation of oak trees in Paris, France</td>\n",
       "      <td>Paris,France</td>\n",
       "      <td>2022</td>\n",
       "    </tr>\n",
       "    <tr>\n",
       "      <th>4</th>\n",
       "      <td>5</td>\n",
       "      <td>Wildlife Protection Project Plan in Italy</td>\n",
       "      <td>2023-02-22</td>\n",
       "      <td>Rome, Italy</td>\n",
       "      <td>$25000</td>\n",
       "      <td>Plan for protecting local wildlife in Italy. E...</td>\n",
       "      <td>Rome,Italy</td>\n",
       "      <td>2023</td>\n",
       "    </tr>\n",
       "    <tr>\n",
       "      <th>5</th>\n",
       "      <td>6</td>\n",
       "      <td>Endangered Species Conservation Project in Greece</td>\n",
       "      <td>2023-05-30</td>\n",
       "      <td>Athens, Greece</td>\n",
       "      <td>€20000</td>\n",
       "      <td>Study on the impact on endangered bird species...</td>\n",
       "      <td>Athens,Greece</td>\n",
       "      <td>2023</td>\n",
       "    </tr>\n",
       "    <tr>\n",
       "      <th>6</th>\n",
       "      <td>7</td>\n",
       "      <td>Wetland Restoration Project in Spain</td>\n",
       "      <td>2021-09-13</td>\n",
       "      <td>Valencia, Spain</td>\n",
       "      <td>$17000</td>\n",
       "      <td>Restoration of wetlands in Valencia, Spain</td>\n",
       "      <td>Valencia,Spain</td>\n",
       "      <td>2021</td>\n",
       "    </tr>\n",
       "    <tr>\n",
       "      <th>7</th>\n",
       "      <td>8</td>\n",
       "      <td>Marine Life Conservation Project in Portugal</td>\n",
       "      <td>2022-07-19</td>\n",
       "      <td>Porto, Portugal</td>\n",
       "      <td>€13000</td>\n",
       "      <td>Conservation of marine life in Porto, Portugal</td>\n",
       "      <td>Porto,Portugal</td>\n",
       "      <td>2022</td>\n",
       "    </tr>\n",
       "    <tr>\n",
       "      <th>8</th>\n",
       "      <td>9</td>\n",
       "      <td>Air Quality Improvement Project Initiative in ...</td>\n",
       "      <td>2023-03-08</td>\n",
       "      <td>Munich, Germany</td>\n",
       "      <td>€11000</td>\n",
       "      <td>Initiative for improving air quality in Munich...</td>\n",
       "      <td>Munich,Germany</td>\n",
       "      <td>2023</td>\n",
       "    </tr>\n",
       "    <tr>\n",
       "      <th>9</th>\n",
       "      <td>10</td>\n",
       "      <td>Habitat Preservation Project for Birds in France</td>\n",
       "      <td>2022-11-21</td>\n",
       "      <td>Lyon, France</td>\n",
       "      <td>£16000</td>\n",
       "      <td>Preservation of bird habitats in Lyon, France</td>\n",
       "      <td>Lyon,France</td>\n",
       "      <td>2022</td>\n",
       "    </tr>\n",
       "  </tbody>\n",
       "</table>\n",
       "</div>"
      ],
      "text/plain": [
       "   ID                                        Description        Date  \\\n",
       "0   1               Forest Conservation Project in Spain  2021-03-15   \n",
       "1   2  River Cleanup Initiative Project 2021 in Portugal  2021-06-20   \n",
       "2   3       Urban Gardening Community Project in Germany  2022-01-11   \n",
       "3   4        Forest Reforestation Project 2022 in France  2022-04-05   \n",
       "4   5          Wildlife Protection Project Plan in Italy  2023-02-22   \n",
       "5   6  Endangered Species Conservation Project in Greece  2023-05-30   \n",
       "6   7               Wetland Restoration Project in Spain  2021-09-13   \n",
       "7   8       Marine Life Conservation Project in Portugal  2022-07-19   \n",
       "8   9  Air Quality Improvement Project Initiative in ...  2023-03-08   \n",
       "9  10   Habitat Preservation Project for Birds in France  2022-11-21   \n",
       "\n",
       "           Location  Budget  \\\n",
       "0     Madrid, Spain  $20000   \n",
       "1  Lisbon, Portugal  €15000   \n",
       "2   Berlin, Germany  €12000   \n",
       "3     Paris, France  £18000   \n",
       "4       Rome, Italy  $25000   \n",
       "5    Athens, Greece  €20000   \n",
       "6   Valencia, Spain  $17000   \n",
       "7   Porto, Portugal  €13000   \n",
       "8   Munich, Germany  €11000   \n",
       "9      Lyon, France  £16000   \n",
       "\n",
       "                                               Notes    Location_test  Year  \n",
       "0         Focusing on native forest species in Spain     Madrid,Spain  2021  \n",
       "1  Cleanup of the Tagus river in Portugal. Endang...  Lisbon,Portugal  2021  \n",
       "2         Community project in urban Berlin, Germany   Berlin,Germany  2022  \n",
       "3        Reforestation of oak trees in Paris, France     Paris,France  2022  \n",
       "4  Plan for protecting local wildlife in Italy. E...       Rome,Italy  2023  \n",
       "5  Study on the impact on endangered bird species...    Athens,Greece  2023  \n",
       "6         Restoration of wetlands in Valencia, Spain   Valencia,Spain  2021  \n",
       "7     Conservation of marine life in Porto, Portugal   Porto,Portugal  2022  \n",
       "8  Initiative for improving air quality in Munich...   Munich,Germany  2023  \n",
       "9      Preservation of bird habitats in Lyon, France      Lyon,France  2022  "
      ]
     },
     "execution_count": 62,
     "metadata": {},
     "output_type": "execute_result"
    }
   ],
   "source": [
    "# Standardising 'Location'\n",
    "environment_df['Location'] = environment_df['Location'].apply(lambda x: x.title())\n",
    "\n",
    "# Extracting 'Year'\n",
    "environment_df['Year'] = pd.to_datetime(environment_df['Date']).dt.year\n",
    "environment_df"
   ]
  },
  {
   "cell_type": "code",
   "execution_count": 72,
   "id": "VLOdmx0Wyegc",
   "metadata": {
    "colab": {
     "base_uri": "https://localhost:8080/"
    },
    "executionInfo": {
     "elapsed": 450,
     "status": "ok",
     "timestamp": 1707413730789,
     "user": {
      "displayName": "Bernard Assan",
      "userId": "07109241628391151433"
     },
     "user_tz": 0
    },
    "id": "VLOdmx0Wyegc",
    "outputId": "66e49941-83b6-43b9-a67a-71261dcf3700"
   },
   "outputs": [
    {
     "name": "stdout",
     "output_type": "stream",
     "text": [
      "Converted to USD\n"
     ]
    },
    {
     "data": {
      "text/html": [
       "<div>\n",
       "<style scoped>\n",
       "    .dataframe tbody tr th:only-of-type {\n",
       "        vertical-align: middle;\n",
       "    }\n",
       "\n",
       "    .dataframe tbody tr th {\n",
       "        vertical-align: top;\n",
       "    }\n",
       "\n",
       "    .dataframe thead th {\n",
       "        text-align: right;\n",
       "    }\n",
       "</style>\n",
       "<table border=\"1\" class=\"dataframe\">\n",
       "  <thead>\n",
       "    <tr style=\"text-align: right;\">\n",
       "      <th></th>\n",
       "      <th>Budget_USD</th>\n",
       "    </tr>\n",
       "  </thead>\n",
       "  <tbody>\n",
       "    <tr>\n",
       "      <th>0</th>\n",
       "      <td>20000.0</td>\n",
       "    </tr>\n",
       "    <tr>\n",
       "      <th>1</th>\n",
       "      <td>16500.0</td>\n",
       "    </tr>\n",
       "    <tr>\n",
       "      <th>2</th>\n",
       "      <td>13200.0</td>\n",
       "    </tr>\n",
       "    <tr>\n",
       "      <th>3</th>\n",
       "      <td>23400.0</td>\n",
       "    </tr>\n",
       "    <tr>\n",
       "      <th>4</th>\n",
       "      <td>25000.0</td>\n",
       "    </tr>\n",
       "    <tr>\n",
       "      <th>5</th>\n",
       "      <td>22000.0</td>\n",
       "    </tr>\n",
       "    <tr>\n",
       "      <th>6</th>\n",
       "      <td>17000.0</td>\n",
       "    </tr>\n",
       "    <tr>\n",
       "      <th>7</th>\n",
       "      <td>14300.0</td>\n",
       "    </tr>\n",
       "    <tr>\n",
       "      <th>8</th>\n",
       "      <td>12100.0</td>\n",
       "    </tr>\n",
       "    <tr>\n",
       "      <th>9</th>\n",
       "      <td>20800.0</td>\n",
       "    </tr>\n",
       "  </tbody>\n",
       "</table>\n",
       "</div>"
      ],
      "text/plain": [
       "   Budget_USD\n",
       "0     20000.0\n",
       "1     16500.0\n",
       "2     13200.0\n",
       "3     23400.0\n",
       "4     25000.0\n",
       "5     22000.0\n",
       "6     17000.0\n",
       "7     14300.0\n",
       "8     12100.0\n",
       "9     20800.0"
      ]
     },
     "metadata": {},
     "output_type": "display_data"
    },
    {
     "name": "stdout",
     "output_type": "stream",
     "text": [
      "\n",
      "Forest budget\n"
     ]
    },
    {
     "data": {
      "text/html": [
       "<div>\n",
       "<style scoped>\n",
       "    .dataframe tbody tr th:only-of-type {\n",
       "        vertical-align: middle;\n",
       "    }\n",
       "\n",
       "    .dataframe tbody tr th {\n",
       "        vertical-align: top;\n",
       "    }\n",
       "\n",
       "    .dataframe thead th {\n",
       "        text-align: right;\n",
       "    }\n",
       "</style>\n",
       "<table border=\"1\" class=\"dataframe\">\n",
       "  <thead>\n",
       "    <tr style=\"text-align: right;\">\n",
       "      <th></th>\n",
       "      <th>ID</th>\n",
       "      <th>Description</th>\n",
       "      <th>Date</th>\n",
       "      <th>Location</th>\n",
       "      <th>Budget</th>\n",
       "      <th>Notes</th>\n",
       "      <th>Location_test</th>\n",
       "      <th>Year</th>\n",
       "      <th>Budget_USD</th>\n",
       "    </tr>\n",
       "  </thead>\n",
       "  <tbody>\n",
       "    <tr>\n",
       "      <th>0</th>\n",
       "      <td>1</td>\n",
       "      <td>Forest Conservation Project in Spain</td>\n",
       "      <td>2021-03-15</td>\n",
       "      <td>Madrid, Spain</td>\n",
       "      <td>$20000</td>\n",
       "      <td>Focusing on native forest species in Spain</td>\n",
       "      <td>Madrid,Spain</td>\n",
       "      <td>2021</td>\n",
       "      <td>20000.0</td>\n",
       "    </tr>\n",
       "    <tr>\n",
       "      <th>3</th>\n",
       "      <td>4</td>\n",
       "      <td>Forest Reforestation Project 2022 in France</td>\n",
       "      <td>2022-04-05</td>\n",
       "      <td>Paris, France</td>\n",
       "      <td>£18000</td>\n",
       "      <td>Reforestation of oak trees in Paris, France</td>\n",
       "      <td>Paris,France</td>\n",
       "      <td>2022</td>\n",
       "      <td>23400.0</td>\n",
       "    </tr>\n",
       "  </tbody>\n",
       "</table>\n",
       "</div>"
      ],
      "text/plain": [
       "   ID                                  Description        Date       Location  \\\n",
       "0   1         Forest Conservation Project in Spain  2021-03-15  Madrid, Spain   \n",
       "3   4  Forest Reforestation Project 2022 in France  2022-04-05  Paris, France   \n",
       "\n",
       "   Budget                                        Notes Location_test  Year  \\\n",
       "0  $20000   Focusing on native forest species in Spain  Madrid,Spain  2021   \n",
       "3  £18000  Reforestation of oak trees in Paris, France  Paris,France  2022   \n",
       "\n",
       "   Budget_USD  \n",
       "0     20000.0  \n",
       "3     23400.0  "
      ]
     },
     "metadata": {},
     "output_type": "display_data"
    },
    {
     "name": "stdout",
     "output_type": "stream",
     "text": [
      "The total budget for forest conserveration is 43400.0\n"
     ]
    }
   ],
   "source": [
    "# Fixed conversion rates\n",
    "conversion_rates = {'$': 1.0, '€': 1.1, '£': 1.3}  # Example rates: 1 Euro = 1.1 USD, 1 Pound = 1.3 USD\n",
    "\n",
    "def convert_to_usd(budget_str):\n",
    "    # Extracting the currency symbol and amount\n",
    "    currency_symbol = budget_str[0]\n",
    "    amount = float(budget_str[1:])\n",
    "\n",
    "    # Converting to USD\n",
    "    if currency_symbol in conversion_rates:\n",
    "        return amount * conversion_rates[currency_symbol]\n",
    "    else:\n",
    "        return amount\n",
    "\n",
    "# Converting 'Budget' to numeric USD values\n",
    "environment_df['Budget_USD'] = environment_df['Budget'].apply(convert_to_usd)\n",
    "print(\"Converted to USD\")\n",
    "display(environment_df[['Budget_USD']])\n",
    "\n",
    "# Calculating total budget for \"forest\"-related projects in USD\n",
    "print(\"\\nForest budget\")\n",
    "display(environment_df[environment_df['Description'].str.contains(\"forest\", case=False)])\n",
    "total_budget_forest_usd = environment_df[environment_df['Description'].str.contains(\"forest\", case=False)]['Budget_USD'].sum()\n",
    "print(f\"The total budget for forest conserveration is {total_budget_forest_usd}\")"
   ]
  },
  {
   "cell_type": "code",
   "execution_count": 74,
   "id": "ZNzggkSOyi1y",
   "metadata": {
    "colab": {
     "base_uri": "https://localhost:8080/"
    },
    "executionInfo": {
     "elapsed": 14,
     "status": "ok",
     "timestamp": 1707413747555,
     "user": {
      "displayName": "Bernard Assan",
      "userId": "07109241628391151433"
     },
     "user_tz": 0
    },
    "id": "ZNzggkSOyi1y",
    "outputId": "a906de60-9472-4f29-9fc2-176b92bc9c7b"
   },
   "outputs": [
    {
     "data": {
      "text/html": [
       "<div>\n",
       "<style scoped>\n",
       "    .dataframe tbody tr th:only-of-type {\n",
       "        vertical-align: middle;\n",
       "    }\n",
       "\n",
       "    .dataframe tbody tr th {\n",
       "        vertical-align: top;\n",
       "    }\n",
       "\n",
       "    .dataframe thead th {\n",
       "        text-align: right;\n",
       "    }\n",
       "</style>\n",
       "<table border=\"1\" class=\"dataframe\">\n",
       "  <thead>\n",
       "    <tr style=\"text-align: right;\">\n",
       "      <th></th>\n",
       "      <th>ID</th>\n",
       "      <th>Description</th>\n",
       "      <th>Date</th>\n",
       "      <th>Location</th>\n",
       "      <th>Budget</th>\n",
       "      <th>Notes</th>\n",
       "      <th>Location_test</th>\n",
       "      <th>Year</th>\n",
       "      <th>Budget_USD</th>\n",
       "      <th>Endangered_species</th>\n",
       "    </tr>\n",
       "  </thead>\n",
       "  <tbody>\n",
       "    <tr>\n",
       "      <th>0</th>\n",
       "      <td>1</td>\n",
       "      <td>Forest Conservation Project in Spain</td>\n",
       "      <td>2021-03-15</td>\n",
       "      <td>Madrid, Spain</td>\n",
       "      <td>$20000</td>\n",
       "      <td>Focusing on native forest species in Spain</td>\n",
       "      <td>Madrid,Spain</td>\n",
       "      <td>2021</td>\n",
       "      <td>20000.0</td>\n",
       "      <td>No</td>\n",
       "    </tr>\n",
       "    <tr>\n",
       "      <th>1</th>\n",
       "      <td>2</td>\n",
       "      <td>River Cleanup Initiative Project 2021 in Portugal</td>\n",
       "      <td>2021-06-20</td>\n",
       "      <td>Lisbon, Portugal</td>\n",
       "      <td>€15000</td>\n",
       "      <td>Cleanup of the Tagus river in Portugal. Endang...</td>\n",
       "      <td>Lisbon,Portugal</td>\n",
       "      <td>2021</td>\n",
       "      <td>16500.0</td>\n",
       "      <td>Yes</td>\n",
       "    </tr>\n",
       "    <tr>\n",
       "      <th>2</th>\n",
       "      <td>3</td>\n",
       "      <td>Urban Gardening Community Project in Germany</td>\n",
       "      <td>2022-01-11</td>\n",
       "      <td>Berlin, Germany</td>\n",
       "      <td>€12000</td>\n",
       "      <td>Community project in urban Berlin, Germany</td>\n",
       "      <td>Berlin,Germany</td>\n",
       "      <td>2022</td>\n",
       "      <td>13200.0</td>\n",
       "      <td>No</td>\n",
       "    </tr>\n",
       "    <tr>\n",
       "      <th>3</th>\n",
       "      <td>4</td>\n",
       "      <td>Forest Reforestation Project 2022 in France</td>\n",
       "      <td>2022-04-05</td>\n",
       "      <td>Paris, France</td>\n",
       "      <td>£18000</td>\n",
       "      <td>Reforestation of oak trees in Paris, France</td>\n",
       "      <td>Paris,France</td>\n",
       "      <td>2022</td>\n",
       "      <td>23400.0</td>\n",
       "      <td>No</td>\n",
       "    </tr>\n",
       "    <tr>\n",
       "      <th>4</th>\n",
       "      <td>5</td>\n",
       "      <td>Wildlife Protection Project Plan in Italy</td>\n",
       "      <td>2023-02-22</td>\n",
       "      <td>Rome, Italy</td>\n",
       "      <td>$25000</td>\n",
       "      <td>Plan for protecting local wildlife in Italy. E...</td>\n",
       "      <td>Rome,Italy</td>\n",
       "      <td>2023</td>\n",
       "      <td>25000.0</td>\n",
       "      <td>Yes</td>\n",
       "    </tr>\n",
       "    <tr>\n",
       "      <th>5</th>\n",
       "      <td>6</td>\n",
       "      <td>Endangered Species Conservation Project in Greece</td>\n",
       "      <td>2023-05-30</td>\n",
       "      <td>Athens, Greece</td>\n",
       "      <td>€20000</td>\n",
       "      <td>Study on the impact on endangered bird species...</td>\n",
       "      <td>Athens,Greece</td>\n",
       "      <td>2023</td>\n",
       "      <td>22000.0</td>\n",
       "      <td>No</td>\n",
       "    </tr>\n",
       "    <tr>\n",
       "      <th>6</th>\n",
       "      <td>7</td>\n",
       "      <td>Wetland Restoration Project in Spain</td>\n",
       "      <td>2021-09-13</td>\n",
       "      <td>Valencia, Spain</td>\n",
       "      <td>$17000</td>\n",
       "      <td>Restoration of wetlands in Valencia, Spain</td>\n",
       "      <td>Valencia,Spain</td>\n",
       "      <td>2021</td>\n",
       "      <td>17000.0</td>\n",
       "      <td>No</td>\n",
       "    </tr>\n",
       "    <tr>\n",
       "      <th>7</th>\n",
       "      <td>8</td>\n",
       "      <td>Marine Life Conservation Project in Portugal</td>\n",
       "      <td>2022-07-19</td>\n",
       "      <td>Porto, Portugal</td>\n",
       "      <td>€13000</td>\n",
       "      <td>Conservation of marine life in Porto, Portugal</td>\n",
       "      <td>Porto,Portugal</td>\n",
       "      <td>2022</td>\n",
       "      <td>14300.0</td>\n",
       "      <td>No</td>\n",
       "    </tr>\n",
       "    <tr>\n",
       "      <th>8</th>\n",
       "      <td>9</td>\n",
       "      <td>Air Quality Improvement Project Initiative in ...</td>\n",
       "      <td>2023-03-08</td>\n",
       "      <td>Munich, Germany</td>\n",
       "      <td>€11000</td>\n",
       "      <td>Initiative for improving air quality in Munich...</td>\n",
       "      <td>Munich,Germany</td>\n",
       "      <td>2023</td>\n",
       "      <td>12100.0</td>\n",
       "      <td>No</td>\n",
       "    </tr>\n",
       "    <tr>\n",
       "      <th>9</th>\n",
       "      <td>10</td>\n",
       "      <td>Habitat Preservation Project for Birds in France</td>\n",
       "      <td>2022-11-21</td>\n",
       "      <td>Lyon, France</td>\n",
       "      <td>£16000</td>\n",
       "      <td>Preservation of bird habitats in Lyon, France</td>\n",
       "      <td>Lyon,France</td>\n",
       "      <td>2022</td>\n",
       "      <td>20800.0</td>\n",
       "      <td>No</td>\n",
       "    </tr>\n",
       "  </tbody>\n",
       "</table>\n",
       "</div>"
      ],
      "text/plain": [
       "   ID                                        Description        Date  \\\n",
       "0   1               Forest Conservation Project in Spain  2021-03-15   \n",
       "1   2  River Cleanup Initiative Project 2021 in Portugal  2021-06-20   \n",
       "2   3       Urban Gardening Community Project in Germany  2022-01-11   \n",
       "3   4        Forest Reforestation Project 2022 in France  2022-04-05   \n",
       "4   5          Wildlife Protection Project Plan in Italy  2023-02-22   \n",
       "5   6  Endangered Species Conservation Project in Greece  2023-05-30   \n",
       "6   7               Wetland Restoration Project in Spain  2021-09-13   \n",
       "7   8       Marine Life Conservation Project in Portugal  2022-07-19   \n",
       "8   9  Air Quality Improvement Project Initiative in ...  2023-03-08   \n",
       "9  10   Habitat Preservation Project for Birds in France  2022-11-21   \n",
       "\n",
       "           Location  Budget  \\\n",
       "0     Madrid, Spain  $20000   \n",
       "1  Lisbon, Portugal  €15000   \n",
       "2   Berlin, Germany  €12000   \n",
       "3     Paris, France  £18000   \n",
       "4       Rome, Italy  $25000   \n",
       "5    Athens, Greece  €20000   \n",
       "6   Valencia, Spain  $17000   \n",
       "7   Porto, Portugal  €13000   \n",
       "8   Munich, Germany  €11000   \n",
       "9      Lyon, France  £16000   \n",
       "\n",
       "                                               Notes    Location_test  Year  \\\n",
       "0         Focusing on native forest species in Spain     Madrid,Spain  2021   \n",
       "1  Cleanup of the Tagus river in Portugal. Endang...  Lisbon,Portugal  2021   \n",
       "2         Community project in urban Berlin, Germany   Berlin,Germany  2022   \n",
       "3        Reforestation of oak trees in Paris, France     Paris,France  2022   \n",
       "4  Plan for protecting local wildlife in Italy. E...       Rome,Italy  2023   \n",
       "5  Study on the impact on endangered bird species...    Athens,Greece  2023   \n",
       "6         Restoration of wetlands in Valencia, Spain   Valencia,Spain  2021   \n",
       "7     Conservation of marine life in Porto, Portugal   Porto,Portugal  2022   \n",
       "8  Initiative for improving air quality in Munich...   Munich,Germany  2023   \n",
       "9      Preservation of bird habitats in Lyon, France      Lyon,France  2022   \n",
       "\n",
       "   Budget_USD Endangered_species  \n",
       "0     20000.0                 No  \n",
       "1     16500.0                Yes  \n",
       "2     13200.0                 No  \n",
       "3     23400.0                 No  \n",
       "4     25000.0                Yes  \n",
       "5     22000.0                 No  \n",
       "6     17000.0                 No  \n",
       "7     14300.0                 No  \n",
       "8     12100.0                 No  \n",
       "9     20800.0                 No  "
      ]
     },
     "execution_count": 74,
     "metadata": {},
     "output_type": "execute_result"
    }
   ],
   "source": [
    "# Using regex to identify mentions of endangered species\n",
    "environment_df['Endangered_species'] = environment_df['Notes'].str.contains(r'endangered species', flags=re.IGNORECASE).map({True: 'Yes', False: 'No'})\n",
    "environment_df"
   ]
  },
  {
   "cell_type": "code",
   "execution_count": 102,
   "id": "Wf3EByuOyoSQ",
   "metadata": {
    "colab": {
     "base_uri": "https://localhost:8080/"
    },
    "executionInfo": {
     "elapsed": 363,
     "status": "ok",
     "timestamp": 1707413770267,
     "user": {
      "displayName": "Bernard Assan",
      "userId": "07109241628391151433"
     },
     "user_tz": 0
    },
    "id": "Wf3EByuOyoSQ",
    "outputId": "56f77347-983f-49f9-f40a-261045ac09ea"
   },
   "outputs": [
    {
     "name": "stdout",
     "output_type": "stream",
     "text": [
      "Location\n"
     ]
    },
    {
     "data": {
      "text/html": [
       "<div>\n",
       "<style scoped>\n",
       "    .dataframe tbody tr th:only-of-type {\n",
       "        vertical-align: middle;\n",
       "    }\n",
       "\n",
       "    .dataframe tbody tr th {\n",
       "        vertical-align: top;\n",
       "    }\n",
       "\n",
       "    .dataframe thead th {\n",
       "        text-align: right;\n",
       "    }\n",
       "</style>\n",
       "<table border=\"1\" class=\"dataframe\">\n",
       "  <thead>\n",
       "    <tr style=\"text-align: right;\">\n",
       "      <th></th>\n",
       "      <th>Location</th>\n",
       "    </tr>\n",
       "  </thead>\n",
       "  <tbody>\n",
       "    <tr>\n",
       "      <th>0</th>\n",
       "      <td>Madrid, Spain</td>\n",
       "    </tr>\n",
       "    <tr>\n",
       "      <th>1</th>\n",
       "      <td>Lisbon, Portugal</td>\n",
       "    </tr>\n",
       "    <tr>\n",
       "      <th>2</th>\n",
       "      <td>Berlin, Germany</td>\n",
       "    </tr>\n",
       "    <tr>\n",
       "      <th>3</th>\n",
       "      <td>Paris, France</td>\n",
       "    </tr>\n",
       "    <tr>\n",
       "      <th>4</th>\n",
       "      <td>Rome, Italy</td>\n",
       "    </tr>\n",
       "    <tr>\n",
       "      <th>5</th>\n",
       "      <td>Athens, Greece</td>\n",
       "    </tr>\n",
       "    <tr>\n",
       "      <th>6</th>\n",
       "      <td>Valencia, Spain</td>\n",
       "    </tr>\n",
       "    <tr>\n",
       "      <th>7</th>\n",
       "      <td>Porto, Portugal</td>\n",
       "    </tr>\n",
       "    <tr>\n",
       "      <th>8</th>\n",
       "      <td>Munich, Germany</td>\n",
       "    </tr>\n",
       "    <tr>\n",
       "      <th>9</th>\n",
       "      <td>Lyon, France</td>\n",
       "    </tr>\n",
       "  </tbody>\n",
       "</table>\n",
       "</div>"
      ],
      "text/plain": [
       "           Location\n",
       "0     Madrid, Spain\n",
       "1  Lisbon, Portugal\n",
       "2   Berlin, Germany\n",
       "3     Paris, France\n",
       "4       Rome, Italy\n",
       "5    Athens, Greece\n",
       "6   Valencia, Spain\n",
       "7   Porto, Portugal\n",
       "8   Munich, Germany\n",
       "9      Lyon, France"
      ]
     },
     "metadata": {},
     "output_type": "display_data"
    },
    {
     "name": "stdout",
     "output_type": "stream",
     "text": [
      "\n",
      "Country, Location\n"
     ]
    },
    {
     "data": {
      "text/html": [
       "<div>\n",
       "<style scoped>\n",
       "    .dataframe tbody tr th:only-of-type {\n",
       "        vertical-align: middle;\n",
       "    }\n",
       "\n",
       "    .dataframe tbody tr th {\n",
       "        vertical-align: top;\n",
       "    }\n",
       "\n",
       "    .dataframe thead th {\n",
       "        text-align: right;\n",
       "    }\n",
       "</style>\n",
       "<table border=\"1\" class=\"dataframe\">\n",
       "  <thead>\n",
       "    <tr style=\"text-align: right;\">\n",
       "      <th></th>\n",
       "      <th>Country</th>\n",
       "      <th>Location</th>\n",
       "    </tr>\n",
       "  </thead>\n",
       "  <tbody>\n",
       "    <tr>\n",
       "      <th>0</th>\n",
       "      <td>Spain</td>\n",
       "      <td>Madrid, Spain</td>\n",
       "    </tr>\n",
       "    <tr>\n",
       "      <th>1</th>\n",
       "      <td>Portugal</td>\n",
       "      <td>Lisbon, Portugal</td>\n",
       "    </tr>\n",
       "    <tr>\n",
       "      <th>2</th>\n",
       "      <td>Germany</td>\n",
       "      <td>Berlin, Germany</td>\n",
       "    </tr>\n",
       "    <tr>\n",
       "      <th>3</th>\n",
       "      <td>France</td>\n",
       "      <td>Paris, France</td>\n",
       "    </tr>\n",
       "    <tr>\n",
       "      <th>4</th>\n",
       "      <td>Italy</td>\n",
       "      <td>Rome, Italy</td>\n",
       "    </tr>\n",
       "    <tr>\n",
       "      <th>5</th>\n",
       "      <td>Greece</td>\n",
       "      <td>Athens, Greece</td>\n",
       "    </tr>\n",
       "    <tr>\n",
       "      <th>6</th>\n",
       "      <td>Spain</td>\n",
       "      <td>Valencia, Spain</td>\n",
       "    </tr>\n",
       "    <tr>\n",
       "      <th>7</th>\n",
       "      <td>Portugal</td>\n",
       "      <td>Porto, Portugal</td>\n",
       "    </tr>\n",
       "    <tr>\n",
       "      <th>8</th>\n",
       "      <td>Germany</td>\n",
       "      <td>Munich, Germany</td>\n",
       "    </tr>\n",
       "    <tr>\n",
       "      <th>9</th>\n",
       "      <td>France</td>\n",
       "      <td>Lyon, France</td>\n",
       "    </tr>\n",
       "  </tbody>\n",
       "</table>\n",
       "</div>"
      ],
      "text/plain": [
       "    Country          Location\n",
       "0     Spain     Madrid, Spain\n",
       "1  Portugal  Lisbon, Portugal\n",
       "2   Germany   Berlin, Germany\n",
       "3    France     Paris, France\n",
       "4     Italy       Rome, Italy\n",
       "5    Greece    Athens, Greece\n",
       "6     Spain   Valencia, Spain\n",
       "7  Portugal   Porto, Portugal\n",
       "8   Germany   Munich, Germany\n",
       "9    France      Lyon, France"
      ]
     },
     "metadata": {},
     "output_type": "display_data"
    },
    {
     "name": "stdout",
     "output_type": "stream",
     "text": [
      "\n",
      "Display report\n"
     ]
    },
    {
     "data": {
      "text/html": [
       "<div>\n",
       "<style scoped>\n",
       "    .dataframe tbody tr th:only-of-type {\n",
       "        vertical-align: middle;\n",
       "    }\n",
       "\n",
       "    .dataframe tbody tr th {\n",
       "        vertical-align: top;\n",
       "    }\n",
       "\n",
       "    .dataframe thead th {\n",
       "        text-align: right;\n",
       "    }\n",
       "</style>\n",
       "<table border=\"1\" class=\"dataframe\">\n",
       "  <thead>\n",
       "    <tr style=\"text-align: right;\">\n",
       "      <th></th>\n",
       "      <th>Total_Projects</th>\n",
       "      <th>Average_Budget</th>\n",
       "    </tr>\n",
       "    <tr>\n",
       "      <th>Country</th>\n",
       "      <th></th>\n",
       "      <th></th>\n",
       "    </tr>\n",
       "  </thead>\n",
       "  <tbody>\n",
       "    <tr>\n",
       "      <th>France</th>\n",
       "      <td>2</td>\n",
       "      <td>22100.0</td>\n",
       "    </tr>\n",
       "    <tr>\n",
       "      <th>Germany</th>\n",
       "      <td>2</td>\n",
       "      <td>12650.0</td>\n",
       "    </tr>\n",
       "    <tr>\n",
       "      <th>Greece</th>\n",
       "      <td>1</td>\n",
       "      <td>22000.0</td>\n",
       "    </tr>\n",
       "    <tr>\n",
       "      <th>Italy</th>\n",
       "      <td>1</td>\n",
       "      <td>25000.0</td>\n",
       "    </tr>\n",
       "    <tr>\n",
       "      <th>Portugal</th>\n",
       "      <td>2</td>\n",
       "      <td>15400.0</td>\n",
       "    </tr>\n",
       "    <tr>\n",
       "      <th>Spain</th>\n",
       "      <td>2</td>\n",
       "      <td>18500.0</td>\n",
       "    </tr>\n",
       "  </tbody>\n",
       "</table>\n",
       "</div>"
      ],
      "text/plain": [
       "          Total_Projects  Average_Budget\n",
       "Country                                 \n",
       "France                 2         22100.0\n",
       "Germany                2         12650.0\n",
       "Greece                 1         22000.0\n",
       "Italy                  1         25000.0\n",
       "Portugal               2         15400.0\n",
       "Spain                  2         18500.0"
      ]
     },
     "metadata": {},
     "output_type": "display_data"
    },
    {
     "data": {
      "text/markdown": [
       "__Value count of the various project types__"
      ],
      "text/plain": [
       "<IPython.core.display.Markdown object>"
      ]
     },
     "metadata": {},
     "output_type": "display_data"
    },
    {
     "data": {
      "text/plain": [
       "Project_Type\n",
       "Conservation     3\n",
       "Initiative       1\n",
       "Community        1\n",
       "Reforestation    1\n",
       "Protection       1\n",
       "Restoration      1\n",
       "Improvement      1\n",
       "Preservation     1\n",
       "Name: count, dtype: int64"
      ]
     },
     "metadata": {},
     "output_type": "display_data"
    },
    {
     "name": "stdout",
     "output_type": "stream",
     "text": [
      "\n",
      "\n"
     ]
    },
    {
     "data": {
      "text/markdown": [
       "**Identify top three most common project types**"
      ],
      "text/plain": [
       "<IPython.core.display.Markdown object>"
      ]
     },
     "metadata": {},
     "output_type": "display_data"
    },
    {
     "data": {
      "text/plain": [
       "Project_Type\n",
       "Conservation    3\n",
       "Initiative      1\n",
       "Community       1\n",
       "Name: count, dtype: int64"
      ]
     },
     "metadata": {},
     "output_type": "display_data"
    },
    {
     "name": "stdout",
     "output_type": "stream",
     "text": [
      "\n",
      "\n"
     ]
    },
    {
     "data": {
      "text/markdown": [
       "**Index of the tope three most common project types**"
      ],
      "text/plain": [
       "<IPython.core.display.Markdown object>"
      ]
     },
     "metadata": {},
     "output_type": "display_data"
    },
    {
     "data": {
      "text/plain": [
       "Index(['Conservation', 'Initiative', 'Community'], dtype='object', name='Project_Type')"
      ]
     },
     "metadata": {},
     "output_type": "display_data"
    },
    {
     "data": {
      "text/html": [
       "<div>\n",
       "<style scoped>\n",
       "    .dataframe tbody tr th:only-of-type {\n",
       "        vertical-align: middle;\n",
       "    }\n",
       "\n",
       "    .dataframe tbody tr th {\n",
       "        vertical-align: top;\n",
       "    }\n",
       "\n",
       "    .dataframe thead th {\n",
       "        text-align: right;\n",
       "    }\n",
       "</style>\n",
       "<table border=\"1\" class=\"dataframe\">\n",
       "  <thead>\n",
       "    <tr style=\"text-align: right;\">\n",
       "      <th></th>\n",
       "      <th>Total_Projects</th>\n",
       "      <th>Average_Budget</th>\n",
       "      <th>Top_Project_Types</th>\n",
       "    </tr>\n",
       "    <tr>\n",
       "      <th>Country</th>\n",
       "      <th></th>\n",
       "      <th></th>\n",
       "      <th></th>\n",
       "    </tr>\n",
       "  </thead>\n",
       "  <tbody>\n",
       "    <tr>\n",
       "      <th>France</th>\n",
       "      <td>2</td>\n",
       "      <td>22100.0</td>\n",
       "      <td>Conservation, Initiative, Community</td>\n",
       "    </tr>\n",
       "    <tr>\n",
       "      <th>Germany</th>\n",
       "      <td>2</td>\n",
       "      <td>12650.0</td>\n",
       "      <td>Conservation, Initiative, Community</td>\n",
       "    </tr>\n",
       "    <tr>\n",
       "      <th>Greece</th>\n",
       "      <td>1</td>\n",
       "      <td>22000.0</td>\n",
       "      <td>Conservation, Initiative, Community</td>\n",
       "    </tr>\n",
       "    <tr>\n",
       "      <th>Italy</th>\n",
       "      <td>1</td>\n",
       "      <td>25000.0</td>\n",
       "      <td>Conservation, Initiative, Community</td>\n",
       "    </tr>\n",
       "    <tr>\n",
       "      <th>Portugal</th>\n",
       "      <td>2</td>\n",
       "      <td>15400.0</td>\n",
       "      <td>Conservation, Initiative, Community</td>\n",
       "    </tr>\n",
       "    <tr>\n",
       "      <th>Spain</th>\n",
       "      <td>2</td>\n",
       "      <td>18500.0</td>\n",
       "      <td>Conservation, Initiative, Community</td>\n",
       "    </tr>\n",
       "  </tbody>\n",
       "</table>\n",
       "</div>"
      ],
      "text/plain": [
       "          Total_Projects  Average_Budget                    Top_Project_Types\n",
       "Country                                                                      \n",
       "France                 2         22100.0  Conservation, Initiative, Community\n",
       "Germany                2         12650.0  Conservation, Initiative, Community\n",
       "Greece                 1         22000.0  Conservation, Initiative, Community\n",
       "Italy                  1         25000.0  Conservation, Initiative, Community\n",
       "Portugal               2         15400.0  Conservation, Initiative, Community\n",
       "Spain                  2         18500.0  Conservation, Initiative, Community"
      ]
     },
     "execution_count": 102,
     "metadata": {},
     "output_type": "execute_result"
    }
   ],
   "source": [
    "# Extract 'Country' from 'Location'\n",
    "print(\"Location\")\n",
    "display(environment_df[['Location']])\n",
    "environment_df['Country'] = environment_df['Location'].apply(lambda x: x.split(', ')[-1])\n",
    "\n",
    "print(\"\\nCountry, Location\")\n",
    "display(environment_df[['Country','Location']])\n",
    "\n",
    "# Extract 'Project Type' from 'Description'\n",
    "environment_df['Project_Type'] = environment_df['Description'].str.extract(r'(\\b\\w+\\b) Project')[0]\n",
    "\n",
    "# Generate the report\n",
    "report = environment_df.groupby('Country').agg(\n",
    "    Total_Projects=('ID', 'count'),\n",
    "    Average_Budget=('Budget_USD', 'mean')\n",
    ")\n",
    "print(\"\\nDisplay report\")\n",
    "display(report)\n",
    "\n",
    "from IPython.display import Markdown\n",
    "display(Markdown(\"__Value count of the various project types__\"))\n",
    "project_type_count = environment_df['Project_Type'].value_counts()\n",
    "display(project_type_count)\n",
    "\n",
    "print(\"\\n\")\n",
    "display(Markdown(\"**Identify top three most common project types**\"))\n",
    "top_3_largest_project_by_count = project_type_count.nlargest(3)\n",
    "display(top_3_largest_project_by_count)\n",
    "\n",
    "print('\\n')\n",
    "display(Markdown(\"**Index of the tope three most common project types**\"))\n",
    "display(top_3_largest_project_by_count.index)\n",
    "\n",
    "top_project_types = environment_df['Project_Type'].value_counts().nlargest(3).index.tolist()\n",
    "report['Top_Project_Types'] = ', '.join(top_project_types)\n",
    "report"
   ]
  },
  {
   "cell_type": "markdown",
   "id": "26fd094b-0fee-46f1-a4b8-73766813c42b",
   "metadata": {
    "id": "26fd094b-0fee-46f1-a4b8-73766813c42b",
    "tags": []
   },
   "source": [
    "#  \n",
    "\n",
    "<div align=\"center\" style=\" font-size: 80%; text-align: center; margin: 0 auto\">\n",
    "<img src=\"https://raw.githubusercontent.com/Explore-AI/Pictures/master/ExploreAI_logos/EAI_Blue_Dark.png\"  style=\"width:200px\";/>\n",
    "</div>"
   ]
  }
 ],
 "metadata": {
  "colab": {
   "provenance": []
  },
  "kernelspec": {
   "display_name": "Python 3 (ipykernel)",
   "language": "python",
   "name": "python3"
  },
  "language_info": {
   "codemirror_mode": {
    "name": "ipython",
    "version": 3
   },
   "file_extension": ".py",
   "mimetype": "text/x-python",
   "name": "python",
   "nbconvert_exporter": "python",
   "pygments_lexer": "ipython3",
   "version": "3.12.4"
  }
 },
 "nbformat": 4,
 "nbformat_minor": 5
}
