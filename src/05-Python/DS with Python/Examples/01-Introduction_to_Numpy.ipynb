{
 "cells": [
  {
   "cell_type": "markdown",
   "metadata": {},
   "source": [
    "<div align=\"center\" style=\" font-size: 80%; text-align: center; margin: 0 auto\">\n",
    "<img src=\"https://raw.githubusercontent.com/Explore-AI/Pictures/master/Python-Notebook-Banners/Examples.png\"  style=\"display: block; margin-left: auto; margin-right: auto;\";/>\n",
    "</div>"
   ]
  },
  {
   "cell_type": "markdown",
   "metadata": {},
   "source": [
    "# Examples: Introduction to NumPy\n",
    "© ExploreAI Academy"
   ]
  },
  {
   "cell_type": "markdown",
   "metadata": {},
   "source": [
    " In this train, we'll learn about NumPy and some of its basic operations. We'll define what an array is, learn how to create, access, and modify an array, and explore useful functions on arrays."
   ]
  },
  {
   "cell_type": "markdown",
   "metadata": {},
   "source": [
    "## Learning objectives\n",
    "* Understand the NumPy Python library and its basic functionality.\n",
    "* Know how to load, manipulate, and analyse data using NumPy."
   ]
  },
  {
   "cell_type": "markdown",
   "metadata": {},
   "source": [
    "\n",
    "NumPy is a Python package that allows us to work with data and perform operations like the loading, analysing, and storing of data. It provides high-performance, multi-dimensional array objects and numerical computing tools, and is fundamental in scientific computing. It is the core library for scientific computing in Python ([see the full documentation](https://numpy.org/)).\n",
    "\n",
    "### What is an array?\n",
    "An array in the context of NumPy, a widely used Python library, is a fundamental data structure designed for efficient storage and manipulation of numerical data. Although it shares some similarities with Python lists, there are key differences that make NumPy arrays more suitable for data analysis and scientific computing. Some of these key differences are:\n",
    "- Lists can contain heterogeneous data types (combinations of `str`, `int`, even `list`), whilst NumPy arrays can only store values of the same data type. This restriction allows NumPy to optimise storage and computation, as operations on homogeneously typed elements are more efficient.\n",
    "- NumPy arrays can be thought of as a grid of values and can be multi-dimensional. This multi-dimensional nature makes them extremely versatile for a wide range of applications, from simple lists of values (1D) to images (2D) or even higher-dimensional data.\n",
    "- NumPy arrays are stored more efficiently than Python lists. Lists in Python are essentially arrays of pointers to objects, with each pointer also requiring additional space. In contrast, NumPy arrays directly store data in adjacent blocks of memory. This compact and continuous storage reduces the memory footprint and improves cache utilisation, which is critical for performance in large-scale computations.\n",
    "- One of the most powerful features of NumPy arrays is their support for vectorised operations. This means that operations on arrays, such as addition, multiplication, and complex mathematical functions, can be performed on all elements of the array simultaneously. This is not only more syntactically convenient but also significantly faster than looping over elements, as is common with Python lists.\n",
    "\n",
    "\n",
    "### Creating a NumPy array\n",
    "If we want to work with any NumPy objects or functions, we first need to import the NumPy library.\n"
   ]
  },
  {
   "cell_type": "code",
   "execution_count": 1,
   "metadata": {},
   "outputs": [],
   "source": [
    "import numpy as np"
   ]
  },
  {
   "cell_type": "markdown",
   "metadata": {},
   "source": [
    "### Example 1\n",
    "\n",
    "To create a NumPy array, we use the `np.array()` function. All we need to do is pass a list to it and, optionally, we can specify the data type of the data. Let's look at an example:"
   ]
  },
  {
   "cell_type": "code",
   "execution_count": 2,
   "metadata": {},
   "outputs": [
    {
     "data": {
      "text/plain": [
       "array([[94, 89, 63, 45],\n",
       "       [93, 92, 48, 23],\n",
       "       [92, 94, 56, 98]])"
      ]
     },
     "execution_count": 2,
     "metadata": {},
     "output_type": "execute_result"
    }
   ],
   "source": [
    "# Create an array by passing in a list of lists.\n",
    "ratings = np.array([[94, 89, 63, 45], [93, 92, 48, 23], [92, 94, 56, 98]])\n",
    "\n",
    "ratings"
   ]
  },
  {
   "cell_type": "markdown",
   "metadata": {},
   "source": [
    "We can see that there are 3 rows and 4 columns in this array. We can inspect the shape of the array by using its `shape` attribute. This will return a tuple of integers giving the size of the array along each dimension."
   ]
  },
  {
   "cell_type": "code",
   "execution_count": 3,
   "metadata": {},
   "outputs": [
    {
     "data": {
      "text/plain": [
       "(3, 4)"
      ]
     },
     "execution_count": 3,
     "metadata": {},
     "output_type": "execute_result"
    }
   ],
   "source": [
    "ratings.shape"
   ]
  },
  {
   "cell_type": "markdown",
   "metadata": {},
   "source": [
    "### Example 2\n",
    "\n",
    "We can also create arrays using the following functions:\n",
    "\n",
    "* `np.ones()` – array of ones\n",
    "* `np.zeros()` – array of zeros\n",
    "* `np.random.random()` – array with random values\n",
    "\n",
    "Let's look at some examples:"
   ]
  },
  {
   "cell_type": "code",
   "execution_count": 4,
   "metadata": {},
   "outputs": [
    {
     "data": {
      "text/plain": [
       "array([[1., 1., 1., 1.],\n",
       "       [1., 1., 1., 1.],\n",
       "       [1., 1., 1., 1.]])"
      ]
     },
     "execution_count": 4,
     "metadata": {},
     "output_type": "execute_result"
    }
   ],
   "source": [
    "# Create an array of ones – pass in shape as a tuple.\n",
    "np.ones((3,4))"
   ]
  },
  {
   "cell_type": "code",
   "execution_count": 5,
   "metadata": {},
   "outputs": [
    {
     "data": {
      "text/plain": [
       "array([[0., 0., 0.],\n",
       "       [0., 0., 0.]])"
      ]
     },
     "execution_count": 5,
     "metadata": {},
     "output_type": "execute_result"
    }
   ],
   "source": [
    "# Create an array of zeros – pass in shape as a tuple.\n",
    "np.zeros((2, 3))"
   ]
  },
  {
   "cell_type": "code",
   "execution_count": 6,
   "metadata": {},
   "outputs": [
    {
     "data": {
      "text/plain": [
       "array([[0.56534225, 0.50541337, 0.99284805],\n",
       "       [0.68825465, 0.01850907, 0.32775704],\n",
       "       [0.53056374, 0.27532421, 0.23806773]])"
      ]
     },
     "execution_count": 6,
     "metadata": {},
     "output_type": "execute_result"
    }
   ],
   "source": [
    "# Create an array of random values – pass in shape as a tuple.\n",
    "np.random.random((3, 3))"
   ]
  },
  {
   "cell_type": "markdown",
   "metadata": {},
   "source": [
    "### Accessing NumPy arrays\n",
    "NumPy offers several ways to index into arrays. Here, we'll work through slicing and Boolean array indexing."
   ]
  },
  {
   "cell_type": "markdown",
   "metadata": {},
   "source": [
    "### Example 3\n",
    "\n",
    "Similar to Python lists, NumPy arrays can be sliced. Since arrays may be multi-dimensional, we must specify a slice for each dimension of the array, where the slices per dimension are split by a comma. For a 2D array, the first dimension is the vertical axis while the second dimension is the horizontal axis. \n",
    "\n",
    "For a 2D array:\n",
    "\n",
    "* `np.array[vertical index , horizontal index]` – for one element\n",
    "* `np.array[vertical start:vertical end , horizontal start:horizontal end]` – for more than one element \n",
    "\n",
    "Let's look at a few examples:"
   ]
  },
  {
   "cell_type": "code",
   "execution_count": 7,
   "metadata": {},
   "outputs": [
    {
     "data": {
      "text/plain": [
       "array([[94, 89, 63, 45],\n",
       "       [93, 92, 48, 23],\n",
       "       [92, 94, 56, 98]])"
      ]
     },
     "execution_count": 7,
     "metadata": {},
     "output_type": "execute_result"
    }
   ],
   "source": [
    "# Whole array.\n",
    "ratings"
   ]
  },
  {
   "cell_type": "code",
   "execution_count": 28,
   "metadata": {},
   "outputs": [
    {
     "data": {
      "text/plain": [
       "291"
      ]
     },
     "execution_count": 28,
     "metadata": {},
     "output_type": "execute_result"
    }
   ],
   "source": [
    "np.array([94,89,63,45]).sum()"
   ]
  },
  {
   "cell_type": "code",
   "execution_count": 8,
   "metadata": {},
   "outputs": [
    {
     "data": {
      "text/plain": [
       "94"
      ]
     },
     "execution_count": 8,
     "metadata": {},
     "output_type": "execute_result"
    }
   ],
   "source": [
    "# Select the top left element.\n",
    "ratings[0, 0]"
   ]
  },
  {
   "cell_type": "code",
   "execution_count": 9,
   "metadata": {},
   "outputs": [
    {
     "data": {
      "text/plain": [
       "array([94, 89, 63, 45])"
      ]
     },
     "execution_count": 9,
     "metadata": {},
     "output_type": "execute_result"
    }
   ],
   "source": [
    "# Select the first row.\n",
    "ratings[0, :]"
   ]
  },
  {
   "cell_type": "code",
   "execution_count": 10,
   "metadata": {},
   "outputs": [
    {
     "data": {
      "text/plain": [
       "array([94, 93, 92])"
      ]
     },
     "execution_count": 10,
     "metadata": {},
     "output_type": "execute_result"
    }
   ],
   "source": [
    "# Select the first column.\n",
    "ratings[:, 0]"
   ]
  },
  {
   "cell_type": "code",
   "execution_count": 11,
   "metadata": {},
   "outputs": [
    {
     "data": {
      "text/plain": [
       "array([[94, 89],\n",
       "       [93, 92]])"
      ]
     },
     "execution_count": 11,
     "metadata": {},
     "output_type": "execute_result"
    }
   ],
   "source": [
    "# Select the first two rows and first two columns.\n",
    "ratings[0:2, 0:2]"
   ]
  },
  {
   "cell_type": "markdown",
   "metadata": {},
   "source": [
    "### Example 4\n",
    "\n",
    "Boolean array indexing lets us pick out a selection of elements from an array. This type of indexing is often used to select the elements of an array which satisfy a specific condition. The syntax is as follows:\n",
    "\n",
    "* `np.array[condition]`\n",
    "\n",
    "Let's look at an example:"
   ]
  },
  {
   "cell_type": "code",
   "execution_count": 12,
   "metadata": {},
   "outputs": [
    {
     "data": {
      "text/plain": [
       "array([94, 93, 92, 92, 94, 98])"
      ]
     },
     "execution_count": 12,
     "metadata": {},
     "output_type": "execute_result"
    }
   ],
   "source": [
    "# Select all values greater than 90.\n",
    "ratings[ratings > 90]"
   ]
  },
  {
   "cell_type": "markdown",
   "metadata": {},
   "source": [
    "### Modifying NumPy arrays\n",
    "We will now look at how to add elements to an array, followed by how to remove elements from an array.\n",
    "\n",
    "### Example 5\n",
    "Adding elements can be done by using the `np.append()` function. This will add elements to the end of an array. Let's look at an example:"
   ]
  },
  {
   "cell_type": "code",
   "execution_count": 15,
   "metadata": {},
   "outputs": [
    {
     "data": {
      "text/plain": [
       "array([[94, 89, 63, 45],\n",
       "       [93, 92, 48, 23],\n",
       "       [92, 94, 56, 98],\n",
       "       [92, 88, 78, 55]])"
      ]
     },
     "execution_count": 15,
     "metadata": {},
     "output_type": "execute_result"
    }
   ],
   "source": [
    "# Append an extra row – note that axis=0.\n",
    "ratings_extra_row = np.append(ratings, [[92, 88, 78, 55]], axis=0)\n",
    "\n",
    "ratings_extra_row"
   ]
  },
  {
   "cell_type": "markdown",
   "metadata": {},
   "source": [
    "### Example 6\n",
    "Deleting elements can be done by using the `np.delete()` function. This will delete elements at the specified indices. Let's look at an example:"
   ]
  },
  {
   "cell_type": "code",
   "execution_count": 23,
   "metadata": {},
   "outputs": [
    {
     "data": {
      "text/plain": [
       "array([[93, 92, 48, 23],\n",
       "       [92, 94, 56, 98]])"
      ]
     },
     "execution_count": 23,
     "metadata": {},
     "output_type": "execute_result"
    }
   ],
   "source": [
    "# Delete the 3rd row – note that axis=0.\n",
    "ratings_del_row = np.delete(ratings_extra_row, [0,3], axis=0)\n",
    "\n",
    "ratings_del_row"
   ]
  },
  {
   "cell_type": "markdown",
   "metadata": {},
   "source": [
    "### Functions on NumPy arrays\n",
    "There are various functions we can perform on NumPy arrays. We will look at a few of them, namely:\n",
    "\n",
    "* `np.array.sum()`\n",
    "* `np.array.min()`\n",
    "* `np.array.max()`\n",
    "* `np.array.argmax()`\n",
    "* `np.array.argmin()`"
   ]
  },
  {
   "cell_type": "markdown",
   "metadata": {},
   "source": [
    "### Example 7\n",
    "In all these functions we can pass an axis argument. When `axis = 1`, we are looking at rows, and when `axis = 0`, we are referring to columns. This will allow us to sum the columns and rows separately. Let's look at examples:"
   ]
  },
  {
   "cell_type": "code",
   "execution_count": 24,
   "metadata": {},
   "outputs": [
    {
     "data": {
      "text/plain": [
       "887"
      ]
     },
     "execution_count": 24,
     "metadata": {},
     "output_type": "execute_result"
    }
   ],
   "source": [
    "# Sum of all elements in the array.\n",
    "ratings.sum()"
   ]
  },
  {
   "cell_type": "code",
   "execution_count": 25,
   "metadata": {},
   "outputs": [
    {
     "data": {
      "text/plain": [
       "array([291, 256, 340])"
      ]
     },
     "execution_count": 25,
     "metadata": {},
     "output_type": "execute_result"
    }
   ],
   "source": [
    "# Sum of each row.\n",
    "ratings.sum(axis=1)"
   ]
  },
  {
   "cell_type": "code",
   "execution_count": 26,
   "metadata": {},
   "outputs": [
    {
     "data": {
      "text/plain": [
       "array([279, 275, 167, 166])"
      ]
     },
     "execution_count": 26,
     "metadata": {},
     "output_type": "execute_result"
    }
   ],
   "source": [
    "# Sum of each column.\n",
    "ratings.sum(axis=0)"
   ]
  },
  {
   "cell_type": "code",
   "execution_count": 27,
   "metadata": {},
   "outputs": [
    {
     "data": {
      "text/plain": [
       "array([45, 23, 56])"
      ]
     },
     "execution_count": 27,
     "metadata": {},
     "output_type": "execute_result"
    }
   ],
   "source": [
    "# Min of each row.\n",
    "ratings.min(axis=1)"
   ]
  },
  {
   "cell_type": "markdown",
   "metadata": {},
   "source": [
    "### Example 8\n",
    "`argmax` and `argmin` are functions in NumPy used to find the indices of the maximum and minimum values, respectively, in an array.\n",
    "\n",
    "* `np.argmax(array, axis=None)`: This function returns the indices of the maximum value along an axis. If the axis is not specified, `argmax` will return the index of the maximum value in the flattened array. If the axis is specified (e.g. 0 for columns, 1 for rows in a 2D array), it will return the indices of the maximum values along that axis.\n",
    "* `np.argmin(array, axis=None)`: Similarly, `argmin` finds the indices of the minimum values. Without specifying an axis, it returns the index of the minimum value in the entire array. If an axis is specified, it returns the indices of the minimum values along that axis."
   ]
  },
  {
   "cell_type": "code",
   "execution_count": 31,
   "metadata": {},
   "outputs": [
    {
     "data": {
      "text/plain": [
       "11"
      ]
     },
     "execution_count": 31,
     "metadata": {},
     "output_type": "execute_result"
    }
   ],
   "source": [
    "# Finds the index of the maximum value in the entire array\n",
    "overall_max_index = np.argmax(ratings)\n",
    "overall_max_index"
   ]
  },
  {
   "cell_type": "code",
   "execution_count": 32,
   "metadata": {},
   "outputs": [
    {
     "data": {
      "text/plain": [
       "array([2, 0, 1, 1])"
      ]
     },
     "execution_count": 32,
     "metadata": {},
     "output_type": "execute_result"
    }
   ],
   "source": [
    "# Finds the index of the minimum value along each column\n",
    "min_indices_per_column = np.argmin(ratings, axis=0)\n",
    "min_indices_per_column"
   ]
  },
  {
   "cell_type": "markdown",
   "metadata": {},
   "source": [
    "### When to use NumPy arrays\n",
    "\n",
    "A NumPy array is a data structure which stores multiple values, all of the same data type, and can be multi-dimensional. We should use a NumPy array if both of the following statements hold:\n",
    "\n",
    "* We have multi-dimensional data.\n",
    "* All entries are of the same data type.\n",
    "\n",
    "NumPy arrays are also preferred over list of lists due to efficiency and functionality."
   ]
  },
  {
   "cell_type": "markdown",
   "metadata": {},
   "source": [
    "## Additional resources\n",
    "\n",
    "- [Basic NumPy functionality](https://numpy.org/doc/stable/user/absolute_beginners.html#what-is-an-array)\n",
    "- [NumPy package home page](https://numpy.org)"
   ]
  },
  {
   "cell_type": "markdown",
   "metadata": {},
   "source": [
    "#  \n",
    "\n",
    "<div align=\"center\" style=\" font-size: 80%; text-align: center; margin: 0 auto\">\n",
    "<img src=\"https://raw.githubusercontent.com/Explore-AI/Pictures/master/ExploreAI_logos/EAI_Blue_Dark.png\"  style=\"width:200px\";/>\n",
    "</div>"
   ]
  }
 ],
 "metadata": {
  "kernelspec": {
   "display_name": "Python 3 (ipykernel)",
   "language": "python",
   "name": "python3"
  },
  "language_info": {
   "codemirror_mode": {
    "name": "ipython",
    "version": 3
   },
   "file_extension": ".py",
   "mimetype": "text/x-python",
   "name": "python",
   "nbconvert_exporter": "python",
   "pygments_lexer": "ipython3",
   "version": "3.12.4"
  }
 },
 "nbformat": 4,
 "nbformat_minor": 4
}
