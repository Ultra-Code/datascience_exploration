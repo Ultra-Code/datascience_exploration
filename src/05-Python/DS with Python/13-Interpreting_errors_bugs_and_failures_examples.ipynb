{
 "cells": [
  {
   "attachments": {},
   "cell_type": "markdown",
   "metadata": {},
   "source": [
    "<div align=\"center\" style=\" font-size: 80%; text-align: center; margin: 0 auto\">\n",
    "<img src=\"https://raw.githubusercontent.com/Explore-AI/Pictures/master/Python-Notebook-Banners/Examples.png\"  style=\"display: block; margin-left: auto; margin-right: auto;\";/>\n",
    "</div>\n",
    "\n",
    "# Examples: Interpreting errors, bugs, and failures\n",
    "© ExploreAI Academy"
   ]
  },
  {
   "attachments": {},
   "cell_type": "markdown",
   "metadata": {},
   "source": [
    "In this train, we explore errors, bugs, and debugging in software development. We define errors and bugs, discuss types of errors using Python examples, and introduce essential testing methods like equivalence classes and boundary values within unit testing frameworks. We will conclude with error-finding techniques, including tracing and using a debugger for efficient debugging in software development."
   ]
  },
  {
   "attachments": {},
   "cell_type": "markdown",
   "metadata": {},
   "source": [
    "## Learning objectives\n",
    "\n",
    "By the end of this train, you should be able to:\n",
    "\n",
    "* Define and differentiate between errors and bugs in software development.\n",
    "* Identify and understand various errors, including compile-time, run-time, and logic errors.\n",
    "* Apply testing methods like equivalence classes, boundary values, and path testing within a unit testing framework.\n",
    "* Use error-finding techniques, including tracing and using a debugger, for efficient debugging in software development."
   ]
  },
  {
   "attachments": {},
   "cell_type": "markdown",
   "metadata": {},
   "source": [
    "## Errors, bugs, faults, failures\n",
    "\n",
    "<br>\n",
    "<div align=\"center\" style=\" font-size: 80%; text-align: center; margin: 0 auto\">\n",
    "<img src=\"https://raw.githubusercontent.com/Explore-AI/Pictures/master/first.png\"  style=\"width:450px\";/>\n",
    "</div>\n",
    "\n",
    "                            Image of the first bug. Reference: http://en.wikipedia.org/wiki/Grace_Hopper\n",
    "\n",
    "\n",
    "Let's clarify some terminology around errors, bugs, and debuggers.\n",
    "\n",
    "#### What is an error?\n",
    "* When your program does not behave as intended or expected.\n",
    "\n",
    "#### What is a bug?\n",
    "* A bug is the cause of an error.\n",
    "* A bug in your system does not always cause an error.\n",
    "\n",
    "#### What is debugging?\n",
    "* The art of removing bugs.\n",
    "\n",
    "### Types of errors\n",
    "\n",
    "There are several types of errors that we can experience while running software code. Some of these are detectable by a programming debugger, while others require the application of the testing strategies we've previously described. \n",
    "\n",
    "We review some of these errors below using examples from Python.\n",
    "\n",
    "#### Compile-time error\n",
    "\n",
    "These are errors that are discovered when a program is **evaluated by a code compiler** before it is run. Often the improper use of a programming language's syntax (known as a **syntax error**) will cause these. "
   ]
  },
  {
   "cell_type": "code",
   "execution_count": null,
   "metadata": {},
   "outputs": [],
   "source": [
    "product = x y"
   ]
  },
  {
   "cell_type": "markdown",
   "metadata": {},
   "source": [
    "#### Run-time error\n",
    "\n",
    "Run-time errors occur when a program's structure is correct but becomes unstable once executed: "
   ]
  },
  {
   "cell_type": "code",
   "execution_count": null,
   "metadata": {},
   "outputs": [],
   "source": [
    "x = 0\n",
    "y = 15/x"
   ]
  },
  {
   "attachments": {},
   "cell_type": "markdown",
   "metadata": {},
   "source": [
    "Strictly speaking, Python only has run-time errors since it’s not compiled. External packages such as [PyChecker](http://pychecker.sourceforge.net/) can be used to check for errors before running."
   ]
  },
  {
   "cell_type": "markdown",
   "metadata": {},
   "source": [
    "#### Logic error\n",
    "\n",
    "Logic errors describe instances where a program compiles and is stable during execution, yet still produces incorrect results. These spurious results arise from a logical flaw in the algorithm. \n",
    "\n",
    "For example, consider the code below in which we expect the function `add()` to return the sum of two numbers. However, due to a logical error, the function outputs the product of the numbers instead.   "
   ]
  },
  {
   "cell_type": "code",
   "execution_count": null,
   "metadata": {},
   "outputs": [],
   "source": [
    "def add (x, y):\n",
    "    return x * y\n",
    "\n",
    "result = add(5,3)\n",
    "print (f\"The function output is: {result}\")"
   ]
  },
  {
   "attachments": {},
   "cell_type": "markdown",
   "metadata": {},
   "source": [
    "## Testing methods\n",
    "\n",
    "Let us look at several testing approaches that we might use on the code we write.  Due to the limited scope of this course, we'll only focus on testing methods that can be applied under a unit testing framework. \n",
    "\n",
    "To help illustrate some of these methods, we'll use the example `range_checker` function defined in the code cell below. This function is supposed to return \"Error\" if its input argument is less than one or greater than 100. Now, this may seem trivial, but bear with us; being certain that a function works correctly can become a complex affair very quickly. "
   ]
  },
  {
   "cell_type": "code",
   "execution_count": null,
   "metadata": {
    "collapsed": true,
    "jupyter": {
     "outputs_hidden": true
    }
   },
   "outputs": [],
   "source": [
    "def range_checker(x):\n",
    "    \"\"\"Function that accepts only integers from 0 to 100, both 0 and 100 included.\"\"\" \n",
    "    if x < 1 or x > 100:\n",
    "        print (\"ERROR\")\n",
    "    else:\n",
    "        print (\"SUCCESS\")"
   ]
  },
  {
   "attachments": {},
   "cell_type": "markdown",
   "metadata": {},
   "source": [
    "Looking at this code, we ask the question – how could we test this function to ensure that it operates correctly? What values of `x` would be suitable to do this? We could choose **all** possible values to be absolutely sure, but this would take forever and is practically infeasible... "
   ]
  },
  {
   "attachments": {},
   "cell_type": "markdown",
   "metadata": {},
   "source": [
    "### Equivalence classes\n",
    "\n",
    "The first way of picking input values to test our function, generally known as 'test cases', makes use of **equivalence classes**. \n",
    "\n",
    "An equivalence class consists of a set of elements that are expected to produce the same behaviour when processed by the algorithm. In the case of our example, the logical equivalence classes would be: \n",
    "  \n",
    "  * All numbers less than 1. \n",
    "  * All numbers greater than 1 but less than 100.\n",
    "  * All numbers greater than 100.\n",
    "  \n",
    "From these three sets, we go ahead and select candidate values which are representative of each of the equivalence classes. For example, the values we may choose to test our function could be: -50, 50, and 150. The brilliance of this approach is that now we only have to test three use cases, instead of a seemingly limitless number like we had before. \n",
    "\n",
    "Give equivalence testing a go in the code below."
   ]
  },
  {
   "cell_type": "code",
   "execution_count": null,
   "metadata": {},
   "outputs": [],
   "source": [
    "# Edit this value to reflect values from the equivalence classes we defined above:\n",
    "a = -50 \n",
    "\n",
    "range_checker(a)"
   ]
  },
  {
   "attachments": {},
   "cell_type": "markdown",
   "metadata": {},
   "source": [
    "### Boundary values\n",
    "\n",
    "As an alternative to equivalence testing, we can instead choose input values which are close to the *boundary conditions* within our function. These boundaries indicate when the behaviour of the function will change. \n",
    "\n",
    "By testing with boundary values, we can detect if certain dimensions of our logic or code operate correctly. For our example, boundary values occur around the `x < 1` and `x > 100` conditions within the code. As such, some values we could choose around the sides of these boundaries are: 0, 1, 2, 99, 100, 101  \n",
    "\n",
    "Again, give this boundary testing approach a shot by experimenting in the code cell below."
   ]
  },
  {
   "cell_type": "code",
   "execution_count": null,
   "metadata": {},
   "outputs": [],
   "source": [
    "# Edit this value to reflect boundary values we defined above:\n",
    "a = 0\n",
    "\n",
    "range_checker(a)"
   ]
  },
  {
   "attachments": {},
   "cell_type": "markdown",
   "metadata": {},
   "source": [
    "### Path testing\n",
    "\n",
    "A final testing method we'll briefly describe is known as *path testing*. This is a technique that is especially useful if the code we're trying to test has multiple logical or operating paths which can be realised. In this case, our objective to efficiently test the code requires us to **use as few test cases as possible to cover all possible blocks or paths** within the code. \n",
    "\n",
    "This objective is achieved through the use of path testing. \n",
    "\n",
    "To make this notion of efficiently covering all operating paths clearer, consider the `decision` function below. How would you create test cases to test every path of execution of the program at least once?"
   ]
  },
  {
   "cell_type": "code",
   "execution_count": null,
   "metadata": {},
   "outputs": [],
   "source": [
    "a = 0 # edit this value\n",
    "b = 30 # edit this value\n",
    "\n",
    "def decision(a, b):\n",
    "    if a < 25:\n",
    "        print(\"error in a\")\n",
    "    else: \n",
    "        print(\"no error in a\")\n",
    "    if b < 25:\n",
    "        print(\"error in b\")\n",
    "    else: \n",
    "        print(\"no error in b\")\n",
    "        \n",
    "decision(a,b)"
   ]
  },
  {
   "attachments": {},
   "cell_type": "markdown",
   "metadata": {},
   "source": [
    "To help us visualise all the possible paths within a function, we can often construct a control *flow graph* for the target coding unit.  \n",
    "\n",
    "Below we illustrate a flow graph for the `decision` function. Note how we can clearly see that four distinct paths exist within our code. \n",
    "\n",
    "<br>\n",
    "<div align=\"center\" style=\" font-size: 80%; text-align: center; margin: 0 auto\">\n",
    "<img src=\"https://raw.githubusercontent.com/Explore-AI/Pictures/master/graph.PNG\"  style=\"width:500px\";/>\n",
    "</div>\n",
    "<br>"
   ]
  },
  {
   "cell_type": "markdown",
   "metadata": {},
   "source": [
    "## Finding errors\n",
    "\n",
    "So what do we do if a test case fails? Luckily there are a few methods of finding errors and removing them.\n",
    "\n",
    "Here we’ll discuss the following two techniques:\n",
    "\n",
    "* Tracing\n",
    "* Using a debugger\n",
    "\n",
    "### Tracing\n",
    "\n",
    "Tracing refers to inserting temporary statements into code to output values at various stages of its execution. This practice can be extremely useful when there is no debugger!\n",
    "\n",
    "We provide a simple example of tracing in the code cell below. Try and play around with the various integer values for these variables to reach the final trace instruction.  "
   ]
  },
  {
   "cell_type": "code",
   "execution_count": null,
   "metadata": {},
   "outputs": [],
   "source": [
    "# Code illustrating the practice of tracing to help debug code. \n",
    "# Choose different integer values for y, x and z to successfully reach the last trace instruction. \n",
    "y = 7\n",
    "x = y*y*2\n",
    "z = x+5\n",
    "\n",
    "print(f'Z equals: {z}')      # <-- Trace instruction. The program will output the current version of z at this point,  \n",
    "if z == 13:   #     before it is evaluated by the conditional if statement.\n",
    "    print('I got here') # <--Trace instruction. Used to check if we entered the conditional statement correctly. "
   ]
  },
  {
   "attachments": {},
   "cell_type": "markdown",
   "metadata": {},
   "source": [
    "### Using a debugger\n",
    "\n",
    "A far simpler and more convenient way of debugging our code is to use an actual debugger.  A debugger is a tool for executing an application where the programmer can carefully control the execution flow of the application and inspect the values taken on by variables during the process.\n",
    "\n",
    "The features of a debugger include:\n",
    "* Stepping through code one instruction at a time. \n",
    "* Viewing the current values maintained by all variables at each time step.  \n",
    "* Insertion and removal of breakpoints to pause execution when a certain line of code is reached. \n",
    "\n",
    "<br>\n",
    "<div align=\"center\" style=\" font-size: 80%; text-align: center; margin: 0 auto\">\n",
    "<img src=\"https://raw.githubusercontent.com/Explore-AI/Pictures/master/ExploreAI_logos/EAI_Blue_Dark.png\"  style=\"width:200px\";/>\n",
    "</div>\n",
    "<br>\n"
   ]
  }
 ],
 "metadata": {
  "kernelspec": {
   "display_name": "Python 3",
   "language": "python",
   "name": "python3"
  },
  "language_info": {
   "codemirror_mode": {
    "name": "ipython",
    "version": 3
   },
   "file_extension": ".py",
   "mimetype": "text/x-python",
   "name": "python",
   "nbconvert_exporter": "python",
   "pygments_lexer": "ipython3",
   "version": "3.11.4"
  }
 },
 "nbformat": 4,
 "nbformat_minor": 4
}
