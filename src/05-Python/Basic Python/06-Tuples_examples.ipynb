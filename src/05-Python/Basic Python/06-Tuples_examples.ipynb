{
 "cells": [
  {
   "cell_type": "markdown",
   "id": "2c9df63a",
   "metadata": {},
   "source": [
    "<div align=\"center\" style=\" font-size: 80%; text-align: center; margin: 0 auto\">\n",
    "<img src=\"https://raw.githubusercontent.com/Explore-AI/Pictures/master/Python-Notebook-Banners/Examples.png\"  style=\"display: block; margin-left: auto; margin-right: auto;\";/>\n",
    "</div>"
   ]
  },
  {
   "cell_type": "markdown",
   "id": "f662d169",
   "metadata": {},
   "source": [
    "# Examples: Tuples\n",
    "© ExploreAI Academy"
   ]
  },
  {
   "cell_type": "markdown",
   "id": "26af890c",
   "metadata": {},
   "source": [
    "In this notebook, we will look at how to create tuples and some of the ways we can manipulate them."
   ]
  },
  {
   "cell_type": "markdown",
   "id": "2d230d14",
   "metadata": {
    "tags": []
   },
   "source": [
    "## Learning objectives\n",
    "\n",
    "By the end of this train, you should be able to:\n",
    "- Know how to create a tuple and confirm its type.\n",
    "- Know how to use indexing to access elements and slice a tuple.\n",
    "- Understand some tuple characteristics such as immutability and duplicates.\n",
    "- Understand some operations that can be performed on tuples such as concatenation and unpacking."
   ]
  },
  {
   "cell_type": "markdown",
   "id": "e6d60bbf",
   "metadata": {},
   "source": [
    "## Examples"
   ]
  },
  {
   "cell_type": "markdown",
   "id": "bb83e75d",
   "metadata": {},
   "source": [
    "### 1. Create a tuple\n",
    "\n",
    "A tuple is created by **assigning a group of comma-separated values** enclosed within **round brackets** to a variable."
   ]
  },
  {
   "cell_type": "code",
   "execution_count": null,
   "id": "30f39494",
   "metadata": {},
   "outputs": [],
   "source": [
    "# Create a tuple, defined within round brackets\n",
    "animal_tuple = (\"Yellow anaconda\", \"Reptile\", 30.5, 20)"
   ]
  },
  {
   "cell_type": "markdown",
   "id": "e157b7d5",
   "metadata": {},
   "source": [
    "**NOTE:** If elements are separated by a comma, but without the parentheses, it will still be treated as a tuple.\n",
    "\n",
    "We can also use the `tuple constructor` to create a tuple from other iterables, such as lists."
   ]
  },
  {
   "cell_type": "code",
   "execution_count": null,
   "id": "9720fed2",
   "metadata": {},
   "outputs": [],
   "source": [
    "# Create a tuple from a list using the tuple constructor\n",
    "animal_tuple = tuple([\"Yellow anaconda\", \"Reptile\", 30.5, 20])"
   ]
  },
  {
   "cell_type": "markdown",
   "id": "a7155bfb",
   "metadata": {},
   "source": [
    "### 2. Print a tuple\n",
    "\n",
    "To view the contents of a tuple, we can pass the tuple variable name to the `print()` function."
   ]
  },
  {
   "cell_type": "code",
   "execution_count": null,
   "id": "c2d9d541",
   "metadata": {},
   "outputs": [],
   "source": [
    "# Print the contents of the variable animal_tuple\n",
    "print(animal_tuple)"
   ]
  },
  {
   "cell_type": "markdown",
   "id": "c872c671",
   "metadata": {},
   "source": [
    "### 3. Tuple type\n",
    "\n",
    "To verify that our variable is a `tuple`, we can pass the variable name to the `type()` function."
   ]
  },
  {
   "cell_type": "code",
   "execution_count": null,
   "id": "29f9fad0",
   "metadata": {},
   "outputs": [],
   "source": [
    "# Check the type of the variable animal_tuple\n",
    "type(animal_tuple)"
   ]
  },
  {
   "cell_type": "markdown",
   "id": "553015f8",
   "metadata": {},
   "source": [
    "The output `tuple` confirms that we have created a tuple. "
   ]
  },
  {
   "cell_type": "markdown",
   "id": "74fa7a08",
   "metadata": {},
   "source": [
    "### 4. Indexing\n",
    "\n",
    "Since tuples are ordered, each element is assigned an index that corresponds to its position, starting with index `0`. \n",
    "\n",
    "Therefore, the index of an item is **equal to its position in the tuple, less one**. For example, **the 4th element will have the index `3`**."
   ]
  },
  {
   "cell_type": "markdown",
   "id": "6889b31d",
   "metadata": {},
   "source": [
    "We can use the `index()` method to return the index of a specified value."
   ]
  },
  {
   "cell_type": "code",
   "execution_count": null,
   "id": "aec1439f",
   "metadata": {},
   "outputs": [],
   "source": [
    "# Return the index of the \"Yellow anaconda\" element from animal_tuple\n",
    "first_index = animal_tuple.index(\"Yellow anaconda\")\n",
    "print(first_index)"
   ]
  },
  {
   "cell_type": "markdown",
   "id": "b65c5ea4",
   "metadata": {},
   "source": [
    "We can use the index notation to access a specific element using its index.\n",
    "\n",
    "> **Syntax:** `tuple[index]`\n",
    "\n",
    "For instance, if we want to access the **3rd element** in the tuple, we will **pass the index `2`** to the notation. The value at index `2` is returned."
   ]
  },
  {
   "cell_type": "code",
   "execution_count": null,
   "id": "9da39f24",
   "metadata": {},
   "outputs": [],
   "source": [
    "# Return the element at index 2 from animal_tuple\n",
    "third_item = animal_tuple[2]\n",
    "print(third_item)"
   ]
  },
  {
   "cell_type": "markdown",
   "id": "8f459e1c",
   "metadata": {},
   "source": [
    "### 5. Slicing \n",
    "\n",
    "We use slicing when we wish to **return a portion of a tuple** instead of just a single value. \n",
    "\n",
    "> **Syntax:** `tuple[start:end]`\n",
    "\n",
    "- **start:** The index from which the slicing begins (included).\n",
    "- **stop:** The index at which the slicing ends (**not** included).\n",
    "\n",
    "For instance, if we want to slice from the 2nd to the 4th element, the start index will be `1` (to be included), and the stop index will be `4` (not to be included)."
   ]
  },
  {
   "cell_type": "code",
   "execution_count": null,
   "id": "27648a32",
   "metadata": {},
   "outputs": [],
   "source": [
    "# Slice animal_tuple from index 1 to index 3\n",
    "sliced_tuple = animal_tuple[1:4]\n",
    "print(sliced_tuple)"
   ]
  },
  {
   "cell_type": "markdown",
   "id": "0c8f5db0",
   "metadata": {},
   "source": [
    "### 6. Modification\n",
    "\n",
    "Tuples are immutable, meaning we **cannot change, add, or remove** items from a tuple once it has been created. We would have to **create a new tuple** with the desired changes.\n",
    "\n",
    "Let’s see what happens when we attempt to modify a particular element in the tuple."
   ]
  },
  {
   "cell_type": "code",
   "execution_count": null,
   "id": "af21fd73",
   "metadata": {},
   "outputs": [],
   "source": [
    "# Change the element at index 0 from animal_tuple\n",
    "animal_tuple[0] = \"lion\""
   ]
  },
  {
   "cell_type": "markdown",
   "id": "976a9ad8",
   "metadata": {},
   "source": [
    "This **raises an error**, showing that tuple elements cannot be modified."
   ]
  },
  {
   "cell_type": "markdown",
   "id": "0d003289",
   "metadata": {},
   "source": [
    "### 7. Concatenation\n",
    "\n",
    "We can add elements to an existing tuple by appending another tuple to it.\n",
    "\n",
    "We use the `+` operator to perform the concatenation."
   ]
  },
  {
   "cell_type": "code",
   "execution_count": null,
   "id": "54f8ae82",
   "metadata": {},
   "outputs": [],
   "source": [
    "# Append a new tuple at the end of animal_tuple\n",
    "animal_tuple_new = animal_tuple + (\"Swamp\", False)\n",
    "print(animal_tuple_new)"
   ]
  },
  {
   "cell_type": "markdown",
   "id": "82fe96f1",
   "metadata": {},
   "source": [
    "### 8. Duplicates\n",
    "\n",
    "Since tuples are ordered, they **allow duplicates** as they can be differentiated by their index."
   ]
  },
  {
   "cell_type": "code",
   "execution_count": null,
   "id": "9d9b8b9a",
   "metadata": {},
   "outputs": [],
   "source": [
    "# Append a duplicated value at the end of animal_tuple_new\n",
    "animal_tuple_new = animal_tuple_new + (False,)\n",
    "print(animal_tuple_new)"
   ]
  },
  {
   "cell_type": "markdown",
   "id": "ac401f47",
   "metadata": {},
   "source": [
    "**Note:** To create a tuple with a single item, we need to include a **trailing comma** after the item for it to be interpreted as a tuple as we've done above."
   ]
  },
  {
   "cell_type": "markdown",
   "id": "e2897b8a",
   "metadata": {},
   "source": [
    "### 9. Other tuple methods\n",
    "\n",
    "There are some built-in methods we can use when working with tuples."
   ]
  },
  {
   "cell_type": "markdown",
   "id": "9e42975e",
   "metadata": {},
   "source": [
    "#### a) `len( )`\n",
    "\n",
    "We use the `len()` function to determine how many elements a tuple has."
   ]
  },
  {
   "cell_type": "code",
   "execution_count": null,
   "id": "b6ea02a9",
   "metadata": {},
   "outputs": [],
   "source": [
    "# Return the number of elements in animal_tuple_new\n",
    "length_of_tuple = len(animal_tuple_new)\n",
    "print(f\"No. of attributes: {length_of_tuple}\")"
   ]
  },
  {
   "cell_type": "markdown",
   "id": "8f031006",
   "metadata": {},
   "source": [
    "#### b) `count()` \n",
    "\n",
    "We use `count()` to count the occurrences of a particular element."
   ]
  },
  {
   "cell_type": "code",
   "execution_count": null,
   "id": "78ee5fd5",
   "metadata": {},
   "outputs": [],
   "source": [
    "# Count the occurrence of the value False in animal_tuple_new\n",
    "count_false = animal_tuple_new.count(False)\n",
    "print(count_false)"
   ]
  },
  {
   "cell_type": "markdown",
   "id": "ddb8ae74",
   "metadata": {},
   "source": [
    "### 10. Tuple unpacking\n",
    "\n",
    "Tuple unpacking refers to the assignment of **tuple elements to individual variables** that can be used separately."
   ]
  },
  {
   "cell_type": "code",
   "execution_count": null,
   "id": "6f3f3863",
   "metadata": {},
   "outputs": [],
   "source": [
    "# Assign each element in animal_tuple to individual variables\n",
    "animal_tuple = (\"Yellow anaconda\", \"Reptile\", 30.5, 20)\n",
    "\n",
    "name, group, av_weight, av_lifespan = animal_tuple\n",
    "print(f\"Name: {name}\")\n",
    "print(f\"Group: {group}\")"
   ]
  },
  {
   "cell_type": "markdown",
   "id": "e9956efe",
   "metadata": {
    "tags": []
   },
   "source": [
    "## Summary\n",
    "\n",
    "We have looked at some ways of creating tuples and manipulating them. Take time to explore other methods and operations that can be performed on tuples."
   ]
  },
  {
   "cell_type": "markdown",
   "id": "26fd094b-0fee-46f1-a4b8-73766813c42b",
   "metadata": {
    "tags": []
   },
   "source": [
    "#  \n",
    "\n",
    "<div align=\"center\" style=\" font-size: 80%; text-align: center; margin: 0 auto\">\n",
    "<img src=\"https://raw.githubusercontent.com/Explore-AI/Pictures/master/ExploreAI_logos/EAI_Blue_Dark.png\"  style=\"width:200px\";/>\n",
    "</div>"
   ]
  }
 ],
 "metadata": {
  "kernelspec": {
   "display_name": "Python 3 (ipykernel)",
   "language": "python",
   "name": "python3"
  },
  "language_info": {
   "codemirror_mode": {
    "name": "ipython",
    "version": 3
   },
   "file_extension": ".py",
   "mimetype": "text/x-python",
   "name": "python",
   "nbconvert_exporter": "python",
   "pygments_lexer": "ipython3",
   "version": "3.11.4"
  }
 },
 "nbformat": 4,
 "nbformat_minor": 5
}
