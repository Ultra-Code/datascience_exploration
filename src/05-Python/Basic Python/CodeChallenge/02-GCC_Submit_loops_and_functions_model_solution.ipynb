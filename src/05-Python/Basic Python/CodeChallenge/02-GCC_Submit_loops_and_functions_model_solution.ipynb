{
 "cells": [
  {
   "cell_type": "markdown",
   "metadata": {},
   "source": [
    "<div align=\"center\" style=\" font-size: 80%; text-align: center; margin: 0 auto\">\n",
    "<img src=\"https://raw.githubusercontent.com/Explore-AI/Pictures/master/Python-Notebook-Banners/Code_challenge.png\"  style=\"display: block; margin-left: auto; margin-right: auto;\";/>\n",
    "</div>"
   ]
  },
  {
   "cell_type": "markdown",
   "id": "f662d169",
   "metadata": {},
   "source": [
    "## Graded code challenge: Loops and functions\n",
    "© ExploreAI Academy"
   ]
  },
  {
   "cell_type": "markdown",
   "id": "26af890c",
   "metadata": {},
   "source": [
    "In this coding challenge, we will apply our Python programming skills to automate more complex movement of our farm equipment. We will use functions to make our code more modular, making it simpler to read, modify, and extend. "
   ]
  },
  {
   "cell_type": "markdown",
   "id": "2d230d14",
   "metadata": {
    "tags": []
   },
   "source": [
    "⚠️ **Note that this code challenge is graded and will contribute to your overall marks for this module. Submit this notebook for grading. Note that the names of the functions are different in this notebook. Transfer the code in your notebook to this submission notebook**\n",
    "\n",
    "### Instructions\n",
    "\n",
    "- **Do not add or remove cells in this notebook. Do not edit or remove the `### START FUNCTION` or `### END FUNCTION` comments. Do not add any code outside of the functions you are required to edit. Doing any of this will lead to a mark of 0%!**\n",
    "\n",
    "- Answer the questions according to the specifications provided.\n",
    "\n",
    "- Use the given cell in each question to see if your function matches the expected outputs.\n",
    "\n",
    "- Do not hard-code answers to the questions.\n",
    "\n",
    "- The use of StackOverflow, Google, and other online tools is permitted. However, copying a fellow student's code is not permissible and is considered a breach of the honour code. Doing this will result in a mark of 0%."
   ]
  },
  {
   "cell_type": "markdown",
   "id": "d9c9c575",
   "metadata": {},
   "source": [
    "## Challenge 1: Plough the whole field"
   ]
  },
  {
   "cell_type": "markdown",
   "id": "f25155d6",
   "metadata": {},
   "source": [
    "> ⚠️ Do not change the name `tractor_movement_standard()`."
   ]
  },
  {
   "cell_type": "markdown",
   "id": "eb126fc6",
   "metadata": {},
   "source": [
    "### Answer:"
   ]
  },
  {
   "cell_type": "code",
   "execution_count": null,
   "id": "9fc4d6a9",
   "metadata": {},
   "outputs": [],
   "source": [
    "### START FUNCTION\n",
    "def tractor_movement_standard(field):\n",
    "    plough_movements = []\n",
    "    for col in range(len(field)):\n",
    "        for row in range(len(field[col])):\n",
    "            plough_movements.append((col, row))\n",
    "\n",
    "    return plough_movements\n",
    "\n",
    "### END FUNCTION"
   ]
  },
  {
   "cell_type": "markdown",
   "id": "2b46539a",
   "metadata": {},
   "source": [
    "Test your functions again to make sure they work as expected before submitting."
   ]
  },
  {
   "cell_type": "markdown",
   "id": "559167de",
   "metadata": {},
   "source": [
    "### Expected outputs"
   ]
  },
  {
   "cell_type": "markdown",
   "id": "22bf4519",
   "metadata": {},
   "source": [
    "**Input 1:**"
   ]
  },
  {
   "cell_type": "code",
   "execution_count": null,
   "id": "5d60d60b",
   "metadata": {},
   "outputs": [],
   "source": [
    "field_standard = [\n",
    "    ['soil3', 'soil3', 'soil1', 'soil2', 'soil2'],\n",
    "    ['soil2', 'soil3', 'soil2', 'soil1', 'soil3'],\n",
    "    ['soil2', 'soil3', 'soil1', 'soil3', 'soil3'],\n",
    "    ['soil3', 'soil2', 'soil3', 'soil3', 'soil2'],\n",
    "    ['soil3', 'soil2', 'soil1', 'soil3', 'soil2'],\n",
    "    ['soil2', 'soil3', 'soil3', 'soil1', 'soil3'],\n",
    "    ['soil3', 'soil1', 'soil3', 'soil2', 'soil2'],\n",
    "    ['soil2', 'soil1', 'soil2', 'soil2', 'soil1'],\n",
    "    ['soil1', 'soil1', 'soil3', 'soil2', 'soil3'],\n",
    "    ['soil3', 'soil3', 'soil3', 'soil1', 'soil1']\n",
    "]\n",
    "\n",
    "tractor_movement_standard(field_standard)"
   ]
  },
  {
   "cell_type": "markdown",
   "id": "3cfb244a",
   "metadata": {},
   "source": [
    "**Output:** \n",
    "\n",
    "`[(0, 0), (0, 1), (0, 2), (0, 3), (0, 4), (1, 0), (1, 1), (1, 2), (1, 3), (1, 4), (2, 0), (2, 1), (2, 2), (2, 3), (2, 4), (3, 0), (3, 1), (3, 2), (3, 3), (3, 4), (4, 0), (4, 1), (4, 2), (4, 3), (4, 4), (5, 0), (5, 1), (5, 2), (5, 3), (5, 4), (6, 0), (6, 1), (6, 2), (6, 3), (6, 4), (7, 0), (7, 1), (7, 2), (7, 3), (7, 4), (8, 0), (8, 1), (8, 2), (8, 3), (8, 4), (9, 0), (9, 1), (9, 2), (9, 3), (9, 4)]`"
   ]
  },
  {
   "cell_type": "markdown",
   "id": "f2767ed5",
   "metadata": {},
   "source": [
    "<br>\n",
    "\n",
    "**Input 2:**"
   ]
  },
  {
   "cell_type": "code",
   "execution_count": null,
   "id": "5b65a05a",
   "metadata": {},
   "outputs": [],
   "source": [
    "field_wide = [\n",
    "    ['soil3', 'soil3', 'soil1', 'soil2', 'soil2', 'soil3', 'soil3', 'soil1', 'soil2', 'soil2', 'soil3', 'soil3', 'soil1', 'soil2', 'soil2'],\n",
    "    ['soil3', 'soil3', 'soil1', 'soil2','soil2', 'soil3', 'soil3']\n",
    "]\n",
    "\n",
    "tractor_movement_standard(field_wide)"
   ]
  },
  {
   "cell_type": "markdown",
   "id": "0af38b9e",
   "metadata": {},
   "source": [
    "**Output:** \n",
    "\n",
    "`[(0, 0), (0, 1), (0, 2), (0, 3), (0, 4), (0, 5), (0, 6), (0, 7), (0, 8), (0, 9), (0, 10), (0, 11), (0, 12), (0, 13), (0, 14), (1, 0), (1, 1), (1, 2), (1, 3), (1, 4), (1, 5), (1, 6)]`"
   ]
  },
  {
   "cell_type": "markdown",
   "id": "f26cf4e0",
   "metadata": {},
   "source": [
    "## Challenge 2: Turning the tractor around"
   ]
  },
  {
   "cell_type": "markdown",
   "id": "d6ca16cc",
   "metadata": {},
   "source": [
    "> ⚠️ Do not change the name `reverse_list()`."
   ]
  },
  {
   "cell_type": "markdown",
   "id": "0b095fde",
   "metadata": {},
   "source": [
    "### Answer:"
   ]
  },
  {
   "cell_type": "code",
   "execution_count": null,
   "id": "21748c7c",
   "metadata": {},
   "outputs": [],
   "source": [
    "### START FUNCTION\n",
    "def reverse_list(input_list):\n",
    "    return input_list[::-1]\n",
    "\n",
    "### END FUNCTION"
   ]
  },
  {
   "cell_type": "markdown",
   "id": "17f0703f",
   "metadata": {},
   "source": [
    "Test your functions again to make sure they work as expected before submitting."
   ]
  },
  {
   "cell_type": "markdown",
   "id": "8b0b38d5",
   "metadata": {},
   "source": [
    "### Expected outputs:"
   ]
  },
  {
   "cell_type": "markdown",
   "id": "7d861d96",
   "metadata": {},
   "source": [
    "**Input 1:**"
   ]
  },
  {
   "cell_type": "code",
   "execution_count": null,
   "id": "1db31326",
   "metadata": {},
   "outputs": [],
   "source": [
    "current_row = [0, 1, 2, 3, 4]\n",
    "\n",
    "reverse_list(current_row)"
   ]
  },
  {
   "cell_type": "markdown",
   "id": "d2917b51",
   "metadata": {},
   "source": [
    "**Output:**\n",
    "\n",
    "`[4, 3, 2, 1, 0]`"
   ]
  },
  {
   "cell_type": "markdown",
   "id": "0b07a6d4",
   "metadata": {},
   "source": [
    "<br>\n",
    "\n",
    "**Input 2:**"
   ]
  },
  {
   "cell_type": "code",
   "execution_count": null,
   "id": "ae68d074",
   "metadata": {},
   "outputs": [],
   "source": [
    "current_row = [1, 3, 2, 0, 4]\n",
    "\n",
    "reverse_list(current_row)"
   ]
  },
  {
   "cell_type": "markdown",
   "id": "3e1f2a18",
   "metadata": {},
   "source": [
    "**Output:**\n",
    "\n",
    "`[4, 0, 2, 3, 1]`"
   ]
  },
  {
   "cell_type": "markdown",
   "id": "42d283bd",
   "metadata": {},
   "source": [
    "## Challenge 3: Ploughing a field realistically\n"
   ]
  },
  {
   "cell_type": "markdown",
   "id": "7188121f",
   "metadata": {},
   "source": [
    "> ⚠️ Do not change the name `tractor_movement_realistic()`."
   ]
  },
  {
   "cell_type": "code",
   "execution_count": null,
   "id": "56b561bf",
   "metadata": {},
   "outputs": [],
   "source": [
    "### START FUNCTION\n",
    "def tractor_movement_realistic(field):\n",
    "    plough_movements = []\n",
    "    for col in range(len(field)):\n",
    "        # Get the current row\n",
    "        current_row = range(len(field[col]))\n",
    "        \n",
    "        # Reverse the row if the column number is odd\n",
    "        if col % 2 != 0:\n",
    "            current_row = reverse_list(current_row)\n",
    "\n",
    "        # Append the coordinates to the plough movements\n",
    "        for row in current_row:\n",
    "            plough_movements.append((col, row))\n",
    "    \n",
    "    return plough_movements\n",
    "### END FUNCTION"
   ]
  },
  {
   "cell_type": "markdown",
   "id": "f5fca377",
   "metadata": {},
   "source": [
    "Test your functions again to make sure they work as expected before submitting."
   ]
  },
  {
   "cell_type": "markdown",
   "id": "56edaa7c",
   "metadata": {},
   "source": [
    "### Expected outputs:"
   ]
  },
  {
   "cell_type": "markdown",
   "id": "a19eee7f",
   "metadata": {},
   "source": [
    "**Input 1:**"
   ]
  },
  {
   "cell_type": "code",
   "execution_count": null,
   "id": "411c13e9",
   "metadata": {},
   "outputs": [],
   "source": [
    "field_standard = [\n",
    "    ['soil3', 'soil3', 'soil1', 'soil2', 'soil2'],\n",
    "    ['soil2', 'soil3', 'soil2', 'soil1', 'soil3'],\n",
    "    ['soil2', 'soil3', 'soil1', 'soil3', 'soil3'],\n",
    "    ['soil3', 'soil2', 'soil3', 'soil3', 'soil2'],\n",
    "    ['soil3', 'soil2', 'soil1', 'soil3', 'soil2'],\n",
    "    ['soil2', 'soil3', 'soil3', 'soil1', 'soil3'],\n",
    "    ['soil3', 'soil1', 'soil3', 'soil2', 'soil2'],\n",
    "    ['soil2', 'soil1', 'soil2', 'soil2', 'soil1'],\n",
    "    ['soil1', 'soil1', 'soil3', 'soil2', 'soil3'],\n",
    "    ['soil3', 'soil3', 'soil3', 'soil1', 'soil1']\n",
    "]\n",
    "\n",
    "tractor_movement_realistic(field_standard)"
   ]
  },
  {
   "cell_type": "markdown",
   "id": "0cf8dd11",
   "metadata": {},
   "source": [
    "**Output**:\n",
    "\n",
    "`[(0, 0), (0, 1), (0, 2), (0, 3), (0, 4), (1, 4), (1, 3), (1, 2), (1, 1), (1, 0), (2, 0), (2, 1), (2, 2), (2, 3), (2, 4), (3, 4), (3, 3), (3, 2), (3, 1), (3, 0), (4, 0), (4, 1), (4, 2), (4, 3), (4, 4), (5, 4), (5, 3), (5, 2), (5, 1), (5, 0), (6, 0), (6, 1), (6, 2), (6, 3), (6, 4), (7, 4), (7, 3), (7, 2), (7, 1), (7, 0), (8, 0), (8, 1), (8, 2), (8, 3), (8, 4), (9, 4), (9, 3), (9, 2), (9, 1), (9, 0)]` \n",
    "\n",
    "Note the tractor goes to the next row but stays in col 4: `...(0, 4), (1, 4)...`"
   ]
  },
  {
   "cell_type": "markdown",
   "id": "e0ff5683",
   "metadata": {},
   "source": [
    "**Input 1:**"
   ]
  },
  {
   "cell_type": "code",
   "execution_count": null,
   "id": "4ec7708d",
   "metadata": {},
   "outputs": [],
   "source": [
    "field_5x5 = [\n",
    " ['soil', 'soil', 'soil', 'soil', 'soil'],\n",
    " ['soil', 'soil', 'soil', 'soil', 'soil'],\n",
    " ['soil', 'soil', 'soil', 'soil', 'soil'],\n",
    " ['soil', 'soil', 'soil', 'soil', 'soil'],\n",
    " ['soil', 'soil', 'soil', 'soil', 'soil'],\n",
    "]\n",
    "tractor_movement_realistic(field_5x5)"
   ]
  },
  {
   "cell_type": "markdown",
   "id": "5d0b8a33",
   "metadata": {},
   "source": [
    "**Output**:\n",
    "\n",
    "`[(0, 0), (0, 1), (0, 2), (0, 3), (0, 4), (1, 4), (1, 3), (1, 2), (1, 1), (1, 0), (2, 0), (2, 1), (2, 2), (2, 3), (2, 4), (3, 4), (3, 3), (3, 2), (3, 1), (3, 0), (4, 0), (4, 1), (4, 2), (4, 3), (4, 4)]`"
   ]
  },
  {
   "cell_type": "markdown",
   "id": "e9956efe",
   "metadata": {
    "tags": []
   },
   "source": [
    "<br>"
   ]
  },
  {
   "cell_type": "markdown",
   "id": "26fd094b-0fee-46f1-a4b8-73766813c42b",
   "metadata": {
    "tags": []
   },
   "source": [
    "#  \n",
    "\n",
    "<div align=\"center\" style=\" font-size: 80%; text-align: center; margin: 0 auto\">\n",
    "<img src=\"https://raw.githubusercontent.com/Explore-AI/Pictures/master/ExploreAI_logos/EAI_Blue_Dark.png\"  style=\"width:200px\";/>\n",
    "</div>"
   ]
  }
 ],
 "metadata": {
  "kernelspec": {
   "display_name": "Python 3 (ipykernel)",
   "language": "python",
   "name": "python3"
  },
  "language_info": {
   "codemirror_mode": {
    "name": "ipython",
    "version": 3
   },
   "file_extension": ".py",
   "mimetype": "text/x-python",
   "name": "python",
   "nbconvert_exporter": "python",
   "pygments_lexer": "ipython3",
   "version": "3.10.9"
  }
 },
 "nbformat": 4,
 "nbformat_minor": 5
}
