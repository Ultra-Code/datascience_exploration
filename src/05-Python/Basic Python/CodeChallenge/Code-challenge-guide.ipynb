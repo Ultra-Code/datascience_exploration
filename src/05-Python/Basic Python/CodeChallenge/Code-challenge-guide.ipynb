{
 "cells": [
  {
   "cell_type": "markdown",
   "metadata": {},
   "source": [
    "<div align=\"center\" style=\" font-size: 80%; text-align: center; margin: 0 auto\">\n",
    "<img src=\"https://raw.githubusercontent.com/Explore-AI/Pictures/master/Python-Notebook-Banners/Code_challenge.png\"  style=\"display: block; margin-left: auto; margin-right: auto;\";/>\n",
    "</div>"
   ]
  },
  {
   "cell_type": "markdown",
   "metadata": {
    "colab_type": "text",
    "id": "k3iztl7u3gwD"
   },
   "source": [
    "# Code challenge guide\n",
    "\n",
    "© ExploreAI Academy\n",
    "\n",
    "## Description\n",
    "\n",
    "This notebook is a quick guide to how code challenges work.\n",
    "\n",
    "\n",
    "\n"
   ]
  },
  {
   "cell_type": "markdown",
   "metadata": {},
   "source": [
    "## Python functions and data structures challenge\n",
    "\n",
    "In this challenge, you will use functions to submit your answer. Each function will use Python data structures to represent different aspects of a farm. \n",
    "\n",
    "Imagine a function as a small factory: you send in some raw materials (input), it processes them, and then sends out a finished product (output). In programming, a function works similarly. You give it some data (input), it does something with that data, and then gives back a result (output).\n",
    "\n",
    "The general format of a function in Python is as follows:"
   ]
  },
  {
   "cell_type": "code",
   "execution_count": null,
   "metadata": {},
   "outputs": [],
   "source": [
    "def function_name(input):\n",
    "    # your code here\n",
    "    return result"
   ]
  },
  {
   "cell_type": "markdown",
   "metadata": {},
   "source": [
    "- `def` tells Python that you are defining a function.\n",
    "\n",
    "- `function_name` is the name you give to your function.\n",
    "\n",
    "- `input` is the information you feed into the function. It's optional; some functions don't need input.\n",
    "\n",
    "- Inside the function, you write code that processes the input.\n",
    "\n",
    "- `return` is a keyword that tells Python what the function should output."
   ]
  },
  {
   "cell_type": "markdown",
   "metadata": {},
   "source": [
    "### Example: Creating a simple function\n",
    "Let's consider a basic task: assigning the string `tractor` or `harvester` to a variable named `vehicle_type`. In Python, it looks like this:"
   ]
  },
  {
   "cell_type": "code",
   "execution_count": null,
   "metadata": {},
   "outputs": [],
   "source": [
    "vehicle_type_str = \"tractor\""
   ]
  },
  {
   "cell_type": "markdown",
   "metadata": {},
   "source": [
    "Now, let's turn this into a function in a code challenge.\n",
    "\n",
    "The basic structure of the function is always provided:"
   ]
  },
  {
   "cell_type": "code",
   "execution_count": null,
   "metadata": {},
   "outputs": [],
   "source": [
    "### START FUNCTION\n",
    "def vehicle_type(input):\n",
    "    # your code here\n",
    "    return\n",
    "### END FUNCTION"
   ]
  },
  {
   "cell_type": "markdown",
   "metadata": {},
   "source": [
    "We add the required code: "
   ]
  },
  {
   "cell_type": "code",
   "execution_count": null,
   "metadata": {},
   "outputs": [],
   "source": [
    "### START FUNCTION\n",
    "def vehicle_type(input):\n",
    "    vehicle_type = input\n",
    "    return vehicle_type\n",
    "### END FUNCTION"
   ]
  },
  {
   "cell_type": "markdown",
   "metadata": {},
   "source": [
    "And we can \"call\" the function with the code below:"
   ]
  },
  {
   "cell_type": "code",
   "execution_count": null,
   "metadata": {},
   "outputs": [],
   "source": [
    "vehicle_type(\"tractor\")"
   ]
  },
  {
   "cell_type": "markdown",
   "metadata": {},
   "source": [
    "This returns the string `tractor`."
   ]
  },
  {
   "cell_type": "markdown",
   "metadata": {},
   "source": [
    "- `input` is a variable name for any input into the function. Calling `vehicle_type(\"car\")` will return the string `car`.\n",
    "\n",
    "- The input is used in `()`.\n",
    "\n",
    "- Note that the code is indented after the `def vehicle_type(input):` line. We have to make sure the code is always indented to this level for the function to work.\n",
    "\n",
    "- The code after the `return` statement is what we want to output. In this case, we assign the variable `input` to `vehicle_type`, and `return` our output `vehicle_type`, which should return the string `\"tractor\"`.\n",
    "\n",
    "- Do not edit or remove the `### START FUNCTION` or `### END FUNCTION` lines!\n",
    "\n",
    "We are always provided with multiple function calls called **expected outputs**. These help us test whether our code works correctly."
   ]
  },
  {
   "cell_type": "markdown",
   "metadata": {},
   "source": [
    "**Expected outputs:**"
   ]
  },
  {
   "cell_type": "markdown",
   "metadata": {},
   "source": [
    "**Input 1:**\n",
    "<br>\n",
    "Expected output: `'tractor'`"
   ]
  },
  {
   "cell_type": "code",
   "execution_count": null,
   "metadata": {},
   "outputs": [],
   "source": [
    "# input 1: \"tractor\"\n",
    "vehicle_type(\"tractor\")"
   ]
  },
  {
   "cell_type": "markdown",
   "metadata": {},
   "source": [
    "**Input 2:**\n",
    "<br>\n",
    "Expected output: `'car'`"
   ]
  },
  {
   "cell_type": "code",
   "execution_count": null,
   "metadata": {},
   "outputs": [],
   "source": [
    "# input 2: \"car\"\n",
    "vehicle_type(\"car\")"
   ]
  },
  {
   "cell_type": "markdown",
   "metadata": {},
   "source": [
    "There is always a *hidden input* we never see, to make sure we code the challenge and don't just fake an answer. In this case, the hidden input is `\"harvester\"`."
   ]
  },
  {
   "cell_type": "markdown",
   "metadata": {},
   "source": [
    "**Hidden input:**\n",
    "<br>\n",
    "Expected output: `'harvester'`"
   ]
  },
  {
   "cell_type": "code",
   "execution_count": null,
   "metadata": {},
   "outputs": [],
   "source": [
    "# Hidden input: \"harvester\"\n",
    "vehicle_type(\"harvester\")"
   ]
  },
  {
   "cell_type": "markdown",
   "metadata": {},
   "source": [
    "Top tips for submitting your work:\n",
    "1. Download a copy of the notebook, and rename the notebook `Data_structures_code_challenge.ipynb` to `Data_structures_code_challenge_work.ipynb`. Use this notebook to complete the code challenge. \n",
    "\n",
    "2. Transfer your code into another copy of `Data_structures_code_challenge.ipynb` and submit this file as the answer.\n",
    "\n",
    "3. Make sure your code runs in the notebook you will be submitting."
   ]
  },
  {
   "cell_type": "markdown",
   "metadata": {},
   "source": [
    "#  \n",
    "\n",
    "<div align=\"center\" style=\" font-size: 80%; text-align: center; margin: 0 auto\">\n",
    "<img src=\"https://raw.githubusercontent.com/Explore-AI/Pictures/master/ExploreAI_logos/EAI_Blue_Dark.png\"  style=\"width:200px\";/>\n",
    "</div>"
   ]
  }
 ],
 "metadata": {
  "colab": {
   "name": "Analyse_Functions_Model.ipynb",
   "provenance": []
  },
  "kernelspec": {
   "display_name": "Python 3 (ipykernel)",
   "language": "python",
   "name": "python3"
  },
  "language_info": {
   "codemirror_mode": {
    "name": "ipython",
    "version": 3
   },
   "file_extension": ".py",
   "mimetype": "text/x-python",
   "name": "python",
   "nbconvert_exporter": "python",
   "pygments_lexer": "ipython3",
   "version": "3.11.5"
  }
 },
 "nbformat": 4,
 "nbformat_minor": 1
}
