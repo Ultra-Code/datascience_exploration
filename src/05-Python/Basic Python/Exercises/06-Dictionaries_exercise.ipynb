{
 "cells": [
  {
   "cell_type": "markdown",
   "id": "cd88ea27",
   "metadata": {},
   "source": [
    "<div align=\"center\" style=\" font-size: 80%; text-align: center; margin: 0 auto\">\n",
    "<img src=\"https://raw.githubusercontent.com/Explore-AI/Pictures/master/Python-Notebook-Banners/Exercise.png\"  style=\"display: block; margin-left: auto; margin-right: auto;\";/>\n",
    "</div>"
   ]
  },
  {
   "cell_type": "markdown",
   "id": "f662d169",
   "metadata": {},
   "source": [
    "# Exercise: Dictionaries\n",
    "© ExploreAI Academy"
   ]
  },
  {
   "cell_type": "markdown",
   "id": "26af890c",
   "metadata": {},
   "source": [
    "In this exercise, we'll be exploring problems involving dictionaries – how to create, manipulate, and use their characteristics to create efficient code. \n"
   ]
  },
  {
   "cell_type": "markdown",
   "id": "2d230d14",
   "metadata": {
    "tags": []
   },
   "source": [
    "## Learning objectives\n",
    "\n",
    "Following this exercise, we will:\n",
    "- Understand how to create dictionaries.\n",
    "- Be able to manipulate the key-value pairs using assignment and slicing.\n"
   ]
  },
  {
   "cell_type": "markdown",
   "id": "de45a481",
   "metadata": {},
   "source": [
    "## Exercises"
   ]
  },
  {
   "cell_type": "markdown",
   "id": "a4195479",
   "metadata": {},
   "source": [
    "### Exercise 1\n",
    "\n",
    "1. Create a dictionary called `tree` with the following key-value pairs: <br> \n",
    "- `tree_type – Pepper-bark tree` \n",
    "- `age – 15`\n",
    "- `family – Canellaceae`\n"
   ]
  },
  {
   "cell_type": "code",
   "execution_count": null,
   "id": "00ef21f6",
   "metadata": {
    "scrolled": true,
    "vscode": {
     "languageId": "plaintext"
    }
   },
   "outputs": [],
   "source": [
    "# insert code here\n",
    "\n"
   ]
  },
  {
   "cell_type": "markdown",
   "id": "ace28eb0",
   "metadata": {},
   "source": [
    "2. Print the value associated with the key `age`.\n"
   ]
  },
  {
   "cell_type": "code",
   "execution_count": null,
   "id": "a5aa5d8f",
   "metadata": {},
   "outputs": [],
   "source": [
    "# insert code here\n",
    "\n"
   ]
  },
  {
   "cell_type": "markdown",
   "id": "8d665835",
   "metadata": {},
   "source": [
    "3. When we created this dictionary in the first step, we accidentally left out one of the information categories, namely 'kingdom'. Fortunately, dictionaries are mutable, and we can add a new key-value pair to the dictionary: `kingdom – Plantae`. Do this in the code cell below. "
   ]
  },
  {
   "cell_type": "code",
   "execution_count": null,
   "id": "59e7d365",
   "metadata": {},
   "outputs": [],
   "source": [
    "# insert code here\n",
    "\n"
   ]
  },
  {
   "cell_type": "markdown",
   "id": "ff95cb43",
   "metadata": {},
   "source": [
    "4. We have found that people are no longer interested in one of the key-value pairs in our dictionary. Remove the `family` key-value pair from the dictionary."
   ]
  },
  {
   "cell_type": "code",
   "execution_count": null,
   "id": "b619fe91",
   "metadata": {},
   "outputs": [],
   "source": [
    "# insert code here\n",
    "\n"
   ]
  },
  {
   "cell_type": "markdown",
   "id": "17fe171e",
   "metadata": {},
   "source": [
    "5. Update the dictionary by changing the `tree_type` key to `Wild Cinnamon`."
   ]
  },
  {
   "cell_type": "code",
   "execution_count": null,
   "id": "c0647f08",
   "metadata": {},
   "outputs": [],
   "source": [
    "# insert code here\n",
    "\n"
   ]
  },
  {
   "cell_type": "markdown",
   "id": "ee218a08",
   "metadata": {},
   "source": [
    "6. Extract the keys and values from our `tree` dictionary, and store the values in two separate lists, `key_list` and `value_list`."
   ]
  },
  {
   "cell_type": "code",
   "execution_count": null,
   "id": "553ce78c",
   "metadata": {},
   "outputs": [],
   "source": [
    "# insert code here\n",
    "\n"
   ]
  },
  {
   "cell_type": "markdown",
   "id": "604fb0ac",
   "metadata": {},
   "source": [
    "7. Extract the key-value pairs from our `tree` dictionary in tuples, and store the values in a single list, `item_list`."
   ]
  },
  {
   "cell_type": "code",
   "execution_count": null,
   "id": "8d6b6bde",
   "metadata": {},
   "outputs": [],
   "source": [
    "# insert code here\n",
    "\n"
   ]
  },
  {
   "cell_type": "markdown",
   "id": "0e588848",
   "metadata": {},
   "source": [
    "### Exercise 2\n",
    "\n",
    "1. We have been provided with a basic nested dictionary containing African tree species. We have just received more detailed information on these trees and need to add it to this nested dictionary. Use the code provided as a starting point, adding in the extra information where required. \n"
   ]
  },
  {
   "cell_type": "code",
   "execution_count": null,
   "id": "b51ffe85",
   "metadata": {},
   "outputs": [],
   "source": [
    "# basic dictionary provided \n",
    "african_trees = {\n",
    "    \"Baobab\": {\n",
    "        \"common_name\": \"Baobab\",\n",
    "        \"scientific_name\": \"Adansonia\",\n",
    "    },\n",
    "    \"Acacia\": {\n",
    "        \"common_name\": \"Acacia\",\n",
    "        \"scientific_name\": \"Acacia\",\n",
    "    }\n",
    "}\n",
    "print(african_trees)"
   ]
  },
  {
   "cell_type": "markdown",
   "id": "98e7591b",
   "metadata": {},
   "source": [
    "**New information**\n",
    "\n",
    "Baobab: \n",
    "- country – Zimbabwe\n",
    "- average_height – 25\n",
    "\n",
    "Acacia:\n",
    "- country – South Africa\n",
    "- average_height – 15\n",
    "\n",
    "**Hint**: \n",
    "- Print the dictionary to view the current structure. \n",
    "- Use the keys to access the Baobab and Acacia dictionaries and append the additional information.\n",
    "- The new keys will be `country` and `average_height`."
   ]
  },
  {
   "cell_type": "code",
   "execution_count": null,
   "id": "233a2393",
   "metadata": {},
   "outputs": [],
   "source": [
    "# insert code here\n",
    "\n"
   ]
  },
  {
   "cell_type": "markdown",
   "id": "555dea0d",
   "metadata": {},
   "source": [
    "## Solutions"
   ]
  },
  {
   "cell_type": "markdown",
   "id": "9ff8f391",
   "metadata": {},
   "source": [
    "### Exercise 1\n",
    "\n",
    "1. Create a dictionary called `tree` with the following key-value pairs: <br> \n",
    "- `tree_type – Pepper-bark tree` \n",
    "- `age – 15`\n",
    "- `family – Canellaceae`\n"
   ]
  },
  {
   "cell_type": "code",
   "execution_count": null,
   "id": "ad52ad95",
   "metadata": {
    "vscode": {
     "languageId": "plaintext"
    }
   },
   "outputs": [],
   "source": [
    "# insert code here\n",
    "\n",
    "# option 1\n",
    "tree = {\"tree_type\":\"Pepper-bark tree\", \"age\":15, \"family\":\"Canellaceae\"}\n",
    "print(tree)\n",
    "\n",
    "# option 2\n",
    "tree = dict(tree_type=\"Pepper-bark tree\", age=15, family=\"Canellaceae\")\n",
    "print(tree)"
   ]
  },
  {
   "cell_type": "markdown",
   "id": "15e4fde1",
   "metadata": {},
   "source": [
    "Here we have shown two different ways of initialising our dictionary – the first with the curly brackets, the second using the built-in `dict()` function. Note that when we use the `dict()` function, **the keys are automatically recognised without the need to place them in quotes**. "
   ]
  },
  {
   "cell_type": "markdown",
   "id": "66557fb1",
   "metadata": {},
   "source": [
    "<br>\n",
    "\n",
    "2. Print the value associated with the key `age`.\n"
   ]
  },
  {
   "cell_type": "code",
   "execution_count": null,
   "id": "15bf65f9",
   "metadata": {},
   "outputs": [],
   "source": [
    "# insert code here\n",
    "\n",
    "print(f\"Age: {tree['age']}\")\n"
   ]
  },
  {
   "cell_type": "markdown",
   "id": "86deb38f",
   "metadata": {},
   "source": [
    "<br>\n",
    "\n",
    "3. When we created this dictionary in the first step, we accidentally left out one of the information categories, namely 'kingdom'. Fortunately, dictionaries are mutable, and we can add a new key-value pair to the dictionary: `kingdom – Plantae`. Do this in the code cell below. "
   ]
  },
  {
   "cell_type": "code",
   "execution_count": null,
   "id": "8438717e",
   "metadata": {},
   "outputs": [],
   "source": [
    "# insert code here\n",
    "\n",
    "# option 1 – assigning directly to key\n",
    "tree[\"kingdom\"] = \"Plantae\"\n",
    "print(tree)\n"
   ]
  },
  {
   "cell_type": "code",
   "execution_count": null,
   "id": "cf90d929",
   "metadata": {},
   "outputs": [],
   "source": [
    "# recreating tree dictionary for illustrative purposes\n",
    "tree = dict(tree_type=\"Pepper-bark tree\", age=15, family=\"Canellaceae\")\n",
    "\n",
    "# option 2 – creating new dictionary and using update to add it\n",
    "new_data = {\"kingdom\": \"Plantae\"}\n",
    "\n",
    "tree.update(new_data)\n",
    "print(tree)"
   ]
  },
  {
   "cell_type": "markdown",
   "id": "fae75acc",
   "metadata": {},
   "source": [
    "We can add new key-value pairs to the dictionary by specifying the key (`kingdom`) and its value, or create a new dictionary and use `update()` to include it in the original."
   ]
  },
  {
   "cell_type": "markdown",
   "id": "b20068e7",
   "metadata": {},
   "source": [
    "<br>\n",
    "\n",
    "4. We have found that people are no longer interested in one of the key-value pairs in our dictionary. Remove the `family` key-value pair from the dictionary."
   ]
  },
  {
   "cell_type": "code",
   "execution_count": null,
   "id": "3ab4799f",
   "metadata": {},
   "outputs": [],
   "source": [
    "# insert code here\n",
    "\n",
    "# option 1\n",
    "# Using del keyword to remove the key-value pair\n",
    "del tree[\"family\"]\n",
    "print(\"Updated tree dict: \",tree)\n",
    "\n"
   ]
  },
  {
   "cell_type": "markdown",
   "id": "2e9ac609",
   "metadata": {},
   "source": [
    "We can use the `del` keyword to remove the `family` key-value pair from the dictionary. If the key cannot be found, it will result in a key error. "
   ]
  },
  {
   "cell_type": "code",
   "execution_count": null,
   "id": "bad78ad0",
   "metadata": {},
   "outputs": [],
   "source": [
    "# option 2\n",
    "# recreating the dict for illustrative purposes\n",
    "tree = {\"tree_type\":\"Pepper-bark tree\", \"age\":15, \"family\":\"Canellaceae\",\"kingdom\":\"Plantae\"}\n",
    "print(\"Original tree dict: \",tree)\n",
    "\n",
    "# Using pop() method to modify the dictionary in place\n",
    "tree.pop(\"family\")\n",
    "print(\"Updated tree dict: \",tree)\n"
   ]
  },
  {
   "cell_type": "markdown",
   "id": "f24ccc17",
   "metadata": {},
   "source": [
    "We can also use the `pop()` method to remove the value associated with the `family` key. "
   ]
  },
  {
   "cell_type": "markdown",
   "id": "d27446d6",
   "metadata": {},
   "source": [
    "<br>\n",
    "\n",
    "5. Update the dictionary by changing the `tree_type` key to `Wild Cinnamon`."
   ]
  },
  {
   "cell_type": "code",
   "execution_count": null,
   "id": "99026ea1",
   "metadata": {},
   "outputs": [],
   "source": [
    "# insert code here\n",
    "\n",
    "tree[\"tree_type\"] = \"Wild Cinnamon\"\n",
    "print(tree)"
   ]
  },
  {
   "cell_type": "markdown",
   "id": "e1e64383",
   "metadata": {},
   "source": [
    "<br>\n",
    "\n",
    "6. Extract the keys and values from our `tree` dictionary, and store the values in two separate lists, `key_list` and `value_list`."
   ]
  },
  {
   "cell_type": "code",
   "execution_count": null,
   "id": "105b295b",
   "metadata": {},
   "outputs": [],
   "source": [
    "# insert code here\n",
    "\n",
    "key_list = list(tree.keys())\n",
    "value_list = list(tree.values())\n",
    "print(\"Key list: \",key_list)\n",
    "print(\"Value list: \",value_list)\n",
    "\n"
   ]
  },
  {
   "cell_type": "markdown",
   "id": "36464f17",
   "metadata": {},
   "source": [
    "The attributes of dictionaries can be accessed with the `keys()` and `values()` methods, making it easy to extract them. These methods return `dict_keys` and `dict_values` objects, respectively. While these objects resemble lists, we can't access their elements using indexing. If you'd like to use indexing on them, it's best to convert the object to a list and access the elements from there. "
   ]
  },
  {
   "cell_type": "markdown",
   "id": "08e8de1c",
   "metadata": {},
   "source": [
    "<br>\n",
    "\n",
    "7. Extract the key-value pairs from our `tree` dictionary in tuples, and store the values in a single list, `item_list`."
   ]
  },
  {
   "cell_type": "code",
   "execution_count": null,
   "id": "0e38f440",
   "metadata": {},
   "outputs": [],
   "source": [
    "# insert code here\n",
    "print(type(tree.items()))\n",
    "\n",
    "item_list = list(tree.items())\n",
    "print(item_list)"
   ]
  },
  {
   "cell_type": "markdown",
   "id": "56abc168",
   "metadata": {},
   "source": [
    "Here we extracted a `dict_items` object and converted it to a list. We can see that our `item_list` variable is a list of tuples with two elements each, containing the key-value pairs from our dictionary in each tuple. \n",
    "\n",
    "The `dict_items` object shares the attributes of the `dict_keys` and `dict_values` objects, meaning that while `dict_items` objects are iterable, we cannot use an index to access their elements."
   ]
  },
  {
   "cell_type": "markdown",
   "id": "2466c52e",
   "metadata": {},
   "source": [
    "<br> \n",
    "\n",
    "### Exercise 2\n",
    "\n",
    "1. We have been provided with a basic nested dictionary containing African tree species. We have just received more detailed information on these trees and need to add it to this nested dictionary. Use the code provided as a starting point, adding in the extra information where required. \n"
   ]
  },
  {
   "cell_type": "code",
   "execution_count": null,
   "id": "e1c83662",
   "metadata": {},
   "outputs": [],
   "source": [
    "# basic dictionary provided \n",
    "african_trees = {\n",
    "    \"Baobab\": {\n",
    "        \"common_name\": \"Baobab\",\n",
    "        \"scientific_name\": \"Adansonia\",\n",
    "    },\n",
    "    \"Acacia\": {\n",
    "        \"common_name\": \"Acacia\",\n",
    "        \"scientific_name\": \"Acacia\",\n",
    "    }\n",
    "}\n",
    "print(african_trees)"
   ]
  },
  {
   "cell_type": "markdown",
   "id": "523bdf69",
   "metadata": {},
   "source": [
    "**New information**\n",
    "\n",
    "Baobab: \n",
    "- country – Zimbabwe\n",
    "- average_height – 25\n",
    "\n",
    "Acacia:\n",
    "- country – South Africa\n",
    "- average_height – 15\n",
    "\n",
    "**Hint**: \n",
    "- Print the dictionary to view the current structure. \n",
    "- Use the keys to access the Baobab and Acacia dictionaries and append the additional information.\n",
    "- The new keys will be `country` and `average_height`."
   ]
  },
  {
   "cell_type": "code",
   "execution_count": null,
   "id": "119149bc",
   "metadata": {},
   "outputs": [],
   "source": [
    "# insert code here\n",
    "\n",
    "new_baobab = {\"country\":\"Zimbabwe\",\"average_height\":25}\n",
    "african_trees['Baobab'].update(new_baobab)\n",
    "new_acacia = {\"country\":\"South Africa\",\"average_height\":15}\n",
    "african_trees['Acacia'].update(new_acacia)\n",
    "\n",
    "african_trees"
   ]
  },
  {
   "cell_type": "markdown",
   "id": "71dfcdb0",
   "metadata": {},
   "source": [
    "In the solution we first created two new dictionaries with the additional information, and then accessed the two keys of interest, `Baobab` and `Acacia`. We then used the `update()` method to add the additional dictionaries. \n",
    "\n",
    "Nested dictionaries are especially useful for storing multi-level information and retaining the structure of the data. The same rules for accessing keys and values apply, making them easy to work with, despite the complex look!"
   ]
  },
  {
   "cell_type": "markdown",
   "id": "e9956efe",
   "metadata": {
    "tags": []
   },
   "source": [
    "## Summary\n",
    "\n",
    "Dictionaries provide a **fast and efficient** way to work with **structured data**. In this exercise, we looked at ways of creating dictionaries, how to update them, and how to extract their attributes. Remember to look into the Python documentation to learn more about these data structures! "
   ]
  },
  {
   "cell_type": "markdown",
   "id": "26fd094b-0fee-46f1-a4b8-73766813c42b",
   "metadata": {
    "tags": []
   },
   "source": [
    "#  \n",
    "\n",
    "<div align=\"center\" style=\" font-size: 80%; text-align: center; margin: 0 auto\">\n",
    "<img src=\"https://raw.githubusercontent.com/Explore-AI/Pictures/master/ExploreAI_logos/EAI_Blue_Dark.png\"  style=\"width:200px\";/>\n",
    "</div>"
   ]
  }
 ],
 "metadata": {
  "kernelspec": {
   "display_name": "Python 3 (ipykernel)",
   "language": "python",
   "name": "python3"
  },
  "language_info": {
   "codemirror_mode": {
    "name": "ipython",
    "version": 3
   },
   "file_extension": ".py",
   "mimetype": "text/x-python",
   "name": "python",
   "nbconvert_exporter": "python",
   "pygments_lexer": "ipython3",
   "version": "3.11.5"
  }
 },
 "nbformat": 4,
 "nbformat_minor": 5
}
