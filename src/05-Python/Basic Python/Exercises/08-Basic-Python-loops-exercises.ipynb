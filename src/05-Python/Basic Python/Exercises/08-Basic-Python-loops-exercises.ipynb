{
 "cells": [
  {
   "cell_type": "markdown",
   "id": "1bc8fd93",
   "metadata": {},
   "source": [
    "<div align=\"center\" style=\" font-size: 80%; text-align: center; margin: 0 auto\">\n",
    "<img src=\"https://raw.githubusercontent.com/Explore-AI/Pictures/master/Python-Notebook-Banners/Exercise.png\"  style=\"display: block; margin-left: auto; margin-right: auto;\";/>\n",
    "</div>"
   ]
  },
  {
   "cell_type": "markdown",
   "id": "f662d169",
   "metadata": {},
   "source": [
    "# Exercise: Basic Python loops\n",
    "© ExploreAI Academy"
   ]
  },
  {
   "cell_type": "markdown",
   "id": "26af890c",
   "metadata": {},
   "source": [
    "In this notebook we will have the opportunity to solve some problems involving basic loops, helping you to master one of Python's core concepts. \n"
   ]
  },
  {
   "cell_type": "markdown",
   "id": "2d230d14",
   "metadata": {
    "tags": []
   },
   "source": [
    "## Learning objectives\n",
    "\n",
    "In this train we will learn:\n",
    "- How to create basic `for` and `while` loops\n",
    "- How to control the flow of loops"
   ]
  },
  {
   "cell_type": "markdown",
   "id": "2ab2650d",
   "metadata": {},
   "source": [
    "## Exercises"
   ]
  },
  {
   "cell_type": "markdown",
   "id": "5a0b7683",
   "metadata": {
    "tags": []
   },
   "source": [
    "### Exercise 1: Basic `for` loop\n",
    "\n",
    "**Objective:** Print each animal's name from the animals list using a `for` loop."
   ]
  },
  {
   "cell_type": "code",
   "execution_count": null,
   "id": "0e3acd00",
   "metadata": {},
   "outputs": [],
   "source": [
    "animals = ['Great White Shark', 'Blue Whale', 'African Elephant', 'Bald Eagle', 'Orangutan', 'Tiger', 'Panda', 'Koala']\n",
    "\n",
    "# Write a for loop to print each animal's name\n"
   ]
  },
  {
   "cell_type": "markdown",
   "id": "c2096612",
   "metadata": {},
   "source": [
    "### Exercise 2: `while` loop with condition\n",
    "\n",
    "**Objective:** Use a `while` loop to print numbers from 0 to 4.\n"
   ]
  },
  {
   "cell_type": "code",
   "execution_count": null,
   "id": "467fd84f",
   "metadata": {},
   "outputs": [],
   "source": [
    "# Initialize a variable 'i' to 0\n",
    "\n",
    "# Write a while loop that prints 'i' and increments it by 1 each time, until it reaches 4\n"
   ]
  },
  {
   "cell_type": "markdown",
   "id": "5e825fe0",
   "metadata": {
    "vscode": {
     "languageId": "plaintext"
    }
   },
   "source": [
    "### Exercise 3: Using `break` in a loop\n",
    "\n",
    "**Objective:** Stop the loop once you find `Orangutan` in the animals list."
   ]
  },
  {
   "cell_type": "code",
   "execution_count": null,
   "id": "3aba36fb",
   "metadata": {},
   "outputs": [],
   "source": [
    "# Write a for loop with a break statement to stop the loop when 'Orangutan' is found\n"
   ]
  },
  {
   "cell_type": "markdown",
   "id": "ffee6d2c",
   "metadata": {},
   "source": [
    "### Exercise 4: Using `continue` in a loop\n",
    "\n",
    "**Objective:** Print all animals except 'Bald Eagle' using a for loop and continue statement."
   ]
  },
  {
   "cell_type": "code",
   "execution_count": null,
   "id": "d1c33f26",
   "metadata": {},
   "outputs": [],
   "source": [
    "# Write a for loop with a continue statement to skip 'Bald Eagle' and print other animals\n"
   ]
  },
  {
   "cell_type": "markdown",
   "id": "f02c2669",
   "metadata": {},
   "source": [
    "### Exercise 5: Using `pass` in a loop\n",
    "\n",
    "**Objective:** Create a loop that does nothing when 'Panda' is encountered, but prints other animals."
   ]
  },
  {
   "cell_type": "code",
   "execution_count": null,
   "id": "a915748c",
   "metadata": {},
   "outputs": [],
   "source": [
    "# Write a for loop with a pass statement for 'Panda' and print other animals\n"
   ]
  },
  {
   "cell_type": "markdown",
   "id": "f7f34420",
   "metadata": {},
   "source": [
    "## Solutions"
   ]
  },
  {
   "cell_type": "markdown",
   "id": "0d2aed8d",
   "metadata": {},
   "source": [
    "### Exercise 1: Basic `for` loop\n",
    "\n",
    "**Explanation:** The `for` loop iterates over each element in the animals list. For each iteration, the variable animal takes the value of the current list element, which is then printed.\n"
   ]
  },
  {
   "cell_type": "code",
   "execution_count": null,
   "id": "0d22811d",
   "metadata": {},
   "outputs": [],
   "source": [
    "animals = ['Great White Shark', 'Blue Whale', 'African Elephant', \n",
    "           'Bald Eagle', 'Orangutan', 'Tiger', 'Panda', 'Koala']\n",
    "\n",
    "for animal in animals:\n",
    "    print(animal)"
   ]
  },
  {
   "cell_type": "markdown",
   "id": "00abfb73",
   "metadata": {},
   "source": [
    "### Exercise 2: `while` loop with condition\n",
    "\n",
    "**Explanation:** This `while` loop starts with i initialized to 0. As long as i is less than 5, the loop prints the value of i and then increments i by 1. The loop exits when i reaches 5.\n"
   ]
  },
  {
   "cell_type": "code",
   "execution_count": null,
   "id": "1ff6612a",
   "metadata": {},
   "outputs": [],
   "source": [
    "i = 0\n",
    "while i < 5:\n",
    "    print(i)\n",
    "    i += 1"
   ]
  },
  {
   "cell_type": "markdown",
   "id": "c684820a",
   "metadata": {},
   "source": [
    "### Exercise 3: Using `break` in a loop\n",
    "\n",
    "**Explanation:** The loop iterates over the animals list. When it encounters `Orangutan`, the `break` statement is executed, which immediately exits the loop, so `Orangutan` and any subsequent animals are not printed.\n"
   ]
  },
  {
   "cell_type": "code",
   "execution_count": null,
   "id": "07571dec",
   "metadata": {},
   "outputs": [],
   "source": [
    "for animal in animals:\n",
    "    if animal == 'Orangutan':\n",
    "        break\n",
    "    print(animal)"
   ]
  },
  {
   "cell_type": "markdown",
   "id": "6ba801c1",
   "metadata": {},
   "source": [
    "What would happen if you printed the animal first, then had the break statement?"
   ]
  },
  {
   "cell_type": "markdown",
   "id": "591d5057",
   "metadata": {},
   "source": [
    "### Exercise 4: Using `continue` in a loop\n",
    "\n",
    "**Explanation:** In this loop, when `Bald Eagle` is encountered, the `continue` statement is executed, which skips the current iteration and moves to the next iteration, thus not printing `Bald Eagle`."
   ]
  },
  {
   "cell_type": "code",
   "execution_count": null,
   "id": "bedf7970",
   "metadata": {},
   "outputs": [],
   "source": [
    "for animal in animals:\n",
    "    if animal == 'Bald Eagle':\n",
    "        continue\n",
    "    print(animal)"
   ]
  },
  {
   "cell_type": "markdown",
   "id": "d6f62c9a",
   "metadata": {},
   "source": [
    "### Exercise 5: Using `pass` in a loop\n",
    "\n",
    "**Explanation:** The loop goes through each animal. When it encounters `Panda`, the `pass` statement does nothing, and the loop continues without printing `Panda`. For all other animals, the `else` clause is executed, printing their names."
   ]
  },
  {
   "cell_type": "code",
   "execution_count": null,
   "id": "a207dce8",
   "metadata": {},
   "outputs": [],
   "source": [
    "for animal in animals:\n",
    "    if animal == 'Panda':\n",
    "        pass\n",
    "    else:\n",
    "        print(animal)"
   ]
  },
  {
   "cell_type": "markdown",
   "id": "e9956efe",
   "metadata": {
    "tags": []
   },
   "source": [
    "## Summary\n",
    "\n",
    "These exercises provided practical experience with basic `for` and `while` loops in Python, as well as with loop control statements like `break`, `continue`, and `pass`. Through these exercises, you've seen how `for` loops are **ideal for iterating over a sequence**, `while` loops are used **when a condition determines the continuation of the loop**, `break` can be used to exit a loop immediately, `continue` skips the rest of the current loop iteration, and `pass` acts as a placeholder without affecting loop execution. "
   ]
  },
  {
   "cell_type": "markdown",
   "id": "26fd094b-0fee-46f1-a4b8-73766813c42b",
   "metadata": {
    "tags": []
   },
   "source": [
    "#  \n",
    "\n",
    "<div align=\"center\" style=\" font-size: 80%; text-align: center; margin: 0 auto\">\n",
    "<img src=\"https://raw.githubusercontent.com/Explore-AI/Pictures/master/ExploreAI_logos/EAI_Blue_Dark.png\"  style=\"width:200px\";/>\n",
    "</div>"
   ]
  }
 ],
 "metadata": {
  "kernelspec": {
   "display_name": "Python 3 (ipykernel)",
   "language": "python",
   "name": "python3"
  },
  "language_info": {
   "codemirror_mode": {
    "name": "ipython",
    "version": 3
   },
   "file_extension": ".py",
   "mimetype": "text/x-python",
   "name": "python",
   "nbconvert_exporter": "python",
   "pygments_lexer": "ipython3",
   "version": "3.11.5"
  }
 },
 "nbformat": 4,
 "nbformat_minor": 5
}
