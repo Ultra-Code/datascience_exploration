{
 "cells": [
  {
   "cell_type": "markdown",
   "metadata": {},
   "source": [
    "<div align=\"center\" style=\" font-size: 80%; text-align: center; margin: 0 auto\">\n",
    "<img src=\"https://raw.githubusercontent.com/Explore-AI/Pictures/master/Python-Notebook-Banners/Exercise.png\"  style=\"display: block; margin-left: auto; margin-right: auto;\";/>\n",
    "</div>"
   ]
  },
  {
   "attachments": {},
   "cell_type": "markdown",
   "id": "f662d169",
   "metadata": {},
   "source": [
    "# Exercise: Kwargs, args, and default values\n",
    "© ExploreAI Academy"
   ]
  },
  {
   "attachments": {},
   "cell_type": "markdown",
   "id": "26af890c",
   "metadata": {},
   "source": [
    "In this exercise, we will explore the fundamental concepts of Python functions through a series of practical exercises designed to reinforce key concepts such as function creation, parameter usage (including `*args` and `**kwargs`), and default function parameters."
   ]
  },
  {
   "attachments": {},
   "cell_type": "markdown",
   "id": "2d230d14",
   "metadata": {
    "tags": []
   },
   "source": [
    "## Learning objectives\n",
    "\n",
    "By the end of this exercise, you should be able to:\n",
    "- Define functions in Python, comprehend the purpose of parameters, and use default values to enhance the versatility of code.\n",
    "- Handle variable positional arguments, or `*args`, and variable keyword arguments, or `**kwargs`, to create flexible and adaptable functions."
   ]
  },
  {
   "cell_type": "markdown",
   "metadata": {},
   "source": [
    "## Exercises"
   ]
  },
  {
   "attachments": {},
   "cell_type": "markdown",
   "id": "5a0b7683",
   "metadata": {
    "tags": []
   },
   "source": [
    "### Exercise 1\n",
    "\n",
    "Write a Python function called `calculate_forest_area` that takes two parameters: `trees` and `area_per_tree`. The function should calculate and return the total area covered by the given number of trees. By default, assume that each tree covers 10 square metres of land. Additionally, the function should accept an optional parameter, `deforestation_factor`, with a default value of **0.2**. This factor represents the percentage of the total area that has been deforested. The function should return the **net forest area** after considering deforestation."
   ]
  },
  {
   "cell_type": "code",
   "execution_count": null,
   "metadata": {},
   "outputs": [],
   "source": [
    "# Your code here..."
   ]
  },
  {
   "attachments": {},
   "cell_type": "markdown",
   "id": "0460a908",
   "metadata": {},
   "source": [
    "Use the above function to calculate the area of a forest with **50 trees**, assuming each tree covers **5 square metres**, with a **deforestation factor of 0.3**. Print the result."
   ]
  },
  {
   "cell_type": "code",
   "execution_count": null,
   "id": "163baa20",
   "metadata": {},
   "outputs": [],
   "source": [
    "# Your code here..."
   ]
  },
  {
   "attachments": {},
   "cell_type": "markdown",
   "metadata": {},
   "source": [
    "### Exercise 2\n",
    "\n",
    "Create a function named `tree_planting_campaign` to track the progress of tree planting campaigns. The function should take two parameters: `initial_trees`, representing the current number of trees and `trees_per_campaign`, representing the number of trees planted in each additional campaign. The user should be able to **enter the number of trees planted for a variable number of campaigns based on the actual campaigns that occurred**. The function should return the total number of trees after the campaigns.\n"
   ]
  },
  {
   "attachments": {},
   "cell_type": "markdown",
   "id": "5e517a43",
   "metadata": {},
   "source": [
    "Hints:\n",
    "* Define the function `tree_planting_campaign` with parameters `initial_trees` and an `*args` parameter named `trees_per_campaign`.\n",
    "* Create a variable `total_trees` with the value of `initial_trees`.\n",
    "* Iterate through `*trees_per_campaign` and add each value to `total_trees`.\n",
    "* Return the final value of `total_trees`."
   ]
  },
  {
   "cell_type": "code",
   "execution_count": null,
   "metadata": {},
   "outputs": [],
   "source": [
    "# Your code here..."
   ]
  },
  {
   "attachments": {},
   "cell_type": "markdown",
   "id": "93b1427b",
   "metadata": {},
   "source": [
    "Use the above function to track and **print** the progress of a few tree planting campaigns. The forest started with **100** trees. In subsequent campaigns, the first campaign produced **20** additional trees, the second **30**, and the third **50** trees."
   ]
  },
  {
   "cell_type": "code",
   "execution_count": null,
   "id": "1e439ecc",
   "metadata": {},
   "outputs": [],
   "source": [
    "# Your code here..."
   ]
  },
  {
   "attachments": {},
   "cell_type": "markdown",
   "id": "e30d7143",
   "metadata": {},
   "source": [
    "### Exercise 3\n",
    "\n",
    "Create a function named `deforestation_impact_report` to generate a report on the impact of deforestation. The function should **allow the user to enter a variable number of impacts and their values** representing different aspects of deforestation, such as \"loss_of_biodiversity,\" \"carbon_emission,\" etc. The function should **print a labelled list of the provided impact aspects and their corresponding values**."
   ]
  },
  {
   "attachments": {},
   "cell_type": "markdown",
   "id": "59b2404d",
   "metadata": {},
   "source": [
    "Hints:\n",
    "* Define the function `deforestation_impact_report` with `impact_value` as a `**kwargs` parameter.\n",
    "* Iterate through `**impact_value` and print a labelled list for each aspect and its value."
   ]
  },
  {
   "cell_type": "code",
   "execution_count": null,
   "id": "3631f75e",
   "metadata": {},
   "outputs": [],
   "source": [
    "# Your code here..."
   ]
  },
  {
   "attachments": {},
   "cell_type": "markdown",
   "id": "0b07260e",
   "metadata": {},
   "source": [
    "Create a report on the impact of deforestation using the above function, noting a **30%** loss of biodiversity, a carbon emission of **500** units, and soil erosion of **20** units."
   ]
  },
  {
   "cell_type": "code",
   "execution_count": null,
   "id": "613d9174",
   "metadata": {},
   "outputs": [],
   "source": [
    "# Your code here..."
   ]
  },
  {
   "cell_type": "markdown",
   "metadata": {},
   "source": [
    "## Solutions"
   ]
  },
  {
   "attachments": {},
   "cell_type": "markdown",
   "metadata": {},
   "source": [
    "### Exercise 1\n"
   ]
  },
  {
   "cell_type": "code",
   "execution_count": null,
   "metadata": {},
   "outputs": [],
   "source": [
    "def calculate_forest_area(trees, area_per_tree=10, deforestation_factor=0.2):\n",
    "    \"\"\"\n",
    "    Calculate the net forest area after considering deforestation.\n",
    "\n",
    "    Parameters:\n",
    "    - trees (int): The number of trees.\n",
    "    - area_per_tree (int, optional): Area covered by each tree. Default is 10 square metres.\n",
    "    - deforestation_factor (float, optional): Percentage of total area deforested. Default is 0.2.\n",
    "\n",
    "    Returns:\n",
    "    float: The net forest area.\n",
    "    \"\"\"\n",
    "    total_area = trees * area_per_tree\n",
    "    net_area = total_area * (1 - deforestation_factor)\n",
    "    return net_area"
   ]
  },
  {
   "attachments": {},
   "cell_type": "markdown",
   "metadata": {},
   "source": [
    "The function `calculate_forest_area` takes the number of trees (`trees`), the area covered by each tree (`area_per_tree` with a default value of `10`), and an optional deforestation factor (`deforestation_factor` with a default value of `0.2`). It calculates the total area covered by the trees and then adjusts it, based on the deforestation factor, to return the net forest area."
   ]
  },
  {
   "cell_type": "code",
   "execution_count": null,
   "id": "49154623",
   "metadata": {},
   "outputs": [],
   "source": [
    "# Use the calculate_forest_area function to calculate the area of a given forest\n",
    "calculate_forest_area(50, 5, 0.3 )"
   ]
  },
  {
   "attachments": {},
   "cell_type": "markdown",
   "metadata": {},
   "source": [
    "### Exercise 2"
   ]
  },
  {
   "cell_type": "code",
   "execution_count": null,
   "metadata": {},
   "outputs": [],
   "source": [
    "# Define the tree_planting_campaign\n",
    "def tree_planting_campaign(initial_trees, *trees_per_campaign):\n",
    "    \"\"\"\n",
    "    Track the progress of a tree planting campaign.\n",
    "\n",
    "    Parameters:\n",
    "    - initial_trees (int): Current number of trees.\n",
    "    - *trees_per_campaign (int): Number of trees planted in each additional campaign.\n",
    "\n",
    "    Returns:\n",
    "    int: Total number of trees after the campaign.\n",
    "    \"\"\"\n",
    "    total_trees = initial_trees\n",
    "\n",
    "    # Add trees planted in each campaign\n",
    "    for trees_planted in trees_per_campaign:\n",
    "        total_trees += trees_planted\n",
    "\n",
    "    return total_trees"
   ]
  },
  {
   "attachments": {},
   "cell_type": "markdown",
   "metadata": {},
   "source": [
    "The function `tree_planting_campaign` takes the initial number of trees (`initial_trees`) and any additional number of trees planted in each campaign (`*trees_per_campaign`). The `*trees_per_campaign` arguments are imported in a tuple in the function; therefore, the function iterates through them and adds them to the total number of trees, returning the final count."
   ]
  },
  {
   "cell_type": "code",
   "execution_count": null,
   "id": "3b45c82c",
   "metadata": {},
   "outputs": [],
   "source": [
    "# Use the tree_planting_campaign function to track and print the progress of tree planting campaigns\n",
    "tree_planting_campaign(100, 20, 30, 50)"
   ]
  },
  {
   "attachments": {},
   "cell_type": "markdown",
   "id": "fd161f0e",
   "metadata": {},
   "source": [
    "### Exercise 3"
   ]
  },
  {
   "cell_type": "code",
   "execution_count": null,
   "id": "f069325f",
   "metadata": {},
   "outputs": [],
   "source": [
    "# Define the deforestation_impact_report function\n",
    "def deforestation_impact_report(**impact_value):\n",
    "    \"\"\"\n",
    "    Generate a report on the impact of deforestation.\n",
    "\n",
    "    Parameters:\n",
    "    - **kwargs: Aspects of deforestation impact and their values.\n",
    "\n",
    "    Returns:\n",
    "    None\n",
    "    \"\"\"\n",
    "    print(\"Deforestation Impact Report:\")\n",
    "\n",
    "    for aspect in impact_value:\n",
    "        value = impact_value[aspect]\n",
    "        print(f\"- {aspect}: {value}\")"
   ]
  },
  {
   "attachments": {},
   "cell_type": "markdown",
   "id": "0e99e2ce",
   "metadata": {},
   "source": [
    "The function `deforestation_impact_report` takes various impacts of deforestation as a keyword argument (`**impact_value`). The function imports the `**impact_value` arguments as a dictionary, which means we can use the dictionary keys to extract the impacts and their values. The function loops through the impacts, printing each one with its associated value."
   ]
  },
  {
   "cell_type": "code",
   "execution_count": null,
   "id": "9a70b2ab",
   "metadata": {},
   "outputs": [],
   "source": [
    "# Use the deforestation_impact_report function to create a report \n",
    "deforestation_impact_report(\n",
    "    loss_of_biodiversity=30,\n",
    "    carbon_emission=500,\n",
    "    soil_erosion=20\n",
    ")"
   ]
  },
  {
   "cell_type": "markdown",
   "id": "26fd094b-0fee-46f1-a4b8-73766813c42b",
   "metadata": {
    "tags": []
   },
   "source": [
    "#  \n",
    "\n",
    "<div align=\"center\" style=\" font-size: 80%; text-align: center; margin: 0 auto\">\n",
    "<img src=\"https://raw.githubusercontent.com/Explore-AI/Pictures/master/ExploreAI_logos/EAI_Blue_Dark.png\"  style=\"width:200px\";/>\n",
    "</div>"
   ]
  }
 ],
 "metadata": {
  "kernelspec": {
   "display_name": "Python 3 (ipykernel)",
   "language": "python",
   "name": "python3"
  },
  "language_info": {
   "codemirror_mode": {
    "name": "ipython",
    "version": 3
   },
   "file_extension": ".py",
   "mimetype": "text/x-python",
   "name": "python",
   "nbconvert_exporter": "python",
   "pygments_lexer": "ipython3",
   "version": "3.11.4"
  }
 },
 "nbformat": 4,
 "nbformat_minor": 5
}
