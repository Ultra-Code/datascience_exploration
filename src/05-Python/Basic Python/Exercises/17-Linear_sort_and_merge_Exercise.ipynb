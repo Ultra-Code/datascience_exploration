{
 "cells": [
  {
   "cell_type": "markdown",
   "metadata": {},
   "source": [
    "<div align=\"center\" style=\" font-size: 80%; text-align: center; margin: 0 auto\">\n",
    "<img src=\"https://raw.githubusercontent.com/Explore-AI/Pictures/master/Python-Notebook-Banners/Exercise.png\"  style=\"display: block; margin-left: auto; margin-right: auto;\";/>\n",
    "</div>"
   ]
  },
  {
   "cell_type": "markdown",
   "metadata": {},
   "source": [
    "# Exercise: Linear sort and merge\n",
    "© ExploreAI Academy"
   ]
  },
  {
   "cell_type": "markdown",
   "metadata": {},
   "source": [
    "In this notebook, we utilise a merge sort algorithm to sort lists in linear time complexity.\n",
    "\n"
   ]
  },
  {
   "cell_type": "markdown",
   "metadata": {},
   "source": [
    "## Learning objectives\n",
    "\n",
    "In this train, we will:\n",
    "- Implement an algorithm that operates in linear time complexity, understanding the principles of efficiency and optimisation in algorithm design.\n",
    "- Apply an understanding of recursive algorithms to effectively merge two pre-sorted lists into a single sorted list."
   ]
  },
  {
   "cell_type": "markdown",
   "metadata": {},
   "source": [
    "## Exercises"
   ]
  },
  {
   "cell_type": "markdown",
   "metadata": {},
   "source": [
    "## Exercise 1\n",
    "\n",
    "Write a function named `linear_merge` that takes two lists as inputs. Both input lists are sorted in increasing order. \n",
    "\n",
    "The function should return a merged list of all the elements in sorted order.\n",
    "\n",
    "**Note:**\n",
    "- The solution should operate in linear time complexity. This means the function should ideally make only a single pass through each list.\n",
    "- Avoid using Python's built-in sorting functions, as they are slower than linear time."
   ]
  },
  {
   "cell_type": "code",
   "execution_count": null,
   "metadata": {
    "tags": []
   },
   "outputs": [],
   "source": [
    "### START FUNCTION\n",
    "def linear_merge(list1, list2):    \n",
    "    # your code here\n",
    "    return \n",
    "### END FUNCTION"
   ]
  },
  {
   "cell_type": "code",
   "execution_count": null,
   "metadata": {},
   "outputs": [],
   "source": [
    "linear_merge(['aa', 'xx', 'zz'], ['bb', 'cc'])"
   ]
  },
  {
   "cell_type": "markdown",
   "metadata": {},
   "source": [
    "Test your code with all the _**expected outputs**_ below.\n",
    "\n",
    "**Expected outputs:** \n",
    "```python\n",
    "linear_merge(['aa', 'xx', 'zz'], ['bb', 'cc']) == ['aa', 'bb', 'cc', 'xx', 'zz']\n",
    "linear_merge(['searching', 'sorting', 'van'], ['apple', 'small']) == ['apple', 'searching', 'small', 'sorting', 'van']\n",
    "linear_merge(['hello', 'world'], ['funny', 'giant', 'zoo']) == ['funny', 'giant', 'hello', 'world', 'zoo']\n",
    "linear_merge(['patch', 'tour', 'yak', 'zombie'], ['egg', 'stall']) == ['egg', 'patch', 'stall', 'tour', 'yak', 'zombie']\n",
    "linear_merge(['aab', 'aad', 'aaf'], ['aac', 'aae']) == ['aab', 'aac', 'aad', 'aae', 'aaf']\n",
    "```"
   ]
  },
  {
   "cell_type": "markdown",
   "metadata": {},
   "source": [
    "## Solutions"
   ]
  },
  {
   "cell_type": "markdown",
   "metadata": {},
   "source": [
    "### Exercise 1"
   ]
  },
  {
   "cell_type": "markdown",
   "metadata": {},
   "source": [
    "**Solution using recursive functions:**\n",
    "\n",
    "- Initialise merged list: The function `linear_merge_recursive` begins by initialising `merged_list` as an empty list if it's not provided. This list will be used to store the merged elements.\n",
    "- Base cases: When one of the lists is exhausted, the function stops making further recursive calls.\n",
    "    - Empty list 1: If `list1` is empty, it means there are no more elements to compare from `list1`. Hence, the remaining elements of `list2` are appended to `merged_list`, and it is returned.\n",
    "    - Empty list 2: Similarly, if `list2` is empty, the remaining elements of `list1` are appended to `merged_list`, and it is returned.\n",
    "- Recursive case – comparing and merging:\n",
    "    - The function compares the first elements of `list1` and `list2`.\n",
    "    - Smaller element in list 1: If the first element of `list1` is smaller, it is appended to `merged_list`. The function then calls itself recursively with the rest of `list1` (excluding the first element) and the entire `list2`.\n",
    "    - Smaller element in list 2: If the first element of `list2` is smaller or equal, it is appended to `merged_list`. The function then calls itself recursively with the entire `list1` and the rest of `list2` (excluding the first element).\n",
    "- Building up the merged list: In each recursive call, one element is appended to `merged_list`. As the recursion unwinds (i.e. as each call completes and returns), `merged_list` is built up in sorted order.\n",
    "- Return merged list: Once the base case is reached, the recursion starts to unwind, and the merged list is returned up the chain of function calls. The final merged list is then returned to the initial caller.\n"
   ]
  },
  {
   "cell_type": "code",
   "execution_count": null,
   "metadata": {},
   "outputs": [],
   "source": [
    "def linear_merge_recursive(list1, list2, merged_list=None):\n",
    "    if merged_list is None:\n",
    "        merged_list = []\n",
    "\n",
    "    # Base case: if one of the lists is empty, append the other list to merged_list\n",
    "    if not list1:\n",
    "        merged_list.extend(list2)\n",
    "        return merged_list\n",
    "    if not list2:\n",
    "        merged_list.extend(list1)\n",
    "        return merged_list\n",
    "\n",
    "    # Recursive case: compare the first elements and merge accordingly\n",
    "    if list1[0] < list2[0]:\n",
    "        merged_list.append(list1[0])\n",
    "        return linear_merge_recursive(list1[1:], list2, merged_list)\n",
    "    else:\n",
    "        merged_list.append(list2[0])\n",
    "        return linear_merge_recursive(list1, list2[1:], merged_list)\n"
   ]
  },
  {
   "cell_type": "markdown",
   "metadata": {},
   "source": [
    "**Solution using an iterative approach:**\n",
    "\n",
    "We could also solve this using an iterative approach. (Both solutions achieve linear time complexity.)\n",
    "\n",
    "- Initialise pointers: Two pointers (index1 and index2) are initialised to start at the beginning of list1 and list2, respectively.\n",
    "- Traverse both lists: The while loop runs as long as there are elements in both lists. It compares the elements at the current pointers of both lists.\n",
    "    - If the element in `list1` is smaller, it is appended to `merged_list`, and `index1` is incremented.\n",
    "    - If the element in `list2` is smaller or equal, it is appended to `merged_list`, and `index2` is incremented.\n",
    "- Append remaining elements: After the main loop, one or both lists might still have elements left. Two additional while loops ensure that these remaining elements are also appended to `merged_list`.\n",
    "- Return merged list: The function returns the `merged_list`, which contains all elements from both lists, sorted."
   ]
  },
  {
   "cell_type": "code",
   "execution_count": null,
   "metadata": {},
   "outputs": [],
   "source": [
    "def linear_merge(list1, list2):\n",
    "    # Initialise pointers for both lists\n",
    "    index1, index2 = 0, 0\n",
    "    merged_list = []\n",
    "\n",
    "    # Traverse through both lists\n",
    "    while index1 < len(list1) and index2 < len(list2):\n",
    "        # Compare elements of both lists\n",
    "        if list1[index1] < list2[index2]:\n",
    "            merged_list.append(list1[index1])\n",
    "            index1 += 1\n",
    "        else:\n",
    "            merged_list.append(list2[index2])\n",
    "            index2 += 1\n",
    "\n",
    "    # Append any remaining elements from list1\n",
    "    while index1 < len(list1):\n",
    "        merged_list.append(list1[index1])\n",
    "        index1 += 1\n",
    "\n",
    "    # Append any remaining elements from list2\n",
    "    while index2 < len(list2):\n",
    "        merged_list.append(list2[index2])\n",
    "        index2 += 1\n",
    "\n",
    "    return merged_list\n"
   ]
  }
 ],
 "metadata": {
  "kernelspec": {
   "display_name": "Python 3",
   "language": "python",
   "name": "python3"
  },
  "language_info": {
   "codemirror_mode": {
    "name": "ipython",
    "version": 3
   },
   "file_extension": ".py",
   "mimetype": "text/x-python",
   "name": "python",
   "nbconvert_exporter": "python",
   "pygments_lexer": "ipython3",
   "version": "3.8.8"
  }
 },
 "nbformat": 4,
 "nbformat_minor": 4
}
