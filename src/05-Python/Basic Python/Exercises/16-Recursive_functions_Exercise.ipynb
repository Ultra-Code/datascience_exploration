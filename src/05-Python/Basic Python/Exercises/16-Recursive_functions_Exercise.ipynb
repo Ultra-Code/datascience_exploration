{
 "cells": [
  {
   "cell_type": "markdown",
   "id": "cd88ea27",
   "metadata": {},
   "source": [
    "<div align=\"center\" style=\" font-size: 80%; text-align: center; margin: 0 auto\">\n",
    "<img src=\"https://raw.githubusercontent.com/Explore-AI/Pictures/master/Python-Notebook-Banners/Exercise.png\"  style=\"display: block; margin-left: auto; margin-right: auto;\";/>\n",
    "</div>"
   ]
  },
  {
   "cell_type": "markdown",
   "id": "f662d169",
   "metadata": {},
   "source": [
    "# Exercise: Recursive functions\n",
    "© ExploreAI Academy"
   ]
  },
  {
   "cell_type": "markdown",
   "id": "26af890c",
   "metadata": {},
   "source": [
    "In this notebook, we demonstrate the principles and implementation of recursion in Python.\n",
    "\n"
   ]
  },
  {
   "cell_type": "markdown",
   "id": "2d230d14",
   "metadata": {
    "tags": []
   },
   "source": [
    "## Learning objectives\n",
    "\n",
    "In this train, we will learn:\n",
    "- How to write recursive functions in Python, focusing on formulating base cases and recursive steps to solve mathematical problems."
   ]
  },
  {
   "cell_type": "markdown",
   "metadata": {},
   "source": [
    "## Exercises"
   ]
  },
  {
   "cell_type": "markdown",
   "metadata": {},
   "source": [
    "### Exercise 1\n",
    "Convert the mathematical function $f(n) = a^n$ into a recursive function.\n",
    "\n",
    "In mathematics, $a^n$ denotes \"$a$ raised to the power of $n$\", which means multiplying $a$ by itself $n$ times. Your task is to create a function that takes two arguments, `a` and `n`, and calculates $a^n$ using recursion.\n",
    "\n",
    "For example:\n",
    "- If `a` is `2` and `n` is `3`, the function should return `8`, because $2^3$ = 2 x 2 x 2 = 8.\n",
    "- If `a` is `5` and `n` is `0`, the function should return `1`, since any number raised to the power of 0 is 1."
   ]
  },
  {
   "cell_type": "code",
   "execution_count": null,
   "metadata": {},
   "outputs": [],
   "source": [
    "def exponential(a, n):\n",
    "  # insert code here\n",
    "  return "
   ]
  },
  {
   "cell_type": "markdown",
   "metadata": {},
   "source": [
    "### Exercise 2\n",
    " \n",
    "Write a function that uses recursion to calculate the $n$th number in the Fibonacci sequence. The [Fibonacci sequence](https://www.mathsisfun.com/numbers/fibonacci-sequence.html) is a series of numbers where each number is the sum of the two preceding ones. The sequence goes 0, 1, 1, 2, 3, 5, 8, 13, 21, and so on.\n",
    "\n",
    "Your function should take a single argument `n` and return the `nth` Fibonacci number.\n",
    "\n",
    "For example:\n",
    "- `fibonacci(0)` should return `0`\n",
    "- `fibonacci(1)` should return `1`\n",
    "- `fibonacci(7)` should return `13`"
   ]
  },
  {
   "cell_type": "code",
   "execution_count": null,
   "metadata": {},
   "outputs": [],
   "source": [
    "def fibonacci(n):\n",
    "  # insert code here\n",
    "    return "
   ]
  },
  {
   "cell_type": "markdown",
   "metadata": {},
   "source": [
    "### Exercise 3\n",
    "\n",
    "Write a recursive function named `cumulate` that calculates the cumulative sum of all positive integers up to a given number `n`. The function should take a single integer argument `n` and return the sum of all positive integers from `1` to `n`.\n",
    "\n",
    "For example:\n",
    "- `cumulate(7)` should return `28`, as the sum of 1 + 2 + 3 + 4 + 5 + 6 + 7 equals 28.\n",
    "- `cumulate(3)` should return `6`, since 1 + 2 + 3 equals 6.\n",
    "- `cumulate(1)` should return `1`, as there's only one number to sum.\n",
    "\n",
    "Your function should handle cases where n is a positive integer."
   ]
  },
  {
   "cell_type": "code",
   "execution_count": null,
   "metadata": {},
   "outputs": [],
   "source": [
    "def cumulate(n): \n",
    "  # insert code here\n",
    "    return"
   ]
  },
  {
   "cell_type": "markdown",
   "id": "555dea0d",
   "metadata": {},
   "source": [
    "## Solutions"
   ]
  },
  {
   "cell_type": "markdown",
   "id": "9ff8f391",
   "metadata": {},
   "source": [
    "### Exercise 1\n",
    "\n",
    "- Base case: When `n` is `0`, return `1`, because any number raised to the power of 0 is 1.\n",
    "- Recursive case: Otherwise, return `a` multiplied by `power(a, n-1)`, reducing the problem in each step."
   ]
  },
  {
   "cell_type": "code",
   "execution_count": null,
   "id": "ad52ad95",
   "metadata": {},
   "outputs": [],
   "source": [
    "def power(a, n):\n",
    "    \n",
    "    # Base case: any number to the power of 0 is 1\n",
    "    if n == 0:\n",
    "        return 1\n",
    "    \n",
    "    # Recursive case: a^n = a * a^(n-1)\n",
    "    else:\n",
    "        return a * power(a, n - 1)\n",
    "\n",
    "# Example usages\n",
    "print(power(2, 3))  # Should print 8\n",
    "print(power(5, 0))  # Should print 1\n"
   ]
  },
  {
   "cell_type": "markdown",
   "id": "a10363b6",
   "metadata": {},
   "source": [
    "### Exercise 2\n",
    "\n",
    "- Base case 1 (`if n == 0`): In the Fibonacci sequence, the first number ($0th$ position) is defined as `0`. Therefore, when the function is asked for the $0th$ number in the sequence, it returns `0` without further recursion.\n",
    "- Base case 2 (`elif n == 1`): The second number ($1st$ position) in the Fibonacci sequence is defined as `1`. When the function is called with `n` equal to `1`, it returns `1`. This is another stopping condition that prevents further recursion.\n",
    "- Recursive case: Each number (from the $2nd$ number onwards) is the sum of the two preceding numbers. The function continues to call itself recursively, breaking down the problem into smaller sub-problems, until it reaches one of the base cases.\n"
   ]
  },
  {
   "cell_type": "code",
   "execution_count": null,
   "id": "09386d51",
   "metadata": {},
   "outputs": [],
   "source": [
    "def fibonacci(n):\n",
    "    # Base case: The first number (0th) in the Fibonacci sequence is 0\n",
    "    if n == 0:\n",
    "        return 0\n",
    "    # The second number (1st) in the Fibonacci sequence is 1\n",
    "    elif n == 1:\n",
    "        return 1\n",
    "    # Recursive case: Sum of the two preceding numbers\n",
    "    else:\n",
    "        return fibonacci(n - 1) + fibonacci(n - 2)\n",
    "\n",
    "# Example usages\n",
    "print(fibonacci(0))  # Should print 0\n",
    "print(fibonacci(1))  # Should print 1\n",
    "print(fibonacci(5))  # Should print 5"
   ]
  },
  {
   "cell_type": "markdown",
   "metadata": {},
   "source": [
    "### Exercise 3\n",
    "\n",
    "- Base case: When `n` is `1`, the function returns `1`. This is because the sum of all positive integers up to `1` is simply `1`.\n",
    "- Recursive case: For values of `n` greater than `1`, the function returns `n` plus the result of cumulate`(n - 1)`. This effectively adds the current number `n` to the sum of all numbers up to `n - 1`, calculated recursively."
   ]
  },
  {
   "cell_type": "code",
   "execution_count": null,
   "metadata": {},
   "outputs": [],
   "source": [
    "def cumulate(n):\n",
    "    # Base case: If n is 1, return 1 as there's only one number to sum\n",
    "    if n == 1:\n",
    "        return 1\n",
    "    # Recursive case: Sum of current number n and the cumulative sum up to n-1\n",
    "    else:\n",
    "        return n + cumulate(n - 1)\n",
    "\n",
    "# Example usages\n",
    "print(cumulate(7))  # Should return 28\n",
    "print(cumulate(3))  # Should return 6\n",
    "print(cumulate(1))  # Should return 1\n"
   ]
  },
  {
   "cell_type": "markdown",
   "id": "26fd094b-0fee-46f1-a4b8-73766813c42b",
   "metadata": {
    "tags": []
   },
   "source": [
    "#  \n",
    "\n",
    "<div align=\"center\" style=\" font-size: 80%; text-align: center; margin: 0 auto\">\n",
    "<img src=\"https://raw.githubusercontent.com/Explore-AI/Pictures/master/ExploreAI_logos/EAI_Blue_Dark.png\"  style=\"width:200px\";/>\n",
    "</div>"
   ]
  }
 ],
 "metadata": {
  "kernelspec": {
   "display_name": "Python 3 (ipykernel)",
   "language": "python",
   "name": "python3"
  },
  "language_info": {
   "codemirror_mode": {
    "name": "ipython",
    "version": 3
   },
   "file_extension": ".py",
   "mimetype": "text/x-python",
   "name": "python",
   "nbconvert_exporter": "python",
   "pygments_lexer": "ipython3",
   "version": "3.11.5"
  }
 },
 "nbformat": 4,
 "nbformat_minor": 5
}
