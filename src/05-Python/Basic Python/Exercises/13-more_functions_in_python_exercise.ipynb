{
 "cells": [
  {
   "cell_type": "markdown",
   "id": "cd88ea27",
   "metadata": {},
   "source": [
    "<div align=\"center\" style=\" font-size: 80%; text-align: center; margin: 0 auto\">\n",
    "<img src=\"https://raw.githubusercontent.com/Explore-AI/Pictures/master/Python-Notebook-Banners/Exercise.png\"  style=\"display: block; margin-left: auto; margin-right: auto;\";/>\n",
    "</div>"
   ]
  },
  {
   "cell_type": "markdown",
   "id": "f662d169",
   "metadata": {},
   "source": [
    "# Exercise: More functions in Python \n",
    "© ExploreAI Academy"
   ]
  },
  {
   "cell_type": "markdown",
   "id": "26af890c",
   "metadata": {},
   "source": [
    "In this exercise, we will reinforce our knowledge of built-in and user-defined Python functions, including parameter handling and return values. The practical exercises are designed to enhance our problem-solving skills, preparing us for real-world programming and solidifying our ability to wield functions as powerful tools in our Python programming toolkit."
   ]
  },
  {
   "cell_type": "markdown",
   "id": "2d230d14",
   "metadata": {
    "tags": []
   },
   "source": [
    "## Learning objectives\n",
    "\n",
    "By the end of this lesson, you should be able to:\n",
    "\n",
    "* Apply the concepts discussed in this lesson and previous lessons to solve various coding problems."
   ]
  },
  {
   "cell_type": "markdown",
   "id": "de45a481",
   "metadata": {},
   "source": [
    "## Exercises\n",
    "\n",
    "**Note:** The initial code for the following functions is supplied as an outline for the required parameters."
   ]
  },
  {
   "cell_type": "markdown",
   "id": "5a0b7683",
   "metadata": {
    "tags": []
   },
   "source": [
    "### Exercise 1\n",
    "\n",
    "Our task is to analyse the overall carbon impact considering deforestation, tree planting, and carbon offset. Implement the `analyse_carbon_impact` function, which takes **lists** of **deforested areas** and **planted trees**, the **carbon emission factor** and an **offset per tree** as parameters. The function should return one of three categories: `Positive`, `Neutral`, or `Negative`, representing the overall carbon impact."
   ]
  },
  {
   "cell_type": "markdown",
   "id": "e3983e2a",
   "metadata": {},
   "source": [
    "Guidance:\n",
    "* Calculate the total emission by summing the product of each deforested area and the carbon emission factor.\n",
    "* Calculate the total offset by summing the product of each planted tree and the carbon offset per tree.\n",
    "* Compute the overall impact by subtracting the total offset from the total emission.\n",
    "* Use conditional statements to categorise the overall impact into `Positive`, `Neutral`, or `Negative` based on the following criteria:\n",
    "\n",
    "    * If total offset >= total emission, categorise as `Positive`.\n",
    "    * If total offset == total emission, categorise as `Neutral`.\n",
    "    * If total offset < total emission, categorise as `Negative`.<br><br>\n",
    "* Return the categorised impact."
   ]
  },
  {
   "cell_type": "code",
   "execution_count": null,
   "id": "c2ee76ec",
   "metadata": {},
   "outputs": [],
   "source": [
    "def analyse_carbon_impact(deforested_areas, planted_trees, carbon_emission_factor, carbon_offset_per_tree):\n",
    "    \"\"\"\n",
    "    Calculate and categorise the overall carbon impact, considering deforestation, tree planting, and offset.\n",
    "\n",
    "    Parameters:\n",
    "    - deforested_areas (list): A list of deforested areas in hectares for each region.\n",
    "    - planted_trees (list): A list of trees planted in each region.\n",
    "    - carbon_emission_factor (float): Carbon emission factor in tons of CO2 per hectare.\n",
    "    - carbon_offset_per_tree (float): Carbon offset per tree in tons of CO2.\n",
    "\n",
    "    Returns:\n",
    "    - str: 'Positive', 'Neutral', or 'Negative' based on the overall carbon impact.\n",
    "    \"\"\"\n",
    "    # insert code here\n",
    "    "
   ]
  },
  {
   "cell_type": "markdown",
   "id": "c26f3132",
   "metadata": {},
   "source": [
    "Assuming the following data, what category would the carbon impact fall under?\n",
    "\n",
    "* Deforested areas = [10, 15, 8, 12, 20]\n",
    "* Planted trees = [30, 40, 25, 35, 50]\n",
    "* Carbon emission factor = 30\n",
    "* Carbon offset per tree = 5"
   ]
  },
  {
   "cell_type": "code",
   "execution_count": null,
   "id": "9e745de8",
   "metadata": {},
   "outputs": [],
   "source": [
    "# insert code here\n"
   ]
  },
  {
   "cell_type": "markdown",
   "id": "dc9b7dc6",
   "metadata": {},
   "source": [
    "### Exercise 2\n",
    "\n",
    "We are assigned the task of projecting the future number of planted trees based on an initial planting, an annual growth rate, and the number of years for projection. Implement the `project_future_tree_planting` function, which takes the **initial number of planted trees**, the **annual growth rate**, and the **number of projection years** as parameters. The function should return a list representing the projected tree planting for each year."
   ]
  },
  {
   "cell_type": "markdown",
   "id": "4af0628b",
   "metadata": {},
   "source": [
    "Guidance:\n",
    "\n",
    "* Use a list comprehension to calculate the projected planting for each year based on the **initial planting**, **annual growth rate**, and **projection years**.\n",
    "* The formula for projection is: `initial_planted_trees * (1 + annual_growth_rate) ** year`.\n",
    "* Return the list of projected tree planting."
   ]
  },
  {
   "cell_type": "code",
   "execution_count": null,
   "id": "ae48fab0",
   "metadata": {},
   "outputs": [],
   "source": [
    "def project_future_tree_planting(initial_planted_trees, annual_growth_rate, projection_years):\n",
    "    \"\"\"\n",
    "    Project the future number of planted trees for each year (starting at 1) based on \n",
    "    the initial planting and growth rate.\n",
    "\n",
    "    Parameters:\n",
    "    - initial_planted_trees (int): Initial number of trees planted.\n",
    "    - annual_growth_rate (float): Annual growth rate of planted trees.\n",
    "    - projection_years (int): Number of years for projection.\n",
    "\n",
    "    Returns:\n",
    "    - list: List of projected tree planting for each year.\n",
    "    \"\"\"\n",
    "    \n",
    "    # insert code here"
   ]
  },
  {
   "cell_type": "markdown",
   "id": "319b788f",
   "metadata": {},
   "source": [
    "Assuming the following data, calculate the projected number of planted trees for each year using the function above.\n",
    "\n",
    "* Initial number of trees planted = 100\n",
    "* Growth rate per year = 0.05\n",
    "* projection years = 10 "
   ]
  },
  {
   "cell_type": "code",
   "execution_count": null,
   "id": "946ff358",
   "metadata": {},
   "outputs": [],
   "source": [
    "# insert code here"
   ]
  },
  {
   "cell_type": "markdown",
   "id": "66128eea",
   "metadata": {},
   "source": [
    "### Exercise 3\n",
    "\n",
    "We are working on a project that requires calculating dynamic carbon offsets for different regions. Implement the `calculate_region_offset` function, which takes the name of a region and a variable number of additional factors as keyword arguments using `**kwargs`. The function should dynamically calculate the specified region's carbon offset based on the provided factors by averaging their values. Return a tuple containing the region name and the calculated carbon offset."
   ]
  },
  {
   "cell_type": "markdown",
   "id": "3ccbc98b",
   "metadata": {},
   "source": [
    "Guidance:\n",
    "* Use `**kwargs` in the function signature to accept a variable number of keyword arguments for the factors.\n",
    "* Utilise the provided factors to calculate the carbon offset by calculating the average of their values.\n",
    "* Return a tuple containing the region name and the calculated carbon offset.\n"
   ]
  },
  {
   "cell_type": "code",
   "execution_count": null,
   "id": "234cc333",
   "metadata": {},
   "outputs": [],
   "source": [
    "def calculate_region_offset_with_kwargs(region_name, **factors):\n",
    "    \"\"\"\n",
    "    Calculate dynamic carbon offset for a specified region based on various factors provided as keyword arguments.\n",
    "\n",
    "    Parameters:\n",
    "    - region_name (str): Name of the region.\n",
    "    - **factors: Variable number of keyword arguments.\n",
    "\n",
    "    Returns:\n",
    "    - tuple: Region name and calculated dynamic carbon offset.\n",
    "    \"\"\"\n",
    "\n",
    "    # insert code here"
   ]
  },
  {
   "cell_type": "markdown",
   "id": "297d8c46",
   "metadata": {},
   "source": [
    "Calculate the dynamic carbon offset for the region using the region and parameters listed below:\n",
    "\n",
    "* Region name = \"Amazon\"\n",
    "* Deforested area = 30\n",
    "* Planted trees = 40\n",
    "* Carbon emission factor = 10\n"
   ]
  },
  {
   "cell_type": "code",
   "execution_count": null,
   "id": "60bca9b0",
   "metadata": {},
   "outputs": [],
   "source": [
    "# insert code here"
   ]
  },
  {
   "cell_type": "markdown",
   "id": "555dea0d",
   "metadata": {},
   "source": [
    "## Solutions"
   ]
  },
  {
   "cell_type": "markdown",
   "id": "9ff8f391",
   "metadata": {},
   "source": [
    "### Exercise 1\n",
    "\n"
   ]
  },
  {
   "cell_type": "code",
   "execution_count": null,
   "id": "ad52ad95",
   "metadata": {},
   "outputs": [],
   "source": [
    "# option 1\n",
    "def analyse_carbon_impact(deforested_areas, planted_trees, carbon_emission_factor, carbon_offset_per_tree):\n",
    "    \"\"\"\n",
    "    Analyse the overall carbon impact, considering deforestation, tree planting, and offset.\n",
    "\n",
    "    Parameters:\n",
    "    - deforested_areas (list): A list of deforested areas in hectares for each region.\n",
    "    - planted_trees (list): A list of trees planted in each region.\n",
    "    - carbon_emission_factor (float): Carbon emission factor in tons of CO2 per hectare.\n",
    "    - carbon_offset_per_tree (float): Carbon offset per tree in tons of CO2.\n",
    "\n",
    "    Returns:\n",
    "    - str: 'Positive', 'Neutral', or 'Negative' based on the overall carbon impact.\n",
    "    \"\"\"\n",
    "    total_emission = sum(area * carbon_emission_factor for area in deforested_areas)\n",
    "    total_offset = sum(trees * carbon_offset_per_tree for trees in planted_trees)\n",
    "\n",
    "    overall_impact = total_emission - total_offset\n",
    "\n",
    "    if overall_impact < 0:\n",
    "        return 'Positive'\n",
    "    elif overall_impact == 0:\n",
    "        return 'Neutral'\n",
    "    else:\n",
    "        return 'Negative'\n"
   ]
  },
  {
   "cell_type": "code",
   "execution_count": null,
   "id": "749675cd",
   "metadata": {},
   "outputs": [],
   "source": [
    "# Calculate what category  the carbon impact would fall under\n",
    "deforested_areas_data = [10, 15, 8, 12, 20]\n",
    "planted_trees_data = [30, 40, 25, 35, 50]\n",
    "carbon_emission_factor = 30\n",
    "carbon_offset_per_tree = 5\n",
    "\n",
    "impact_result = analyse_carbon_impact(deforested_areas_data, planted_trees_data, carbon_emission_factor, carbon_offset_per_tree)\n",
    "impact_result"
   ]
  },
  {
   "cell_type": "markdown",
   "id": "1fbdb88a",
   "metadata": {},
   "source": [
    "The `analyse_carbon_impact` function assesses the overall carbon impact, taking into account deforestation, tree planting, and carbon offset. It calculates the total emission and total offset, computes the overall impact, and categorises it into `Positive`, `Neutral`, or `Negative`. The function then uses conditional statements for the analysis."
   ]
  },
  {
   "cell_type": "markdown",
   "id": "bf1019c5",
   "metadata": {},
   "source": [
    "Another way to solve this problem would be to make use of a `sum` function on the input lists, thereby negating the need for loops. "
   ]
  },
  {
   "cell_type": "code",
   "execution_count": null,
   "id": "37703ae1",
   "metadata": {},
   "outputs": [],
   "source": [
    "# option 2\n",
    "def analyse_carbon_impact(deforested_areas, planted_trees, carbon_emission_factor, carbon_offset_per_tree):\n",
    "    \"\"\"\n",
    "    Analyse the overall carbon impact, considering deforestation, tree planting, and offset.\n",
    "\n",
    "    Parameters:\n",
    "    - deforested_areas (list): A list of deforested areas in hectares for each region.\n",
    "    - planted_trees (list): A list of trees planted in each region.\n",
    "    - carbon_emission_factor (float): Carbon emission factor in tons of CO2 per hectare.\n",
    "    - carbon_offset_per_tree (float): Carbon offset per tree in tons of CO2.\n",
    "\n",
    "    Returns:\n",
    "    - str: 'Positive', 'Neutral', or 'Negative' based on the overall carbon impact.\n",
    "    \"\"\"\n",
    "    total_emission = sum(deforested_areas)*carbon_emission_factor\n",
    "    total_offset = sum(planted_trees)*carbon_offset_per_tree\n",
    "\n",
    "    overall_impact = total_emission - total_offset\n",
    "\n",
    "    if overall_impact < 0:\n",
    "        return 'Positive'\n",
    "    elif overall_impact == 0:\n",
    "        return 'Neutral'\n",
    "    else:\n",
    "        return 'Negative'"
   ]
  },
  {
   "cell_type": "code",
   "execution_count": null,
   "id": "efd4b48c",
   "metadata": {},
   "outputs": [],
   "source": [
    "# Calculate what category  the carbon impact would fall under\n",
    "deforested_areas_data = [10, 15, 8, 12, 20]\n",
    "planted_trees_data = [30, 40, 25, 35, 50]\n",
    "carbon_emission_factor = 30\n",
    "carbon_offset_per_tree = 5\n",
    "\n",
    "impact_result = analyse_carbon_impact(deforested_areas_data, planted_trees_data, carbon_emission_factor, carbon_offset_per_tree)\n",
    "impact_result"
   ]
  },
  {
   "cell_type": "markdown",
   "id": "a10363b6",
   "metadata": {},
   "source": [
    "### Exercise 2\n"
   ]
  },
  {
   "cell_type": "code",
   "execution_count": null,
   "id": "09386d51",
   "metadata": {},
   "outputs": [],
   "source": [
    "def project_future_tree_planting(initial_planted_trees, annual_growth_rate, projection_years):\n",
    "    \"\"\"\n",
    "    Project the future number of planted trees for each year (starting at 1) based on \n",
    "    the initial planting and growth rate.\n",
    "\n",
    "    Parameters:\n",
    "    - initial_planted_trees (int): Initial number of trees planted.\n",
    "    - annual_growth_rate (float): Annual growth rate of planted trees.\n",
    "    - projection_years (int): Number of years for projection.\n",
    "\n",
    "    Returns:\n",
    "    - list: List of projected tree planting for each year.\n",
    "    \"\"\"\n",
    "    projected_planting = [initial_planted_trees * (1 + annual_growth_rate) ** year for year in range(1, projection_years+1)]\n",
    "    return projected_planting"
   ]
  },
  {
   "cell_type": "markdown",
   "id": "ff325262",
   "metadata": {},
   "source": [
    "The `project_future_tree_planting` function projects the future number of planted trees based on the initial planting, annual growth rate, and projection years. It uses a list comprehension to calculate the projected planting for each year and returns the result. The function incorporates variables, a loop, and a simple formula for projection."
   ]
  },
  {
   "cell_type": "code",
   "execution_count": null,
   "id": "a025b3b9",
   "metadata": {},
   "outputs": [],
   "source": [
    "# Calculate the projected number of planted trees for each year\n",
    "initial_planted_trees = 100\n",
    "growth_rate_per_year = 0.05\n",
    "projection_years = 10\n",
    "projection_result = project_future_tree_planting(initial_planted_trees, growth_rate_per_year, projection_years)\n",
    "projection_result"
   ]
  },
  {
   "cell_type": "markdown",
   "id": "e9956efe",
   "metadata": {
    "tags": []
   },
   "source": [
    "### Exercise 3"
   ]
  },
  {
   "cell_type": "code",
   "execution_count": null,
   "id": "27c2ae60",
   "metadata": {},
   "outputs": [],
   "source": [
    "def calculate_region_offset_with_kwargs(region_name, **factors):\n",
    "    \"\"\"\n",
    "    Calculate dynamic carbon offset for a specified region based on various factors provided as keyword arguments.\n",
    "\n",
    "    Parameters:\n",
    "    - region_name (str): Name of the region.\n",
    "    - **factors: Variable number of keyword arguments.\n",
    "\n",
    "    Returns:\n",
    "    - tuple: Region name and calculated dynamic carbon offset.\n",
    "    \"\"\"\n",
    "    total_offset = sum(factors.values())/len(factors)\n",
    "    return region_name, total_offset\n"
   ]
  },
  {
   "cell_type": "markdown",
   "id": "f24bcdb3",
   "metadata": {},
   "source": [
    "The `calculate_region_offset` function takes the name of a region and a variable number of keyword arguments using `**kwargs`. It calculates the total carbon offset for the specified region by averaging the values of the additional factors provided in `**factors`. The result is returned as a tuple containing the region name and the calculated carbon offset."
   ]
  },
  {
   "cell_type": "code",
   "execution_count": null,
   "id": "c65573d3",
   "metadata": {},
   "outputs": [],
   "source": [
    "# Calculate the dynamic carbon offset for a specified region\n",
    "calculate_region_offset_with_kwargs(\"Amazon\", deforested_area=30, planted_trees=40, carbon_emission_factor=10)"
   ]
  },
  {
   "cell_type": "markdown",
   "id": "26fd094b-0fee-46f1-a4b8-73766813c42b",
   "metadata": {
    "tags": []
   },
   "source": [
    "#  \n",
    "\n",
    "<div align=\"center\" style=\" font-size: 80%; text-align: center; margin: 0 auto\">\n",
    "<img src=\"https://raw.githubusercontent.com/Explore-AI/Pictures/master/ExploreAI_logos/EAI_Blue_Dark.png\"  style=\"width:200px\";/>\n",
    "</div>"
   ]
  }
 ],
 "metadata": {
  "kernelspec": {
   "display_name": "Python 3 (ipykernel)",
   "language": "python",
   "name": "python3"
  },
  "language_info": {
   "codemirror_mode": {
    "name": "ipython",
    "version": 3
   },
   "file_extension": ".py",
   "mimetype": "text/x-python",
   "name": "python",
   "nbconvert_exporter": "python",
   "pygments_lexer": "ipython3",
   "version": "3.11.5"
  }
 },
 "nbformat": 4,
 "nbformat_minor": 5
}
