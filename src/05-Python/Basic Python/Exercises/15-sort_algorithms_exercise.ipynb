{
 "cells": [
  {
   "cell_type": "markdown",
   "metadata": {
    "id": "Ee-v8I_P8rfp"
   },
   "source": [
    "<div align=\"center\" style=\" font-size: 80%; text-align: center; margin: 0 auto\">\n",
    "<img src=\"https://raw.githubusercontent.com/Explore-AI/Pictures/master/Python-Notebook-Banners/Exercise.png\"  style=\"display: block; margin-left: auto; margin-right: auto;\";/>\n",
    "</div>\n",
    "\n",
    "# Exercise: Sort algorithms\n",
    "© ExploreAI Academy\n",
    "\n",
    "In this exercise, we will reinforce our understanding of sort algorithms through a practical exercise.\n"
   ]
  },
  {
   "cell_type": "markdown",
   "metadata": {
    "id": "ITqrvAqq8xSC"
   },
   "source": [
    "## Learning objectives\n",
    "\n",
    "By the end of this train, you should be able to:\n",
    "* Implement a bubble sort algorithm.\n"
   ]
  },
  {
   "cell_type": "markdown",
   "metadata": {},
   "source": [
    "## Exercises"
   ]
  },
  {
   "cell_type": "markdown",
   "metadata": {},
   "source": [
    "The standard bubble sort algorithm does a complete sweep of the list in each iteration, leading to continued iteration even when the elements are already sorted. This is an inefficiency that can be eliminated, thereby shortening run-time."
   ]
  },
  {
   "cell_type": "markdown",
   "metadata": {},
   "source": [
    "### Exercise 1.1\n",
    "Write a bubble sort function that includes a flag that will allow the function to terminate when there is nothing left to sort.\n",
    "\n",
    "> Use the pseudocode below to guide your implementation."
   ]
  },
  {
   "cell_type": "markdown",
   "metadata": {},
   "source": [
    "```python\n",
    "# Pseudocode\n",
    "procedure bubble_sort( input A --> which is a list of sortable items )\n",
    "    n = length(A)\n",
    "    repeat \n",
    "        swapped = false\n",
    "        for i = 1 to n-1 inclusive do\n",
    "            # if this pair is out of order\n",
    "            if A[i-1] > A[i] then\n",
    "                # swap them and remember something changed\n",
    "                swap( A[i-1], A[i] )\n",
    "                swapped = true\n",
    "            end if\n",
    "        end for\n",
    "    until not swapped\n",
    "end procedure\n",
    "```"
   ]
  },
  {
   "cell_type": "code",
   "execution_count": null,
   "metadata": {},
   "outputs": [],
   "source": [
    "# Your solution here..."
   ]
  },
  {
   "cell_type": "markdown",
   "metadata": {},
   "source": [
    "### Exercise 1.2 \n",
    "Given the list below, use the `bubble_sort` function you have created above to return a sorted version of the list as follows: \n",
    "\n",
    "`my_list = [64, 34, 25, 12, 22, 11, 90]`\n",
    "\n",
    "**Output:** `Sorted list: [11, 12, 22, 25, 34, 64, 90]`"
   ]
  },
  {
   "cell_type": "code",
   "execution_count": 5,
   "metadata": {},
   "outputs": [],
   "source": [
    "# Your solution here..."
   ]
  },
  {
   "cell_type": "markdown",
   "metadata": {},
   "source": [
    "## Solutions"
   ]
  },
  {
   "cell_type": "markdown",
   "metadata": {},
   "source": [
    "### Exercise 1.1"
   ]
  },
  {
   "cell_type": "code",
   "execution_count": 4,
   "metadata": {},
   "outputs": [],
   "source": [
    "def bubble_sort(items):\n",
    "    n = len(items)\n",
    "    while True:\n",
    "        swapped = False\n",
    "        for i in range(1, n):\n",
    "            if items[i - 1] > items[i]:\n",
    "                items[i - 1], items[i] = items[i], items[i - 1]\n",
    "                swapped = True\n",
    "        if not swapped:\n",
    "            break"
   ]
  },
  {
   "cell_type": "markdown",
   "metadata": {},
   "source": [
    "- `def bubble_sort(items)`: We define a function named `bubble_sort` that takes a list `items` as its parameter.\n",
    "- `n = len(items)`: We store the number of elements in the list `items` in the variable `n`.\n",
    "- `while True`: This is the outer loop. It is an  infinite loop which will continue until the break statement is encountered.\n",
    "- `swapped = False`: We initialise `swapped` as `False`. This flag is used to check whether any swaps were made in the current iteration.\n",
    "- `for i in range(1, n)`: This is the inner loop which iterates over the elements of the list, starting from the second element (`index 1`) up to the last element (`index n-1`).\n",
    "- `if items[i - 1] > items[i]`: This condition checks whether the current value and the one before it are in the correct order. If not, this condition evaluates to `True`, and a swap is needed.\n",
    "- `items[i - 1], items[i] = items[i], items[i - 1]`: If the above condition evaluated to `True`, then this is where the swap is done.\n",
    "- `swapped = True`: The flag `swapped` is set to `True` to indicate that a swap has occurred.\n",
    "- `if not swapped`: After a full pass through the list, this condition checks whether any swaps were made. If no swaps occurred, it means the list is sorted and the break statement is executed to exit the loop."
   ]
  },
  {
   "cell_type": "markdown",
   "metadata": {},
   "source": [
    "### Exercise 1.2"
   ]
  },
  {
   "cell_type": "code",
   "execution_count": null,
   "metadata": {},
   "outputs": [],
   "source": [
    "my_list = [64, 34, 25, 12, 22, 11, 90]\n",
    "bubble_sort(my_list)\n",
    "print(\"Sorted list:\", my_list)"
   ]
  },
  {
   "cell_type": "markdown",
   "metadata": {},
   "source": [
    "- In this solution, we initialise our list as `my_list`. \n",
    "- We then pass `my_list` to the `bubble_sort` function.\n",
    "- The sorted list is then printed."
   ]
  },
  {
   "cell_type": "markdown",
   "metadata": {},
   "source": [
    "<div align=\"center\" style=\" font-size: 80%; text-align: center; margin: 0 auto\">\n",
    "<img src=\"https://raw.githubusercontent.com/Explore-AI/Pictures/master/ExploreAI_logos/EAI_Blue_Dark.png\"  style=\"width:200px\";/>\n",
    "</div>"
   ]
  }
 ],
 "metadata": {
  "colab": {
   "authorship_tag": "ABX9TyPZFCZhaikX+N2/Bg7W6SY+",
   "collapsed_sections": [],
   "name": "Search_algorithms.ipynb",
   "provenance": [],
   "toc_visible": true
  },
  "interpreter": {
   "hash": "6b5ebbc2c6bde2831bc6c0426f75aca8137ccfc69d329557556ed73faee126ae"
  },
  "kernelspec": {
   "display_name": "Python 3 (ipykernel)",
   "language": "python",
   "name": "python3"
  },
  "language_info": {
   "codemirror_mode": {
    "name": "ipython",
    "version": 3
   },
   "file_extension": ".py",
   "mimetype": "text/x-python",
   "name": "python",
   "nbconvert_exporter": "python",
   "pygments_lexer": "ipython3",
   "version": "3.11.4"
  }
 },
 "nbformat": 4,
 "nbformat_minor": 2
}
