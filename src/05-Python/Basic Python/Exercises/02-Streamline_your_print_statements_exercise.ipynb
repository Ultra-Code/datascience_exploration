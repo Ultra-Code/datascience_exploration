{
 "cells": [
  {
   "cell_type": "markdown",
   "id": "4e65875e",
   "metadata": {},
   "source": [
    "<div align=\"center\" style=\" font-size: 80%; text-align: center; margin: 0 auto\">\n",
    "<img src=\"https://raw.githubusercontent.com/Explore-AI/Pictures/master/Python-Notebook-Banners/Exercise.png\"  style=\"display: block; margin-left: auto; margin-right: auto;\";/>\n",
    "</div>"
   ]
  },
  {
   "cell_type": "markdown",
   "id": "f662d169",
   "metadata": {},
   "source": [
    "# Exercise: Streamline your print statements\n",
    "© ExploreAI Academy"
   ]
  },
  {
   "cell_type": "markdown",
   "id": "26af890c",
   "metadata": {},
   "source": [
    "In this lesson, we'll explore the importance of clear and informative print statements in Python, practising three string formatting methods – concatenation, `format()`, and formatted string literals (f-strings)."
   ]
  },
  {
   "cell_type": "markdown",
   "id": "2d230d14",
   "metadata": {
    "tags": []
   },
   "source": [
    "## Learning objectives\n",
    "\n",
    "By the end of this train, you should be able to:\n",
    "- Understand how well-structured print statements improve code readability and collaboration among developers. \n",
    "- Differentiate between concatenation, the `format()` method, and f-strings, and how to apply them to format and print statements."
   ]
  },
  {
   "cell_type": "markdown",
   "id": "5a6a5a85",
   "metadata": {},
   "source": [
    "## Outline\n",
    "1. [Introduction](#introduction)\n",
    "2. [Exercises](#exercises)\n",
    "   * [Exercise 1: Concatenation](#exercise-1-concatenation)\n",
    "   * [Exercise 2: `format()`](#exercise-2-format)\n",
    "   * [Exercise 3: f-string](#exercise-3-f-string)\n",
    "3. [Solutions](#solutions)\n",
    "   * [Exercise 1: Concatenation](#exercise-1-concatenation)\n",
    "   * [Exercise 2: `format()`](#exercise-2-format)\n",
    "   * [Exercise 3: f-string](#exercise-3-f-string)"
   ]
  },
  {
   "cell_type": "markdown",
   "id": "9d1fb7cf",
   "metadata": {},
   "source": [
    "## Introduction\n",
    "\n",
    "Print statements play a crucial role in conveying information and messages within Python code. A well-organised and informative print statement not only communicates essential details but also enhances the overall quality of code. \n",
    "\n",
    "Importance and benefits:\n",
    "\n",
    "1. **Improved readability**: Well-structured print statements make code more readable, allowing developers to quickly understand the purpose of each print statement.\n",
    "2. **Enhanced debugging**: Informative print statements facilitate debugging by providing insight into the state of variables or the flow of program execution at specific points.\n",
    "3. **Facilitates collaboration**: Clear print statements make it easier for team members to comprehend and contribute to the codebase, promoting collaboration among developers.\n",
    "4. **Documentation aid**: Print statements serve as a form of documentation, offering insights into the program's behaviour and helping developers understand the code without delving into details.\n",
    "5. **Communicate with users**: Messages displayed through print statements offer users insights into the program's progress and results, making the application more user-friendly."
   ]
  },
  {
   "cell_type": "markdown",
   "id": "86d6bfae",
   "metadata": {},
   "source": [
    "The three common methods used for string formatting in Python are:\n",
    "* Concatenation.\n",
    "* The `format()` method.\n",
    "* F-strings."
   ]
  },
  {
   "cell_type": "markdown",
   "id": "df30c7b0",
   "metadata": {},
   "source": [
    "## Exercises"
   ]
  },
  {
   "cell_type": "markdown",
   "id": "5a0b7683",
   "metadata": {
    "tags": []
   },
   "source": [
    "### Exercise 1: Concatenation\n",
    "\n",
    "Given the name of a forest (`forest_name`), the area covered by the forest (`area`), and the type of forest (`forest_type`),\n",
    "use concatenation to print a statement in the format: \"The Mau Forest is the largest closed‐canopy montane forest ecosystem in East Africa, covering 400000 hectares.\"\n",
    "\n",
    "**HINT**: Use the `+` operator to concatenate a variable and string within a print statement."
   ]
  },
  {
   "cell_type": "code",
   "execution_count": null,
   "id": "0adb8dda",
   "metadata": {},
   "outputs": [],
   "source": [
    "# Given the following variables\n",
    "forest_name = \"Mau Forest\"\n",
    "area = 400000\n",
    "forest_type = \"closed‐canopy montane\"\n",
    "\n",
    "# Insert code here"
   ]
  },
  {
   "cell_type": "markdown",
   "id": "df2d220d",
   "metadata": {},
   "source": [
    "### Exercise 2: `format()`\n",
    "\n",
    "#### Introduction\n",
    "\n",
    "The `format()` method is a built-in string method in Python that allows us to format strings by inserting values into placeholders. The general syntax is:\n",
    "\n",
    "\n",
    "`formatted_string = \"This is a string where we display two values: {} and {}.\".format(value1, value2)`\n",
    "\n",
    "In this syntax, `{}` are placeholders that will be replaced by the values passed to the `format()` method. The variables are inserted into the string in the order that they are listed in the `format()` method.\n",
    "\n",
    "The `format()` function is particularly handy when we want to create dynamic strings with variable content. It helps improve code readability and maintainability by separating the string structure from the actual values. Strings can be saved in variables and printed later, or they can be created in the `print()` statement itself.\n",
    "\n",
    "#### Task\n",
    "\n",
    "Given the annual growth rate of trees (`growth_rate`) and the region of the forest (`forest_region`), use the `format()` method to print a statement in the format: \"The annual growth rate of trees in the Amazon forest is 2.5%.\""
   ]
  },
  {
   "cell_type": "code",
   "execution_count": null,
   "id": "66a6827a",
   "metadata": {},
   "outputs": [],
   "source": [
    "# Given the following variables\n",
    "growth_rate = 2.5\n",
    "forest_region = \"Amazon\"\n",
    "\n",
    "# Insert code here"
   ]
  },
  {
   "cell_type": "markdown",
   "id": "9199e825",
   "metadata": {},
   "source": [
    "### Exercise 3: F-string\n",
    "\n",
    "#### Introduction\n",
    "\n",
    "F-strings, or formatted string literals, provide a concise and convenient way to embed expressions inside string literals. Introduced in Python 3.6, f-strings make string formatting more readable and expressive.\n",
    "\n",
    "An f-string is a string literal prefixed with `'f'` or `'F'`. It allows us to embed expressions inside curly braces `{}` within the string, and these expressions will be evaluated and formatted at runtime.\n",
    "\n",
    "`formatted_string = f\"{value1} and {value2} are displayed using an f-string.\" `\n",
    "\n",
    "A benefit of using f-strings is that the code is **easy to interpret due to the variable names being displayed in the string itself**, compared to the `format()` method where the variable names are bunched at the end of the string.\n",
    "\n",
    "#### Task\n",
    "Given the concept of sustainable forest management (`sfm_concept`) and the importance of biodiversity (`biodiversity_importance`), use an f-string to print a statement in the format: \"Sustainable Forest Management is crucial for maintaining biodiversity.\""
   ]
  },
  {
   "cell_type": "code",
   "execution_count": null,
   "id": "a1ce7344",
   "metadata": {},
   "outputs": [],
   "source": [
    "# Given the following variables\n",
    "sfm_concept = \"Sustainable Forest Management\"\n",
    "biodiversity_importance = \"maintaining biodiversity\"\n",
    "\n",
    "# Insert code here"
   ]
  },
  {
   "cell_type": "markdown",
   "id": "bb6505fa",
   "metadata": {},
   "source": [
    "## Solutions"
   ]
  },
  {
   "cell_type": "markdown",
   "id": "7cdba716",
   "metadata": {},
   "source": [
    "### Exercise 1: Concatenation"
   ]
  },
  {
   "cell_type": "code",
   "execution_count": null,
   "id": "2a96f0c3",
   "metadata": {},
   "outputs": [],
   "source": [
    "# Exercise 1 Solution:\n",
    "# Given the following variables\n",
    "forest_name = \"Mau Forest\"\n",
    "area = 400000\n",
    "forest_type = \"closed‐canopy montane\"\n",
    "\n",
    "# Use concatenation to print a statement\n",
    "print(\"The \" + forest_name + \" is the largest \" + forest_type + \" forest ecosystem in East Africa, covering \" + str(area) + \" hectares.\")"
   ]
  },
  {
   "cell_type": "markdown",
   "id": "21e6c4be",
   "metadata": {},
   "source": [
    "### Exercise 2: `format()`\n"
   ]
  },
  {
   "cell_type": "code",
   "execution_count": null,
   "id": "70036b95",
   "metadata": {},
   "outputs": [],
   "source": [
    "# Given the following variables\n",
    "growth_rate = 2.5\n",
    "forest_region = \"Amazon\"\n",
    "\n",
    "# Use the format() method to print a statement\n",
    "print(\"The annual growth rate of trees in the {} forest is {}%.\".format(forest_region, growth_rate))"
   ]
  },
  {
   "cell_type": "markdown",
   "id": "54db603a",
   "metadata": {},
   "source": [
    "### Exercise 3: F-string"
   ]
  },
  {
   "cell_type": "code",
   "execution_count": null,
   "id": "4f03bd42",
   "metadata": {},
   "outputs": [],
   "source": [
    "# Given the following variables\n",
    "sfm_concept = \"Sustainable Forest Management\"\n",
    "biodiversity_importance = \"maintaining biodiversity\"\n",
    "\n",
    "# Use f-strings to print a statement\n",
    "print(f\"{sfm_concept} is crucial for {biodiversity_importance}.\")"
   ]
  },
  {
   "cell_type": "markdown",
   "id": "da215d9c",
   "metadata": {},
   "source": [
    "Using an f-string is a fast and clean way to format strings containing variables, while simultaneously keeping the code readable. It is often considered as the preferred way to create print statements."
   ]
  },
  {
   "cell_type": "markdown",
   "id": "26fd094b-0fee-46f1-a4b8-73766813c42b",
   "metadata": {
    "tags": []
   },
   "source": [
    "#  \n",
    "\n",
    "<div align=\"center\" style=\" font-size: 80%; text-align: center; margin: 0 auto\">\n",
    "<img src=\"https://raw.githubusercontent.com/Explore-AI/Pictures/master/ExploreAI_logos/EAI_Blue_Dark.png\"  style=\"width:200px\";/>\n",
    "</div>"
   ]
  }
 ],
 "metadata": {
  "kernelspec": {
   "display_name": "Python 3 (ipykernel)",
   "language": "python",
   "name": "python3"
  },
  "language_info": {
   "codemirror_mode": {
    "name": "ipython",
    "version": 3
   },
   "file_extension": ".py",
   "mimetype": "text/x-python",
   "name": "python",
   "nbconvert_exporter": "python",
   "pygments_lexer": "ipython3",
   "version": "3.11.5"
  }
 },
 "nbformat": 4,
 "nbformat_minor": 5
}
