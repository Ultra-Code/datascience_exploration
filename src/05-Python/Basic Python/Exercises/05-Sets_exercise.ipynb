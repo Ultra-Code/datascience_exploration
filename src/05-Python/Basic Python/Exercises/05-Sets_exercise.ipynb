{
 "cells": [
  {
   "cell_type": "markdown",
   "id": "cd88ea27",
   "metadata": {},
   "source": [
    "<div align=\"center\" style=\" font-size: 80%; text-align: center; margin: 0 auto\">\n",
    "<img src=\"https://raw.githubusercontent.com/Explore-AI/Pictures/master/Python-Notebook-Banners/Exercise.png\"  style=\"display: block; margin-left: auto; margin-right: auto;\";/>\n",
    "</div>"
   ]
  },
  {
   "cell_type": "markdown",
   "id": "f662d169",
   "metadata": {},
   "source": [
    "# Exercise: Sets\n",
    "© ExploreAI Academy"
   ]
  },
  {
   "cell_type": "markdown",
   "id": "26af890c",
   "metadata": {},
   "source": [
    "In this notebook, we'll be looking at exercises involving sets and how we manipulate these data structures. \n",
    "\n"
   ]
  },
  {
   "cell_type": "markdown",
   "id": "2d230d14",
   "metadata": {
    "tags": []
   },
   "source": [
    "## Learning objectives\n",
    "\n",
    "- Convert a list to a set and explore key differences.\n",
    "- Understand the core characteristics of sets: unique elements, non-indexed values.\n",
    "- Learn how to test membership in a set."
   ]
  },
  {
   "cell_type": "markdown",
   "id": "de45a481",
   "metadata": {},
   "source": [
    "## Exercises"
   ]
  },
  {
   "cell_type": "markdown",
   "id": "5a0b7683",
   "metadata": {
    "tags": []
   },
   "source": [
    "### Exercise 1\n",
    "\n",
    "1) Our forest rehabilitation centre contains various trees. To make sure we have all the species covered, we have to determine which unique trees we have already planted.\n",
    "- Convert the provided `tree_list` to a set, `tree_set`. \n",
    "- Confirm that our new variable is a set. \n",
    "- Print the original variable, as well as our new variable. What can we notice about the order of elements? \n"
   ]
  },
  {
   "cell_type": "code",
   "execution_count": null,
   "id": "c2ee76ec",
   "metadata": {
    "scrolled": true,
    "vscode": {
     "languageId": "plaintext"
    }
   },
   "outputs": [],
   "source": [
    "# creating a list\n",
    "tree_list = ['Tamboti', 'Baobab', 'Umbrella thorn', 'Yellowwood', 'Fever Tree', 'Moringa', \n",
    "             'Marula', 'Waterpear','Baobab', 'Fountain Tree', 'Papaya Tree', 'Indian Laurel', 'Moringa']\n",
    "\n",
    "# insert your code here \n"
   ]
  },
  {
   "cell_type": "markdown",
   "id": "5119d3a6",
   "metadata": {},
   "source": [
    "<br>\n",
    "\n",
    "2. Compare the **number** of elements in `tree_list` to `tree_set`. Print the number of elements in each. "
   ]
  },
  {
   "cell_type": "code",
   "execution_count": null,
   "id": "fd136352",
   "metadata": {},
   "outputs": [],
   "source": [
    "# insert your code here \n"
   ]
  },
  {
   "cell_type": "markdown",
   "id": "dc9b7dc6",
   "metadata": {},
   "source": [
    "<br>\n",
    "\n",
    "### Exercise 2\n",
    "\n",
    "1. A conservationist recently spent two days in a national park in South Africa and was writing down tree types in a notebook. Each of the days was captured separately and we need to **create two variables** for these trees using sets: `day_1_trees` and `day_2_trees`. \n",
    "\n",
    "Day 1 captured the following tree types: <br>\n",
    "Baobab,\n",
    "Buffalo Thorn,\n",
    "Bushwillow,\n",
    "Jackalberry,\n",
    "Knob Thorn,\n",
    "Lala Palm,\n",
    "Marula Tree,\n",
    "Umbrella Thorn,\n",
    "Weeping Boer Bean,\n",
    "Sausage Tree.\n",
    "\n",
    "Day 2 captured the following tree types:<br>\n",
    "Mopane Tree,\n",
    "Bushwillow,\n",
    "Knob Thorn,\n",
    "Jackalberry,\n",
    "Nara Plant,\n",
    "Wild Date Palm,\n",
    "Natal Mahogany,\n",
    "Tamboti,\n",
    "Leadwood,\n",
    "Bushwillow.\n"
   ]
  },
  {
   "cell_type": "code",
   "execution_count": null,
   "id": "ae48fab0",
   "metadata": {
    "vscode": {
     "languageId": "plaintext"
    }
   },
   "outputs": [],
   "source": [
    "# insert your code here \n"
   ]
  },
  {
   "cell_type": "markdown",
   "id": "ed90a3e0",
   "metadata": {},
   "source": [
    "One of the benefits of using **sets** is that there are built-in methods that can be used on them. The following commands: \n",
    "- `union`\n",
    "- `intersection`\n",
    "- `difference` <br>\n",
    "are especially useful when presented with sets we'd like to compare and manipulate based on their elements. \n",
    "<br>\n",
    "\n",
    "2. Using the commands above, we have been tasked to do the following: \n",
    "- Create a set called `union_result` that combines `day_1_trees` and `day_2_trees`.\n",
    "- Create a set called `both_days` that returns trees that were seen on both day 1 and day 2, so are in both `day_1_trees` and `day_2_trees`.\n",
    "- Create a set that contains the trees that are in the `day_2_trees` set, **but not in** `day_1_trees`.\n",
    "- Create a set called `one_set_result` that contains trees found in one of these sets only.\n",
    "\n",
    "Hint: Take a look at the Python documentation if you're not sure where to start."
   ]
  },
  {
   "cell_type": "code",
   "execution_count": null,
   "id": "cfd87821",
   "metadata": {},
   "outputs": [],
   "source": [
    "# insert your code here\n"
   ]
  },
  {
   "cell_type": "markdown",
   "id": "5cdd4572",
   "metadata": {},
   "source": [
    "<br>\n",
    "\n",
    "3. Determine whether the `both_days` set is a subset of `day_1_trees`. \n",
    "\n",
    "Hint: If you haven't come across the command for this yet, try hitting the `tab` key to search for the relevant command or look it up in the Python documentation.\n"
   ]
  },
  {
   "cell_type": "code",
   "execution_count": null,
   "id": "06cf870d",
   "metadata": {},
   "outputs": [],
   "source": [
    "# insert your code here\n"
   ]
  },
  {
   "cell_type": "markdown",
   "id": "82327750",
   "metadata": {},
   "source": [
    "<br>\n",
    "\n",
    "4. Determine whether all of the elements in the following variable, `hardwood_trees`, are contained in `day_2_trees`. Ideally, we'd like to run a single command to test this.\n"
   ]
  },
  {
   "cell_type": "code",
   "execution_count": null,
   "id": "342d5d21",
   "metadata": {},
   "outputs": [],
   "source": [
    "hardwood_trees = {'Yellowwood', 'Leadwood', 'Blackwood'}\n",
    "\n",
    "# insert your code here\n"
   ]
  },
  {
   "cell_type": "markdown",
   "id": "555dea0d",
   "metadata": {},
   "source": [
    "<br>\n",
    "\n",
    "## Solutions"
   ]
  },
  {
   "cell_type": "markdown",
   "id": "81cefb07",
   "metadata": {
    "tags": []
   },
   "source": [
    "### Exercise 1\n",
    "\n",
    "1) Our forest rehabilitation centre contains various trees. To make sure we have all the species covered, we have to determine which unique trees we have already planted.\n",
    "- Convert the provided `tree_list` to a set, `tree_set`. \n",
    "- Confirm that our new variable is a set. \n",
    "- Print the original variable, as well as our new variable. What can we notice about the order of elements? \n"
   ]
  },
  {
   "cell_type": "code",
   "execution_count": null,
   "id": "f740e701",
   "metadata": {
    "scrolled": true,
    "vscode": {
     "languageId": "plaintext"
    }
   },
   "outputs": [],
   "source": [
    "# creating a list\n",
    "tree_list = ['Tamboti', 'Baobab', 'Umbrella thorn', 'Yellowwood', 'Fever Tree', 'Moringa', \n",
    "             'Marula', 'Waterpear', 'Baobab', 'Fountain Tree', 'Papaya Tree', 'Indian Laurel', 'Moringa']\n",
    "\n",
    "# insert your code here \n",
    "tree_set = set(tree_list)   # convert list to set\n",
    "\n",
    "print(type(tree_set))  # use type() to check that our new variable is a set\n",
    "print('tree_list = ', tree_list) \n",
    "print('tree_set = ', tree_set)\n"
   ]
  },
  {
   "cell_type": "markdown",
   "id": "465aa2a4",
   "metadata": {},
   "source": [
    "We can easily convert a **list** to a **set** by using the `set()` function, as it was built for converting **any iterable** to a set. Using the `type()` function, we confirm that our new variable is a set. \n",
    "\n",
    "By printing the original `tree_list` and new `tree_set` variables, we can see that the syntax differs – the list is printed with square brackets `[]`, while the set is printed with curly ones `{}`. \n",
    "\n",
    "In addition, we can see that the `tree_set` appears **shorter** than the `tree_list`. This is due to the fact that sets have **unique elements**, whereas lists can contain **duplicate elements**. A last aspect to note is that the elements in the `tree_set` have been reordered when compared to the `tree_list` variable.  This is an illustration of the effect of indexing – **lists are indexed and retain their order**, whereas **sets have no index associated with the elements**."
   ]
  },
  {
   "cell_type": "markdown",
   "id": "5eb4934d",
   "metadata": {},
   "source": [
    "<br>\n",
    "\n",
    "2. Compare the **number** of elements in `tree_list` to `tree_set`. Print the number of elements in each. "
   ]
  },
  {
   "cell_type": "code",
   "execution_count": null,
   "id": "66acb67d",
   "metadata": {},
   "outputs": [],
   "source": [
    "# insert your code here \n",
    "list_elements = len(tree_list)\n",
    "set_elements = len(tree_set)\n",
    "\n",
    "print('Number in list: ',list_elements)\n",
    "print('Number in set: ',set_elements)"
   ]
  },
  {
   "cell_type": "markdown",
   "id": "6d7e77b1",
   "metadata": {},
   "source": [
    "We can see that even though we did not manually remove any of the elements in the list before creating the set, these data structures have different lengths. When we converted the list to a set, Python automatically removed the duplicate elements in the data for us, as all elements in a set have to be unique."
   ]
  },
  {
   "cell_type": "markdown",
   "id": "a10363b6",
   "metadata": {},
   "source": [
    "<br>\n",
    "\n",
    "### Exercise 2\n",
    "\n",
    "1. A conservationist recently spent two days in a national park in South Africa and was writing down tree types in a notebook. Each of the days was captured separately and we need to create two variables for these trees using sets: `day_1_trees` and `day_2_trees`. \n",
    "\n",
    "Day 1 captured the following tree types: <br>\n",
    "Baobab,\n",
    "Buffalo Thorn,\n",
    "Bushwillow,\n",
    "Jackalberry,\n",
    "Knob Thorn,\n",
    "Lala Palm,\n",
    "Marula Tree,\n",
    "Umbrella Thorn,\n",
    "Weeping Boer Bean,\n",
    "Sausage Tree.\n",
    "\n",
    "Day 2 captured the following tree types:<br>\n",
    "Mopane Tree,\n",
    "Bushwillow,\n",
    "Knob Thorn,\n",
    "Jackalberry,\n",
    "Nara Plant,\n",
    "Wild Date Palm,\n",
    "Natal Mahogany,\n",
    "Tamboti,\n",
    "Leadwood,\n",
    "Bushwillow.\n"
   ]
  },
  {
   "cell_type": "code",
   "execution_count": null,
   "id": "09386d51",
   "metadata": {
    "vscode": {
     "languageId": "plaintext"
    }
   },
   "outputs": [],
   "source": [
    "# insert your code here \n",
    "# create day_1_trees\n",
    "day_1_trees = {\"Baobab\",\n",
    "    \"Buffalo Thorn\",\n",
    "    \"Bushwillow\",\n",
    "    \"Jackalberry\",\n",
    "    \"Knob Thorn\",\n",
    "    \"Lala Palm\",\n",
    "    \"Marula Tree\",\n",
    "    \"Umbrella Thorn\",\n",
    "    \"Weeping Boer Bean\",\n",
    "    \"Sausage Tree\"}\n",
    "\n",
    "# create day_2_trees\n",
    "day_2_trees = {\"Mopane Tree\",\n",
    "    \"Bushwillow\",\n",
    "    \"Knob Thorn\",\n",
    "    \"Jackalberry\",\n",
    "    \"Nara Plant\",\n",
    "    \"Wild Date Palm\",\n",
    "    \"Natal Mahogany\",\n",
    "    \"Tamboti\",\n",
    "    \"Leadwood\",\n",
    "    \"Bushwillow\"}"
   ]
  },
  {
   "cell_type": "markdown",
   "id": "ff325262",
   "metadata": {},
   "source": [
    "When creating sets, it is important to remember that all strings need to be in quotation marks, while the set itself is constructed using curly brackets, `{}`."
   ]
  },
  {
   "cell_type": "markdown",
   "id": "109e588b",
   "metadata": {},
   "source": [
    "One of the benefits of using **sets** is that there are built-in methods that can be used on them. The following commands: \n",
    "- `union`\n",
    "- `intersection`\n",
    "- `difference` <br>\n",
    "are especially useful when presented with sets we'd like to compare and manipulate based on their elements. \n",
    "<br>\n",
    "\n",
    "2. Using the commands above, we have been tasked to do the following: \n",
    "- Create a set called `union_result` that combines `day_1_trees` and `day_2_trees`.\n",
    "- Create a set called `both_days` that returns trees that were seen on both day 1 and day 2, so are in both `day_1_trees` and `day_2_trees`.\n",
    "- Create a set that contains the trees that are in the `day_2_trees` set, **but not in** `day_1_trees`.\n",
    "- Create a set called `one_set_result` that contains trees found in one of these sets only.\n",
    "\n",
    "Hint: Take a look at the Python documentation if you're not sure where to start."
   ]
  },
  {
   "cell_type": "code",
   "execution_count": null,
   "id": "15864e24",
   "metadata": {},
   "outputs": [],
   "source": [
    "# insert your code here\n",
    "# Union\n",
    "union_result = day_1_trees.union(day_2_trees)\n",
    "print(\"Union:\", union_result)\n",
    "\n",
    "# Intersection\n",
    "both_days = day_1_trees.intersection(day_2_trees)\n",
    "print(\"Intersection:\", both_days)\n",
    "\n",
    "# Difference\n",
    "difference_result = day_2_trees.difference(day_1_trees)\n",
    "print(\"Difference:\", difference_result)\n",
    "\n",
    "# One set only\n",
    "one_set_result = day_2_trees.difference(day_1_trees).union(day_1_trees.difference(day_2_trees))\n",
    "print('One set only:',one_set_result)\n"
   ]
  },
  {
   "cell_type": "markdown",
   "id": "bd0abdec",
   "metadata": {},
   "source": [
    "We can see that we can create almost any combination of the elements of the sets by using these methods. Note that we should also be able to create the same `one_set_result` variable by making use of the `union_result` and the `intersection_result` using the `difference` method. "
   ]
  },
  {
   "cell_type": "markdown",
   "id": "0ac2a12b",
   "metadata": {},
   "source": [
    "<br>\n",
    "\n",
    "3. Determine whether the `both_days` set is a subset of `day_1_trees`. \n",
    "\n",
    "Hint: If you haven't come across the command for this yet, try hitting the `tab` key to search for the relevant command or look it up in the Python documentation.\n",
    "\n"
   ]
  },
  {
   "cell_type": "code",
   "execution_count": null,
   "id": "e5ab4ad5",
   "metadata": {},
   "outputs": [],
   "source": [
    "intersection_test = both_days.issubset(day_1_trees)\n",
    "print(intersection_test)"
   ]
  },
  {
   "cell_type": "markdown",
   "id": "38ec8da5",
   "metadata": {},
   "source": [
    "<br>\n",
    "\n",
    "4. Determine whether all of the elements in the following variable, `hardwood_trees`, are contained in `day_2_trees`. Ideally, we'd like to run a single command to test this.\n"
   ]
  },
  {
   "cell_type": "code",
   "execution_count": null,
   "id": "c407a8c1",
   "metadata": {},
   "outputs": [],
   "source": [
    "hardwood_trees = {'Yellowwood', 'Leadwood', 'Blackwood'}\n",
    "\n",
    "# insert your code here\n",
    "hardwood_trees.issubset(day_2_trees)"
   ]
  },
  {
   "cell_type": "markdown",
   "id": "29655aa8",
   "metadata": {},
   "source": [
    "If your answer is `False`, you probably made use of the `issubset` command. \n",
    "\n",
    "It is important to note that **this is not the only way of answering the question**, and as we continue to progress through this course, more solutions will become available to us as we build our knowledge.\n",
    "\n",
    "We could also have made use of the **membership operator** `in`, but we would've had to run the command once for each of the trees and then combine the results in order to determine whether our `hardwood_trees` are in the `day_2_trees` set, which is cumbersome. \n"
   ]
  },
  {
   "cell_type": "code",
   "execution_count": null,
   "id": "252dd50d",
   "metadata": {},
   "outputs": [],
   "source": [
    "yellowwood_in_2 = 'Yellowwood' in day_2_trees\n",
    "leadwood_in_2 = 'Leadwood' in day_2_trees\n",
    "blackwood_in_2 = 'Blackwood' in day_2_trees\n",
    "(yellowwood_in_2 == True and leadwood_in_2 == True and blackwood_in_2 == True)\n"
   ]
  },
  {
   "cell_type": "markdown",
   "id": "4c01565d",
   "metadata": {},
   "source": [
    "Using the membership operator `in` to check whether the `hardwood_trees` set is in day_2_trees would not work, as it would be comparing the set of trees to a single tree element in the `day_2_trees` set. \n",
    "\n"
   ]
  },
  {
   "cell_type": "markdown",
   "id": "e9956efe",
   "metadata": {
    "tags": []
   },
   "source": [
    "<br>\n",
    "\n",
    "## Summary\n",
    "\n",
    "In this notebook, we looked at creating a set from a list, investigated key differences between lists and sets, and applied built-in set methods to manipulate sets. \n"
   ]
  },
  {
   "cell_type": "markdown",
   "id": "26fd094b-0fee-46f1-a4b8-73766813c42b",
   "metadata": {
    "tags": []
   },
   "source": [
    "#  \n",
    "\n",
    "<div align=\"center\" style=\" font-size: 80%; text-align: center; margin: 0 auto\">\n",
    "<img src=\"https://raw.githubusercontent.com/Explore-AI/Pictures/master/ExploreAI_logos/EAI_Blue_Dark.png\"  style=\"width:200px\";/>\n",
    "</div>"
   ]
  }
 ],
 "metadata": {
  "kernelspec": {
   "display_name": "Python 3 (ipykernel)",
   "language": "python",
   "name": "python3"
  },
  "language_info": {
   "codemirror_mode": {
    "name": "ipython",
    "version": 3
   },
   "file_extension": ".py",
   "mimetype": "text/x-python",
   "name": "python",
   "nbconvert_exporter": "python",
   "pygments_lexer": "ipython3",
   "version": "3.11.5"
  }
 },
 "nbformat": 4,
 "nbformat_minor": 5
}
