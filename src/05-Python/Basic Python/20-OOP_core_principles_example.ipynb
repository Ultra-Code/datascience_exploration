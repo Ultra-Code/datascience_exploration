{
 "cells": [
  {
   "cell_type": "markdown",
   "metadata": {},
   "source": [
    "<div align=\"center\" style=\" font-size: 80%; text-align: center; margin: 0 auto\">\n",
    "<img src=\"https://raw.githubusercontent.com/Explore-AI/Pictures/master/Python-Notebook-Banners/Examples.png\"  style=\"display: block; margin-left: auto; margin-right: auto;\";/>\n",
    "</div>"
   ]
  },
  {
   "cell_type": "markdown",
   "id": "f662d169",
   "metadata": {},
   "source": [
    "# Examples: OOP core principles\n",
    "© ExploreAI Academy"
   ]
  },
  {
   "cell_type": "markdown",
   "id": "26af890c",
   "metadata": {},
   "source": [
    "In this train, we'll be illustrating how we can use classes to create objects and how these objects embody the core principles of OOP."
   ]
  },
  {
   "cell_type": "markdown",
   "id": "2d230d14",
   "metadata": {
    "tags": []
   },
   "source": [
    "## Learning objectives\n",
    "\n",
    "By the end of this train, you should be able to:\n",
    "- Create and use classes and objects in Python.\n",
    "- Explain the core principles of OOP: encapsulation, inheritance, polymorphism, and abstraction.\n",
    "- Know when and how to apply these principles to real-world scenarios."
   ]
  },
  {
   "cell_type": "markdown",
   "metadata": {},
   "source": [
    "## Examples"
   ]
  },
  {
   "cell_type": "markdown",
   "metadata": {},
   "source": [
    "### Introduction to classes and objects\n",
    "\n",
    "Classes in OOP are like *blueprints* or *templates* for creating objects. An object is a *specific instance of a class*, containing attributes and behaviors defined in the class. For instance, if a class represents the concept of a 'tree', then each 'tree' planted is an object of that class, with its own unique characteristics.\n",
    "\n",
    "**Scenario explanation**: Imagine a forest with various tree species. Each species has unique characteristics like height, age, and species type. We can model this diversity using a class for trees, where each tree object represents a specific tree in the forest."
   ]
  },
  {
   "cell_type": "code",
   "execution_count": null,
   "metadata": {},
   "outputs": [],
   "source": [
    "class Tree:\n",
    "    def __init__(self, species, height, age):\n",
    "        # Constructor method to initialise the tree's attributes\n",
    "        self.species = species  # The species of the tree\n",
    "        self.height = height    # The height of the tree in meters\n",
    "        self.age = age          # The age of the tree in years\n",
    "\n",
    "    def describe(self):\n",
    "        # Method to describe the tree\n",
    "        return f\"A {self.age}-year-old {self.species} tree, about {self.height} meters tall.\"\n"
   ]
  },
  {
   "cell_type": "markdown",
   "id": "9aec25a3",
   "metadata": {},
   "source": [
    "The `Tree` class in the code defines a blueprint for creating tree objects with specific attributes: `species`, `height`, and `age`. The `__init__` method, known as the constructor, initialises these attributes when a new tree object is created. The `describe` method provides a simple way to output a description of the tree, demonstrating how methods can operate on the data encapsulated within the same object, allowing for clear and maintainable code structures."
   ]
  },
  {
   "cell_type": "markdown",
   "metadata": {},
   "source": [
    "### Encapsulation\n",
    "\n",
    "Encapsulation is a fundamental OOP principle that involves bundling data (attributes) and methods (functions) that operate on the data into a single unit or class. It also restricts direct access to some of the object's components, which is a means of preventing accidental interference and misuse of the data.\n",
    "\n",
    "<div align=\"center\" style=\" font-size: 100%; text-align: center; margin: 0 auto; border: 2px white\">\n",
    "<img src=\"https://raw.githubusercontent.com/Explore-AI/Pictures/master/Encapsulation.jpg\"  style=\"display: block; margin-left: auto; margin-right: auto;width: 70%; border: 2px solid white;\"/>\n",
    "</br>\n",
    "<em>Fig 1: Encapsulation </em>\n",
    "</div>\n",
    "\n",
    "\n"
   ]
  },
  {
   "cell_type": "markdown",
   "id": "3d20a6a0",
   "metadata": {},
   "source": [
    "\n",
    "\n",
    "**Scenario explanation**: In our Tree class, encapsulation is demonstrated by how the attributes (species, height, age) and the method (describe) are enclosed within the class. This design allows us to create tree objects with their properties and behaviors neatly packaged together."
   ]
  },
  {
   "cell_type": "code",
   "execution_count": null,
   "metadata": {},
   "outputs": [],
   "source": [
    "# Using the previously defined Tree class\n",
    "\n",
    "# Creating another tree object\n",
    "pine = Tree(\"Pine\", 15, 50)\n",
    "print(pine.describe())\n",
    "\n",
    "# Attempting to access attributes directly\n",
    "print(f\"Species of the tree: {pine.species}\")\n",
    "print(f\"Height of the tree: {pine.height}\")"
   ]
  },
  {
   "cell_type": "markdown",
   "id": "eb999234",
   "metadata": {},
   "source": [
    "This example shows how encapsulation makes our code more manageable and secure. By keeping the data (attributes like species, height and age) and methods (describe) within the class, we maintain a structured and organised approach to coding, which is particularly helpful in complex programming scenarios."
   ]
  },
  {
   "cell_type": "markdown",
   "id": "b5fcb9b1",
   "metadata": {},
   "source": [
    "### Inheritance\n",
    "\n",
    "Inheritance in OOP allows us to define a class that inherits all the methods and properties from another class. The parent (or base) class is the class being inherited from, and the child (or derived) class is the class that inherits from the parent class.\n",
    "\n",
    "<div align=\"center\" style=\" font-size: 100%; text-align: center; margin: 0 auto; border: 2px white\">\n",
    "<img src=\"https://raw.githubusercontent.com/Explore-AI/Pictures/master/Inheritance.jpg\"  style=\"display: block; margin-left: auto; margin-right: auto;width: 50%; border: 2px solid white;\"/>\n",
    "</br>\n",
    "<em>Fig 2: Inheritance </em>\n",
    "</div>"
   ]
  },
  {
   "cell_type": "markdown",
   "id": "6c554cea",
   "metadata": {},
   "source": [
    "**Scenario explanation**: Imagine a tree ecosystem where we have a `Tree` class as our base class with attributes like `species`, `age`, and `height`, and methods `grow()` and `reseed()`. From this base class, we derive two subclasses: `Oak` and `Pine`.\n",
    "\n",
    "The `Oak` class inherits the properties and methods from `Tree` and adds its own method `budding()`. Similarly, the `Pine` class inherits from `Tree` and adds a `cone_count()` method."
   ]
  },
  {
   "cell_type": "code",
   "execution_count": null,
   "id": "4ac9d01f",
   "metadata": {},
   "outputs": [],
   "source": [
    "# Tree class, our base/parent class\n",
    "class Tree:\n",
    "    def __init__(self, species, age, height):\n",
    "        self.species = species\n",
    "        self.age = age\n",
    "        self.height = height\n",
    "\n",
    "    def grow(self):\n",
    "        self.height += 1  # Simplified growth logic\n",
    "\n",
    "    def reseed(self):\n",
    "        print(f\"The {self.species} tree disperses seeds for new trees.\")\n",
    "\n",
    "\n",
    "# Oak and Pine subclasses, our derived/child classes\n",
    "class Oak(Tree):\n",
    "    def budding(self):\n",
    "        print(f\"The {self.species} tree is budding new leaves.\")\n",
    "\n",
    "class Pine(Tree):\n",
    "    def cone_count(self):\n",
    "        print(f\"The {self.species} tree has many cones.\")\n",
    "\n",
    "# Creating objects of the subclasses\n",
    "oak_tree = Oak(\"Oak\", 100, 20)\n",
    "pine_tree = Pine(\"Pine\", 50, 15)\n",
    "\n",
    "# Demonstrating inherited methods\n",
    "oak_tree.grow()\n",
    "pine_tree.grow()\n",
    "\n",
    "# Demonstrating new methods in the subclasses\n",
    "oak_tree.budding()\n",
    "pine_tree.cone_count()\n"
   ]
  },
  {
   "cell_type": "markdown",
   "id": "672295d4",
   "metadata": {},
   "source": [
    "The `Oak` and `Pine` classes illustrate inheritance by reusing the code from the `Tree` class. They also demonstrate how we can extend the functionality of a base class by adding new methods that are specific to the subclass. This not only saves time by not having to rewrite shared code but also helps maintain a natural and understandable hierarchy within the codebase, mirroring real-world relationships."
   ]
  },
  {
   "cell_type": "markdown",
   "id": "81f2f7f4",
   "metadata": {},
   "source": [
    "### Polymorphism\n",
    "\n",
    "Polymorphism in OOP allows objects of different classes to respond to the same message—or method call—in ways appropriate to their types. This means that the same method can behave differently in different classes.\n",
    "\n",
    "<div align=\"center\" style=\" font-size: 100%; text-align: center; margin: 0 auto; border: 2px white\">\n",
    "<img src=\"https://raw.githubusercontent.com/Explore-AI/Pictures/master/Polymorphism.jpg\"  style=\"display: block; margin-left: auto; margin-right: auto;width: 50%; border: 2px solid white;\"/>\n",
    "</br>\n",
    "<em>Fig 3: Polymorphism </em>\n",
    "</div>\n"
   ]
  },
  {
   "cell_type": "markdown",
   "id": "a29cec7f",
   "metadata": {},
   "source": [
    "**Scenario explanation**: Let's say we have two subclasses, `Oak` and `Pine`, that stem from the same parent class `Tree`. Each subclass can respond to common messages like `grow()` and `reseed()`. However, due to polymorphism, when the `grow()` signal is sent, both `Oak` and `Pine` trees will grow, but the way they grow and how much they grow can vary. When the `reseed()` signal is sent, both types of trees will disperse seeds, but the types of seeds and the method of dispersal might be different. Furthermore, each type of tree may have additional processes that are unique to its kind, such as `budding()` in Oaks or `cone_count()` in Pines."
   ]
  },
  {
   "cell_type": "code",
   "execution_count": null,
   "id": "2b45fcd8",
   "metadata": {},
   "outputs": [],
   "source": [
    "class Tree:\n",
    "    def __init__(self, species, age, height):\n",
    "        self.species = species\n",
    "        self.age = age\n",
    "        self.height = height\n",
    "\n",
    "    def grow(self):\n",
    "        # Simulate the tree growing taller\n",
    "        self.height += 1\n",
    "        print(f\"Polymorphism in action: A {self.species} tree grows, increasing its height to {self.height} meters.\")\n",
    "\n",
    "    def reseed(self):\n",
    "        # Simulate the tree dispersing seeds\n",
    "        print(f\"Polymorphism in action: A {self.species} tree disperses seeds to propagate its species.\")\n",
    "\n",
    "class Oak(Tree):\n",
    "    def budding(self):\n",
    "        # Simulate an Oak-specific behaviour\n",
    "        print(f\"Unique to Oak: As the season changes, the Oak tree begins to develop buds.\")\n",
    "\n",
    "class Pine(Tree):\n",
    "    def cone_count(self):\n",
    "        # Simulate a Pine-specific behaviour\n",
    "        print(f\"Unique to Pine: The Pine tree, apart from growing and reseeding, also counts its cones as part of its unique yearly cycle.\")\n",
    "\n",
    "# Creating objects of each subclass\n",
    "oak_tree = Oak(\"Oak\", 10, 5)\n",
    "pine_tree = Pine(\"Pine\", 7, 8)\n",
    "\n",
    "# Demonstrating polymorphism with more explanatory print statements\n",
    "for tree in (oak_tree, pine_tree):\n",
    "    tree.grow()    # Both Oak and Pine respond to the grow method\n",
    "    tree.reseed()  # Both Oak and Pine respond to the reseed method\n",
    "    if isinstance(tree, Oak):\n",
    "        tree.budding()  # Only Oak responds to the budding method\n",
    "    elif isinstance(tree, Pine):\n",
    "        tree.cone_count()  # Only Pine responds to the cone_count method\n"
   ]
  },
  {
   "cell_type": "markdown",
   "id": "3fa655dc",
   "metadata": {},
   "source": [
    "### Abstraction \n",
    "\n",
    "Abstraction in OOP is the concept of *hiding the complex reality* while exposing only the necessary parts. It's like using a simple user interface (UI) that hides the complex code behind it. For example, we often log in to websites via simple UIs, which abstracts us from the complex code.\n",
    "\n",
    "<div align=\"center\" style=\" font-size: 100%; text-align: center; margin: 0 auto; border: 2px white\">\n",
    "<img src=\"https://raw.githubusercontent.com/Explore-AI/Pictures/master/Abstraction.jpg\"  style=\"display: block; margin-left: auto; margin-right: auto;width: 50%; border: 2px solid white;\"/>\n",
    "</br>\n",
    "<em>Fig 4: Abstraction </em>\n",
    "</div>\n"
   ]
  },
  {
   "cell_type": "markdown",
   "id": "8b4a0069",
   "metadata": {},
   "source": [
    "**Scenario explanation**: Let's say we want to provide a simple interface for the growth of various types of trees without needing to understand the intricate details of how each tree grows. The `Tree` class will represent the abstract concept of a tree with the method `grow()`, which is an abstract method because it's not implemented. Specific types of trees, such as `EvergreenTree`, will provide concrete implementations of the `grow()` method."
   ]
  },
  {
   "cell_type": "code",
   "execution_count": 9,
   "id": "b901d084",
   "metadata": {},
   "outputs": [
    {
     "name": "stdout",
     "output_type": "stream",
     "text": [
      "The evergreen tree grows taller by one meter, now standing at 6 meters.\n"
     ]
    }
   ],
   "source": [
    "class Tree:\n",
    "    def __init__(self, species, height, age):\n",
    "        self.species = species\n",
    "        self.height = height\n",
    "        self.age = age\n",
    "\n",
    "    def grow(self):\n",
    "        # Abstract method, details will be defined in the subclass\n",
    "        pass # In Python, the pass statement is used as a placeholder for future code.\n",
    "\n",
    "class EvergreenTree(Tree):\n",
    "    def __init__(self, species, height, age, needle_type):\n",
    "        super().__init__(species, height, age)\n",
    "        self.needle_type = needle_type\n",
    "\n",
    "    def grow(self):\n",
    "        # Implementing the specific way an Evergreen tree grows\n",
    "        self.height += 1\n",
    "        print(f\"The evergreen tree grows taller by one meter, now standing at {self.height} meters.\")\n",
    "\n",
    "# Use the abstraction\n",
    "my_tree = EvergreenTree(\"Spruce\", 5, 20, \"short needles\")\n",
    "my_tree.grow()  # The user doesn't need to know how the tree grows, just that it does"
   ]
  },
  {
   "cell_type": "markdown",
   "id": "14a5034e",
   "metadata": {},
   "source": [
    "The `Tree` class serves as an abstract base class, similar to the user-friendly login interface. It defines the structure and expectations (like the login fields) without detailing the specifics. The `EvergreenTree` class extends `Tree` and provides the specifics of how an evergreen tree grows. This hides the complexity from the user, who simply needs to know that they can make a tree grow by calling the `grow()` method, much like a user only needs to enter a username and password and click 'login' to start a session. This abstraction makes the code easier to use and maintain, as well as to extend with new types of trees."
   ]
  },
  {
   "cell_type": "markdown",
   "id": "e9956efe",
   "metadata": {
    "tags": []
   },
   "source": [
    "## Summary\n",
    "\n",
    "Through these examples, we've seen how OOP principles like encapsulation, inheritance, polymorphism, and abstraction can be applied in Python. These concepts are vital for writing organised, efficient, and reusable code, especially in complex domains like environmental conservation. Understanding these principles lays the foundation for tackling real-world problems with sophisticated programming solutions."
   ]
  },
  {
   "cell_type": "markdown",
   "id": "26fd094b-0fee-46f1-a4b8-73766813c42b",
   "metadata": {
    "tags": []
   },
   "source": [
    "#  \n",
    "\n",
    "<div align=\"center\" style=\" font-size: 80%; text-align: center; margin: 0 auto\">\n",
    "<img src=\"https://raw.githubusercontent.com/Explore-AI/Pictures/master/ExploreAI_logos/EAI_Blue_Dark.png\"  style=\"width:200px\";/>\n",
    "</div>"
   ]
  }
 ],
 "metadata": {
  "kernelspec": {
   "display_name": "Python 3 (ipykernel)",
   "language": "python",
   "name": "python3"
  },
  "language_info": {
   "codemirror_mode": {
    "name": "ipython",
    "version": 3
   },
   "file_extension": ".py",
   "mimetype": "text/x-python",
   "name": "python",
   "nbconvert_exporter": "python",
   "pygments_lexer": "ipython3",
   "version": "3.9.6"
  }
 },
 "nbformat": 4,
 "nbformat_minor": 5
}
