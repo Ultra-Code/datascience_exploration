{
 "cells": [
  {
   "cell_type": "markdown",
   "metadata": {},
   "source": [
    "<div align=\"center\" style=\" font-size: 80%; text-align: center; margin: 0 auto\">\n",
    "<img src=\"https://raw.githubusercontent.com/Explore-AI/Pictures/master/Python-Notebook-Banners/Examples.png\"  style=\"display: block; margin-left: auto; margin-right: auto;\";/>\n",
    "</div>"
   ]
  },
  {
   "cell_type": "markdown",
   "metadata": {
    "colab_type": "text",
    "id": "287YJKfJ-wrE"
   },
   "source": [
    "# Examples: Recursive functions\n",
    "\n",
    "© ExploreAI Academy"
   ]
  },
  {
   "cell_type": "markdown",
   "metadata": {},
   "source": [
    "In this train, we will cover the example in the walk-through, as well as some additional examples of how recursive functions work, and in what situations it is beneficial to use. "
   ]
  },
  {
   "cell_type": "markdown",
   "metadata": {
    "colab_type": "text",
    "id": "NKIyqZ_Y-wrO"
   },
   "source": [
    "## Learning objectives\n",
    "By the end of this train, you should be able to:\n",
    "\n",
    "* Understand what recursion is, how it works, and in what situations it is beneficial to use. \n",
    "* Be able to write and implement basic recursive functions in Python.\n",
    "* Use recursion to solve more complex problems, such as sorting algorithms."
   ]
  },
  {
   "cell_type": "markdown",
   "metadata": {
    "colab_type": "text",
    "id": "y574G4g0jQAx"
   },
   "source": [
    "## How recursive functions work\n",
    "\n",
    "Recursion can offer some sublime solutions to certain problems, especially those that can be broken up into similar, smaller problems. \n",
    "\n",
    "Recursion, or a recursive function to be precise, is a function that calls itself within the function. Recursive functions need two things to recur: a **recursive case**, and a **base case** or **terminating condition.**\n",
    "\n",
    "- **Recursive case:** This is where the function calls itself with a modified argument, gradually moving towards the base case.\n",
    "- **Base case:** This is the condition under which the recursion ends. Without a base case, the function would call itself indefinitely, leading to a stack overflow error.\n",
    "\n",
    "This concept can be tricky to grasp, so let's begin with a non-programming example."
   ]
  },
  {
   "cell_type": "markdown",
   "metadata": {
    "colab_type": "text",
    "id": "JLWSoPAa-wrb"
   },
   "source": [
    "### Recursive functions with no base case:\n",
    "\n",
    "Consider the image below. This is a demonstration of recursion, **without** a base case.\n",
    "\n",
    "<div>\n",
    "<img src=\"https://raw.githubusercontent.com/Explore-AI/Pictures/73fae9f55128efab006222350a9a1f115a689ba8/recursion_hand_drawing.jpeg\" width=450>\n",
    "</div>\n",
    "\n",
    "Each arm has a function, it draws a slightly smaller arm that is capable of drawing a slightly smaller arm that is capable of drawing a slightly smaller arm, etc. Note that each arm's form and function recur for each new arm.\n",
    "\n",
    "In the absence of a base case, this creates an endless loop of arms drawing arms, similar to how recursive functions will without a base case. They keep calling themselves indefinitely, leading to a stack overflow error.\n",
    "\n",
    "However, in practical terms, such as in the drawing arm example, the infinite recursion is limited by physical constraints like the resolution of the image or our ability to perceive smaller and smaller details. In computing, however, the lack of a base case in recursion leads to uncontrolled function calls until system resources are exhausted.\n"
   ]
  },
  {
   "cell_type": "markdown",
   "metadata": {
    "colab_type": "text",
    "id": "faQ9P8YfL3eW"
   },
   "source": [
    "### Recursive functions with a base case:\n",
    "\n",
    "Consider the screenshot below. It also demonstrates recursion, this time with a predefined base case.\n",
    "\n",
    "<div>\n",
    "<img src=\"https://raw.githubusercontent.com/Explore-AI/Pictures/ed8538c84e6affeb6a84e9b07c393252ce3e1ed9/recursion_vlc.png\" width=450>\n",
    "</div>\n",
    "\n",
    "It shows:\n",
    "- an Ubuntu desktop which has a VLC window playing a 33:28.20 video of \n",
    "- an Ubuntu desktop which has a VLC window playing a 33:28.19 video of\n",
    "- an Ubuntu desktop which has a VLC window playing a 33:28.18 video of\n",
    "<br/> ...\n",
    "<br/>...\n",
    "- an Ubuntu desktop which has a VLC window playing a 00:00.02 video of\n",
    "- an Ubuntu desktop which has a VLC window playing a 00:00.01 video.\n",
    "\n",
    "\n",
    "Each window's function is to play a video of itself that is one second shorter than itself. The recursion stops when it tries to play a 00:00.00 video. We say that the **recursive case** occurs each time the video is longer than 00:00.00 and the **base/terminating case** occurs when the video is exactly 00:00.00."
   ]
  },
  {
   "cell_type": "markdown",
   "metadata": {},
   "source": [
    "## Examples\n",
    "\n",
    "The following code is taken from  Beau Carnes's [Recursion primer](https://medium.freecodecamp.org/how-recursion-works-explained-with-flowcharts-and-a-video-de61f40cb7f9)."
   ]
  },
  {
   "cell_type": "markdown",
   "metadata": {},
   "source": [
    "### Example 1\n",
    "\n",
    "The `countdown` function is a recursive function that prints the current value of `i` and then calls itself with `i - 1`. Without a base case, calling `countdown(5)` will result in the function running indefinitely, decrementing `i` and printing each new value until a stack overflow error occurs.\n",
    "\n",
    "This function is similar to the drawing hand example above. It demonstrates what may happen without a base case. \n",
    "\n",
    "Run the code, wait for it to terminate, and read the error message.\n"
   ]
  },
  {
   "cell_type": "code",
   "execution_count": null,
   "metadata": {
    "colab": {},
    "colab_type": "code",
    "id": "08t6NiHnIb3v"
   },
   "outputs": [],
   "source": [
    "def countdown(i):\n",
    "    print(i)\n",
    "    countdown(i - 1)\n",
    "    \n",
    "countdown(5)"
   ]
  },
  {
   "cell_type": "markdown",
   "metadata": {
    "colab_type": "text",
    "id": "rKgj8OhI-wro"
   },
   "source": [
    "### Example 2\n",
    "\n",
    "We avoid this infinite recursion if we add the base/terminating case when the counter is `0`. Now, when `i` reaches `0`, it prints `done`, serving as the base case to terminate the recursion. "
   ]
  },
  {
   "cell_type": "code",
   "execution_count": null,
   "metadata": {
    "colab": {},
    "colab_type": "code",
    "id": "F5coLNEZIlNr"
   },
   "outputs": [],
   "source": [
    "def countdown(i):\n",
    "    if i == 0:\n",
    "        print('done')\n",
    "    else:\n",
    "        print(i)\n",
    "        countdown(i - 1)\n",
    "\n",
    "countdown(5)"
   ]
  },
  {
   "cell_type": "markdown",
   "metadata": {
    "colab_type": "text",
    "id": "mpIJF02HbbX-"
   },
   "source": [
    "### Example 3\n",
    "\n",
    "$n$ $factorial$   (written as **$n!$**) is the number we get when we multiply every number from $1$ to $n$. For example:<br>\n",
    "$4! = 4 \\times 3 \\times 2 \\times 1 = 24$. <br>\n",
    "$10! = 10 \\times 9 \\times 8 \\times 7 \\times 6 \\times 5 \\times 4 \\times 3 \\times 2 \\times 1 = 3628800$.\n",
    "\n",
    "Factorials are difficult to calculate for larger numbers. To find out why, let's look at some smaller numbers.\n",
    "<br/>\n",
    "$1! = 1$\n",
    "<br/>\n",
    "$2! = 2 \\times 1 = 2$\n",
    "<br/>\n",
    "$3! = 3 \\times 2 \\times 1 = 6$\n",
    "<br/>\n",
    "$4! = 4 \\times 3 \\times 2 \\times 1 = 24$\n",
    "<br/>\n",
    "$5!  = 5 \\times 4 \\times 3 \\times 2 \\times 1 = 120$\n",
    "<br/>\n",
    "\n",
    "We're looking for something called the **recursive pattern**. Let's mirror the equations to help us see the pattern.<br>\n",
    "$1! = 1$\n",
    "<br/>\n",
    "$2! = 1 \\times 2$\n",
    "<br/>\n",
    "$3! = 1 \\times 2 \\times 3$\n",
    "<br/>\n",
    "$4! = 1 \\times 2 \\times 3 \\times 4$\n",
    "<br/>\n",
    "$5! = 1 \\times 2 \\times 3 \\times 4 \\times 5$\n",
    "<br/>\n",
    "\n",
    "We could re-write this as<br>\n",
    "$1! = 1$\n",
    "<br/>\n",
    "$2! = 1! \\times 2$\n",
    "<br/>\n",
    "$3! = 2! \\times 3$\n",
    "<br/>\n",
    "$4! = 3! \\times 4$\n",
    "<br/>\n",
    "$5! = 4! \\times 5$\n",
    "<br/>"
   ]
  },
  {
   "cell_type": "markdown",
   "metadata": {
    "colab_type": "text",
    "id": "FQH3WOII-wrx"
   },
   "source": [
    "**Mathematically**\n",
    "\n",
    "$n! = n \\times (n - 1) \\times (n - 2) \\times \\dots \\times 2 \\times 1$\n",
    "\n",
    "Also notice that:\n",
    "$(n-1)! = (n - 1) \\times (n - 2) \\times (n - 3) \\times \\dots \\times 2 \\times 1$\n",
    "\n",
    "Hence:\n",
    "$n! = n \\times (n - 1)!$\n",
    "\n",
    "\n",
    "\n",
    "The base case is vitally important to a recursive function; without it, the process might never end. For `factorial(n)`, the function would continue to call itself with negative numbers and never return a value to the original call. Here, the base is when $n = 1$ or $n! = n$. The recursive case is $n! = n \\times (n - 1)!$\n",
    "\n",
    "In a recursive Python function, this would look like:"
   ]
  },
  {
   "cell_type": "code",
   "execution_count": null,
   "metadata": {
    "colab": {},
    "colab_type": "code",
    "collapsed": true,
    "id": "ISiutp6NciW9",
    "jupyter": {
     "outputs_hidden": true
    }
   },
   "outputs": [],
   "source": [
    "def factorial(n):\n",
    "    if n == 1:\n",
    "        return n\n",
    "    else:\n",
    "        return n * factorial(n-1)  # <<-- Notice how the function does factorial(n-1) within factorial(n)!"
   ]
  },
  {
   "cell_type": "code",
   "execution_count": null,
   "metadata": {
    "colab": {
     "base_uri": "https://localhost:8080/",
     "height": 35
    },
    "colab_type": "code",
    "executionInfo": {
     "elapsed": 3679,
     "status": "ok",
     "timestamp": 1572873491116,
     "user": {
      "displayName": "Jonathan Botha",
      "photoUrl": "",
      "userId": "05591136402895135214"
     },
     "user_tz": -120
    },
    "id": "nibQot8nMwK9",
    "outputId": "825518d5-3f0f-4ba7-b817-8900580f6607"
   },
   "outputs": [],
   "source": [
    "factorial(5) == 120"
   ]
  },
  {
   "cell_type": "markdown",
   "metadata": {
    "colab_type": "text",
    "id": "I_DI1u4fcoc4"
   },
   "source": [
    "Notice what the function is doing. It essentially runs a version of itself `factorial(n-1)` right within itself (`factorial(n)`).\n",
    "\n",
    "For each function call, the `return` statements must resolve entirely before it completes. Let's write a recursive function with print statements to see how Python manages memory."
   ]
  },
  {
   "cell_type": "code",
   "execution_count": 2,
   "metadata": {
    "colab": {},
    "colab_type": "code",
    "collapsed": true,
    "id": "Jgjb7SYAIsYA",
    "jupyter": {
     "outputs_hidden": true
    }
   },
   "outputs": [],
   "source": [
    "def factorial(n):\n",
    "    if n == 1:\n",
    "        return n\n",
    "    else:\n",
    "        print(\"n = \", n, \"; now calling factorial(n-1)\", sep = \"\")\n",
    "        lower_fact = factorial(n-1)\n",
    "        current_fact = n * lower_fact \n",
    "        print(\"n = \",n, \"; factorial(n-1) returned \", lower_fact,\"; multiplied by n to get \", current_fact, sep = \"\") \n",
    "        return  current_fact"
   ]
  },
  {
   "cell_type": "code",
   "execution_count": 3,
   "metadata": {
    "colab": {},
    "colab_type": "code",
    "id": "68XM9ASeIvyK"
   },
   "outputs": [
    {
     "name": "stdout",
     "output_type": "stream",
     "text": [
      "n = 5; now calling factorial(n-1)\n",
      "n = 4; now calling factorial(n-1)\n",
      "n = 3; now calling factorial(n-1)\n",
      "n = 2; now calling factorial(n-1)\n",
      "n = 2; factorial(n-1) returned 1; multiplied by n to get 2\n",
      "n = 3; factorial(n-1) returned 2; multiplied by n to get 6\n",
      "n = 4; factorial(n-1) returned 6; multiplied by n to get 24\n",
      "n = 5; factorial(n-1) returned 24; multiplied by n to get 120\n"
     ]
    },
    {
     "data": {
      "text/plain": [
       "120"
      ]
     },
     "execution_count": 3,
     "metadata": {},
     "output_type": "execute_result"
    }
   ],
   "source": [
    "factorial(5) "
   ]
  },
  {
   "cell_type": "markdown",
   "metadata": {
    "colab_type": "text",
    "id": "mCNO1sF2-wsF"
   },
   "source": [
    "Remember, recursion is not like loops. The interpreter does not move beyond line 6 until after it meets the base case and one of the function calls actually completes."
   ]
  },
  {
   "cell_type": "markdown",
   "metadata": {
    "colab_type": "text",
    "id": "ApLa3bUw-wsG"
   },
   "source": [
    "### Why recursion?"
   ]
  },
  {
   "cell_type": "markdown",
   "metadata": {},
   "source": [
    "### Example 4\n",
    "\n",
    "It is possible to write an iterative version of any recursive algorithm. For example, we could use a while loop to calculate factorials. The `factorial` function calculates the factorial of a number `n` by iteratively multiplying a result variable by every integer from `2` up to `n`."
   ]
  },
  {
   "cell_type": "code",
   "execution_count": null,
   "metadata": {
    "colab": {},
    "colab_type": "code",
    "collapsed": true,
    "id": "0vM1qcBOAGPA",
    "jupyter": {
     "outputs_hidden": true
    }
   },
   "outputs": [],
   "source": [
    "def factorial(n):\n",
    "    result = 1\n",
    "    count = 2\n",
    "  \n",
    "    while count <= n:\n",
    "        result = result * count\n",
    "        count = count + 1\n",
    "    \n",
    "    return result"
   ]
  },
  {
   "cell_type": "code",
   "execution_count": null,
   "metadata": {
    "colab": {},
    "colab_type": "code",
    "id": "pnhnESGXI-OV"
   },
   "outputs": [],
   "source": [
    "factorial(4)"
   ]
  },
  {
   "cell_type": "markdown",
   "metadata": {},
   "source": [
    "This solution is short and relatively simple. How do they compare?\n",
    "\n",
    "* The iterative solution uses _one_ loop, _three_ variables, and _three_ distinct calculations. \n",
    "* The recursive solution uses _zero_ loops, _one_ variable, and _two_ calculations. \n",
    "\n",
    "As the calculations become more complicated, iterative solutions grow in complexity."
   ]
  },
  {
   "cell_type": "markdown",
   "metadata": {},
   "source": [
    "### Merge sort algorithm\n",
    "\n",
    "Let's look at a common sorting algorithm: **merge sort**.\n",
    "\n",
    "Merge sort works by splitting an array in half to create two smaller arrays. It continues to split the smaller arrays in half to produce even smaller arrays. Once the arrays are of length one, the splitting stops and the merging begins. Each merge will merge two arrays in the correct order to create a larger array. The merging continues until no more merges are possible.\n",
    "\n",
    "We can also think of this recursively. Let's refer to the function as `merge_sort`. `merge_sort` starts by splitting an array into a left half and a right half. Sort the left half of this array using `merge_sort`. Sort the right half of this array using `merge_sort`. Merge the sorted left half and right half of this array. `merge_sort` returns this merged array. The following image demonstrates the merge sort process.\n",
    "\n",
    "<div>\n",
    "    <img src=\"https://raw.githubusercontent.com/Explore-AI/Pictures/fd0806d19fa5bf690e7999632e8563fbb6db603f/63670147-7fc19080-c80e-11e9-907f-7c4f341746a2.png\" width=400>\n",
    "</div>\n",
    "\n",
    "Let's compare the complexity of the recursive implementation of merge sort with the iterative implementation."
   ]
  },
  {
   "cell_type": "markdown",
   "metadata": {
    "colab_type": "text",
    "id": "cL4JFYO0-wsW"
   },
   "source": [
    "### Example 5\n",
    "\n",
    "**Recursive merge sort:** The following is a typical recursive implementation of merge sort, obtained from [Geeksforgeeks](https://www.geeksforgeeks.org/iterative-merge-sort/) and implemented by Mohit Gupta.\n",
    "\n",
    "The `merge_sort` function recursively splits an array into halves until it reaches arrays of single elements and then merges these arrays in a sorted order. It compares the elements of each pair of arrays, merging them into a larger sorted array, until the entire array is sorted."
   ]
  },
  {
   "cell_type": "code",
   "execution_count": null,
   "metadata": {
    "colab": {},
    "colab_type": "code",
    "collapsed": true,
    "id": "ZqXn15BiJzQD",
    "jupyter": {
     "outputs_hidden": true
    }
   },
   "outputs": [],
   "source": [
    "def merge_sort(arr):\n",
    "    \"\"\"Execute the merge sort algorithm\"\"\"\n",
    "    if len(arr) > 1:\n",
    "        # recursive case\n",
    "        mid = len(arr) // 2 # find the midpoint of the array\n",
    "        l = arr[:mid] # define the left half of the array\n",
    "        r = arr[mid:] # define the right half of the array\n",
    "        \n",
    "        l = merge_sort(l) # sort the left half by calling this function\n",
    "        r = merge_sort(r) # sort the right half by calling this function\n",
    "        \n",
    "        # now merge the two lists\n",
    "        merged = [] # define an empty merged array\n",
    "        while len(l) > 0 and len(r) > 0:\n",
    "            # compare the heads of the left and right array\n",
    "            if l[0] <= r[0]:\n",
    "                # if the head of the left list is smaller than the head of the right list\n",
    "                # pop the head of the left list and append it to the merged list\n",
    "                merged.append(l.pop(0))\n",
    "            else:\n",
    "                # otherwise, pop the head of the right list and append that\n",
    "                merged.append(r.pop(0))\n",
    "                \n",
    "        # add any elements remaining in the left or right list to the merged list\n",
    "        merged = merged + l + r\n",
    "        \n",
    "        return merged\n",
    "    else:\n",
    "        # base case\n",
    "        return arr"
   ]
  },
  {
   "cell_type": "code",
   "execution_count": null,
   "metadata": {
    "colab": {
     "base_uri": "https://localhost:8080/",
     "height": 35
    },
    "colab_type": "code",
    "executionInfo": {
     "elapsed": 1033,
     "status": "ok",
     "timestamp": 1574679110385,
     "user": {
      "displayName": "Anga Tinzi",
      "photoUrl": "https://lh3.googleusercontent.com/-XX7pcLif7ls/AAAAAAAAAAI/AAAAAAAAAmc/OvDBL-5WheA/s64/photo.jpg",
      "userId": "01440823023130494280"
     },
     "user_tz": -120
    },
    "id": "FSCgmhE2KLWf",
    "outputId": "e58a4833-022c-41ce-f5e5-c9e05d61dcf4"
   },
   "outputs": [],
   "source": [
    "arr = [5,4,9,11,17,1,3,15]\n",
    "merge_sort(arr)"
   ]
  },
  {
   "cell_type": "markdown",
   "metadata": {
    "colab_type": "text",
    "id": "fnXUDj_E-wsZ"
   },
   "source": [
    "### Example 6\n",
    "\n",
    "**Iterative merge sort:** The following example is of an iterative implementation of merge sort, created by Madhur Chhangani and obtained from [Geeksforgeeks](https://www.geeksforgeeks.org/iterative-merge-sort/).\n",
    "\n",
    "The `mergeSort` function is an iterative version of the merge sort algorithm that sorts an array by repeatedly merging subarrays of increasing sizes; it uses a helper function `merge` to combine two sorted subarrays into a single sorted segment. The process starts with subarrays of size one and doubles the size each iteration, merging adjacent subarrays until the whole array is sorted."
   ]
  },
  {
   "cell_type": "code",
   "execution_count": null,
   "metadata": {
    "colab": {},
    "colab_type": "code",
    "collapsed": true,
    "id": "uSEnngoTKRKT",
    "jupyter": {
     "outputs_hidden": true
    }
   },
   "outputs": [],
   "source": [
    "def mergeSort(a):  \n",
    "      \n",
    "    current_size = 1\n",
    "      \n",
    "    # Outer loop for traversing Each  \n",
    "    # subarray of current_size  \n",
    "    while current_size < len(a) - 1:  \n",
    "          \n",
    "        left = 0\n",
    "        # Inner loop for merge call  \n",
    "        # in a subarray  \n",
    "        # Each complete Iteration sorts  \n",
    "        # the iterating subarray  \n",
    "        while left < len(a)-1:  \n",
    "              \n",
    "            # mid index = left index of  \n",
    "            # subarray + current sub  \n",
    "            # array size - 1  \n",
    "            mid = min((left + current_size - 1),(len(a)-1)) \n",
    "              \n",
    "            # (False result,True result)  \n",
    "            # [Condition] Can use current_size  \n",
    "            # if 2 * current_size < len(a)-1  \n",
    "            # else len(a)-1  \n",
    "            right = ((2 * current_size + left - 1,  \n",
    "                    len(a) - 1)[2 * current_size  \n",
    "                        + left - 1 > len(a)-1])  \n",
    "                              \n",
    "            # Merge call for each subarray  \n",
    "            merge(a, left, mid, right)  \n",
    "            left = left + current_size*2\n",
    "              \n",
    "        # Increasing subarray size by  \n",
    "        # multiple of 2  \n",
    "        current_size = 2 * current_size  \n",
    "\n",
    "        \n",
    "def merge(a, l, m, r): \n",
    "    n1 = m - l + 1\n",
    "    n2 = r - m \n",
    "    L = [0] * n1 \n",
    "    R = [0] * n2 \n",
    "    for i in range(0, n1): \n",
    "        L[i] = a[l + i] \n",
    "    for i in range(0, n2): \n",
    "        R[i] = a[m + i + 1] \n",
    "  \n",
    "    i, j, k = 0, 0, l \n",
    "    while i < n1 and j < n2: \n",
    "        if L[i] > R[j]: \n",
    "            a[k] = R[j] \n",
    "            j += 1\n",
    "        else: \n",
    "            a[k] = L[i] \n",
    "            i += 1\n",
    "        k += 1\n",
    "  \n",
    "    while i < n1: \n",
    "        a[k] = L[i] \n",
    "        i += 1\n",
    "        k += 1\n",
    "  \n",
    "    while j < n2: \n",
    "        a[k] = R[j] \n",
    "        j += 1\n",
    "        k += 1\n",
    "    return a"
   ]
  },
  {
   "cell_type": "code",
   "execution_count": null,
   "metadata": {
    "colab": {
     "base_uri": "https://localhost:8080/",
     "height": 35
    },
    "colab_type": "code",
    "executionInfo": {
     "elapsed": 1032,
     "status": "ok",
     "timestamp": 1574679466449,
     "user": {
      "displayName": "Anga Tinzi",
      "photoUrl": "https://lh3.googleusercontent.com/-XX7pcLif7ls/AAAAAAAAAAI/AAAAAAAAAmc/OvDBL-5WheA/s64/photo.jpg",
      "userId": "01440823023130494280"
     },
     "user_tz": -120
    },
    "id": "IcG7wctsMXGw",
    "outputId": "7e5e982d-d0c2-4236-bf4f-92c38edb5cd9"
   },
   "outputs": [],
   "source": [
    "arr = [5,4,9,11,17,1,3,15]\n",
    "mergeSort(arr)\n",
    "arr"
   ]
  },
  {
   "cell_type": "markdown",
   "metadata": {
    "colab_type": "text",
    "id": "pKAufybD-wsb"
   },
   "source": [
    "The iterative implementation is significantly more complicated because we have to use sub-lists and several different loops to handle the merge for each iteration. The recursive implementation is decidedly lighter. Two things stand out:\n",
    "1. The iterative implementation requires a nested while loop; recursive implementation requires none.\n",
    "2. The recursive's `merge` function uses only one loop and requires only two parameters.\n",
    "\n",
    "Ultimately, both algorithms are _O(nlogn)_ in Big O Notation. Computers do not care much about which one you pick, however, recursive implementations are often easier to write and read. "
   ]
  },
  {
   "cell_type": "markdown",
   "metadata": {},
   "source": [
    "## Additional resources\n",
    "\n",
    "The following resources can be explored for further insight into the concepts covered within the notebook:\n",
    "- [Recursion primer](https://medium.freecodecamp.org/how-recursion-works-explained-with-flowcharts-and-a-video-de61f40cb7f9)\n",
    "- [Recursion made simple](https://medium.com/code-zen/recursion-demystified-24867f045c62)\n",
    "- [Explain recursion to me like I am a five year old](https://www.reddit.com/r/learnprogramming/comments/5w50g5/eli5_what_is_recursion/)"
   ]
  }
 ],
 "metadata": {
  "colab": {
   "collapsed_sections": [],
   "name": "V2_Recursion Functions.ipynb",
   "provenance": []
  },
  "kernelspec": {
   "display_name": "Python 3 (ipykernel)",
   "language": "python",
   "name": "python3"
  },
  "language_info": {
   "codemirror_mode": {
    "name": "ipython",
    "version": 3
   },
   "file_extension": ".py",
   "mimetype": "text/x-python",
   "name": "python",
   "nbconvert_exporter": "python",
   "pygments_lexer": "ipython3",
   "version": "3.11.5"
  },
  "toc": {
   "base_numbering": 1,
   "nav_menu": {},
   "number_sections": true,
   "sideBar": true,
   "skip_h1_title": false,
   "title_cell": "Table of Contents",
   "title_sidebar": "Contents",
   "toc_cell": false,
   "toc_position": {
    "height": "calc(100% - 180px)",
    "left": "10px",
    "top": "150px",
    "width": "384px"
   },
   "toc_section_display": true,
   "toc_window_display": true
  },
  "varInspector": {
   "cols": {
    "lenName": 16,
    "lenType": 16,
    "lenVar": 40
   },
   "kernels_config": {
    "python": {
     "delete_cmd_postfix": "",
     "delete_cmd_prefix": "del ",
     "library": "var_list.py",
     "varRefreshCmd": "print(var_dic_list())"
    },
    "r": {
     "delete_cmd_postfix": ") ",
     "delete_cmd_prefix": "rm(",
     "library": "var_list.r",
     "varRefreshCmd": "cat(var_dic_list()) "
    }
   },
   "types_to_exclude": [
    "module",
    "function",
    "builtin_function_or_method",
    "instance",
    "_Feature"
   ],
   "window_display": false
  }
 },
 "nbformat": 4,
 "nbformat_minor": 4
}
