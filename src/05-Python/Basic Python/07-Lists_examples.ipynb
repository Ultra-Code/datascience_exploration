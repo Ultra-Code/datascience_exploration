{
 "cells": [
  {
   "cell_type": "markdown",
   "id": "2c9df63a",
   "metadata": {},
   "source": [
    "<div align=\"center\" style=\" font-size: 80%; text-align: center; margin: 0 auto\">\n",
    "<img src=\"https://raw.githubusercontent.com/Explore-AI/Pictures/master/Python-Notebook-Banners/Examples.png\"  style=\"display: block; margin-left: auto; margin-right: auto;\";/>\n",
    "</div>"
   ]
  },
  {
   "cell_type": "markdown",
   "id": "f662d169",
   "metadata": {},
   "source": [
    "# Examples: Lists\n",
    "© ExploreAI Academy"
   ]
  },
  {
   "cell_type": "markdown",
   "id": "26af890c",
   "metadata": {},
   "source": [
    "In this notebook, we will look at how to create lists and some of the ways we can manipulate them."
   ]
  },
  {
   "cell_type": "markdown",
   "id": "2d230d14",
   "metadata": {
    "tags": []
   },
   "source": [
    "## Learning objectives\n",
    "\n",
    "By the end of this train, you should:\n",
    "\n",
    "- Know how to create a regular list and a nested list.\n",
    "- Understand the operations that can be performed on lists such as concatenation, copying, and sorting.\n",
    "- Know how to use indexing to access elements and slice a list.\n",
    "- Understand list characteristics such as mutability and duplicates.\n"
   ]
  },
  {
   "cell_type": "markdown",
   "id": "e6d60bbf",
   "metadata": {},
   "source": [
    "## Examples"
   ]
  },
  {
   "cell_type": "markdown",
   "id": "352247f5",
   "metadata": {},
   "source": [
    "### 1. Initialise an empty list\n",
    "\n",
    "An empty list is created by assigning empty square brackets, `[ ]`, to a variable."
   ]
  },
  {
   "cell_type": "code",
   "execution_count": null,
   "id": "6365c2aa",
   "metadata": {},
   "outputs": [],
   "source": [
    "# Create an empty list called \"mammals\"\n",
    "mammals = []\n",
    "mammals"
   ]
  },
  {
   "cell_type": "markdown",
   "id": "bb83e75d",
   "metadata": {},
   "source": [
    "### 2. Create a list\n",
    "\n",
    "A list can be explicitly created by **assigning a group of comma-separated values** enclosed within **square brackets** to a variable."
   ]
  },
  {
   "cell_type": "code",
   "execution_count": null,
   "id": "30f39494",
   "metadata": {},
   "outputs": [],
   "source": [
    "# Create a list, defined within square brackets\n",
    "mammals = [\"Lion\", \"Elephant\", \"Dolphin\"]\n",
    "mammals"
   ]
  },
  {
   "cell_type": "markdown",
   "id": "e157b7d5",
   "metadata": {},
   "source": [
    "We can also use the `list()` constructor to create a list from an iterable, such as a tuple."
   ]
  },
  {
   "cell_type": "code",
   "execution_count": null,
   "id": "9720fed2",
   "metadata": {},
   "outputs": [],
   "source": [
    "# Create a list from a tuple using the list constructor\n",
    "birds = list((\"Eagle\", \"Penguin\", \"Parrot\"))\n",
    "birds"
   ]
  },
  {
   "cell_type": "markdown",
   "id": "ebca98e6",
   "metadata": {},
   "source": [
    "### 3. Range() function\n",
    "\n",
    "We can use the `range()` function to **generate a sequence of numbers** based on a given start and end point.\n",
    "\n",
    "> Syntax: `range(start, stop, step)`\n",
    "\n",
    "- **start:** An integer number specifying the start point (**included**).\n",
    "- **stop:** An integer number specifying the end point (**not included**).\n",
    "- **step:** An integer number specifying the incrementation. The default is 1.\n",
    "\n",
    "We then pass the result of the range function to the `list()` constructor to convert it to a list."
   ]
  },
  {
   "cell_type": "code",
   "execution_count": null,
   "id": "a21dd2db",
   "metadata": {},
   "outputs": [],
   "source": [
    "# Generate a sequence of numbers starting from 0 to 4\n",
    "range_list = list(range(0,5))\n",
    "range_list"
   ]
  },
  {
   "cell_type": "markdown",
   "id": "a7155bfb",
   "metadata": {},
   "source": [
    "### 4. Print a list\n",
    "\n",
    "To view the contents of a list, we can pass the list variable name to the `print()` function."
   ]
  },
  {
   "cell_type": "code",
   "execution_count": null,
   "id": "c2d9d541",
   "metadata": {},
   "outputs": [],
   "source": [
    "# Print the contents of the variables, birds and range_list\n",
    "print(birds)\n",
    "print(range_list)"
   ]
  },
  {
   "cell_type": "markdown",
   "id": "c872c671",
   "metadata": {},
   "source": [
    "### 5. List type\n",
    "\n",
    "To verify that our variable is a `list`, we can pass the variable name to the `type()` function."
   ]
  },
  {
   "cell_type": "code",
   "execution_count": null,
   "id": "29f9fad0",
   "metadata": {},
   "outputs": [],
   "source": [
    "# Check the type of the variable\n",
    "type(birds)"
   ]
  },
  {
   "cell_type": "markdown",
   "id": "553015f8",
   "metadata": {},
   "source": [
    "The output `list` confirms that we have created a list. "
   ]
  },
  {
   "cell_type": "markdown",
   "id": "74fa7a08",
   "metadata": {},
   "source": [
    "### 6. Concatenating lists\n",
    "\n",
    "We can concatenate two lists using the `+` operator. This creates a new list containing elements from both lists. "
   ]
  },
  {
   "cell_type": "code",
   "execution_count": null,
   "id": "50a9aa3d",
   "metadata": {},
   "outputs": [],
   "source": [
    "# Combine the mammals and birds lists\n",
    "animals_combined = mammals + birds\n",
    "print(animals_combined)"
   ]
  },
  {
   "cell_type": "markdown",
   "id": "6889b31d",
   "metadata": {},
   "source": [
    "### 7. Copying a list\n",
    "\n",
    "A copy of a list can be created using the `copy()` method. This is useful when we want to modify a copy of a list while keeping the original unchanged."
   ]
  },
  {
   "cell_type": "code",
   "execution_count": null,
   "id": "aec1439f",
   "metadata": {},
   "outputs": [],
   "source": [
    "# Create a copy of the mammals list\n",
    "mammals_copy = mammals.copy()\n",
    "\n",
    "print(mammals, mammals_copy)"
   ]
  },
  {
   "cell_type": "markdown",
   "id": "b65c5ea4",
   "metadata": {},
   "source": [
    "### 8. Nested lists\n",
    "\n",
    "Nested lists occur when we have a **list containing another list or lists** as its element(s). They are useful when working with structured data.\n",
    "\n",
    "We can create a nested list by assigning two or more list variable names, separated by commas, to a variable."
   ]
  },
  {
   "cell_type": "code",
   "execution_count": null,
   "id": "9da39f24",
   "metadata": {},
   "outputs": [],
   "source": [
    "# Create a nested list containing the mammals and birds lists within it\n",
    "animals_grouped = [mammals, birds]\n",
    "print(animals_grouped)"
   ]
  },
  {
   "cell_type": "markdown",
   "id": "b5ec8f61",
   "metadata": {},
   "source": [
    "Alternatively, we can create a nested list by using lists directly in the variable definition."
   ]
  },
  {
   "cell_type": "code",
   "execution_count": null,
   "id": "925fdb93",
   "metadata": {},
   "outputs": [],
   "source": [
    "# Create a nested list containing the mammals and birds lists within it\n",
    "animals_grouped = [['Lion', 'Elephant', 'Dolphin'], ['Eagle', 'Penguin', 'Parrot']]\n",
    "print(animals_grouped)"
   ]
  },
  {
   "cell_type": "markdown",
   "id": "8f459e1c",
   "metadata": {},
   "source": [
    "### 9. Indexing \n",
    "\n",
    "Since lists are ordered, each element is **assigned an index** that corresponds to its position, starting with index 0.\n",
    "\n",
    "Therefore, the index of an item is **equal to its position in the list, less one**. For example, the **4th element** will have the index `3`."
   ]
  },
  {
   "cell_type": "markdown",
   "id": "c09bb160",
   "metadata": {},
   "source": [
    "#### a) `index()` method\n",
    "\n",
    "We can use the `index()` method to return the index of a specified value."
   ]
  },
  {
   "cell_type": "code",
   "execution_count": null,
   "id": "27648a32",
   "metadata": {},
   "outputs": [],
   "source": [
    "# Return the index of the \"Eagle\" element from the birds list\n",
    "first_index = birds.index(\"Eagle\")\n",
    "print(first_index)"
   ]
  },
  {
   "cell_type": "markdown",
   "id": "09060121",
   "metadata": {},
   "source": [
    "**Note:** If the specified value appears multiple times in the list, the `index()` function will return the index of the **first occurrence** of that value."
   ]
  },
  {
   "cell_type": "markdown",
   "id": "0c8f5db0",
   "metadata": {},
   "source": [
    "#### b) Access elements in a simple list\n",
    "\n",
    "We can use the index notation to access a specific element using its index.\n",
    "\n",
    "> **Syntax:** `list[index]`\n",
    "\n",
    "For instance, if we want to **access the 2nd element** in the list, we will **pass the index** `1` to the notation. The value at index 1 is returned."
   ]
  },
  {
   "cell_type": "code",
   "execution_count": null,
   "id": "af21fd73",
   "metadata": {},
   "outputs": [],
   "source": [
    "# Return the element at index 1 from birds\n",
    "second_item = birds[1]\n",
    "print(second_item)"
   ]
  },
  {
   "cell_type": "markdown",
   "id": "ab3908cf",
   "metadata": {},
   "source": [
    "#### c) Access elements in a nested list\n",
    "\n",
    "When it comes to nested lists, we can either access an entire inner list or a specific element within an inner list.\n",
    "\n",
    "To **access an entire inner list**, we use the index corresponding to the list's position within the nested list."
   ]
  },
  {
   "cell_type": "code",
   "execution_count": null,
   "id": "9e8d1496",
   "metadata": {},
   "outputs": [],
   "source": [
    "# Return the inner list at index 0\n",
    "animals_grouped = [['Lion', 'Elephant', 'Dolphin'], ['Eagle', 'Penguin', 'Parrot']]\n",
    "mammals = animals_grouped[0]\n",
    "print(mammals)"
   ]
  },
  {
   "cell_type": "markdown",
   "id": "7b94e6fe",
   "metadata": {},
   "source": [
    "To **access a specific element within an inner list**, we use multiple indices, each corresponding to a level of nesting."
   ]
  },
  {
   "cell_type": "code",
   "execution_count": null,
   "id": "d31ebf29",
   "metadata": {},
   "outputs": [],
   "source": [
    "# Return the element at index 1 from the inner list at index 0\n",
    "animals_grouped = [['Lion', 'Elephant', 'Dolphin'], ['Eagle', 'Penguin', 'Parrot']]\n",
    "second_mammal = animals_grouped[0][1]\n",
    "print(second_mammal)"
   ]
  },
  {
   "cell_type": "markdown",
   "id": "0d003289",
   "metadata": {},
   "source": [
    "### 10. Slicing\n",
    "\n",
    "We use slicing when we wish to **return a sequence of values** from a list instead of just a single value.\n",
    "\n",
    "> **Syntax:** `list[start:end]`\n",
    "\n",
    "- **start:** The index from which the slicing begins (included).\n",
    "- **end:** The index at which the slicing ends (not included).\n",
    "\n",
    "For instance, if we want to slice from the **3rd** to the **5th element**, the start index will be `2` (to be included), and the end index will be `5` (not to be included)."
   ]
  },
  {
   "cell_type": "code",
   "execution_count": null,
   "id": "54f8ae82",
   "metadata": {},
   "outputs": [],
   "source": [
    "# Slice animals_combined from index 2 to index 4\n",
    "animals_combined = ['Lion', 'Elephant', 'Dolphin', 'Eagle', 'Penguin', 'Parrot']\n",
    "sliced_list = animals_combined[2:5]\n",
    "print(sliced_list)"
   ]
  },
  {
   "cell_type": "markdown",
   "id": "82fe96f1",
   "metadata": {},
   "source": [
    "### 11. Duplicates\n",
    "\n",
    "Since lists are ordered and indexed, they **allow duplicate elements**."
   ]
  },
  {
   "cell_type": "code",
   "execution_count": null,
   "id": "9d9b8b9a",
   "metadata": {},
   "outputs": [],
   "source": [
    "# Duplicate the mammals list\n",
    "mammals_duplicated = mammals + mammals\n",
    "print(mammals_duplicated)"
   ]
  },
  {
   "cell_type": "markdown",
   "id": "ac401f47",
   "metadata": {},
   "source": [
    "### 12. Modification\n",
    "\n",
    "Lists are also mutable allowing us to **add, remove, or modify** elements in an existing list."
   ]
  },
  {
   "cell_type": "markdown",
   "id": "584b6938",
   "metadata": {},
   "source": [
    "#### a) Adding elements:\n",
    "\n",
    "- `append()`: This adds the element passed into it **as a single element** to the end of the list.\n",
    "- `extend()`: This adds elements passed into it **as separate elements** to the end of the list.\n",
    "- `insert()`: This inserts an element at a specified position."
   ]
  },
  {
   "cell_type": "code",
   "execution_count": null,
   "id": "223f5395",
   "metadata": {},
   "outputs": [],
   "source": [
    "mammals_copy = mammals.copy()\n",
    "\n",
    "# Add a list element to mammals_copy\n",
    "mammals_copy.append([\"Cat\", \"Dog\"])\n",
    "print(mammals_copy)\n",
    "\n",
    "# Add individual elements to mammals_copy\n",
    "mammals_copy.extend([\"Bear\", \"Horse\"])\n",
    "print(mammals_copy)\n",
    "\n",
    "# Add an element to mammals_copy at index 3\n",
    "mammals_copy.insert(3, \"Tiger\")\n",
    "print(mammals_copy)"
   ]
  },
  {
   "cell_type": "markdown",
   "id": "ad93bd40",
   "metadata": {},
   "source": [
    "#### b) Removing elements:\n",
    "\n",
    "- `del()`: This deletes an element or multiple elements from the list at the specified index value/s.\n",
    "- `remove()`: This removes the first occurrence of a specified value from the list.\n",
    "- `pop()`: This removes and returns the element at the specified index."
   ]
  },
  {
   "cell_type": "code",
   "execution_count": null,
   "id": "591ea4c9",
   "metadata": {},
   "outputs": [],
   "source": [
    "print(mammals_copy)\n",
    "\n",
    "# Remove the elements at index 4 and 5 from mammals_copy\n",
    "del mammals_copy[4:6]\n",
    "print(mammals_copy)\n",
    "\n",
    "# Remove the element \"Horse\" from mammals_copy\n",
    "mammals_copy.remove(\"Horse\")\n",
    "print(mammals_copy)\n",
    "\n",
    "# Remove and return the element at index 2 from mammals_copy\n",
    "third_mammal = mammals_copy.pop(2)\n",
    "print(third_mammal)\n",
    "print(mammals_copy)"
   ]
  },
  {
   "cell_type": "markdown",
   "id": "9175569f",
   "metadata": {},
   "source": [
    "#### c) Modifying elements:\n",
    "\n",
    "We can change the value of an element at a given index:"
   ]
  },
  {
   "cell_type": "code",
   "execution_count": null,
   "id": "095426c6",
   "metadata": {},
   "outputs": [],
   "source": [
    "# Modify element at index 1\n",
    "mammals_copy[1] = \"Cheetah\"\n",
    "print(mammals_copy)"
   ]
  },
  {
   "cell_type": "markdown",
   "id": "cf7aa581",
   "metadata": {},
   "source": [
    "### 13. Check membership\n",
    "\n",
    "We can check for the presence of an element in a list using the `in` keyword. If present, `True` is returned."
   ]
  },
  {
   "cell_type": "code",
   "execution_count": null,
   "id": "20310f0f",
   "metadata": {},
   "outputs": [],
   "source": [
    "# Checking if the element \"Tiger\" is in the birds list\n",
    "\"Lion\" in birds"
   ]
  },
  {
   "cell_type": "code",
   "execution_count": null,
   "id": "f456bf18",
   "metadata": {},
   "outputs": [],
   "source": [
    "# Checking if the element \"Tiger\" is in the mammals list\n",
    "\"Lion\" in mammals"
   ]
  },
  {
   "cell_type": "markdown",
   "id": "b1900da2",
   "metadata": {},
   "source": [
    "### 14. Ordering a list\n",
    "\n",
    "We can sort the elements in a list using two primary methods:"
   ]
  },
  {
   "cell_type": "markdown",
   "id": "0fb6ffee",
   "metadata": {},
   "source": [
    "#### a) `sort()`\n",
    "\n",
    "This sorts the list in ascending order **in place**. \n",
    "\n",
    "**Note:** To sort the list in descending order, we can specify the **reverse parameter** as `True`."
   ]
  },
  {
   "cell_type": "code",
   "execution_count": null,
   "id": "d23b8cb6",
   "metadata": {},
   "outputs": [],
   "source": [
    "# Sort the elements in mammals_copy in ascending order, in place\n",
    "mammals_copy.sort()\n",
    "print(mammals_copy)\n",
    "\n",
    "# Sort the elements in mammals_copy in descending order, in place\n",
    "mammals_copy.sort(reverse=True)\n",
    "print(mammals_copy)"
   ]
  },
  {
   "cell_type": "markdown",
   "id": "cdc8d621",
   "metadata": {},
   "source": [
    "#### b) `sorted()`\n",
    "\n",
    "This returns a **new sorted list** without modifying the original one.\n",
    "\n",
    "**Note:** To sort the list in descending order, we can specify the **reverse parameter** to `True`."
   ]
  },
  {
   "cell_type": "code",
   "execution_count": null,
   "id": "0aefebde",
   "metadata": {},
   "outputs": [],
   "source": [
    "print(animals_combined)\n",
    "\n",
    "# Create a new list containing the elements in animals_combined sorted in descending order\n",
    "animals_sorted = sorted(animals_combined, reverse = True)\n",
    "print(animals_sorted)"
   ]
  },
  {
   "cell_type": "markdown",
   "id": "69afcb1b",
   "metadata": {},
   "source": [
    "### 15. Boolean methods"
   ]
  },
  {
   "cell_type": "markdown",
   "id": "30b30dff",
   "metadata": {},
   "source": [
    "#### a) `any()`\n",
    "\n",
    "Returns `True` if at least one element in the list evaluates to `True`.\n",
    "\n",
    "**Note:** Values that evaluate to true include **non-zero numbers**, **non-empty sequences**, and the **boolean value `True`**. "
   ]
  },
  {
   "cell_type": "code",
   "execution_count": null,
   "id": "5b148344",
   "metadata": {},
   "outputs": [],
   "source": [
    "# Check if at least one element in the list is True\n",
    "boolean_list = [False, True]\n",
    "any(boolean_list)"
   ]
  },
  {
   "cell_type": "markdown",
   "id": "1191cab5",
   "metadata": {},
   "source": [
    "#### b) `all()`\n",
    "\n",
    "Returns `True` if all the elements in the list are `True`."
   ]
  },
  {
   "cell_type": "code",
   "execution_count": null,
   "id": "975cdc9d",
   "metadata": {},
   "outputs": [],
   "source": [
    "# Check if all the elements in the list are True\n",
    "all(boolean_list)"
   ]
  },
  {
   "cell_type": "markdown",
   "id": "e2897b8a",
   "metadata": {},
   "source": [
    "### 16. Other list methods\n",
    "\n",
    "There are some built-in methods we can use when working with lists."
   ]
  },
  {
   "cell_type": "markdown",
   "id": "9e42975e",
   "metadata": {},
   "source": [
    "#### a) `len()`\n",
    "\n",
    "We use the `len()` function to determine how many elements a list has."
   ]
  },
  {
   "cell_type": "code",
   "execution_count": null,
   "id": "b6ea02a9",
   "metadata": {},
   "outputs": [],
   "source": [
    "print(animals_grouped)\n",
    "\n",
    "# Return the number of elements (inner lists) in animals_grouped\n",
    "length_of_list = len(animals_grouped)\n",
    "print(f\"No. of animal groups: {length_of_list}\")"
   ]
  },
  {
   "cell_type": "markdown",
   "id": "8f031006",
   "metadata": {},
   "source": [
    "#### b) `count()` \n",
    "\n",
    "We use `count()` to count the occurrences of a particular element."
   ]
  },
  {
   "cell_type": "code",
   "execution_count": null,
   "id": "78ee5fd5",
   "metadata": {},
   "outputs": [],
   "source": [
    "birds = list((\"Eagle\", \"Penguin\", \"Parrot\"))\n",
    "\n",
    "# Count the occurrence of the value \"Parrot\" in birds\n",
    "count_parrot = birds.count(\"Parrot\")\n",
    "print(count_parrot)"
   ]
  },
  {
   "cell_type": "markdown",
   "id": "e9956efe",
   "metadata": {
    "tags": []
   },
   "source": [
    "## Summary\n",
    "\n",
    "We have looked at some ways of creating lists and manipulating them. Take time to explore other methods and operations that can be performed on lists."
   ]
  },
  {
   "cell_type": "markdown",
   "id": "26fd094b-0fee-46f1-a4b8-73766813c42b",
   "metadata": {
    "tags": []
   },
   "source": [
    "#  \n",
    "\n",
    "<div align=\"center\" style=\" font-size: 80%; text-align: center; margin: 0 auto\">\n",
    "<img src=\"https://raw.githubusercontent.com/Explore-AI/Pictures/master/ExploreAI_logos/EAI_Blue_Dark.png\"  style=\"width:200px\";/>\n",
    "</div>"
   ]
  }
 ],
 "metadata": {
  "kernelspec": {
   "display_name": "Python 3 (ipykernel)",
   "language": "python",
   "name": "python3"
  },
  "language_info": {
   "codemirror_mode": {
    "name": "ipython",
    "version": 3
   },
   "file_extension": ".py",
   "mimetype": "text/x-python",
   "name": "python",
   "nbconvert_exporter": "python",
   "pygments_lexer": "ipython3",
   "version": "3.11.4"
  }
 },
 "nbformat": 4,
 "nbformat_minor": 5
}
