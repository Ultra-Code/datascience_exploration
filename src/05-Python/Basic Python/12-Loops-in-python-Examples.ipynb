{
 "cells": [
  {
   "cell_type": "markdown",
   "id": "0319122f",
   "metadata": {},
   "source": [
    "<div align=\"center\" style=\" font-size: 80%; text-align: center; margin: 0 auto\">\n",
    "<img src=\"https://raw.githubusercontent.com/Explore-AI/Pictures/master/Python-Notebook-Banners/Examples.png\"  style=\"display: block; margin-left: auto; margin-right: auto;\";/>\n",
    "</div>"
   ]
  },
  {
   "cell_type": "markdown",
   "id": "f662d169",
   "metadata": {},
   "source": [
    "# Examples: Loops in Python\n",
    "© ExploreAI Academy"
   ]
  },
  {
   "cell_type": "markdown",
   "id": "26af890c",
   "metadata": {},
   "source": [
    "In this notebook, we will dive deeper into how loops work in Python. We're going to expand our knowledge of loops, nested loops, and loop control and learn how to create maintainable, readable, and optimal loops. "
   ]
  },
  {
   "cell_type": "markdown",
   "id": "2d230d14",
   "metadata": {
    "tags": []
   },
   "source": [
    "## Learning objectives\n",
    "\n",
    "In this train, we will:\n",
    "- Learn how to iterate through common data structures and types.\n",
    "\n",
    "- Effectively use loop control statements like `break`, `continue`, and `pass` to manage the flow of our loops.\n",
    "\n",
    "- Understand the concept of nested loops, their implications on performance, and best practices for their use.\n",
    "\n",
    "- Learn how to use list and dictionary comprehension to make short loops more readable.\n",
    "\n",
    "- Know what the best practice is for loops."
   ]
  },
  {
   "cell_type": "markdown",
   "id": "8c7b1000",
   "metadata": {},
   "source": [
    "# More about loops\n",
    "We can loop through data structures like lists, dictionaries, tuples, and even strings in a couple of different ways."
   ]
  },
  {
   "cell_type": "markdown",
   "id": "32e8e15e",
   "metadata": {},
   "source": [
    "## Lists\n",
    "\n",
    "Very often in programming, our data are contained in more than one list but represent related things. For example, we can have a list of deforestation rates for each year. In 2010, 150,000 hectares of forests were destroyed, while in 2013, it was 135,000 hectares. Suppose we want to use both the year and the rate in a loop. "
   ]
  },
  {
   "cell_type": "code",
   "execution_count": null,
   "id": "27ad1501",
   "metadata": {},
   "outputs": [],
   "source": [
    "deforestation_rates = [150, 145, 140, 135, 130]\n",
    "deforestation_years = [2010, 2011, 2012, 2013, 2014]"
   ]
  },
  {
   "cell_type": "markdown",
   "id": "86f962f2",
   "metadata": {},
   "source": [
    "If we simply loop through a list, we only get the elements of the list. "
   ]
  },
  {
   "cell_type": "code",
   "execution_count": null,
   "id": "a9fb8a69",
   "metadata": {},
   "outputs": [],
   "source": [
    "\n",
    "for rate in deforestation_rates:\n",
    "   print(f\"rate = {rate}\")"
   ]
  },
  {
   "cell_type": "markdown",
   "id": "34d572b8",
   "metadata": {},
   "source": [
    "But if we use `range(len(deforestation_rates))` to create an index counter `i`, we can loop through `i` from 0 to 4, and use `i` to retrieve the elements of both lists at index `i`."
   ]
  },
  {
   "cell_type": "code",
   "execution_count": null,
   "id": "1cd419a5",
   "metadata": {},
   "outputs": [],
   "source": [
    "for i in range(len(deforestation_rates)):\n",
    "    rate = deforestation_rates[i]\n",
    "    year = deforestation_years[i]\n",
    "    print(f\"i = {i} - Yearly deforestation rate in {year} is: {rate}k hectares\")"
   ]
  },
  {
   "cell_type": "markdown",
   "id": "17ec4c98",
   "metadata": {},
   "source": [
    "This is so useful that there is a built-in way to do it in Python called `enumerate()`. "
   ]
  },
  {
   "cell_type": "code",
   "execution_count": null,
   "id": "be852d56",
   "metadata": {},
   "outputs": [],
   "source": [
    "for i, rate in enumerate(deforestation_rates):\n",
    "    year = deforestation_years[i]\n",
    "    print(f\"i = {i} - Yearly deforestation rate in {year} is: {rate}k hectares\")"
   ]
  },
  {
   "cell_type": "markdown",
   "id": "40618b0f",
   "metadata": {},
   "source": [
    "`enumerate()` gives us access to two variables in each iteration, the index, `i`, and the value at that index, `rate`. We loop through the `deforestation_rates` list and use the index `i` to fetch the corresponding year from the `deforestation_years`."
   ]
  },
  {
   "cell_type": "markdown",
   "id": "1858a864",
   "metadata": {},
   "source": [
    "## Dictionaries\n",
    "\n",
    "### Basic\n",
    "We can loop over dictionaries too. Let's consider a simple example where we have a dictionary representing the number of different marine species observed in a coastal area."
   ]
  },
  {
   "cell_type": "code",
   "execution_count": null,
   "id": "42975130",
   "metadata": {},
   "outputs": [],
   "source": [
    "marine_species_count = {\n",
    "    'Dolphins': 12,\n",
    "    'Whales': 3,\n",
    "    'Sea Turtles': 7\n",
    "}\n",
    "\n",
    "for species in marine_species_count:\n",
    "    print(f\"{species}: {marine_species_count[species]} sightings\")\n"
   ]
  },
  {
   "cell_type": "markdown",
   "id": "bc1d9f8e",
   "metadata": {},
   "source": [
    "In this example, we iterate over the dictionary `marine_species_count`. The loop variable `species` takes each key from the dictionary (i.e. each type of marine species), and we access the corresponding value (the count of sightings) using `marine_species_count[species]`. The code prints the number of sightings for each species."
   ]
  },
  {
   "cell_type": "markdown",
   "id": "e1514317",
   "metadata": {},
   "source": [
    "We can also use the `.items()` method to access the key – `species` – and the value – `count` – of each dictionary item."
   ]
  },
  {
   "cell_type": "code",
   "execution_count": null,
   "id": "9e6ecd25",
   "metadata": {},
   "outputs": [],
   "source": [
    "marine_species_count = {\n",
    "    'Dolphins': 12,\n",
    "    'Whales': 3,\n",
    "    'Sea Turtles': 7\n",
    "}\n",
    "\n",
    "for species, count in marine_species_count.items():\n",
    "    print(f\"{species}: {count} sightings\")"
   ]
  },
  {
   "cell_type": "markdown",
   "id": "7de4dbf1",
   "metadata": {},
   "source": [
    "### Conditional processing in dictionary loop\n",
    "\n",
    "Suppose we have a dictionary tracking the deforestation area in various regions and we want to identify regions with critical deforestation (more than a certain threshold). We can loop through a dictionary with the region as the key and the millions of hectares deforested as the values. If we want to loop over the keys and values, we can use the `.items()` method, and assign `region` to the key and `area` to the value. "
   ]
  },
  {
   "cell_type": "code",
   "execution_count": null,
   "id": "947edf5b",
   "metadata": {},
   "outputs": [],
   "source": [
    "deforestation_data = {\n",
    "    'Amazon': 120,\n",
    "    'Congo Basin': 80,\n",
    "    'Southeast Asia': 95,\n",
    "    'Eastern Australia': 40\n",
    "}\n",
    "critical_threshold = 90\n",
    "\n",
    "for region, area in deforestation_data.items():\n",
    "    if area > critical_threshold:\n",
    "        print(f\"Critical deforestation in {region}: {area} square kilometres\")\n"
   ]
  },
  {
   "cell_type": "markdown",
   "id": "dd4a5579",
   "metadata": {},
   "source": [
    "Here we use `.items()` to iterate over both keys (regions) and values (deforested areas). The `if` statement checks if the deforestation area exceeds the `critical_threshold`. If it does, it prints a critical warning message."
   ]
  },
  {
   "cell_type": "markdown",
   "id": "b9a6c2a8",
   "metadata": {},
   "source": [
    "We can also only loop over the values in the dictionary, using the `.values()` method to only get the `area` values, and sum them together."
   ]
  },
  {
   "cell_type": "code",
   "execution_count": null,
   "id": "26e247bd",
   "metadata": {},
   "outputs": [],
   "source": [
    "total_deforestation = 0\n",
    "for area in deforestation_data.values():\n",
    "    total_deforestation += area\n",
    "\n",
    "print(f\"Total deforestation area: {total_deforestation} square kilometres\")"
   ]
  },
  {
   "cell_type": "markdown",
   "id": "941fab11",
   "metadata": {},
   "source": [
    "# Nested loops\n",
    "\n",
    "We can add or 'nest' loops within other loops."
   ]
  },
  {
   "cell_type": "markdown",
   "id": "326baf6f",
   "metadata": {},
   "source": [
    "Suppose we have a dictionary of oceans, with the values being a list of temperatures recorded over time in °C."
   ]
  },
  {
   "cell_type": "code",
   "execution_count": null,
   "id": "79a1a686",
   "metadata": {},
   "outputs": [],
   "source": [
    "ocean_temperatures = {\n",
    "    'Pacific': [25, 25.3, 25.6, 25.2, 25.5, 25.6],\n",
    "    'Atlantic': [23.4, 23.8, 23.7, 29.9, 24.0, 29.1],\n",
    "    'Indian': [26.5, 26.7, 27.0, -29, -55, -99, -99]\n",
    "}"
   ]
  },
  {
   "cell_type": "markdown",
   "id": "14b21e31",
   "metadata": {},
   "source": [
    "We can use a loop to access the lists, which we will call `temperatures`, for each ocean. We use the `.items()` method to get the keys and values for each item in the dictionary. We assign `temperatures` to the list of temperatures, so when we print `ocean` and `temperatures` we get the ocean name and a list of temperatures."
   ]
  },
  {
   "cell_type": "code",
   "execution_count": null,
   "id": "cddd8dd4",
   "metadata": {},
   "outputs": [],
   "source": [
    "#Outer loop of oceans\n",
    "for ocean, temperatures in ocean_temperatures.items():\n",
    "        \n",
    "        print(f\"Ocean: {ocean}: sum of all the temperatures in this list: {temperatures}\")"
   ]
  },
  {
   "cell_type": "markdown",
   "id": "8f5a919d",
   "metadata": {},
   "source": [
    "Suppose we want to calculate the **average ocean temperature** for **each ocean**. We now have to add all of the elements in the `temperatures` list together and divide it by the number of measurements in that list. \n",
    "\n",
    "To do this, we can add another loop summing the elements of the `temperatures` list together and dividing by the total number of measurements.\n",
    "\n",
    "The **outer loop** loops over the various **oceans**, while the **inner loop** loops over each **temperature measurement** in the `temperatures` list and adds them together."
   ]
  },
  {
   "cell_type": "markdown",
   "id": "b72741a9",
   "metadata": {},
   "source": [
    "Summing all the temperatures:"
   ]
  },
  {
   "cell_type": "code",
   "execution_count": null,
   "id": "bbe8d4b1",
   "metadata": {},
   "outputs": [],
   "source": [
    "#Outer loop of oceans\n",
    "for ocean, temperatures in ocean_temperatures.items():\n",
    "    sum_temperatures = 0 # We start with a sum of 0 for each ocean. \n",
    "\n",
    "    #Inner loop of temperatures in each ocean\n",
    "    for temperature in temperatures:\n",
    "        sum_temperatures += temperature #sum all of the temperatures in a list together\n",
    "\n",
    "    print(f\"Ocean: {ocean}: Sum = {sum_temperatures}\")\n"
   ]
  },
  {
   "cell_type": "markdown",
   "id": "68314423",
   "metadata": {},
   "source": [
    "To calculate the average, we have to divide `sum_temperatures` by the total number of measurements in each list, which is the `len(temperatures)`."
   ]
  },
  {
   "cell_type": "markdown",
   "id": "9b05795b",
   "metadata": {},
   "source": [
    "Calculating averages:"
   ]
  },
  {
   "cell_type": "code",
   "execution_count": null,
   "id": "bedb3b7c",
   "metadata": {},
   "outputs": [],
   "source": [
    "#Outer loop of oceans\n",
    "for ocean, temperatures in ocean_temperatures.items():\n",
    "    sum_temperatures = 0 # We start with a sum of 0 for each ocean. \n",
    "    avg_temperatures  = 0 # We start with an average of 0 for each ocean.\n",
    "\n",
    "    #Inner loop of temperatures in each ocean\n",
    "    for temperature in temperatures:\n",
    "        sum_temperatures += temperature #sum all of the temperatures in a list together\n",
    "   \n",
    "    print(f\"for {ocean} there are {len(temperatures)} measurements and the sum is {sum_temperatures} \") \n",
    "\n",
    "    average_temp = sum_temperatures/len(temperatures) # calculate the average\n",
    "    print(f\"Ocean: {ocean}: avg = {average_temp}\")"
   ]
  },
  {
   "cell_type": "markdown",
   "id": "0438f062",
   "metadata": {},
   "source": [
    "Note that for each ocean in the outer loop, we set the average to 0 again. If we don't, the sum and averages will accumulate across the three different oceans. Try to comment out those lines and see what the effect will be."
   ]
  },
  {
   "cell_type": "markdown",
   "id": "4c618c6b",
   "metadata": {},
   "source": [
    "## Loop controls\n",
    "Did you notice that the average temperature of the warmest ocean, the Indian Ocean, is about -29°C? Also, note that some of the measurements in the Atlantic and Indian oceans are over 29°C. These outliers are affecting our average temperature calculations, so we need to check for these outliers and remove them.\n",
    "\n",
    "Suppose we want to remove the outliers in the following way:\n",
    "1. If a value is over 29°C, do not use it in the calculation.\n",
    "2. Once a value has gone below 0°C, do not use the measurement, and also do not use any of the remaining data onward."
   ]
  },
  {
   "cell_type": "code",
   "execution_count": null,
   "id": "671ec85a",
   "metadata": {},
   "outputs": [],
   "source": [
    "ocean_temperatures = {\n",
    "    'Pacific': [25, 25.3, 25.6, 25.2, 25.5, 25.6],\n",
    "    'Atlantic': [23.4, 23.8, 23.7, 29.9, 24.0, 29.1],# A value greater than 29 is an outlier, so we will remove it.\n",
    "    'Indian': [26.5, 26.7, 27.0, -29, -55, -99, -99] # Once it goes below 0°C, the values are not useful\n",
    "}"
   ]
  },
  {
   "cell_type": "markdown",
   "id": "d71ae0ed",
   "metadata": {},
   "source": [
    "We can use conditional flow logic (`if temp > 29` and `if temp < 0`) with loop controls (`break` and `continue`) to solve this problem.\n",
    "\n",
    "If we want to remove outliers **above** 29°C, we have to check if the value is over 29°C, and if it is, we **don't add it**. We can use `continue` to skip the rest of the code in the inner loop where we sum the element.\n",
    "\n",
    "If we want to remove all of the values after we get a value less than 0°C, we want to stop checking the items on the list. To do this, we have to stop the inner loop with a `break` statement and move on to the next ocean. All values after the first negative one are removed."
   ]
  },
  {
   "cell_type": "code",
   "execution_count": null,
   "id": "4b92ae37",
   "metadata": {},
   "outputs": [],
   "source": [
    "for ocean, temperatures in ocean_temperatures.items():\n",
    "    sum_temperatures = 0\n",
    "    count_temperatures = 0\n",
    "\n",
    "    # For each ocean, loop through the temperatures lists\n",
    "    for temp in temperatures:\n",
    "        # The ocean temperature is too low, so the sensor is malfunctioning.\n",
    "        if temp < 0: # The ocean temperature is too low, the sensor is malfunctioning. \n",
    "            print(f\"{ocean} ocean sensor malfunction. Value {temp} onward ignored.\") \n",
    "            break #stop using measurements from the sensor\n",
    "\n",
    "        # Imagine we want to disregard temperatures above 27 degrees as outliers\n",
    "        if temp > 29:\n",
    "            print(f\"Disregarding temperature: {temp} as an outlier for {ocean}.\")\n",
    "            continue  # Skip this temperature measurement\n",
    "\n",
    "        sum_temperatures += temp\n",
    "        count_temperatures += 1\n",
    "\n",
    "    # Calculate the average temperature.\n",
    "    average_temp = sum_temperatures / count_temperatures\n",
    "    print(f\"The average temperature for the {ocean} Ocean is {average_temp:.2f}°C.\")\n"
   ]
  },
  {
   "cell_type": "markdown",
   "id": "29ee5309",
   "metadata": {},
   "source": [
    "# List comprehension\n",
    "We always aim to create code that is simple to read. **List comprehension** is a simple way to write simple loops that create lists.\n",
    "\n",
    "If we wanted to filter some data or transform data in a list it is easier to read a list comprehension than using loops. \n",
    "\n",
    "To transform data in a list, we use the following syntax:"
   ]
  },
  {
   "cell_type": "code",
   "execution_count": null,
   "id": "d0c21484",
   "metadata": {},
   "outputs": [],
   "source": [
    "[expression for item in input_list]"
   ]
  },
  {
   "cell_type": "markdown",
   "id": "6298640e",
   "metadata": {},
   "source": [
    "The `expression` is how we want to change each item (`item + 1`, `item ** 2`), and `for item in list` specifies what we want to loop over. The comprehension is enclosed in `[]` because the result is a list, and we can use any iterable as input.\n",
    "\n",
    "This one line replaces the code below: "
   ]
  },
  {
   "cell_type": "code",
   "execution_count": null,
   "id": "623e6984",
   "metadata": {},
   "outputs": [],
   "source": [
    "output_list = [] \n",
    "\n",
    "for item in input_list:\n",
    "    result = expression # item ** 2 for example\n",
    "    output_list.append(result)"
   ]
  },
  {
   "cell_type": "markdown",
   "id": "698ff47b",
   "metadata": {},
   "source": [
    "For example, if we wanted to convert the temperature data from the Atlantic Ocean to Kelvin (another unit of temperature), we have to add 273 to the value:\n",
    "\n",
    "$ Kelvin  =  ^{\\circ}C + 273 $\n",
    "\n",
    "If we use list comprehension, we can add 273 to each element in the list and save it as the output list."
   ]
  },
  {
   "cell_type": "code",
   "execution_count": null,
   "id": "fae89269",
   "metadata": {},
   "outputs": [],
   "source": [
    "atlantic_temp_C = [23.4, 23.8, 23.7, 29.9, 24.0, 29.1]\n",
    "\n",
    "atlantic_temp_K = [temp + 273 for temp in atlantic_temp_C]\n",
    "print(atlantic_temp_K)"
   ]
  },
  {
   "cell_type": "markdown",
   "id": "a122ce45",
   "metadata": {},
   "source": [
    "Instead of this: "
   ]
  },
  {
   "cell_type": "code",
   "execution_count": null,
   "id": "79185d31",
   "metadata": {},
   "outputs": [],
   "source": [
    "atlantic_temp_K = []\n",
    "\n",
    "for temp in atlantic_temp_C:\n",
    "    temp += 273\n",
    "    atlantic_temp_K.append(temp)\n",
    "\n",
    "print(atlantic_temp_K)"
   ]
  },
  {
   "cell_type": "markdown",
   "id": "c27e1c87",
   "metadata": {},
   "source": [
    "The list comprehension is shorter and simpler to read."
   ]
  },
  {
   "cell_type": "markdown",
   "id": "f8368242",
   "metadata": {},
   "source": [
    "### Filtering data with conditionals in comprehensions\n",
    "\n",
    "We can also use list comprehensions to create data filters in one line. \n",
    "\n",
    "The basic syntax looks like this: "
   ]
  },
  {
   "cell_type": "code",
   "execution_count": null,
   "id": "b1c97217",
   "metadata": {},
   "outputs": [],
   "source": [
    "[expression for item in input_list if condition else condition]"
   ]
  },
  {
   "cell_type": "markdown",
   "id": "ac20a8df",
   "metadata": {},
   "source": [
    "To filter, we can add `if` and a condition after `expression for item in input_list` with the conditions we want the data to satisfy. For example, if we wanted to remove all data less than 0 we can add a conditional statement to the end of the comprehension. "
   ]
  },
  {
   "cell_type": "code",
   "execution_count": null,
   "id": "10a782ff",
   "metadata": {},
   "outputs": [],
   "source": [
    "Indian_temp_C = [26.5, 26.7, 27.0, -29, -55, -99, -99]\n",
    "\n",
    "[temp for temp in Indian_temp_C if temp > 0]"
   ]
  },
  {
   "cell_type": "markdown",
   "id": "17bce1f7",
   "metadata": {},
   "source": [
    "`temp for temp` may be a bit confusing, but it is just the case where the expression does nothing. We can think of it as `[temp * 1 for temp in Indian_temp_C if temp > 0]`. \n",
    "\n",
    "This list comprehension removes all values that are less than 0.  \n",
    "\n",
    "We can add a second condition that values also cannot be larger than 29."
   ]
  },
  {
   "cell_type": "code",
   "execution_count": null,
   "id": "f90fb0ec",
   "metadata": {},
   "outputs": [],
   "source": [
    "Indian_temp_C = [26.5, 26.7, 27.0, -29, -55, -99, -99]\n",
    "\n",
    "[temp for temp in Indian_temp_C if temp > 0 if temp < 29]"
   ]
  },
  {
   "cell_type": "markdown",
   "id": "971bd177",
   "metadata": {},
   "source": [
    "Or we could use an `and` operator to check both conditions. "
   ]
  },
  {
   "cell_type": "code",
   "execution_count": null,
   "id": "f4233739",
   "metadata": {},
   "outputs": [],
   "source": [
    "Indian_temp_C = [26.5, 26.7, 27.0, -29, -55, -99, -99]\n",
    "\n",
    "[temp for temp in Indian_temp_C if temp > 0 and temp < 29]"
   ]
  },
  {
   "cell_type": "markdown",
   "id": "ffd35859",
   "metadata": {},
   "source": [
    "What will happen if we convert the `Indian_temp_C` to Kelvin while keeping the conditions?\n",
    "\n",
    "Since we are iterating over the `Indian_temp_C` object, we can still use the temp iterators in our conditional statements. The output of this filtering is then transformed to Kelvin, yielding the final result."
   ]
  },
  {
   "cell_type": "code",
   "execution_count": null,
   "id": "bddf1791",
   "metadata": {},
   "outputs": [],
   "source": [
    "Indian_temp_K = [temp + 273 for temp in Indian_temp_C if temp > 0 and temp < 29]\n",
    "print(Indian_temp_K)"
   ]
  },
  {
   "cell_type": "markdown",
   "id": "2c46c611",
   "metadata": {},
   "source": [
    "# Dictionary comprehension\n",
    "We often use dictionaries to store labelled data, so creating new dictionaries with comprehension is a simple and readable way to reorganise data. Dictionary comprehensions create new dictionaries, so we need to create key-value pairs. \n",
    "\n",
    "The basic syntax is:"
   ]
  },
  {
   "cell_type": "code",
   "execution_count": null,
   "id": "1c35e97c",
   "metadata": {},
   "outputs": [],
   "source": [
    "{key_expression: value_expression for item in iterator}"
   ]
  },
  {
   "cell_type": "markdown",
   "id": "d56fed8d",
   "metadata": {},
   "source": [
    "Where `key_expression` is how we want to create the keys and `value_expression` is how we want to create the values. The is a dictionary, so we enclose it in `{}`."
   ]
  },
  {
   "cell_type": "markdown",
   "id": "d42be3a7",
   "metadata": {},
   "source": [
    "For example, we can create a dictionary of numbers (keys) with the values being the square of the keys."
   ]
  },
  {
   "cell_type": "code",
   "execution_count": null,
   "id": "2b48f7c5",
   "metadata": {},
   "outputs": [],
   "source": [
    "numbers = range(1,11)\n",
    "numbers_and_squares = {x: x**2 for x in numbers}\n",
    "print(numbers_and_squares)"
   ]
  },
  {
   "cell_type": "markdown",
   "id": "65ed6d95",
   "metadata": {},
   "source": [
    "Or we could create a copy of the `ocean_temperatures` dictionary with the oceans as the keys, and retrieve the first temperature in `temperatures`."
   ]
  },
  {
   "cell_type": "code",
   "execution_count": null,
   "id": "cbbef6af",
   "metadata": {},
   "outputs": [],
   "source": [
    "ocean_temperatures = {\n",
    "    'Pacific': [25, 25.3, 25.6, 25.2, 25.5, 25.6],\n",
    "    'Atlantic': [23.4, 23.8, 23.7, 29.9, 24.0, 29.1],  # Exclude > 29\n",
    "    'Indian': [26.5, 26.7, 27.0, -29, -55, -99, -99]    # Exclude < 0\n",
    "}\n",
    "\n",
    "# Using dictionary comprehension\n",
    "ocean_temp_C = {\n",
    "    ocean: temps[0] for ocean, temps in ocean_temperatures.items()\n",
    "}\n",
    "\n",
    "print(ocean_temp_C)"
   ]
  },
  {
   "cell_type": "markdown",
   "id": "36fa3647",
   "metadata": {},
   "source": [
    "## Best practices for using loops in Python\n",
    "\n",
    "When working with loops in Python, it's important to follow best practices for efficient and readable code. Here are some key guidelines:\n",
    "\n",
    "1. **Choose the right loop:** Use `for` loops when the number of iterations is predetermined or when iterating over collections. Use `while` loops for conditions that need to be checked at each iteration.\n",
    "\n",
    "1. **Avoid infinite loops:** Always ensure that `while` loops have a clear exit condition to prevent infinite loops.\n",
    "\n",
    "1. **Use break and continue wisely:** These should be used to control loop execution flow, but avoid overusing them as they can make logic hard to follow.\n",
    "\n",
    "1. **Keep loops uncluttered:** Try to keep the code inside loops simple and focused. If the loop body gets complicated, consider breaking it down into smaller pieces.\n",
    "\n",
    "1. **Optimise nested loops:** Be cautious with nested loops as they can significantly impact performance. Explore alternative data structures or algorithms if working with large datasets.\n",
    "\n",
    "1. **Readability matters:** Write loops that are easy to read and understand. This includes using descriptive variable names and adding comments where necessary.\n",
    "\n",
    "1. **Refactor when needed:** If a loop is too complex or not performing well, don't hesitate to refactor it. Sometimes, a different approach can significantly improve the efficiency and readability of your code."
   ]
  },
  {
   "cell_type": "markdown",
   "id": "e9956efe",
   "metadata": {
    "tags": []
   },
   "source": [
    "## Summary\n",
    "In this notebook, we've explored the fundamental concepts of loops in Python, including their syntax, different types, and practical applications. We've learned that **loops are essential** for automating **repetitive** tasks and efficiently processing collections of data. By understanding the nuances of `for` and `while` loops, as well as loop control statements like `break`, `continue`, and `pass`, we can write more effective and efficient Python code.\n",
    "\n",
    "Remember, the key to mastering loops lies in practice and thoughtful implementation. By following the best practices outlined, we'll be well-equipped to use loops to solve a wide array of programming challenges, making our Python coding journey both enjoyable and productive."
   ]
  },
  {
   "cell_type": "markdown",
   "id": "30799a0c",
   "metadata": {},
   "source": [
    "#  \n",
    "\n",
    "<div align=\"center\" style=\" font-size: 80%; text-align: center; margin: 0 auto\">\n",
    "<img src=\"https://raw.githubusercontent.com/Explore-AI/Pictures/master/ExploreAI_logos/EAI_Blue_Dark.png\"  style=\"width:200px\";/>\n",
    "</div>"
   ]
  }
 ],
 "metadata": {
  "kernelspec": {
   "display_name": "Python 3 (ipykernel)",
   "language": "python",
   "name": "python3"
  },
  "language_info": {
   "codemirror_mode": {
    "name": "ipython",
    "version": 3
   },
   "file_extension": ".py",
   "mimetype": "text/x-python",
   "name": "python",
   "nbconvert_exporter": "python",
   "pygments_lexer": "ipython3",
   "version": "3.10.9"
  }
 },
 "nbformat": 4,
 "nbformat_minor": 5
}
