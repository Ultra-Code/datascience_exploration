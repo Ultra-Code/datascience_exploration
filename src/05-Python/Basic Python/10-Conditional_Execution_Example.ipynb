{
 "cells": [
  {
   "cell_type": "markdown",
   "metadata": {},
   "source": [
    "<div align=\"center\" style=\" font-size: 80%; text-align: center; margin: 0 auto\">\n",
    "<img src=\"https://raw.githubusercontent.com/Explore-AI/Pictures/master/Python-Notebook-Banners/Examples.png\"  style=\"display: block; margin-left: auto; margin-right: auto;\";/>\n",
    "</div>"
   ]
  },
  {
   "cell_type": "markdown",
   "id": "a8af169d",
   "metadata": {},
   "source": [
    "\n",
    "# Examples: Conditional execution\n",
    "© ExploreAI Academy\n"
   ]
  },
  {
   "cell_type": "markdown",
   "id": "9a02fbf8",
   "metadata": {},
   "source": [
    "In this notebook, we'll delve into conditional statements in Python, providing a comprehensive understanding of their usage and applications."
   ]
  },
  {
   "cell_type": "markdown",
   "id": "2a188471",
   "metadata": {},
   "source": [
    "\n",
    "## Learning objectives\n",
    "\n",
    "By the end of this train, you should be able to:\n",
    "- Understand and comfortably use various types of conditional statements.\n",
    "- Distinguish between different forms of conditional execution and their appropriate use cases.\n",
    "- Apply conditional logic in practical examples.\n"
   ]
  },
  {
   "cell_type": "markdown",
   "metadata": {},
   "source": [
    "## `if`, `elif`, and `else`"
   ]
  },
  {
   "cell_type": "markdown",
   "metadata": {},
   "source": [
    "Conditional statements in programming are used to execute specific blocks of code based on whether certain conditions are met. They are fundamental for decision-making in our code, allowing for different outcomes depending on variable states or inputs. Typically, we use `if`, `elif`, and `else` statements to handle these scenarios, providing flexibility and control over the flow of our program's execution."
   ]
  },
  {
   "cell_type": "markdown",
   "metadata": {},
   "source": [
    "### `if` statements\n",
    "\n",
    "`if` statements are the most basic form of conditional execution. They are used to execute a block of code only if a specified condition is `True`. For example, if we wanted to issue a warning when deforestation exceeds a certain level."
   ]
  },
  {
   "cell_type": "code",
   "execution_count": null,
   "metadata": {},
   "outputs": [],
   "source": [
    "# Check if the deforestation rate exceeds 20% and print a warning if it does.\n",
    "deforestation_rate = 0.25  # 25%\n",
    "if deforestation_rate > 0.2:\n",
    "    print(\"Critical deforestation level reached!\")"
   ]
  },
  {
   "cell_type": "markdown",
   "metadata": {},
   "source": [
    "### Nested `if` statements\n",
    "\n",
    "Nested `if` statements are used when we need to perform another conditional check within an `if` block. They are useful for more complex decision-making processes. For example, suppose we want to prioritise environmental protection in sensitive areas. We must check whether the deforestation rate exceeds a certain level and if an area is protected."
   ]
  },
  {
   "cell_type": "code",
   "execution_count": null,
   "metadata": {},
   "outputs": [],
   "source": [
    "# Check if the deforestation rate exceeds 15% in a protected area and print an urgent action message if it does.\n",
    "deforestation_rate = 0.18\n",
    "protected_area = True\n",
    "\n",
    "if deforestation_rate > 0.15:\n",
    "    if protected_area:  # \"if protected_area:\" is equivalent to \"if protected_area == True\"\n",
    "        print(\"Urgent action needed in protected area due to high deforestation rate!\")"
   ]
  },
  {
   "cell_type": "markdown",
   "id": "c8c1d501",
   "metadata": {},
   "source": [
    "\n",
    "### `if`-`else` statements\n",
    "The `if-else` structure executes one block of code if the condition is `True` and another block if it is `False`. For example, suppose we want to create a simple notification system for deforestation activity."
   ]
  },
  {
   "cell_type": "code",
   "execution_count": null,
   "metadata": {},
   "outputs": [],
   "source": [
    "# Print a deforestation alert message if the alert is active, otherwise indicate no alerts.\n",
    "deforestation_alert = True\n",
    "\n",
    "if deforestation_alert:\n",
    "    print(\"Alert: Deforestation detected!\")\n",
    "else:\n",
    "    print(\"No deforestation alerts.\")"
   ]
  },
  {
   "cell_type": "markdown",
   "id": "33eccaef",
   "metadata": {},
   "source": [
    "\n",
    "### `elif` statements\n",
    "`elif` (short for else if) provides a middle ground between `if` and `else`. It is used when we have multiple conditions to check sequentially. For example, suppose we need to categorise deforestation rates into different levels of concern, such as `\"Critical level\"`, `\"High level\"`, or `\"Normal level\"`, based on predefined thresholds."
   ]
  },
  {
   "cell_type": "code",
   "execution_count": null,
   "metadata": {},
   "outputs": [],
   "source": [
    "# Classify and print the deforestation rate as 'Critical level', 'High level', or 'Normal level'\n",
    "# based on its percentage.\n",
    "deforestation_rate = 0.10\n",
    "\n",
    "if deforestation_rate > 0.2:\n",
    "    print(\"Critical level\")\n",
    "elif deforestation_rate > 0.1:\n",
    "    print(\"High level\")\n",
    "else:\n",
    "    print(\"Normal level\")"
   ]
  },
  {
   "cell_type": "markdown",
   "metadata": {},
   "source": [
    "The program first checks if the `deforestation_rate` variable is greater than `0.2`. If this condition is not satisfied, it then assesses whether `deforestation_rate` is greater than `0.1`. If neither condition is met, the program defaults to executing the code in the `else` block. "
   ]
  },
  {
   "cell_type": "markdown",
   "metadata": {},
   "source": [
    "### Chained conditional statements\n",
    "\n",
    "Chained conditionals use `elif` (else if) for multiple checks. They are used when there are more than two possibilities and exactly one must be chosen. For example, suppose we need to implement specific environmental actions based on varying levels of deforestation."
   ]
  },
  {
   "cell_type": "code",
   "execution_count": null,
   "metadata": {},
   "outputs": [],
   "source": [
    "# Determine and print appropriate environmental actions based on the current deforestation rate level.\n",
    "deforestation_rate = 0.12\n",
    "\n",
    "if deforestation_rate > 0.3:\n",
    "    print(\"Implement emergency measures\")\n",
    "elif deforestation_rate > 0.2:\n",
    "    print(\"Increase surveillance and conservation efforts\")\n",
    "elif deforestation_rate > 0.1:\n",
    "    print(\"Monitor and plan reforestation\")\n",
    "else:\n",
    "    print(\"Deforestation rate is within safe limits\")"
   ]
  },
  {
   "cell_type": "markdown",
   "metadata": {},
   "source": [
    "The program sequentially evaluates each condition from the top down. It stops further checks as soon as one condition is fulfilled. In a scenario where there are mistakenly two true conditions for a variable, the program executes only up to the first met condition, ignoring subsequent ones. For example, both `elif deforestation_rate == 0.1` and elif `deforestation_rate >= 0.1` are true when `deforestation_rate` is `0.1`. However, only the first true condition is executed."
   ]
  },
  {
   "cell_type": "code",
   "execution_count": null,
   "metadata": {},
   "outputs": [],
   "source": [
    "# Determine and print appropriate environmental actions based on the current deforestation rate level.\n",
    "deforestation_rate = 0.1\n",
    "\n",
    "if deforestation_rate > 0.3:\n",
    "    print(\"Implement emergency measures\")\n",
    "elif deforestation_rate > 0.2:\n",
    "    print(\"Increase surveillance and conservation efforts\")\n",
    "elif deforestation_rate == 0.1:\n",
    "    print(\"Deforestation has reached the maximum safe limit\")\n",
    "elif deforestation_rate >= 0.1:\n",
    "    print(\"Monitor and plan reforestation\")\n",
    "else:\n",
    "    print(\"Deforestation rate is within safe limits\")"
   ]
  },
  {
   "cell_type": "markdown",
   "metadata": {},
   "source": [
    "## Conditional statement keywords: `not` and `pass`\n",
    "In Python, there are keywords within conditional statements that allow us to add more flexibility to our code. "
   ]
  },
  {
   "cell_type": "markdown",
   "id": "2a557f3a",
   "metadata": {},
   "source": [
    "### `if` `not` statements\n",
    "`if not` is used to check the negation of a condition. It's a more readable way to check `if not true`. For example, suppose we want to create an automated alert system for forest conservation that tells us the forest is healthy if no deforestation is detected and alerts us if this is not the case.\n"
   ]
  },
  {
   "cell_type": "code",
   "execution_count": null,
   "metadata": {},
   "outputs": [],
   "source": [
    "# Prints \"Forest is healthy!\" if no deforestation is detected, otherwise alerts that deforestation has\n",
    "# been detected.\n",
    "deforestation_detected = False\n",
    "\n",
    "if not deforestation_detected:\n",
    "    print(\"Forest is healthy!\")\n",
    "else:\n",
    "    print(\"Deforestation detected!\")"
   ]
  },
  {
   "cell_type": "markdown",
   "id": "d625a111",
   "metadata": {},
   "source": [
    "### `pass` statements\n",
    "`pass` is a null statement in Python. It is used when a statement is syntactically required but we do not want any command or code to execute. It is often used as a placeholder for future code. When the pass statement is executed, nothing happens, but we avoid getting an error when empty code is not allowed. For example, suppose we are creating a system to monitor deforestation and take action only when necessary. However, we are still planning what should be done if deforestation exceeds the predefined limits. \n",
    "\n",
    "We can attempt to leave an `if` statement block empty, meaning no code is executed within it. However, this approach results in an error, as Python expects to find an indented block following an `if` statement, even if no action is to be performed."
   ]
  },
  {
   "cell_type": "code",
   "execution_count": null,
   "metadata": {},
   "outputs": [],
   "source": [
    "# This code will result in an error because the 'if' block is empty.\n",
    "deforestation_rate = 0.05\n",
    "\n",
    "if deforestation_rate > 0.1:\n",
    "else:\n",
    "    print(\"No immediate action required\")"
   ]
  },
  {
   "cell_type": "markdown",
   "metadata": {},
   "source": [
    "To resolve this error, we can insert a `pass` statement in the `if` block. The `pass` statement serves as a placeholder, doing nothing but preventing the error caused by an empty code block.\n",
    "\n",
    "Note: It's essential to use `pass` wisely as it can hide real issues in the code by overlooking errors that could offer valuable insights."
   ]
  },
  {
   "cell_type": "code",
   "execution_count": null,
   "metadata": {},
   "outputs": [],
   "source": [
    "# Placeholder for future alert implementation if deforestation rate exceeds 10%, otherwise prints \n",
    "# no immediate action is needed.\n",
    "deforestation_rate = 0.22\n",
    "\n",
    "if deforestation_rate > 0.1:\n",
    "    pass  # Future implementation of alert system\n",
    "else:\n",
    "    print(\"No immediate action required\")"
   ]
  },
  {
   "cell_type": "markdown",
   "id": "b6547470",
   "metadata": {},
   "source": [
    "\n",
    "## Ternary operator\n",
    "Ternary operators are used for in-line conditional expressions.  It's a one-line shorthand for an `if`-`else` statement and is often used for simple conditions. The basic syntax in many languages, including Python, follows the pattern:\n",
    "<br><br>\n",
    "`[on_true] if [condition] else [on_false]`\n",
    "<br><br>\n",
    "Here, `[condition]` is evaluated first. If it's true, the expression `[on_true]` is executed or returned; if it's false, `[on_false]` is executed or returned.\n",
    "<br><br>\n",
    "For example, suppose we want to quickly determine and display the deforestation status as either `\"High\"` or `\"Normal\"` based on a threshold. We can use the ternary operator to efficiently assign the status in a single line of code."
   ]
  },
  {
   "cell_type": "code",
   "execution_count": null,
   "metadata": {},
   "outputs": [],
   "source": [
    "# Sets and prints the deforestation status based on the deforestation rate.\n",
    "deforestation_rate = 0.07\n",
    "status = \"High\" if deforestation_rate > 0.1 else \"Normal\"\n",
    "\n",
    "print(f\"Deforestation status: {status}\")"
   ]
  },
  {
   "cell_type": "markdown",
   "id": "00845dc6",
   "metadata": {},
   "source": [
    "By exploring the above concepts, we have gained practical insights into why and how we use various types of conditional statements in Python.\n"
   ]
  }
 ],
 "metadata": {
  "kernelspec": {
   "display_name": "ExploreDS",
   "language": "python",
   "name": "python3"
  },
  "language_info": {
   "codemirror_mode": {
    "name": "ipython",
    "version": 3
   },
   "file_extension": ".py",
   "mimetype": "text/x-python",
   "name": "python",
   "nbconvert_exporter": "python",
   "pygments_lexer": "ipython3",
   "version": "3.11.5"
  }
 },
 "nbformat": 4,
 "nbformat_minor": 5
}
