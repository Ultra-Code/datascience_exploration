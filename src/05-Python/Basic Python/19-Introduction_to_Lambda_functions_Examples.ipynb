{
 "cells": [
  {
   "cell_type": "markdown",
   "metadata": {},
   "source": [
    "<div align=\"center\" style=\" font-size: 80%; text-align: center; margin: 0 auto\">\n",
    "<img src=\"https://raw.githubusercontent.com/Explore-AI/Pictures/master/Python-Notebook-Banners/Examples.png\"  style=\"display: block; margin-left: auto; margin-right: auto;\";/>\n",
    "</div>"
   ]
  },
  {
   "cell_type": "markdown",
   "metadata": {
    "id": "-wLBoOzuICV2"
   },
   "source": [
    "# Examples: Introduction to lambda functions\n",
    "© ExploreAI Academy"
   ]
  },
  {
   "cell_type": "markdown",
   "metadata": {},
   "source": [
    "In this train, we delve into the examples from the walk-through and explore how lambda functions can be effectively utilised with functional programming tools such as `map` and `filter` to enhance code efficiency and readability.\n",
    "\n"
   ]
  },
  {
   "cell_type": "markdown",
   "metadata": {},
   "source": [
    "## Learning objectives\n",
    "\n",
    "In this train, we will:\n",
    "- Understand fundamental concepts and syntax of lambda functions in Python.\n",
    "- Apply lambda functions in conjunction with Python's functional programming tools, like `map` and `filter`, to manipulate iterable sequences."
   ]
  },
  {
   "cell_type": "markdown",
   "metadata": {
    "id": "r7uKNrwPIuS0"
   },
   "source": [
    "## Introduction\n",
    "\n",
    "Lambda functions, sometimes called lambda expressions, are small, anonymous functions that can be expressed in a single line. Unlike standard Python functions which are defined using the `def` keyword, a function name, a function body, and a `return` statement, lambda functions are defined using:\n",
    "\n",
    "* The `lambda` keyword, declaring an inline anonymous function. \n",
    "* The variable/s that will be passed to the function. \n",
    "* The lambda expression.\n",
    "\n",
    "This syntax is: \n",
    "\n",
    "```python\n",
    "    lambda arguments : expression\n",
    "```\n",
    "\n",
    "By allowing the creation of functions in a single line, lambda functions eliminate the need for separately defining a set of small helper functions. This not only saves time but also keeps the code clean and uncluttered, as these compact lambda functions can be embedded directly within other functions or used alongside functional programming tools like 'map' and 'filter'."
   ]
  },
  {
   "cell_type": "markdown",
   "metadata": {},
   "source": [
    "## Examples"
   ]
  },
  {
   "cell_type": "markdown",
   "metadata": {
    "id": "rAIJT4jtshNF"
   },
   "source": [
    "### Example 1\n",
    "\n",
    "A normal function for doubling the input (i.e. multiplying by 2) would look like this:"
   ]
  },
  {
   "cell_type": "code",
   "execution_count": null,
   "metadata": {
    "id": "s4m9I4ilshNN"
   },
   "outputs": [],
   "source": [
    "def double (x): # Classic function to multiply an input by 2\n",
    "    return x*2"
   ]
  },
  {
   "cell_type": "markdown",
   "metadata": {
    "id": "aQhMHLG8shNb"
   },
   "source": [
    "We could convert this into a lambda function. This lambda function takes a single argument 'x' and returns the result of `x * 2`. Essentially, it doubles the value of the input `x`."
   ]
  },
  {
   "cell_type": "code",
   "execution_count": null,
   "metadata": {
    "colab": {
     "base_uri": "https://localhost:8080/"
    },
    "id": "qEpT-84pshNd",
    "outputId": "40b7e15e-41bc-4cb9-d7e3-547f8e285986"
   },
   "outputs": [],
   "source": [
    "\n",
    "# Define a lambda function and assign it to the variable 'double_lambda'.\n",
    "double_lambda = lambda x: x*2\n",
    "\n",
    "# Note: At this point, 'double_lambda' is a function object. It holds the lambda function we defined.\n",
    "# If we print 'double_lambda', it won't display the function's output but rather a reference to the function object in memory.\n",
    "print(double_lambda)\n",
    "\n",
    "# To actually use the lambda function and get a result, we need to call 'double_lambda' with an argument.\n",
    "# For example, let's call 'double_lambda' with the value 5 and print the result.\n",
    "print(double_lambda(5))  # This will compute 5 * 2 and print the result.\n",
    "\n",
    "# Expected output: 10"
   ]
  },
  {
   "cell_type": "markdown",
   "metadata": {
    "id": "XHZ0FhvUshNt"
   },
   "source": [
    "We can also call a lambda function by enclosing the function definition in parentheses and then providing the arguments in another set of parentheses right after it. This allows for the definition and execution of the lambda function in a single line."
   ]
  },
  {
   "cell_type": "code",
   "execution_count": null,
   "metadata": {
    "colab": {
     "base_uri": "https://localhost:8080/"
    },
    "id": "UstPQlcrshNu",
    "outputId": "f19c54d4-0930-4ced-f914-d76704aa60ff"
   },
   "outputs": [],
   "source": [
    "(lambda x:x * 2)(5) # Note the use of additional brackets after the lambda definition. "
   ]
  },
  {
   "cell_type": "markdown",
   "metadata": {
    "id": "DiubClc4shNz"
   },
   "source": [
    "### Example 2\n",
    "\n",
    "Here, a lambda function is defined and assigned to the variable `squared`. This lambda function takes one argument, `x`, and returns `x` raised to the power of `2`."
   ]
  },
  {
   "cell_type": "code",
   "execution_count": null,
   "metadata": {
    "id": "aEfQ5Lk1shN1"
   },
   "outputs": [],
   "source": [
    "squared = lambda x: x**2 # \"**2\" indicates an exponent --> x^2\n",
    "\n",
    "print(squared(5))"
   ]
  },
  {
   "cell_type": "markdown",
   "metadata": {
    "id": "N3SqHoUhshOB"
   },
   "source": [
    "### Example 3\n",
    "\n",
    "Lambda functions can accept multiple arguments (separated by commas). Here, we define a lambda function, `raise_to_power`, which takes two arguments, `x` and `y`, and returns `x` raised to the power of `y`."
   ]
  },
  {
   "cell_type": "code",
   "execution_count": null,
   "metadata": {
    "id": "KMKOEog7shOB"
   },
   "outputs": [],
   "source": [
    "raise_to_power = lambda x, y: x**y # With lambdas, you can specify multiple arguments\n",
    "\n",
    "print(raise_to_power(3,2))"
   ]
  },
  {
   "cell_type": "markdown",
   "metadata": {
    "id": "5lJVqKlIshOX"
   },
   "source": [
    "## Mapping\n",
    "\n",
    "We can apply our lambda function to every element in an iterable sequence by using the built-in ```map``` function provided by Python.\n",
    "\n",
    "The `map` function in Python applies a specified function to each item of an iterable (like a `list`) and returns a map object, which is an iterator. Since the results are not automatically presented as a list, it is often necessary to convert this map object to a list (using `list()`) to view the actual transformed results.\n",
    "\n",
    "A full review of the syntax and use of the `map` function in Python can be found [here](https://www.w3schools.com/python/ref_func_map.asp).\n",
    "\n",
    "**Syntax:**\n",
    "```python\n",
    "    map (lambda v1: expression, iterable-sequences) \n",
    "```"
   ]
  },
  {
   "cell_type": "markdown",
   "metadata": {
    "id": "7JuR_7DJshOb"
   },
   "source": [
    "### Example 4\n",
    "\n",
    "Here, a list named `numbers` is defined, containing the elements `[2, 3, 4, 5]`. The `map` function is then used to apply a lambda function to each element of this `list`. \n",
    "\n",
    "This lambda function takes a single argument `a` and returns its square (`a**2`). The `map` function processes each element of the `numbers` list through the lambda function, resulting in a **new sequence of squared values**. \n",
    "\n",
    "However, since `map` returns an iterator for efficiency reasons, the `list()` function is used to convert this iterator into a list. The final output of the code is a `list` of squared numbers: <br>\n",
    "`[4, 9, 16, 25]`"
   ]
  },
  {
   "cell_type": "code",
   "execution_count": null,
   "metadata": {
    "colab": {
     "base_uri": "https://localhost:8080/",
     "height": 35
    },
    "id": "ghm46aVcshOc",
    "outputId": "739626dd-5000-4e06-f6d4-3bf9c16c036b"
   },
   "outputs": [],
   "source": [
    "numbers = [2,3,4,5]\n",
    "\n",
    "list(map(lambda a: a**2, numbers)) # We are mapping the lambda function to iterate over the list `numbers`"
   ]
  },
  {
   "cell_type": "markdown",
   "metadata": {
    "id": "sHXkeqeUshOh"
   },
   "source": [
    "Try running the above cell without the \"list( )\" function to see what happens. "
   ]
  },
  {
   "cell_type": "markdown",
   "metadata": {
    "id": "jbXhYpyHshOh"
   },
   "source": [
    "## Filtering"
   ]
  },
  {
   "cell_type": "markdown",
   "metadata": {
    "id": "zN_2tI5YshOj"
   },
   "source": [
    "The `filter` function returns an iterator as well. It applies a specified function to each item of an iterable, filtering out those that don't satisfy a condition defined in the function. The result is a filter object, which is also an iterator. \n",
    "\n",
    "To access the filtered items in a usable format, like a list, you need to convert this filter object using `list()`.\n",
    "\n",
    "Further documentation around the `filter` function can be found [here](https://www.programiz.com/python-programming/methods/built-in/filter).\n",
    "\n",
    "**Syntax:**\n",
    "```python\n",
    "    filter (lambda parameter: expression, iterable-sequence)\n",
    "```"
   ]
  },
  {
   "cell_type": "markdown",
   "metadata": {
    "id": "2aLTeEOMshOm"
   },
   "source": [
    "### Example 5\n",
    "\n",
    "Here the lambda function filters the `sequences` list to retain only those elements greater than `4`, using the `filter` function with a lambda condition `lambda x: x > 4`. \n",
    "\n",
    "The filtered results are then converted to a list and printed, producing elements `[10, 8, 7, 5, 11]`."
   ]
  },
  {
   "cell_type": "code",
   "execution_count": null,
   "metadata": {
    "colab": {
     "base_uri": "https://localhost:8080/"
    },
    "id": "IInhpfusshOn",
    "outputId": "509448d3-fd5e-454e-e264-f3ea0eeab576"
   },
   "outputs": [],
   "source": [
    "sequences = [10,2,8,7,5,4,3,11,0, 1]\n",
    "\n",
    "# Filter takes an argument/function and an iterable/sequence; in this case, the lambda acts as the filtering argument \n",
    "filtered_result = filter(lambda x: x > 4, sequences)\n",
    "\n",
    "print(list(filtered_result))"
   ]
  },
  {
   "cell_type": "markdown",
   "metadata": {
    "id": "sZ6aeuSoIuV8"
   },
   "source": [
    "\n",
    "### Note:\n",
    "\n",
    "Lambda functions allow us to write simple functions with minimal code. However, just because they require fewer lines of code does not necessarily mean that they are the optimal choice when writing functions.   \n",
    "\n",
    "There is huge value in writing functions with detailed docstrings that other people can understand when looking at your code. When using a lambda function, put yourself in the shoes of another person viewing your code. \n",
    "\n",
    "Before using a lambda function, ask yourself: \"Will the lambda function really add value when someone else is reading my code, or is it just going to create confusion?\"\n",
    "\n",
    "\n",
    "\n",
    "\n"
   ]
  },
  {
   "cell_type": "markdown",
   "metadata": {},
   "source": [
    "#  \n",
    "\n",
    "<div align=\"center\" style=\" font-size: 80%; text-align: center; margin: 0 auto\">\n",
    "<img src=\"https://raw.githubusercontent.com/Explore-AI/Pictures/master/ExploreAI_logos/EAI_Blue_Dark.png\"  style=\"width:200px\";/>\n",
    "</div>"
   ]
  }
 ],
 "metadata": {
  "colab": {
   "collapsed_sections": [],
   "name": "lambda_functions.ipynb",
   "provenance": []
  },
  "kernelspec": {
   "display_name": "Python 3",
   "language": "python",
   "name": "python3"
  },
  "language_info": {
   "codemirror_mode": {
    "name": "ipython",
    "version": 3
   },
   "file_extension": ".py",
   "mimetype": "text/x-python",
   "name": "python",
   "nbconvert_exporter": "python",
   "pygments_lexer": "ipython3",
   "version": "3.11.5"
  },
  "varInspector": {
   "cols": {
    "lenName": 16,
    "lenType": 16,
    "lenVar": 40
   },
   "kernels_config": {
    "python": {
     "delete_cmd_postfix": "",
     "delete_cmd_prefix": "del ",
     "library": "var_list.py",
     "varRefreshCmd": "print(var_dic_list())"
    },
    "r": {
     "delete_cmd_postfix": ") ",
     "delete_cmd_prefix": "rm(",
     "library": "var_list.r",
     "varRefreshCmd": "cat(var_dic_list()) "
    }
   },
   "types_to_exclude": [
    "module",
    "function",
    "builtin_function_or_method",
    "instance",
    "_Feature"
   ],
   "window_display": false
  }
 },
 "nbformat": 4,
 "nbformat_minor": 1
}
