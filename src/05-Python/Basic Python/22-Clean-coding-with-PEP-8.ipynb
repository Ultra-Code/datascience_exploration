{
 "cells": [
  {
   "cell_type": "markdown",
   "metadata": {},
   "source": [
    "<div align=\"center\" style=\" font-size: 80%; text-align: center; margin: 0 auto\">\n",
    "<img src=\"https://raw.githubusercontent.com/Explore-AI/Pictures/master/Python-Notebook-Banners/Examples.png\"  style=\"display: block; margin-left: auto; margin-right: auto;\";/>\n",
    "</div>"
   ]
  },
  {
   "cell_type": "markdown",
   "id": "f662d169",
   "metadata": {},
   "source": [
    "# Clean coding with PEP 8\n",
    "© ExploreAI Academy"
   ]
  },
  {
   "cell_type": "markdown",
   "id": "26af890c",
   "metadata": {},
   "source": [
    "In this train, we shall delve into the world of Python coding standards, focusing on the renowned PEP 8 style guide. This guide is more than merely a set of rules; it is a pathway to writing Python code that is clean, readable, and professional. Our journey will take us through the core principles of PEP 8, aiding our understanding of not just the 'how', but also the 'why' behind each guideline."
   ]
  },
  {
   "cell_type": "markdown",
   "id": "2d230d14",
   "metadata": {
    "tags": []
   },
   "source": [
    "## Learning objectives\n",
    "In this train, we will learn how to:\n",
    "\n",
    "- Write clean code that follows PEP 8 guidelines.\n",
    "- Design code to be readable.\n",
    "- Correctly implement indentation and follow the recommended format used for comments.\n",
    "- Write docstrings in an appropriate format and utilise PEP 8 naming conventions for variable names."
   ]
  },
  {
   "cell_type": "markdown",
   "metadata": {},
   "source": [
    "## Introduction"
   ]
  },
  {
   "cell_type": "markdown",
   "id": "4d037b2c",
   "metadata": {},
   "source": [
    "As we embark on the journey of writing code, it's essential to familiarise ourselves with guidelines and concepts regarding code styling. The art of coding transcends the mere act of typing words and expecting them to compile; the format and style of these words are of paramount importance. In the same manner that poorly punctuated text hinders comprehension, poorly formatted code challenges readability. To enhance the readability of our code, we shall turn to the Python Enhancement Proposal (PEP), specifically PEP 8.\n",
    "\n",
    "Below, there is an image serving as a PEP 8 Cheat Sheet. Throughout this train, we will delve deeper into each of these elements.\n",
    "\n",
    "<div align=\"center\" style=\" font-size: 80%; text-align: center; margin: 0 auto\">\n",
    "<img src=\"https://github.com/Explore-AI/Pictures/blob/master/PEP_8_Guide.jpg?raw=true\"  style=\"display: block; margin-left: auto; margin-right: auto;\";/>\n",
    "</div>\n",
    "\n",
    "Each line of code we've seen up to this point in the course is according to PEP 8, so the guidelines below are just formalising what we've seen.\n",
    "\n",
    "PEP 8 guidelines are just that – **guidelines**. They **should be broken** if it improves **readability** and doesn't break **compatibility**, but we have to **apply it consistently**."
   ]
  },
  {
   "cell_type": "markdown",
   "id": "01275d92",
   "metadata": {},
   "source": [
    "## Why is it important?\n",
    "Data scientists, like other software developers, benefit greatly from learning and implementing coding best practices. Here's why:\n",
    "\n",
    "1. **Code reusability and reproducibility**: Data science involves a lot of exploratory work where a particular analysis might need to be run multiple times with slight variations. Well-structured and properly documented code is easier to understand, reuse, and reproduce, which is crucial in data science projects.\n",
    "\n",
    "2. **Collaboration**: Data science is typically a team effort, and having a consistent coding style makes it easier for different team members to understand each other's code. This leads to more efficient collaboration and less time spent deciphering what a piece of code does.\n",
    "\n",
    "3. **Maintenance and debugging**: Data science projects are not always 'one-off' analyses. Models might need to be updated, bugs might need to be fixed, or new data might need to be incorporated. Following best practices makes maintaining and debugging code significantly easier.\n",
    "\n",
    "4. **Scaling and performance**: As data grows in volume and complexity, code that follows best practices tends to be more efficient and easier to scale. This is especially important for data scientists working with big data.\n",
    "\n",
    "5. **Professional development**: Understanding and implementing best coding practices helps data scientists write higher-quality code. This could increase their employability and offer more opportunities for growth within their current roles.\n",
    "\n",
    "6. **Communication of results**: The ultimate goal of most data science projects is to inform decision-making. High-quality, well-structured code helps ensure that the results are reliable and accurate, which is critical for gaining trust and effectively communicating results to stakeholders.\n",
    "\n",
    "In essence, for data scientists, following coding best practices is not just about writing good code. It's also about ensuring the reliability and credibility of their findings and making their work more efficient and impactful."
   ]
  },
  {
   "cell_type": "markdown",
   "id": "bed59a11",
   "metadata": {},
   "source": [
    "## Design principles"
   ]
  },
  {
   "cell_type": "markdown",
   "id": "6799a0a0",
   "metadata": {},
   "source": [
    "### Write self-explanatory code\n",
    "\n",
    "Our code should behave in a way that's least surprising to others. This principle helps other programmers understand and predict the behaviour of our code."
   ]
  },
  {
   "cell_type": "markdown",
   "id": "79ec5b0e",
   "metadata": {},
   "source": [
    "Not simple or self-explanatory ❌:"
   ]
  },
  {
   "cell_type": "code",
   "execution_count": null,
   "id": "1c56b6d0",
   "metadata": {},
   "outputs": [],
   "source": [
    "def proc(x):\n",
    "    return x ** 3 - 2 * x + 5"
   ]
  },
  {
   "cell_type": "markdown",
   "id": "b4a35e9f",
   "metadata": {},
   "source": [
    "- The function name 'proc' is vague and doesn't convey the function's purpose.\n",
    "\n",
    "- The formula inside the function lacks context, making it unclear what it's calculating or representing."
   ]
  },
  {
   "cell_type": "markdown",
   "id": "ea2c075a",
   "metadata": {},
   "source": [
    "Simple and self-explanatory ✅:"
   ]
  },
  {
   "cell_type": "code",
   "execution_count": null,
   "id": "6864d726",
   "metadata": {},
   "outputs": [],
   "source": [
    "def calculate_cubic_polynomial(x):\n",
    "    coefficient_a = 1\n",
    "    coefficient_b = -2\n",
    "    constant = 5\n",
    "    cubic_term = coefficient_a * x ** 3\n",
    "    linear_term = coefficient_b * x\n",
    "    polynomial_value = cubic_term + linear_term + constant\n",
    "    return polynomial_value"
   ]
  },
  {
   "cell_type": "markdown",
   "id": "1835ecd9",
   "metadata": {},
   "source": [
    "- The function name 'calculate_cubic_polynomial' clearly describes its purpose.\n",
    "\n",
    "- By breaking down the polynomial into clearly named variables, the code becomes more readable and understandable. It's evident that it's computing a cubic polynomial value."
   ]
  },
  {
   "cell_type": "markdown",
   "id": "236171b4",
   "metadata": {},
   "source": [
    "### DRY (don't repeat yourself)\n",
    "\n",
    "If we find ourselves writing the same code in multiple places, it's usually better to encapsulate it in a function or class and reuse it."
   ]
  },
  {
   "cell_type": "markdown",
   "id": "48b5c0ba",
   "metadata": {},
   "source": [
    "❌ Repeating code:"
   ]
  },
  {
   "cell_type": "code",
   "execution_count": null,
   "id": "6ac54d59",
   "metadata": {},
   "outputs": [],
   "source": [
    "# Calculating square of numbers in two different lists\n",
    "squares_list1 = [i ** 2 for i in list1]\n",
    "squares_list2 = [i ** 2 for i in list2]"
   ]
  },
  {
   "cell_type": "markdown",
   "id": "58552d33",
   "metadata": {},
   "source": [
    "✅ DRY applied:"
   ]
  },
  {
   "cell_type": "code",
   "execution_count": null,
   "id": "4e5044be",
   "metadata": {},
   "outputs": [],
   "source": [
    "def calculate_squares(numbers_list):\n",
    "    return [i ** 2 for i in numbers_list]\n",
    "\n",
    "squares_list1 = calculate_squares(list1)\n",
    "squares_list2 = calculate_squares(list2)"
   ]
  },
  {
   "cell_type": "markdown",
   "id": "b3861b47",
   "metadata": {},
   "source": [
    "## Code layout"
   ]
  },
  {
   "cell_type": "markdown",
   "id": "24aeda5f",
   "metadata": {},
   "source": [
    "### Indentation\n",
    "\n",
    "**Use four spaces per indentation level.** Python allows indentation of a single space, but to keep code consistent, PEP 8 requires four spaces as an indent, and most coding environments will automatically use four."
   ]
  },
  {
   "cell_type": "markdown",
   "id": "40636667",
   "metadata": {},
   "source": [
    "❌ Incorrect:"
   ]
  },
  {
   "cell_type": "code",
   "execution_count": null,
   "id": "a81e19a7",
   "metadata": {},
   "outputs": [],
   "source": [
    "def incorrect_function():\n",
    " return 'Incorrect indentation'"
   ]
  },
  {
   "cell_type": "markdown",
   "id": "275edaff",
   "metadata": {},
   "source": [
    "✅ Correct:"
   ]
  },
  {
   "cell_type": "code",
   "execution_count": null,
   "id": "1949e9e1",
   "metadata": {},
   "outputs": [],
   "source": [
    "def correct_function():\n",
    "    return 'Correct indentation'"
   ]
  },
  {
   "cell_type": "markdown",
   "id": "43447888",
   "metadata": {},
   "source": [
    "### Blank lines"
   ]
  },
  {
   "cell_type": "markdown",
   "id": "8dc986e7",
   "metadata": {},
   "source": [
    "Use blank lines sparingly. They should separate functions and classes and larger blocks of code inside functions."
   ]
  },
  {
   "cell_type": "markdown",
   "id": "bc2cec52",
   "metadata": {},
   "source": [
    "❌ Incorrect:"
   ]
  },
  {
   "cell_type": "code",
   "execution_count": null,
   "id": "ba6774ed",
   "metadata": {},
   "outputs": [],
   "source": [
    "def a():\n",
    "    return 'a'\n",
    "def b():\n",
    "    return 'b'"
   ]
  },
  {
   "cell_type": "markdown",
   "id": "d801513a",
   "metadata": {},
   "source": [
    "✅ Correct:"
   ]
  },
  {
   "cell_type": "code",
   "execution_count": null,
   "id": "e071a474",
   "metadata": {},
   "outputs": [],
   "source": [
    "def a():\n",
    "    return 'a'\n",
    "\n",
    "def b():\n",
    "    return 'b'"
   ]
  },
  {
   "cell_type": "markdown",
   "id": "9fdc3344",
   "metadata": {},
   "source": [
    "### Maximum line length\n",
    "\n",
    "Limit all lines to a maximum of 79 characters."
   ]
  },
  {
   "cell_type": "markdown",
   "id": "584ee476",
   "metadata": {},
   "source": [
    "❌ Incorrect:"
   ]
  },
  {
   "cell_type": "code",
   "execution_count": null,
   "id": "42ae616a",
   "metadata": {},
   "outputs": [],
   "source": [
    "def long_function_name(var_one, var_two, var_three, var_four, var_five, var_six):"
   ]
  },
  {
   "cell_type": "markdown",
   "id": "cfb84c85",
   "metadata": {},
   "source": [
    "✅ Correct:"
   ]
  },
  {
   "cell_type": "code",
   "execution_count": null,
   "id": "b7d79f4d",
   "metadata": {},
   "outputs": [],
   "source": [
    "def long_function_name(var_one, var_two, var_three, \n",
    "                       var_four, var_five, var_six):"
   ]
  },
  {
   "cell_type": "markdown",
   "id": "5ab2d181",
   "metadata": {},
   "source": [
    "### Parameters on their own line\n",
    "\n",
    "When defining functions with many parameters, especially in cases where the line length exceeds the recommended maximum (such as 79 characters in PEP 8), it's good practice to place parameters on their own lines. This approach enhances readability and maintainability."
   ]
  },
  {
   "cell_type": "markdown",
   "id": "7236584b",
   "metadata": {},
   "source": [
    "❌ Incorrect:"
   ]
  },
  {
   "cell_type": "code",
   "execution_count": null,
   "id": "e2e25f76",
   "metadata": {},
   "outputs": [],
   "source": [
    "def process_data(input_data, data_format, error_handling, log_level, output_type, verbose_mode):\n",
    "    # Function implementation\n",
    "    pass"
   ]
  },
  {
   "cell_type": "markdown",
   "id": "0a2cc0fc",
   "metadata": {},
   "source": [
    "- This line exceeds the recommended maximum length, making it hard to read.\n",
    "- It can also cause horizontal scrolling in editors, hindering readability."
   ]
  },
  {
   "cell_type": "markdown",
   "id": "ba5c7bf2",
   "metadata": {},
   "source": [
    "✅ Correct:"
   ]
  },
  {
   "cell_type": "code",
   "execution_count": null,
   "id": "2b9c9cfd",
   "metadata": {},
   "outputs": [],
   "source": [
    "def process_data(input_data, \n",
    "                 data_format, \n",
    "                 error_handling, \n",
    "                 log_level, \n",
    "                 output_type, \n",
    "                 verbose_mode):\n",
    "    # Function implementation\n",
    "    pass"
   ]
  },
  {
   "cell_type": "markdown",
   "id": "cd4f9056",
   "metadata": {},
   "source": [
    "- Each parameter is on its own line, which makes the function signature easy to read.\n",
    "- It adheres to the line length guidelines and is more maintainable."
   ]
  },
  {
   "cell_type": "markdown",
   "id": "093eba21",
   "metadata": {},
   "source": [
    "### Line breaks\n",
    "\n",
    "It's recommended to break before binary operators to improve readability."
   ]
  },
  {
   "cell_type": "markdown",
   "id": "ec52247e",
   "metadata": {},
   "source": [
    "❌ Incorrect:"
   ]
  },
  {
   "cell_type": "code",
   "execution_count": null,
   "id": "63457d98",
   "metadata": {},
   "outputs": [],
   "source": [
    "income = (gross_wages +\n",
    "          taxable_interest +\n",
    "          (dividends - qualified_dividends) -\n",
    "          ira_deduction -\n",
    "          student_loan_interest)"
   ]
  },
  {
   "cell_type": "markdown",
   "id": "6dc91d07",
   "metadata": {},
   "source": [
    "✅ Correct:"
   ]
  },
  {
   "cell_type": "code",
   "execution_count": null,
   "id": "f957cbb1",
   "metadata": {},
   "outputs": [],
   "source": [
    "income = (gross_wages \n",
    "         + taxable_interest\n",
    "         + (dividends - qualified_dividends) \n",
    "         - ira_deduction\n",
    "         - student_loan_interest)"
   ]
  },
  {
   "cell_type": "markdown",
   "id": "76281a10",
   "metadata": {},
   "source": [
    "### Whitespace in expressions and statements"
   ]
  },
  {
   "cell_type": "markdown",
   "id": "bd77e222",
   "metadata": {},
   "source": [
    "Surround operators with a single space on either side of the operator."
   ]
  },
  {
   "cell_type": "markdown",
   "id": "524f21aa",
   "metadata": {},
   "source": [
    "❌ Incorrect:"
   ]
  },
  {
   "cell_type": "code",
   "execution_count": null,
   "id": "f62381bd",
   "metadata": {},
   "outputs": [],
   "source": [
    "x=10\n",
    "x+=5\n",
    "y=x<20\n",
    "data = [x for x in range(10) if x>5]\n",
    "flag = x==10 and y!=0"
   ]
  },
  {
   "cell_type": "markdown",
   "id": "b219148b",
   "metadata": {},
   "source": [
    "It is hard to identify the operators used in this code."
   ]
  },
  {
   "cell_type": "markdown",
   "id": "d1018f69",
   "metadata": {},
   "source": [
    "✅ Correct:"
   ]
  },
  {
   "cell_type": "code",
   "execution_count": null,
   "id": "1149e0e5",
   "metadata": {},
   "outputs": [],
   "source": [
    "x = 10\n",
    "x += 5\n",
    "y = x < 20\n",
    "data = [x for x in range(10) if x > 5]\n",
    "flag = x == 10 and y != 0"
   ]
  },
  {
   "cell_type": "markdown",
   "id": "8956707e",
   "metadata": {},
   "source": [
    "It is simpler to identify which operators are used in this code."
   ]
  },
  {
   "cell_type": "markdown",
   "id": "244991b1",
   "metadata": {},
   "source": [
    "## Commenting\n",
    "\n",
    "Comments allow the reader of the code to follow along and see what the author intends to convey. This can be helpful when people change projects and new people have to work on projects they know nothing about.\n",
    "\n",
    "Generally, there are two types of comments: **inline** and **block**. Python uses the hash symbol, noted as `#`, for comments. The intended use of comments is to:\n",
    "\n",
    "- Explain **assumptions made** in that line of code. \n",
    "- Include **important details** in a line of code that we're trying to solve with our code. \n",
    "\n",
    "A rule of thumb to keep in mind is: *Code tells you how, comments should tell you why.*"
   ]
  },
  {
   "cell_type": "markdown",
   "id": "bc2c692b",
   "metadata": {},
   "source": [
    "### Inline comments:\n",
    "\n",
    "Inline comments are comments that are on the same line as a statement. PEP 8 suggests **using inline comments sparingly**.\n",
    "An inline comment should be **separated** by at least **two spaces** from the statement. They should *start* with a `#` followed by a **single space**.\n",
    "Inline **comments are useful for clarifying complex pieces of code** or providing quick annotations where necessary. However, the **code should be as self-explanatory as possible**, reducing the need for extensive inline comments."
   ]
  },
  {
   "cell_type": "markdown",
   "id": "e1315f0e",
   "metadata": {},
   "source": [
    "❌ Incorrect:"
   ]
  },
  {
   "cell_type": "code",
   "execution_count": null,
   "id": "011e272b",
   "metadata": {},
   "outputs": [],
   "source": [
    "x = x + 1 #Increment x, it's important for UI alignment\n",
    "y = y + 2 #Now increment y, for vertical spacing\n",
    "calculate_position(x, y) #This calls the function to calculate position. It's very crucial for layout.\n",
    "update_display() #This will update the display with new positions. It's part of the refresh cycle."
   ]
  },
  {
   "cell_type": "markdown",
   "id": "e60cf803",
   "metadata": {},
   "source": [
    "Each comment is crammed next to the code with insufficient spacing, and every line of code is followed by an unnecessary comment that often states the obvious. The comments are verbose and don't add much value."
   ]
  },
  {
   "cell_type": "markdown",
   "id": "3bf2b061",
   "metadata": {},
   "source": [
    "✅ Correct:"
   ]
  },
  {
   "cell_type": "code",
   "execution_count": null,
   "id": "37ab046d",
   "metadata": {},
   "outputs": [],
   "source": [
    "\n",
    "x = x + 1  # Adjust position for UI alignment\n",
    "y = y + 2  \n",
    "\n",
    "calculate_position(x, y) # Calculate and update the position in the display\n",
    "update_display()"
   ]
  },
  {
   "cell_type": "markdown",
   "id": "690820dc",
   "metadata": {},
   "source": [
    "Comments are used sparingly and effectively. They are well spaced from the code, and each comment provides a clear, concise overview of what the following lines of code are meant to accomplish. This style is cleaner and more in line with PEP 8 guidelines, aiding in readability and maintainability."
   ]
  },
  {
   "cell_type": "markdown",
   "id": "75f08260",
   "metadata": {},
   "source": [
    "### Block comments\n",
    "\n",
    "Block comments are used to explain the code that follows them and are **written on their own line(s)**.\n",
    "Each line of a block comment starts with a `#` and a **single space**, and should be at the **same indentation level** as the code it describes.\n",
    "Block comments are useful for providing more detailed explanations or for **summarising a section of code**."
   ]
  },
  {
   "cell_type": "markdown",
   "id": "f5c9af99",
   "metadata": {},
   "source": [
    "❌ Incorrect:"
   ]
  },
  {
   "cell_type": "code",
   "execution_count": null,
   "id": "48d68e50",
   "metadata": {},
   "outputs": [],
   "source": [
    "# This section of code is for loading the dataset\n",
    "# We are using pandas to read a CSV file\n",
    "# The file name is 'data.csv'\n",
    "import pandas as pd\n",
    "dataset = pd.read_csv('data.csv')\n",
    "\n",
    "# Now we are going to clean the dataset\n",
    "# We will remove null values\n",
    "# Dropping rows with any missing value\n",
    "dataset = dataset.dropna()"
   ]
  },
  {
   "cell_type": "markdown",
   "id": "f2c57bdb",
   "metadata": {},
   "source": [
    "These comments are redundant and simply describe the actions line by line, which are already clear from the code itself. They don't provide additional insight or rationale behind the steps."
   ]
  },
  {
   "cell_type": "markdown",
   "id": "632d786f",
   "metadata": {},
   "source": [
    "❌ Incorrect:"
   ]
  },
  {
   "cell_type": "code",
   "execution_count": null,
   "id": "59e5f7e3",
   "metadata": {},
   "outputs": [],
   "source": [
    "#Load the dataset\n",
    "dataset = ['Apple', 'Pear', 'Orange', '', 'Strawberry   ', 'Banana', '  Grape  ']\n",
    "\n",
    "#Data cleaning process\n",
    "#Now we're going to clean the dataset by removing empty strings.\n",
    "dataset = [fruit for fruit in dataset if fruit.strip()]\n",
    "\n",
    "#Next, we'll remove all the spaces from the data.\n",
    "dataset = [fruit.strip() for fruit in dataset]\n",
    "\n",
    "#Then we make everything lowercase, so it looks uniform.\n",
    "dataset = [fruit.lower() for fruit in dataset]\n",
    "\n",
    "#Finally, we'll get rid of duplicates because we don't need them.\n",
    "dataset = list(set(dataset))\n",
    "\n",
    "#Here's what we have now\n",
    "print(dataset)\n"
   ]
  },
  {
   "cell_type": "markdown",
   "id": "a43e0135",
   "metadata": {},
   "source": [
    "The comments in this example are somewhat informal and don't add much value. They tend to state the obvious, merely describing what the code does rather than explaining why these steps are important in the context of data cleaning. This lacks the depth and professionalism expected in a data science context."
   ]
  },
  {
   "cell_type": "markdown",
   "id": "c3b27b52",
   "metadata": {},
   "source": [
    "✅ Correct:"
   ]
  },
  {
   "cell_type": "code",
   "execution_count": null,
   "id": "9a8b9e50",
   "metadata": {},
   "outputs": [],
   "source": [
    "dataset = ['Apple', 'Pear', 'Orange', '', 'Strawberry   ', 'Banana', '  Grape  ']\n",
    "\n",
    "# Data cleaning process\n",
    "# Step 1: Remove empty rows\n",
    "# Empty rows can skew analysis, so removing them is crucial for data accuracy.\n",
    "dataset = [fruit for fruit in dataset if fruit.strip()]\n",
    "\n",
    "# Step 2: Trim whitespace from data\n",
    "# Uniformity in data is key; removing extra spaces enhances data consistency.\n",
    "dataset = [fruit.strip() for fruit in dataset]\n",
    "\n",
    "# Step 3: Standardize text format\n",
    "# Consistency in text format, like lowercase, ensures better data comparability.\n",
    "dataset = [fruit.lower() for fruit in dataset]\n",
    "\n",
    "# Step 4: Remove duplicate entries\n",
    "# Duplicates can distort analysis, so they're removed for data reliability.\n",
    "dataset = list(set(dataset))\n",
    "\n",
    "print(dataset)\n"
   ]
  },
  {
   "cell_type": "markdown",
   "id": "f572e9a9",
   "metadata": {},
   "source": [
    "Each comment provides context and explains the purpose of the step in the data cleaning process, enhancing understanding without being overly verbose."
   ]
  },
  {
   "cell_type": "markdown",
   "id": "27489008",
   "metadata": {},
   "source": [
    "### Docstrings\n",
    "\n",
    "One requirement for good code is for methods, classes, and functions to have docstrings. Docstrings, or documentation strings, are strings enclosed between two sets of triple quotation marks. We can use either single or double quotes here, but we can't mix them. Docstrings appear on the first line of any function, class, method, or module and are used to explain and document a block of code.\n"
   ]
  },
  {
   "cell_type": "markdown",
   "id": "dc1ece89",
   "metadata": {},
   "source": [
    "❌ Incorrect:"
   ]
  },
  {
   "cell_type": "code",
   "execution_count": null,
   "id": "4dfe7668",
   "metadata": {},
   "outputs": [],
   "source": [
    "def square(num):\n",
    "    # This function squares a number.\n",
    "    return num ** 2"
   ]
  },
  {
   "cell_type": "markdown",
   "id": "e61afe47",
   "metadata": {},
   "source": [
    "This is a comment, not a docstring. It fails to use the triple quotation marks and does not fully document the function's purpose, parameters, and return value."
   ]
  },
  {
   "cell_type": "markdown",
   "id": "fac05980",
   "metadata": {},
   "source": [
    "✅ Correct:"
   ]
  },
  {
   "cell_type": "code",
   "execution_count": null,
   "id": "e13af6b2",
   "metadata": {},
   "outputs": [],
   "source": [
    "def square(num):\n",
    "    \"\"\"\n",
    "    Calculate the square of a number.\n",
    "\n",
    "    Args:\n",
    "        num (int or float): The number to be squared.\n",
    "\n",
    "    Returns:\n",
    "        int or float: The square of the input number.\n",
    "    \"\"\"\n",
    "    return num ** 2"
   ]
  },
  {
   "cell_type": "markdown",
   "id": "fb15cbb5",
   "metadata": {},
   "source": [
    "This docstring:\n",
    "\n",
    "- Starts immediately below the function definition.\n",
    "\n",
    "- Is enclosed within triple double quotes (\"\"\").\n",
    "\n",
    "- Clearly explains the purpose of the function.\n",
    "\n",
    "- Includes an 'Args' section detailing the argument, its expected type, and description.\n",
    "\n",
    "- Includes a 'Returns' section explaining the type and description of the return value."
   ]
  },
  {
   "cell_type": "markdown",
   "id": "22d81e1c",
   "metadata": {},
   "source": [
    "## Naming conventions\n",
    "\n",
    "In Python, adopting consistent naming conventions as outlined in PEP 8 enhances code readability and maintainability. Here's a concise overview:\n",
    "\n",
    "**Variables:** Use lowercase with underscores to separate word: `starting_amount`\n",
    "\n",
    "**Constants:** Name constants in all uppercase with underscores separating words. `MAX_ITEMS`\n",
    "\n",
    "**Classes:** Use CamelCase convention for class names. `RegressionModel`"
   ]
  },
  {
   "cell_type": "markdown",
   "id": "d337c8d9",
   "metadata": {},
   "source": [
    "❌ Incorrect:"
   ]
  },
  {
   "cell_type": "code",
   "execution_count": null,
   "id": "e69e734b",
   "metadata": {},
   "outputs": [],
   "source": [
    "class shoppingCart:\n",
    "    maxItems = 10\n",
    "\n",
    "    def __init__(self):\n",
    "        self.ItemList = []\n",
    "\n",
    "    def AddItem(self, Item):\n",
    "        if len(self.ItemList) < shoppingCart.maxItems:\n",
    "            self.ItemList.append(Item)\n",
    "\n",
    "ShoppingCart = shoppingCart()\n",
    "ShoppingCart.AddItem('Apple')"
   ]
  },
  {
   "cell_type": "markdown",
   "id": "e27e7b30",
   "metadata": {},
   "source": [
    "It is hard to understand what `shoppingCart` or `maxItems` is in the line `shoppingCart.maxItems`. One is a constant value while the other is a class object. "
   ]
  },
  {
   "cell_type": "markdown",
   "id": "e340a59b",
   "metadata": {},
   "source": [
    "✅ Correct:"
   ]
  },
  {
   "cell_type": "code",
   "execution_count": null,
   "id": "3ddbf2ee",
   "metadata": {},
   "outputs": [],
   "source": [
    "class ShoppingCart:\n",
    "    MAX_ITEMS = 10\n",
    "\n",
    "    def __init__(self):\n",
    "        self.item_list = []\n",
    "\n",
    "    def add_item(self, item):\n",
    "        if len(self.item_list) < ShoppingCart.MAX_ITEMS:\n",
    "            self.item_list.append(item)\n",
    "\n",
    "shopping_cart = ShoppingCart()\n",
    "shopping_cart.add_item('Apple')"
   ]
  },
  {
   "cell_type": "markdown",
   "id": "76a1327c",
   "metadata": {},
   "source": [
    "By using proper naming conventions, a colleague can quickly see that `ShoppingCart.MAX_ITEMS` refers to a class and a constant and that `shopping_cart` is a variable containing a class object `ShoppingCart()`."
   ]
  },
  {
   "cell_type": "markdown",
   "id": "b9436a90",
   "metadata": {},
   "source": [
    "## Summary\n",
    "\n",
    "As we conclude this journey through the essential principles of PEP 8 and good coding practices, it's important to reflect on the key insights gained. We delved into the world of Python coding standards, focusing on how to write code that is not only functional but also clean, readable, and professional. By embracing the guidelines of PEP 8, we learned the significance of well-structured code and the impact it has on maintainability and collaboration."
   ]
  },
  {
   "cell_type": "markdown",
   "id": "365a03cc",
   "metadata": {},
   "source": [
    "#  \n",
    "\n",
    "<div align=\"center\" style=\" font-size: 80%; text-align: center; margin: 0 auto\">\n",
    "<img src=\"https://raw.githubusercontent.com/Explore-AI/Pictures/master/ExploreAI_logos/EAI_Blue_Dark.png\"  style=\"width:200px\";/>\n",
    "</div>"
   ]
  }
 ],
 "metadata": {
  "kernelspec": {
   "display_name": "Python 3 (ipykernel)",
   "language": "python",
   "name": "python3"
  },
  "language_info": {
   "codemirror_mode": {
    "name": "ipython",
    "version": 3
   },
   "file_extension": ".py",
   "mimetype": "text/x-python",
   "name": "python",
   "nbconvert_exporter": "python",
   "pygments_lexer": "ipython3",
   "version": "3.10.9"
  }
 },
 "nbformat": 4,
 "nbformat_minor": 5
}
