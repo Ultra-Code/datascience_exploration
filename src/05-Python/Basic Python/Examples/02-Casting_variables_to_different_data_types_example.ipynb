{
 "cells": [
  {
   "cell_type": "markdown",
   "id": "a62b8ad2",
   "metadata": {},
   "source": [
    "<div align=\"center\" style=\" font-size: 80%; text-align: center; margin: 0 auto\">\n",
    "<img src=\"https://raw.githubusercontent.com/Explore-AI/Pictures/master/Python-Notebook-Banners/Examples.png\"  style=\"display: block; margin-left: auto; margin-right: auto;\";/>\n",
    "</div>"
   ]
  },
  {
   "cell_type": "markdown",
   "id": "f662d169",
   "metadata": {},
   "source": [
    "# Examples: Casting variables to different data types\n",
    "© ExploreAI Academy"
   ]
  },
  {
   "cell_type": "markdown",
   "id": "26af890c",
   "metadata": {},
   "source": [
    "In this train, we'll learn to cast, convert, and specify data types in Python to manipulate variables effectively, ensuring seamless integration of different data types and precise execution of operations."
   ]
  },
  {
   "cell_type": "markdown",
   "id": "2d230d14",
   "metadata": {
    "tags": []
   },
   "source": [
    "## Learning objectives\n",
    "\n",
    "In this train we will learn to:\n",
    "\n",
    "- Apply the `type()` function to enhance code readability and understand variable types.\n",
    "- Differentiate between **specifying**, **converting**, and **casting** data types in Python."
   ]
  },
  {
   "cell_type": "markdown",
   "id": "c64336aa",
   "metadata": {},
   "source": [
    "## Introduction\n",
    "\n",
    "Casting variables to different data types is a fundamental concept in programming that involves transforming a variable from one data type to another. In Python, this process is commonly referred to as \"type casting\" or simply \"casting.\" The ability to cast variables enables programmers to adapt and manipulate data efficiently, ensuring that the correct operations, methods, and functions can be applied to specific types of data.\n",
    "\n",
    "This ability is essential for performing mathematical operations, handling user inputs, and interacting with external data sources. Understanding how to cast variables allows us to integrate different data types within our code, providing versatility in our programs."
   ]
  },
  {
   "cell_type": "markdown",
   "id": "5a0b7683",
   "metadata": {
    "tags": []
   },
   "source": [
    "## Confirming the data type with the `type()` function\n",
    "\n",
    "Before we delve into casting variables, let's see how we can determine the data type of a variable using the built-in `type()` function.\n",
    "\n",
    "<u><b>Syntax:</b></u>\n",
    "\n",
    "`variable_type = type(variable)`"
   ]
  },
  {
   "cell_type": "code",
   "execution_count": null,
   "id": "65114842",
   "metadata": {},
   "outputs": [],
   "source": [
    "# Example: Using type() to determine data type\n",
    "\n",
    "int_variable = 42\n",
    "string_variable = \"Hello, World!\"\n",
    "float_variable = 3.14\n",
    "\n",
    "print(type(int_variable))  \n",
    "print(type(string_variable))  \n",
    "print(type(float_variable))  "
   ]
  },
  {
   "cell_type": "markdown",
   "id": "16ed76e0",
   "metadata": {},
   "source": [
    "The `type()` function returns the data type of the given variable. Knowing the data type is often the first step to effective variable manipulation."
   ]
  },
  {
   "cell_type": "markdown",
   "id": "13ac007d",
   "metadata": {},
   "source": [
    "## Specifying, converting, and casting data types\n",
    "\n",
    "In Python, the terms \"specify,\" \"convert,\" and \"cast\" are often used interchangeably, but they do have nuanced differences. \n",
    "\n",
    "**Common Ground:** \n",
    "\n",
    "All three concepts involve dealing with the type of data a variable holds.\n",
    "\n",
    "**Nuances:**\n",
    "\n",
    "1. Specify: Focuses on declaring the type explicitly at the variable's creation.\n",
    "2. Convert: Involves changing the variable's type implicitly during data processing or variable manipulation.\n",
    "3. Cast: Similar to conversion but implies a more explicit or intentional change.\n",
    "\n",
    "Understanding these distinctions is crucial when working with Python, as it helps us write more readable and purposeful code, especially in situations where explicit type handling is necessary. \n",
    "\n",
    "Let's clarify each concept:"
   ]
  },
  {
   "cell_type": "markdown",
   "id": "fccbfb9b",
   "metadata": {},
   "source": [
    "## 1. Specifying the data type\n",
    "\n",
    "Python is a dynamically typed language, meaning that it does not require a pre-defined data type for any variable, as it is interpreted by the machine itself at runtime. \n",
    "\n",
    "However, in some cases, we may need to specify the data type of a variable explicitly. This is especially useful when we want to ensure that a variable is treated in a specific way.\n"
   ]
  },
  {
   "cell_type": "markdown",
   "id": "8b990500",
   "metadata": {},
   "source": [
    "<u><b>Syntax:</b></u>\n",
    "\n",
    "`variable_name = data_type(value)`"
   ]
  },
  {
   "cell_type": "code",
   "execution_count": null,
   "id": "15ea26b8",
   "metadata": {},
   "outputs": [],
   "source": [
    "# Example: Specifying data type\n",
    "integer_variable = int(3.14)\n",
    "float_variable = float(\"42.42\")\n",
    "string_variable = str(123)\n",
    "\n",
    "# Print the variable and its data type. \n",
    "# Use colon (:) as separator \n",
    "print(integer_variable,\":\", type(int_variable))   \n",
    "print(float_variable, \":\", type(float_variable))     \n",
    "print(string_variable, \":\", type(string_variable)) "
   ]
  },
  {
   "cell_type": "markdown",
   "id": "145b461a",
   "metadata": {},
   "source": [
    "## 2. Converting data types\n",
    "\n",
    "Converting data types is the process of changing a variable's type from one to another, normally performed implictly during data manipulation or processing, by the compiler.\n",
    "\n"
   ]
  },
  {
   "cell_type": "code",
   "execution_count": null,
   "id": "7f7d6904",
   "metadata": {},
   "outputs": [],
   "source": [
    "# Example: Converting data type\n",
    "integer1 = 5 \n",
    "integer2 = 10\n",
    "answer = integer2/integer1\n",
    "\n",
    "# Print the variable and its data type. \n",
    "# Use colon (:) as separator \n",
    "print(integer1,\":\", type(integer1))   \n",
    "print(integer2, \":\", type(integer2))\n",
    "print(answer, \":\", type(answer))"
   ]
  },
  {
   "cell_type": "markdown",
   "id": "af5a64c6",
   "metadata": {},
   "source": [
    "Implicit data type conversion generally does not result in data loss, unlike casting. "
   ]
  },
  {
   "cell_type": "markdown",
   "id": "ef85174f",
   "metadata": {},
   "source": [
    "## 3. Casting data types\n",
    "\n",
    "Casting data types is similar to converting but implies a more explicit or forceful change in type, normally actioned by the user. \n",
    "\n",
    "<br>\n",
    "\n",
    "> ⚠️ Type casting could result in data loss. "
   ]
  },
  {
   "cell_type": "markdown",
   "id": "d731d7f3",
   "metadata": {},
   "source": [
    "<u><b>Syntax:</b></u>\n",
    "\n",
    "`new_variable = target_data_type(existing_variable)`"
   ]
  },
  {
   "cell_type": "code",
   "execution_count": null,
   "id": "2251034e",
   "metadata": {},
   "outputs": [],
   "source": [
    "# Example: Casting data types\n",
    "float_result = float(\"42\")\n",
    "integer_from_float_result = int(float(\"3.14\"))\n",
    "\n",
    "# Print the variable and its data type. \n",
    "# Use colon (:) as separator \n",
    "print(float_result,\":\", type(float_result))   \n",
    "print(integer_from_float_result, \":\", type(integer_from_float_result))"
   ]
  },
  {
   "cell_type": "markdown",
   "id": "0a30de95",
   "metadata": {},
   "source": [
    "**NOTE:**\n",
    "\n",
    "Conversion from a floating-point string to an integer is not straightforward."
   ]
  },
  {
   "cell_type": "code",
   "execution_count": null,
   "id": "d552148e",
   "metadata": {},
   "outputs": [],
   "source": [
    "integer_result = int(\"3.14\")"
   ]
  },
  {
   "cell_type": "markdown",
   "id": "d9c87c54",
   "metadata": {},
   "source": [
    "The `ValueError` occurs because the `int()` function in Python is designed to only convert **strings** that represent integers, not floating-point numbers.\n",
    "\n",
    "Therefore, if we want to convert the **string** `\"3.14\"` to an integer number, we should first convert it into a **float** using the `float()` function. Only then can we specify this value as an integer using the `int()` function."
   ]
  },
  {
   "cell_type": "code",
   "execution_count": null,
   "id": "0f714aa5",
   "metadata": {},
   "outputs": [],
   "source": [
    "integer_result = int(float(\"3.14\"))\n",
    "\n",
    "# Print the variable and its data type. \n",
    "# Use colon (:) as separator \n",
    "print(integer_result,\":\", type(integer_result))"
   ]
  },
  {
   "cell_type": "markdown",
   "id": "07e284f3",
   "metadata": {},
   "source": [
    "## Examples\n",
    "\n",
    "Now that we've covered the theoretical aspects, let's reinforce our knowledge with additional examples."
   ]
  },
  {
   "cell_type": "markdown",
   "id": "4782c18b",
   "metadata": {},
   "source": [
    "### Example 1\n",
    "\n",
    "Perform a type casting on `variable_a` and `variable_b` so that we can successfully add them together (`variable_a + variable_b`). Print the result along with its data type."
   ]
  },
  {
   "cell_type": "code",
   "execution_count": null,
   "id": "54e0a2fc",
   "metadata": {},
   "outputs": [],
   "source": [
    "variable_a = 5.67\n",
    "variable_b = \"123\"\n",
    "\n",
    "# Perform type casting\n",
    "variable_a = float(variable_a)\n",
    "variable_b = int(variable_b)\n",
    "\n",
    "# Add the variables\n",
    "result = variable_a + variable_b\n",
    "\n",
    "# Print the result and its data type\n",
    "print(result, \":\", type(result))"
   ]
  },
  {
   "cell_type": "markdown",
   "id": "597d9fe5",
   "metadata": {},
   "source": [
    "### Example 2\n",
    "\n",
    "Perform a casting on `mixed_variable` to obtain a float and an integer version. Print both results along with their data types."
   ]
  },
  {
   "cell_type": "code",
   "execution_count": null,
   "id": "c52e6f5a",
   "metadata": {},
   "outputs": [],
   "source": [
    "mixed_variable = \"42.42\"\n",
    "\n",
    "# Type conversion\n",
    "float_version = float(mixed_variable)\n",
    "integer_version = int(float_version)\n",
    "\n",
    "\n",
    "# Print the results and their data types\n",
    "print(integer_version, \":\", type(integer_version))\n",
    "print(float_version, \":\", type(float_version))"
   ]
  },
  {
   "cell_type": "markdown",
   "id": "f3a6452a",
   "metadata": {},
   "source": [
    "Here, we first cast `mixed_variable` to a float using `float()`, and then we cast that result to an integer using `int()`."
   ]
  },
  {
   "cell_type": "markdown",
   "id": "4c618025",
   "metadata": {},
   "source": [
    "### Example 3\n",
    "\n",
    "Consider a scenario where we have a variable `total_amount` as a float, representing a monetary value. How would we ensure that this amount is represented as an integer value in cents without losing precision?\n",
    "\n",
    "> Answer: To represent the monetary value in cents without losing precision, we can multiply the `total_amount` by 100 and then cast it to an integer. This way, the float value is converted to an integer while maintaining the precision in cents.\n",
    "\n",
    "For example:"
   ]
  },
  {
   "cell_type": "code",
   "execution_count": null,
   "id": "95a2e394",
   "metadata": {},
   "outputs": [],
   "source": [
    "total_amount = 42.56\n",
    "total_amount_in_cents = int(total_amount * 100)\n",
    "\n",
    "# Print the result\n",
    "print(total_amount_in_cents)"
   ]
  },
  {
   "cell_type": "markdown",
   "id": "e9956efe",
   "metadata": {
    "tags": []
   },
   "source": [
    "## Summary\n",
    "\n",
    "The ability to cast variables to different data types is a fundamental skill in programming, particularly in Python. The process of type casting allows programmers to manipulate data efficiently, ensuring the correct application of operations, methods, and functions to specific data types. \n",
    "\n",
    "The terms \"specify,\" \"convert,\" and \"cast\" are often used interchangeably in Python, but they have nuanced differences. Specifying involves declaring the type explicitly at the variable's creation, converting is done implicitly by the compiler, while casting implies a more explicit or intentional change in data type. These distinctions are essential for writing readable and purposeful code, especially in situations where explicit type handling is necessary."
   ]
  },
  {
   "cell_type": "markdown",
   "id": "26fd094b-0fee-46f1-a4b8-73766813c42b",
   "metadata": {
    "tags": []
   },
   "source": [
    "#  \n",
    "\n",
    "<div align=\"center\" style=\" font-size: 80%; text-align: center; margin: 0 auto\">\n",
    "<img src=\"https://raw.githubusercontent.com/Explore-AI/Pictures/master/ExploreAI_logos/EAI_Blue_Dark.png\"  style=\"width:200px\";/>\n",
    "</div>"
   ]
  }
 ],
 "metadata": {
  "kernelspec": {
   "display_name": "Python 3 (ipykernel)",
   "language": "python",
   "name": "python3"
  },
  "language_info": {
   "codemirror_mode": {
    "name": "ipython",
    "version": 3
   },
   "file_extension": ".py",
   "mimetype": "text/x-python",
   "name": "python",
   "nbconvert_exporter": "python",
   "pygments_lexer": "ipython3",
   "version": "3.11.5"
  }
 },
 "nbformat": 4,
 "nbformat_minor": 5
}
