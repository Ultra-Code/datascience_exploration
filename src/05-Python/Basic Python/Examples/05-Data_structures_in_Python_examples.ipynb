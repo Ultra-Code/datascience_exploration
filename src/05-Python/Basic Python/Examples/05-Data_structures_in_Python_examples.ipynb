{
 "cells": [
  {
   "cell_type": "markdown",
   "id": "2c9df63a",
   "metadata": {},
   "source": [
    "<div align=\"center\" style=\" font-size: 80%; text-align: center; margin: 0 auto\">\n",
    "<img src=\"https://raw.githubusercontent.com/Explore-AI/Pictures/master/Python-Notebook-Banners/Examples.png\"  style=\"display: block; margin-left: auto; margin-right: auto;\";/>\n",
    "</div>"
   ]
  },
  {
   "cell_type": "markdown",
   "id": "f662d169",
   "metadata": {},
   "source": [
    "# Examples: Data structures in Python\n",
    "© ExploreAI Academy"
   ]
  },
  {
   "cell_type": "markdown",
   "id": "26af890c",
   "metadata": {},
   "source": [
    "In this notebook, we define what data structures in Python are, explain the difference between mutable and immutable data structures, and expand on the four common built-in Python data structures."
   ]
  },
  {
   "cell_type": "markdown",
   "id": "2d230d14",
   "metadata": {
    "tags": []
   },
   "source": [
    "## Learning objectives\n",
    "\n",
    "By the end of this train, you should be able to:\n",
    " \n",
    "* Define data structures in Python.\n",
    "* Know the most common types of built-in data structures in Python and their characteristics. \n",
    "* Understand the differences between mutable and immutable data structures."
   ]
  },
  {
   "cell_type": "markdown",
   "id": "e49051d7",
   "metadata": {},
   "source": [
    "## Introduction\n",
    "\n",
    "A simple variable in Python only stores an individual value of a specific data type."
   ]
  },
  {
   "cell_type": "code",
   "execution_count": null,
   "id": "f15df233",
   "metadata": {},
   "outputs": [],
   "source": [
    "#Assign the value 'Lion' to the simple variable Animal_name\n",
    "Animal_name = 'Lion'"
   ]
  },
  {
   "cell_type": "markdown",
   "id": "53aaf664",
   "metadata": {},
   "source": [
    "What if we need to **store** and **manipulate** a **group of values** of varying data types? Python contains **built-in data structures** that allow us to store collections of data. These data structures provide a way of organising and managing the data for efficient access and performing operations on the data.\n",
    "\n",
    "The most common **built-in data structures in Python** include:\n",
    "* Tuple\n",
    "* List \n",
    "* Set\n",
    "* Dictionary"
   ]
  },
  {
   "cell_type": "markdown",
   "id": "6896ab21",
   "metadata": {},
   "source": [
    "## Mutability\n",
    "\n",
    "A key concept used to differentiate Python data structures is **mutability**.\n",
    "Mutability refers to whether or not a data structure **can be modified** after it has been created.\n",
    "\n",
    "Python data structures can be classified into two main categories based on their mutability. That is, **mutable** or **immutable**:"
   ]
  },
  {
   "cell_type": "markdown",
   "id": "b3cdb46e",
   "metadata": {},
   "source": [
    "### I. Immutable data structures\n",
    "\n",
    "These are data structures that **cannot be changed** once they are created. The **tuple** is an immutable data structure in Python."
   ]
  },
  {
   "cell_type": "markdown",
   "id": "5321b6f0",
   "metadata": {},
   "source": [
    "### a) Tuple\n",
    "\n",
    "#### Characteristics:\n",
    "\n",
    "Tuples are Python data structures that store a **constant** group of items defined within **round brackets or parentheses**. Tuples can contain elements of **varying data types**."
   ]
  },
  {
   "cell_type": "code",
   "execution_count": null,
   "id": "518e2980",
   "metadata": {},
   "outputs": [],
   "source": [
    "# Tuple containing items of different data types, defined within round brackets\n",
    "Animal_tuple = (\"Yellow anaconda\", \"Reptile\", 30.5, 20, False)"
   ]
  },
  {
   "cell_type": "markdown",
   "id": "4a43c24e",
   "metadata": {},
   "source": [
    "The elements in a tuple are **ordered**, which means that they maintain the specific position in which they were added. \n",
    "\n",
    "Each position is denoted by an index, starting with zero. \n",
    "\n",
    "Therefore, we can **use the indexes to access** the corresponding elements in a tuple.\n",
    "\n",
    "Tuples also **allow duplicate items** since they can be differentiated using their index.\n",
    "\n",
    "Since tuples are **immutable**, we cannot change, add, or remove items from a tuple once it has been created."
   ]
  },
  {
   "cell_type": "markdown",
   "id": "4e55c0a1",
   "metadata": {},
   "source": [
    "#### Use case: \n",
    "\n",
    "Tuples are useful when we want to represent a **fixed collection** of items that should not be changed after creation and have a **specific order**.\n",
    "\n",
    "Let’s consider the context of a library. A tuple can be used to represent preserved ancient history books locked in a display case. Each book will occupy a specific position.  But the collection is fixed and we cannot alter it."
   ]
  },
  {
   "cell_type": "markdown",
   "id": "6f71d141",
   "metadata": {},
   "source": [
    "### II. Mutable data structures\n",
    "\n",
    "These are data structures that **can be modified** in some way after creation. Mutable data structures in Python include the **list**, **set**, and **dictionary**."
   ]
  },
  {
   "cell_type": "markdown",
   "id": "8becf4c2",
   "metadata": {},
   "source": [
    "### a) List\n",
    "\n",
    "#### Characteristics:\n",
    "\n",
    "A list is a **flexible** data structure in Python. It can contain elements of **different data types**, which are enclosed within **square brackets**. "
   ]
  },
  {
   "cell_type": "code",
   "execution_count": null,
   "id": "c129828b",
   "metadata": {},
   "outputs": [],
   "source": [
    "# List containing items of different data types, defined within square brackets\n",
    "Animal_list = [\"Blue whale\", \"Mammal\", 150000, 80, True]"
   ]
  },
  {
   "cell_type": "markdown",
   "id": "e7157099",
   "metadata": {},
   "source": [
    "Just like tuples, lists are also **ordered**, starting with an index of 0, making it possible for us to access items through their indexes. \n",
    "\n",
    "Their ordered nature also **allows for duplicated items**.\n",
    "\n",
    "Lists are **mutable** and elements can be modified, added, or removed as required."
   ]
  },
  {
   "cell_type": "markdown",
   "id": "a1100322",
   "metadata": {},
   "source": [
    "#### Use case: \n",
    "\n",
    "Lists are therefore suitable for storing a **dynamic collection** of elements that **may need to change**, and whose **order** needs to be **maintained**. \n",
    "\n",
    "For our library example, we can use a list to represent ordered books on a shelf. We can find a book using its position in the list which corresponds to its place on the shelf. We can also add and remove books from the list as needed."
   ]
  },
  {
   "cell_type": "markdown",
   "id": "6b10e1de",
   "metadata": {},
   "source": [
    "### b) Set\n",
    "\n",
    "#### Characteristics:\n",
    "\n",
    "Another common data structure in Python is a set which is a collection of **unique** items. \n",
    "Sets can contain elements of **different data types** and are defined using **curly brackets**."
   ]
  },
  {
   "cell_type": "code",
   "execution_count": null,
   "id": "2e873ad2",
   "metadata": {},
   "outputs": [],
   "source": [
    "# Set containing items of different data types, defined within curly brackets\n",
    "Animal_set = {\"Elephant\", \"Mammal\", 5000, 65, True}"
   ]
  },
  {
   "cell_type": "markdown",
   "id": "756cbd50",
   "metadata": {},
   "source": [
    "Unlike lists and tuples, the items in a set are **not ordered**. This means that they don't assume fixed positions, and their order can change each time they are used.\n",
    "\n",
    "For this reason, we **cannot access an element** in a set using an index since it will have a different position each time.\n",
    "\n",
    "Also, the unordered nature of sets **does not allow** them to have **duplicates** since we can't differentiate them by their positions. Items with the same value are considered to be the same thing. \n",
    "\n",
    "Sets are also **mutable**, in that we **can add** and **remove** items from the set. However, we **can't change** an element that already exists in a set."
   ]
  },
  {
   "cell_type": "markdown",
   "id": "abbea19f",
   "metadata": {},
   "source": [
    "#### Use case: \n",
    "\n",
    "Sets are great for carrying out **membership tests**; that is, checking if an element belongs to a collection. They are also useful when we wish to **perform combinations or comparisons** among collections **using set operations**. Sets are also effective when we want to keep unique elements and **eliminate duplicates**.\n",
    "\n",
    "In the case of a library, sets can be used to group the books based on their genre, where each set corresponds to a specific genre. We can use these sets to check whether a specific book belongs to a particular genre. We can also perform set operations to find common books across different genres in the library."
   ]
  },
  {
   "cell_type": "markdown",
   "id": "9e100048",
   "metadata": {},
   "source": [
    "### c) Dictionary\n",
    "\n",
    "#### Characteristics:\n",
    "\n",
    "The final Python data structure we will look at is the dictionary.\n",
    "They store a collection of **key-based items**, of **any data type**, defined within **curly brackets**."
   ]
  },
  {
   "cell_type": "code",
   "execution_count": null,
   "id": "cc748aea",
   "metadata": {},
   "outputs": [],
   "source": [
    "# Dictionary containing items of different data types, stored as key: value pairs\n",
    "Animal_dict = {'Name': 'Elephant', 'Type': 'Mammal', 'Av_weight': 5000, 'Av_lifespan': 65, 'Endangered': True}"
   ]
  },
  {
   "cell_type": "markdown",
   "id": "c88e86f5",
   "metadata": {},
   "source": [
    "The key difference between dictionaries and previous data structures is that they are **stored in pairs**; that is, the key and the value itself, separated by a colon. \n",
    "\n",
    "The key is used to **identify** the value. Therefore, we can **access an item** in a dictionary using its **respective key**.\n",
    "\n",
    "Since the keys act as identifiers, they must be unique and **no duplicates** are allowed.\n",
    "\n",
    "Dictionaries are **mutable** in that we can **modify** the value associated with a particular key. It is also possible for us to **add or remove key: value pairs** from an existing dictionary."
   ]
  },
  {
   "cell_type": "markdown",
   "id": "39435e79",
   "metadata": {},
   "source": [
    "#### Use case: \n",
    "\n",
    "Dictionaries are suitable for storing **dynamic** and **structured** data collections that are labelled or have unique identifiers. They are also great if we are focused on **fast and efficient data retrieval** based on keys.\n",
    "\n",
    "In our library example, we can use a dictionary to resemble a catalogue system where each book has a unique identifier as the key. We can therefore quickly and directly access books based on their unique identifiers."
   ]
  },
  {
   "cell_type": "markdown",
   "id": "e9956efe",
   "metadata": {
    "tags": []
   },
   "source": [
    "## Summary\n",
    "\n",
    "In this notebook, we have looked at how we can store collections of data using data structures in Python. We have defined the four common built-in Python data structures and their various characteristics. The choice of which data structure to use depends on our specific needs and the type of data we're working with. "
   ]
  },
  {
   "cell_type": "markdown",
   "id": "26fd094b-0fee-46f1-a4b8-73766813c42b",
   "metadata": {
    "tags": []
   },
   "source": [
    "#  \n",
    "\n",
    "<div align=\"center\" style=\" font-size: 80%; text-align: center; margin: 0 auto\">\n",
    "<img src=\"https://raw.githubusercontent.com/Explore-AI/Pictures/master/ExploreAI_logos/EAI_Blue_Dark.png\"  style=\"width:200px\";/>\n",
    "</div>"
   ]
  }
 ],
 "metadata": {
  "kernelspec": {
   "display_name": "Python 3 (ipykernel)",
   "language": "python",
   "name": "python3"
  },
  "language_info": {
   "codemirror_mode": {
    "name": "ipython",
    "version": 3
   },
   "file_extension": ".py",
   "mimetype": "text/x-python",
   "name": "python",
   "nbconvert_exporter": "python",
   "pygments_lexer": "ipython3",
   "version": "3.11.4"
  }
 },
 "nbformat": 4,
 "nbformat_minor": 5
}
