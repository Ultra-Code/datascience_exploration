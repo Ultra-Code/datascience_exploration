{
 "cells": [
  {
   "cell_type": "markdown",
   "metadata": {
    "id": "Ee-v8I_P8rfp"
   },
   "source": [
    "![alt_text](https://github.com/Explore-AI/Pictures/blob/master/Python-Notebook-Banners/Examples.png?raw=true \"Example banner\")\n",
    "\n",
    "\n",
    "# Examples: Sort algorithms\n",
    "© ExploreAI Academy\n",
    "\n",
    "A sorting algorithm is an algorithm that puts elements of a list in a certain logical order. Although we have built-in functions such as sorted(), writing our own sorting algorithms is useful for greater flexibility, and sometimes, efficiency. In this train, we will discuss various sorting algorithms, their implementation, and complexity."
   ]
  },
  {
   "cell_type": "markdown",
   "metadata": {
    "id": "ITqrvAqq8xSC"
   },
   "source": [
    "## Learning objectives\n",
    "\n",
    "By the end of this train, you should:\n",
    "\n",
    "* Understand the concept of sorting algorithms and their complexity. \n",
    "* Understand the pseudocode implementations of these sorting algorithms."
   ]
  },
  {
   "cell_type": "markdown",
   "metadata": {},
   "source": [
    "## Sorting in Python\n",
    "\n",
    "A sorting algorithm is an algorithm that puts elements of a list in a certain logical order. There are many different sorting techniques and applications.\n",
    "\n",
    "Applying sorting techniques is especially useful in the following cases:\n",
    "* **Searching** algorithms are much quicker on sorted lists.\n",
    "* **Selecting** items based on a specific characteristic, such as the k<sup>th</sup> smallest or largest value.\n",
    "* **Finding duplicates** in a list is much easier if sorted.\n",
    "\n",
    "\n",
    "Because Python is a high-level programming language, we can also use built-in functions such as `sorted()`. However, writing your sorting algorithms provides **greater flexibility**, and in some cases, **greater efficiency**.\n"
   ]
  },
  {
   "cell_type": "markdown",
   "metadata": {},
   "source": [
    "Before we get into specific sorting algorithms it should be noted that it is possible to have various implementations and variations of each. Two characteristics can be used to distinguish between them: ***in-place*** and ***stability***.\n",
    "\n",
    "- An **in-place** sorting algorithm refers to one that sorts the input using no additional data structures. In other words, the sorting algorithm modifies the input list directly instead of creating a new list for the sorted output. The in-place characteristic often indicates the space complexity of an algorithm.\n",
    "\n",
    "- A **stable** sorting algorithm refers to one that leaves list elements that have equal sorting keys at the *same relative positions* as they were in the input list. So, a stable algorithm preserves the original order of the input list. If we had duplicate elements in the list, the output list would contain these duplicate elements in the same relative order.\n",
    "\n",
    "Stability is only of concern when duplicate elements are distinguishable. For example, if the list or collection already has a specific order, then preserving that order when sorting is imperative.\n",
    "\n",
    "In the following examples, we'll discuss these two characteristics for each sorting implementation.\n"
   ]
  },
  {
   "cell_type": "markdown",
   "metadata": {},
   "source": [
    "Let's cover some of the more **common sorting algorithms**."
   ]
  },
  {
   "cell_type": "markdown",
   "metadata": {},
   "source": [
    "## 1. Bubble sort\n",
    "\n",
    "Bubble sort is a basic sorting algorithm that is relatively simple. The idea is to 'bubble up' **the largest element within a list to the end of the list**, then the **second largest to the second-to-last position in the list**, and so on. Each bubble up takes a full sweep through the list. "
   ]
  },
  {
   "cell_type": "markdown",
   "metadata": {},
   "source": [
    "### a) Standard bubble sort algorithm\n",
    "\n",
    "Let's consider a standard implementation of bubble sort, where we look at each item in the list **one by one and compare it to the subsequent value**. With each iteration, the number of items we consider decreases because the other items have already been sorted. \n",
    "\n",
    "Since we swap elements within the input list and return the same list in this bubble sort implementation, we know it is an ***in-place*** algorithm. It is also a ***stable*** algorithm by nature."
   ]
  },
  {
   "cell_type": "markdown",
   "metadata": {},
   "source": [
    "#### Pseudocode and example:"
   ]
  },
  {
   "cell_type": "code",
   "execution_count": 1,
   "metadata": {},
   "outputs": [],
   "source": [
    "def bubble_sort(items):\n",
    "    \"\"\" Implementation of bubble sort.\"\"\"\n",
    "    \n",
    "    for i in range(len(items)):\n",
    "        for j in range(len(items)-1-i):\n",
    "\n",
    "            if items[j] > items[j+1]:\n",
    "                items[j], items[j+1] = items[j+1], items[j]     # Swap!\n",
    "          \n",
    "    return items"
   ]
  },
  {
   "cell_type": "code",
   "execution_count": 2,
   "metadata": {},
   "outputs": [
    {
     "data": {
      "text/plain": [
       "[11, 17, 18, 23, 26]"
      ]
     },
     "execution_count": 2,
     "metadata": {},
     "output_type": "execute_result"
    }
   ],
   "source": [
    "bubble_sort([11, 17, 18, 26, 23])"
   ]
  },
  {
   "cell_type": "markdown",
   "metadata": {},
   "source": [
    "<div align=\"center\" style=\" text-align: center; margin: 0 auto\">\n",
    "<img src=\"https://github.com/Explore-AI/Pictures/blob/d845b3f720905851d6d7ecf81a0501ab9d7c2e6a/bubble_sort.jpg?raw=True\"\n",
    "     alt=\"Bubble sort\"\n",
    "     style=\"padding-bottom=0.5em\"\n",
    "     width=800px/>\n",
    "     <br>\n",
    "     <em>Figure 1. Visualisation of a standard bubble sort of a list of integers. </em>\n",
    "</div>"
   ]
  },
  {
   "cell_type": "markdown",
   "metadata": {},
   "source": [
    "- In the **first iteration where $i=0$**, we compare the first two elements of the list, 11 and 17. Since 11 is smaller, we do not swap. Similarly, when our **inner loop $j$** is equal to **1 and 2**, we do not swap any elements. Only when our **inner loop has $j=3$** do we see that the 26 and 23 need to swap.\n",
    "\n",
    "- On our **second iteration, ($i=1$)**, we need to compare the list from the beginning. However, we see that the entire list is already sorted, similarly for the other outer loop iterations."
   ]
  },
  {
   "cell_type": "markdown",
   "metadata": {},
   "source": [
    "However, because the **standard bubble sort algorithm** takes a full sweep of the list, it will **continue to iterate through the list** even if **all numbers are already sorted**. This means that even if you provide the function with a list that is already sorted, it will have to iterate and compare all list elements."
   ]
  },
  {
   "cell_type": "markdown",
   "metadata": {},
   "source": [
    "### b) Modified bubble sort algorithm\n",
    "\n",
    "An easy way to modify our bubble sort function is to **incorporate a flag** that will **tell us that nothing swapped on the previous sweep**. \n",
    "\n",
    "#### Pseudocode and example:\n",
    "\n",
    "Here is the pseudocode and visualisation of this modified implementation of bubble sort:"
   ]
  },
  {
   "cell_type": "markdown",
   "metadata": {},
   "source": [
    "```python\n",
    "# Pseudocode\n",
    "procedure bubble_sort( input A --> which is a list of sortable items )\n",
    "    n = length(A)\n",
    "    repeat \n",
    "        swapped = false\n",
    "        for i = 1 to n-1 inclusive do\n",
    "            # if this pair is out of order\n",
    "            if A[i-1] > A[i] then\n",
    "                # swap them and remember something changed\n",
    "                swap( A[i-1], A[i] )\n",
    "                swapped = true\n",
    "            end if\n",
    "        end for\n",
    "    until not swapped\n",
    "end procedure\n",
    "```"
   ]
  },
  {
   "cell_type": "markdown",
   "metadata": {},
   "source": [
    "<div align=\"center\" style=\" text-align: center; margin: 0 auto\">\n",
    "<img src=\"https://github.com/Explore-AI/Pictures/blob/96a2e655f93be8239e585e1be9be1e4669efd44f/bubble_sort_modified.jpg?raw=True\"\n",
    "     alt=\"Modified bubble sort\"\n",
    "     style=\"padding-bottom=0.5em\"\n",
    "     width=600px/>\n",
    "     <br>\n",
    "     <em>Figure 2. Visualisation of a modified bubble sort of a list of integers. </em>\n",
    "</div>"
   ]
  },
  {
   "cell_type": "markdown",
   "metadata": {},
   "source": [
    "### Time complexity of bubble sort\n",
    "\n",
    "Regardless of modifications to the bubble sort algorithm, we fundamentally have **two nested loops** within the function. This means that we have ***quadratic time complexity*** $O(n^2)$. However, this will only be the **case if both loops iterate**, which, with the addition of the flag to terminate early, might not always be the case.\n",
    "\n",
    "So, we need to consider the best, worst, and average time complexities of bubble sort:"
   ]
  },
  {
   "cell_type": "markdown",
   "metadata": {},
   "source": [
    "**Best case:**\n",
    "\n",
    "In the best case, the bubble sort algorithm is implemented on **a list that is already sorted in ascending order**, for example, `[1, 2, 3, 4, 5]`. \n",
    "\n",
    "This means that we **only need a single iteration** for the algorithm to determine that none of the elements needs to be swapped. So, $n-1$ comparisons are required, with $n$ the number of list elements and the *best-case time complexity* is *linear time* $O(n)$.\n",
    "\n",
    "\n",
    "**Worst case:**\n",
    "\n",
    "In the worst-case scenario, the **list is in the reverse order**, for example, `[5, 4, 3, 2, 1]`. \n",
    "\n",
    "This means that the algorithm would have to **swap every list element** to sort it in ascending order. In the **first iteration**, the largest element moves from the left to the right, and the swapping pairs are `5/4, 5/3, 5/2, 5/1`. In the **second iteration**, the swapping pairs are `4/3, 4/2, 4/1`. In the **third iteration**, we have `3/2, 3/1`, and in the **fourth iteration**, we only have a single pair, `2/1`. \n",
    "\n",
    "In other words, we have **10 comparison and swapping operations** for this list of five elements in the reverse order. Our biggest operation was moving `5` to the right side, which took four operations, and on average, we divide by two because half of the elements are compared and swapped:\n",
    "\n",
    "$10 = 5 \\times 4 \\times 1/2 = 20 \\times 1/2$.\n",
    "\n",
    "Now we can substitute our number of elements in, which is $n = 5$:\n",
    "\n",
    "$5 \\times 4 \\times 1/2 = n \\times (n-1) \\times 1/2 = 1/2 (n^2 - n)$.\n",
    "\n",
    "Since the highest power of $n$ is $n^2$ in the equation above, we can assume that our *worst-case time complexity* is *quadratic time* $O(n^2)$ for bubble sort.\n",
    "\n",
    "\n",
    "**Average case:**\n",
    "\n",
    "Illustrating the average time complexity of bubble sort is more complex without going into the math. We could simply assume that, on average, **half of our elements are already in place**, which means we have:\n",
    "\n",
    "$n \\times (n-1) \\times 1/2 \\times 1/2 = 1/4 (n^2 - n)$.\n",
    "\n",
    "Again, the highest power of $n$ is $n^2$, and we can assume that our *average time complexity* is *quadratic time* $O(n^2)$ for bubble sort."
   ]
  },
  {
   "cell_type": "markdown",
   "metadata": {},
   "source": [
    "## 2. Insertion sort\n",
    "\n",
    "The insertion sort algorithm works by **taking elements from an unsorted list** and **inserting them at the right place** in this same list. \n",
    "\n",
    "Typically, insertion sort is done ***in-place*** by iterating through the list and **adding the sorted sublist** at the **head of the same list**. \n",
    "\n",
    "If it is **not done in-place**, the **sorted elements** are **added** to **an empty sorted list**. Since the total number of elements in the new and old list stays the same, we can use the same list to represent the sorted and unsorted sections.\n",
    "\n",
    "Insertion algorithms are also usually ***stable*** since the order of duplicates will be preserved because a swap only occurs when an element is strictly larger than the key. "
   ]
  },
  {
   "cell_type": "markdown",
   "metadata": {},
   "source": [
    "#### Pseudocode and example:\n",
    "\n",
    "Let's consider the **pseudocode** for an insertion sort algorithm:\n",
    "\n",
    "```python\n",
    "# Pseudocode\n",
    "procedure insertion_sort( input A --> which is a list of sortable items )\n",
    "    for i = 1 to n-1 inclusive do\n",
    "        key = A[i]\n",
    "        j = i - 1\n",
    "        while j >= 0 and key < A[j] do\n",
    "            shift A[j] to the left\n",
    "            j = j - 1\n",
    "        end while\n",
    "        A[j + 1] = key\n",
    "    end while\n",
    "end procedure\n",
    "```"
   ]
  },
  {
   "cell_type": "markdown",
   "metadata": {},
   "source": [
    "**Every iteration** of the sorting algorithm ***inserts*** an **element** from the input list in the **correct position of the sorted list**. \n",
    "So, on each pass, **an element is checked against all elements** in the sorted list, similar to how you would sort a deck of cards."
   ]
  },
  {
   "cell_type": "markdown",
   "metadata": {},
   "source": [
    "<div align=\"center\" style=\" text-align: center; margin: 0 auto\">\n",
    "<img src=\"https://github.com/Explore-AI/Pictures/blob/f8cc8c8a740e4cf483c00a93ac5bc422a4ed022d/insertion_sort.jpg?raw=True\"\n",
    "     alt=\"Insertion sort\"\n",
    "     style=\"padding-bottom=0.5em\"\n",
    "     width=900px/>\n",
    "     <br>\n",
    "     <em>Figure 3. Visualisation of an insertion sort of a list of integers. </em>\n",
    "<div>"
   ]
  },
  {
   "cell_type": "markdown",
   "metadata": {},
   "source": [
    "Consider a list `[11, 2, 26, 18, 23]`. We assume that the first element with the value 11 is already in the sorted list on the left. \n",
    "\n",
    "- So, on our **first iteration**, $i=1$ and the `key` value is `2`. We compare this `key` value with each value on the left. Since  **2 < 11, we shift 2 to the left to position $j=0$**.\n",
    "\n",
    "- On our  **second iteration**, $i=2$, `key=26`. Again, we compare it to the values to the left of it. Since  **26 > 11 > 2, we add 26 to the sorted list in the same position**.\n",
    "\n",
    "- On our  **third iteration**, $i=3$, `key=18`. We compare it to the values on the left.  **Since 18 < 26 but 18 > 11, we shift it to $j=2$**. We do not have to compare the `key` to any values to the left of $j=1$ because we already know that the sublist to the left is sorted.\n",
    "\n",
    "- Finally, on our  **fourth iteration**, $i=4$, `key=23`. Since  **23 < 26 but 23 > 18, we shift it to $j=3$**. As in the previous iteration, we do not have to compare it to the values 11 and 2 because they have already been sorted. However, if the `key` was also smaller than 18 then we would compare it to the value left of 18 too."
   ]
  },
  {
   "cell_type": "markdown",
   "metadata": {},
   "source": [
    "### Time complexity of insertion sort\n",
    "\n",
    "As in bubble sort, insertion sort also has **two nested loops**. \n",
    "\n",
    "- Therefore, the ***worst-case*** and ***average time complexity*** for insertion sort can still be assumed as ***quadratic time*** $O(n^2)$. \n",
    "\n",
    "- Furthermore, if the list is **already sorted**, the insertion sort algorithm will **compare once in the inner loop** but swap nothing. This means that the ***best-case time complexity*** for insertion sort will be ***linear time*** $O(n)$, similar to the best case for bubble sort.\n",
    "\n",
    "Although the best, worst, and average time complexities for insertion and bubble are the same, **insertion sort algorithms are generally faster than bubble sort algorithms**. Remember, when considering these time complexities we are referring to the overall complexity, which doesn't consider the number of elements, programming language, etc. In other words, only the highest level of complexity counts toward the time complexity classification."
   ]
  },
  {
   "cell_type": "markdown",
   "metadata": {},
   "source": [
    "## 3. Merge sort\n",
    "\n",
    "Merge sort is an algorithm that works by **first recursively dividing an unsorted list into sublists**, thus breaking down its elements until each is placed within an individual sublist. A **recursive process** is then followed to **merge neighbouring sublists in an ordered manner**, ultimately **yielding a fully sorted list**.\n",
    "\n",
    "Although merge sort algorithms are generally ***stable*** by nature, they are **not** commonly implemented to sort ***in-place***. In other words, a second list (or other data structure) is required to store the sorted list in, which requires more memory.\n",
    "\n",
    "> 💡 Note\n",
    ">\n",
    "> The merge sort algorithm is often implemented through two functions: a function (`merge()`) that merges the two halves to produce a sorted array, and a function (`merge_sort()`) that recursively splits the list in half."
   ]
  },
  {
   "cell_type": "markdown",
   "metadata": {},
   "source": [
    "#### Pseudocode and example:\n",
    "\n",
    "Let's first consider the pseudocode for the **function that merges the two halves**.\n",
    "\n",
    "``` python\n",
    "# Pseudocode\n",
    "function merge(left, right)\n",
    "    result starts as an empty list\n",
    "\n",
    "    while left is not empty and right is not empty do\n",
    "        if left[0] ≤ right[0] then\n",
    "            result = result + left[0] \n",
    "            left = left[1:]\n",
    "        else\n",
    "            result = result + right[0]\n",
    "            right = right[1:]\n",
    "\n",
    "    # Either left or right may have elements left; consume them.\n",
    "    # (Only one of the following loops will actually be entered.)\n",
    "    while left is not empty do\n",
    "        result = result + left[0]\n",
    "        left = left[1:]\n",
    "        \n",
    "    while right is not empty do\n",
    "        result = result + right[0]\n",
    "        right = right[1:]\n",
    "    return result\n",
    "```"
   ]
  },
  {
   "cell_type": "markdown",
   "metadata": {},
   "source": [
    "- The function `merge()` receives **two sublists that are sorted**. \n",
    "\n",
    "- Before merging the two lists, we first check if either of these lists is empty. If either is empty then there is nothing to merge and we return to the `merge_sort()` function. \n",
    "\n",
    "- We stay in this list while looping in `merge()` until there is nothing left in either of the lists. We compare the element at the front of each list, select the smaller value of the two lists, and combine their elements.\n",
    "\n",
    "- Then, if either list has any elements left (but the other list does not), our new list simply absorbs those elements."
   ]
  },
  {
   "cell_type": "markdown",
   "metadata": {},
   "source": [
    "Next, we take a look at the `merge_sort()` function that **recursively splits the list in half** and **uses** the **previous `merge()` function** to return the final sorted list."
   ]
  },
  {
   "cell_type": "markdown",
   "metadata": {},
   "source": [
    "```python\n",
    "# Pseudocode\n",
    "function merge_sort(list m)\n",
    "    # Base case. A list of zero or one element is sorted, by definition.\n",
    "    if length of m ≤ 1 then\n",
    "        return m\n",
    "\n",
    "    # Recursive case. First, divide the list into equal-sized sublists\n",
    "    # consisting of the first half and second half of the list.\n",
    "    # This assumes lists start at index 0.\n",
    "    left starts as an empty list\n",
    "    right starts as an  empty list\n",
    "    for each x with index i in m do\n",
    "        if i < (length of m)/2 then\n",
    "            left = left + x\n",
    "        else\n",
    "            right = right + x\n",
    "\n",
    "    # Recursively sort both sublists.\n",
    "    left = merge_sort(left)\n",
    "    right = merge_sort(right)\n",
    "\n",
    "    # Then merge the sorted sublists.\n",
    "    return merge(left, right)\n",
    "```"
   ]
  },
  {
   "cell_type": "markdown",
   "metadata": {},
   "source": [
    "<div align=\"center\" style=\" text-align: center; margin: 0 auto\">\n",
    "<img src=\"https://github.com/Explore-AI/Pictures/blob/7f8c19688a9001c2d332a6e8f6d5f1e7d28801e2/merge_sort.jpg?raw=True\"\n",
    "     alt=\"Merge sort\"\n",
    "     style=\"padding-bottom=0.5em\"\n",
    "     width=400px/>\n",
    "     <br>\n",
    "     <em>Figure 4. Visualisation of a merge sort of a list of integers. </em>\n",
    "</div>"
   ]
  },
  {
   "cell_type": "markdown",
   "metadata": {},
   "source": [
    "Consider a list `[11, 2, 26, 18, 23]`. \n",
    "\n",
    "- The **first call** of `merge_sort()` will split the list so that `left = [11, 2]` and `right = [26, 18, 23]` with `[26]` as the midpoint. \n",
    "\n",
    "- Because Python executes lines of code sequentially, `left` is considered first. Now `left = [11]` and `right = [2]`. \n",
    "\n",
    "- `merge()` now combines the left and right values into the correct order as `[2, 11]` and returns it to `merge_sort()`. \n",
    "\n",
    "- The other half of the list [`26, 18, 23]` is also recursively split up, with `left = [26]` and `right = [18, 23]`. \n",
    "\n",
    "- Then right is again split up into `left = [18]` and `right = [23]`. \n",
    "\n",
    "Each time the **list is split until a single element remains**. It is added to the resulting list in the correct order until all elements have been evaluated."
   ]
  },
  {
   "cell_type": "markdown",
   "metadata": {},
   "source": [
    "### Time complexity of merge sort\n",
    "\n",
    "Since we recursively split the lists into half, we only require one additional recursion if the number of list elements doubles, as observed in the figure below.\n",
    "\n",
    "<div align=\"center\" style=\" text-align: center; margin: 0 auto\">\n",
    "<img src=\"https://github.com/Explore-AI/Pictures/blob/82a4b201f0bc420901150b2c762d213fca5ffe13/merge_sort_timecomplex.jpg?raw=True\"\n",
    "     alt=\"Merge sort time complexity\"\n",
    "     style=\"padding-bottom=0.5em\"\n",
    "     width=500px/>\n",
    "     <br>\n",
    "     <em>Figure 5. Visualisation of the number of division stages in a merge sort algorithm. </em>\n",
    "</div>\n",
    "\n",
    "In other words, the ***time complexity* of our division stages** is $\\log_2 n$.\n",
    "\n",
    "When we merge the sublists, we have a total $n$ elements at any of the levels, no matter the number of elements to merge. The ***time complexity* of our merge operation** is therefore ***linear* $n$**.\n",
    "\n",
    "Our **highest level of complexity** for merge sort in total is, therefore, ***linearithmic time* $O(n \\log n)$**, regardless of how many elements within the list are sorted or not."
   ]
  },
  {
   "cell_type": "markdown",
   "metadata": {},
   "source": [
    "## 3. Quicksort\n",
    "\n",
    "The quicksort algorithm is a **recursive** algorithm where we pick a **pivot value** from the key values in the list **by which we can divide the list**. \n",
    "\n",
    "In other words, **two lists** are created:\n",
    "- One containing elements **lower** than the pivot.\n",
    "- The other containing elements **higher** than the pivot. \n",
    "\n",
    "The algorithm then **sorts the two list**s and **joins them with the pivot in between**.\n",
    "\n",
    "Similar to the process in merge sort, the quicksort algorithm will continue to **divide the list until each sublist contains a single list element**. Because the sublists are created by dividing around the pivot element, the sublists are already sorted and can simply be **combined to return the sorted list**.\n",
    "\n",
    "However, unlike any of the previous sorting algorithms, quicksort is generally ***unstable*** but can be modified with additional space to preserve stability. Perhaps not as obvious, but quicksort can either be ***in-place*** or ***out-place***, depending on the variation. This characteristic will influence the space complexity of the implementation."
   ]
  },
  {
   "cell_type": "markdown",
   "metadata": {},
   "source": [
    "There are various ways to **choose the pivot element**:\n",
    "\n",
    "- Ideally, this pivot element would be the **median value** of the whole list value. However, calculating the median value could be a **time-consuming process** if the list contains many elements. \n",
    "- Another way is to choose the pivot as the **last element** of the list (at the **right side of the list**). Assuming the pivot as the last element of each list allows us to ignore the pivot element in comparison and swap operations because it is already on the right, in other words, larger than any element on the left."
   ]
  },
  {
   "cell_type": "markdown",
   "metadata": {},
   "source": [
    "#### Pseudocode and example:\n",
    "\n",
    "Let's consider the **pseudocode for a right-side pivot** element implementation. \n",
    "\n",
    "```Python\n",
    "# Pseudocode\n",
    "function quick_sort(arr, high_index)\n",
    "\n",
    "    if the arr has one or fewer elements\n",
    "        return the arr\n",
    "\n",
    "    # The pivot element is to the right of a joined list\n",
    "    pivot_element = arr[high_index]\n",
    "\n",
    "    small is an empty list\n",
    "    large is an empty list\n",
    "    duplicate is an empty list\n",
    "    \n",
    "    for each element in the input arr\n",
    "        if the element is smaller than the pivot\n",
    "            append it to the small list\n",
    "        else if the element is bigger than the pivot\n",
    "            append it to the large list\n",
    "        else if the element is equal to the pivot\n",
    "            append it to the duplicate list\n",
    "\n",
    "    small = quick_sort(small)\n",
    "    large = quick_sort(large)\n",
    "\n",
    "    return small + duplicate + large\n",
    "```"
   ]
  },
  {
   "cell_type": "markdown",
   "metadata": {},
   "source": [
    "<div align=\"center\" style=\" text-align: center; margin: 0 auto\">\n",
    "<img src=\"https://github.com/Explore-AI/Pictures/blob/0d3c385cc1714b46652d513b22f2a617c488ab06/quicksort.jpg?raw=True\"\n",
    "     alt=\"Quicksort\"\n",
    "     style=\"padding-bottom=0.5em\"\n",
    "     width=400px/>\n",
    "     <br>\n",
    "     <em>Figure 6. Visualisation of a quicksort of a list of integers. </em>\n",
    "</div>"
   ]
  },
  {
   "cell_type": "markdown",
   "metadata": {},
   "source": [
    "Consider a list `[11, 2, 26, 18, 23]` with a pivot value equal to the element at the highest index, in other words, `[23]`. \n",
    "- From index 0 (the left), **each element is compared to the pivot element**. \n",
    "- Since **11 < 23** and **2 < 23**, they are added to a sublist, `small`. \n",
    "- Since **26 > 23**, 26 is added to a sublist, `large`. \n",
    "- Again, since **18 < 23**, 18 is added to `small`, right after the previous value of 2. \n",
    "- Now `small = [11, 2, 18]`, `large = [26]`, and 23 is a \"duplicate\" value since we already know that everything to the left of 23 is smaller and everything to the right is large.\n",
    "- Then, following the same process, the **`small` sublist is recursively divided in the same way**, with 18 as the next pivot element, followed by 2 as the pivot element.\n",
    "- Since the `large` sublist only contains a single element, we already know that it is sorted. \n",
    "- Finally, we can add our sublists and duplicates.\n",
    "\n",
    "If by chance our **first pivot element is the median value**, as in the example below with the list `[11, 2, 26, 18, 13]`, then **fewer recursions are required** because each sublist contains fewer elements to be compared."
   ]
  },
  {
   "cell_type": "markdown",
   "metadata": {},
   "source": [
    "### Time complexity of quicksort\n",
    "\n",
    "**a) Best case**\n",
    "\n",
    "From the previous figure, we can already deduce that our best-case time complexity will occur when the (sub)lists are split into two equal parts, or if the **pivot element is the median value**.\n",
    "\n",
    "If we split the lists into halves, as in merge sort, then we again only require one additional recursion for every doubling of the number of list elements. Therefore, as in merge sort, the **best-case** time complexity of our division stages is $\\log_2 n$. \n",
    "\n",
    "Furthermore, the addition of the various sublists is ***linear time complexity* $n$**, as addition always is. This leaves us with an **overall *best-case time complexity* that is *linearithmic time***, $O(n \\log n)$.\n",
    "\n",
    "**a) Average case**\n",
    "\n",
    "Deriving the **average** time complexity is slightly more complicated, but we can still assume an **overall *average time complexity* that is *linearithmic time***, $O(n \\log n)$.\n",
    "\n",
    "**a) Worst case**\n",
    "\n",
    "The **worst-case** time complexity would occur if the **pivot element is always the largest or smallest element of the list(sub_list)**. This means that the sublists would not be of equal length since one sublist would have zero elements and the other $n-1$ elements. \n",
    "\n",
    "The division effort would decrease with each level, in other words, $n-1$, $n-2$, $n-3$, ... , $0$. Therefore, with $n$ division levels and effort $1/2 n$ (and $n$ number of elements): $n \\times 1/2 n = 1/2 n^2$, our **overall *worst-case time complexity* is *quadratic*, $O(n^2)$**."
   ]
  },
  {
   "cell_type": "markdown",
   "metadata": {},
   "source": [
    "## Conclusion\n",
    "\n",
    "While this train covers only a few sorting algorithms, there are many others with different variations, often designed to be more efficient. Understanding the functionality and time complexity of each is helpful when initially analysing and selecting suitable sorting algorithms."
   ]
  },
  {
   "cell_type": "markdown",
   "metadata": {},
   "source": [
    "#  \n",
    "\n",
    "<div align=\"center\" style=\" font-size: 80%; text-align: center; margin: 0 auto\">\n",
    "<img src=\"https://raw.githubusercontent.com/Explore-AI/Pictures/master/ExploreAI_logos/EAI_Blue_Dark.png\"  style=\"width:200px\";/>\n",
    "</div>"
   ]
  }
 ],
 "metadata": {
  "colab": {
   "authorship_tag": "ABX9TyPZFCZhaikX+N2/Bg7W6SY+",
   "collapsed_sections": [],
   "name": "Search_algorithms.ipynb",
   "provenance": [],
   "toc_visible": true
  },
  "interpreter": {
   "hash": "6b5ebbc2c6bde2831bc6c0426f75aca8137ccfc69d329557556ed73faee126ae"
  },
  "kernelspec": {
   "display_name": "Python 3 (ipykernel)",
   "language": "python",
   "name": "python3"
  },
  "language_info": {
   "codemirror_mode": {
    "name": "ipython",
    "version": 3
   },
   "file_extension": ".py",
   "mimetype": "text/x-python",
   "name": "python",
   "nbconvert_exporter": "python",
   "pygments_lexer": "ipython3",
   "version": "3.11.4"
  }
 },
 "nbformat": 4,
 "nbformat_minor": 2
}
