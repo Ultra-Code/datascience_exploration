{
 "cells": [
  {
   "attachments": {},
   "cell_type": "markdown",
   "metadata": {},
   "source": [
    "![alt_text](https://github.com/Explore-AI/Pictures/blob/master/Python-Notebook-Banners/Examples.png?raw=true \"Example banner\")\n",
    "\n",
    "\n",
    "# Examples: Python functions 101\n",
    "© ExploreAI Academy\n",
    "\n",
    "\n",
    "In this train, we will learn how to create and utilise Python functions\\. We will also look at how to return values from a function to a variable and distinguish between the use of local and global variables.\n",
    "\n",
    "## Learning objectives\n",
    "\n",
    "By the end of this train, you should be able to:\n",
    "* Return a value from a function.\n",
    "* Return values from a function to a variable.\n",
    "* Create basic Python functions.\n",
    "* Distinguish between a local and global variable."
   ]
  },
  {
   "cell_type": "markdown",
   "metadata": {},
   "source": [
    "A function is a block of **organised**, **reusable** **code** that is used to perform an action. \n",
    "There are two basic types of functions we can work with: **built-in functions** and **user-defined functions**."
   ]
  },
  {
   "cell_type": "markdown",
   "metadata": {},
   "source": [
    "### Built-in functions"
   ]
  },
  {
   "attachments": {},
   "cell_type": "markdown",
   "metadata": {},
   "source": [
    "Python offers a variety of built-in functions that have been constructed on our behalf; which we can quickly and easily utilise.\n",
    "\n",
    "Follow the [link](https://docs.python.org/3/library/functions.html) to access a list of all the Python functions we have at our disposal.\n",
    "\n",
    "\n",
    "Built-in functions come with a set of allowances and constraints that must be obeyed in order for the function to perform properly. These rules are listed in what we call the `documentation` of the function. This is like the guideline for what the function is and how to use it. To access the documentation of a function, we can use Python's `help` utility. "
   ]
  },
  {
   "cell_type": "code",
   "execution_count": null,
   "metadata": {},
   "outputs": [],
   "source": [
    "#Start a help utility session\n",
    "help()"
   ]
  },
  {
   "cell_type": "markdown",
   "metadata": {},
   "source": [
    "This feature is a useful tool for getting documentation and assistance on various aspects of Python. We can either type the function name in the console above or go directly to the documentation by including the function name as an argument in the `help` function.\n",
    "\n",
    " **Note:** When we start a help utility session by typing `help()`, we must end it by typing quit in the console in order to proceed. We don't need to do this if we go straight to the documentation by typing `help(function_name)`. "
   ]
  },
  {
   "cell_type": "markdown",
   "metadata": {},
   "source": [
    "Let's look at an example of how we can put these functions to work.\n",
    "\n",
    "Say we wanted to round the number **253.45367** off to **2 decimal places**. We could use the **round** function to do this.\n",
    "\n",
    "Let's first start by checking the documentation for this function."
   ]
  },
  {
   "cell_type": "code",
   "execution_count": null,
   "metadata": {},
   "outputs": [],
   "source": [
    "help(round)"
   ]
  },
  {
   "cell_type": "markdown",
   "metadata": {},
   "source": [
    "In general, the documentation is structured as follows: \n",
    "\n",
    "1. The function name and any required or optional arguments enclosed in brackets.\n",
    "2. A description of the function's intent.\n",
    "3. A description of the necessary arguments (if needed).\n",
    "4. A description of the expected return value(s)."
   ]
  },
  {
   "attachments": {},
   "cell_type": "markdown",
   "metadata": {},
   "source": [
    "As we can see from the documentation, we must supply a number that we want to round off as well as the number of decimals we'd like to round to. \n",
    "An argument with a `=` indicates that there is a default value in case that argument is not provided. In this case, the default value for **ndigits** is **None**, meaning round off to zero decimals.\n",
    "\n",
    "Let's call the function."
   ]
  },
  {
   "cell_type": "code",
   "execution_count": null,
   "metadata": {},
   "outputs": [],
   "source": [
    "#round to 2 decimal places\n",
    "round(253.45367,2)"
   ]
  },
  {
   "cell_type": "code",
   "execution_count": null,
   "metadata": {},
   "outputs": [],
   "source": [
    "#round without specifying ndigits value\n",
    "round(253.45367)"
   ]
  },
  {
   "cell_type": "markdown",
   "metadata": {},
   "source": [
    "We successfully found the documentation of a built-in function and followed its guidelines to call the function suitable for our objectives!"
   ]
  },
  {
   "cell_type": "markdown",
   "metadata": {},
   "source": [
    "### User-defined functions\n",
    "\n",
    "User-defined functions are functions that we create to perform specialised tasks based on our unique requirements. When we write these functions, we have to specify the required input, the instructions for what to do with the input, and the anticipated output.\n",
    "\n",
    "We can break down the creation of a function into five components."
   ]
  },
  {
   "attachments": {},
   "cell_type": "markdown",
   "metadata": {},
   "source": [
    "<div align=\"center\" style=\" font-size: 80%; text-align: center; margin: 0 auto\">\n",
    "<img src=\"https://raw.githubusercontent.com/Explore-AI/Pictures/master/function_components.png\"  style=\"width:70%\";/>\n",
    "<br>\n",
    "<br>\n",
    "    <em>Figure 1: Components of a function in Python</em>\n",
    "</div>"
   ]
  },
  {
   "cell_type": "markdown",
   "metadata": {},
   "source": [
    "### Function definition\n",
    "\n",
    "In Python, we use the keyword \"def\" to define a function, followed by round brackets and a colon. The colon is used to indicate the start of a new block of code."
   ]
  },
  {
   "attachments": {},
   "cell_type": "markdown",
   "metadata": {},
   "source": [
    "### Function name\n",
    "\n",
    "We need to give our function a name which we will use to call it later.\n",
    "\n",
    "There are some guidelines on how to name a function, such as the name must begin with a **letter or an underscore**, it must be in **lowercase**, it can have **numbers** and be **any length** (it's best to keep it short), it cannot be the same as any **Python keyword**, and must describe the function's purpose.\n"
   ]
  },
  {
   "attachments": {},
   "cell_type": "markdown",
   "metadata": {},
   "source": [
    "### Function inputs\n",
    "\n",
    "Inputs, also known as parameters, **define the variables required for the function to perform its tasks**. It's worth noting that we don't have to submit an input every time. If the function tasks do not require any inputs, we can leave this field empty.\n",
    "\n",
    "It is essential to differentiate between function `parameters` and `arguments`.\n",
    "\n",
    "`Parameters` are variables listed in the function declaration, serving as placeholders for the values that the function will receive during its execution. They act as local variables within the function, defining its input structure. On the other hand, `arguments` are the actual values passed to a function when it is called. These values are assigned to the corresponding parameters defined in the function, allowing for dynamic and flexible behaviour.\n"
   ]
  },
  {
   "cell_type": "markdown",
   "metadata": {},
   "source": [
    "### Function instructions/tasks\n",
    "\n",
    "This is the block of code within the function that serves as the **set of instructions** that the function must follow. To indicate that the code that follows belongs to the function, we type it **one tab away** from the declaration line.\n"
   ]
  },
  {
   "attachments": {},
   "cell_type": "markdown",
   "metadata": {},
   "source": [
    "### Return statement\n",
    "\n",
    "The return statement defines what the result of the function or the output should be.\n",
    "\n",
    "**Note:** *A return statement is not required for the function to be created successfully. However, because every function in Python must return something, functions that do not have a return statement return None by default.*"
   ]
  },
  {
   "attachments": {},
   "cell_type": "markdown",
   "metadata": {},
   "source": [
    "## Example\n",
    "\n",
    "Let's code an example together.\n",
    "\n",
    "Assume we wanted to write a function named `calc_forest_area` that takes in a length and width as input and calculates the area of a given forest by multiplying those values.\n",
    "\n",
    "### Create the function\n"
   ]
  },
  {
   "cell_type": "code",
   "execution_count": 7,
   "metadata": {},
   "outputs": [],
   "source": [
    "#create the calc_forest_area function \n",
    "def calc_forest_area(length, width): #define the function and the arguments\n",
    "    area = length * width            #function instructions\n",
    "    return area                      #return statement"
   ]
  },
  {
   "attachments": {},
   "cell_type": "markdown",
   "metadata": {},
   "source": [
    "We start by typing `def` to define the function, followed by the **function name**, which we called `calc_forest_area`.\n",
    "\n",
    "Our function has two **arguments**, the forest `length` and `width`.\n",
    "We add these arguments in the brackets and end the declaration with a **colon** after the brackets.\n",
    "\n",
    "Pressing enter in most coding environments will take us to the next line at the correct **level of indentation**. However, if it doesn't, we hit the tab button, which is equivalent to four or eight whitespaces, depending on the Python editor.\n",
    "\n",
    "Inside the function, we define a new **variable** called `area` and set it equal to our input length multiplied by our input width. This is the **instruction** that will calculate our area.\n",
    "\n",
    "Next, we define what we want our function to return using the **return statement**. In our case, we want our function to return the area of the forest calculated by the function.\n",
    "Therefore, we add “return” and the area variable.\n",
    "\n",
    "\n",
    "\n",
    "\n"
   ]
  },
  {
   "cell_type": "markdown",
   "metadata": {},
   "source": [
    "**Now that we've created our function, we can call it and pass it the relevant inputs, just like any other function.**"
   ]
  },
  {
   "cell_type": "markdown",
   "metadata": {},
   "source": [
    "### Call the function"
   ]
  },
  {
   "cell_type": "markdown",
   "metadata": {},
   "source": [
    "Assume we wanted to use our newly created function to determine the area of the `Zambesi forest` which has a length of 300 kilometres and a width of 5000 kilometres."
   ]
  },
  {
   "cell_type": "code",
   "execution_count": null,
   "metadata": {},
   "outputs": [],
   "source": [
    "calc_forest_area(300, 5000)"
   ]
  },
  {
   "cell_type": "markdown",
   "metadata": {},
   "source": [
    "We could also store our output in a variable in order to use it later."
   ]
  },
  {
   "cell_type": "code",
   "execution_count": null,
   "metadata": {},
   "outputs": [],
   "source": [
    "zambesi_forest = calc_forest_area(300, 5000)"
   ]
  },
  {
   "cell_type": "markdown",
   "metadata": {},
   "source": [
    "## Doc strings"
   ]
  },
  {
   "attachments": {},
   "cell_type": "markdown",
   "metadata": {},
   "source": [
    "Remember when we made use of built-in functions and could read the documentation using the help() function? We can employ **documentation strings** to perform something similar for user-defined functions.\n",
    "\n",
    "Documentation strings, abbreviated `docstrings`, are used to **describe the functionality** of a function, including the arguments and expected return, if they exist. Docstrings can also be used in other code constructs, such as classes and methods, to provide additional information to the user.\n",
    "\n",
    "The purpose of any docstring is to explain the function's purpose and functionality so that anyone new viewing or using it understands what the function does.\n",
    "\n",
    "A docstring is most commonly defined under the function definition with triple double quotation marks and is divided into three distinct sections:\n",
    "\n",
    "1. Functionality of the function.\n",
    "2. Breakdown of the input(s), if applicable.\n",
    "3. Breakdown of the output, if applicable.\n",
    "\n",
    "Let's add some docstrings to our `calc_forest_area` function."
   ]
  },
  {
   "cell_type": "code",
   "execution_count": null,
   "metadata": {},
   "outputs": [],
   "source": [
    "#Create the calc_forest_area function with docstrings\n",
    "def calc_forest_area(length, width):\n",
    "    \"\"\"\n",
    "    Calculates the area of a given forest by multiplying its length and width\n",
    "    \n",
    "    Parameters\n",
    "    -------\n",
    "    length: The length of the forest in unit\n",
    "    width: The width of the forest in unit\n",
    "    \n",
    "    Return\n",
    "    -------\n",
    "    An integer that represents the area of the forest in unit squared\n",
    "    \n",
    "    \"\"\"\n",
    "    area = length * width\n",
    "    return area"
   ]
  },
  {
   "attachments": {},
   "cell_type": "markdown",
   "metadata": {},
   "source": [
    "Docstrings are not required for our functions to execute successfully, however, there are some advantages to using them.\n",
    "\n",
    "Docstrings **improve code readability** by allowing anyone viewing it to grasp its intent without having to decipher it, making **collaboration** easier. In our code base, we tend to construct several functions that perform a variety of tasks. Having documentation that explains what the function does and how to use it makes it easier to **keep track of all our functions**. We are also able to access the documentation for all our functions using the __doc__ attribute, as well as the built-in help() function."
   ]
  },
  {
   "cell_type": "code",
   "execution_count": null,
   "metadata": {},
   "outputs": [],
   "source": [
    "#print the docstring for the calc_forest_area function using the __doc__ attribute\n",
    "calc_forest_area.__doc__"
   ]
  },
  {
   "cell_type": "code",
   "execution_count": null,
   "metadata": {},
   "outputs": [],
   "source": [
    "#print the docstring for the calc_forest_area function using the help() function\n",
    "help(calc_forest_area)"
   ]
  },
  {
   "cell_type": "markdown",
   "metadata": {},
   "source": [
    "It's always considered good practice to include docstrings when creating new functions."
   ]
  },
  {
   "cell_type": "markdown",
   "metadata": {},
   "source": [
    "## Scope\n",
    "\n",
    "Now that we understand how to create a function, we need to understand scope, which refers to the parts of our code where an object or variable is available for use.\n",
    "\n",
    "We can distinguish between a **local variable** and a **global variable**."
   ]
  },
  {
   "cell_type": "markdown",
   "metadata": {},
   "source": [
    "### Local variable\n",
    "\n",
    "When we created our function, within it we created a variable called `area`.\n",
    "This variable is known as a **local variable**.\n",
    "A local variable is defined in or by a function and is only available for use inside that function.\n",
    "\n",
    "For instance, if we attempted to access our `area` variable from outside the function, we would receive an error stating that the variable name has not been defined.\n"
   ]
  },
  {
   "cell_type": "code",
   "execution_count": null,
   "metadata": {},
   "outputs": [],
   "source": [
    "#Create the calc_forest_area function\n",
    "def calc_forest_area(length, width):\n",
    "    \"\"\"\n",
    "    Calculates the area of a given forest by multiplying its length and width\n",
    "    \n",
    "    Parameters\n",
    "    -------\n",
    "    length: The length of the forest in unit\n",
    "    width: The width of the forest in unit\n",
    "    \n",
    "    Return\n",
    "    -------\n",
    "    An integer that represents the area of the forest in unit squared\n",
    "    \n",
    "    \"\"\"\n",
    "    area = length * width\n",
    "    return area\n",
    "\n",
    "#Print the area local variable\n",
    "print(area)"
   ]
  },
  {
   "cell_type": "markdown",
   "metadata": {},
   "source": [
    "This is because the variable name is only found within the function and not globally or outside of it."
   ]
  },
  {
   "attachments": {},
   "cell_type": "markdown",
   "metadata": {},
   "source": [
    "However, if we were to print the local variable within the function, it would print without an error when the function is used."
   ]
  },
  {
   "cell_type": "code",
   "execution_count": null,
   "metadata": {},
   "outputs": [],
   "source": [
    "#Create the calc_forest_area function\n",
    "def calc_forest_area(length, width):\n",
    "    \"\"\"\n",
    "    Calculates the area of a given forest by multiplying its length and width\n",
    "    \n",
    "    Parameters\n",
    "    -------\n",
    "    length: The length of the forest in unit\n",
    "    width: The width of the forest in unit\n",
    "    \n",
    "    Return\n",
    "    -------\n",
    "    An integer that represents the area of the forest in unit squared\n",
    "    \n",
    "    \"\"\"\n",
    "    area = length * width\n",
    "    print(area) #print the local variable area when the function is used\n",
    "    return area\n",
    "\n",
    "#Use the function\n",
    "zambesi_forest = calc_forest_area(300, 5000)"
   ]
  },
  {
   "cell_type": "markdown",
   "metadata": {},
   "source": [
    "### Global variable\n",
    "\n",
    "In contrast, a global variable is one that is defined outside of any function's construct and can be accessed anywhere in our code. \n",
    "\n",
    "The `zambesi_forest` variable we created earlier, for example, is a global variable that can be used globally in our code, even inside a function."
   ]
  },
  {
   "cell_type": "code",
   "execution_count": null,
   "metadata": {},
   "outputs": [],
   "source": [
    "#Create the calc_forest_area function\n",
    "def calc_forest_area(length, width):\n",
    "    \"\"\"\n",
    "    Calculates the area of a given forest by multiplying its length and width\n",
    "    \n",
    "    Parameters\n",
    "    -------\n",
    "    length: The length of the forest in unit\n",
    "    width: The width of the forest in unit\n",
    "    \n",
    "    Return\n",
    "    -------\n",
    "    An integer that represents the area of the forest in unit squared\n",
    "    \n",
    "    \"\"\"\n",
    "    area = length * width\n",
    "    return area\n",
    "\n",
    "zambesi_forest = calc_forest_area(300, 5000)\n",
    "\n",
    "#Print the zambesi_forest global variable\n",
    "print(zambesi_forest)"
   ]
  },
  {
   "cell_type": "markdown",
   "metadata": {},
   "source": [
    "<div align=\"center\" style=\" font-size: 80%; text-align: center; margin: 0 auto\">\n",
    "<img src=\"https://raw.githubusercontent.com/Explore-AI/Pictures/master/ExploreAI_logos/EAI_Blue_Dark.png\"  style=\"width:200px\";/>\n",
    "</div>"
   ]
  }
 ],
 "metadata": {
  "kernelspec": {
   "display_name": "Python 3 (ipykernel)",
   "language": "python",
   "name": "python3"
  },
  "language_info": {
   "codemirror_mode": {
    "name": "ipython",
    "version": 3
   },
   "file_extension": ".py",
   "mimetype": "text/x-python",
   "name": "python",
   "nbconvert_exporter": "python",
   "pygments_lexer": "ipython3",
   "version": "3.11.4"
  }
 },
 "nbformat": 4,
 "nbformat_minor": 2
}
