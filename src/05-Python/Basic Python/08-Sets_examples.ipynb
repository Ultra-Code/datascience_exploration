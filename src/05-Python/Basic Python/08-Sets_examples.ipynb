{
 "cells": [
  {
   "cell_type": "markdown",
   "id": "2c9df63a",
   "metadata": {},
   "source": [
    "<div align=\"center\" style=\" font-size: 80%; text-align: center; margin: 0 auto\">\n",
    "<img src=\"https://raw.githubusercontent.com/Explore-AI/Pictures/master/Python-Notebook-Banners/Examples.png\"  style=\"display: block; margin-left: auto; margin-right: auto;\";/>\n",
    "</div>"
   ]
  },
  {
   "cell_type": "markdown",
   "id": "f662d169",
   "metadata": {},
   "source": [
    "# Examples: Sets\n",
    "© ExploreAI Academy"
   ]
  },
  {
   "cell_type": "markdown",
   "id": "26af890c",
   "metadata": {},
   "source": [
    "In this notebook, we will look at how to create sets and some of the ways we can manipulate them."
   ]
  },
  {
   "cell_type": "markdown",
   "id": "2d230d14",
   "metadata": {
    "tags": []
   },
   "source": [
    "## Learning objectives\n",
    "\n",
    "By the end of this train, you should:\n",
    "- Know how to create a set and confirm its type.\n",
    "- Know how to check membership in a set.\n",
    "- Understand some set characteristics such as mutability and duplicates.\n",
    "- Be familiar with certain set operations."
   ]
  },
  {
   "cell_type": "markdown",
   "id": "e6d60bbf",
   "metadata": {},
   "source": [
    "## Examples"
   ]
  },
  {
   "cell_type": "markdown",
   "id": "bb83e75d",
   "metadata": {},
   "source": [
    "### 1. Create a set\n",
    "\n",
    "We create a set by assigning a **group of comma-separated values** enclosed **within curly brackets** to a variable."
   ]
  },
  {
   "cell_type": "code",
   "execution_count": null,
   "id": "30f39494",
   "metadata": {},
   "outputs": [],
   "source": [
    "# Create a set, defined within curly brackets\n",
    "eats_plants = {\"Giraffe\", \"Elephant\", \"Bear\", \"Rabbit\", \"Fox\"}\n",
    "print(eats_plants)"
   ]
  },
  {
   "cell_type": "markdown",
   "id": "e157b7d5",
   "metadata": {},
   "source": [
    "We can also use the `set()` constructor to create a set from other iterables such as lists."
   ]
  },
  {
   "cell_type": "code",
   "execution_count": null,
   "id": "9720fed2",
   "metadata": {},
   "outputs": [],
   "source": [
    "# Create a set from a list using the set constructor\n",
    "eats_meat = set([\"Lion\", \"Tiger\", \"Bear\", \"Hawk\", \"Fox\", \"Lion\"])\n",
    "print(eats_meat)"
   ]
  },
  {
   "cell_type": "markdown",
   "id": "5e516252",
   "metadata": {},
   "source": [
    "**Note:** The set will retain **only unique elements** and any duplicates in the list will be removed."
   ]
  },
  {
   "cell_type": "markdown",
   "id": "c872c671",
   "metadata": {},
   "source": [
    "### 2. Set type\n",
    "\n",
    "If we want to confirm that our variable is of the `set` type, we can pass the variable name to the `type()` function."
   ]
  },
  {
   "cell_type": "code",
   "execution_count": null,
   "id": "29f9fad0",
   "metadata": {},
   "outputs": [],
   "source": [
    "# Check the type of the variable eats_plants\n",
    "type(eats_plants)"
   ]
  },
  {
   "cell_type": "markdown",
   "id": "553015f8",
   "metadata": {},
   "source": [
    "The output `set` confirms that we have created a set. "
   ]
  },
  {
   "cell_type": "markdown",
   "id": "74fa7a08",
   "metadata": {},
   "source": [
    "### 3. Check membership in a set\n",
    "\n",
    "Sets are **unordered**, which means elements are not assigned indexes. Therefore, they **do not support indexing** to access specific elements. \n",
    "\n",
    "However, we can check for the presence of an element in a set using the `in` keyword. If present, `True` is returned."
   ]
  },
  {
   "cell_type": "code",
   "execution_count": null,
   "id": "aec1439f",
   "metadata": {},
   "outputs": [],
   "source": [
    "# Checking if the element \"Lion\" is in the set eats_meat\n",
    "\"Lion\" in eats_meat"
   ]
  },
  {
   "cell_type": "code",
   "execution_count": null,
   "id": "9da39f24",
   "metadata": {},
   "outputs": [],
   "source": [
    "# Checking if the element \"Elephant\" is in set eats_meat\n",
    "\"Elephant\" in eats_meat"
   ]
  },
  {
   "cell_type": "markdown",
   "id": "8f459e1c",
   "metadata": {},
   "source": [
    "### 4. Duplicates \n",
    "\n",
    "Since sets are unordered, they **do not allow duplicates**.\n",
    "\n",
    "Items with the same value are considered to be the same thing and will only be listed once."
   ]
  },
  {
   "cell_type": "code",
   "execution_count": null,
   "id": "27648a32",
   "metadata": {},
   "outputs": [],
   "source": [
    "# Set containing duplicates\n",
    "eats_meat = {\"Lion\", \"Tiger\", \"Bear\", \"Hawk\", \"Fox\", \"Lion\"}\n",
    "print(eats_meat)"
   ]
  },
  {
   "cell_type": "markdown",
   "id": "0c8f5db0",
   "metadata": {},
   "source": [
    "### 5. Modification\n",
    "\n",
    "Sets are also **mutable**. They support various methods for **adding** and **removing** elements."
   ]
  },
  {
   "cell_type": "markdown",
   "id": "a6356123",
   "metadata": {},
   "source": [
    "#### a) Adding elements:\n",
    "\n",
    "- `add()`: This adds a single element to the set.\n",
    "- `update()`: This adds elements from an iterable, such as lists and other sets, to the set."
   ]
  },
  {
   "cell_type": "code",
   "execution_count": null,
   "id": "af21fd73",
   "metadata": {},
   "outputs": [],
   "source": [
    "# Add the element \"Cow\" to the set eats_plants\n",
    "eats_plants.add(\"Cow\")\n",
    "print(eats_plants)"
   ]
  },
  {
   "cell_type": "code",
   "execution_count": null,
   "id": "9f3df4b9",
   "metadata": {},
   "outputs": [],
   "source": [
    "# Add multiple elements from another set\n",
    "eats_meat.update({\"Leopard\", \"Cheetah\"})\n",
    "print(eats_meat)"
   ]
  },
  {
   "cell_type": "markdown",
   "id": "976a9ad8",
   "metadata": {},
   "source": [
    "#### b) Removing elements:\n",
    "\n",
    "- `remove()`: This removes a specified element and it will raise an error if the element is not present.\n",
    "- `discard()`: This removes a specified element but it will not raise an error if the element is not present."
   ]
  },
  {
   "cell_type": "code",
   "execution_count": null,
   "id": "5acca7bf",
   "metadata": {},
   "outputs": [],
   "source": [
    "# Remove the element \"Rabbit\" from set eats_plants\n",
    "eats_plants.remove(\"Rabbit\")\n",
    "print(eats_plants)"
   ]
  },
  {
   "cell_type": "code",
   "execution_count": null,
   "id": "3bcd11df",
   "metadata": {},
   "outputs": [],
   "source": [
    "# Remove the element \"Deer\" from set eats_plants\n",
    "eats_plants.discard(\"Deer\")\n",
    "print(eats_plants)"
   ]
  },
  {
   "cell_type": "markdown",
   "id": "e19eda22",
   "metadata": {},
   "source": [
    "**Note:** We can add and remove elements from a set but we **cannot change the value of an existing element** in the set."
   ]
  },
  {
   "cell_type": "markdown",
   "id": "0d003289",
   "metadata": {},
   "source": [
    "### 6. Set operations\n",
    "\n",
    "The speed and efficiency we get from set operations are due to sets containing unique elements. We can easily combine and compare sets using a few basic operations, discussed below."
   ]
  },
  {
   "cell_type": "markdown",
   "id": "bfc77ddc",
   "metadata": {},
   "source": [
    "#### a) Union – `union()`:\n",
    "\n",
    "This returns a new set containing a combination of all unique elements from both sets."
   ]
  },
  {
   "cell_type": "code",
   "execution_count": null,
   "id": "6f76240a",
   "metadata": {},
   "outputs": [],
   "source": [
    "# Create a new set with all the animals from the eats_meat and eats_plants sets\n",
    "all_animals = eats_meat.union(eats_plants)\n",
    "print(all_animals)"
   ]
  },
  {
   "cell_type": "markdown",
   "id": "85ee2ad9",
   "metadata": {},
   "source": [
    "#### b) Intersection – `intersection()`:\n",
    "\n",
    "This returns a new set containing common elements between two sets."
   ]
  },
  {
   "cell_type": "code",
   "execution_count": null,
   "id": "33945f82",
   "metadata": {},
   "outputs": [],
   "source": [
    "# Create a new set with animals that are common in both eats_meat and eats_plants sets\n",
    "omnivores = eats_meat.intersection(eats_plants)\n",
    "print(omnivores)"
   ]
  },
  {
   "cell_type": "markdown",
   "id": "8efcbadf",
   "metadata": {},
   "source": [
    "#### c) Difference – `difference()`:\n",
    "\n",
    "This returns a new set containing elements that are only present in the first set but not in the second set.\n"
   ]
  },
  {
   "cell_type": "code",
   "execution_count": null,
   "id": "fae37e8d",
   "metadata": {},
   "outputs": [],
   "source": [
    "# Create a new set with animals that are only in the eats_meat set\n",
    "carnivore_only = eats_meat.difference(eats_plants)\n",
    "print(carnivore_only)"
   ]
  },
  {
   "cell_type": "markdown",
   "id": "585000f0",
   "metadata": {},
   "source": [
    "#### d) Subset – `issubset()`:\n",
    "\n",
    "This returns `True` if the set is a subset of another set, otherwise it will return `False`."
   ]
  },
  {
   "cell_type": "code",
   "execution_count": null,
   "id": "54f8ae82",
   "metadata": {},
   "outputs": [],
   "source": [
    "# Check if eats_plants is a subset of all_animals\n",
    "eats_plants_subset = eats_plants.issubset(all_animals)\n",
    "print(eats_plants_subset)"
   ]
  },
  {
   "cell_type": "markdown",
   "id": "e2897b8a",
   "metadata": {},
   "source": [
    "### 7. Other set methods\n",
    "\n",
    "Other built-in methods we can use when working with sets:"
   ]
  },
  {
   "cell_type": "markdown",
   "id": "9e42975e",
   "metadata": {},
   "source": [
    "#### a) len( )\n",
    "\n",
    "We use the `len()` function to determine the number of elements in a set."
   ]
  },
  {
   "cell_type": "code",
   "execution_count": null,
   "id": "b6ea02a9",
   "metadata": {},
   "outputs": [],
   "source": [
    "# Return the number of elements in carnivore_only\n",
    "Length_of_set = len(carnivore_only)\n",
    "print(f\"No. of animals that are exclusively carnivorous: {Length_of_set}\")"
   ]
  },
  {
   "cell_type": "markdown",
   "id": "8f031006",
   "metadata": {},
   "source": [
    "#### b) clear() \n",
    "\n",
    "We use the `clear()` function to remove all elements from a set."
   ]
  },
  {
   "cell_type": "code",
   "execution_count": null,
   "id": "78ee5fd5",
   "metadata": {},
   "outputs": [],
   "source": [
    "# Remove all elements from set all_animals\n",
    "all_animals.clear()\n",
    "print(all_animals)"
   ]
  },
  {
   "cell_type": "markdown",
   "id": "e9956efe",
   "metadata": {
    "tags": []
   },
   "source": [
    "## Summary\n",
    "\n",
    "We have looked at ways of creating sets and manipulating them. Take time to explore other methods and operations that can be performed on sets."
   ]
  },
  {
   "cell_type": "markdown",
   "id": "26fd094b-0fee-46f1-a4b8-73766813c42b",
   "metadata": {
    "tags": []
   },
   "source": [
    "#  \n",
    "\n",
    "<div align=\"center\" style=\" font-size: 80%; text-align: center; margin: 0 auto\">\n",
    "<img src=\"https://raw.githubusercontent.com/Explore-AI/Pictures/master/ExploreAI_logos/EAI_Blue_Dark.png\"  style=\"width:200px\";/>\n",
    "</div>"
   ]
  }
 ],
 "metadata": {
  "kernelspec": {
   "display_name": "Python 3 (ipykernel)",
   "language": "python",
   "name": "python3"
  },
  "language_info": {
   "codemirror_mode": {
    "name": "ipython",
    "version": 3
   },
   "file_extension": ".py",
   "mimetype": "text/x-python",
   "name": "python",
   "nbconvert_exporter": "python",
   "pygments_lexer": "ipython3",
   "version": "3.11.4"
  }
 },
 "nbformat": 4,
 "nbformat_minor": 5
}
