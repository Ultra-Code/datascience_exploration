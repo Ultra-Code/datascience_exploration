{
 "cells": [
  {
   "attachments": {},
   "cell_type": "markdown",
   "metadata": {},
   "source": [
    "# Data anomalies – 3NF [Exercise]\n",
    "© ExploreAI Academy\n",
    "\n",
    "Database normalisation is a design technique for decoupling table structures to **reduce** data redundancies and anomalies. \n",
    "\n",
    "In this train, we will go through a practical example of normalising a database up to the **Third Normal Form**. We will look at some of the data anomalies that can occur in practice and, at the end of the train, reflect on how **3NF** attempts to mitigate them.  \n",
    "\n",
    "## Learning objectives\n",
    "In this train, you will learn how to:\n",
    "* Normalise a database up to the Third Normal Form.\n",
    "* Learn how to further decompose a 2NF database into more tables to help eliminate transitive dependencies.\n",
    "* Understand data anomalies and how database normalisation reduces the likelihood of their occurrence."
   ]
  },
  {
   "attachments": {},
   "cell_type": "markdown",
   "metadata": {},
   "source": [
    "## Imports and DB connections\n",
    "\n",
    "> ⚠️ ⚠️ This exercise extends the concepts introduced in the previous one, Data anomalies – 2NF. Therefore, it's important to ensure that you continue using the modified SoftDevEmployees.db database after successfully completing the previous exercise.\n",
    "\n",
    "> ⚠️ Since the queries here will modify the database, you will have to get a fresh copy of the modified database to redo the code cells.\n"
   ]
  },
  {
   "cell_type": "code",
   "execution_count": 2,
   "metadata": {},
   "outputs": [],
   "source": [
    "# Load and activate the SQL extension to allow us to execute SQL in a Jupyter notebook.\n",
    "%load_ext sql"
   ]
  },
  {
   "cell_type": "code",
   "execution_count": 3,
   "metadata": {},
   "outputs": [],
   "source": [
    "## Load the SoftDevEmployees database stored in your local machine. \n",
    "# Make sure the file is saved in the same folder as this notebook.\n",
    "%sql sqlite:///../db/SoftDevEmployees.db"
   ]
  },
  {
   "cell_type": "markdown",
   "metadata": {},
   "source": [
    "## Data anomalies\n",
    "\n",
    "Data anomalies are issues that present themselves in poorly structured or denormalised databases. The following are examples of commonly occurring anomalies which you may find: \n",
    "\n",
    " - **Deletion anomaly**: The deletion of a record that leads to the unintentional removal of another required attribute from the database. \n",
    " - **Insertion anomaly**: The inability to insert a record as it requires additional data which may presently not be available.\n",
    " - **Update anomaly**: This occurs when we have duplicated data; if we were to update the affected rows and a single row gets missed, this will lead to a data inconsistency."
   ]
  },
  {
   "cell_type": "markdown",
   "metadata": {},
   "source": [
    "## Second Normal Form database\n",
    "\n",
    "Below is the ERD for the **SoftDevEmployees.db** database which contains several tables. Currently, our database is in the **Second Normal Form (2NF)**. Our goal within this train is to transform this database to conform to the **Third Normal Form**.\n",
    "\n",
    "\n",
    "<img src=\"https://raw.githubusercontent.com/Explore-AI/Pictures/master/SQL4DS/Practical_Normalization/2NF.png\" alt=\"Second Normal Form\">"
   ]
  },
  {
   "attachments": {},
   "cell_type": "markdown",
   "metadata": {},
   "source": [
    "## The Third Normal Form – 3NF\n",
    "\n",
    "For the database to be in the Third Normal Form, we require the following conditions to be met:\n",
    "\n",
    "1. The database needs to be in the Second Normal Form.\n",
    "2. There should be no **transitive** dependencies on the **primary key**.\n",
    "\n",
    "\"**No transitive dependencies**\" simply means that **no non-key attribute should be dependent on another non-key attribute**.\n",
    "\n",
    "Generally speaking, one's salary is related to their occupation band, i.e. we do not expect a graduate to be earning a similar salary to their senior counterparts. So, in this case, we find ourselves with a transitive relation between **`EmployeeID`**, **`Salary`**, and **`OccupationBand`**. \n",
    "\n",
    "The **occupation band** is dependent on the **salary** and the **salary** is dependent on the **employee's id**. So we can say that the **`OccupationBand`** is **transitively dependent** on the primary key (**`EmployeeID`** ) through the **`Salary`** column."
   ]
  },
  {
   "cell_type": "markdown",
   "metadata": {},
   "source": [
    "## Converting to the Third Normal Form\n",
    "\n",
    "To solve this, we need to break up our **Employees** table into two new tables for **Salaries** and **Occupation Bands** as follows:\n",
    "\n",
    "<img src=\"https://raw.githubusercontent.com/Explore-AI/Pictures/master/SQL4DS/Practical_Normalization/3NF.png\" alt = \"Third Normal Form\"/>"
   ]
  },
  {
   "attachments": {},
   "cell_type": "markdown",
   "metadata": {},
   "source": [
    "### Exercise 1\n",
    "\n",
    "We need to create the required 3NF tables based on the above structure. \n",
    "\n",
    "Most of the tables required for the Third Normal Form are already available from our Second Normal Form.\n",
    "\n",
    "Create a 3NF version of these tables by simply making a copy of the 2NF tables and **selecting all the data** from the applicable tables."
   ]
  },
  {
   "cell_type": "code",
   "execution_count": null,
   "metadata": {},
   "outputs": [],
   "source": [
    "# Add your code here"
   ]
  },
  {
   "attachments": {},
   "cell_type": "markdown",
   "metadata": {},
   "source": [
    "### Exercise 2\n",
    "\n",
    "Create the two new tables: **`Salaries_3NF`** and **`OccupationBands_3NF`** following the structure specified by the ERD above. Keep in mind the **primary** and **foreign keys**."
   ]
  },
  {
   "cell_type": "code",
   "execution_count": null,
   "metadata": {},
   "outputs": [],
   "source": [
    "# Add your code here"
   ]
  },
  {
   "cell_type": "markdown",
   "metadata": {},
   "source": [
    "### Exercise 3\n",
    "\n",
    "Populate the two newly created tables: **`Salaries_3NF`** and **`OccupationBands_3NF`** by copying the relevant data from **`Employees_2NF`** and other joined tables where applicable.\n",
    "\n",
    "**Note:** Use joins appropriately depending on the foreign key references made when creating the tables to maintain referential integrity."
   ]
  },
  {
   "cell_type": "code",
   "execution_count": null,
   "metadata": {},
   "outputs": [],
   "source": [
    "# Add your code here"
   ]
  },
  {
   "cell_type": "markdown",
   "metadata": {},
   "source": [
    "### Exercise 4\n",
    "\n",
    "By creating separate tables for **Salaries** and **Occupation Bands**, the structure of the **Employees** table was also modified.\n",
    "\n",
    "Create the 3NF version of the **Employees** table as per the ERD above. Keep in mind the primary and the foreign keys."
   ]
  },
  {
   "cell_type": "code",
   "execution_count": null,
   "metadata": {},
   "outputs": [],
   "source": [
    "# Add your code here"
   ]
  },
  {
   "attachments": {},
   "cell_type": "markdown",
   "metadata": {},
   "source": [
    "### Exercise 5\n",
    "\n",
    "Populate the new **Employees** table by copying the relevant data from **`Employees_2NF`** and other joined tables where applicable.\n",
    "\n",
    "**Note:** Again, use joins appropriately depending on the foreign key references made when creating the tables to maintain referential integrity."
   ]
  },
  {
   "cell_type": "code",
   "execution_count": null,
   "metadata": {},
   "outputs": [],
   "source": [
    "# Add your code here"
   ]
  },
  {
   "cell_type": "markdown",
   "metadata": {},
   "source": [
    "### Checkpoint: Data anomalies\n",
    "\n",
    "Which data anomalies that were present in our database do you think have been addressed at this point of the normalisation process?"
   ]
  },
  {
   "cell_type": "markdown",
   "metadata": {},
   "source": [
    "## Solutions"
   ]
  },
  {
   "cell_type": "markdown",
   "metadata": {},
   "source": [
    "### Exercise 1"
   ]
  },
  {
   "cell_type": "code",
   "execution_count": null,
   "metadata": {},
   "outputs": [],
   "source": [
    "%%sql\n",
    "\n",
    "DROP TABLE IF EXISTS Departments_3NF;\n",
    "DROP TABLE IF EXISTS Employee_Department_3NF;\n",
    "DROP TABLE IF EXISTS Employee_Role_3NF;\n",
    "DROP TABLE IF EXISTS Roles_3NF;\n",
    "DROP TABLE IF EXISTS Titles_3NF;\n",
    "\n",
    "CREATE TABLE Departments_3NF AS\n",
    "SELECT * FROM Departments_2NF;\n",
    "\n",
    "CREATE TABLE Employee_Department_3NF AS\n",
    "SELECT * FROM Employee_Department_2NF;\n",
    "\n",
    "CREATE TABLE Employee_Role_3NF AS\n",
    "SELECT * FROM Employee_Role_2NF;\n",
    "\n",
    "CREATE TABLE Roles_3NF AS\n",
    "SELECT * FROM Roles_2NF;\n",
    "\n",
    "CREATE TABLE Titles_3NF AS\n",
    "SELECT * FROM Titles_2NF;"
   ]
  },
  {
   "cell_type": "markdown",
   "metadata": {},
   "source": [
    "### Exercise 2"
   ]
  },
  {
   "cell_type": "code",
   "execution_count": null,
   "metadata": {},
   "outputs": [],
   "source": [
    "%%sql\n",
    "\n",
    "DROP TABLE IF EXISTS Salaries_3NF;\n",
    "DROP TABLE IF EXISTS OccupationBands_3NF;\n",
    "\n",
    "CREATE TABLE Salaries_3NF(\n",
    "    SalaryID INTEGER NOT NULL,\n",
    "    Salary REAL,\n",
    "    BandID INTEGER,\n",
    "    FOREIGN KEY(BandID) REFERENCES OccupationBands (BandID),\n",
    "    PRIMARY KEY(SalaryID AUTOINCREMENT)\n",
    ");\n",
    "\n",
    "CREATE TABLE OccupationBands_3NF (\n",
    "    BandID INTEGER NOT NULL,\n",
    "    OccupationBand VARCHAR,\n",
    "    PRIMARY KEY(BandID AUTOINCREMENT)\n",
    ");"
   ]
  },
  {
   "cell_type": "markdown",
   "metadata": {},
   "source": [
    "### Exercise 3"
   ]
  },
  {
   "cell_type": "code",
   "execution_count": null,
   "metadata": {},
   "outputs": [],
   "source": [
    "%%sql\n",
    "\n",
    "DELETE FROM OccupationBands_3NF;\n",
    "DELETE FROM Salaries_3NF;\n",
    "\n",
    "INSERT INTO OccupationBands_3NF (OccupationBand)\n",
    "SELECT DISTINCT \n",
    "    OccupationBand\n",
    "FROM Employees_2NF;\n",
    "\n",
    "INSERT INTO Salaries_3NF (Salary,BandID)\n",
    "SELECT \n",
    "    Salary,\n",
    "    OB.BandID\n",
    "FROM Employees_2NF AS EMP\n",
    "JOIN OccupationBands_3NF AS OB ON OB.OccupationBand = EMP.OccupationBand;"
   ]
  },
  {
   "cell_type": "markdown",
   "metadata": {},
   "source": [
    "### Exercise 4"
   ]
  },
  {
   "cell_type": "code",
   "execution_count": null,
   "metadata": {},
   "outputs": [],
   "source": [
    "%%sql\n",
    "DROP TABLE IF EXISTS Employees_3NF;\n",
    "\n",
    "CREATE TABLE Employees_3NF (\n",
    "    EmployeeID INTEGER NOT NULL,\n",
    "    Name VARCHAR,\n",
    "    Surname VARCHAR,\n",
    "    TitleID INTEGER,\n",
    "    SalaryID INTEGER,\n",
    "    FOREIGN KEY(TitleID) REFERENCES Titles_3NF (TitleID)\n",
    "    FOREIGN KEY(SalaryID) REFERENCES Salaries_3NF (SalaryID)\n",
    "    PRIMARY KEY(EmployeeID AUTOINCREMENT)\n",
    ");"
   ]
  },
  {
   "cell_type": "markdown",
   "metadata": {},
   "source": [
    "### Exercise 5"
   ]
  },
  {
   "cell_type": "code",
   "execution_count": null,
   "metadata": {},
   "outputs": [],
   "source": [
    "%%sql\n",
    "\n",
    "DELETE FROM Employees_3NF;\n",
    "\n",
    "INSERT INTO Employees_3NF (Name,Surname,TitleID,SalaryID)\n",
    "SELECT \n",
    "    Name,\n",
    "    Surname,\n",
    "    TitleID,\n",
    "    SalaryID\n",
    "FROM Employees_2NF AS EMP\n",
    "JOIN Salaries_3NF AS S ON EMP.Salary = S.Salary;"
   ]
  },
  {
   "attachments": {},
   "cell_type": "markdown",
   "metadata": {},
   "source": [
    "With our data now in the **Third Normal Form**, we are encouraged  to explore the data schema and to look at the contents of the various tables in order to solidify our understanding of the transformations which have taken place. "
   ]
  },
  {
   "attachments": {},
   "cell_type": "markdown",
   "metadata": {},
   "source": [
    "## Conclusion\n",
    "\n",
    "We have now completed the normalisation process up to the **Third Normal Form (3NF)** where we ensured that all our attributes are solely dependent on the primary key. This way, we were able to address some of the remaining anomalies that had not been removed during the 2NF process:\n",
    "\n",
    "- **Deletion anomaly**: We have eliminated the deletion anomalies that could occur on the **`OccupationBand`**. If all Graduates were promoted to Juniors, the \"*Graduate*\" occupation band would still exist in the table – ready to be used when new graduates are hired.\n",
    "\n",
    "- All the **update** and **insertion** anomalies were catered for in the $2^{nd}$ normal form.\n",
    "\n",
    "However, it is important to note that it is sometimes not possible to eliminate **all redundancies and data anomalies** – we can **only minimise** them."
   ]
  }
 ],
 "metadata": {
  "kernelspec": {
   "display_name": "Python 3 (ipykernel)",
   "language": "python",
   "name": "python3"
  },
  "language_info": {
   "codemirror_mode": {
    "name": "ipython",
    "version": 3
   },
   "file_extension": ".py",
   "mimetype": "text/x-python",
   "name": "python",
   "nbconvert_exporter": "python",
   "pygments_lexer": "ipython3",
   "version": "3.11.5"
  }
 },
 "nbformat": 4,
 "nbformat_minor": 4
}
