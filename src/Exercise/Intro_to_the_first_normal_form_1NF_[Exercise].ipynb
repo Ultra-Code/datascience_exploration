{
 "cells": [
  {
   "cell_type": "markdown",
   "id": "bf17eebd",
   "metadata": {},
   "source": [
    "<div align=\"right\" style=\" font-size: 80%; text-align: center; margin: 0 auto\">\n",
    "<img src=\"https://raw.githubusercontent.com/Explore-AI/Pictures/master/ExploreAI_logos/Logo blue_dark.png\"  style=\"width:25px\" align=\"right\";/>\n",
    "</div>"
   ]
  },
  {
   "cell_type": "markdown",
   "id": "f662d169",
   "metadata": {},
   "source": [
    "# Intro to the First Normal Form – 1NF\n",
    "© ExploreAI Academy"
   ]
  },
  {
   "cell_type": "markdown",
   "id": "26af890c",
   "metadata": {},
   "source": [
    "In this train, we get an overview of database normalisation techniques and learn how to apply the First Normal Form – 1NF to a dataset. We will cover the steps to identify and address data inconsistencies, add a unique identifier column, create a new normalised table, and transfer data from the original table to the normalised one using SQL queries.\n",
    "\n"
   ]
  },
  {
   "attachments": {},
   "cell_type": "markdown",
   "id": "3259ef42",
   "metadata": {},
   "source": [
    "> ⚠️ Make sure that you download the `dam_levels.db` file before continuing with the train.\n",
    " \n",
    "> ⚠️ Since the queries here will modify the database, you will have to get a fresh copy of the database in order to redo the code cells."
   ]
  },
  {
   "cell_type": "markdown",
   "id": "2d230d14",
   "metadata": {
    "tags": []
   },
   "source": [
    "## Learning objectives\n",
    "\n",
    "By the end of this train, you should:\n",
    "- Understand the concept of database normalisation and its significance in data management.\n",
    "- Learn the criteria for a table to be in the First Normal Form (1NF), including atomicity, primary keys, and uniqueness.\n",
    "- Apply the concepts learned to normalise a table, copy data into it, and remove the old table to achieve the desired database structure."
   ]
  },
  {
   "attachments": {},
   "cell_type": "markdown",
   "id": "2bf2a4c1",
   "metadata": {},
   "source": [
    "## 1. Overview\n",
    "Normalisation is a database technique for evaluating and reorganising table structures to minimise redundancies, improve data integrity, improve storage efficiency, and reduce the need to redesign the database if new data are introduced. Database normalisation removes inconsistencies which may cause the analysis of our data to be more complicated. These inconsistencies could come from updating, inserting, or deleting records. It also includes the removal of duplicate records which saves on storage and is a step toward fulfilling the requirement of records having unique identifiers, called keys.\n",
    "\n",
    "Normalisation is segmented into ordered categories: 1NF, 2NF, 3NF, and so on, up to higher levels of normalisation.\n",
    "2NF is preferred to 1NF, 3NF to 2NF, etc.\n",
    "\n",
    "<div align=\"center\" style=\" font-size: 80%; text-align: center; margin: 0 auto\">\n",
    "<img src=\"https://raw.githubusercontent.com/Explore-AI/Pictures/master/Normalisation%20-%20Normal%20forms.png\"  style=\"width:80%\";/>\n",
    "<br>\n",
    "<br>\n",
    "    <em>Figure 1: Normal forms</em>\n",
    "</div>"
   ]
  },
  {
   "cell_type": "markdown",
   "id": "fb86ef13",
   "metadata": {},
   "source": [
    "A table is in 1NF if:\n",
    "- Each cell in the table must not hold more than one value, which is referred to as atomicity.\n",
    "- The table has a primary key for identification.\n",
    "- The table has no duplicated rows or columns.\n",
    "\n",
    "To convert an unnormalised table to 1NF, do either of the following:\n",
    "\n",
    "- Flatten the table and change the primary key.\n",
    "- Decompose the table into smaller tables – one for the repeating groups and one for the non-repeating groups."
   ]
  },
  {
   "cell_type": "markdown",
   "id": "37115144",
   "metadata": {},
   "source": [
    "<div>\n",
    "Let's look at normalising the dams database – a <a #href=\"https://en.wikipedia.org/wiki/Flat-file_database\">flat-file database</a> containing information about Cape Town dam water levels leading up to the 2018 Cape Town water crisis.\n",
    "</div>"
   ]
  },
  {
   "cell_type": "markdown",
   "id": "5a0b7683",
   "metadata": {
    "tags": []
   },
   "source": [
    "## Connecting to the database"
   ]
  },
  {
   "cell_type": "code",
   "execution_count": 1,
   "id": "0f34ea72",
   "metadata": {},
   "outputs": [],
   "source": [
    "# Load and activate the SQL extension to allow us to execute SQL in a Jupyter notebook. \n",
    "# If you get an error here, make sure that mysql and pymysql are installed correctly. \n",
    "\n",
    "%load_ext sql"
   ]
  },
  {
   "cell_type": "code",
   "execution_count": 2,
   "id": "d279a04d",
   "metadata": {},
   "outputs": [],
   "source": [
    "# Load SQLite database\n",
    "%sql sqlite:///../db/dam_levels.db"
   ]
  },
  {
   "cell_type": "markdown",
   "id": "1225c304",
   "metadata": {},
   "source": [
    "Before we proceed, let's first take a closer look at the `dam_levels` table:"
   ]
  },
  {
   "cell_type": "code",
   "execution_count": 4,
   "id": "b8edbc6a",
   "metadata": {},
   "outputs": [
    {
     "name": "stdout",
     "output_type": "stream",
     "text": [
      " * sqlite:///../db/dam_levels.db\n",
      "Done.\n"
     ]
    },
    {
     "data": {
      "text/html": [
       "<table>\n",
       "    <thead>\n",
       "        <tr>\n",
       "            <th>year</th>\n",
       "            <th>dam_name</th>\n",
       "            <th>Assessment_Officer</th>\n",
       "            <th>Officer_Reg</th>\n",
       "            <th>water_level</th>\n",
       "            <th>dam_latitude</th>\n",
       "            <th>dam_longitude</th>\n",
       "        </tr>\n",
       "    </thead>\n",
       "    <tbody>\n",
       "        <tr>\n",
       "            <td>2012</td>\n",
       "            <td>WEMMERSHOEK</td>\n",
       "            <td>P. M. Naidoo</td>\n",
       "            <td>201013</td>\n",
       "            <td>48.2</td>\n",
       "            <td>-33.826246</td>\n",
       "            <td>19.091828</td>\n",
       "        </tr>\n",
       "        <tr>\n",
       "            <td>2012</td>\n",
       "            <td>STEENBRAS LOWER;STEENBRAS UPPER</td>\n",
       "            <td>V. Mokere</td>\n",
       "            <td>201124</td>\n",
       "            <td>20.3;24.2</td>\n",
       "            <td>-34.180527;-34.166702</td>\n",
       "            <td>18.866688;18.90976</td>\n",
       "        </tr>\n",
       "        <tr>\n",
       "            <td>2012</td>\n",
       "            <td>VOËLVLEI</td>\n",
       "            <td>A. T. Sijovu</td>\n",
       "            <td>202256</td>\n",
       "            <td>15</td>\n",
       "            <td>-33.34178</td>\n",
       "            <td>19.04105</td>\n",
       "        </tr>\n",
       "        <tr>\n",
       "            <td>2012</td>\n",
       "            <td>HELY-HUTCHINSON</td>\n",
       "            <td>P. M. Naidoo</td>\n",
       "            <td>201013</td>\n",
       "            <td>14.2</td>\n",
       "            <td>-33.976929</td>\n",
       "            <td>18.409568</td>\n",
       "        </tr>\n",
       "        <tr>\n",
       "            <td>2012</td>\n",
       "            <td>WOODHEAD</td>\n",
       "            <td>A. T. Sijovu</td>\n",
       "            <td>202256</td>\n",
       "            <td>35.3</td>\n",
       "            <td>-33.977341</td>\n",
       "            <td>18.404046</td>\n",
       "        </tr>\n",
       "        <tr>\n",
       "            <td>2013</td>\n",
       "            <td>WEMMERSHOEK</td>\n",
       "            <td>P. M. Naidoo</td>\n",
       "            <td>201013</td>\n",
       "            <td>53.3</td>\n",
       "            <td>-33.826246</td>\n",
       "            <td>19.091828</td>\n",
       "        </tr>\n",
       "        <tr>\n",
       "            <td>2013</td>\n",
       "            <td>STEENBRAS LOWER;STEENBRAS UPPER</td>\n",
       "            <td>V. Mokere</td>\n",
       "            <td>201124</td>\n",
       "            <td>22.4;24.6</td>\n",
       "            <td>-34.180527;-34.166702</td>\n",
       "            <td>18.866688;18.90976</td>\n",
       "        </tr>\n",
       "        <tr>\n",
       "            <td>2013</td>\n",
       "            <td>VOËLVLEI</td>\n",
       "            <td>A. T. Sijovu</td>\n",
       "            <td>202256</td>\n",
       "            <td>16.6</td>\n",
       "            <td>-33.34178</td>\n",
       "            <td>19.04105</td>\n",
       "        </tr>\n",
       "        <tr>\n",
       "            <td>2013</td>\n",
       "            <td>HELY-HUTCHINSON</td>\n",
       "            <td>P. M. Naidoo</td>\n",
       "            <td>201013</td>\n",
       "            <td>15.2</td>\n",
       "            <td>-33.976929</td>\n",
       "            <td>18.409568</td>\n",
       "        </tr>\n",
       "        <tr>\n",
       "            <td>2013</td>\n",
       "            <td>WOODHEAD</td>\n",
       "            <td>A. T. Sijovu</td>\n",
       "            <td>202256</td>\n",
       "            <td>35.9</td>\n",
       "            <td>-33.977341</td>\n",
       "            <td>18.404046</td>\n",
       "        </tr>\n",
       "    </tbody>\n",
       "</table>"
      ],
      "text/plain": [
       "[('2012', 'WEMMERSHOEK', 'P. M. Naidoo', '201013', '48.2', '-33.826246', '19.091828'),\n",
       " ('2012', 'STEENBRAS LOWER;STEENBRAS UPPER', 'V. Mokere', '201124', '20.3;24.2', '-34.180527;-34.166702', '18.866688;18.90976'),\n",
       " ('2012', 'VOËLVLEI', 'A. T. Sijovu', '202256', '15', '-33.34178', '19.04105'),\n",
       " ('2012', 'HELY-HUTCHINSON', 'P. M. Naidoo', '201013', '14.2', '-33.976929', '18.409568'),\n",
       " ('2012', 'WOODHEAD', 'A. T. Sijovu', '202256', '35.3', '-33.977341', '18.404046'),\n",
       " ('2013', 'WEMMERSHOEK', 'P. M. Naidoo', '201013', '53.3', '-33.826246', '19.091828'),\n",
       " ('2013', 'STEENBRAS LOWER;STEENBRAS UPPER', 'V. Mokere', '201124', '22.4;24.6', '-34.180527;-34.166702', '18.866688;18.90976'),\n",
       " ('2013', 'VOËLVLEI', 'A. T. Sijovu', '202256', '16.6', '-33.34178', '19.04105'),\n",
       " ('2013', 'HELY-HUTCHINSON', 'P. M. Naidoo', '201013', '15.2', '-33.976929', '18.409568'),\n",
       " ('2013', 'WOODHEAD', 'A. T. Sijovu', '202256', '35.9', '-33.977341', '18.404046')]"
      ]
     },
     "execution_count": 4,
     "metadata": {},
     "output_type": "execute_result"
    }
   ],
   "source": [
    "%%sql\n",
    "\n",
    "SELECT *\n",
    "FROM dam_levels LIMIT 10"
   ]
  },
  {
   "cell_type": "markdown",
   "id": "920e89d2",
   "metadata": {
    "tags": []
   },
   "source": [
    "## Exercise\n"
   ]
  },
  {
   "cell_type": "markdown",
   "id": "86802726",
   "metadata": {},
   "source": [
    "### Exercise 1\n",
    "\n",
    "It seems that data for two dams have been lumped together in some rows. Write a query to delete these rows."
   ]
  },
  {
   "cell_type": "code",
   "execution_count": 24,
   "id": "91f3421f",
   "metadata": {},
   "outputs": [
    {
     "name": "stdout",
     "output_type": "stream",
     "text": [
      " * sqlite:///../db/dam_levels.db\n",
      "Done.\n",
      "Done.\n",
      "3 rows affected.\n",
      "Done.\n"
     ]
    },
    {
     "data": {
      "text/html": [
       "<table>\n",
       "    <thead>\n",
       "        <tr>\n",
       "            <th>year</th>\n",
       "            <th>dam_name</th>\n",
       "            <th>Assessment_Officer</th>\n",
       "            <th>Officer_Reg</th>\n",
       "            <th>water_level</th>\n",
       "            <th>dam_latitude</th>\n",
       "            <th>dam_longitude</th>\n",
       "        </tr>\n",
       "    </thead>\n",
       "    <tbody>\n",
       "        <tr>\n",
       "            <td>2012</td>\n",
       "            <td>WEMMERSHOEK</td>\n",
       "            <td>P. M. Naidoo</td>\n",
       "            <td>201013</td>\n",
       "            <td>48.2</td>\n",
       "            <td>-33.826246</td>\n",
       "            <td>19.091828</td>\n",
       "        </tr>\n",
       "        <tr>\n",
       "            <td>2012</td>\n",
       "            <td>VOËLVLEI</td>\n",
       "            <td>A. T. Sijovu</td>\n",
       "            <td>202256</td>\n",
       "            <td>15</td>\n",
       "            <td>-33.34178</td>\n",
       "            <td>19.04105</td>\n",
       "        </tr>\n",
       "        <tr>\n",
       "            <td>2012</td>\n",
       "            <td>HELY-HUTCHINSON</td>\n",
       "            <td>P. M. Naidoo</td>\n",
       "            <td>201013</td>\n",
       "            <td>14.2</td>\n",
       "            <td>-33.976929</td>\n",
       "            <td>18.409568</td>\n",
       "        </tr>\n",
       "        <tr>\n",
       "            <td>2012</td>\n",
       "            <td>WOODHEAD</td>\n",
       "            <td>A. T. Sijovu</td>\n",
       "            <td>202256</td>\n",
       "            <td>35.3</td>\n",
       "            <td>-33.977341</td>\n",
       "            <td>18.404046</td>\n",
       "        </tr>\n",
       "        <tr>\n",
       "            <td>2013</td>\n",
       "            <td>WEMMERSHOEK</td>\n",
       "            <td>P. M. Naidoo</td>\n",
       "            <td>201013</td>\n",
       "            <td>53.3</td>\n",
       "            <td>-33.826246</td>\n",
       "            <td>19.091828</td>\n",
       "        </tr>\n",
       "        <tr>\n",
       "            <td>2013</td>\n",
       "            <td>VOËLVLEI</td>\n",
       "            <td>A. T. Sijovu</td>\n",
       "            <td>202256</td>\n",
       "            <td>16.6</td>\n",
       "            <td>-33.34178</td>\n",
       "            <td>19.04105</td>\n",
       "        </tr>\n",
       "        <tr>\n",
       "            <td>2013</td>\n",
       "            <td>HELY-HUTCHINSON</td>\n",
       "            <td>P. M. Naidoo</td>\n",
       "            <td>201013</td>\n",
       "            <td>15.2</td>\n",
       "            <td>-33.976929</td>\n",
       "            <td>18.409568</td>\n",
       "        </tr>\n",
       "        <tr>\n",
       "            <td>2013</td>\n",
       "            <td>WOODHEAD</td>\n",
       "            <td>A. T. Sijovu</td>\n",
       "            <td>202256</td>\n",
       "            <td>35.9</td>\n",
       "            <td>-33.977341</td>\n",
       "            <td>18.404046</td>\n",
       "        </tr>\n",
       "        <tr>\n",
       "            <td>2015</td>\n",
       "            <td>WEMMERSHOEK</td>\n",
       "            <td>P. M. Naidoo</td>\n",
       "            <td>201013</td>\n",
       "            <td>47.5</td>\n",
       "            <td>-33.826246</td>\n",
       "            <td>19.091828</td>\n",
       "        </tr>\n",
       "        <tr>\n",
       "            <td>2015</td>\n",
       "            <td>VOËLVLEI</td>\n",
       "            <td>A. T. Sijovu</td>\n",
       "            <td>202256</td>\n",
       "            <td>11.9</td>\n",
       "            <td>-33.34178</td>\n",
       "            <td>19.04105</td>\n",
       "        </tr>\n",
       "        <tr>\n",
       "            <td>2015</td>\n",
       "            <td>HELY-HUTCHINSON</td>\n",
       "            <td>P. M. Naidoo</td>\n",
       "            <td>201013</td>\n",
       "            <td>15.3</td>\n",
       "            <td>-33.976929</td>\n",
       "            <td>18.409568</td>\n",
       "        </tr>\n",
       "        <tr>\n",
       "            <td>2015</td>\n",
       "            <td>WOODHEAD</td>\n",
       "            <td>A. T. Sijovu</td>\n",
       "            <td>202256</td>\n",
       "            <td>36.1</td>\n",
       "            <td>-33.977341</td>\n",
       "            <td>18.404046</td>\n",
       "        </tr>\n",
       "    </tbody>\n",
       "</table>"
      ],
      "text/plain": [
       "[('2012', 'WEMMERSHOEK', 'P. M. Naidoo', '201013', '48.2', '-33.826246', '19.091828'),\n",
       " ('2012', 'VOËLVLEI', 'A. T. Sijovu', '202256', '15', '-33.34178', '19.04105'),\n",
       " ('2012', 'HELY-HUTCHINSON', 'P. M. Naidoo', '201013', '14.2', '-33.976929', '18.409568'),\n",
       " ('2012', 'WOODHEAD', 'A. T. Sijovu', '202256', '35.3', '-33.977341', '18.404046'),\n",
       " ('2013', 'WEMMERSHOEK', 'P. M. Naidoo', '201013', '53.3', '-33.826246', '19.091828'),\n",
       " ('2013', 'VOËLVLEI', 'A. T. Sijovu', '202256', '16.6', '-33.34178', '19.04105'),\n",
       " ('2013', 'HELY-HUTCHINSON', 'P. M. Naidoo', '201013', '15.2', '-33.976929', '18.409568'),\n",
       " ('2013', 'WOODHEAD', 'A. T. Sijovu', '202256', '35.9', '-33.977341', '18.404046'),\n",
       " ('2015', 'WEMMERSHOEK', 'P. M. Naidoo', '201013', '47.5', '-33.826246', '19.091828'),\n",
       " ('2015', 'VOËLVLEI', 'A. T. Sijovu', '202256', '11.9', '-33.34178', '19.04105'),\n",
       " ('2015', 'HELY-HUTCHINSON', 'P. M. Naidoo', '201013', '15.3', '-33.976929', '18.409568'),\n",
       " ('2015', 'WOODHEAD', 'A. T. Sijovu', '202256', '36.1', '-33.977341', '18.404046')]"
      ]
     },
     "execution_count": 24,
     "metadata": {},
     "output_type": "execute_result"
    }
   ],
   "source": [
    "%%sql\n",
    "CREATE TEMPORARY TABLE IF NOT EXISTS temp_dam_levels AS\n",
    "SELECT * FROM dam_levels;\n",
    "\n",
    "CREATE TEMPORARY TABLE IF NOT EXISTS temp_levels_to_delete AS\n",
    "SELECT * From dam_levels WHERE Assessment_officer = \"V. Mokere\";\n",
    "\n",
    "DELETE FROM temp_dam_levels \n",
    "WHERE Assessment_officer = \"V. Mokere\";\n",
    "\n",
    "SELECT * FROM temp_dam_levels;"
   ]
  },
  {
   "cell_type": "code",
   "execution_count": 25,
   "id": "e4ceafce-c2a0-49ae-b65a-f9ea4eb0228f",
   "metadata": {},
   "outputs": [
    {
     "name": "stdout",
     "output_type": "stream",
     "text": [
      " * sqlite:///../db/dam_levels.db\n",
      "Done.\n"
     ]
    },
    {
     "data": {
      "text/html": [
       "<table>\n",
       "    <thead>\n",
       "        <tr>\n",
       "            <th>year</th>\n",
       "            <th>dam_name</th>\n",
       "            <th>Assessment_Officer</th>\n",
       "            <th>Officer_Reg</th>\n",
       "            <th>water_level</th>\n",
       "            <th>dam_latitude</th>\n",
       "            <th>dam_longitude</th>\n",
       "        </tr>\n",
       "    </thead>\n",
       "    <tbody>\n",
       "        <tr>\n",
       "            <td>2012</td>\n",
       "            <td>STEENBRAS LOWER;STEENBRAS UPPER</td>\n",
       "            <td>V. Mokere</td>\n",
       "            <td>201124</td>\n",
       "            <td>20.3;24.2</td>\n",
       "            <td>-34.180527;-34.166702</td>\n",
       "            <td>18.866688;18.90976</td>\n",
       "        </tr>\n",
       "        <tr>\n",
       "            <td>2013</td>\n",
       "            <td>STEENBRAS LOWER;STEENBRAS UPPER</td>\n",
       "            <td>V. Mokere</td>\n",
       "            <td>201124</td>\n",
       "            <td>22.4;24.6</td>\n",
       "            <td>-34.180527;-34.166702</td>\n",
       "            <td>18.866688;18.90976</td>\n",
       "        </tr>\n",
       "        <tr>\n",
       "            <td>2015</td>\n",
       "            <td>STEENBRAS LOWER;STEENBRAS UPPER</td>\n",
       "            <td>V. Mokere</td>\n",
       "            <td>201124</td>\n",
       "            <td>22.7;24.6</td>\n",
       "            <td>-34.180527;-34.166702</td>\n",
       "            <td>18.866688;18.90976</td>\n",
       "        </tr>\n",
       "    </tbody>\n",
       "</table>"
      ],
      "text/plain": [
       "[('2012', 'STEENBRAS LOWER;STEENBRAS UPPER', 'V. Mokere', '201124', '20.3;24.2', '-34.180527;-34.166702', '18.866688;18.90976'),\n",
       " ('2013', 'STEENBRAS LOWER;STEENBRAS UPPER', 'V. Mokere', '201124', '22.4;24.6', '-34.180527;-34.166702', '18.866688;18.90976'),\n",
       " ('2015', 'STEENBRAS LOWER;STEENBRAS UPPER', 'V. Mokere', '201124', '22.7;24.6', '-34.180527;-34.166702', '18.866688;18.90976')]"
      ]
     },
     "execution_count": 25,
     "metadata": {},
     "output_type": "execute_result"
    }
   ],
   "source": [
    "%%sql\n",
    "SELECT * FROM temp_levels_to_delete;"
   ]
  },
  {
   "cell_type": "markdown",
   "id": "f0fade51",
   "metadata": {},
   "source": [
    "### Exercise 2\n",
    "\n",
    "Now, re-insert the deleted rows of data the right way, with a focus on atomicity.\n",
    "\n",
    "**HINT:** Use the values from the `dam_levels` table we loaded above (third code cell)."
   ]
  },
  {
   "cell_type": "code",
   "execution_count": 26,
   "id": "748f4263",
   "metadata": {},
   "outputs": [
    {
     "name": "stdout",
     "output_type": "stream",
     "text": [
      " * sqlite:///../db/dam_levels.db\n",
      "6 rows affected.\n"
     ]
    },
    {
     "data": {
      "text/plain": [
       "[]"
      ]
     },
     "execution_count": 26,
     "metadata": {},
     "output_type": "execute_result"
    }
   ],
   "source": [
    "%%sql\n",
    "\n",
    "INSERT INTO temp_dam_levels (year,dam_name,Assessment_Officer,Officer_Reg,water_level,dam_latitude,dam_longitude)\n",
    "VALUES \n",
    "    ( 2012,\"STEENBRAS LOWER\",\"V. Mokere\",201124,20.3,-34.180527,18.866688),\n",
    "    ( 2012,\"STEENBRAS UPPER\",\"V. Mokere\",201124,24.2,-34.166702,18.90976),\n",
    "    ( 2013,\"STEENBRAS LOWER\",\"V. Mokere\",201124,22.4,-34.180527,18.866688),\n",
    "    ( 2013,\"STEENBRAS UPPER\",\"V. Mokere\",201124,24.6,-34.166702,18.90976),\n",
    "    ( 2015,\"STEENBRAS LOWER\",\"V. Mokere\",201124,22.7,-34.180527,18.866688),\n",
    "    ( 2015,\"STEENBRAS UPPER\",\"V. Mokere\",201124,24.6,-34.16670,18.90976);"
   ]
  },
  {
   "cell_type": "markdown",
   "id": "f28aef00",
   "metadata": {},
   "source": [
    "### Exercise 3\n",
    "\n",
    "Next, we need to make sure that the rows are uniquely identifiable. The easiest way to achieve this is to add an `ID` column to the table. However, SQLite does not allow for the addition of constrained columns to existing tables. As such, we are better off creating a new table with the new `ID` column, copying the old columns across, and deleting the old table.\n",
    "\n",
    "Start by creating the structure of the new table `dam_levels_1nf`. "
   ]
  },
  {
   "cell_type": "code",
   "execution_count": 29,
   "id": "f4621a53",
   "metadata": {},
   "outputs": [
    {
     "name": "stdout",
     "output_type": "stream",
     "text": [
      " * sqlite:///../db/dam_levels.db\n",
      "Done.\n"
     ]
    },
    {
     "data": {
      "text/plain": [
       "[]"
      ]
     },
     "execution_count": 29,
     "metadata": {},
     "output_type": "execute_result"
    }
   ],
   "source": [
    "%%sql\n",
    "\n",
    "CREATE TABLE IF NOT EXISTS dam_levels_1nf (\n",
    "    AssessmentId INTEGER PRIMARY KEY AUTOINCREMENT,\n",
    "    year INTEGER,\n",
    "    dam_name VARCHAR(100),\n",
    "    Assessment_Officer VARCHAR(100),\n",
    "    Officer_Reg INTEGER,\n",
    "    water_level NUMERIC(10,1),\n",
    "    dam_latitude NUMERIC(3,6),\n",
    "    dam_longitude NUMERIC(3,6)\n",
    ");"
   ]
  },
  {
   "cell_type": "markdown",
   "id": "d151cbb4",
   "metadata": {},
   "source": [
    "### Exercise 4\n",
    "\n",
    "Subsequently, transfer data from the previous `dam_levels` table into the newly created `dam_levels_1nf` table."
   ]
  },
  {
   "cell_type": "code",
   "execution_count": 30,
   "id": "1e003247",
   "metadata": {},
   "outputs": [
    {
     "name": "stdout",
     "output_type": "stream",
     "text": [
      " * sqlite:///../db/dam_levels.db\n",
      "18 rows affected.\n"
     ]
    },
    {
     "data": {
      "text/plain": [
       "[]"
      ]
     },
     "execution_count": 30,
     "metadata": {},
     "output_type": "execute_result"
    }
   ],
   "source": [
    "%%sql\n",
    "INSERT INTO dam_levels_1nf (year, dam_name, Assessment_Officer, Officer_Reg, water_level, dam_latitude, dam_longitude)\n",
    "SELECT * FROM temp_dam_levels;"
   ]
  },
  {
   "cell_type": "markdown",
   "id": "e9dcc635",
   "metadata": {},
   "source": [
    "### Exercise 5\n",
    "\n",
    "Delete the redundant table, `dam_levels`."
   ]
  },
  {
   "cell_type": "code",
   "execution_count": 31,
   "id": "1cbd8b2e",
   "metadata": {},
   "outputs": [
    {
     "name": "stdout",
     "output_type": "stream",
     "text": [
      " * sqlite:///../db/dam_levels.db\n",
      "Done.\n"
     ]
    },
    {
     "data": {
      "text/plain": [
       "[]"
      ]
     },
     "execution_count": 31,
     "metadata": {},
     "output_type": "execute_result"
    }
   ],
   "source": [
    "%%sql\n",
    "DROP TABLE IF EXISTS temp_dam_levels;"
   ]
  },
  {
   "cell_type": "markdown",
   "id": "b3c88335",
   "metadata": {
    "tags": []
   },
   "source": [
    "## Solutions"
   ]
  },
  {
   "cell_type": "markdown",
   "id": "a5084b12",
   "metadata": {
    "tags": []
   },
   "source": [
    "### Exercise 1\n",
    "\n",
    "The offending rows of data belong to an `Assessment_Officer` called \"V. Mokere\". We therefore use a `WHERE` clause to specify this in the `DELETE` query. "
   ]
  },
  {
   "cell_type": "code",
   "execution_count": null,
   "id": "c968d875",
   "metadata": {},
   "outputs": [],
   "source": [
    "%%sql\n",
    "\n",
    "DELETE \n",
    "FROM \n",
    "    dam_levels\n",
    "WHERE \n",
    "    Assessment_Officer = \"V. Mokere\";"
   ]
  },
  {
   "cell_type": "markdown",
   "id": "294d8eef",
   "metadata": {},
   "source": [
    "### Exercise 2\n",
    "\n"
   ]
  },
  {
   "cell_type": "code",
   "execution_count": null,
   "id": "03071e34",
   "metadata": {},
   "outputs": [],
   "source": [
    "%%sql\n",
    "\n",
    "INSERT INTO dam_levels (year,dam_name,Assessment_Officer,Officer_Reg,water_level,dam_latitude,dam_longitude)\n",
    "VALUES \n",
    "    ( 2012,\"STEENBRAS LOWER\",\"V. Mokere\",201124,20.3,-34.180527,18.866688),\n",
    "    ( 2012,\"STEENBRAS UPPER\",\"V. Mokere\",201124,24.2,-34.166702,18.90976),\n",
    "    ( 2013,\"STEENBRAS LOWER\",\"V. Mokere\",201124,22.4,-34.180527,18.866688),\n",
    "    ( 2013,\"STEENBRAS UPPER\",\"V. Mokere\",201124,24.6,-34.166702,18.90976),\n",
    "    ( 2015,\"STEENBRAS LOWER\",\"V. Mokere\",201124,22.7,-34.180527,18.866688),\n",
    "    ( 2015,\"STEENBRAS UPPER\",\"V. Mokere\",201124,24.6,-34.16670,18.90976);"
   ]
  },
  {
   "cell_type": "markdown",
   "id": "eafe40b6",
   "metadata": {},
   "source": [
    "### Exercise 3\n",
    "\n"
   ]
  },
  {
   "cell_type": "code",
   "execution_count": null,
   "id": "1ffd2239",
   "metadata": {},
   "outputs": [],
   "source": [
    "%%sql\n",
    "\n",
    "CREATE TABLE dam_levels_1nf (\n",
    "    AssessmentId INTEGER PRIMARY KEY AUTOINCREMENT,\n",
    "    year INTEGER,\n",
    "    dam_name VARCHAR(100),\n",
    "    Assessment_Officer VARCHAR(100),\n",
    "    Officer_Reg INTEGER,\n",
    "    water_level NUMERIC(10,1),\n",
    "    dam_latitude NUMERIC(3,6),\n",
    "    dam_longitude NUMERIC(3,6)\n",
    ");"
   ]
  },
  {
   "cell_type": "markdown",
   "id": "b0e27793",
   "metadata": {},
   "source": [
    "### Exercise 4\n",
    "\n",
    "This query takes data from the `dam_levels` table and inserts it into the `dam_levels_1nf` table, copying values from the relevant column. The data are then ordered by the `year` column as it's inserted into the new table. "
   ]
  },
  {
   "cell_type": "code",
   "execution_count": null,
   "id": "b2cb2438",
   "metadata": {},
   "outputs": [],
   "source": [
    "%%sql\n",
    "\n",
    "INSERT INTO \n",
    "    dam_levels_1nf(\n",
    "            year, \n",
    "            dam_name, \n",
    "            Assessment_Officer, \n",
    "            Officer_Reg, \n",
    "            water_level, \n",
    "            dam_latitude, \n",
    "            dam_longitude\n",
    "        )\n",
    "SELECT \n",
    "    year, \n",
    "    dam_name, \n",
    "    Assessment_Officer, \n",
    "    Officer_Reg, \n",
    "    water_level, \n",
    "    dam_latitude, \n",
    "    dam_longitude\n",
    "FROM \n",
    "    dam_levels\n",
    "ORDER BY year;"
   ]
  },
  {
   "cell_type": "markdown",
   "id": "99405b3b",
   "metadata": {},
   "source": [
    "### Exercise 5"
   ]
  },
  {
   "cell_type": "code",
   "execution_count": null,
   "id": "c01239cc",
   "metadata": {},
   "outputs": [],
   "source": [
    "%%sql\n",
    "\n",
    "DROP TABLE dam_levels;"
   ]
  },
  {
   "cell_type": "markdown",
   "id": "e9956efe",
   "metadata": {
    "tags": []
   },
   "source": [
    "## Summary\n",
    "\n",
    "And with that, we have a table in 1NF!"
   ]
  },
  {
   "cell_type": "markdown",
   "id": "1aced075",
   "metadata": {},
   "source": [
    "**Important**: After completing this exercise, ensure that you save the `dam_levels.db` file, as it will be used as a foundation for the next exercise."
   ]
  },
  {
   "cell_type": "markdown",
   "id": "333ddeed",
   "metadata": {},
   "source": [
    "#  \n",
    "\n",
    "<div align=\"center\" style=\" font-size: 80%; text-align: center; margin: 0 auto\">\n",
    "<img src=\"https://raw.githubusercontent.com/Explore-AI/Pictures/master/ExploreAI_logos/EAI_Blue_Dark.png\"  style=\"width:200px\";/>\n",
    "</div>"
   ]
  }
 ],
 "metadata": {
  "kernelspec": {
   "display_name": "Python 3 (ipykernel)",
   "language": "python",
   "name": "python3"
  },
  "language_info": {
   "codemirror_mode": {
    "name": "ipython",
    "version": 3
   },
   "file_extension": ".py",
   "mimetype": "text/x-python",
   "name": "python",
   "nbconvert_exporter": "python",
   "pygments_lexer": "ipython3",
   "version": "3.11.5"
  }
 },
 "nbformat": 4,
 "nbformat_minor": 5
}
