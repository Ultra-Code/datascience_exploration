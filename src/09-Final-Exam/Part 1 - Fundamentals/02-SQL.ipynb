{
 "cells": [
  {
   "cell_type": "markdown",
   "metadata": {
    "id": "O3uhQEw4Jqnt"
   },
   "source": [
    "# Gather Section (20 Questions, 40 Marks)\n",
    "\n",
    "You should have access to a file called TMDB.db. The first step to answering this set of questions will be to connect to this db file to access the data. \n",
    "\n",
    "![SQL Architectures](https://raw.githubusercontent.com/Explore-AI/Public-Data/master/image/TMDB_ERD.JPG)\n",
    "\n",
    "Before we start we need to load our SQL magic commands (we only need do this once per notebook):"
   ]
  },
  {
   "cell_type": "code",
   "execution_count": 2,
   "metadata": {
    "id": "tYyzGpQrJqnv"
   },
   "outputs": [],
   "source": [
    "%load_ext sql"
   ]
  },
  {
   "cell_type": "markdown",
   "metadata": {
    "id": "ok5TGOw3Jqnw"
   },
   "source": [
    "*Note: we have to prepend a Jupyter notebook cell with `%%sql` in order to run a SQL query. Place your code in the '# Your code here' lines. If you experience trouble connecting to the .db file, please ensure that you have the `pymysql` and `ipython-sql` packages installed. Also ensure that `sqlalchemy` is pinned at a version <2.*\n",
    "\n",
    "\n",
    "Based on that data, answer the following questions:\n",
    "\n",
    "\n",
    "### Question 11\n",
    "What is the code you can use to connect to the TMBD database that is saved in the same location with the Jupyter notebook?\n"
   ]
  },
  {
   "cell_type": "code",
   "execution_count": 3,
   "metadata": {
    "id": "bkHzM8QXJqnw"
   },
   "outputs": [],
   "source": [
    "%%sql \n",
    "sqlite:///Dataset/TMDB.db"
   ]
  },
  {
   "cell_type": "markdown",
   "metadata": {
    "id": "JgRO7x1-Jqnx"
   },
   "source": [
    "### Question 12\n",
    "What is the primary key for the table “movies”?\n",
    "\n"
   ]
  },
  {
   "cell_type": "markdown",
   "metadata": {
    "id": "KSkdaG_iJqnx"
   },
   "source": [
    "### Question 13\n",
    "How many foreign keys does the “languagemap” table have?\n",
    "\n"
   ]
  },
  {
   "cell_type": "markdown",
   "metadata": {
    "id": "eO7T-b9AJqnx"
   },
   "source": [
    "### Question 14\n",
    "What code would you use to set up a view of all movies that did not get released?\n"
   ]
  },
  {
   "cell_type": "code",
   "execution_count": 8,
   "metadata": {
    "id": "8FTBNKnlJqny"
   },
   "outputs": [
    {
     "name": "stdout",
     "output_type": "stream",
     "text": [
      " * sqlite:///Dataset/TMDB.db\n",
      "Done.\n"
     ]
    },
    {
     "data": {
      "text/plain": [
       "[]"
      ]
     },
     "execution_count": 8,
     "metadata": {},
     "output_type": "execute_result"
    }
   ],
   "source": [
    "%%sql \n",
    "CREATE VIEW Not_Released AS SELECT * FROM movies WHERE release_status <> 'Released';"
   ]
  },
  {
   "cell_type": "markdown",
   "metadata": {
    "id": "GxuX_z8iJqny"
   },
   "source": [
    "### Question 15\n",
    "How would you select only the title, release date, and release status columns from the view you created in the previous question?\n"
   ]
  },
  {
   "cell_type": "code",
   "execution_count": 9,
   "metadata": {
    "id": "7E0ZI_d9Jqnz"
   },
   "outputs": [
    {
     "name": "stdout",
     "output_type": "stream",
     "text": [
      " * sqlite:///Dataset/TMDB.db\n",
      "Done.\n"
     ]
    },
    {
     "data": {
      "text/html": [
       "<table>\n",
       "    <thead>\n",
       "        <tr>\n",
       "            <th>title</th>\n",
       "            <th>release_date</th>\n",
       "            <th>release_status</th>\n",
       "        </tr>\n",
       "    </thead>\n",
       "    <tbody>\n",
       "        <tr>\n",
       "            <td>Little Big Top</td>\n",
       "            <td>2006-01-01 00:00:00.000000</td>\n",
       "            <td>Rumored</td>\n",
       "        </tr>\n",
       "        <tr>\n",
       "            <td>The Helix... Loaded</td>\n",
       "            <td>2005-01-01 00:00:00.000000</td>\n",
       "            <td>Rumored</td>\n",
       "        </tr>\n",
       "        <tr>\n",
       "            <td>Higher Ground</td>\n",
       "            <td>2011-08-26 00:00:00.000000</td>\n",
       "            <td>Post Production</td>\n",
       "        </tr>\n",
       "        <tr>\n",
       "            <td>Crying with Laughter</td>\n",
       "            <td>2009-06-01 00:00:00.000000</td>\n",
       "            <td>Rumored</td>\n",
       "        </tr>\n",
       "        <tr>\n",
       "            <td>The Harvest (La Cosecha)</td>\n",
       "            <td>2011-07-29 00:00:00.000000</td>\n",
       "            <td>Rumored</td>\n",
       "        </tr>\n",
       "        <tr>\n",
       "            <td>The Naked Ape</td>\n",
       "            <td>2006-09-16 00:00:00.000000</td>\n",
       "            <td>Rumored</td>\n",
       "        </tr>\n",
       "        <tr>\n",
       "            <td>Brotherly Love</td>\n",
       "            <td>2015-04-24 00:00:00.000000</td>\n",
       "            <td>Post Production</td>\n",
       "        </tr>\n",
       "        <tr>\n",
       "            <td>Dancin&#x27; It&#x27;s On</td>\n",
       "            <td>2015-10-16 00:00:00.000000</td>\n",
       "            <td>Post Production</td>\n",
       "        </tr>\n",
       "    </tbody>\n",
       "</table>"
      ],
      "text/plain": [
       "[('Little Big Top', '2006-01-01 00:00:00.000000', 'Rumored'),\n",
       " ('The Helix... Loaded', '2005-01-01 00:00:00.000000', 'Rumored'),\n",
       " ('Higher Ground', '2011-08-26 00:00:00.000000', 'Post Production'),\n",
       " ('Crying with Laughter', '2009-06-01 00:00:00.000000', 'Rumored'),\n",
       " ('The Harvest (La Cosecha)', '2011-07-29 00:00:00.000000', 'Rumored'),\n",
       " ('The Naked Ape', '2006-09-16 00:00:00.000000', 'Rumored'),\n",
       " ('Brotherly Love', '2015-04-24 00:00:00.000000', 'Post Production'),\n",
       " (\"Dancin' It's On\", '2015-10-16 00:00:00.000000', 'Post Production')]"
      ]
     },
     "execution_count": 9,
     "metadata": {},
     "output_type": "execute_result"
    }
   ],
   "source": [
    "%%sql \n",
    "Select title, release_date, release_status From Not_Released "
   ]
  },
  {
   "cell_type": "markdown",
   "metadata": {
    "id": "WYqGtSSkJqnz"
   },
   "source": [
    "### Question 16\n",
    "How many movies are no longer using their original titles?\n",
    "\n"
   ]
  },
  {
   "cell_type": "code",
   "execution_count": 14,
   "metadata": {
    "id": "4l4MbDo2Jqn0"
   },
   "outputs": [
    {
     "name": "stdout",
     "output_type": "stream",
     "text": [
      " * sqlite:///Dataset/TMDB.db\n",
      "Done.\n"
     ]
    },
    {
     "data": {
      "text/html": [
       "<table>\n",
       "    <thead>\n",
       "        <tr>\n",
       "            <th>movie_id</th>\n",
       "            <th>title</th>\n",
       "            <th>release_date</th>\n",
       "            <th>budget</th>\n",
       "            <th>homepage</th>\n",
       "            <th>original_language</th>\n",
       "            <th>original_title</th>\n",
       "            <th>popularity</th>\n",
       "            <th>revenue</th>\n",
       "            <th>runtime</th>\n",
       "            <th>release_status</th>\n",
       "            <th>vote_average</th>\n",
       "            <th>vote_count</th>\n",
       "        </tr>\n",
       "    </thead>\n",
       "    <tbody>\n",
       "        <tr>\n",
       "            <td>5</td>\n",
       "            <td>Four Rooms</td>\n",
       "            <td>1995-12-09 00:00:00.000000</td>\n",
       "            <td>4000000</td>\n",
       "            <td>None</td>\n",
       "            <td>en</td>\n",
       "            <td>Four Rooms</td>\n",
       "            <td>22.87623</td>\n",
       "            <td>4300000.0</td>\n",
       "            <td>98.0</td>\n",
       "            <td>Released</td>\n",
       "            <td>6.5</td>\n",
       "            <td>530</td>\n",
       "        </tr>\n",
       "        <tr>\n",
       "            <td>11</td>\n",
       "            <td>Star Wars</td>\n",
       "            <td>1977-05-25 00:00:00.000000</td>\n",
       "            <td>11000000</td>\n",
       "            <td>http://www.starwars.com/films/star-wars-episode-iv-a-new-hope</td>\n",
       "            <td>en</td>\n",
       "            <td>Star Wars</td>\n",
       "            <td>126.393695</td>\n",
       "            <td>775398007.0</td>\n",
       "            <td>121.0</td>\n",
       "            <td>Released</td>\n",
       "            <td>8.1</td>\n",
       "            <td>6624</td>\n",
       "        </tr>\n",
       "        <tr>\n",
       "            <td>12</td>\n",
       "            <td>Finding Nemo</td>\n",
       "            <td>2003-05-30 00:00:00.000000</td>\n",
       "            <td>94000000</td>\n",
       "            <td>http://movies.disney.com/finding-nemo</td>\n",
       "            <td>en</td>\n",
       "            <td>Finding Nemo</td>\n",
       "            <td>85.688789</td>\n",
       "            <td>940335536.0</td>\n",
       "            <td>100.0</td>\n",
       "            <td>Released</td>\n",
       "            <td>7.6</td>\n",
       "            <td>6122</td>\n",
       "        </tr>\n",
       "    </tbody>\n",
       "</table>"
      ],
      "text/plain": [
       "[(5, 'Four Rooms', '1995-12-09 00:00:00.000000', 4000000, None, 'en', 'Four Rooms', 22.87623, 4300000.0, 98.0, 'Released', 6.5, 530),\n",
       " (11, 'Star Wars', '1977-05-25 00:00:00.000000', 11000000, 'http://www.starwars.com/films/star-wars-episode-iv-a-new-hope', 'en', 'Star Wars', 126.393695, 775398007.0, 121.0, 'Released', 8.1, 6624),\n",
       " (12, 'Finding Nemo', '2003-05-30 00:00:00.000000', 94000000, 'http://movies.disney.com/finding-nemo', 'en', 'Finding Nemo', 85.688789, 940335536.0, 100.0, 'Released', 7.6, 6122)]"
      ]
     },
     "execution_count": 14,
     "metadata": {},
     "output_type": "execute_result"
    }
   ],
   "source": [
    "%%sql \n",
    "SELECT movie_id, title, release_date, budget, homepage,\toriginal_language, original_title, \n",
    "    popularity, revenue, runtime, release_status, vote_average, vote_count -- removed tagline and overview\n",
    "FROM movies LIMIT 3;"
   ]
  },
  {
   "cell_type": "code",
   "execution_count": 16,
   "metadata": {},
   "outputs": [
    {
     "name": "stdout",
     "output_type": "stream",
     "text": [
      " * sqlite:///Dataset/TMDB.db\n",
      "Done.\n"
     ]
    },
    {
     "data": {
      "text/html": [
       "<table>\n",
       "    <thead>\n",
       "        <tr>\n",
       "            <th>number of movies with different titles</th>\n",
       "        </tr>\n",
       "    </thead>\n",
       "    <tbody>\n",
       "        <tr>\n",
       "            <td>261</td>\n",
       "        </tr>\n",
       "    </tbody>\n",
       "</table>"
      ],
      "text/plain": [
       "[(261,)]"
      ]
     },
     "execution_count": 16,
     "metadata": {},
     "output_type": "execute_result"
    }
   ],
   "source": [
    "%%sql\n",
    "\n",
    "WITH different_titles AS (\n",
    "    SELECT movie_id, title, original_title\n",
    "    FROM movies\n",
    "    WHERE movies.title <> movies.original_title\n",
    ")\n",
    "\n",
    "SELECT COUNT(*) as 'number of movies with different titles' FROM different_titles;"
   ]
  },
  {
   "cell_type": "markdown",
   "metadata": {
    "id": "_ZJuNLfPJqn0"
   },
   "source": [
    "### Question 17\n",
    "What is the most popular movie that was made after 01/01/2000 with a budget of more than $100 000 000? (Hint: Use the popularity field in the Movies table. Larger numbers are more popular.)\n"
   ]
  },
  {
   "cell_type": "code",
   "execution_count": 20,
   "metadata": {
    "id": "AY2PN5HzJqn0"
   },
   "outputs": [
    {
     "name": "stdout",
     "output_type": "stream",
     "text": [
      " * sqlite:///Dataset/TMDB.db\n",
      "Done.\n"
     ]
    },
    {
     "data": {
      "text/html": [
       "<table>\n",
       "    <thead>\n",
       "        <tr>\n",
       "            <th>movie_id</th>\n",
       "            <th>title</th>\n",
       "            <th>release_date</th>\n",
       "            <th>budget</th>\n",
       "            <th>popularity</th>\n",
       "        </tr>\n",
       "    </thead>\n",
       "    <tbody>\n",
       "        <tr>\n",
       "            <td>157336</td>\n",
       "            <td>Interstellar</td>\n",
       "            <td>2014-11-05 00:00:00.000000</td>\n",
       "            <td>165000000</td>\n",
       "            <td>724.247784</td>\n",
       "        </tr>\n",
       "        <tr>\n",
       "            <td>118340</td>\n",
       "            <td>Guardians of the Galaxy</td>\n",
       "            <td>2014-07-30 00:00:00.000000</td>\n",
       "            <td>170000000</td>\n",
       "            <td>481.098624</td>\n",
       "        </tr>\n",
       "        <tr>\n",
       "            <td>76341</td>\n",
       "            <td>Mad Max: Fury Road</td>\n",
       "            <td>2015-05-13 00:00:00.000000</td>\n",
       "            <td>150000000</td>\n",
       "            <td>434.278564</td>\n",
       "        </tr>\n",
       "        <tr>\n",
       "            <td>135397</td>\n",
       "            <td>Jurassic World</td>\n",
       "            <td>2015-06-09 00:00:00.000000</td>\n",
       "            <td>150000000</td>\n",
       "            <td>418.708552</td>\n",
       "        </tr>\n",
       "        <tr>\n",
       "            <td>22</td>\n",
       "            <td>Pirates of the Caribbean: The Curse of the Black Pearl</td>\n",
       "            <td>2003-07-09 00:00:00.000000</td>\n",
       "            <td>140000000</td>\n",
       "            <td>271.972889</td>\n",
       "        </tr>\n",
       "        <tr>\n",
       "            <td>119450</td>\n",
       "            <td>Dawn of the Planet of the Apes</td>\n",
       "            <td>2014-06-26 00:00:00.000000</td>\n",
       "            <td>170000000</td>\n",
       "            <td>243.791743</td>\n",
       "        </tr>\n",
       "        <tr>\n",
       "            <td>131631</td>\n",
       "            <td>The Hunger Games: Mockingjay - Part 1</td>\n",
       "            <td>2014-11-18 00:00:00.000000</td>\n",
       "            <td>125000000</td>\n",
       "            <td>206.227151</td>\n",
       "        </tr>\n",
       "        <tr>\n",
       "            <td>177572</td>\n",
       "            <td>Big Hero 6</td>\n",
       "            <td>2014-10-24 00:00:00.000000</td>\n",
       "            <td>165000000</td>\n",
       "            <td>203.73459</td>\n",
       "        </tr>\n",
       "        <tr>\n",
       "            <td>87101</td>\n",
       "            <td>Terminator Genisys</td>\n",
       "            <td>2015-06-23 00:00:00.000000</td>\n",
       "            <td>155000000</td>\n",
       "            <td>202.042635</td>\n",
       "        </tr>\n",
       "        <tr>\n",
       "            <td>271110</td>\n",
       "            <td>Captain America: Civil War</td>\n",
       "            <td>2016-04-27 00:00:00.000000</td>\n",
       "            <td>250000000</td>\n",
       "            <td>198.372395</td>\n",
       "        </tr>\n",
       "    </tbody>\n",
       "</table>"
      ],
      "text/plain": [
       "[(157336, 'Interstellar', '2014-11-05 00:00:00.000000', 165000000, 724.247784),\n",
       " (118340, 'Guardians of the Galaxy', '2014-07-30 00:00:00.000000', 170000000, 481.098624),\n",
       " (76341, 'Mad Max: Fury Road', '2015-05-13 00:00:00.000000', 150000000, 434.278564),\n",
       " (135397, 'Jurassic World', '2015-06-09 00:00:00.000000', 150000000, 418.708552),\n",
       " (22, 'Pirates of the Caribbean: The Curse of the Black Pearl', '2003-07-09 00:00:00.000000', 140000000, 271.972889),\n",
       " (119450, 'Dawn of the Planet of the Apes', '2014-06-26 00:00:00.000000', 170000000, 243.791743),\n",
       " (131631, 'The Hunger Games: Mockingjay - Part 1', '2014-11-18 00:00:00.000000', 125000000, 206.227151),\n",
       " (177572, 'Big Hero 6', '2014-10-24 00:00:00.000000', 165000000, 203.73459),\n",
       " (87101, 'Terminator Genisys', '2015-06-23 00:00:00.000000', 155000000, 202.042635),\n",
       " (271110, 'Captain America: Civil War', '2016-04-27 00:00:00.000000', 250000000, 198.372395)]"
      ]
     },
     "execution_count": 20,
     "metadata": {},
     "output_type": "execute_result"
    }
   ],
   "source": [
    "%%sql \n",
    "\n",
    "SELECT movie_id, title, release_date, budget, popularity FROM movies WHERE release_date > '01-01-2000' and budget > 100000000 ORDER BY popularity DESC LIMIT 10;"
   ]
  },
  {
   "cell_type": "markdown",
   "metadata": {
    "id": "CfRuCZ68Jqn0"
   },
   "source": [
    "### Question 18\n",
    "How many movies are there that do not have English as their original language? \n",
    "\n"
   ]
  },
  {
   "cell_type": "code",
   "execution_count": 22,
   "metadata": {
    "id": "xptzYlgmJqn1"
   },
   "outputs": [
    {
     "name": "stdout",
     "output_type": "stream",
     "text": [
      " * sqlite:///Dataset/TMDB.db\n",
      "Done.\n"
     ]
    },
    {
     "data": {
      "text/html": [
       "<table>\n",
       "    <thead>\n",
       "        <tr>\n",
       "            <th>movies without English as original language</th>\n",
       "        </tr>\n",
       "    </thead>\n",
       "    <tbody>\n",
       "        <tr>\n",
       "            <td>298</td>\n",
       "        </tr>\n",
       "    </tbody>\n",
       "</table>"
      ],
      "text/plain": [
       "[(298,)]"
      ]
     },
     "execution_count": 22,
     "metadata": {},
     "output_type": "execute_result"
    }
   ],
   "source": [
    "%%sql \n",
    "SELECT COUNT(*) as 'movies without English as original language' from movies WHERE original_language <> 'en'"
   ]
  },
  {
   "cell_type": "markdown",
   "metadata": {
    "id": "Xrn3qSOTJqn1"
   },
   "source": [
    "### Question 19\n",
    "How many movies in the database were produced by Pixar Animation Studios?\n",
    "\n"
   ]
  },
  {
   "cell_type": "code",
   "execution_count": 33,
   "metadata": {
    "id": "KaZyZChwJqn2"
   },
   "outputs": [
    {
     "name": "stdout",
     "output_type": "stream",
     "text": [
      " * sqlite:///Dataset/TMDB.db\n",
      "Done.\n"
     ]
    },
    {
     "data": {
      "text/html": [
       "<table>\n",
       "    <thead>\n",
       "        <tr>\n",
       "            <th>cid</th>\n",
       "            <th>name</th>\n",
       "            <th>type</th>\n",
       "            <th>notnull</th>\n",
       "            <th>dflt_value</th>\n",
       "            <th>pk</th>\n",
       "        </tr>\n",
       "    </thead>\n",
       "    <tbody>\n",
       "        <tr>\n",
       "            <td>0</td>\n",
       "            <td>movie_id</td>\n",
       "            <td>INTEGER</td>\n",
       "            <td>1</td>\n",
       "            <td>None</td>\n",
       "            <td>1</td>\n",
       "        </tr>\n",
       "        <tr>\n",
       "            <td>1</td>\n",
       "            <td>title</td>\n",
       "            <td>varchar(500)</td>\n",
       "            <td>0</td>\n",
       "            <td>NULL</td>\n",
       "            <td>0</td>\n",
       "        </tr>\n",
       "        <tr>\n",
       "            <td>2</td>\n",
       "            <td>release_date</td>\n",
       "            <td>datetime(6)</td>\n",
       "            <td>0</td>\n",
       "            <td>NULL</td>\n",
       "            <td>0</td>\n",
       "        </tr>\n",
       "        <tr>\n",
       "            <td>3</td>\n",
       "            <td>budget</td>\n",
       "            <td>INTEGER</td>\n",
       "            <td>0</td>\n",
       "            <td>NULL</td>\n",
       "            <td>0</td>\n",
       "        </tr>\n",
       "        <tr>\n",
       "            <td>4</td>\n",
       "            <td>homepage</td>\n",
       "            <td>varchar(500)</td>\n",
       "            <td>0</td>\n",
       "            <td>NULL</td>\n",
       "            <td>0</td>\n",
       "        </tr>\n",
       "        <tr>\n",
       "            <td>5</td>\n",
       "            <td>original_language</td>\n",
       "            <td>varchar(50)</td>\n",
       "            <td>0</td>\n",
       "            <td>NULL</td>\n",
       "            <td>0</td>\n",
       "        </tr>\n",
       "        <tr>\n",
       "            <td>6</td>\n",
       "            <td>original_title</td>\n",
       "            <td>varchar(500)</td>\n",
       "            <td>0</td>\n",
       "            <td>NULL</td>\n",
       "            <td>0</td>\n",
       "        </tr>\n",
       "        <tr>\n",
       "            <td>7</td>\n",
       "            <td>overview</td>\n",
       "            <td>varchar(5000)</td>\n",
       "            <td>0</td>\n",
       "            <td>NULL</td>\n",
       "            <td>0</td>\n",
       "        </tr>\n",
       "        <tr>\n",
       "            <td>8</td>\n",
       "            <td>popularity</td>\n",
       "            <td>double</td>\n",
       "            <td>0</td>\n",
       "            <td>NULL</td>\n",
       "            <td>0</td>\n",
       "        </tr>\n",
       "        <tr>\n",
       "            <td>9</td>\n",
       "            <td>revenue</td>\n",
       "            <td>double</td>\n",
       "            <td>0</td>\n",
       "            <td>NULL</td>\n",
       "            <td>0</td>\n",
       "        </tr>\n",
       "        <tr>\n",
       "            <td>10</td>\n",
       "            <td>runtime</td>\n",
       "            <td>double</td>\n",
       "            <td>0</td>\n",
       "            <td>NULL</td>\n",
       "            <td>0</td>\n",
       "        </tr>\n",
       "        <tr>\n",
       "            <td>11</td>\n",
       "            <td>release_status</td>\n",
       "            <td>varchar(50)</td>\n",
       "            <td>0</td>\n",
       "            <td>NULL</td>\n",
       "            <td>0</td>\n",
       "        </tr>\n",
       "        <tr>\n",
       "            <td>12</td>\n",
       "            <td>tagline</td>\n",
       "            <td>varchar(500)</td>\n",
       "            <td>0</td>\n",
       "            <td>NULL</td>\n",
       "            <td>0</td>\n",
       "        </tr>\n",
       "        <tr>\n",
       "            <td>13</td>\n",
       "            <td>vote_average</td>\n",
       "            <td>double</td>\n",
       "            <td>0</td>\n",
       "            <td>NULL</td>\n",
       "            <td>0</td>\n",
       "        </tr>\n",
       "        <tr>\n",
       "            <td>14</td>\n",
       "            <td>vote_count</td>\n",
       "            <td>INTEGER</td>\n",
       "            <td>0</td>\n",
       "            <td>NULL</td>\n",
       "            <td>0</td>\n",
       "        </tr>\n",
       "    </tbody>\n",
       "</table>"
      ],
      "text/plain": [
       "[(0, 'movie_id', 'INTEGER', 1, None, 1),\n",
       " (1, 'title', 'varchar(500)', 0, 'NULL', 0),\n",
       " (2, 'release_date', 'datetime(6)', 0, 'NULL', 0),\n",
       " (3, 'budget', 'INTEGER', 0, 'NULL', 0),\n",
       " (4, 'homepage', 'varchar(500)', 0, 'NULL', 0),\n",
       " (5, 'original_language', 'varchar(50)', 0, 'NULL', 0),\n",
       " (6, 'original_title', 'varchar(500)', 0, 'NULL', 0),\n",
       " (7, 'overview', 'varchar(5000)', 0, 'NULL', 0),\n",
       " (8, 'popularity', 'double', 0, 'NULL', 0),\n",
       " (9, 'revenue', 'double', 0, 'NULL', 0),\n",
       " (10, 'runtime', 'double', 0, 'NULL', 0),\n",
       " (11, 'release_status', 'varchar(50)', 0, 'NULL', 0),\n",
       " (12, 'tagline', 'varchar(500)', 0, 'NULL', 0),\n",
       " (13, 'vote_average', 'double', 0, 'NULL', 0),\n",
       " (14, 'vote_count', 'INTEGER', 0, 'NULL', 0)]"
      ]
     },
     "execution_count": 33,
     "metadata": {},
     "output_type": "execute_result"
    }
   ],
   "source": [
    "%%sql \n",
    "\n",
    "PRAGMA table_info(movies);"
   ]
  },
  {
   "cell_type": "code",
   "execution_count": 38,
   "metadata": {},
   "outputs": [
    {
     "name": "stdout",
     "output_type": "stream",
     "text": [
      " * sqlite:///Dataset/TMDB.db\n",
      "Done.\n"
     ]
    },
    {
     "data": {
      "text/html": [
       "<table>\n",
       "    <thead>\n",
       "        <tr>\n",
       "            <th>sql</th>\n",
       "        </tr>\n",
       "    </thead>\n",
       "    <tbody>\n",
       "        <tr>\n",
       "            <td>CREATE TABLE `movies` (<br>  `movie_id` integer NOT NULL<br>,  `title` varchar(500) DEFAULT NULL<br>,  `release_date` datetime(6) DEFAULT NULL<br>,  `budget` integer DEFAULT NULL<br>,  `homepage` varchar(500) DEFAULT NULL<br>,  `original_language` varchar(50) DEFAULT NULL<br>,  `original_title` varchar(500) DEFAULT NULL<br>,  `overview` varchar(5000) DEFAULT NULL<br>,  `popularity` double DEFAULT NULL<br>,  `revenue` double DEFAULT NULL<br>,  `runtime` double DEFAULT NULL<br>,  `release_status` varchar(50) DEFAULT NULL<br>,  `tagline` varchar(500) DEFAULT NULL<br>,  `vote_average` double DEFAULT NULL<br>,  `vote_count` integer DEFAULT NULL<br>,  PRIMARY KEY (`movie_id`)<br>)</td>\n",
       "        </tr>\n",
       "    </tbody>\n",
       "</table>"
      ],
      "text/plain": [
       "[('CREATE TABLE `movies` (\\n  `movie_id` integer NOT NULL\\n,  `title` varchar(500) DEFAULT NULL\\n,  `release_date` datetime(6) DEFAULT NULL\\n,  `budget` ... (351 characters truncated) ... \\n,  `tagline` varchar(500) DEFAULT NULL\\n,  `vote_average` double DEFAULT NULL\\n,  `vote_count` integer DEFAULT NULL\\n,  PRIMARY KEY (`movie_id`)\\n)',)]"
      ]
     },
     "execution_count": 38,
     "metadata": {},
     "output_type": "execute_result"
    }
   ],
   "source": [
    "%%sql\n",
    "SELECT sql FROM sqlite_master WHERE type='table' AND name='movies';"
   ]
  },
  {
   "cell_type": "code",
   "execution_count": 37,
   "metadata": {},
   "outputs": [
    {
     "name": "stdout",
     "output_type": "stream",
     "text": [
      " * sqlite:///Dataset/TMDB.db\n",
      "Done.\n"
     ]
    },
    {
     "data": {
      "text/html": [
       "<table>\n",
       "    <thead>\n",
       "        <tr>\n",
       "            <th>name</th>\n",
       "        </tr>\n",
       "    </thead>\n",
       "    <tbody>\n",
       "        <tr>\n",
       "            <td>actors</td>\n",
       "        </tr>\n",
       "        <tr>\n",
       "            <td>casts</td>\n",
       "        </tr>\n",
       "        <tr>\n",
       "            <td>genremap</td>\n",
       "        </tr>\n",
       "        <tr>\n",
       "            <td>genres</td>\n",
       "        </tr>\n",
       "        <tr>\n",
       "            <td>keywordmap</td>\n",
       "        </tr>\n",
       "        <tr>\n",
       "            <td>keywords</td>\n",
       "        </tr>\n",
       "        <tr>\n",
       "            <td>languagemap</td>\n",
       "        </tr>\n",
       "        <tr>\n",
       "            <td>languages</td>\n",
       "        </tr>\n",
       "        <tr>\n",
       "            <td>movies</td>\n",
       "        </tr>\n",
       "        <tr>\n",
       "            <td>oscars</td>\n",
       "        </tr>\n",
       "        <tr>\n",
       "            <td>productioncompanies</td>\n",
       "        </tr>\n",
       "        <tr>\n",
       "            <td>productioncompanymap</td>\n",
       "        </tr>\n",
       "        <tr>\n",
       "            <td>productioncountries</td>\n",
       "        </tr>\n",
       "        <tr>\n",
       "            <td>productioncountrymap</td>\n",
       "        </tr>\n",
       "        <tr>\n",
       "            <td>sysdiagrams</td>\n",
       "        </tr>\n",
       "    </tbody>\n",
       "</table>"
      ],
      "text/plain": [
       "[('actors',),\n",
       " ('casts',),\n",
       " ('genremap',),\n",
       " ('genres',),\n",
       " ('keywordmap',),\n",
       " ('keywords',),\n",
       " ('languagemap',),\n",
       " ('languages',),\n",
       " ('movies',),\n",
       " ('oscars',),\n",
       " ('productioncompanies',),\n",
       " ('productioncompanymap',),\n",
       " ('productioncountries',),\n",
       " ('productioncountrymap',),\n",
       " ('sysdiagrams',)]"
      ]
     },
     "execution_count": 37,
     "metadata": {},
     "output_type": "execute_result"
    }
   ],
   "source": [
    "%%sql\n",
    "SELECT name FROM sqlite_master WHERE type='table';"
   ]
  },
  {
   "cell_type": "code",
   "execution_count": 41,
   "metadata": {},
   "outputs": [
    {
     "name": "stdout",
     "output_type": "stream",
     "text": [
      " * sqlite:///Dataset/TMDB.db\n",
      "Done.\n"
     ]
    },
    {
     "data": {
      "text/html": [
       "<table>\n",
       "    <thead>\n",
       "        <tr>\n",
       "            <th>movie_id</th>\n",
       "            <th>title</th>\n",
       "            <th>company_name</th>\n",
       "        </tr>\n",
       "    </thead>\n",
       "    <tbody>\n",
       "        <tr>\n",
       "            <td>12</td>\n",
       "            <td>Finding Nemo</td>\n",
       "            <td>Pixar Animation Studios</td>\n",
       "        </tr>\n",
       "        <tr>\n",
       "            <td>585</td>\n",
       "            <td>Monsters, Inc.</td>\n",
       "            <td>Pixar Animation Studios</td>\n",
       "        </tr>\n",
       "        <tr>\n",
       "            <td>862</td>\n",
       "            <td>Toy Story</td>\n",
       "            <td>Pixar Animation Studios</td>\n",
       "        </tr>\n",
       "    </tbody>\n",
       "</table>"
      ],
      "text/plain": [
       "[(12, 'Finding Nemo', 'Pixar Animation Studios'),\n",
       " (585, 'Monsters, Inc.', 'Pixar Animation Studios'),\n",
       " (862, 'Toy Story', 'Pixar Animation Studios')]"
      ]
     },
     "execution_count": 41,
     "metadata": {},
     "output_type": "execute_result"
    }
   ],
   "source": [
    "%%sql\n",
    "SELECT m.movie_id, m.title, pc.production_company_name as company_name from movies as m\n",
    "LEFT JOIN productioncompanymap as pcm ON pcm.movie_id = m.movie_id\n",
    "LEFT JOIN productioncompanies as pc ON pc.production_company_id = pcm.production_company_id\n",
    "WHERE company_name = \"Pixar Animation Studios\"\n",
    "LIMIT 3;"
   ]
  },
  {
   "cell_type": "code",
   "execution_count": 42,
   "metadata": {},
   "outputs": [
    {
     "name": "stdout",
     "output_type": "stream",
     "text": [
      " * sqlite:///Dataset/TMDB.db\n",
      "Done.\n"
     ]
    },
    {
     "data": {
      "text/html": [
       "<table>\n",
       "    <thead>\n",
       "        <tr>\n",
       "            <th>number of movies by Pixar Animations</th>\n",
       "        </tr>\n",
       "    </thead>\n",
       "    <tbody>\n",
       "        <tr>\n",
       "            <td>16</td>\n",
       "        </tr>\n",
       "    </tbody>\n",
       "</table>"
      ],
      "text/plain": [
       "[(16,)]"
      ]
     },
     "execution_count": 42,
     "metadata": {},
     "output_type": "execute_result"
    }
   ],
   "source": [
    "%%sql\n",
    "SELECT COUNT(*) as 'number of movies by Pixar Animations' from movies as m\n",
    "LEFT JOIN productioncompanymap as pcm ON pcm.movie_id = m.movie_id\n",
    "LEFT JOIN productioncompanies as pc ON pc.production_company_id = pcm.production_company_id\n",
    "WHERE pc.production_company_name = \"Pixar Animation Studios\"\n",
    "LIMIT 3;"
   ]
  },
  {
   "cell_type": "markdown",
   "metadata": {
    "id": "_ewCIJeBJqn2"
   },
   "source": [
    "### Question 20\n",
    "How many movies are in the database that are both a Romance and a Comedy?\n"
   ]
  },
  {
   "cell_type": "code",
   "execution_count": 78,
   "metadata": {
    "id": "4plDKomDJqn2"
   },
   "outputs": [
    {
     "name": "stdout",
     "output_type": "stream",
     "text": [
      " * sqlite:///Dataset/TMDB.db\n",
      "(sqlite3.OperationalError) near \"WHERE\": syntax error\n",
      "[SQL: --SELECT COUNT(*) as 'Movies that are both Romance and Comedy' from movies as m\n",
      "SELECT m.movie_id, m.title, g.genre_name from movies as m\n",
      "LEFT JOIN genremap as gm ON gm.movie_id = m.movie_id\n",
      "LEFT JOIN genres as g ON g.genre_id = gm.genre_id\n",
      "LEFT JOIN genremap as gm1 ON gm1.movie_id = m.movie_id\n",
      "LEFT JOIN genres as g1 ON g1.genre_id = gm.genre_id\n",
      "WHERE g.genre_name = \"Romance\" AND\n",
      "WHERE g1.genre_name = \"Comedy\"\n",
      "LIMIT 3;]\n",
      "(Background on this error at: https://sqlalche.me/e/20/e3q8)\n"
     ]
    }
   ],
   "source": [
    "%%sql \n",
    "--SELECT COUNT(*) as 'Movies that are both Romance and Comedy' from movies as m\n",
    "SELECT m.movie_id, m.title, g.genre_name from movies as m\n",
    "LEFT JOIN genremap as gm ON gm.movie_id = m.movie_id\n",
    "LEFT JOIN genres as g ON g.genre_id = gm.genre_id\n",
    "LEFT JOIN genremap as gm1 ON gm1.movie_id = m.movie_id\n",
    "LEFT JOIN genres as g1 ON g1.genre_id = gm.genre_id\n",
    "WHERE g.genre_name = \"Romance\" AND\n",
    "WHERE g1.genre_name = \"Comedy\"\n",
    "LIMIT 3;"
   ]
  },
  {
   "cell_type": "code",
   "execution_count": 79,
   "metadata": {},
   "outputs": [
    {
     "name": "stdout",
     "output_type": "stream",
     "text": [
      " * sqlite:///Dataset/TMDB.db\n",
      "Done.\n"
     ]
    },
    {
     "data": {
      "text/html": [
       "<table>\n",
       "    <thead>\n",
       "        <tr>\n",
       "            <th>rom_com_movies</th>\n",
       "        </tr>\n",
       "    </thead>\n",
       "    <tbody>\n",
       "        <tr>\n",
       "            <td>484</td>\n",
       "        </tr>\n",
       "    </tbody>\n",
       "</table>"
      ],
      "text/plain": [
       "[(484,)]"
      ]
     },
     "execution_count": 79,
     "metadata": {},
     "output_type": "execute_result"
    }
   ],
   "source": [
    "%%sql\n",
    "-- This subquery finds all movies that are both \"Romance\" and \"Comedy\"\n",
    "SELECT COUNT(*)  AS rom_com_movies\n",
    "FROM (\n",
    "    -- Select movie_id from genremap table as gm1\n",
    "    SELECT gm1.movie_id\n",
    "    FROM genremap gm1\n",
    "    -- Join genres table as g1 to filter movies with genre \"Romance\"\n",
    "    JOIN genres g1 ON gm1.genre_id = g1.genre_id\n",
    "    -- Join genremap table again as gm2 to find the same movies with another genre\n",
    "    JOIN genremap gm2 ON gm1.movie_id = gm2.movie_id\n",
    "    -- Join genres table as g2 to filter movies with genre \"Comedy\"\n",
    "    JOIN genres g2 ON gm2.genre_id = g2.genre_id\n",
    "    -- Filter to keep only \"Romance\" and \"Comedy\" genres\n",
    "    WHERE g1.genre_name = 'Romance' AND g2.genre_name = 'Comedy'\n",
    ");\n"
   ]
  },
  {
   "cell_type": "markdown",
   "metadata": {
    "id": "SRlyr7qcJqn2"
   },
   "source": [
    "### Question 21\n",
    "What is the most popular action movie that has some German in it? (Hint: The German word for German is Deutsch)"
   ]
  },
  {
   "cell_type": "code",
   "execution_count": 86,
   "metadata": {
    "id": "9aS6m4uxJqn3"
   },
   "outputs": [
    {
     "name": "stdout",
     "output_type": "stream",
     "text": [
      " * sqlite:///Dataset/TMDB.db\n",
      "Done.\n"
     ]
    },
    {
     "data": {
      "text/html": [
       "<table>\n",
       "    <thead>\n",
       "        <tr>\n",
       "            <th>title</th>\n",
       "            <th>popularity</th>\n",
       "            <th>language_name</th>\n",
       "        </tr>\n",
       "    </thead>\n",
       "    <tbody>\n",
       "        <tr>\n",
       "            <td>Captain America: Civil War</td>\n",
       "            <td>198.372395</td>\n",
       "            <td>Deutsch</td>\n",
       "        </tr>\n",
       "        <tr>\n",
       "            <td>Mission: Impossible - Rogue Nation</td>\n",
       "            <td>114.522237</td>\n",
       "            <td>Deutsch</td>\n",
       "        </tr>\n",
       "        <tr>\n",
       "            <td>The Fifth Element</td>\n",
       "            <td>109.528572</td>\n",
       "            <td>Deutsch</td>\n",
       "        </tr>\n",
       "    </tbody>\n",
       "</table>"
      ],
      "text/plain": [
       "[('Captain America: Civil War', 198.372395, 'Deutsch'),\n",
       " ('Mission: Impossible - Rogue Nation', 114.522237, 'Deutsch'),\n",
       " ('The Fifth Element', 109.528572, 'Deutsch')]"
      ]
     },
     "execution_count": 86,
     "metadata": {},
     "output_type": "execute_result"
    }
   ],
   "source": [
    "%%sql \n",
    "SELECT m.title, m.popularity, l.language_name from movies as m\n",
    "INNER JOIN languagemap as lm ON lm.movie_id = m.movie_id\n",
    "INNER JOIN languages as l ON l.iso_639_1 = lm.iso_639_1\n",
    "WHERE l.language_name = \"Deutsch\"\n",
    "ORDER BY m.popularity DESC\n",
    "LIMIT 3"
   ]
  },
  {
   "cell_type": "markdown",
   "metadata": {
    "id": "1z4656wQJqn3"
   },
   "source": [
    "### Question 22\n",
    "In how many movies did Tom Cruise portray the character Ethan Hunt?\n",
    "\n"
   ]
  },
  {
   "cell_type": "code",
   "execution_count": 92,
   "metadata": {
    "id": "CiuwUD-NJqn3"
   },
   "outputs": [
    {
     "name": "stdout",
     "output_type": "stream",
     "text": [
      " * sqlite:///Dataset/TMDB.db\n",
      "Done.\n"
     ]
    },
    {
     "data": {
      "text/html": [
       "<table>\n",
       "    <thead>\n",
       "        <tr>\n",
       "            <th>characters</th>\n",
       "            <th>actor_name</th>\n",
       "            <th>title</th>\n",
       "        </tr>\n",
       "    </thead>\n",
       "    <tbody>\n",
       "        <tr>\n",
       "            <td>Ethan Hunt</td>\n",
       "            <td>Tom Cruise</td>\n",
       "            <td>Mission: Impossible</td>\n",
       "        </tr>\n",
       "        <tr>\n",
       "            <td>Ethan Hunt</td>\n",
       "            <td>Tom Cruise</td>\n",
       "            <td>Mission: Impossible II</td>\n",
       "        </tr>\n",
       "        <tr>\n",
       "            <td>Ethan Hunt</td>\n",
       "            <td>Tom Cruise</td>\n",
       "            <td>Mission: Impossible III</td>\n",
       "        </tr>\n",
       "        <tr>\n",
       "            <td>Ethan Hunt</td>\n",
       "            <td>Tom Cruise</td>\n",
       "            <td>Mission: Impossible - Ghost Protocol</td>\n",
       "        </tr>\n",
       "        <tr>\n",
       "            <td>Ethan Hunt</td>\n",
       "            <td>Tom Cruise</td>\n",
       "            <td>Mission: Impossible - Rogue Nation</td>\n",
       "        </tr>\n",
       "    </tbody>\n",
       "</table>"
      ],
      "text/plain": [
       "[('Ethan Hunt', 'Tom Cruise', 'Mission: Impossible'),\n",
       " ('Ethan Hunt', 'Tom Cruise', 'Mission: Impossible II'),\n",
       " ('Ethan Hunt', 'Tom Cruise', 'Mission: Impossible III'),\n",
       " ('Ethan Hunt', 'Tom Cruise', 'Mission: Impossible - Ghost Protocol'),\n",
       " ('Ethan Hunt', 'Tom Cruise', 'Mission: Impossible - Rogue Nation')]"
      ]
     },
     "execution_count": 92,
     "metadata": {},
     "output_type": "execute_result"
    }
   ],
   "source": [
    "%%sql \n",
    "SELECT c.characters, a.actor_name, m.title FROM movies as m\n",
    "INNER JOIN casts as c ON c.movie_id = m.movie_id\n",
    "INNER JOIN actors as a ON a.actor_id = c.actor_id\n",
    "WHERE a.actor_name = \"Tom Cruise\" and c.characters = \"Ethan Hunt\"\n",
    "LIMIT 10;"
   ]
  },
  {
   "cell_type": "markdown",
   "metadata": {
    "id": "cUsRwRKJJqn3"
   },
   "source": [
    "### Question 23 \n",
    "How many times was the actress Cate Blanchett nominated for an Oscar?"
   ]
  },
  {
   "cell_type": "code",
   "execution_count": 93,
   "metadata": {
    "id": "JV_kvB2nJqn3"
   },
   "outputs": [
    {
     "name": "stdout",
     "output_type": "stream",
     "text": [
      " * sqlite:///Dataset/TMDB.db\n",
      "Done.\n"
     ]
    },
    {
     "data": {
      "text/html": [
       "<table>\n",
       "    <thead>\n",
       "        <tr>\n",
       "            <th>year</th>\n",
       "            <th>award</th>\n",
       "            <th>winner</th>\n",
       "            <th>name</th>\n",
       "            <th>film</th>\n",
       "        </tr>\n",
       "    </thead>\n",
       "    <tbody>\n",
       "        <tr>\n",
       "            <td>1998</td>\n",
       "            <td>Actress in a Leading Role</td>\n",
       "            <td>None</td>\n",
       "            <td>Cate Blanchett</td>\n",
       "            <td>Elizabeth</td>\n",
       "        </tr>\n",
       "        <tr>\n",
       "            <td>2004</td>\n",
       "            <td>Actress in a Supporting Role</td>\n",
       "            <td>1.0</td>\n",
       "            <td>Cate Blanchett</td>\n",
       "            <td>The Aviator</td>\n",
       "        </tr>\n",
       "        <tr>\n",
       "            <td>2006</td>\n",
       "            <td>Actress in a Supporting Role</td>\n",
       "            <td>None</td>\n",
       "            <td>Cate Blanchett</td>\n",
       "            <td>Notes on a Scandal</td>\n",
       "        </tr>\n",
       "        <tr>\n",
       "            <td>2007</td>\n",
       "            <td>Actress in a Leading Role</td>\n",
       "            <td>None</td>\n",
       "            <td>Cate Blanchett</td>\n",
       "            <td>Elizabeth: The Golden Age</td>\n",
       "        </tr>\n",
       "        <tr>\n",
       "            <td>2007</td>\n",
       "            <td>Actress in a Supporting Role</td>\n",
       "            <td>None</td>\n",
       "            <td>Cate Blanchett</td>\n",
       "            <td>I&#x27;m Not There</td>\n",
       "        </tr>\n",
       "        <tr>\n",
       "            <td>2013</td>\n",
       "            <td>Actress in a Leading Role</td>\n",
       "            <td>1.0</td>\n",
       "            <td>Cate Blanchett</td>\n",
       "            <td>Blue Jasmine</td>\n",
       "        </tr>\n",
       "        <tr>\n",
       "            <td>2015</td>\n",
       "            <td>Actress in a Leading Role</td>\n",
       "            <td>None</td>\n",
       "            <td>Cate Blanchett</td>\n",
       "            <td>Carol</td>\n",
       "        </tr>\n",
       "    </tbody>\n",
       "</table>"
      ],
      "text/plain": [
       "[('1998', 'Actress in a Leading Role', None, 'Cate Blanchett', 'Elizabeth'),\n",
       " ('2004', 'Actress in a Supporting Role', '1.0', 'Cate Blanchett', 'The Aviator'),\n",
       " ('2006', 'Actress in a Supporting Role', None, 'Cate Blanchett', 'Notes on a Scandal'),\n",
       " ('2007', 'Actress in a Leading Role', None, 'Cate Blanchett', 'Elizabeth: The Golden Age'),\n",
       " ('2007', 'Actress in a Supporting Role', None, 'Cate Blanchett', \"I'm Not There\"),\n",
       " ('2013', 'Actress in a Leading Role', '1.0', 'Cate Blanchett', 'Blue Jasmine'),\n",
       " ('2015', 'Actress in a Leading Role', None, 'Cate Blanchett', 'Carol')]"
      ]
     },
     "execution_count": 93,
     "metadata": {},
     "output_type": "execute_result"
    }
   ],
   "source": [
    "%%sql \n",
    "SELECT * from oscars as o\n",
    "WHERE o.name = \"Cate Blanchett\"\n",
    "LIMIT 10;"
   ]
  },
  {
   "cell_type": "markdown",
   "metadata": {
    "id": "W8AUQIETJqn4"
   },
   "source": [
    "### Question 24\n",
    "How many movies contain at least one of the official South African Languages, Afrikaans or Zulu?"
   ]
  },
  {
   "cell_type": "code",
   "execution_count": 107,
   "metadata": {
    "id": "VzRS8ueKJqn4"
   },
   "outputs": [
    {
     "name": "stdout",
     "output_type": "stream",
     "text": [
      " * sqlite:///Dataset/TMDB.db\n",
      "Done.\n"
     ]
    },
    {
     "data": {
      "text/html": [
       "<table>\n",
       "    <thead>\n",
       "        <tr>\n",
       "            <th>title</th>\n",
       "            <th>popularity</th>\n",
       "            <th>language_name</th>\n",
       "        </tr>\n",
       "    </thead>\n",
       "    <tbody>\n",
       "        <tr>\n",
       "            <td>Tsotsi</td>\n",
       "            <td>2.504169</td>\n",
       "            <td>Afrikaans</td>\n",
       "        </tr>\n",
       "        <tr>\n",
       "            <td>Catch a Fire</td>\n",
       "            <td>4.052219</td>\n",
       "            <td>Afrikaans</td>\n",
       "        </tr>\n",
       "        <tr>\n",
       "            <td>Blood Diamond</td>\n",
       "            <td>52.792678</td>\n",
       "            <td>Afrikaans</td>\n",
       "        </tr>\n",
       "        <tr>\n",
       "            <td>District 9</td>\n",
       "            <td>63.13678</td>\n",
       "            <td>Afrikaans</td>\n",
       "        </tr>\n",
       "        <tr>\n",
       "            <td>Gangster&#x27;s Paradise: Jerusalema</td>\n",
       "            <td>1.717376</td>\n",
       "            <td>Afrikaans</td>\n",
       "        </tr>\n",
       "        <tr>\n",
       "            <td>Safe House</td>\n",
       "            <td>34.773106</td>\n",
       "            <td>Afrikaans</td>\n",
       "        </tr>\n",
       "        <tr>\n",
       "            <td>Mandela: Long Walk to Freedom</td>\n",
       "            <td>15.50957</td>\n",
       "            <td>Afrikaans</td>\n",
       "        </tr>\n",
       "        <tr>\n",
       "            <td>Tsotsi</td>\n",
       "            <td>2.504169</td>\n",
       "            <td>isiZulu</td>\n",
       "        </tr>\n",
       "        <tr>\n",
       "            <td>Catch a Fire</td>\n",
       "            <td>4.052219</td>\n",
       "            <td>isiZulu</td>\n",
       "        </tr>\n",
       "        <tr>\n",
       "            <td>District 9</td>\n",
       "            <td>63.13678</td>\n",
       "            <td>isiZulu</td>\n",
       "        </tr>\n",
       "        <tr>\n",
       "            <td>Faith Like Potatoes</td>\n",
       "            <td>0.147886</td>\n",
       "            <td>isiZulu</td>\n",
       "        </tr>\n",
       "    </tbody>\n",
       "</table>"
      ],
      "text/plain": [
       "[('Tsotsi', 2.504169, 'Afrikaans'),\n",
       " ('Catch a Fire', 4.052219, 'Afrikaans'),\n",
       " ('Blood Diamond', 52.792678, 'Afrikaans'),\n",
       " ('District 9', 63.13678, 'Afrikaans'),\n",
       " (\"Gangster's Paradise: Jerusalema\", 1.717376, 'Afrikaans'),\n",
       " ('Safe House', 34.773106, 'Afrikaans'),\n",
       " ('Mandela: Long Walk to Freedom', 15.50957, 'Afrikaans'),\n",
       " ('Tsotsi', 2.504169, 'isiZulu'),\n",
       " ('Catch a Fire', 4.052219, 'isiZulu'),\n",
       " ('District 9', 63.13678, 'isiZulu'),\n",
       " ('Faith Like Potatoes', 0.147886, 'isiZulu')]"
      ]
     },
     "execution_count": 107,
     "metadata": {},
     "output_type": "execute_result"
    }
   ],
   "source": [
    "%%sql \n",
    "\n",
    "SELECT m.title, m.popularity, l.language_name from movies as m\n",
    "INNER JOIN languagemap as lm ON lm.movie_id = m.movie_id\n",
    "INNER JOIN languages as l ON l.iso_639_1 = lm.iso_639_1\n",
    "WHERE l.language_name in (\"Afrikaans\", \"isiZulu\")\n",
    "LIMIT 15"
   ]
  },
  {
   "cell_type": "code",
   "execution_count": 105,
   "metadata": {},
   "outputs": [
    {
     "name": "stdout",
     "output_type": "stream",
     "text": [
      " * sqlite:///Dataset/TMDB.db\n",
      "Done.\n"
     ]
    },
    {
     "data": {
      "text/html": [
       "<table>\n",
       "    <thead>\n",
       "        <tr>\n",
       "            <th>movie_count</th>\n",
       "        </tr>\n",
       "    </thead>\n",
       "    <tbody>\n",
       "        <tr>\n",
       "            <td>8</td>\n",
       "        </tr>\n",
       "    </tbody>\n",
       "</table>"
      ],
      "text/plain": [
       "[(8,)]"
      ]
     },
     "execution_count": 105,
     "metadata": {},
     "output_type": "execute_result"
    }
   ],
   "source": [
    "%%sql\n",
    "\n",
    "SELECT COUNT(DISTINCT m.movie_id) as movie_count\n",
    "FROM movies as m\n",
    "INNER JOIN languagemap as lm ON lm.movie_id = m.movie_id\n",
    "INNER JOIN languages as l ON l.iso_639_1 = lm.iso_639_1\n",
    "WHERE l.language_name IN (\"Afrikaans\", \"isiZulu\");"
   ]
  },
  {
   "cell_type": "markdown",
   "metadata": {
    "id": "F_qQO_h7Jqn4"
   },
   "source": [
    "### Question 25\n",
    "Which of the movies mentioned above is the most popular?\n"
   ]
  },
  {
   "cell_type": "code",
   "execution_count": 114,
   "metadata": {},
   "outputs": [
    {
     "name": "stdout",
     "output_type": "stream",
     "text": [
      " * sqlite:///Dataset/TMDB.db\n",
      "Done.\n"
     ]
    },
    {
     "data": {
      "text/html": [
       "<table>\n",
       "    <thead>\n",
       "        <tr>\n",
       "            <th>title</th>\n",
       "            <th>language_name</th>\n",
       "            <th>popularity</th>\n",
       "        </tr>\n",
       "    </thead>\n",
       "    <tbody>\n",
       "        <tr>\n",
       "            <td>District 9</td>\n",
       "            <td>Afrikaans</td>\n",
       "            <td>63.13678</td>\n",
       "        </tr>\n",
       "        <tr>\n",
       "            <td>District 9</td>\n",
       "            <td>isiZulu</td>\n",
       "            <td>63.13678</td>\n",
       "        </tr>\n",
       "        <tr>\n",
       "            <td>Blood Diamond</td>\n",
       "            <td>Afrikaans</td>\n",
       "            <td>52.792678</td>\n",
       "        </tr>\n",
       "        <tr>\n",
       "            <td>Safe House</td>\n",
       "            <td>Afrikaans</td>\n",
       "            <td>34.773106</td>\n",
       "        </tr>\n",
       "        <tr>\n",
       "            <td>Mandela: Long Walk to Freedom</td>\n",
       "            <td>Afrikaans</td>\n",
       "            <td>15.50957</td>\n",
       "        </tr>\n",
       "        <tr>\n",
       "            <td>Catch a Fire</td>\n",
       "            <td>Afrikaans</td>\n",
       "            <td>4.052219</td>\n",
       "        </tr>\n",
       "        <tr>\n",
       "            <td>Catch a Fire</td>\n",
       "            <td>isiZulu</td>\n",
       "            <td>4.052219</td>\n",
       "        </tr>\n",
       "        <tr>\n",
       "            <td>Tsotsi</td>\n",
       "            <td>Afrikaans</td>\n",
       "            <td>2.504169</td>\n",
       "        </tr>\n",
       "        <tr>\n",
       "            <td>Tsotsi</td>\n",
       "            <td>isiZulu</td>\n",
       "            <td>2.504169</td>\n",
       "        </tr>\n",
       "        <tr>\n",
       "            <td>Gangster&#x27;s Paradise: Jerusalema</td>\n",
       "            <td>Afrikaans</td>\n",
       "            <td>1.717376</td>\n",
       "        </tr>\n",
       "        <tr>\n",
       "            <td>Faith Like Potatoes</td>\n",
       "            <td>isiZulu</td>\n",
       "            <td>0.147886</td>\n",
       "        </tr>\n",
       "    </tbody>\n",
       "</table>"
      ],
      "text/plain": [
       "[('District 9', 'Afrikaans', 63.13678),\n",
       " ('District 9', 'isiZulu', 63.13678),\n",
       " ('Blood Diamond', 'Afrikaans', 52.792678),\n",
       " ('Safe House', 'Afrikaans', 34.773106),\n",
       " ('Mandela: Long Walk to Freedom', 'Afrikaans', 15.50957),\n",
       " ('Catch a Fire', 'Afrikaans', 4.052219),\n",
       " ('Catch a Fire', 'isiZulu', 4.052219),\n",
       " ('Tsotsi', 'Afrikaans', 2.504169),\n",
       " ('Tsotsi', 'isiZulu', 2.504169),\n",
       " (\"Gangster's Paradise: Jerusalema\", 'Afrikaans', 1.717376),\n",
       " ('Faith Like Potatoes', 'isiZulu', 0.147886)]"
      ]
     },
     "execution_count": 114,
     "metadata": {},
     "output_type": "execute_result"
    }
   ],
   "source": [
    "%%sql\n",
    "SELECT DISTINCT m.title, l.language_name, m.popularity\n",
    "FROM movies AS m\n",
    "INNER JOIN LanguageMap AS lm ON m.movie_id = lm.movie_id\n",
    "INNER JOIN Languages AS l ON lm.iso_639_1 = l.iso_639_1\n",
    "WHERE l.language_name = 'Afrikaans'\n",
    "   OR l.language_name = 'isiZulu'\n",
    "ORDER BY m.popularity DESC"
   ]
  },
  {
   "cell_type": "markdown",
   "metadata": {
    "id": "eJltWXG3Jqn5"
   },
   "source": [
    "### Question 26\n",
    "What would be the code to change the name of the language with the ‘zh’ iso code in the “language” table to ‘Chinese’?\n"
   ]
  },
  {
   "cell_type": "code",
   "execution_count": 116,
   "metadata": {
    "id": "1mxP-GuPJqn5"
   },
   "outputs": [
    {
     "name": "stdout",
     "output_type": "stream",
     "text": [
      " * sqlite:///Dataset/TMDB.db\n",
      "Done.\n"
     ]
    },
    {
     "data": {
      "text/html": [
       "<table>\n",
       "    <thead>\n",
       "        <tr>\n",
       "            <th>iso_639_1</th>\n",
       "            <th>language_name</th>\n",
       "        </tr>\n",
       "    </thead>\n",
       "    <tbody>\n",
       "        <tr>\n",
       "            <td>zh</td>\n",
       "            <td>???</td>\n",
       "        </tr>\n",
       "    </tbody>\n",
       "</table>"
      ],
      "text/plain": [
       "[('zh', '???')]"
      ]
     },
     "execution_count": 116,
     "metadata": {},
     "output_type": "execute_result"
    }
   ],
   "source": [
    "%%sql \n",
    "SELECT * FROM languages where iso_639_1 = 'zh'"
   ]
  },
  {
   "cell_type": "code",
   "execution_count": 118,
   "metadata": {},
   "outputs": [
    {
     "name": "stdout",
     "output_type": "stream",
     "text": [
      " * sqlite:///Dataset/TMDB.db\n",
      "1 rows affected.\n"
     ]
    },
    {
     "data": {
      "text/plain": [
       "[]"
      ]
     },
     "execution_count": 118,
     "metadata": {},
     "output_type": "execute_result"
    }
   ],
   "source": [
    "%%sql\n",
    "UPDATE languages SET language_name = 'Chinese' WHERE iso_639_1 = 'zh'"
   ]
  },
  {
   "cell_type": "code",
   "execution_count": 119,
   "metadata": {},
   "outputs": [
    {
     "name": "stdout",
     "output_type": "stream",
     "text": [
      " * sqlite:///Dataset/TMDB.db\n",
      "Done.\n"
     ]
    },
    {
     "data": {
      "text/html": [
       "<table>\n",
       "    <thead>\n",
       "        <tr>\n",
       "            <th>iso_639_1</th>\n",
       "            <th>language_name</th>\n",
       "        </tr>\n",
       "    </thead>\n",
       "    <tbody>\n",
       "        <tr>\n",
       "            <td>zh</td>\n",
       "            <td>Chinese</td>\n",
       "        </tr>\n",
       "    </tbody>\n",
       "</table>"
      ],
      "text/plain": [
       "[('zh', 'Chinese')]"
      ]
     },
     "execution_count": 119,
     "metadata": {},
     "output_type": "execute_result"
    }
   ],
   "source": [
    "%%sql \n",
    "SELECT * FROM languages where iso_639_1 = 'zh'"
   ]
  },
  {
   "cell_type": "markdown",
   "metadata": {
    "id": "B2vmIMtTJqn5"
   },
   "source": [
    "### Question 27\n",
    "What would be the code to insert a new genre called ‘Sport’ with an id of 10? \n"
   ]
  },
  {
   "cell_type": "code",
   "execution_count": 120,
   "metadata": {
    "id": "KxHhto3QJqn5"
   },
   "outputs": [
    {
     "name": "stdout",
     "output_type": "stream",
     "text": [
      " * sqlite:///Dataset/TMDB.db\n",
      "Done.\n"
     ]
    },
    {
     "data": {
      "text/html": [
       "<table>\n",
       "    <thead>\n",
       "        <tr>\n",
       "            <th>genre_id</th>\n",
       "            <th>genre_name</th>\n",
       "        </tr>\n",
       "    </thead>\n",
       "    <tbody>\n",
       "        <tr>\n",
       "            <td>12</td>\n",
       "            <td>Adventure</td>\n",
       "        </tr>\n",
       "        <tr>\n",
       "            <td>14</td>\n",
       "            <td>Fantasy</td>\n",
       "        </tr>\n",
       "        <tr>\n",
       "            <td>16</td>\n",
       "            <td>Animation</td>\n",
       "        </tr>\n",
       "        <tr>\n",
       "            <td>18</td>\n",
       "            <td>Drama</td>\n",
       "        </tr>\n",
       "        <tr>\n",
       "            <td>27</td>\n",
       "            <td>Horror</td>\n",
       "        </tr>\n",
       "        <tr>\n",
       "            <td>28</td>\n",
       "            <td>Action</td>\n",
       "        </tr>\n",
       "        <tr>\n",
       "            <td>35</td>\n",
       "            <td>Comedy</td>\n",
       "        </tr>\n",
       "        <tr>\n",
       "            <td>36</td>\n",
       "            <td>History</td>\n",
       "        </tr>\n",
       "        <tr>\n",
       "            <td>37</td>\n",
       "            <td>Western</td>\n",
       "        </tr>\n",
       "        <tr>\n",
       "            <td>53</td>\n",
       "            <td>Thriller</td>\n",
       "        </tr>\n",
       "        <tr>\n",
       "            <td>80</td>\n",
       "            <td>Crime</td>\n",
       "        </tr>\n",
       "        <tr>\n",
       "            <td>99</td>\n",
       "            <td>Documentary</td>\n",
       "        </tr>\n",
       "        <tr>\n",
       "            <td>878</td>\n",
       "            <td>Science Fiction</td>\n",
       "        </tr>\n",
       "        <tr>\n",
       "            <td>9648</td>\n",
       "            <td>Mystery</td>\n",
       "        </tr>\n",
       "        <tr>\n",
       "            <td>10402</td>\n",
       "            <td>Music</td>\n",
       "        </tr>\n",
       "        <tr>\n",
       "            <td>10749</td>\n",
       "            <td>Romance</td>\n",
       "        </tr>\n",
       "        <tr>\n",
       "            <td>10751</td>\n",
       "            <td>Family</td>\n",
       "        </tr>\n",
       "        <tr>\n",
       "            <td>10752</td>\n",
       "            <td>War</td>\n",
       "        </tr>\n",
       "        <tr>\n",
       "            <td>10769</td>\n",
       "            <td>Foreign</td>\n",
       "        </tr>\n",
       "        <tr>\n",
       "            <td>10770</td>\n",
       "            <td>TV Movie</td>\n",
       "        </tr>\n",
       "    </tbody>\n",
       "</table>"
      ],
      "text/plain": [
       "[(12, 'Adventure'),\n",
       " (14, 'Fantasy'),\n",
       " (16, 'Animation'),\n",
       " (18, 'Drama'),\n",
       " (27, 'Horror'),\n",
       " (28, 'Action'),\n",
       " (35, 'Comedy'),\n",
       " (36, 'History'),\n",
       " (37, 'Western'),\n",
       " (53, 'Thriller'),\n",
       " (80, 'Crime'),\n",
       " (99, 'Documentary'),\n",
       " (878, 'Science Fiction'),\n",
       " (9648, 'Mystery'),\n",
       " (10402, 'Music'),\n",
       " (10749, 'Romance'),\n",
       " (10751, 'Family'),\n",
       " (10752, 'War'),\n",
       " (10769, 'Foreign'),\n",
       " (10770, 'TV Movie')]"
      ]
     },
     "execution_count": 120,
     "metadata": {},
     "output_type": "execute_result"
    }
   ],
   "source": [
    "%%sql \n",
    "SELECT * from genres"
   ]
  },
  {
   "cell_type": "code",
   "execution_count": 121,
   "metadata": {},
   "outputs": [
    {
     "name": "stdout",
     "output_type": "stream",
     "text": [
      " * sqlite:///Dataset/TMDB.db\n",
      "1 rows affected.\n"
     ]
    },
    {
     "data": {
      "text/plain": [
       "[]"
      ]
     },
     "execution_count": 121,
     "metadata": {},
     "output_type": "execute_result"
    }
   ],
   "source": [
    "%%sql\n",
    "INSERT INTO genres (genre_id, genre_name) Values (10, 'Sport') "
   ]
  },
  {
   "cell_type": "code",
   "execution_count": 122,
   "metadata": {},
   "outputs": [
    {
     "name": "stdout",
     "output_type": "stream",
     "text": [
      " * sqlite:///Dataset/TMDB.db\n",
      "Done.\n"
     ]
    },
    {
     "data": {
      "text/html": [
       "<table>\n",
       "    <thead>\n",
       "        <tr>\n",
       "            <th>genre_id</th>\n",
       "            <th>genre_name</th>\n",
       "        </tr>\n",
       "    </thead>\n",
       "    <tbody>\n",
       "        <tr>\n",
       "            <td>10</td>\n",
       "            <td>Sport</td>\n",
       "        </tr>\n",
       "        <tr>\n",
       "            <td>12</td>\n",
       "            <td>Adventure</td>\n",
       "        </tr>\n",
       "        <tr>\n",
       "            <td>14</td>\n",
       "            <td>Fantasy</td>\n",
       "        </tr>\n",
       "        <tr>\n",
       "            <td>16</td>\n",
       "            <td>Animation</td>\n",
       "        </tr>\n",
       "        <tr>\n",
       "            <td>18</td>\n",
       "            <td>Drama</td>\n",
       "        </tr>\n",
       "        <tr>\n",
       "            <td>27</td>\n",
       "            <td>Horror</td>\n",
       "        </tr>\n",
       "        <tr>\n",
       "            <td>28</td>\n",
       "            <td>Action</td>\n",
       "        </tr>\n",
       "        <tr>\n",
       "            <td>35</td>\n",
       "            <td>Comedy</td>\n",
       "        </tr>\n",
       "        <tr>\n",
       "            <td>36</td>\n",
       "            <td>History</td>\n",
       "        </tr>\n",
       "        <tr>\n",
       "            <td>37</td>\n",
       "            <td>Western</td>\n",
       "        </tr>\n",
       "        <tr>\n",
       "            <td>53</td>\n",
       "            <td>Thriller</td>\n",
       "        </tr>\n",
       "        <tr>\n",
       "            <td>80</td>\n",
       "            <td>Crime</td>\n",
       "        </tr>\n",
       "        <tr>\n",
       "            <td>99</td>\n",
       "            <td>Documentary</td>\n",
       "        </tr>\n",
       "        <tr>\n",
       "            <td>878</td>\n",
       "            <td>Science Fiction</td>\n",
       "        </tr>\n",
       "        <tr>\n",
       "            <td>9648</td>\n",
       "            <td>Mystery</td>\n",
       "        </tr>\n",
       "        <tr>\n",
       "            <td>10402</td>\n",
       "            <td>Music</td>\n",
       "        </tr>\n",
       "        <tr>\n",
       "            <td>10749</td>\n",
       "            <td>Romance</td>\n",
       "        </tr>\n",
       "        <tr>\n",
       "            <td>10751</td>\n",
       "            <td>Family</td>\n",
       "        </tr>\n",
       "        <tr>\n",
       "            <td>10752</td>\n",
       "            <td>War</td>\n",
       "        </tr>\n",
       "        <tr>\n",
       "            <td>10769</td>\n",
       "            <td>Foreign</td>\n",
       "        </tr>\n",
       "        <tr>\n",
       "            <td>10770</td>\n",
       "            <td>TV Movie</td>\n",
       "        </tr>\n",
       "    </tbody>\n",
       "</table>"
      ],
      "text/plain": [
       "[(10, 'Sport'),\n",
       " (12, 'Adventure'),\n",
       " (14, 'Fantasy'),\n",
       " (16, 'Animation'),\n",
       " (18, 'Drama'),\n",
       " (27, 'Horror'),\n",
       " (28, 'Action'),\n",
       " (35, 'Comedy'),\n",
       " (36, 'History'),\n",
       " (37, 'Western'),\n",
       " (53, 'Thriller'),\n",
       " (80, 'Crime'),\n",
       " (99, 'Documentary'),\n",
       " (878, 'Science Fiction'),\n",
       " (9648, 'Mystery'),\n",
       " (10402, 'Music'),\n",
       " (10749, 'Romance'),\n",
       " (10751, 'Family'),\n",
       " (10752, 'War'),\n",
       " (10769, 'Foreign'),\n",
       " (10770, 'TV Movie')]"
      ]
     },
     "execution_count": 122,
     "metadata": {},
     "output_type": "execute_result"
    }
   ],
   "source": [
    "%%sql \n",
    "SELECT * from genres"
   ]
  },
  {
   "cell_type": "markdown",
   "metadata": {
    "id": "wJLGKPNqJqn5"
   },
   "source": [
    "### Question 28 \n",
    "You have just watched The Flintstones movie and did not find it very funny. What code would delete the entry that links The Flintstones to the Comedy genre?\n"
   ]
  },
  {
   "cell_type": "code",
   "execution_count": 127,
   "metadata": {
    "id": "ClMS3iSiJqn5"
   },
   "outputs": [
    {
     "name": "stdout",
     "output_type": "stream",
     "text": [
      " * sqlite:///Dataset/TMDB.db\n",
      "Done.\n"
     ]
    },
    {
     "data": {
      "text/html": [
       "<table>\n",
       "    <thead>\n",
       "        <tr>\n",
       "            <th>title</th>\n",
       "            <th>movie_id</th>\n",
       "            <th>genre_name</th>\n",
       "            <th>genre_id</th>\n",
       "        </tr>\n",
       "    </thead>\n",
       "    <tbody>\n",
       "        <tr>\n",
       "            <td>The Flintstones</td>\n",
       "            <td>888</td>\n",
       "            <td>Comedy</td>\n",
       "            <td>35</td>\n",
       "        </tr>\n",
       "        <tr>\n",
       "            <td>The Flintstones in Viva Rock Vegas</td>\n",
       "            <td>889</td>\n",
       "            <td>Comedy</td>\n",
       "            <td>35</td>\n",
       "        </tr>\n",
       "    </tbody>\n",
       "</table>"
      ],
      "text/plain": [
       "[('The Flintstones', 888, 'Comedy', 35),\n",
       " ('The Flintstones in Viva Rock Vegas', 889, 'Comedy', 35)]"
      ]
     },
     "execution_count": 127,
     "metadata": {},
     "output_type": "execute_result"
    }
   ],
   "source": [
    "%%sql\n",
    "SELECT m.title, m.movie_id, g.genre_name, g.genre_id from movies as m\n",
    "INNER JOIN genremap as gm ON gm.movie_id = m.movie_id\n",
    "INNER JOIN genres as g ON g.genre_id = gm.genre_id\n",
    "WHERE g.genre_name = \"Comedy\" and m.title like \"%Flintstones%\""
   ]
  },
  {
   "cell_type": "code",
   "execution_count": 128,
   "metadata": {},
   "outputs": [
    {
     "name": "stdout",
     "output_type": "stream",
     "text": [
      " * sqlite:///Dataset/TMDB.db\n",
      "1 rows affected.\n"
     ]
    },
    {
     "data": {
      "text/plain": [
       "[]"
      ]
     },
     "execution_count": 128,
     "metadata": {},
     "output_type": "execute_result"
    }
   ],
   "source": [
    "%%sql\n",
    "DELETE FROM genremap WHERE genre_id = 35 and movie_id = 888"
   ]
  },
  {
   "cell_type": "markdown",
   "metadata": {
    "id": "ZHMUw-F3Jqn5"
   },
   "source": [
    "### Question 29\n",
    "What code will give the 10 most recently released movies in the database? \n"
   ]
  },
  {
   "cell_type": "code",
   "execution_count": 135,
   "metadata": {
    "id": "T7ZoP3zHJqn6"
   },
   "outputs": [
    {
     "name": "stdout",
     "output_type": "stream",
     "text": [
      " * sqlite:///Dataset/TMDB.db\n",
      "Done.\n"
     ]
    },
    {
     "data": {
      "text/html": [
       "<table>\n",
       "    <thead>\n",
       "        <tr>\n",
       "            <th>title</th>\n",
       "            <th>release_date</th>\n",
       "        </tr>\n",
       "    </thead>\n",
       "    <tbody>\n",
       "        <tr>\n",
       "            <td>Growing Up Smith</td>\n",
       "            <td>2017-02-03 00:00:00.000000</td>\n",
       "        </tr>\n",
       "        <tr>\n",
       "            <td>Two Lovers and a Bear</td>\n",
       "            <td>2016-10-02 00:00:00.000000</td>\n",
       "        </tr>\n",
       "        <tr>\n",
       "            <td>Mr. Church</td>\n",
       "            <td>2016-09-16 00:00:00.000000</td>\n",
       "        </tr>\n",
       "        <tr>\n",
       "            <td>The Birth of a Nation</td>\n",
       "            <td>2016-09-09 00:00:00.000000</td>\n",
       "        </tr>\n",
       "        <tr>\n",
       "            <td>Kicks</td>\n",
       "            <td>2016-09-09 00:00:00.000000</td>\n",
       "        </tr>\n",
       "        <tr>\n",
       "            <td>Antibirth</td>\n",
       "            <td>2016-09-02 00:00:00.000000</td>\n",
       "        </tr>\n",
       "        <tr>\n",
       "            <td>Hands of Stone</td>\n",
       "            <td>2016-08-26 00:00:00.000000</td>\n",
       "        </tr>\n",
       "        <tr>\n",
       "            <td>Ben-Hur</td>\n",
       "            <td>2016-08-17 00:00:00.000000</td>\n",
       "        </tr>\n",
       "        <tr>\n",
       "            <td>Pete&#x27;s Dragon</td>\n",
       "            <td>2016-08-10 00:00:00.000000</td>\n",
       "        </tr>\n",
       "        <tr>\n",
       "            <td>Suicide Squad</td>\n",
       "            <td>2016-08-02 00:00:00.000000</td>\n",
       "        </tr>\n",
       "    </tbody>\n",
       "</table>"
      ],
      "text/plain": [
       "[('Growing Up Smith', '2017-02-03 00:00:00.000000'),\n",
       " ('Two Lovers and a Bear', '2016-10-02 00:00:00.000000'),\n",
       " ('Mr. Church', '2016-09-16 00:00:00.000000'),\n",
       " ('The Birth of a Nation', '2016-09-09 00:00:00.000000'),\n",
       " ('Kicks', '2016-09-09 00:00:00.000000'),\n",
       " ('Antibirth', '2016-09-02 00:00:00.000000'),\n",
       " ('Hands of Stone', '2016-08-26 00:00:00.000000'),\n",
       " ('Ben-Hur', '2016-08-17 00:00:00.000000'),\n",
       " (\"Pete's Dragon\", '2016-08-10 00:00:00.000000'),\n",
       " ('Suicide Squad', '2016-08-02 00:00:00.000000')]"
      ]
     },
     "execution_count": 135,
     "metadata": {},
     "output_type": "execute_result"
    }
   ],
   "source": [
    "%%sql \n",
    "SELECT title, release_date FROM movies ORDER BY release_date DESC LIMIT 10 "
   ]
  },
  {
   "cell_type": "markdown",
   "metadata": {
    "id": "vf3P99TuJqn6"
   },
   "source": [
    "### Question 30\n",
    "What code would you use to add a column to the language table that could be used for the English names of the different languages?"
   ]
  },
  {
   "cell_type": "code",
   "execution_count": 137,
   "metadata": {
    "id": "UTxH_gcCJqn6"
   },
   "outputs": [
    {
     "name": "stdout",
     "output_type": "stream",
     "text": [
      " * sqlite:///Dataset/TMDB.db\n",
      "Done.\n"
     ]
    },
    {
     "data": {
      "text/plain": [
       "[]"
      ]
     },
     "execution_count": 137,
     "metadata": {},
     "output_type": "execute_result"
    }
   ],
   "source": [
    "%%sql \n",
    "ALTER TABLE languages ADD language_english_name varchar(50) "
   ]
  }
 ],
 "metadata": {
  "colab": {
   "name": "EDSA Final Exam pt1_SQL section_student version.ipynb",
   "provenance": []
  },
  "kernelspec": {
   "display_name": "Python 3 (ipykernel)",
   "language": "python",
   "name": "python3"
  },
  "language_info": {
   "codemirror_mode": {
    "name": "ipython",
    "version": 3
   },
   "file_extension": ".py",
   "mimetype": "text/x-python",
   "name": "python",
   "nbconvert_exporter": "python",
   "pygments_lexer": "ipython3",
   "version": "3.12.4"
  }
 },
 "nbformat": 4,
 "nbformat_minor": 4
}
