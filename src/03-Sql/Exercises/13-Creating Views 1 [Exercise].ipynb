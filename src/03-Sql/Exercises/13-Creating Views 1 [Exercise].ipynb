{
 "cells": [
  {
   "cell_type": "markdown",
   "id": "51b1254d",
   "metadata": {},
   "source": [
    "<div align=\"right\" style=\" font-size: 80%; text-align: center; margin: 0 auto\">\n",
    "<img src=\"https://raw.githubusercontent.com/Explore-AI/Pictures/master/ExploreAI_logos/Logo blue_dark.png\"  style=\"width:25px\" align=\"right\";/>\n",
    "</div>"
   ]
  },
  {
   "cell_type": "markdown",
   "id": "f662d169",
   "metadata": {},
   "source": [
    "# Creating views 1\n",
    "© ExploreAI Academy"
   ]
  },
  {
   "attachments": {},
   "cell_type": "markdown",
   "id": "26af890c",
   "metadata": {},
   "source": [
    "In this exercise, we learn how to create different types of views and how to drop views. \n",
    "\n",
    "Ensure that you have downloaded the database file Chinook.db."
   ]
  },
  {
   "cell_type": "markdown",
   "id": "2d230d14",
   "metadata": {},
   "source": [
    "## Learning objectives\n",
    "\n",
    "By the end of this train, you should be able to:\n",
    "- Create `LOOKUP`, `JOIN`, and `AGGREGATING` views.\n",
    "- Drop a view."
   ]
  },
  {
   "cell_type": "markdown",
   "id": "7fd5e3b8",
   "metadata": {},
   "source": [
    "First, let's load our sample database:"
   ]
  },
  {
   "cell_type": "code",
   "execution_count": null,
   "id": "2d0d820e",
   "metadata": {},
   "outputs": [],
   "source": [
    "# Load and activate the SQL extension to allow us to execute SQL in a Jupyter notebook.\n",
    "%load_ext sql\n"
   ]
  },
  {
   "cell_type": "code",
   "execution_count": null,
   "id": "599e3c6c",
   "metadata": {},
   "outputs": [],
   "source": [
    "# Load the Chinook database stored in your local machine. \n",
    "# Make sure the file is saved in the same folder as this notebook.\n",
    "%sql sqlite:///chinook.db"
   ]
  },
  {
   "cell_type": "markdown",
   "id": "06af8b46",
   "metadata": {},
   "source": [
    "Here is a [view](https://www.lucidchart.com/pages/er-diagrams) of all of our tables in the database:"
   ]
  },
  {
   "attachments": {},
   "cell_type": "markdown",
   "id": "08883cce",
   "metadata": {},
   "source": [
    "<div align=\"center\" style=\" font-size: 80%; text-align: center; margin: 0 auto\">\n",
    "<img src=\"https://github.com/Explore-AI/Pictures/blob/master/sqlite-sample-database-color.jpg?raw=true\"  style=\"width:500px\";/>\n",
    "<br>\n",
    "<br>\n",
    "    <em>Figure 1: Chinook ERD</em>\n",
    "</div>\n"
   ]
  },
  {
   "cell_type": "markdown",
   "id": "920e89d2",
   "metadata": {},
   "source": [
    "## Exercise\n",
    "\n",
    "Run the necessary queries that will provide us with the following information. Compare your queries with the solutions at the end of this notebook."
   ]
  },
  {
   "cell_type": "markdown",
   "id": "466e53c1",
   "metadata": {},
   "source": [
    "### Exercise 1\n",
    "\n",
    "Create a `LOOKUP` view of the surname, first name, title, and country of each employee called `Employee_View`.\n"
   ]
  },
  {
   "cell_type": "code",
   "execution_count": null,
   "id": "038f28ea",
   "metadata": {},
   "outputs": [],
   "source": [
    "# Add your code here\n"
   ]
  },
  {
   "cell_type": "markdown",
   "id": "86802726",
   "metadata": {},
   "source": [
    "### Exercise 2\n",
    "\n",
    "\n",
    "Query the `Employee_View` view to get a view of the sales team.\n",
    "\n",
    "Use the wildcard operators and the LIKE query to filter all the employees in the specified view."
   ]
  },
  {
   "cell_type": "code",
   "execution_count": null,
   "id": "91f3421f",
   "metadata": {},
   "outputs": [],
   "source": [
    "# Add your code here\n"
   ]
  },
  {
   "cell_type": "markdown",
   "id": "f0fade51",
   "metadata": {},
   "source": [
    "### Exercise 3\n",
    "\n",
    "\n",
    "Create a `JOIN` view that will link up all the customers with the support staff assisting them, called `Customer_Support_View`. We want to view the following:\n",
    "\n",
    "- First name of the customer\n",
    "- Last name (surname) of the customer\n",
    "- Country where the customer resides\n",
    "- SupportRepId\n",
    "- EmployeeId\n",
    "- Last name of the employee\n",
    "- First name of the employee\n",
    "- Job title of the employee\n",
    "- Country where the employee operated from"
   ]
  },
  {
   "cell_type": "code",
   "execution_count": null,
   "id": "748f4263",
   "metadata": {},
   "outputs": [],
   "source": [
    "# Add your code here\n"
   ]
  },
  {
   "attachments": {},
   "cell_type": "markdown",
   "id": "f28aef00",
   "metadata": {},
   "source": [
    "### Exercise 4\n",
    "\n",
    "Query the `Customer_Support_View` view to get a list of the names and surnames of the clients who were helped by an employee with the `Employeeid` '3'.\n"
   ]
  },
  {
   "cell_type": "code",
   "execution_count": null,
   "id": "f4621a53",
   "metadata": {},
   "outputs": [],
   "source": [
    "# Add your code here\n"
   ]
  },
  {
   "cell_type": "markdown",
   "id": "7a51093c",
   "metadata": {},
   "source": [
    "### Exercise 5\n",
    "\n",
    "Create an `AGGREGATING` view that counts the number of customers that are currently being serviced per country, called `Customer_per_Country_View`.\n",
    "\n",
    "We would like to see the country name and the number of customers in this view.\n"
   ]
  },
  {
   "cell_type": "code",
   "execution_count": null,
   "id": "99479d5f",
   "metadata": {},
   "outputs": [],
   "source": [
    "# Add your code here\n"
   ]
  },
  {
   "cell_type": "markdown",
   "id": "d5aefbd6",
   "metadata": {},
   "source": [
    "### Exercise 6\n",
    "Write a query that returns the country with the most customers from `Customer_per_Country_View`.\n"
   ]
  },
  {
   "cell_type": "code",
   "execution_count": null,
   "id": "fc98fe10",
   "metadata": {},
   "outputs": [],
   "source": [
    "# Add your code here\n"
   ]
  },
  {
   "cell_type": "markdown",
   "id": "a18b461d",
   "metadata": {},
   "source": [
    "### Exercise 7\n",
    "\n",
    "Write a query that will delete the `Employee_View` view."
   ]
  },
  {
   "cell_type": "code",
   "execution_count": null,
   "id": "ee7daac8",
   "metadata": {},
   "outputs": [],
   "source": [
    "# Add your code here\n"
   ]
  },
  {
   "attachments": {},
   "cell_type": "markdown",
   "id": "dde873fc",
   "metadata": {},
   "source": [
    "### Challenge question\n",
    "\n",
    "Write a query that returns the number of customers that each support employee services, along with the name of the employee. Call this view `Support_Person_Stats`.\n",
    "\n",
    "To do this, we will need to create a view, join the Customer and Employee tables, and use the `COUNT` and `GROUP BY` functions to aggregate the number of employees serviced by each employee."
   ]
  },
  {
   "cell_type": "code",
   "execution_count": null,
   "id": "57804ebf",
   "metadata": {},
   "outputs": [],
   "source": [
    "# Add your code here\n"
   ]
  },
  {
   "cell_type": "markdown",
   "id": "b3c88335",
   "metadata": {},
   "source": [
    "## Solutions"
   ]
  },
  {
   "cell_type": "markdown",
   "id": "a5084b12",
   "metadata": {},
   "source": [
    "### Exercise 1"
   ]
  },
  {
   "cell_type": "code",
   "execution_count": null,
   "id": "c968d875",
   "metadata": {
    "scrolled": true
   },
   "outputs": [],
   "source": [
    "%%sql\n",
    "\n",
    "CREATE VIEW Employee_View AS \n",
    "SELECT LastName, FirstName, Title, Country\n",
    "FROM Employees;"
   ]
  },
  {
   "cell_type": "markdown",
   "id": "294d8eef",
   "metadata": {},
   "source": [
    "### Exercise 2"
   ]
  },
  {
   "cell_type": "code",
   "execution_count": null,
   "id": "03071e34",
   "metadata": {},
   "outputs": [],
   "source": [
    "%%sql\n",
    "\n",
    "SELECT * FROM Employee_View\n",
    "WHERE Title LIKE '%Sales%'"
   ]
  },
  {
   "cell_type": "markdown",
   "id": "eafe40b6",
   "metadata": {},
   "source": [
    "### Exercise 3"
   ]
  },
  {
   "cell_type": "code",
   "execution_count": null,
   "id": "1ffd2239",
   "metadata": {},
   "outputs": [],
   "source": [
    "%%sql\n",
    "\n",
    "CREATE VIEW Customer_Support_View AS\n",
    "SELECT c.FirstName Customer_Name, c.LastName Customer_Surname, c.Country Customer_Country, c.SupportRepId, e.EmployeeId, e.LastName Employee_surname, e.FirstName Employee_first_name, e.Title Employee_job_title, e.Country Employee_Country\n",
    "FROM customers c \n",
    "INNER JOIN employees e\n",
    "ON c.SupportRepId = e.EmployeeId\n"
   ]
  },
  {
   "cell_type": "markdown",
   "id": "e9956efe",
   "metadata": {},
   "source": [
    "### Exercise 4"
   ]
  },
  {
   "cell_type": "code",
   "execution_count": null,
   "id": "cd662edc",
   "metadata": {},
   "outputs": [],
   "source": [
    "%%sql\n",
    "\n",
    "SELECT Customer_Name, Customer_Surname \n",
    "FROM Customer_Support_View\n",
    "WHERE Employeeid = 3;"
   ]
  },
  {
   "cell_type": "markdown",
   "id": "c1341a11",
   "metadata": {},
   "source": [
    "### Exercise 5"
   ]
  },
  {
   "cell_type": "code",
   "execution_count": null,
   "id": "9a0cf068",
   "metadata": {},
   "outputs": [],
   "source": [
    "%%sql\n",
    "\n",
    "CREATE VIEW Customer_per_Country_View AS \n",
    "SELECT COUNT (CustomerId) AS Num_customers, Country\n",
    "FROM customers\n",
    "GROUP BY Country;"
   ]
  },
  {
   "cell_type": "markdown",
   "id": "9372f6b4",
   "metadata": {},
   "source": [
    "### Exercise 6"
   ]
  },
  {
   "cell_type": "code",
   "execution_count": null,
   "id": "d5ac7556",
   "metadata": {},
   "outputs": [],
   "source": [
    "%%sql\n",
    "\n",
    "SELECT Country, MAX(Num_customers) \n",
    "FROM Customer_per_Country_View"
   ]
  },
  {
   "cell_type": "markdown",
   "id": "10b888fd",
   "metadata": {},
   "source": [
    "### Exercise 7"
   ]
  },
  {
   "cell_type": "code",
   "execution_count": null,
   "id": "6d8ab7fa",
   "metadata": {},
   "outputs": [],
   "source": [
    "%%sql\n",
    "\n",
    "DROP VIEW Employee_View"
   ]
  },
  {
   "cell_type": "markdown",
   "id": "a9364c60",
   "metadata": {},
   "source": [
    "### Challenge question"
   ]
  },
  {
   "cell_type": "code",
   "execution_count": null,
   "id": "74f04ced",
   "metadata": {},
   "outputs": [],
   "source": [
    "%%sql\n",
    "\n",
    "CREATE VIEW Support_Person_Stats AS\n",
    "SELECT COUNT(c.SupportRepId) Count_of_Customers_Serviced , e.EmployeeId, e.LastName\n",
    "FROM customers c \n",
    "INNER JOIN employees e\n",
    "ON c.SupportRepId = e.EmployeeId\n",
    "GROUP BY e.EmployeeId;"
   ]
  },
  {
   "attachments": {},
   "cell_type": "markdown",
   "id": "c2a7b88d",
   "metadata": {},
   "source": [
    "* Note: Because views are added to the main database after they are created, if we want to perform the `CREATE VIEW` commands again, we must first drop the prior view to prevent receiving a 'VIEW already exists' error."
   ]
  },
  {
   "cell_type": "markdown",
   "id": "6d8d9bdd",
   "metadata": {},
   "source": [
    "<div align=\"center\" style=\" font-size: 80%; text-align: center; margin: 0 auto\">\n",
    "<img src=\"https://raw.githubusercontent.com/Explore-AI/Pictures/master/ExploreAI_logos/EAI_Blue_Dark.png\"  style=\"width:200px\";/>\n",
    "</div>"
   ]
  }
 ],
 "metadata": {
  "kernelspec": {
   "display_name": "Python 3 (ipykernel)",
   "language": "python",
   "name": "python3"
  },
  "language_info": {
   "codemirror_mode": {
    "name": "ipython",
    "version": 3
   },
   "file_extension": ".py",
   "mimetype": "text/x-python",
   "name": "python",
   "nbconvert_exporter": "python",
   "pygments_lexer": "ipython3",
   "version": "3.11.4"
  }
 },
 "nbformat": 4,
 "nbformat_minor": 5
}
