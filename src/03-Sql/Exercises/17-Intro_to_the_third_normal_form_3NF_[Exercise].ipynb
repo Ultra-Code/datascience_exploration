{
 "cells": [
  {
   "cell_type": "markdown",
   "id": "bf17eebd",
   "metadata": {},
   "source": [
    "<div align=\"right\" style=\" font-size: 80%; text-align: center; margin: 0 auto\">\n",
    "<img src=\"https://raw.githubusercontent.com/Explore-AI/Pictures/master/ExploreAI_logos/Logo blue_dark.png\"  style=\"width:25px\" align=\"right\";/>\n",
    "</div>"
   ]
  },
  {
   "cell_type": "markdown",
   "id": "f662d169",
   "metadata": {},
   "source": [
    "# Intro to the Third Normal Form – 3NF\n",
    "© ExploreAI Academy"
   ]
  },
  {
   "cell_type": "markdown",
   "id": "26af890c",
   "metadata": {},
   "source": [
    "In this train, we will delve into the concept of transitive dependencies within the context of the Third Normal Form (3NF). Our focus will be on dissecting the tables within the `dam_levels` database, importing data, and establishing suitable relationships, ultimately leading to the creation of a database structure that adheres to 3NF principles."
   ]
  },
  {
   "cell_type": "markdown",
   "id": "3259ef42",
   "metadata": {},
   "source": [
    "> ⚠️ This exercise extends the concepts introduced in the previous one, **Intro to the Second Normal Form – 2NF**. Therefore, it's important to ensure that you continue using the modified `dam_levels.db` database after successfully completing the previous exercise.\n",
    " \n",
    "> ⚠️ Since the queries here will modify the database, you will have to get a fresh copy to redo the code cells."
   ]
  },
  {
   "cell_type": "markdown",
   "id": "2d230d14",
   "metadata": {
    "tags": []
   },
   "source": [
    "## Learning objectives\n",
    "\n",
    "By the end of this train, you should:\n",
    "- Understand the requirements for achieving the Third Normal Form (3NF) in database normalisation, including the elimination of transitive dependencies.\n",
    "- Learn to assess and identify transitive dependencies within a database table."
   ]
  },
  {
   "attachments": {},
   "cell_type": "markdown",
   "id": "2bf2a4c1",
   "metadata": {},
   "source": [
    "## Overview\n",
    "\n",
    "To get the tables in 3NF, we need to ensure the following:\n",
    "\n",
    "- The tables are in 2NF.\n",
    "- All **transitive dependencies** should be removed – for 3NF, non-key fields must provide a fact about the key, the whole key, and nothing but the key. Anything else should be placed in a separate table."
   ]
  },
  {
   "cell_type": "markdown",
   "id": "37115144",
   "metadata": {},
   "source": [
    "<div>\n",
    "Let's look at normalising the 2NF dams database containing information about Cape Town dam water levels leading up to the 2018 Cape Town water crisis.\n",
    "</div>"
   ]
  },
  {
   "cell_type": "markdown",
   "id": "5a0b7683",
   "metadata": {
    "tags": []
   },
   "source": [
    "## Connecting to the database"
   ]
  },
  {
   "cell_type": "code",
   "execution_count": 1,
   "id": "0f34ea72",
   "metadata": {},
   "outputs": [],
   "source": [
    "# Load and activate the SQL extension to allow us to execute SQL in a Jupyter notebook. \n",
    "# If you get an error here, make sure that mysql and pymysql are installed correctly. \n",
    "\n",
    "%load_ext sql"
   ]
  },
  {
   "cell_type": "code",
   "execution_count": 2,
   "id": "d279a04d",
   "metadata": {},
   "outputs": [],
   "source": [
    "# Load SQLite database\n",
    "%sql sqlite:///../db/dam_levels.db"
   ]
  },
  {
   "cell_type": "markdown",
   "id": "1225c304",
   "metadata": {},
   "source": [
    "Before we proceed, let's first take a look at the `assessments` table."
   ]
  },
  {
   "cell_type": "code",
   "execution_count": 3,
   "id": "b8edbc6a",
   "metadata": {},
   "outputs": [
    {
     "name": "stdout",
     "output_type": "stream",
     "text": [
      " * sqlite:///../db/dam_levels.db\n",
      "Done.\n"
     ]
    },
    {
     "data": {
      "text/html": [
       "<table>\n",
       "    <thead>\n",
       "        <tr>\n",
       "            <th>AssessmentId</th>\n",
       "            <th>year</th>\n",
       "            <th>Assessment_Officer</th>\n",
       "            <th>Officer_Reg</th>\n",
       "            <th>water_level</th>\n",
       "        </tr>\n",
       "    </thead>\n",
       "    <tbody>\n",
       "        <tr>\n",
       "            <td>1</td>\n",
       "            <td>2012</td>\n",
       "            <td>P. M. Naidoo</td>\n",
       "            <td>201013</td>\n",
       "            <td>48.2</td>\n",
       "        </tr>\n",
       "        <tr>\n",
       "            <td>2</td>\n",
       "            <td>2012</td>\n",
       "            <td>A. T. Sijovu</td>\n",
       "            <td>202256</td>\n",
       "            <td>15</td>\n",
       "        </tr>\n",
       "        <tr>\n",
       "            <td>3</td>\n",
       "            <td>2012</td>\n",
       "            <td>P. M. Naidoo</td>\n",
       "            <td>201013</td>\n",
       "            <td>14.2</td>\n",
       "        </tr>\n",
       "        <tr>\n",
       "            <td>4</td>\n",
       "            <td>2012</td>\n",
       "            <td>A. T. Sijovu</td>\n",
       "            <td>202256</td>\n",
       "            <td>35.3</td>\n",
       "        </tr>\n",
       "        <tr>\n",
       "            <td>5</td>\n",
       "            <td>2013</td>\n",
       "            <td>P. M. Naidoo</td>\n",
       "            <td>201013</td>\n",
       "            <td>53.3</td>\n",
       "        </tr>\n",
       "        <tr>\n",
       "            <td>6</td>\n",
       "            <td>2013</td>\n",
       "            <td>A. T. Sijovu</td>\n",
       "            <td>202256</td>\n",
       "            <td>16.6</td>\n",
       "        </tr>\n",
       "        <tr>\n",
       "            <td>7</td>\n",
       "            <td>2013</td>\n",
       "            <td>P. M. Naidoo</td>\n",
       "            <td>201013</td>\n",
       "            <td>15.2</td>\n",
       "        </tr>\n",
       "        <tr>\n",
       "            <td>8</td>\n",
       "            <td>2013</td>\n",
       "            <td>A. T. Sijovu</td>\n",
       "            <td>202256</td>\n",
       "            <td>35.9</td>\n",
       "        </tr>\n",
       "        <tr>\n",
       "            <td>9</td>\n",
       "            <td>2015</td>\n",
       "            <td>P. M. Naidoo</td>\n",
       "            <td>201013</td>\n",
       "            <td>47.5</td>\n",
       "        </tr>\n",
       "        <tr>\n",
       "            <td>10</td>\n",
       "            <td>2015</td>\n",
       "            <td>A. T. Sijovu</td>\n",
       "            <td>202256</td>\n",
       "            <td>11.9</td>\n",
       "        </tr>\n",
       "    </tbody>\n",
       "</table>"
      ],
      "text/plain": [
       "[(1, 2012, 'P. M. Naidoo', 201013, 48.2),\n",
       " (2, 2012, 'A. T. Sijovu', 202256, 15),\n",
       " (3, 2012, 'P. M. Naidoo', 201013, 14.2),\n",
       " (4, 2012, 'A. T. Sijovu', 202256, 35.3),\n",
       " (5, 2013, 'P. M. Naidoo', 201013, 53.3),\n",
       " (6, 2013, 'A. T. Sijovu', 202256, 16.6),\n",
       " (7, 2013, 'P. M. Naidoo', 201013, 15.2),\n",
       " (8, 2013, 'A. T. Sijovu', 202256, 35.9),\n",
       " (9, 2015, 'P. M. Naidoo', 201013, 47.5),\n",
       " (10, 2015, 'A. T. Sijovu', 202256, 11.9)]"
      ]
     },
     "execution_count": 3,
     "metadata": {},
     "output_type": "execute_result"
    }
   ],
   "source": [
    "%%sql\n",
    "\n",
    "SELECT \n",
    "    * \n",
    "FROM \n",
    "    assessments\n",
    "LIMIT 10; -- Remove this line to see the full query output"
   ]
  },
  {
   "cell_type": "markdown",
   "id": "85cb3b7d",
   "metadata": {},
   "source": [
    "Evidently, the `year`, `water_level`, and `Assessment_Officer` columns provide a fact about the key (i.e. `AssessmentId`). However, the `Officer_Reg` column only provides information about the `Assessment_Officer` column. "
   ]
  },
  {
   "cell_type": "markdown",
   "id": "920e89d2",
   "metadata": {
    "tags": []
   },
   "source": [
    "## Exercise\n"
   ]
  },
  {
   "cell_type": "markdown",
   "id": "86802726",
   "metadata": {},
   "source": [
    "### Exercise 1\n",
    "\n",
    "Break down the `assessments` table and place all officers in their own separate table. To do this, create a `water_level_assessments` table."
   ]
  },
  {
   "cell_type": "code",
   "execution_count": 8,
   "id": "1e003247",
   "metadata": {},
   "outputs": [
    {
     "name": "stdout",
     "output_type": "stream",
     "text": [
      " * sqlite:///../db/dam_levels.db\n",
      "Done.\n"
     ]
    },
    {
     "data": {
      "text/plain": [
       "[]"
      ]
     },
     "execution_count": 8,
     "metadata": {},
     "output_type": "execute_result"
    }
   ],
   "source": [
    "%%sql\n",
    "CREATE TABLE IF NOT EXISTS water_level_assessments\n",
    "(AssessmentId INTEGER PRIMARY KEY AUTOINCREMENT,\n",
    "year INT,\n",
    "Officer_Reg INT(10,1),\n",
    "water_level INT)"
   ]
  },
  {
   "attachments": {},
   "cell_type": "markdown",
   "id": "e9dcc635",
   "metadata": {},
   "source": [
    "### Exercise 2\n",
    "Copy the relevant data into the `water_level_assessments` table."
   ]
  },
  {
   "cell_type": "code",
   "execution_count": 11,
   "id": "1cbd8b2e",
   "metadata": {},
   "outputs": [
    {
     "name": "stdout",
     "output_type": "stream",
     "text": [
      " * sqlite:///../db/dam_levels.db\n",
      "18 rows affected.\n"
     ]
    },
    {
     "data": {
      "text/plain": [
       "[]"
      ]
     },
     "execution_count": 11,
     "metadata": {},
     "output_type": "execute_result"
    }
   ],
   "source": [
    "%%sql\n",
    "INSERT INTO water_level_assessments\n",
    "SELECT AssessmentID, year, Officer_Reg, water_level\n",
    "FROM assessments"
   ]
  },
  {
   "attachments": {},
   "cell_type": "markdown",
   "id": "46537798",
   "metadata": {},
   "source": [
    "### Exercise 3\n",
    "\n",
    "Create an `officers` table that will contain the officer data which we removed from the `assessments` table. "
   ]
  },
  {
   "cell_type": "code",
   "execution_count": 12,
   "id": "ce4ea795",
   "metadata": {},
   "outputs": [
    {
     "name": "stdout",
     "output_type": "stream",
     "text": [
      " * sqlite:///../db/dam_levels.db\n",
      "Done.\n"
     ]
    },
    {
     "data": {
      "text/plain": [
       "[]"
      ]
     },
     "execution_count": 12,
     "metadata": {},
     "output_type": "execute_result"
    }
   ],
   "source": [
    "%%sql \n",
    "\n",
    "CREATE TABLE IF NOT EXISTS officers (\n",
    "    Officer_Reg INTEGER PRIMARY KEY,\n",
    "    Officer_Name VARCHAR(100)    \n",
    ");"
   ]
  },
  {
   "attachments": {},
   "cell_type": "markdown",
   "id": "819c5f65",
   "metadata": {},
   "source": [
    "### Exercise 4\n",
    "\n",
    "Add the relevant data into the `officers` table."
   ]
  },
  {
   "cell_type": "code",
   "execution_count": 17,
   "id": "91c1c389",
   "metadata": {},
   "outputs": [
    {
     "name": "stdout",
     "output_type": "stream",
     "text": [
      " * sqlite:///../db/dam_levels.db\n",
      "3 rows affected.\n"
     ]
    },
    {
     "data": {
      "text/plain": [
       "[]"
      ]
     },
     "execution_count": 17,
     "metadata": {},
     "output_type": "execute_result"
    }
   ],
   "source": [
    "%%sql\n",
    "INSERT INTO officers\n",
    "SELECT Officer_Reg, Assessment_Officer\n",
    "From assessments\n",
    "GROUP BY Officer_Reg"
   ]
  },
  {
   "cell_type": "markdown",
   "id": "f702017b",
   "metadata": {},
   "source": [
    "### Exercise 5\n",
    "\n",
    "Delete the old `assessments` table."
   ]
  },
  {
   "cell_type": "code",
   "execution_count": 18,
   "id": "d83392da",
   "metadata": {},
   "outputs": [
    {
     "name": "stdout",
     "output_type": "stream",
     "text": [
      " * sqlite:///../db/dam_levels.db\n",
      "Done.\n"
     ]
    },
    {
     "data": {
      "text/plain": [
       "[]"
      ]
     },
     "execution_count": 18,
     "metadata": {},
     "output_type": "execute_result"
    }
   ],
   "source": [
    "%%sql\n",
    "\n",
    "DROP table IF EXISTS assessments;"
   ]
  },
  {
   "cell_type": "markdown",
   "id": "b3c88335",
   "metadata": {
    "tags": []
   },
   "source": [
    "## Solutions"
   ]
  },
  {
   "cell_type": "markdown",
   "id": "a5084b12",
   "metadata": {
    "tags": []
   },
   "source": [
    "### Exercise 1"
   ]
  },
  {
   "cell_type": "code",
   "execution_count": null,
   "id": "c968d875",
   "metadata": {},
   "outputs": [],
   "source": [
    "%%sql \n",
    "\n",
    "CREATE TABLE water_level_assessments (\n",
    "    AssessmentId INTEGER PRIMARY KEY AUTOINCREMENT,\n",
    "    year INTEGER,\n",
    "    Officer_Reg INTEGER,\n",
    "    water_level NUMERIC(10,1)\n",
    ");"
   ]
  },
  {
   "cell_type": "markdown",
   "id": "3ce71ed7",
   "metadata": {},
   "source": [
    "The `Officer_Reg` field has been kept within our table instead of `Assessment_Officer`. This is because the `Officer_Reg` field will need to serve as a foreign key to a new table we create which will contain all our officer information. Foreign keys are also the primary keys within their respective home tables, and as such need to be unique. In this way, we could have used `Assessment_Officer` as our linking field (foreign key), but we would then run the risk of having two officers with the same name (our key is non-unique), making our linking relationship invalid."
   ]
  },
  {
   "cell_type": "markdown",
   "id": "294d8eef",
   "metadata": {},
   "source": [
    "### Exercise 2\n",
    "\n"
   ]
  },
  {
   "cell_type": "code",
   "execution_count": null,
   "id": "03071e34",
   "metadata": {},
   "outputs": [],
   "source": [
    "%%sql\n",
    "\n",
    "INSERT INTO \n",
    "    water_level_assessments(\n",
    "            AssessmentId, \n",
    "            year, \n",
    "            Officer_Reg, \n",
    "            water_level\n",
    "        )\n",
    "SELECT \n",
    "    AssessmentId, \n",
    "    year, \n",
    "    Officer_Reg, \n",
    "    water_level\n",
    "FROM \n",
    "    assessments\n",
    "ORDER BY year;"
   ]
  },
  {
   "cell_type": "markdown",
   "id": "eafe40b6",
   "metadata": {},
   "source": [
    "### Exercise 3\n",
    "\n"
   ]
  },
  {
   "cell_type": "code",
   "execution_count": null,
   "id": "1ffd2239",
   "metadata": {},
   "outputs": [],
   "source": [
    "%%sql \n",
    "\n",
    "CREATE TABLE officers (\n",
    "    Officer_Reg INTEGER PRIMARY KEY,\n",
    "    Officer_Name VARCHAR(100)    \n",
    ");"
   ]
  },
  {
   "cell_type": "markdown",
   "id": "b0e27793",
   "metadata": {},
   "source": [
    "### Exercise 4"
   ]
  },
  {
   "cell_type": "code",
   "execution_count": null,
   "id": "b2cb2438",
   "metadata": {},
   "outputs": [],
   "source": [
    "%%sql\n",
    "\n",
    "INSERT INTO \n",
    "    officers(\n",
    "            Officer_Name,\n",
    "            Officer_Reg\n",
    "        )\n",
    "SELECT \n",
    "    Assessment_Officer,\n",
    "    Officer_Reg\n",
    "FROM \n",
    "    assessments\n",
    "GROUP BY Assessment_Officer;"
   ]
  },
  {
   "cell_type": "markdown",
   "id": "99405b3b",
   "metadata": {},
   "source": [
    "### Exercise 5"
   ]
  },
  {
   "cell_type": "code",
   "execution_count": null,
   "id": "c01239cc",
   "metadata": {},
   "outputs": [],
   "source": [
    "%%sql\n",
    "\n",
    "DROP table assessments;"
   ]
  },
  {
   "cell_type": "markdown",
   "id": "e9956efe",
   "metadata": {
    "tags": []
   },
   "source": [
    "## Summary\n",
    "\n",
    "With that, we have transformed a table from being unnormalised to the Third Normal Form! \n",
    "\n",
    "We started with a single `dam_levels` table and ended up with four separate tables, i.e.:\n",
    "|name|\n",
    "---\n",
    "dam_assessments\n",
    "dams\n",
    "officers\n",
    "water_level_assessments\n",
    "\n",
    "These tables are in 3NF and linked together in a logical way that helps to reduce data anomalies. Although higher levels of normalisation exist, 3NF is sufficient for most business applications."
   ]
  },
  {
   "cell_type": "markdown",
   "id": "26fd094b-0fee-46f1-a4b8-73766813c42b",
   "metadata": {
    "tags": []
   },
   "source": [
    "#  \n",
    "\n",
    "<div align=\"center\" style=\" font-size: 80%; text-align: center; margin: 0 auto\">\n",
    "<img src=\"https://raw.githubusercontent.com/Explore-AI/Pictures/master/ExploreAI_logos/EAI_Blue_Dark.png\"  style=\"width:200px\";/>\n",
    "</div>"
   ]
  }
 ],
 "metadata": {
  "kernelspec": {
   "display_name": "Python 3 (ipykernel)",
   "language": "python",
   "name": "python3"
  },
  "language_info": {
   "codemirror_mode": {
    "name": "ipython",
    "version": 3
   },
   "file_extension": ".py",
   "mimetype": "text/x-python",
   "name": "python",
   "nbconvert_exporter": "python",
   "pygments_lexer": "ipython3",
   "version": "3.11.5"
  }
 },
 "nbformat": 4,
 "nbformat_minor": 5
}
