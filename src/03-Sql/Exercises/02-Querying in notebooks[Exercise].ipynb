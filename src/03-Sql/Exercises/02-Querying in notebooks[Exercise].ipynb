{
 "cells": [
  {
   "attachments": {},
   "cell_type": "markdown",
   "id": "51b1254d",
   "metadata": {},
   "source": [
    "<div align=\"right\" style=\" font-size: 80%; text-align: center; margin: 0 auto\">\n",
    "<img src=\"https://raw.githubusercontent.com/Explore-AI/Pictures/master/ExploreAI_logos/Logo blue_dark.png\"  style=\"width:25px\" align=\"right\";/>\n",
    "</div>"
   ]
  },
  {
   "attachments": {},
   "cell_type": "markdown",
   "id": "f662d169",
   "metadata": {},
   "source": [
    "# Querying in notebooks\n",
    "© ExploreAI Academy"
   ]
  },
  {
   "attachments": {},
   "cell_type": "markdown",
   "id": "26af890c",
   "metadata": {},
   "source": [
    "In this exercise, we will query a sample SQLite database file for a retail company called Northwind to gain some insight into their data. Ensure that you have downloaded the database file Northwind.db."
   ]
  },
  {
   "attachments": {},
   "cell_type": "markdown",
   "id": "2d230d14",
   "metadata": {},
   "source": [
    "## Learning objectives\n",
    "\n",
    "By the end of this train, you should:\n",
    "- Use basic SELECT statements to retrieve specific data from a database.\n",
    "- Use the WHERE clause to filter data based on certain conditions.\n",
    "- Combine multiple conditions using logical operators such as AND and OR.\n",
    "- Use different logical operators to get or exclude specific values in a table, including the use of IN for multiple values."
   ]
  },
  {
   "attachments": {},
   "cell_type": "markdown",
   "id": "7fd5e3b8",
   "metadata": {},
   "source": [
    "First, let's load our sample database:"
   ]
  },
  {
   "cell_type": "code",
   "execution_count": null,
   "id": "2d0d820e",
   "metadata": {},
   "outputs": [],
   "source": [
    "# Load and activate the SQL extension to allow us to execute SQL in a Jupyter notebook.\n",
    "%load_ext sql\n"
   ]
  },
  {
   "cell_type": "code",
   "execution_count": null,
   "id": "599e3c6c",
   "metadata": {},
   "outputs": [],
   "source": [
    "# Load the Northwind database stored in your local machine. \n",
    "# Make sure the file is saved in the same folder as this notebook.\n",
    "%sql sqlite:///Northwind.db\n",
    "    "
   ]
  },
  {
   "attachments": {},
   "cell_type": "markdown",
   "id": "06af8b46",
   "metadata": {},
   "source": [
    "Here is a view of all of our tables in the database:"
   ]
  },
  {
   "attachments": {},
   "cell_type": "markdown",
   "id": "69217e12",
   "metadata": {},
   "source": [
    "<div align=\"center\" style=\" font-size: 80%; text-align: center; margin: 0 auto\">\n",
    "<img src=\"https://raw.githubusercontent.com/Explore-AI/Pictures/master/Northwind_ERD.png\"  style=\"width:500px\";/>\n",
    "<br>\n",
    "<br>\n",
    "    <em>Figure 1: Northwind ERD</em>\n",
    "</div>"
   ]
  },
  {
   "attachments": {},
   "cell_type": "markdown",
   "id": "920e89d2",
   "metadata": {},
   "source": [
    "## Exercise\n",
    "\n",
    "Run the necessary queries that will provide us with the following information. Compare your queries with the solutions at the end of this notebook."
   ]
  },
  {
   "attachments": {},
   "cell_type": "markdown",
   "id": "466e53c1",
   "metadata": {},
   "source": [
    "### Exercise 1\n",
    "\n",
    "Find the names of all customers from Germany in the Northwind database."
   ]
  },
  {
   "cell_type": "code",
   "execution_count": null,
   "id": "038f28ea",
   "metadata": {},
   "outputs": [],
   "source": [
    "# Add your code here"
   ]
  },
  {
   "attachments": {},
   "cell_type": "markdown",
   "id": "86802726",
   "metadata": {},
   "source": [
    "### Exercise 2\n",
    "\n",
    "\n",
    "Find all products in the Northwind database that have a unit price greater than 30 and are discontinued. \n",
    "\n",
    "Note: The product has been discontinued when the column `Discontinued` is equal to  1."
   ]
  },
  {
   "cell_type": "code",
   "execution_count": null,
   "id": "91f3421f",
   "metadata": {},
   "outputs": [],
   "source": [
    "# Add your code here"
   ]
  },
  {
   "attachments": {},
   "cell_type": "markdown",
   "id": "f0fade51",
   "metadata": {},
   "source": [
    "### Exercise 3\n",
    "\n",
    "\n",
    "Find the contact names and phone numbers of customers from either 'USA' or 'Canada'."
   ]
  },
  {
   "cell_type": "code",
   "execution_count": null,
   "id": "748f4263",
   "metadata": {},
   "outputs": [],
   "source": [
    "# Add your code here"
   ]
  },
  {
   "attachments": {},
   "cell_type": "markdown",
   "id": "f28aef00",
   "metadata": {},
   "source": [
    "### Exercise 4\n",
    "\n",
    "From the 'Orders' table, select all orders that were placed by 'VINET', 'QUICK' or 'SUPRD' and were shipped via shipper 1 or 2.\n"
   ]
  },
  {
   "cell_type": "code",
   "execution_count": null,
   "id": "f4621a53",
   "metadata": {},
   "outputs": [],
   "source": [
    "# Add your code here"
   ]
  },
  {
   "attachments": {},
   "cell_type": "markdown",
   "id": "7a51093c",
   "metadata": {},
   "source": [
    "### Challenge question\n",
    "\n",
    "Find the employees in the Northwind database who are either Sales Representatives or Sales Managers and are based in London.\n"
   ]
  },
  {
   "cell_type": "code",
   "execution_count": null,
   "id": "99479d5f",
   "metadata": {},
   "outputs": [],
   "source": [
    "# Add your code here"
   ]
  },
  {
   "attachments": {},
   "cell_type": "markdown",
   "id": "b3c88335",
   "metadata": {},
   "source": [
    "## Solutions"
   ]
  },
  {
   "attachments": {},
   "cell_type": "markdown",
   "id": "a5084b12",
   "metadata": {},
   "source": [
    "### Exercise 1"
   ]
  },
  {
   "cell_type": "code",
   "execution_count": null,
   "id": "c968d875",
   "metadata": {
    "scrolled": true
   },
   "outputs": [],
   "source": [
    "%%sql\n",
    "SELECT \n",
    "    ContactName \n",
    "FROM \n",
    "    Customers \n",
    "WHERE \n",
    "    Country = 'Germany';\n"
   ]
  },
  {
   "attachments": {},
   "cell_type": "markdown",
   "id": "294d8eef",
   "metadata": {},
   "source": [
    "### Exercise 2"
   ]
  },
  {
   "cell_type": "code",
   "execution_count": null,
   "id": "03071e34",
   "metadata": {},
   "outputs": [],
   "source": [
    "%%sql\n",
    "\n",
    "SELECT \n",
    "    ProductName, Discontinued\n",
    "FROM \n",
    "    Products \n",
    "WHERE \n",
    "    UnitPrice > 30 \n",
    "    AND Discontinued = 1;\n"
   ]
  },
  {
   "attachments": {},
   "cell_type": "markdown",
   "id": "eafe40b6",
   "metadata": {},
   "source": [
    "### Exercise 3"
   ]
  },
  {
   "cell_type": "code",
   "execution_count": null,
   "id": "1ffd2239",
   "metadata": {},
   "outputs": [],
   "source": [
    "%%sql\n",
    "\n",
    "SELECT \n",
    "    ContactName, \n",
    "    Phone \n",
    "FROM \n",
    "    Customers \n",
    "WHERE \n",
    "    Country IN ('USA', 'Canada');\n"
   ]
  },
  {
   "attachments": {},
   "cell_type": "markdown",
   "id": "e9956efe",
   "metadata": {},
   "source": [
    "### Exercise 4"
   ]
  },
  {
   "cell_type": "code",
   "execution_count": null,
   "id": "cd662edc",
   "metadata": {},
   "outputs": [],
   "source": [
    "%%sql\n",
    "\n",
    "SELECT \n",
    "    * \n",
    "FROM \n",
    "    Orders \n",
    "WHERE \n",
    "    CustomerID IN ('VINET', 'QUICK', 'SUPRD')\n",
    "    AND ShipVia IN (1,2);"
   ]
  },
  {
   "attachments": {},
   "cell_type": "markdown",
   "id": "c1341a11",
   "metadata": {},
   "source": [
    "### Challenge question"
   ]
  },
  {
   "cell_type": "code",
   "execution_count": null,
   "id": "9a0cf068",
   "metadata": {},
   "outputs": [],
   "source": [
    "%%sql\n",
    "\n",
    "SELECT \n",
    "    FirstName, \n",
    "    LastName \n",
    "FROM \n",
    "    Employees \n",
    "WHERE \n",
    "    (Title = 'Sales Representative' OR Title = 'Sales Manager') \n",
    "    AND City = 'London';"
   ]
  },
  {
   "attachments": {},
   "cell_type": "markdown",
   "id": "6d8d9bdd",
   "metadata": {},
   "source": [
    "<div align=\"center\" style=\" font-size: 80%; text-align: center; margin: 0 auto\">\n",
    "<img src=\"https://raw.githubusercontent.com/Explore-AI/Pictures/master/ExploreAI_logos/EAI_Blue_Dark.png\"  style=\"width:200px\";/>\n",
    "</div>"
   ]
  }
 ],
 "metadata": {
  "kernelspec": {
   "display_name": "Python 3 (ipykernel)",
   "language": "python",
   "name": "python3"
  },
  "language_info": {
   "codemirror_mode": {
    "name": "ipython",
    "version": 3
   },
   "file_extension": ".py",
   "mimetype": "text/x-python",
   "name": "python",
   "nbconvert_exporter": "python",
   "pygments_lexer": "ipython3",
   "version": "3.12.1"
  }
 },
 "nbformat": 4,
 "nbformat_minor": 5
}
