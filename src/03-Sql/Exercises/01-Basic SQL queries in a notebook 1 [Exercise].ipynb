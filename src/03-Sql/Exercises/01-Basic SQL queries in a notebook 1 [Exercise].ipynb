{
 "cells": [
  {
   "cell_type": "markdown",
   "id": "51b1254d",
   "metadata": {},
   "source": [
    "<div align=\"right\" style=\" font-size: 80%; text-align: center; margin: 0 auto\">\n",
    "<img src=\"https://raw.githubusercontent.com/Explore-AI/Pictures/master/ExploreAI_logos/Logo blue_dark.png\"  style=\"width:25px\" align=\"right\";/>\n",
    "</div>"
   ]
  },
  {
   "cell_type": "markdown",
   "id": "f662d169",
   "metadata": {},
   "source": [
    "# Basic SQL queries in a notebook\n",
    "© ExploreAI Academy"
   ]
  },
  {
   "cell_type": "markdown",
   "id": "26af890c",
   "metadata": {},
   "source": [
    "In this exercise, we will query a sample database for a digital media company called Chinook that has tables for artists, albums, media tracks, invoices, and customers. "
   ]
  },
  {
   "attachments": {},
   "cell_type": "markdown",
   "id": "2d230d14",
   "metadata": {},
   "source": [
    "## Learning objectives\n",
    "\n",
    "By the end of this train, you should be able to:\n",
    "- Use the `SELECT` statement to query columns from tables in a SQLite database.\n",
    "- Use the `WHERE` clause to add conditions to queries.\n",
    "- `LIMIT` query outputs.\n",
    "- Join multiple boolean expressions using the `AND` keyword."
   ]
  },
  {
   "cell_type": "markdown",
   "id": "7fd5e3b8",
   "metadata": {},
   "source": [
    "First, let's load our sample database:"
   ]
  },
  {
   "cell_type": "code",
   "execution_count": null,
   "id": "2d0d820e",
   "metadata": {},
   "outputs": [],
   "source": [
    "# Load and activate the SQL extension to allow us to execute SQL in a Jupyter notebook.\n",
    "%load_ext sql\n"
   ]
  },
  {
   "cell_type": "code",
   "execution_count": null,
   "id": "599e3c6c",
   "metadata": {},
   "outputs": [],
   "source": [
    "# Load the Chinook database stored in your local machine. \n",
    "# Make sure the file is saved in the same folder as this notebook.\n",
    "%sql sqlite:///chinook.db"
   ]
  },
  {
   "cell_type": "markdown",
   "id": "06af8b46",
   "metadata": {},
   "source": [
    "Here is a [view](https://www.lucidchart.com/pages/er-diagrams) of all of our tables in the database:"
   ]
  },
  {
   "cell_type": "markdown",
   "id": "0a995386",
   "metadata": {},
   "source": [
    "<div align=\"center\" style=\" font-size: 80%; text-align: center; margin: 0 auto\">\n",
    "<img src=\"https://github.com/Explore-AI/Pictures/blob/master/sqlite-sample-database-color.jpg?raw=true\"  style=\"width:500px\";/>\n",
    "<br>\n",
    "<br>\n",
    "    <em>Figure 1: Chinook ERD</em>\n",
    "</div>\n"
   ]
  },
  {
   "cell_type": "markdown",
   "id": "f3f0af60",
   "metadata": {},
   "source": [
    "[Image source](https://www.sqlitetutorial.net/sqlite-sample-database/)"
   ]
  },
  {
   "cell_type": "markdown",
   "id": "920e89d2",
   "metadata": {},
   "source": [
    "## Exercise\n",
    "\n",
    "Run the necessary queries that will provide us with the following information. Compare your queries with the solutions at the end of this notebook."
   ]
  },
  {
   "attachments": {},
   "cell_type": "markdown",
   "id": "466e53c1",
   "metadata": {},
   "source": [
    "### Exercise 1\n",
    "\n",
    "Write a query that returns the first names of all Chinook digital media store customers. \n",
    "\n",
    "Limit the results to the first 10 customers."
   ]
  },
  {
   "cell_type": "code",
   "execution_count": null,
   "id": "038f28ea",
   "metadata": {},
   "outputs": [],
   "source": [
    "# Add your code here"
   ]
  },
  {
   "cell_type": "markdown",
   "id": "86802726",
   "metadata": {},
   "source": [
    "### Exercise 2\n",
    "\n",
    "\n",
    "Write a query to find out when each Chinook employee was hired. \n",
    "\n",
    "Return data in the `FirstName`, `LastName`, and `HireDate` columns from the employees table."
   ]
  },
  {
   "cell_type": "code",
   "execution_count": null,
   "id": "91f3421f",
   "metadata": {},
   "outputs": [],
   "source": [
    "# Add your code here"
   ]
  },
  {
   "cell_type": "markdown",
   "id": "f0fade51",
   "metadata": {},
   "source": [
    "### Exercise 3\n",
    "\n",
    "\n",
    "Write a query that returns all Chinook employee information."
   ]
  },
  {
   "cell_type": "code",
   "execution_count": null,
   "id": "748f4263",
   "metadata": {},
   "outputs": [],
   "source": [
    "# Add your code here"
   ]
  },
  {
   "cell_type": "markdown",
   "id": "f28aef00",
   "metadata": {},
   "source": [
    "### Exercise 4\n",
    "\n",
    "Let's write a SQL query that will return all customers who live in Germany. \n",
    "\n",
    "Return data in the `FirstName` and `LastName` columns of the customers table where the country is equal to `Germany`."
   ]
  },
  {
   "cell_type": "code",
   "execution_count": null,
   "id": "f4621a53",
   "metadata": {},
   "outputs": [],
   "source": [
    "# Add your code here"
   ]
  },
  {
   "cell_type": "markdown",
   "id": "7a51093c",
   "metadata": {},
   "source": [
    "### Exercise 5\n",
    "\n",
    "Write a SQL query that will return all customers who don't live in Germany. \n",
    "\n",
    "Return data in the `FirstName`, `LastName`, and `Country` columns of the customers table where the country is not equal to `Germany`. \n",
    "\n",
    "Limit the results to the first 10 customers.\n"
   ]
  },
  {
   "cell_type": "code",
   "execution_count": null,
   "id": "99479d5f",
   "metadata": {},
   "outputs": [],
   "source": [
    "# Add your code here"
   ]
  },
  {
   "cell_type": "markdown",
   "id": "0e6186aa",
   "metadata": {},
   "source": [
    "### Exercise 6\n",
    "Write a query that returns all invoices that show USA purchases with a total greater than 10 dollars. \n",
    "\n",
    "Return data from all columns in the invoices table where the `BillingCountry` is equal to USA and the `Total` is greater than 10.\n"
   ]
  },
  {
   "cell_type": "code",
   "execution_count": null,
   "id": "3f15596e",
   "metadata": {},
   "outputs": [],
   "source": [
    "# Add your code here"
   ]
  },
  {
   "cell_type": "markdown",
   "id": "96f8eb3c",
   "metadata": {},
   "source": [
    "### Exercise 7\n",
    "Write a query that returns all stored information for Sales Support Agents who were hired on or after the 3rd of May 2003 and stay in Calgary.\n",
    "\n",
    "Return data in all columns from the employees table where the `HireDate` is greater than or equal to `2003-05-03` and the `Title` is equal to `Sales Support Agent` and the `City` is equal to `Calgary`.\n"
   ]
  },
  {
   "cell_type": "code",
   "execution_count": null,
   "id": "1609e96c",
   "metadata": {},
   "outputs": [],
   "source": [
    "# Add your code here"
   ]
  },
  {
   "cell_type": "markdown",
   "id": "b3c88335",
   "metadata": {},
   "source": [
    "## Solutions"
   ]
  },
  {
   "cell_type": "markdown",
   "id": "a5084b12",
   "metadata": {},
   "source": [
    "### Exercise 1"
   ]
  },
  {
   "cell_type": "code",
   "execution_count": null,
   "id": "c968d875",
   "metadata": {
    "scrolled": true
   },
   "outputs": [],
   "source": [
    "%%sql \n",
    "\n",
    "SELECT FirstName \n",
    "FROM customers\n",
    "LIMIT 10;"
   ]
  },
  {
   "cell_type": "markdown",
   "id": "294d8eef",
   "metadata": {},
   "source": [
    "### Exercise 2"
   ]
  },
  {
   "cell_type": "code",
   "execution_count": null,
   "id": "03071e34",
   "metadata": {},
   "outputs": [],
   "source": [
    "%%sql\n",
    "\n",
    "SELECT FirstName, LastName, HireDate\n",
    "FROM employees;\n"
   ]
  },
  {
   "cell_type": "markdown",
   "id": "eafe40b6",
   "metadata": {},
   "source": [
    "### Exercise 3"
   ]
  },
  {
   "cell_type": "code",
   "execution_count": null,
   "id": "1ffd2239",
   "metadata": {},
   "outputs": [],
   "source": [
    "%%sql\n",
    "\n",
    "SELECT *\n",
    "FROM employees;\n"
   ]
  },
  {
   "attachments": {},
   "cell_type": "markdown",
   "id": "ffb6a183",
   "metadata": {},
   "source": [
    "The `*` here simply means \"all columns\". Another way to write this query would have been to list each column name in the employees table individually. However, this approach gets tedious for large database tables."
   ]
  },
  {
   "cell_type": "markdown",
   "id": "e9956efe",
   "metadata": {},
   "source": [
    "### Exercise 4"
   ]
  },
  {
   "cell_type": "code",
   "execution_count": null,
   "id": "cd662edc",
   "metadata": {},
   "outputs": [],
   "source": [
    "%%sql\n",
    "\n",
    "SELECT FirstName, LastName\n",
    "FROM customers\n",
    "WHERE Country = \"Germany\";"
   ]
  },
  {
   "cell_type": "markdown",
   "id": "ff633e31",
   "metadata": {},
   "source": [
    "The double quotes (i.e. \"\") in this query are used to specify a string (i.e. VARCHAR) in SQL."
   ]
  },
  {
   "cell_type": "markdown",
   "id": "c1341a11",
   "metadata": {},
   "source": [
    "### Exercise 5"
   ]
  },
  {
   "cell_type": "code",
   "execution_count": null,
   "id": "9a0cf068",
   "metadata": {},
   "outputs": [],
   "source": [
    "%%sql\n",
    "\n",
    "SELECT FirstName, LastName, Country\n",
    "FROM customers\n",
    "WHERE Country != \"Germany\"\n",
    "LIMIT 10; "
   ]
  },
  {
   "cell_type": "markdown",
   "id": "2526e8aa",
   "metadata": {},
   "source": [
    "### Exercise 6"
   ]
  },
  {
   "cell_type": "code",
   "execution_count": null,
   "id": "b379bfa3",
   "metadata": {},
   "outputs": [],
   "source": [
    "%%sql\n",
    "\n",
    "SELECT *\n",
    "FROM invoices\n",
    "WHERE BillingCountry = \"USA\"\n",
    "    AND Total > 10;"
   ]
  },
  {
   "cell_type": "markdown",
   "id": "d2bcffd6",
   "metadata": {},
   "source": [
    "### Exercise 7"
   ]
  },
  {
   "cell_type": "code",
   "execution_count": null,
   "id": "41e1ac64",
   "metadata": {},
   "outputs": [],
   "source": [
    "%%sql\n",
    "\n",
    "SELECT * \n",
    "FROM employees\n",
    "WHERE HireDate >= \"2003-05-03\"\n",
    "    AND Title = \"Sales Support Agent\"\n",
    "    AND City = \"Calgary\";\n"
   ]
  },
  {
   "cell_type": "markdown",
   "id": "dfb8b24d",
   "metadata": {},
   "source": [
    "The above two queries join multiple boolean expressions using the AND keyword. "
   ]
  },
  {
   "cell_type": "markdown",
   "id": "6d8d9bdd",
   "metadata": {},
   "source": [
    "<div align=\"center\" style=\" font-size: 80%; text-align: center; margin: 0 auto\">\n",
    "<img src=\"https://raw.githubusercontent.com/Explore-AI/Pictures/master/ExploreAI_logos/EAI_Blue_Dark.png\"  style=\"width:200px\";/>\n",
    "</div>"
   ]
  }
 ],
 "metadata": {
  "kernelspec": {
   "display_name": "Python 3 (ipykernel)",
   "language": "python",
   "name": "python3"
  },
  "language_info": {
   "codemirror_mode": {
    "name": "ipython",
    "version": 3
   },
   "file_extension": ".py",
   "mimetype": "text/x-python",
   "name": "python",
   "nbconvert_exporter": "python",
   "pygments_lexer": "ipython3",
   "version": "3.11.4"
  }
 },
 "nbformat": 4,
 "nbformat_minor": 5
}
