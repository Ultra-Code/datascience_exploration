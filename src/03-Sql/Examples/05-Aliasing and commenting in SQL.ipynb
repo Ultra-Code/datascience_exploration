{
 "cells": [
  {
   "attachments": {},
   "cell_type": "markdown",
   "metadata": {},
   "source": [
    "<div align=\"right\" style=\" font-size: 80%; text-align: center; margin: 0 auto\">\n",
    "<img src=\"https://raw.githubusercontent.com/Explore-AI/Pictures/master/ExploreAI_logos/Logo blue_dark.png\"  style=\"width:25px\" align=\"right\";/>\n",
    "</div>"
   ]
  },
  {
   "attachments": {},
   "cell_type": "markdown",
   "metadata": {},
   "source": [
    "# Aliasing and commenting in SQL\n",
    "© ExploreAI Academy\n",
    "\n",
    "## Learning objectives\n",
    "In this notebook, we take a look at how we can add comments or notes and assign aliases to columns and tables in a notebook to make our queries more readable and understandable.\n",
    "\n",
    "By the end of this train, you should be able to:\n",
    "- Assign aliases to columns and tables.\n",
    "- Use single-line and multi-line (or block) commenting in sql.\n",
    "- Differentiate between a comment and a markdown in a notebook.\n"
   ]
  },
  {
   "cell_type": "markdown",
   "metadata": {},
   "source": [
    "First, let's load our sample database:"
   ]
  },
  {
   "cell_type": "code",
   "execution_count": null,
   "metadata": {},
   "outputs": [],
   "source": [
    "# Load and activate the SQL extension to allow us to execute SQL in a Jupyter notebook.\n",
    "%load_ext sql\n"
   ]
  },
  {
   "cell_type": "code",
   "execution_count": null,
   "metadata": {},
   "outputs": [],
   "source": [
    "# Load the Chinook database stored in your local machine. \n",
    "# Make sure the file is saved in the same folder as this notebook.\n",
    "%sql sqlite:///chinook.db"
   ]
  },
  {
   "cell_type": "markdown",
   "metadata": {},
   "source": [
    "Here is a [view](https://www.lucidchart.com/pages/er-diagrams) of all of our tables in the database:"
   ]
  },
  {
   "cell_type": "markdown",
   "metadata": {},
   "source": [
    "<div align=\"center\" style=\" font-size: 80%; text-align: center; margin: 0 auto\">\n",
    "<img src=\"https://github.com/Explore-AI/Pictures/blob/master/sqlite-sample-database-color.jpg?raw=true\"  style=\"width:500px\";/>\n",
    "<br>\n",
    "<br>\n",
    "    <em>Figure 1: Chinook ERD</em>\n",
    "</div>"
   ]
  },
  {
   "attachments": {},
   "cell_type": "markdown",
   "metadata": {},
   "source": [
    "## Aliasing in SQL\n",
    "\n",
    "Before we explain what aliases in SQL are and what they are for, let's first demonstrate their necessity. \n",
    "\n",
    "Suppose we wanted to show which customers (name and surname) and Sales Support Agents (name and surname) live in the same country.\n",
    "\n",
    "Let's imagine that Chinook was aiming to do a door-to-door marketing campaign for customers who live in the same country as Chinook employees, specifically `Canada`.\n",
    "\n",
    "This query would return data from the `FirstName` and `LastName` columns from the customers table and the `FirstName` and `LastName` columns from the employees table where the `Country` in the customers table is equal to `Canada` and the `SupportRepId` column in the customers table is equal to the `EmployeeId` column in the employees table."
   ]
  },
  {
   "cell_type": "code",
   "execution_count": null,
   "metadata": {},
   "outputs": [],
   "source": [
    "%%sql\n",
    "\n",
    "SELECT customers.FirstName, customers.LastName, employees.FirstName, employees.LastName \n",
    "FROM customers, employees\n",
    "WHERE customers.Country = \"Canada\"\n",
    "AND customers.SupportRepId = employees.EmployeeId;"
   ]
  },
  {
   "attachments": {},
   "cell_type": "markdown",
   "metadata": {},
   "source": [
    "As we can see, we have two problems here:\n",
    "\n",
    "1. The two tables have similar column names, so now we have no way of telling employees apart from customers.\n",
    "2. This query was long and took a while to type out.\n",
    "\n",
    "The SQLite environment we use will not return columns with the same names but will rename duplicates by appending `_1`,`_2`, `_3`, etc. as it encounters them (as with the last two columns). \n",
    "\n",
    "An alias is a SQL feature that the vast majority of, if not all, relational database management systems support. When table or column names are long or difficult to understand, aliases come in handy. Aliases enable users to reduce the amount of code required for a query and make queries more understandable.\n",
    "\n",
    "Aliasing is the process of temporarily renaming a table or column within a table; the table name does not change in the original database.\n",
    "Only for the length of the current query does an alias exist. That is, if we execute a separate query, even if it is linked to the present query, SQL will not remember the alias.\n",
    "\n",
    "##### We use the `AS` keyword to alias a column as follows:\n",
    "\n",
    "```sql\n",
    "SELECT column_name AS alias_name\n",
    "\n",
    "FROM table_name;\n",
    "```\n",
    "\n",
    "##### We alias a table as follows:\n",
    "\n",
    "```sql\n",
    "SELECT column_name\n",
    "\n",
    "FROM table_name alias_name;\n",
    "```\n",
    "\n",
    "Let's rewrite this query, but this time we'll use aliases to tackle the issues highlighted above."
   ]
  },
  {
   "cell_type": "code",
   "execution_count": null,
   "metadata": {},
   "outputs": [],
   "source": [
    "%%sql\n",
    "\n",
    "SELECT c.FirstName AS \"customer_name\", c.LastName AS \"customer_surname\", e.FirstName AS \"agent_name\", e.LastName AS \"agent_surname\"\n",
    "FROM customers c, employees e\n",
    "WHERE c.Country = \"Canada\"\n",
    "    AND c.SupportRepId = e.EmployeeId;"
   ]
  },
  {
   "attachments": {},
   "cell_type": "markdown",
   "metadata": {},
   "source": [
    "In this version of the query we have:\n",
    "1. Assigned aliases (i.e. custom names) to columns using the `AS` keyword.\n",
    "2. Assigned aliases to tables by typing them next to the table name in the `FROM` clause.\n",
    "\n",
    "A few rules to remember for specifying aliases:\n",
    "1. Avoid using space-separated aliases; rather separate different words with underscores or capitalisation. \n",
    "2. Avoid aliases that start with numerical characters, e.g. `1_employee`.\n"
   ]
  },
  {
   "cell_type": "markdown",
   "metadata": {},
   "source": [
    "### Commenting in SQL\n",
    "\n",
    "In a typical database, we have several lines of code and multiple developers working on the same code base, making it difficult to trace who changed the code and why, as well as the purpose of each statement in a script.\n",
    "\n",
    "SQL comments in a statement make it easier to read and maintain SQL scripts. For example, we can provide a comment that highlights the statement's intent, such as providing a specific query suggestion or update in the script logic. These comments are not executed by the SQL server, and they have no effect on query behaviour.\n",
    "\n",
    "The SQL comment can also be used to prevent the execution of certain parts of our code. Suppose we don't want to run the WHERE clause condition in a select statement. We can add a comment on the WHERE block and SQL will skip its execution.\n",
    "\n",
    "No programming language is complete without the ability to make annotations to the code. Although comments in SQL will vary depending on the software tool and flavour of SQL used, in general:\n",
    "\n",
    "- Single-line comments can be implemented with `--`. \n",
    "    These will be useful if we want to explain or document our SQL queries inline.\n",
    "- Multi-line or block comments can be implemented by enclosing code within `/*` and `*/`. \n",
    "    These will be useful if we want to prevent SQL from running certain queries within a group of queries.\n"
   ]
  },
  {
   "cell_type": "code",
   "execution_count": null,
   "metadata": {},
   "outputs": [],
   "source": [
    "%%sql\n",
    "\n",
    "-- This is a single-line comment (SQL will not execute lines that begin with '--')\n",
    "\n",
    "/* \n",
    "This is a block\n",
    "comment which will comment\n",
    "multiple lines\n",
    "*/"
   ]
  },
  {
   "cell_type": "markdown",
   "metadata": {},
   "source": [
    "For example, suppose we wanted to add a comment for the query we executed above that describes what the purpose of the query is."
   ]
  },
  {
   "cell_type": "code",
   "execution_count": null,
   "metadata": {},
   "outputs": [],
   "source": [
    "%%sql\n",
    "\n",
    "--This query shows which customers and Sales Support Agents live in Canada.\n",
    "\n",
    "SELECT \n",
    "    c.FirstName AS \"customer name\", \n",
    "    c.LastName AS \"customer surname\", \n",
    "    e.FirstName AS \"agent_name\", \n",
    "    e.LastName AS \"agent_surname\"\n",
    "FROM \n",
    "    customers c, \n",
    "    employees e\n",
    "WHERE c.Country = \"Canada\"\n",
    "    AND c.SupportRepId = e.EmployeeId;"
   ]
  },
  {
   "cell_type": "markdown",
   "metadata": {},
   "source": [
    "Another example is if we wanted to exclude the execution of the `WHERE` clause for this result."
   ]
  },
  {
   "cell_type": "code",
   "execution_count": null,
   "metadata": {},
   "outputs": [],
   "source": [
    "%%sql\n",
    "\n",
    "\n",
    "SELECT \n",
    "    c.FirstName AS \"customer name\", \n",
    "    c.LastName AS \"customer surname\", \n",
    "    e.FirstName AS \"agent_name\", \n",
    "    e.LastName AS \"agent_surname\"\n",
    "FROM \n",
    "    customers c, \n",
    "    employees e\n",
    "/*\n",
    "    WHERE c.Country = \"Canada\"\n",
    "    AND c.SupportRepId = e.EmployeeId;\n",
    "*/"
   ]
  },
  {
   "cell_type": "markdown",
   "metadata": {},
   "source": [
    "### Markdown"
   ]
  },
  {
   "cell_type": "markdown",
   "metadata": {},
   "source": [
    "It is important to differentiate between the use of **commenting** and **Markdown**. \n",
    "\n",
    "A Markdown in the context of a notebook generally refers to Markdown cells in Jupyter notebooks or other similar platforms. Markdown is a **lightweight language** that allows us to format text in a simple and easy-to-read way. It's often used for creating documentation, writing reports, or providing explanations within code-centric environments like notebooks.\n",
    "\n",
    "Markdown cells are **used to provide textual explanations, comments, headers, lists, links, images**, and more, within a notebook alongside our code. This can make our code more understandable and accessible to others, as well as **help us keep track of our thought processes and findings**.\n",
    "\n",
    "Markdowns transform notebooks into a logical, easy-to-follow, and understandable document.\n",
    "We use Markdowns in all of our notebook lessons in this course to include textual explanations, comments, and images to aid your understanding of the notebook and the concepts being covered.\n",
    "\n",
    "This text, for example, is written using Markdown.\n",
    "\n",
    "When writing code in a Jupyter notebook environment, we have the added benefit of using Markdown as well as SQL commenting to make our code more understandable and easier to read. \n",
    "\n",
    "**The key difference between Markdown and commenting** is that **within the code, comments** are lines of text that are used to clarify certain lines, blocks, or portions of the code. They're intended for programmers who read and maintain code. \n",
    "While **outside of the code, Markdown** is used to give explanations, annotations, and formatting around code blocks in documentation, reports, and notebooks."
   ]
  },
  {
   "attachments": {},
   "cell_type": "markdown",
   "metadata": {},
   "source": [
    "<div align=\"center\" style=\" font-size: 80%; text-align: center; margin: 0 auto\">\n",
    "<img src=\"https://raw.githubusercontent.com/Explore-AI/Pictures/master/ExploreAI_logos/EAI_Blue_Dark.png\"  style=\"width:200px\";/>\n",
    "</div>"
   ]
  }
 ],
 "metadata": {
  "kernelspec": {
   "display_name": "Python 3 (ipykernel)",
   "language": "python",
   "name": "python3"
  },
  "language_info": {
   "codemirror_mode": {
    "name": "ipython",
    "version": 3
   },
   "file_extension": ".py",
   "mimetype": "text/x-python",
   "name": "python",
   "nbconvert_exporter": "python",
   "pygments_lexer": "ipython3",
   "version": "3.11.4"
  }
 },
 "nbformat": 4,
 "nbformat_minor": 4
}
