{
 "cells": [
  {
   "cell_type": "markdown",
   "metadata": {
    "id": "HRcx5KjPsx7D"
   },
   "source": [
    "# Introduction to Recommender Systems\n",
    "\n",
    "## Learning Outcomes\n",
    "* Differentiate between content-based and collaborative filtering methods.\n",
    "* Explore model-based approaches for building recommender systems.\n",
    "\n",
    "## Types of Recommender Systems\n",
    "1. Content-Based Filtering\n",
    "2. Collaborative Filtering\n",
    "3. Model-Based Approaches\n",
    "\n",
    "## Applications\n",
    "* E-commerce: Product recommendations (e.g., Amazon, Takealot)\n",
    "* Streaming Services: Movie or music recommendations (e.g., Netflix, Spotify)\n",
    "* Social Media: Friend or content recommendations (e.g., Facebook, Twitter, Instagram)\n"
   ]
  },
  {
   "cell_type": "markdown",
   "metadata": {
    "id": "6QnM5wZuhcyX"
   },
   "source": [
    "![](https://miro.medium.com/v2/resize:fit:1400/1*bjNz3O2BZC2N3Y7k36fZHg.png)"
   ]
  },
  {
   "cell_type": "markdown",
   "metadata": {
    "id": "qWpjipbtun8N"
   },
   "source": [
    "# Imports and Data"
   ]
  },
  {
   "cell_type": "code",
   "execution_count": 1,
   "metadata": {
    "colab": {
     "base_uri": "https://localhost:8080/",
     "height": 300
    },
    "id": "C2lI4WhHn22R",
    "outputId": "9e6d1885-e97c-47cf-b66f-8a301fcd36f9"
   },
   "outputs": [
    {
     "data": {
      "text/html": [
       "<div>\n",
       "<style scoped>\n",
       "    .dataframe tbody tr th:only-of-type {\n",
       "        vertical-align: middle;\n",
       "    }\n",
       "\n",
       "    .dataframe tbody tr th {\n",
       "        vertical-align: top;\n",
       "    }\n",
       "\n",
       "    .dataframe thead th {\n",
       "        text-align: right;\n",
       "    }\n",
       "</style>\n",
       "<table border=\"1\" class=\"dataframe\">\n",
       "  <thead>\n",
       "    <tr style=\"text-align: right;\">\n",
       "      <th></th>\n",
       "      <th>user_id</th>\n",
       "      <th>item_id</th>\n",
       "      <th>rating</th>\n",
       "    </tr>\n",
       "  </thead>\n",
       "  <tbody>\n",
       "    <tr>\n",
       "      <th>0</th>\n",
       "      <td>1</td>\n",
       "      <td>1</td>\n",
       "      <td>5</td>\n",
       "    </tr>\n",
       "    <tr>\n",
       "      <th>1</th>\n",
       "      <td>1</td>\n",
       "      <td>2</td>\n",
       "      <td>3</td>\n",
       "    </tr>\n",
       "    <tr>\n",
       "      <th>2</th>\n",
       "      <td>1</td>\n",
       "      <td>3</td>\n",
       "      <td>4</td>\n",
       "    </tr>\n",
       "    <tr>\n",
       "      <th>3</th>\n",
       "      <td>2</td>\n",
       "      <td>1</td>\n",
       "      <td>4</td>\n",
       "    </tr>\n",
       "    <tr>\n",
       "      <th>4</th>\n",
       "      <td>2</td>\n",
       "      <td>3</td>\n",
       "      <td>2</td>\n",
       "    </tr>\n",
       "    <tr>\n",
       "      <th>5</th>\n",
       "      <td>3</td>\n",
       "      <td>2</td>\n",
       "      <td>5</td>\n",
       "    </tr>\n",
       "    <tr>\n",
       "      <th>6</th>\n",
       "      <td>3</td>\n",
       "      <td>4</td>\n",
       "      <td>3</td>\n",
       "    </tr>\n",
       "    <tr>\n",
       "      <th>7</th>\n",
       "      <td>4</td>\n",
       "      <td>1</td>\n",
       "      <td>2</td>\n",
       "    </tr>\n",
       "  </tbody>\n",
       "</table>\n",
       "</div>"
      ],
      "text/plain": [
       "   user_id  item_id  rating\n",
       "0        1        1       5\n",
       "1        1        2       3\n",
       "2        1        3       4\n",
       "3        2        1       4\n",
       "4        2        3       2\n",
       "5        3        2       5\n",
       "6        3        4       3\n",
       "7        4        1       2"
      ]
     },
     "execution_count": 1,
     "metadata": {},
     "output_type": "execute_result"
    }
   ],
   "source": [
    "import pandas as pd\n",
    "import numpy as np\n",
    "import matplotlib.pyplot as plt\n",
    "import seaborn as sns\n",
    "from sklearn.feature_extraction.text import TfidfVectorizer\n",
    "from sklearn.metrics.pairwise import cosine_similarity\n",
    "from sklearn.decomposition import TruncatedSVD\n",
    "\n",
    "# Load the dataset\n",
    "data = {\n",
    "    'user_id': [1, 1, 1, 2, 2, 3, 3, 4],\n",
    "    'item_id': [1, 2, 3, 1, 3, 2, 4, 1],\n",
    "    'rating': [5, 3, 4, 4, 2, 5, 3, 2]\n",
    "}\n",
    "df = pd.DataFrame(data)\n",
    "df"
   ]
  },
  {
   "cell_type": "markdown",
   "metadata": {
    "id": "2phpSz82xGCq"
   },
   "source": [
    "### Basic EDA"
   ]
  },
  {
   "cell_type": "code",
   "execution_count": 2,
   "metadata": {
    "colab": {
     "base_uri": "https://localhost:8080/"
    },
    "id": "mB71JobbxFlu",
    "outputId": "e8606ccc-6b8b-49e3-d348-abdeb4c2a9b0"
   },
   "outputs": [
    {
     "name": "stdout",
     "output_type": "stream",
     "text": [
      "<class 'pandas.core.frame.DataFrame'>\n",
      "RangeIndex: 8 entries, 0 to 7\n",
      "Data columns (total 3 columns):\n",
      " #   Column   Non-Null Count  Dtype\n",
      "---  ------   --------------  -----\n",
      " 0   user_id  8 non-null      int64\n",
      " 1   item_id  8 non-null      int64\n",
      " 2   rating   8 non-null      int64\n",
      "dtypes: int64(3)\n",
      "memory usage: 324.0 bytes\n"
     ]
    }
   ],
   "source": [
    "df.info()"
   ]
  },
  {
   "cell_type": "code",
   "execution_count": 3,
   "metadata": {
    "colab": {
     "base_uri": "https://localhost:8080/",
     "height": 300
    },
    "id": "CAgvRI3KyoaS",
    "outputId": "38552f14-bfb0-4064-a973-5408083832cf"
   },
   "outputs": [
    {
     "data": {
      "text/html": [
       "<div>\n",
       "<style scoped>\n",
       "    .dataframe tbody tr th:only-of-type {\n",
       "        vertical-align: middle;\n",
       "    }\n",
       "\n",
       "    .dataframe tbody tr th {\n",
       "        vertical-align: top;\n",
       "    }\n",
       "\n",
       "    .dataframe thead th {\n",
       "        text-align: right;\n",
       "    }\n",
       "</style>\n",
       "<table border=\"1\" class=\"dataframe\">\n",
       "  <thead>\n",
       "    <tr style=\"text-align: right;\">\n",
       "      <th></th>\n",
       "      <th>user_id</th>\n",
       "      <th>item_id</th>\n",
       "      <th>rating</th>\n",
       "    </tr>\n",
       "  </thead>\n",
       "  <tbody>\n",
       "    <tr>\n",
       "      <th>count</th>\n",
       "      <td>8.000000</td>\n",
       "      <td>8.000000</td>\n",
       "      <td>8.000000</td>\n",
       "    </tr>\n",
       "    <tr>\n",
       "      <th>mean</th>\n",
       "      <td>2.125000</td>\n",
       "      <td>2.125000</td>\n",
       "      <td>3.500000</td>\n",
       "    </tr>\n",
       "    <tr>\n",
       "      <th>std</th>\n",
       "      <td>1.125992</td>\n",
       "      <td>1.125992</td>\n",
       "      <td>1.195229</td>\n",
       "    </tr>\n",
       "    <tr>\n",
       "      <th>min</th>\n",
       "      <td>1.000000</td>\n",
       "      <td>1.000000</td>\n",
       "      <td>2.000000</td>\n",
       "    </tr>\n",
       "    <tr>\n",
       "      <th>25%</th>\n",
       "      <td>1.000000</td>\n",
       "      <td>1.000000</td>\n",
       "      <td>2.750000</td>\n",
       "    </tr>\n",
       "    <tr>\n",
       "      <th>50%</th>\n",
       "      <td>2.000000</td>\n",
       "      <td>2.000000</td>\n",
       "      <td>3.500000</td>\n",
       "    </tr>\n",
       "    <tr>\n",
       "      <th>75%</th>\n",
       "      <td>3.000000</td>\n",
       "      <td>3.000000</td>\n",
       "      <td>4.250000</td>\n",
       "    </tr>\n",
       "    <tr>\n",
       "      <th>max</th>\n",
       "      <td>4.000000</td>\n",
       "      <td>4.000000</td>\n",
       "      <td>5.000000</td>\n",
       "    </tr>\n",
       "  </tbody>\n",
       "</table>\n",
       "</div>"
      ],
      "text/plain": [
       "        user_id   item_id    rating\n",
       "count  8.000000  8.000000  8.000000\n",
       "mean   2.125000  2.125000  3.500000\n",
       "std    1.125992  1.125992  1.195229\n",
       "min    1.000000  1.000000  2.000000\n",
       "25%    1.000000  1.000000  2.750000\n",
       "50%    2.000000  2.000000  3.500000\n",
       "75%    3.000000  3.000000  4.250000\n",
       "max    4.000000  4.000000  5.000000"
      ]
     },
     "execution_count": 3,
     "metadata": {},
     "output_type": "execute_result"
    }
   ],
   "source": [
    "df.describe()"
   ]
  },
  {
   "cell_type": "code",
   "execution_count": 4,
   "metadata": {
    "colab": {
     "base_uri": "https://localhost:8080/",
     "height": 542
    },
    "id": "mXhkWWZ3ysXJ",
    "outputId": "bdc9dabe-f121-44b4-c2ea-d205ac3976d5"
   },
   "outputs": [
    {
     "data": {
      "image/png": "[encoded data removed]",
      "text/plain": [
       "<Figure size 800x600 with 1 Axes>"
      ]
     },
     "metadata": {},
     "output_type": "display_data"
    }
   ],
   "source": [
    "# @title Distribution of Ratings\n",
    "plt.figure(figsize=(8, 6))\n",
    "sns.countplot(data=df, x='rating')\n",
    "plt.xlabel('Rating')\n",
    "plt.ylabel('Count')\n",
    "plt.show()"
   ]
  },
  {
   "cell_type": "code",
   "execution_count": 5,
   "metadata": {
    "colab": {
     "base_uri": "https://localhost:8080/",
     "height": 542
    },
    "id": "YirGrbzvzAad",
    "outputId": "b2400700-9fd7-4676-89db-e842a8754c62"
   },
   "outputs": [
    {
     "data": {
      "image/png": "[encoded data removed]",
      "text/plain": [
       "<Figure size 800x600 with 1 Axes>"
      ]
     },
     "metadata": {},
     "output_type": "display_data"
    }
   ],
   "source": [
    "# @title Number of ratings per user\n",
    "ratings_per_user = df['user_id'].value_counts().sort_index()\n",
    "\n",
    "plt.figure(figsize=(8, 6))\n",
    "sns.barplot(x=ratings_per_user.index, y=ratings_per_user.values)\n",
    "plt.xlabel('User ID')\n",
    "plt.ylabel('Number of Ratings')\n",
    "plt.show()"
   ]
  },
  {
   "cell_type": "code",
   "execution_count": 6,
   "metadata": {
    "colab": {
     "base_uri": "https://localhost:8080/",
     "height": 542
    },
    "id": "oBNMb0BpzMNa",
    "outputId": "c63f38e6-f18a-45a2-a237-47e86cf1b775"
   },
   "outputs": [
    {
     "data": {
      "image/png": "[encoded data removed]",
      "text/plain": [
       "<Figure size 800x600 with 1 Axes>"
      ]
     },
     "metadata": {},
     "output_type": "display_data"
    }
   ],
   "source": [
    "# @title Number of ratings per item\n",
    "ratings_per_item = df['item_id'].value_counts().sort_index()\n",
    "\n",
    "plt.figure(figsize=(8, 6))\n",
    "sns.barplot(x=ratings_per_item.index, y=ratings_per_item.values)\n",
    "plt.xlabel('Item ID')\n",
    "plt.ylabel('Number of Ratings')\n",
    "plt.show()"
   ]
  },
  {
   "cell_type": "code",
   "execution_count": 7,
   "metadata": {
    "colab": {
     "base_uri": "https://localhost:8080/"
    },
    "id": "i_cOOKsdXro6",
    "outputId": "91a04bc2-5817-4683-c6db-fa77e22c17f8"
   },
   "outputs": [
    {
     "data": {
      "text/plain": [
       "{'item_id': [1, 2, 3, 4],\n",
       " 'description': ['Action and adventure movie with lots of thrills',\n",
       "  'Romantic comedy with a love story',\n",
       "  'Science fiction with futuristic elements',\n",
       "  'Animated film with fun characters']}"
      ]
     },
     "execution_count": 7,
     "metadata": {},
     "output_type": "execute_result"
    }
   ],
   "source": [
    "items = {\n",
    "    'item_id': [1, 2, 3, 4],\n",
    "    'description': [\n",
    "        \"Action and adventure movie with lots of thrills\",\n",
    "        \"Romantic comedy with a love story\",\n",
    "        \"Science fiction with futuristic elements\",\n",
    "        \"Animated film with fun characters\"\n",
    "    ]\n",
    "}\n",
    "items"
   ]
  },
  {
   "cell_type": "markdown",
   "metadata": {
    "id": "nhn2S1VbYY-Z"
   },
   "source": [
    "Every movie needs some sort of characteristics for matching"
   ]
  },
  {
   "cell_type": "code",
   "execution_count": 8,
   "metadata": {
    "colab": {
     "base_uri": "https://localhost:8080/",
     "height": 206
    },
    "id": "4RIJy-xVYfMS",
    "outputId": "6dcf743c-08e2-4c3d-abb2-21c64c8b27a7"
   },
   "outputs": [
    {
     "data": {
      "text/html": [
       "<div>\n",
       "<style scoped>\n",
       "    .dataframe tbody tr th:only-of-type {\n",
       "        vertical-align: middle;\n",
       "    }\n",
       "\n",
       "    .dataframe tbody tr th {\n",
       "        vertical-align: top;\n",
       "    }\n",
       "\n",
       "    .dataframe thead th {\n",
       "        text-align: right;\n",
       "    }\n",
       "</style>\n",
       "<table border=\"1\" class=\"dataframe\">\n",
       "  <thead>\n",
       "    <tr style=\"text-align: right;\">\n",
       "      <th></th>\n",
       "      <th>user_id</th>\n",
       "      <th>item_id</th>\n",
       "      <th>rating</th>\n",
       "      <th>description</th>\n",
       "    </tr>\n",
       "  </thead>\n",
       "  <tbody>\n",
       "    <tr>\n",
       "      <th>0</th>\n",
       "      <td>1</td>\n",
       "      <td>1</td>\n",
       "      <td>5</td>\n",
       "      <td>Action and adventure movie with lots of thrills</td>\n",
       "    </tr>\n",
       "    <tr>\n",
       "      <th>1</th>\n",
       "      <td>1</td>\n",
       "      <td>2</td>\n",
       "      <td>3</td>\n",
       "      <td>Romantic comedy with a love story</td>\n",
       "    </tr>\n",
       "    <tr>\n",
       "      <th>2</th>\n",
       "      <td>1</td>\n",
       "      <td>3</td>\n",
       "      <td>4</td>\n",
       "      <td>Science fiction with futuristic elements</td>\n",
       "    </tr>\n",
       "    <tr>\n",
       "      <th>3</th>\n",
       "      <td>2</td>\n",
       "      <td>1</td>\n",
       "      <td>4</td>\n",
       "      <td>Action and adventure movie with lots of thrills</td>\n",
       "    </tr>\n",
       "    <tr>\n",
       "      <th>4</th>\n",
       "      <td>2</td>\n",
       "      <td>3</td>\n",
       "      <td>2</td>\n",
       "      <td>Science fiction with futuristic elements</td>\n",
       "    </tr>\n",
       "  </tbody>\n",
       "</table>\n",
       "</div>"
      ],
      "text/plain": [
       "   user_id  item_id  rating                                      description\n",
       "0        1        1       5  Action and adventure movie with lots of thrills\n",
       "1        1        2       3                Romantic comedy with a love story\n",
       "2        1        3       4         Science fiction with futuristic elements\n",
       "3        2        1       4  Action and adventure movie with lots of thrills\n",
       "4        2        3       2         Science fiction with futuristic elements"
      ]
     },
     "execution_count": 8,
     "metadata": {},
     "output_type": "execute_result"
    }
   ],
   "source": [
    "items_df = pd.DataFrame(items)\n",
    "\n",
    "# Merge the ratings with item descriptions\n",
    "df = pd.merge(df, items_df, on='item_id')\n",
    "df.head()"
   ]
  },
  {
   "cell_type": "markdown",
   "metadata": {
    "id": "wnMh4_D4Yz_W"
   },
   "source": [
    "## Time to NLP"
   ]
  },
  {
   "cell_type": "code",
   "execution_count": 9,
   "metadata": {
    "id": "J3R7j9ZpZBwj"
   },
   "outputs": [],
   "source": [
    "# Create TF-IDF matrix for item descriptions\n",
    "tfidf_vectorizer = TfidfVectorizer()\n",
    "tfidf_matrix = tfidf_vectorizer.fit_transform(items_df['description'])"
   ]
  },
  {
   "cell_type": "markdown",
   "metadata": {
    "id": "RvBeE5z0biyI"
   },
   "source": [
    "The TF-IDF matrix is created from the item descriptions, where each row represents an item and each column represents a term's TF-IDF value."
   ]
  },
  {
   "cell_type": "code",
   "execution_count": 10,
   "metadata": {
    "colab": {
     "base_uri": "https://localhost:8080/"
    },
    "id": "lO81KIQMbEG2",
    "outputId": "02f65e46-f31b-40ab-dcdb-4755f7e4323b"
   },
   "outputs": [
    {
     "name": "stdout",
     "output_type": "stream",
     "text": [
      "          action  adventure      and  animated  characters    comedy  \\\n",
      "item_id                                                                \n",
      "1        0.37082    0.37082  0.37082  0.000000    0.000000  0.000000   \n",
      "2        0.00000    0.00000  0.00000  0.000000    0.000000  0.483803   \n",
      "3        0.00000    0.00000  0.00000  0.000000    0.000000  0.000000   \n",
      "4        0.00000    0.00000  0.00000  0.483803    0.483803  0.000000   \n",
      "\n",
      "         elements   fiction      film       fun  futuristic     lots  \\\n",
      "item_id                                                                \n",
      "1        0.000000  0.000000  0.000000  0.000000    0.000000  0.37082   \n",
      "2        0.000000  0.000000  0.000000  0.000000    0.000000  0.00000   \n",
      "3        0.483803  0.483803  0.000000  0.000000    0.483803  0.00000   \n",
      "4        0.000000  0.000000  0.483803  0.483803    0.000000  0.00000   \n",
      "\n",
      "             love    movie       of  romantic   science     story  thrills  \\\n",
      "item_id                                                                      \n",
      "1        0.000000  0.37082  0.37082  0.000000  0.000000  0.000000  0.37082   \n",
      "2        0.483803  0.00000  0.00000  0.483803  0.000000  0.483803  0.00000   \n",
      "3        0.000000  0.00000  0.00000  0.000000  0.483803  0.000000  0.00000   \n",
      "4        0.000000  0.00000  0.00000  0.000000  0.000000  0.000000  0.00000   \n",
      "\n",
      "             with  \n",
      "item_id            \n",
      "1        0.193509  \n",
      "2        0.252468  \n",
      "3        0.252468  \n",
      "4        0.252468  \n"
     ]
    }
   ],
   "source": [
    "print(pd.DataFrame(tfidf_matrix.toarray(), index=items_df['item_id'], columns=tfidf_vectorizer.get_feature_names_out()))"
   ]
  },
  {
   "cell_type": "markdown",
   "metadata": {
    "id": "voNBffkmus1y"
   },
   "source": [
    "# Content-Based Filtering\n",
    "Content-based filtering recommends items similar to those a user has liked in the past. It uses item features and user profiles to make recommendations.\n",
    "\n",
    "### Key Concepts:\n",
    "* Item Profile: A set of features describing the item (e.g., genre, author).\n",
    "* User Profile: A set of preferences based on the user's past interactions.\n",
    "\n",
    "### Advantages:\n",
    "* Doesn't require data on other users (works well for new items).\n",
    "* Recommendations can be explained by item features.\n",
    "\n",
    "### Disadvantages:\n",
    "* Limited to known item features.\n",
    "* Can't recommend items outside the user's existing preferences."
   ]
  },
  {
   "cell_type": "code",
   "execution_count": 11,
   "metadata": {
    "id": "79SVczJ3vbF8"
   },
   "outputs": [],
   "source": [
    "# @title Create a user profile\n",
    "user_id = 1\n",
    "user_ratings = df[df['user_id'] == user_id]"
   ]
  },
  {
   "cell_type": "code",
   "execution_count": 12,
   "metadata": {
    "colab": {
     "base_uri": "https://localhost:8080/"
    },
    "id": "BY2hD-u0c0Ot",
    "outputId": "32210f2d-79ab-45a4-a4e9-4c20296076b0"
   },
   "outputs": [
    {
     "data": {
      "text/plain": [
       "array([1.85410172, 1.85410172, 1.85410172, 0.        , 0.        ,\n",
       "       1.45140776, 1.93521035, 1.93521035, 0.        , 0.        ,\n",
       "       1.93521035, 1.85410172, 1.45140776, 1.85410172, 1.85410172,\n",
       "       1.45140776, 1.93521035, 1.45140776, 1.85410172, 2.73482502])"
      ]
     },
     "execution_count": 12,
     "metadata": {},
     "output_type": "execute_result"
    }
   ],
   "source": [
    "# @title Average the TF-IDF vectors for items the user has rated, weighted by their ratings\n",
    "user_profile = np.dot(user_ratings['rating'], tfidf_matrix[user_ratings['item_id'] - 1].toarray())\n",
    "user_profile"
   ]
  },
  {
   "cell_type": "markdown",
   "metadata": {
    "id": "RCNKfWhOgzMY"
   },
   "source": [
    "![](https://images.deepai.org/glossary-terms/cosine-similarity-1007790.jpg)"
   ]
  },
  {
   "cell_type": "markdown",
   "metadata": {
    "id": "HSp_NYW6hBE8"
   },
   "source": [
    "![](https://www.machinelearningplus.com/wp-content/uploads/2018/10/soft-cosine.png)"
   ]
  },
  {
   "cell_type": "code",
   "execution_count": 13,
   "metadata": {
    "colab": {
     "base_uri": "https://localhost:8080/"
    },
    "id": "PvG5LW6kc7LQ",
    "outputId": "f7e7c1d3-90fe-4c7e-b7d1-dd8a5a678151"
   },
   "outputs": [
    {
     "data": {
      "text/plain": [
       "array([[0.72064327, 0.47205314, 0.59835625, 0.09314381]])"
      ]
     },
     "execution_count": 13,
     "metadata": {},
     "output_type": "execute_result"
    }
   ],
   "source": [
    "# @title Calculate similarity between user profile and item profiles\n",
    "similarities = cosine_similarity([user_profile], tfidf_matrix.toarray())\n",
    "similarities"
   ]
  },
  {
   "cell_type": "code",
   "execution_count": 14,
   "metadata": {
    "colab": {
     "base_uri": "https://localhost:8080/"
    },
    "id": "tz2qMaG_dCXC",
    "outputId": "b6d906ae-c8a8-4913-f720-7a23c9c0c872"
   },
   "outputs": [
    {
     "name": "stdout",
     "output_type": "stream",
     "text": [
      "Content-Based Recommendations for User 1:\n",
      "   item_id                                      description\n",
      "1        2                Romantic comedy with a love story\n",
      "2        3         Science fiction with futuristic elements\n",
      "0        1  Action and adventure movie with lots of thrills\n"
     ]
    }
   ],
   "source": [
    "# @title Get top N recommendations\n",
    "top_n = 3\n",
    "recommended_item_indices = similarities.argsort()[0][-top_n:]\n",
    "recommended_items = items_df.iloc[recommended_item_indices]\n",
    "\n",
    "print(\"Content-Based Recommendations for User 1:\")\n",
    "print(recommended_items)"
   ]
  },
  {
   "cell_type": "markdown",
   "metadata": {
    "id": "Hyyw_GJSdXSp"
   },
   "source": [
    "# Collaborative Filtering\n",
    "Relies on user-item interactions (e.g., ratings) and makes recommendations based on similarities between users or items.\n",
    "\n",
    "### Types:\n",
    "1. User-Based Collaborative Filtering:\n",
    "Finds users similar to the target user and recommends items they liked. Uses similarity measures like cosine similarity, Pearson correlation.\n",
    "2. Item-Based Collaborative Filtering:\n",
    "Finds items similar to those the target user has liked and recommends them. Similarity between items is calculated based on user ratings.\n",
    "\n",
    "\n",
    "### Advantages:\n",
    "\n",
    "* No need for detailed item features.\n",
    "* Can discover new interests for users.\n",
    "\n",
    "### Disadvantages:\n",
    "\n",
    "* Suffers from the \"cold start\" problem (requires sufficient user interaction data).\n",
    "* Scalability issues with large datasets.\n",
    "\n",
    "### Example:\n",
    "If user A and user B both liked similar movies, and user B liked a new movie that user A hasn't seen yet, the system will recommend that new movie to user A."
   ]
  },
  {
   "cell_type": "code",
   "execution_count": 15,
   "metadata": {
    "colab": {
     "base_uri": "https://localhost:8080/",
     "height": 206
    },
    "id": "vrLDSvSndHph",
    "outputId": "56d9c508-79f9-4089-8eff-1e09ff0e9002"
   },
   "outputs": [
    {
     "data": {
      "text/html": [
       "<div>\n",
       "<style scoped>\n",
       "    .dataframe tbody tr th:only-of-type {\n",
       "        vertical-align: middle;\n",
       "    }\n",
       "\n",
       "    .dataframe tbody tr th {\n",
       "        vertical-align: top;\n",
       "    }\n",
       "\n",
       "    .dataframe thead th {\n",
       "        text-align: right;\n",
       "    }\n",
       "</style>\n",
       "<table border=\"1\" class=\"dataframe\">\n",
       "  <thead>\n",
       "    <tr style=\"text-align: right;\">\n",
       "      <th>item_id</th>\n",
       "      <th>1</th>\n",
       "      <th>2</th>\n",
       "      <th>3</th>\n",
       "      <th>4</th>\n",
       "    </tr>\n",
       "    <tr>\n",
       "      <th>user_id</th>\n",
       "      <th></th>\n",
       "      <th></th>\n",
       "      <th></th>\n",
       "      <th></th>\n",
       "    </tr>\n",
       "  </thead>\n",
       "  <tbody>\n",
       "    <tr>\n",
       "      <th>1</th>\n",
       "      <td>5.0</td>\n",
       "      <td>3.0</td>\n",
       "      <td>4.0</td>\n",
       "      <td>0.0</td>\n",
       "    </tr>\n",
       "    <tr>\n",
       "      <th>2</th>\n",
       "      <td>4.0</td>\n",
       "      <td>0.0</td>\n",
       "      <td>2.0</td>\n",
       "      <td>0.0</td>\n",
       "    </tr>\n",
       "    <tr>\n",
       "      <th>3</th>\n",
       "      <td>0.0</td>\n",
       "      <td>5.0</td>\n",
       "      <td>0.0</td>\n",
       "      <td>3.0</td>\n",
       "    </tr>\n",
       "    <tr>\n",
       "      <th>4</th>\n",
       "      <td>2.0</td>\n",
       "      <td>0.0</td>\n",
       "      <td>0.0</td>\n",
       "      <td>0.0</td>\n",
       "    </tr>\n",
       "  </tbody>\n",
       "</table>\n",
       "</div>"
      ],
      "text/plain": [
       "item_id    1    2    3    4\n",
       "user_id                    \n",
       "1        5.0  3.0  4.0  0.0\n",
       "2        4.0  0.0  2.0  0.0\n",
       "3        0.0  5.0  0.0  3.0\n",
       "4        2.0  0.0  0.0  0.0"
      ]
     },
     "execution_count": 15,
     "metadata": {},
     "output_type": "execute_result"
    }
   ],
   "source": [
    "# @title Create user-item matrix\n",
    "user_item_matrix = df.pivot_table(index='user_id', columns='item_id', values='rating', fill_value=0)\n",
    "user_item_matrix"
   ]
  },
  {
   "cell_type": "code",
   "execution_count": 16,
   "metadata": {
    "colab": {
     "base_uri": "https://localhost:8080/",
     "height": 206
    },
    "id": "hOWp91SYeedm",
    "outputId": "48aaa459-3f66-4392-ab61-ff076fab5439"
   },
   "outputs": [
    {
     "data": {
      "text/html": [
       "<div>\n",
       "<style scoped>\n",
       "    .dataframe tbody tr th:only-of-type {\n",
       "        vertical-align: middle;\n",
       "    }\n",
       "\n",
       "    .dataframe tbody tr th {\n",
       "        vertical-align: top;\n",
       "    }\n",
       "\n",
       "    .dataframe thead th {\n",
       "        text-align: right;\n",
       "    }\n",
       "</style>\n",
       "<table border=\"1\" class=\"dataframe\">\n",
       "  <thead>\n",
       "    <tr style=\"text-align: right;\">\n",
       "      <th>user_id</th>\n",
       "      <th>1</th>\n",
       "      <th>2</th>\n",
       "      <th>3</th>\n",
       "      <th>4</th>\n",
       "    </tr>\n",
       "    <tr>\n",
       "      <th>user_id</th>\n",
       "      <th></th>\n",
       "      <th></th>\n",
       "      <th></th>\n",
       "      <th></th>\n",
       "    </tr>\n",
       "  </thead>\n",
       "  <tbody>\n",
       "    <tr>\n",
       "      <th>1</th>\n",
       "      <td>1.000000</td>\n",
       "      <td>0.885438</td>\n",
       "      <td>0.363803</td>\n",
       "      <td>0.707107</td>\n",
       "    </tr>\n",
       "    <tr>\n",
       "      <th>2</th>\n",
       "      <td>0.885438</td>\n",
       "      <td>1.000000</td>\n",
       "      <td>0.000000</td>\n",
       "      <td>0.894427</td>\n",
       "    </tr>\n",
       "    <tr>\n",
       "      <th>3</th>\n",
       "      <td>0.363803</td>\n",
       "      <td>0.000000</td>\n",
       "      <td>1.000000</td>\n",
       "      <td>0.000000</td>\n",
       "    </tr>\n",
       "    <tr>\n",
       "      <th>4</th>\n",
       "      <td>0.707107</td>\n",
       "      <td>0.894427</td>\n",
       "      <td>0.000000</td>\n",
       "      <td>1.000000</td>\n",
       "    </tr>\n",
       "  </tbody>\n",
       "</table>\n",
       "</div>"
      ],
      "text/plain": [
       "user_id         1         2         3         4\n",
       "user_id                                        \n",
       "1        1.000000  0.885438  0.363803  0.707107\n",
       "2        0.885438  1.000000  0.000000  0.894427\n",
       "3        0.363803  0.000000  1.000000  0.000000\n",
       "4        0.707107  0.894427  0.000000  1.000000"
      ]
     },
     "execution_count": 16,
     "metadata": {},
     "output_type": "execute_result"
    }
   ],
   "source": [
    "# @title Calculate cosine similarity\n",
    "user_similarity = cosine_similarity(user_item_matrix)\n",
    "user_similarity_df = pd.DataFrame(user_similarity, index=user_item_matrix.index, columns=user_item_matrix.index)\n",
    "user_similarity_df"
   ]
  },
  {
   "cell_type": "code",
   "execution_count": 17,
   "metadata": {
    "id": "_MIT8d6Fel4n"
   },
   "outputs": [],
   "source": [
    "# @title Get top N recommendations for a user\n",
    "def get_collaborative_recommendations(user_id, user_item_matrix, user_similarity_df, n=3):\n",
    "    similar_users = user_similarity_df[user_id].sort_values(ascending=False).index[1:]\n",
    "    similar_users_ratings = user_item_matrix.loc[similar_users].mean()\n",
    "    recommendations = similar_users_ratings.sort_values(ascending=False).index[:n]\n",
    "    return recommendations\n"
   ]
  },
  {
   "cell_type": "code",
   "execution_count": 18,
   "metadata": {
    "colab": {
     "base_uri": "https://localhost:8080/"
    },
    "id": "oc-ILUqjezX3",
    "outputId": "4dab43e3-8477-4262-cb6c-1be5472ecd01"
   },
   "outputs": [
    {
     "name": "stdout",
     "output_type": "stream",
     "text": [
      "Index([1, 2, 4], dtype='int64', name='item_id')\n"
     ]
    }
   ],
   "source": [
    "# @title Collaborative Filtering Recommendations for User 1\n",
    "\n",
    "print(get_collaborative_recommendations(1, user_item_matrix, user_similarity_df))\n"
   ]
  },
  {
   "cell_type": "markdown",
   "metadata": {
    "id": "ySimeQSVeCFb"
   },
   "source": [
    "# Model-Based Approaches\n",
    "Use machine learning techniques to predict user preferences. These methods build a model based on the training data and use it to make recommendations.\n",
    "\n",
    "### Common Techniques:\n",
    "\n",
    "1. Matrix Factorization (e.g., SVD, ALS): Decomposes the user-item interaction matrix into latent factors.\n",
    "2. Deep Learning: Neural networks to capture complex patterns in data (e.g., autoencoders, deep collaborative filtering).\n",
    "\n",
    "### Advantages:\n",
    "\n",
    "* Can handle large datasets efficiently.\n",
    "* Often provide better accuracy than heuristic methods.\n",
    "\n",
    "### Disadvantages:\n",
    "\n",
    "* Requires significant computational resources.\n",
    "* May be complex to implement and interpret.\n",
    "\n",
    "### Example:\n",
    "Matrix factorization techniques can predict user ratings by learning latent factors representing users and items, which are then used to approximate the original user-item interaction matrix."
   ]
  },
  {
   "cell_type": "code",
   "execution_count": 19,
   "metadata": {
    "id": "sULz5VuieT4z"
   },
   "outputs": [],
   "source": [
    "# @title Apply SVD\n",
    "svd = TruncatedSVD(n_components=2)\n",
    "user_item_matrix_svd = svd.fit_transform(user_item_matrix)"
   ]
  },
  {
   "cell_type": "code",
   "execution_count": 20,
   "metadata": {
    "id": "dqjlHIGufMZC"
   },
   "outputs": [],
   "source": [
    "# @title Reconstruct the matrix\n",
    "reconstructed_matrix = np.dot(user_item_matrix_svd, svd.components_)"
   ]
  },
  {
   "cell_type": "code",
   "execution_count": 21,
   "metadata": {
    "id": "8cLTBplofO-3"
   },
   "outputs": [],
   "source": [
    "# @title Get top N recommendations for a user\n",
    "def get_svd_recommendations(user_id, reconstructed_matrix, n=3):\n",
    "    user_ratings = reconstructed_matrix[user_id - 1]\n",
    "    recommendations = np.argsort(user_ratings)[-n:]\n",
    "    return recommendations"
   ]
  },
  {
   "cell_type": "code",
   "execution_count": 22,
   "metadata": {
    "colab": {
     "base_uri": "https://localhost:8080/"
    },
    "id": "OcUTsqbsfSjp",
    "outputId": "c9003fc8-8ea5-4c6b-adeb-07c015617304"
   },
   "outputs": [
    {
     "name": "stdout",
     "output_type": "stream",
     "text": [
      "Model-Based Recommendations for User 1: [1 2 0]\n"
     ]
    }
   ],
   "source": [
    "print(\"Model-Based Recommendations for User 1:\", get_svd_recommendations(1, reconstructed_matrix))"
   ]
  },
  {
   "cell_type": "markdown",
   "metadata": {
    "id": "uLxzEpAXfeLM"
   },
   "source": [
    "## Learning Outcomes\n",
    "* Differentiate between content-based and collaborative filtering methods.\n",
    "* Explore model-based approaches for building recommender systems."
   ]
  }
 ],
 "metadata": {
  "colab": {
   "provenance": []
  },
  "kernelspec": {
   "display_name": "Python 3 (ipykernel)",
   "language": "python",
   "name": "python3"
  },
  "language_info": {
   "codemirror_mode": {
    "name": "ipython",
    "version": 3
   },
   "file_extension": ".py",
   "mimetype": "text/x-python",
   "name": "python",
   "nbconvert_exporter": "python",
   "pygments_lexer": "ipython3",
   "version": "3.12.4"
  }
 },
 "nbformat": 4,
 "nbformat_minor": 4
}
