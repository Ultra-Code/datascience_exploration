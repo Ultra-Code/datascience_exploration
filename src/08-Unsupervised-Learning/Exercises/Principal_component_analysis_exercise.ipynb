{
 "cells": [
  {
   "cell_type": "markdown",
   "metadata": {
    "id": "Ee-v8I_P8rfp"
   },
   "source": [
    "<div align=\"center\" style=\" font-size: 80%; text-align: center; margin: 0 auto\">\n",
    "<img src=\"https://raw.githubusercontent.com/Explore-AI/Pictures/master/Python-Notebook-Banners/Exercise.png\"  style=\"display: block; margin-left: auto; margin-right: auto;\";/>\n",
    "</div>\n",
    "\n",
    "# Exercise: Principal component analysis\n",
    "© ExploreAI Academy\n",
    "\n",
    "In this exercise, we apply PCA to a dataset, evaluate the cumulative variance explained, and determine the appropriate number of components to retain."
   ]
  },
  {
   "attachments": {},
   "cell_type": "markdown",
   "metadata": {
    "id": "ITqrvAqq8xSC"
   },
   "source": [
    "## Learning objectives\n",
    "\n",
    "By the end of this train, you should be able to:\n",
    "* Apply PCA to reduce a dataset’s dimensionality.\n",
    "* Evaluate the cumulative variance explained by each principal component.\n",
    "* Determine the number of components needed to capture at least 85% of the variance. "
   ]
  },
  {
   "attachments": {},
   "cell_type": "markdown",
   "metadata": {},
   "source": [
    "## Overview\n",
    "\n",
    "The Digits dataset consists of 1,797 images of handwritten digits, each represented by a 64-dimensional feature vector. The dataset's high dimensionality can pose challenges when visualising and exploring it and could also lead to model complexity.\n",
    "\n",
    "In this exercise, we apply PCA to the Digits dataset and evaluate its ability to reduce the dataset's dimensionality while retaining valuable information."
   ]
  },
  {
   "cell_type": "markdown",
   "metadata": {},
   "source": [
    "## Import libraries "
   ]
  },
  {
   "cell_type": "code",
   "execution_count": 1,
   "metadata": {},
   "outputs": [],
   "source": [
    "import numpy as np\n",
    "import pandas as pd\n",
    "import matplotlib.pyplot as plt\n",
    "from sklearn.datasets import load_digits\n",
    "from sklearn.decomposition import PCA\n",
    "from sklearn.preprocessing import StandardScaler"
   ]
  },
  {
   "cell_type": "markdown",
   "metadata": {},
   "source": [
    "## Load and prepare dataset"
   ]
  },
  {
   "cell_type": "code",
   "execution_count": 2,
   "metadata": {},
   "outputs": [],
   "source": [
    "# Load the dataset\n",
    "digits = load_digits()\n",
    "X = digits.data\n",
    "y = digits.target\n",
    "\n",
    "# Standardize the features\n",
    "scaler = StandardScaler()\n",
    "X_scaled = scaler.fit_transform(X)"
   ]
  },
  {
   "cell_type": "markdown",
   "metadata": {},
   "source": [
    "## Exercises"
   ]
  },
  {
   "attachments": {},
   "cell_type": "markdown",
   "metadata": {},
   "source": [
    "### Exercise 1\n",
    "\n",
    "To reduce the dataset's dimensionality, let's transform the standardised dataset by applying PCA."
   ]
  },
  {
   "cell_type": "code",
   "execution_count": 5,
   "metadata": {},
   "outputs": [],
   "source": [
    "pca = PCA()\n",
    "pca_dimension_reduced = pca.fit_transform(X_scaled)\n",
    "pca_df = pd.DataFrame(data = pca_dimension_reduced)"
   ]
  },
  {
   "cell_type": "markdown",
   "metadata": {},
   "source": [
    "### Exercise 2\n",
    "\n",
    "To understand which components carry the most information, we can assess how much of the dataset's variance is captured by each principal component.\n",
    "\n",
    "Compute and print the `Explained Variance Ratio` for each principal component formatted to four decimal places."
   ]
  },
  {
   "cell_type": "code",
   "execution_count": 10,
   "metadata": {},
   "outputs": [
    {
     "name": "stdout",
     "output_type": "stream",
     "text": [
      "Component 1 has a variance ratio of 0.1203\n",
      "Component 2 has a variance ratio of 0.0956\n",
      "Component 3 has a variance ratio of 0.0844\n",
      "Component 4 has a variance ratio of 0.0650\n",
      "Component 5 has a variance ratio of 0.0486\n",
      "Component 6 has a variance ratio of 0.0421\n",
      "Component 7 has a variance ratio of 0.0394\n",
      "Component 8 has a variance ratio of 0.0339\n",
      "Component 9 has a variance ratio of 0.0300\n",
      "Component 10 has a variance ratio of 0.0293\n",
      "Component 11 has a variance ratio of 0.0278\n",
      "Component 12 has a variance ratio of 0.0258\n",
      "Component 13 has a variance ratio of 0.0228\n",
      "Component 14 has a variance ratio of 0.0223\n",
      "Component 15 has a variance ratio of 0.0217\n",
      "Component 16 has a variance ratio of 0.0191\n",
      "Component 17 has a variance ratio of 0.0178\n",
      "Component 18 has a variance ratio of 0.0164\n",
      "Component 19 has a variance ratio of 0.0160\n",
      "Component 20 has a variance ratio of 0.0149\n",
      "Component 21 has a variance ratio of 0.0135\n",
      "Component 22 has a variance ratio of 0.0127\n",
      "Component 23 has a variance ratio of 0.0117\n",
      "Component 24 has a variance ratio of 0.0106\n",
      "Component 25 has a variance ratio of 0.0098\n",
      "Component 26 has a variance ratio of 0.0094\n",
      "Component 27 has a variance ratio of 0.0086\n",
      "Component 28 has a variance ratio of 0.0084\n",
      "Component 29 has a variance ratio of 0.0080\n",
      "Component 30 has a variance ratio of 0.0075\n",
      "Component 31 has a variance ratio of 0.0073\n",
      "Component 32 has a variance ratio of 0.0069\n",
      "Component 33 has a variance ratio of 0.0065\n",
      "Component 34 has a variance ratio of 0.0064\n",
      "Component 35 has a variance ratio of 0.0059\n",
      "Component 36 has a variance ratio of 0.0057\n",
      "Component 37 has a variance ratio of 0.0052\n",
      "Component 38 has a variance ratio of 0.0048\n",
      "Component 39 has a variance ratio of 0.0045\n",
      "Component 40 has a variance ratio of 0.0042\n",
      "Component 41 has a variance ratio of 0.0041\n",
      "Component 42 has a variance ratio of 0.0040\n",
      "Component 43 has a variance ratio of 0.0036\n",
      "Component 44 has a variance ratio of 0.0034\n",
      "Component 45 has a variance ratio of 0.0033\n",
      "Component 46 has a variance ratio of 0.0031\n",
      "Component 47 has a variance ratio of 0.0029\n",
      "Component 48 has a variance ratio of 0.0028\n",
      "Component 49 has a variance ratio of 0.0026\n",
      "Component 50 has a variance ratio of 0.0023\n",
      "Component 51 has a variance ratio of 0.0022\n",
      "Component 52 has a variance ratio of 0.0020\n",
      "Component 53 has a variance ratio of 0.0020\n",
      "Component 54 has a variance ratio of 0.0018\n",
      "Component 55 has a variance ratio of 0.0017\n",
      "Component 56 has a variance ratio of 0.0016\n",
      "Component 57 has a variance ratio of 0.0015\n",
      "Component 58 has a variance ratio of 0.0014\n",
      "Component 59 has a variance ratio of 0.0013\n",
      "Component 60 has a variance ratio of 0.0010\n",
      "Component 61 has a variance ratio of 0.0008\n",
      "Component 62 has a variance ratio of 0.0000\n",
      "Component 63 has a variance ratio of 0.0000\n",
      "Component 64 has a variance ratio of 0.0000\n"
     ]
    }
   ],
   "source": [
    "for index, ratio in enumerate(pca.explained_variance_ratio_):\n",
    "    print(f\"Component {index+1} has a variance ratio of {ratio:.4f}\")"
   ]
  },
  {
   "cell_type": "markdown",
   "metadata": {},
   "source": [
    "### Exercise 3\n",
    "\n",
    "We can also evaluate how much total variance is captured as components are added incrementally. This can help us get a view of how many components are needed to capture a substantial proportion of the dataset's variance.\n",
    "\n",
    "Determine the cumulative variance ratio by summing the explained variance ratios of each principal component."
   ]
  },
  {
   "cell_type": "code",
   "execution_count": 12,
   "metadata": {},
   "outputs": [
    {
     "name": "stdout",
     "output_type": "stream",
     "text": [
      "Component 1 has a variance ratio of 0.1203\n",
      "Component 2 has a variance ratio of 0.2159\n",
      "Component 3 has a variance ratio of 0.3004\n",
      "Component 4 has a variance ratio of 0.3654\n",
      "Component 5 has a variance ratio of 0.4140\n",
      "Component 6 has a variance ratio of 0.4561\n",
      "Component 7 has a variance ratio of 0.4955\n",
      "Component 8 has a variance ratio of 0.5294\n",
      "Component 9 has a variance ratio of 0.5594\n",
      "Component 10 has a variance ratio of 0.5887\n",
      "Component 11 has a variance ratio of 0.6166\n",
      "Component 12 has a variance ratio of 0.6423\n",
      "Component 13 has a variance ratio of 0.6651\n",
      "Component 14 has a variance ratio of 0.6874\n",
      "Component 15 has a variance ratio of 0.7090\n",
      "Component 16 has a variance ratio of 0.7281\n",
      "Component 17 has a variance ratio of 0.7459\n",
      "Component 18 has a variance ratio of 0.7623\n",
      "Component 19 has a variance ratio of 0.7782\n",
      "Component 20 has a variance ratio of 0.7931\n",
      "Component 21 has a variance ratio of 0.8066\n",
      "Component 22 has a variance ratio of 0.8193\n",
      "Component 23 has a variance ratio of 0.8310\n",
      "Component 24 has a variance ratio of 0.8416\n",
      "Component 25 has a variance ratio of 0.8513\n",
      "Component 26 has a variance ratio of 0.8608\n",
      "Component 27 has a variance ratio of 0.8694\n",
      "Component 28 has a variance ratio of 0.8778\n",
      "Component 29 has a variance ratio of 0.8857\n",
      "Component 30 has a variance ratio of 0.8932\n",
      "Component 31 has a variance ratio of 0.9005\n",
      "Component 32 has a variance ratio of 0.9074\n",
      "Component 33 has a variance ratio of 0.9139\n",
      "Component 34 has a variance ratio of 0.9203\n",
      "Component 35 has a variance ratio of 0.9262\n",
      "Component 36 has a variance ratio of 0.9320\n",
      "Component 37 has a variance ratio of 0.9372\n",
      "Component 38 has a variance ratio of 0.9420\n",
      "Component 39 has a variance ratio of 0.9465\n",
      "Component 40 has a variance ratio of 0.9508\n",
      "Component 41 has a variance ratio of 0.9548\n",
      "Component 42 has a variance ratio of 0.9588\n",
      "Component 43 has a variance ratio of 0.9624\n",
      "Component 44 has a variance ratio of 0.9658\n",
      "Component 45 has a variance ratio of 0.9691\n",
      "Component 46 has a variance ratio of 0.9722\n",
      "Component 47 has a variance ratio of 0.9751\n",
      "Component 48 has a variance ratio of 0.9778\n",
      "Component 49 has a variance ratio of 0.9804\n",
      "Component 50 has a variance ratio of 0.9828\n",
      "Component 51 has a variance ratio of 0.9849\n",
      "Component 52 has a variance ratio of 0.9870\n",
      "Component 53 has a variance ratio of 0.9889\n",
      "Component 54 has a variance ratio of 0.9908\n",
      "Component 55 has a variance ratio of 0.9924\n",
      "Component 56 has a variance ratio of 0.9941\n",
      "Component 57 has a variance ratio of 0.9955\n",
      "Component 58 has a variance ratio of 0.9969\n",
      "Component 59 has a variance ratio of 0.9981\n",
      "Component 60 has a variance ratio of 0.9992\n",
      "Component 61 has a variance ratio of 1.0000\n",
      "Component 62 has a variance ratio of 1.0000\n",
      "Component 63 has a variance ratio of 1.0000\n",
      "Component 64 has a variance ratio of 1.0000\n"
     ]
    }
   ],
   "source": [
    "for index, ratio in enumerate(np.cumsum(pca.explained_variance_ratio_)):\n",
    "    print(f\"Component {index+1} has a variance ratio of {ratio:.4f}\")"
   ]
  },
  {
   "cell_type": "markdown",
   "metadata": {},
   "source": [
    "### Exercise 4\n",
    "\n",
    "Based on the results from **Exercise 3**, determine how many components are needed to capture at least 85% of the total variance.\n",
    "\n",
    "Discuss the impact of this on subsequent analysis or modeling."
   ]
  },
  {
   "cell_type": "code",
   "execution_count": 14,
   "metadata": {},
   "outputs": [
    {
     "name": "stdout",
     "output_type": "stream",
     "text": [
      "25 components needed to capture at least 85% of total variance\n"
     ]
    }
   ],
   "source": [
    "cum_explained_variance_ratio = np.cumsum(pca.explained_variance_ratio_)\n",
    "for index, ratio in enumerate(cum_explained_variance_ratio):\n",
    "    if ratio >= 0.85:\n",
    "        print(f\"{index+1} components needed to capture at least 85% of total variance\")\n",
    "        break"
   ]
  },
  {
   "cell_type": "markdown",
   "metadata": {},
   "source": [
    "## Solutions"
   ]
  },
  {
   "cell_type": "markdown",
   "metadata": {},
   "source": [
    "### Exercise 1"
   ]
  },
  {
   "cell_type": "code",
   "execution_count": null,
   "metadata": {},
   "outputs": [],
   "source": [
    "# Apply PCA\n",
    "pca = PCA()\n",
    "X_pca = pca.fit_transform(X_scaled)"
   ]
  },
  {
   "cell_type": "markdown",
   "metadata": {},
   "source": [
    "### Exercise 2"
   ]
  },
  {
   "cell_type": "code",
   "execution_count": null,
   "metadata": {},
   "outputs": [],
   "source": [
    "# Get the explained variance ratio\n",
    "explained_variance_ratio = pca.explained_variance_ratio_\n",
    "\n",
    "# Print the explained variance ratio\n",
    "for i, ev in enumerate(explained_variance_ratio):\n",
    "    print(f\"PC{i+1}: Explained Variance = {ev:.4f}\")"
   ]
  },
  {
   "cell_type": "markdown",
   "metadata": {},
   "source": [
    "The explained variance ratios show that the first few principal components (PC1, PC2, PC3) capture the most variance, with PC1 accounting for 12.03%. As we move to higher components, the explained variance decreases, indicating they carry less information about the dataset's overall variance."
   ]
  },
  {
   "cell_type": "markdown",
   "metadata": {},
   "source": [
    "### Exercise 3"
   ]
  },
  {
   "cell_type": "code",
   "execution_count": null,
   "metadata": {},
   "outputs": [],
   "source": [
    "# Calculate the cumulative variance ratio\n",
    "cumulative_variance_ratio = np.cumsum(explained_variance_ratio)\n",
    "\n",
    "# Print the cumulative variance ratio\n",
    "for i, cv in enumerate(cumulative_variance_ratio):\n",
    "    print(f\"PC{i+1}: Cumulative Variance = {cv:.4f}\")"
   ]
  },
  {
   "cell_type": "markdown",
   "metadata": {},
   "source": [
    "The results show that each additional principal component captures more variance. For example, PC1 captures 12.03%, and by PC10, 58.87% is captured. All 64 components capture 100% variance. This helps identify how many components are needed to capture a significant portion of the dataset's variance."
   ]
  },
  {
   "cell_type": "markdown",
   "metadata": {},
   "source": [
    "### Exercise 4"
   ]
  },
  {
   "cell_type": "markdown",
   "metadata": {},
   "source": [
    "The cumulative variance ratio shows that to reach at least 85% cumulative variance, 25 components are needed.\n",
    "\n",
    "We observe that by retaining the first 25 components, we can capture 85.13% of the total variance in the dataset, which significantly reduces the dataset's dimensionality while retaining most of its information.\n",
    "\n",
    "Using 25 components instead of the original 64 simplifies any downstream models by reducing their feature space, potentially improving model performance and interpretability.\n",
    "\n",
    "The reduced number of components also makes visualising the data easier, which can provide meaningful insights into class separations or clustering.\n",
    "\n",
    "Therefore, the ability to capture over 85% of the variance with 25 components makes PCA a viable dimensionality reduction technique for this dataset, preserving most information while simplifying further analyses."
   ]
  },
  {
   "cell_type": "markdown",
   "metadata": {},
   "source": [
    "<div align=\"center\" style=\" font-size: 80%; text-align: center; margin: 0 auto\">\n",
    "<img src=\"https://raw.githubusercontent.com/Explore-AI/Pictures/master/ExploreAI_logos/EAI_Blue_Dark.png\"  style=\"width:200px\";/>\n",
    "</div>"
   ]
  }
 ],
 "metadata": {
  "colab": {
   "authorship_tag": "ABX9TyPZFCZhaikX+N2/Bg7W6SY+",
   "collapsed_sections": [],
   "name": "Search_algorithms.ipynb",
   "provenance": [],
   "toc_visible": true
  },
  "interpreter": {
   "hash": "6b5ebbc2c6bde2831bc6c0426f75aca8137ccfc69d329557556ed73faee126ae"
  },
  "kernelspec": {
   "display_name": "Python 3 (ipykernel)",
   "language": "python",
   "name": "python3"
  },
  "language_info": {
   "codemirror_mode": {
    "name": "ipython",
    "version": 3
   },
   "file_extension": ".py",
   "mimetype": "text/x-python",
   "name": "python",
   "nbconvert_exporter": "python",
   "pygments_lexer": "ipython3",
   "version": "3.12.3"
  }
 },
 "nbformat": 4,
 "nbformat_minor": 4
}
