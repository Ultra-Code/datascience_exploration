{
 "cells": [
  {
   "cell_type": "markdown",
   "metadata": {},
   "source": [
    "<div align=\"right\" style=\" font-size: 80%; text-align: center; margin: 0 auto\">\n",
    "<img src=\"https://raw.githubusercontent.com/Explore-AI/Pictures/master/ExploreAI_logos/Logo blue_dark.png\"  style=\"width:25px\" align=\"right\";/>\n",
    "</div>"
   ]
  },
  {
   "cell_type": "markdown",
   "metadata": {},
   "source": [
    "# Data anomalies – 2NF [Exercise]\n",
    "© ExploreAI Academy\n",
    "\n",
    "Database normalisation is a design technique for decoupling table structures to **reduce data redundancies and anomalies**. \n",
    "\n",
    "In this train, we will go through a practical example of normalising a database up to the **Second Normal Form**. At the end of the train, we will reflect on the data anomalies that can occur in practice and how **2NF** attempts to remedy their  state. \n",
    "\n",
    "## Learning objectives\n",
    "In this train, we will:\n",
    "* Learn how to normalise a database up to the Second Normal Form.\n",
    "* Learn how to decompose a 1NF database into multiple tables to eliminate partial dependencies.\n",
    "* Understand data anomalies and how database normalisation reduces the likelihood of their occurrence. "
   ]
  },
  {
   "attachments": {},
   "cell_type": "markdown",
   "metadata": {},
   "source": [
    "## Imports and DB connections\n",
    "\n",
    "> ⚠️ ⚠️ This exercise extends the concepts introduced in the previous one, `Data anomalies – 1NF`. Therefore, it's important to ensure that you continue using the modified SoftDevEmployees.db database after successfully completing the previous exercise.\n",
    "\n",
    "> ⚠️ Since the queries here will modify the database, you will have to get a fresh copy of the modified database to redo the code cells."
   ]
  },
  {
   "cell_type": "code",
   "execution_count": null,
   "metadata": {},
   "outputs": [],
   "source": [
    "# Load and activate the SQL extension to allow us to execute SQL in a Jupyter notebook.\n",
    "%load_ext sql"
   ]
  },
  {
   "cell_type": "code",
   "execution_count": null,
   "metadata": {},
   "outputs": [],
   "source": [
    "## Load the SoftDevEmployees database stored in your local machine. \n",
    "# Make sure the file is saved in the same folder as this notebook.\n",
    "%sql sqlite:///SoftDevEmployees.db"
   ]
  },
  {
   "cell_type": "markdown",
   "metadata": {},
   "source": [
    "## Data anomalies\n",
    "\n",
    "Data anomalies are issues that present themselves in poorly structured or denormalised databases. The following are examples of commonly occurring anomalies which you may find: \n",
    "\n",
    " - **Deletion anomaly**: The deletion of a record that leads to the unintentional removal of another required attribute from the database. \n",
    " - **Insertion anomaly**: The inability to insert a record as it requires additional data which may presently not be available.\n",
    " - **Update anomaly**: This occurs when we have duplicated data; if we were to update the affected rows and a single row gets missed, this will lead to a data inconsistency."
   ]
  },
  {
   "cell_type": "markdown",
   "metadata": {},
   "source": [
    "## First Normal Form database\n",
    "\n",
    "Below is the ERD for the **`SoftDevEmployees.db`** database which contains a single table called **`Employees_1NF`**. Currently, our database is in the **First Normal Form (1NF)**. Our goal within this train is to transform this database to conform to the **Second Normal Form**. \n",
    "\n",
    "\n",
    "<img src =\"https://raw.githubusercontent.com/Explore-AI/Pictures/master/SQL4DS/Practical_Normalization/1NF.png\" alt=\"first Normal Form\" >"
   ]
  },
  {
   "cell_type": "markdown",
   "metadata": {},
   "source": [
    "## Second Normal Form – 2NF\n",
    "\n",
    "To convert to the Second Normal Form, we need to make sure that we meet the following conditions: \n",
    "\n",
    "1. The table needs to already be in the First Normal Form.\n",
    "2. The table should not contain any **partial dependencies.**\n",
    "\n",
    "**No partial dependency** simply means that **every non-key attribute should be fully dependent on the primary key**. This translates to each table serving a single purpose."
   ]
  },
  {
   "cell_type": "markdown",
   "metadata": {},
   "source": [
    "## Converting to 2NF\n",
    "\n",
    "The strategy to \"employ\" here is to create new tables that each serve a single purpose. Have a look at the desired ERD sketch given below:\n",
    "\n",
    "<img src=\"https://raw.githubusercontent.com/Explore-AI/Pictures/master/SQL4DS/Practical_Normalization/2NF.png\" alt=\"Second Normal Form\">\n",
    "\n",
    "Note that most of the heavy lifting was performed when setting up the First Normal Form. So we will use this table to create the required fields for the Second Normal Form.\n",
    "We want to achieve the following:\n",
    "\n",
    "1. Create the required tables. \n",
    "2. For each table, pay attention to relationships that exist between the tables and create the appropriate foreign keys to maintain the referential integrity of the tables."
   ]
  },
  {
   "cell_type": "markdown",
   "metadata": {},
   "source": [
    "### Exercise 1 – Create the required tables\n",
    "\n",
    "Let's start by creating the required 2NF tables based on the above structure. They include: \n",
    "- **`Titles_2NF`**\n",
    "- **`Roles_2NF`**\n",
    "- **`Departments_2NF`**\n",
    "- **`Employees_2NF`**\n",
    "- **`Employee_Department_2NF`**\n",
    "- **`Employee_Role_2NF`**\n",
    "\n",
    "Remember to `AUTOINCREMENT` the **ID** `PRIMARY KEY` columns for each table."
   ]
  },
  {
   "cell_type": "code",
   "execution_count": null,
   "metadata": {},
   "outputs": [],
   "source": [
    "# Add your code here"
   ]
  },
  {
   "cell_type": "markdown",
   "metadata": {},
   "source": [
    "### Exercise 2\n",
    "\n",
    "Let us proceed to populate the 2NF tables we have created in Exercise 1 using the relevant data from the **`Employees_1NF`** table. "
   ]
  },
  {
   "cell_type": "markdown",
   "metadata": {},
   "source": [
    "### 2.1 – Populate the `Titles_2NF`, `Roles_2NF`, and `Departments_2NF` tables\n",
    "\n",
    "We start with the **`Titles_2NF`, `Roles_2NF`**, and **`Departments_2NF`** tables as the queries for these insertions are fairly trivial. \n",
    "\n",
    "Write a query to populate these tables by selecting **distinct** values in the relevant columns from the **`Employees_1NF`** table.\n",
    "\n",
    "Remember to only select rows where the **row value is not blank**."
   ]
  },
  {
   "cell_type": "code",
   "execution_count": null,
   "metadata": {},
   "outputs": [],
   "source": [
    "# Add your code here"
   ]
  },
  {
   "cell_type": "markdown",
   "metadata": {},
   "source": [
    "###  2.2 – Populate the `Employees_2NF` table\n",
    "\n",
    "Now we move on to the **`Employees_2NF`** table. Things become a bit more complex here since we start to take the foreign keys into account. This is because, in the **`Employees_2NF`** table, we have the **`TitleID`** column which references the **`TitleID`** column in the **`Titles_2NF`** table. \n",
    "\n",
    "Write a query to populate the **`Employees_2NF`** table by selecting the relevant data from the **`Employees_1NF`** table.\n",
    "\n",
    "**`Hint:`** We need to join with the appropriate table in order to populate the **`TitleID`** such that we maintain referential integrity."
   ]
  },
  {
   "cell_type": "code",
   "execution_count": null,
   "metadata": {},
   "outputs": [],
   "source": [
    "# Add your code here"
   ]
  },
  {
   "cell_type": "markdown",
   "metadata": {},
   "source": [
    "###  2.3 – Populate the `Employee_Department_2NF` and `Employee_Role_2NF` tables.\n",
    "\n",
    "Finally, we insert data into our **mapping tables**: **`Employee_Department_2NF`** and **`Employee_Role_2NF`**. These are tables that will be used to establish links between the different tables we have already created.\n",
    "\n",
    "Write a query to populate these tables using foreign keys that reference the primary keys in the 2NF tables being connected.\n",
    "\n",
    "**`Hint:`** Again, we need to join with the appropriate tables based on the foreign key references that exist in the database structure."
   ]
  },
  {
   "cell_type": "code",
   "execution_count": null,
   "metadata": {},
   "outputs": [],
   "source": [
    "# Add your code here"
   ]
  },
  {
   "cell_type": "markdown",
   "metadata": {},
   "source": [
    "## Solutions"
   ]
  },
  {
   "cell_type": "markdown",
   "metadata": {},
   "source": [
    "### Exercise 1 – Create the required tables"
   ]
  },
  {
   "cell_type": "code",
   "execution_count": null,
   "metadata": {},
   "outputs": [],
   "source": [
    "%%sql\n",
    "\n",
    "DROP TABLE IF EXISTS Employees_2NF;\n",
    "DROP TABLE IF EXISTS Titles_2NF;\n",
    "DROP TABLE IF EXISTS Roles_2NF;\n",
    "DROP TABLE IF EXISTS Departments_2NF;\n",
    "DROP TABLE IF EXISTS Employee_Department_2NF;\n",
    "DROP TABLE IF EXISTS Employee_Role_2NF;\n",
    "\n",
    "CREATE TABLE Titles_2NF (\n",
    "    TitleID INTEGER NOT NULL,\n",
    "    Title VARCHAR,\n",
    "    PRIMARY KEY(TitleID AUTOINCREMENT)\n",
    ");\n",
    "\n",
    "CREATE TABLE Roles_2NF (\n",
    "    RoleID INTEGER NOT NULL,\n",
    "    Role VARCHAR,\n",
    "    PRIMARY KEY(RoleID AUTOINCREMENT)\n",
    ");\n",
    "\n",
    "CREATE TABLE  Departments_2NF (\n",
    "    DepartmentID INTEGER NOT NULL,\n",
    "    Department VARCHAR,\n",
    "    PRIMARY KEY(DepartmentID AUTOINCREMENT)\n",
    ");\n",
    "\n",
    "CREATE TABLE Employees_2NF (\n",
    "    EmployeeID INTEGER NOT NULL,\n",
    "    Name VARCHAR, \n",
    "    Surname VARCHAR,\n",
    "    Salary REAL,\n",
    "    OccupationBand VARCHAR,\n",
    "    TitleID INTEGER,\n",
    "    FOREIGN KEY(TitleID) REFERENCES Titles_2NF (TitleID), \n",
    "    PRIMARY KEY(EmployeeID AUTOINCREMENT)\n",
    ");\n",
    "\n",
    "\n",
    "CREATE TABLE Employee_Role_2NF(\n",
    "    EmployeeID INTEGER NOT NULL,\n",
    "    RoleID INTEGER NOT NULL,\n",
    "    FOREIGN KEY (EmployeeID) REFERENCES Employees_2NF (EmployeeID),\n",
    "    FOREIGN KEY (RoleID) REFERENCES Roles_2NF (RoleID),\n",
    "    PRIMARY KEY(EmployeeID, RoleID)\n",
    ");\n",
    "\n",
    "CREATE TABLE Employee_Department_2NF(\n",
    "    EmployeeID INTEGER NOT NULL,\n",
    "    DepartmentID INTEGER NOT NULL,\n",
    "    FOREIGN KEY (EmployeeID) REFERENCES Employees_2NF (EmployeeID),\n",
    "    FOREIGN KEY (DepartmentID) REFERENCES Departments_2NF (DepartmentID),\n",
    "    PRIMARY KEY(EmployeeID, DepartmentID)\n",
    ");"
   ]
  },
  {
   "cell_type": "markdown",
   "metadata": {},
   "source": [
    "### Exercise 2"
   ]
  },
  {
   "cell_type": "markdown",
   "metadata": {},
   "source": [
    "#### 2.1 – Populate the `Titles_2NF, Roles_2NF`, and `Departments_2NF` tables"
   ]
  },
  {
   "cell_type": "code",
   "execution_count": null,
   "metadata": {},
   "outputs": [],
   "source": [
    "%%sql\n",
    "DELETE FROM Titles_2NF;\n",
    "DELETE FROM Roles_2NF;\n",
    "DELETE FROM Departments_2NF;\n",
    "\n",
    "INSERT INTO Titles_2NF (Title)\n",
    "SELECT \n",
    "    DISTINCT Title \n",
    "FROM Employees_1NF \n",
    "WHERE Title <> '';\n",
    "\n",
    "INSERT INTO Roles_2NF (Role) \n",
    "SELECT \n",
    "    DISTINCT Role\n",
    "FROM Employees_1NF\n",
    "WHERE Role <>'';\n",
    "\n",
    "INSERT INTO Departments_2NF (Department)\n",
    "SELECT\n",
    "    DISTINCT Department\n",
    "FROM Employees_1NF\n",
    "WHERE Department <>'';"
   ]
  },
  {
   "cell_type": "markdown",
   "metadata": {},
   "source": [
    "####  2.2 – Populate the `Employees_2NF` table"
   ]
  },
  {
   "cell_type": "code",
   "execution_count": null,
   "metadata": {},
   "outputs": [],
   "source": [
    "%%sql\n",
    "DELETE FROM Employees_2NF;\n",
    "\n",
    "INSERT INTO Employees_2NF (Name, Surname, Salary, OccupationBand, TitleID)\n",
    "SELECT DISTINCT\n",
    "    EMP.Name,\n",
    "    EMP.Surname,\n",
    "    EMP.Salary,\n",
    "    EMP.OccupationBand,\n",
    "    T.TitleID\n",
    "FROM \n",
    "    Employees_1NF AS EMP\n",
    "JOIN \n",
    "    Titles_2NF AS T \n",
    "    ON T.Title = EMP.Title;"
   ]
  },
  {
   "cell_type": "markdown",
   "metadata": {},
   "source": [
    "####  2.3 – Populate the `Employee_Department_2NF` and `Employee_Role_2NF` tables"
   ]
  },
  {
   "cell_type": "code",
   "execution_count": null,
   "metadata": {},
   "outputs": [],
   "source": [
    "%%sql\n",
    "DELETE FROM Employee_Department_2NF;\n",
    "DELETE FROM Employee_Role_2NF;\n",
    "\n",
    "INSERT INTO Employee_Department_2NF (EmployeeID,DepartmentID)\n",
    "SELECT DISTINCT\n",
    "    EMP2.EmployeeID,\n",
    "    DPT.DepartmentID\n",
    "FROM \n",
    "    Employees_1NF AS EMP1\n",
    "JOIN \n",
    "    Employees_2NF AS EMP2 \n",
    "    ON EMP1.Name = EMP2.Name AND EMP1.Surname = EMP2.Surname\n",
    "JOIN \n",
    "    Departments_2NF AS DPT \n",
    "    ON EMP1.Department = DPT.Department;\n",
    "    \n",
    "\n",
    "INSERT INTO Employee_Role_2NF (EmployeeID,RoleID)\n",
    "SELECT DISTINCT\n",
    "    EMP2.EmployeeID,\n",
    "    R.RoleID\n",
    "FROM \n",
    "    Employees_1NF AS EMP1\n",
    "JOIN \n",
    "    Employees_2NF AS EMP2 \n",
    "    ON EMP1.Name = EMP2.Name AND EMP1.Surname = EMP2.Surname\n",
    "JOIN \n",
    "    Roles_2NF AS R \n",
    "    ON EMP1.Role = R.Role"
   ]
  },
  {
   "cell_type": "markdown",
   "metadata": {},
   "source": [
    "## Conclusion\n",
    "\n",
    "By normalising our database up to the **Second Normal Form (2NF)**, we have ensured that all the data in the database are entirely dependent to the primary key which has, in turn, helped us address various anomalies:\n",
    "\n",
    " - **Deletion anomaly**: We have eliminated the deletion anomalies that could occur on the **`Roles`**, **`Departments`**, and **`Titles`** columns by creating separate tables for them. For example, if Jessica Mchunu gets deleted from the **Employees_2NF** table, the **Scrum Master** role will continue to persist in the **Roles_2NF** table.\n",
    "\n",
    " - **Update anomaly**: Christoper only appears once in the **Employees_2NF**, so should he get a raise we only need to change his salary information in one place. This reduces the chances of having any data inconsistencies.\n",
    "\n",
    " - **Insertion anomaly**: Now we can insert new graduates into the database without having to define a role or place them in a specific department.\n",
    "\n",
    "Also, as we organise our data into separate tables, we have seen the need for foreign keys to establish relationships between tables and enforcing referential integrity.\n",
    "\n",
    "Referential integrity plays a key role in understanding the relationships between tables – which are usually underpinned by business rules. Take time to understand these business rules when creating your database. This effort will serve you well for organising your data as a future data professional."
   ]
  },
  {
   "cell_type": "markdown",
   "metadata": {},
   "source": [
    "<div align=\"center\" style=\" font-size: 80%; text-align: center; margin: 0 auto\">\n",
    "<img src=\"https://raw.githubusercontent.com/Explore-AI/Pictures/master/ExploreAI_logos/EAI_Blue_Dark.png\"  style=\"width:200px\";/>\n",
    "</div>"
   ]
  }
 ],
 "metadata": {
  "kernelspec": {
   "display_name": "Python 3 (ipykernel)",
   "language": "python",
   "name": "python3"
  },
  "language_info": {
   "codemirror_mode": {
    "name": "ipython",
    "version": 3
   },
   "file_extension": ".py",
   "mimetype": "text/x-python",
   "name": "python",
   "nbconvert_exporter": "python",
   "pygments_lexer": "ipython3",
   "version": "3.11.5"
  }
 },
 "nbformat": 4,
 "nbformat_minor": 4
}
