{
 "cells": [
  {
   "cell_type": "markdown",
   "id": "bf17eebd",
   "metadata": {},
   "source": [
    "<div align=\"right\" style=\" font-size: 80%; text-align: center; margin: 0 auto\">\n",
    "<img src=\"https://raw.githubusercontent.com/Explore-AI/Pictures/master/ExploreAI_logos/Logo blue_dark.png\"  style=\"width:25px\" align=\"right\";/>\n",
    "</div>"
   ]
  },
  {
   "cell_type": "markdown",
   "id": "f662d169",
   "metadata": {},
   "source": [
    "# Intro to the Second Normal Form – 2NF\n",
    "© ExploreAI Academy"
   ]
  },
  {
   "cell_type": "markdown",
   "id": "26af890c",
   "metadata": {},
   "source": [
    "In this train, we will learn how to normalise a database table into the Second Normal Form (2NF) by first ensuring that the table is in the First Normal Form (1NF) and then creating separate tables for related entities. We will also be introduced to the concept of a junction table. "
   ]
  },
  {
   "cell_type": "markdown",
   "id": "3259ef42",
   "metadata": {},
   "source": [
    "> ⚠️ This exercise extends the concepts introduced in the previous one, **Intro to the First Normal Form – 1NF**. Therefore, it's important to ensure that you continue using the modified `dam_levels.db` database after successfully completing the previous exercise.\n",
    " \n",
    "> ⚠️ Since the queries here will modify the database, you will have to get a fresh copy to redo the code cells."
   ]
  },
  {
   "cell_type": "markdown",
   "id": "2d230d14",
   "metadata": {
    "tags": []
   },
   "source": [
    "## Learning objectives\n",
    "\n",
    "By the end of this train, you should:\n",
    "- Understand the key principles of achieving Second Normal Form (2NF) in database normalisation.\n",
    "- Practise splitting a denormalised table into separate tables, addressing partial functional dependencies.\n",
    "- Master the concept of a junction table and its role in linking data between two related tables in a database schema."
   ]
  },
  {
   "cell_type": "markdown",
   "id": "2bf2a4c1",
   "metadata": {},
   "source": [
    "## 1. Overview\n",
    "To get the table in 2NF, we need to ensure the following:\n",
    "\n",
    "- The table is in 1NF.\n",
    "- All partial functional dependencies should be removed – all non-key columns should depend on the key column, and anything else should be placed in a separate table. "
   ]
  },
  {
   "cell_type": "markdown",
   "id": "37115144",
   "metadata": {},
   "source": [
    "<div>\n",
    "Let's look at normalising the 1NF dams database containing information about Cape Town dam water levels leading up to the 2018 Cape Town water crisis.\n",
    "</div>"
   ]
  },
  {
   "cell_type": "markdown",
   "id": "5a0b7683",
   "metadata": {
    "tags": []
   },
   "source": [
    "## Connecting to the database"
   ]
  },
  {
   "cell_type": "code",
   "execution_count": 1,
   "id": "0f34ea72",
   "metadata": {},
   "outputs": [],
   "source": [
    "# Load and activate the SQL extension to allow us to execute SQL in a Jupyter notebook. \n",
    "# If you get an error here, make sure that mysql and pymysql are installed correctly. \n",
    "\n",
    "%load_ext sql"
   ]
  },
  {
   "cell_type": "code",
   "execution_count": 2,
   "id": "d279a04d",
   "metadata": {},
   "outputs": [],
   "source": [
    "# Load SQLite database\n",
    "%sql sqlite:///../db/dam_levels.db"
   ]
  },
  {
   "cell_type": "markdown",
   "id": "1225c304",
   "metadata": {},
   "source": [
    "Before we proceed, let's first take a closer look at the `dam_levels_1nf` table:"
   ]
  },
  {
   "cell_type": "code",
   "execution_count": 6,
   "id": "b8edbc6a",
   "metadata": {},
   "outputs": [
    {
     "name": "stdout",
     "output_type": "stream",
     "text": [
      " * sqlite:///../db/dam_levels.db\n",
      "Done.\n"
     ]
    },
    {
     "data": {
      "text/html": [
       "<table>\n",
       "    <thead>\n",
       "        <tr>\n",
       "            <th>AssessmentId</th>\n",
       "            <th>year</th>\n",
       "            <th>dam_name</th>\n",
       "            <th>Assessment_Officer</th>\n",
       "            <th>Officer_Reg</th>\n",
       "            <th>water_level</th>\n",
       "            <th>dam_latitude</th>\n",
       "            <th>dam_longitude</th>\n",
       "        </tr>\n",
       "    </thead>\n",
       "    <tbody>\n",
       "        <tr>\n",
       "            <td>1</td>\n",
       "            <td>2012</td>\n",
       "            <td>WEMMERSHOEK</td>\n",
       "            <td>P. M. Naidoo</td>\n",
       "            <td>201013</td>\n",
       "            <td>48.2</td>\n",
       "            <td>-33.826246</td>\n",
       "            <td>19.091828</td>\n",
       "        </tr>\n",
       "        <tr>\n",
       "            <td>2</td>\n",
       "            <td>2012</td>\n",
       "            <td>VOËLVLEI</td>\n",
       "            <td>A. T. Sijovu</td>\n",
       "            <td>202256</td>\n",
       "            <td>15</td>\n",
       "            <td>-33.34178</td>\n",
       "            <td>19.04105</td>\n",
       "        </tr>\n",
       "        <tr>\n",
       "            <td>3</td>\n",
       "            <td>2012</td>\n",
       "            <td>HELY-HUTCHINSON</td>\n",
       "            <td>P. M. Naidoo</td>\n",
       "            <td>201013</td>\n",
       "            <td>14.2</td>\n",
       "            <td>-33.976929</td>\n",
       "            <td>18.409568</td>\n",
       "        </tr>\n",
       "        <tr>\n",
       "            <td>4</td>\n",
       "            <td>2012</td>\n",
       "            <td>WOODHEAD</td>\n",
       "            <td>A. T. Sijovu</td>\n",
       "            <td>202256</td>\n",
       "            <td>35.3</td>\n",
       "            <td>-33.977341</td>\n",
       "            <td>18.404046</td>\n",
       "        </tr>\n",
       "        <tr>\n",
       "            <td>5</td>\n",
       "            <td>2013</td>\n",
       "            <td>WEMMERSHOEK</td>\n",
       "            <td>P. M. Naidoo</td>\n",
       "            <td>201013</td>\n",
       "            <td>53.3</td>\n",
       "            <td>-33.826246</td>\n",
       "            <td>19.091828</td>\n",
       "        </tr>\n",
       "        <tr>\n",
       "            <td>6</td>\n",
       "            <td>2013</td>\n",
       "            <td>VOËLVLEI</td>\n",
       "            <td>A. T. Sijovu</td>\n",
       "            <td>202256</td>\n",
       "            <td>16.6</td>\n",
       "            <td>-33.34178</td>\n",
       "            <td>19.04105</td>\n",
       "        </tr>\n",
       "        <tr>\n",
       "            <td>7</td>\n",
       "            <td>2013</td>\n",
       "            <td>HELY-HUTCHINSON</td>\n",
       "            <td>P. M. Naidoo</td>\n",
       "            <td>201013</td>\n",
       "            <td>15.2</td>\n",
       "            <td>-33.976929</td>\n",
       "            <td>18.409568</td>\n",
       "        </tr>\n",
       "        <tr>\n",
       "            <td>8</td>\n",
       "            <td>2013</td>\n",
       "            <td>WOODHEAD</td>\n",
       "            <td>A. T. Sijovu</td>\n",
       "            <td>202256</td>\n",
       "            <td>35.9</td>\n",
       "            <td>-33.977341</td>\n",
       "            <td>18.404046</td>\n",
       "        </tr>\n",
       "        <tr>\n",
       "            <td>9</td>\n",
       "            <td>2015</td>\n",
       "            <td>WEMMERSHOEK</td>\n",
       "            <td>P. M. Naidoo</td>\n",
       "            <td>201013</td>\n",
       "            <td>47.5</td>\n",
       "            <td>-33.826246</td>\n",
       "            <td>19.091828</td>\n",
       "        </tr>\n",
       "        <tr>\n",
       "            <td>10</td>\n",
       "            <td>2015</td>\n",
       "            <td>VOËLVLEI</td>\n",
       "            <td>A. T. Sijovu</td>\n",
       "            <td>202256</td>\n",
       "            <td>11.9</td>\n",
       "            <td>-33.34178</td>\n",
       "            <td>19.04105</td>\n",
       "        </tr>\n",
       "    </tbody>\n",
       "</table>"
      ],
      "text/plain": [
       "[(1, 2012, 'WEMMERSHOEK', 'P. M. Naidoo', 201013, 48.2, -33.826246, 19.091828),\n",
       " (2, 2012, 'VOËLVLEI', 'A. T. Sijovu', 202256, 15, -33.34178, 19.04105),\n",
       " (3, 2012, 'HELY-HUTCHINSON', 'P. M. Naidoo', 201013, 14.2, -33.976929, 18.409568),\n",
       " (4, 2012, 'WOODHEAD', 'A. T. Sijovu', 202256, 35.3, -33.977341, 18.404046),\n",
       " (5, 2013, 'WEMMERSHOEK', 'P. M. Naidoo', 201013, 53.3, -33.826246, 19.091828),\n",
       " (6, 2013, 'VOËLVLEI', 'A. T. Sijovu', 202256, 16.6, -33.34178, 19.04105),\n",
       " (7, 2013, 'HELY-HUTCHINSON', 'P. M. Naidoo', 201013, 15.2, -33.976929, 18.409568),\n",
       " (8, 2013, 'WOODHEAD', 'A. T. Sijovu', 202256, 35.9, -33.977341, 18.404046),\n",
       " (9, 2015, 'WEMMERSHOEK', 'P. M. Naidoo', 201013, 47.5, -33.826246, 19.091828),\n",
       " (10, 2015, 'VOËLVLEI', 'A. T. Sijovu', 202256, 11.9, -33.34178, 19.04105)]"
      ]
     },
     "execution_count": 6,
     "metadata": {},
     "output_type": "execute_result"
    }
   ],
   "source": [
    "%%sql\n",
    "\n",
    "SELECT *\n",
    "FROM dam_levels_1nf LIMIT 10;"
   ]
  },
  {
   "cell_type": "markdown",
   "id": "85cb3b7d",
   "metadata": {},
   "source": [
    "Looking at the table, we notice two distinct entities: assessments and dam information.\n",
    "\n",
    "\n",
    "As such, we need to create two tables:\n",
    "\n",
    "- `assessments` – with columns: `AssessmentId`, `year`, `Assessment_Officer`, `Officer_Reg`, `water_level`\n",
    "- `dams` – with columns: `dam_name`, `dam_latitude`, `dam_longitude`"
   ]
  },
  {
   "cell_type": "markdown",
   "id": "920e89d2",
   "metadata": {
    "tags": []
   },
   "source": [
    "## Exercise\n"
   ]
  },
  {
   "cell_type": "markdown",
   "id": "86802726",
   "metadata": {},
   "source": [
    "### Exercise 1\n",
    "\n",
    "Create the `assessments` table."
   ]
  },
  {
   "cell_type": "code",
   "execution_count": 7,
   "id": "91f3421f",
   "metadata": {},
   "outputs": [
    {
     "name": "stdout",
     "output_type": "stream",
     "text": [
      " * sqlite:///../db/dam_levels.db\n",
      "Done.\n"
     ]
    },
    {
     "data": {
      "text/plain": [
       "[]"
      ]
     },
     "execution_count": 7,
     "metadata": {},
     "output_type": "execute_result"
    }
   ],
   "source": [
    "%%sql \n",
    "\n",
    "CREATE TABLE assessments (\n",
    "    AssessmentId INTEGER PRIMARY KEY AUTOINCREMENT,\n",
    "    year INTEGER,\n",
    "    Assessment_Officer VARCHAR(100),\n",
    "    Officer_Reg INTEGER,\n",
    "    water_level NUMERIC(10,1)\n",
    ");"
   ]
  },
  {
   "cell_type": "markdown",
   "id": "f0fade51",
   "metadata": {},
   "source": [
    "### Exercise 2\n",
    "\n",
    "Copy the relevant data into the `assessments` table from `dam_levels_1nf`."
   ]
  },
  {
   "cell_type": "code",
   "execution_count": 8,
   "id": "748f4263",
   "metadata": {},
   "outputs": [
    {
     "name": "stdout",
     "output_type": "stream",
     "text": [
      " * sqlite:///../db/dam_levels.db\n",
      "18 rows affected.\n"
     ]
    },
    {
     "data": {
      "text/plain": [
       "[]"
      ]
     },
     "execution_count": 8,
     "metadata": {},
     "output_type": "execute_result"
    }
   ],
   "source": [
    "%%sql\n",
    "\n",
    "INSERT INTO \n",
    "    assessments(\n",
    "            AssessmentId, \n",
    "            year, \n",
    "            Assessment_Officer,  \n",
    "            Officer_Reg, \n",
    "            water_level\n",
    "        )\n",
    "SELECT \n",
    "    AssessmentId, \n",
    "    year, \n",
    "    Assessment_Officer, \n",
    "    Officer_Reg, \n",
    "    water_level\n",
    "FROM \n",
    "    dam_levels_1nf\n",
    "ORDER BY year;"
   ]
  },
  {
   "cell_type": "markdown",
   "id": "f28aef00",
   "metadata": {},
   "source": [
    "### Exercise 3\n",
    "\n",
    "Create the `dams` table."
   ]
  },
  {
   "cell_type": "code",
   "execution_count": 13,
   "id": "f4621a53",
   "metadata": {},
   "outputs": [
    {
     "name": "stdout",
     "output_type": "stream",
     "text": [
      " * sqlite:///../db/dam_levels.db\n",
      "Done.\n"
     ]
    },
    {
     "data": {
      "text/plain": [
       "[]"
      ]
     },
     "execution_count": 13,
     "metadata": {},
     "output_type": "execute_result"
    }
   ],
   "source": [
    "%%sql\n",
    "\n",
    "CREATE TABLE dams (\n",
    "    dam_name VARCHAR(100),\n",
    "    dam_latitude NUMERIC(3,6),\n",
    "    dam_longitude NUMERIC(3,6)\n",
    ");"
   ]
  },
  {
   "cell_type": "markdown",
   "id": "d151cbb4",
   "metadata": {},
   "source": [
    "### Exercise 4\n",
    "\n",
    "Copy the relevant data into the `dams` table from `dam_levels_1nf`."
   ]
  },
  {
   "cell_type": "code",
   "execution_count": 14,
   "id": "1e003247",
   "metadata": {},
   "outputs": [
    {
     "name": "stdout",
     "output_type": "stream",
     "text": [
      " * sqlite:///../db/dam_levels.db\n",
      "6 rows affected.\n"
     ]
    },
    {
     "data": {
      "text/plain": [
       "[]"
      ]
     },
     "execution_count": 14,
     "metadata": {},
     "output_type": "execute_result"
    }
   ],
   "source": [
    "%%sql\n",
    "\n",
    "INSERT INTO \n",
    "    dams(\n",
    "            dam_name, \n",
    "            dam_latitude, \n",
    "            dam_longitude\n",
    "        )\n",
    "SELECT\n",
    "    dam_name, \n",
    "    dam_latitude, \n",
    "    dam_longitude\n",
    "FROM \n",
    "    dam_levels_1nf\n",
    "GROUP BY dam_name -- Because there are duplicates"
   ]
  },
  {
   "cell_type": "markdown",
   "id": "e9dcc635",
   "metadata": {},
   "source": [
    "### Exercise 5\n",
    "\n",
    "At this point, we've created two tables: the `assessments` and the `dams` tables. However, the assessments and dam information are no longer linked, i.e. we don't know which assessment belongs to which dam. As such, we'll need to create a junction table (i.e. a linking table, in this case, a table that connects an assessment to a dam).\n",
    "\n",
    "To make a valid junction table, we'll need primary keys from both tables.\n",
    "\n",
    "Using the `AssessmentId` from the `assessments` table and the `dam_name` from the `dams` table, create the junction table. Call it `dam_assessments`."
   ]
  },
  {
   "cell_type": "code",
   "execution_count": 17,
   "id": "1cbd8b2e",
   "metadata": {},
   "outputs": [
    {
     "name": "stdout",
     "output_type": "stream",
     "text": [
      " * sqlite:///../db/dam_levels.db\n",
      "Done.\n"
     ]
    },
    {
     "data": {
      "text/plain": [
       "[]"
      ]
     },
     "execution_count": 17,
     "metadata": {},
     "output_type": "execute_result"
    }
   ],
   "source": [
    "%%sql \n",
    "\n",
    "CREATE TABLE \n",
    "    dam_assessments (\n",
    "        AssessmentId INTEGER PRIMARY KEY AUTOINCREMENT,\n",
    "        dam_name VARCHAR(100)\n",
    "    );"
   ]
  },
  {
   "cell_type": "markdown",
   "id": "46537798",
   "metadata": {},
   "source": [
    "### Exercise 6\n",
    "\n",
    "Insert the relevant data into the `dam_assessments` table."
   ]
  },
  {
   "cell_type": "code",
   "execution_count": 18,
   "id": "ce4ea795",
   "metadata": {},
   "outputs": [
    {
     "name": "stdout",
     "output_type": "stream",
     "text": [
      " * sqlite:///../db/dam_levels.db\n",
      "18 rows affected.\n"
     ]
    },
    {
     "data": {
      "text/plain": [
       "[]"
      ]
     },
     "execution_count": 18,
     "metadata": {},
     "output_type": "execute_result"
    }
   ],
   "source": [
    "%%sql\n",
    "INSERT INTO dam_assessments\n",
    "SELECT AssessmentId, dam_name FROM dam_levels_1nf"
   ]
  },
  {
   "cell_type": "markdown",
   "id": "819c5f65",
   "metadata": {},
   "source": [
    "### Exercise 7\n",
    "\n",
    "Delete the now redundant `dam_levels_1nf` table."
   ]
  },
  {
   "cell_type": "code",
   "execution_count": 19,
   "id": "91c1c389",
   "metadata": {},
   "outputs": [
    {
     "name": "stdout",
     "output_type": "stream",
     "text": [
      " * sqlite:///../db/dam_levels.db\n",
      "Done.\n"
     ]
    },
    {
     "data": {
      "text/plain": [
       "[]"
      ]
     },
     "execution_count": 19,
     "metadata": {},
     "output_type": "execute_result"
    }
   ],
   "source": [
    "%sql DROP TABLE IF EXISTS dam_levels_1nf"
   ]
  },
  {
   "cell_type": "markdown",
   "id": "b3c88335",
   "metadata": {
    "tags": []
   },
   "source": [
    "## Solutions"
   ]
  },
  {
   "cell_type": "markdown",
   "id": "a5084b12",
   "metadata": {
    "tags": []
   },
   "source": [
    "### Exercise 1"
   ]
  },
  {
   "cell_type": "code",
   "execution_count": null,
   "id": "c968d875",
   "metadata": {},
   "outputs": [],
   "source": [
    "%%sql \n",
    "\n",
    "CREATE TABLE assessments (\n",
    "    AssessmentId INTEGER PRIMARY KEY AUTOINCREMENT,\n",
    "    year INTEGER,\n",
    "    Assessment_Officer VARCHAR(100),\n",
    "    Officer_Reg INTEGER,\n",
    "    water_level NUMERIC(10,1)\n",
    ");"
   ]
  },
  {
   "cell_type": "markdown",
   "id": "294d8eef",
   "metadata": {},
   "source": [
    "### Exercise 2\n",
    "\n"
   ]
  },
  {
   "cell_type": "code",
   "execution_count": null,
   "id": "03071e34",
   "metadata": {},
   "outputs": [],
   "source": [
    "%%sql\n",
    "\n",
    "INSERT INTO \n",
    "    assessments(\n",
    "            AssessmentId, \n",
    "            year, \n",
    "            Assessment_Officer,  \n",
    "            Officer_Reg, \n",
    "            water_level\n",
    "        )\n",
    "SELECT \n",
    "    AssessmentId, \n",
    "    year, \n",
    "    Assessment_Officer, \n",
    "    Officer_Reg, \n",
    "    water_level\n",
    "FROM \n",
    "    dam_levels_1nf\n",
    "ORDER BY year;"
   ]
  },
  {
   "cell_type": "markdown",
   "id": "eafe40b6",
   "metadata": {},
   "source": [
    "### Exercise 3\n",
    "\n"
   ]
  },
  {
   "cell_type": "code",
   "execution_count": null,
   "id": "1ffd2239",
   "metadata": {},
   "outputs": [],
   "source": [
    "%%sql\n",
    "\n",
    "CREATE TABLE dams (\n",
    "    dam_name VARCHAR(100),\n",
    "    dam_latitude NUMERIC(3,6),\n",
    "    dam_longitude NUMERIC(3,6)\n",
    ");"
   ]
  },
  {
   "cell_type": "markdown",
   "id": "b0e27793",
   "metadata": {},
   "source": [
    "### Exercise 4"
   ]
  },
  {
   "cell_type": "code",
   "execution_count": null,
   "id": "b2cb2438",
   "metadata": {},
   "outputs": [],
   "source": [
    "%%sql\n",
    "\n",
    "INSERT INTO \n",
    "    dams(\n",
    "            dam_name, \n",
    "            dam_latitude, \n",
    "            dam_longitude\n",
    "        )\n",
    "SELECT \n",
    "    dam_name, \n",
    "    dam_latitude, \n",
    "    dam_longitude\n",
    "FROM \n",
    "    dam_levels_1nf\n",
    "GROUP BY dam_name;"
   ]
  },
  {
   "cell_type": "markdown",
   "id": "99405b3b",
   "metadata": {},
   "source": [
    "### Exercise 5"
   ]
  },
  {
   "cell_type": "code",
   "execution_count": null,
   "id": "c01239cc",
   "metadata": {},
   "outputs": [],
   "source": [
    "%%sql \n",
    "\n",
    "CREATE TABLE \n",
    "    dam_assessments (\n",
    "        AssessmentId INTEGER PRIMARY KEY AUTOINCREMENT,\n",
    "        dam_name VARCHAR(100)\n",
    "    );"
   ]
  },
  {
   "cell_type": "markdown",
   "id": "69fc4b5c",
   "metadata": {},
   "source": [
    "### Exercise 6"
   ]
  },
  {
   "cell_type": "code",
   "execution_count": null,
   "id": "36faa2ab",
   "metadata": {},
   "outputs": [],
   "source": [
    "%%sql\n",
    "\n",
    "INSERT INTO \n",
    "    dam_assessments(\n",
    "            AssessmentId,\n",
    "            dam_name\n",
    "        )\n",
    "VALUES \n",
    "    (1 \t, \"WEMMERSHOEK\"), \n",
    "    (2 \t, \"VOËLVLEI\"),\n",
    "    (3 \t, \"HELY-HUTCHINSON\"),\n",
    "    (4 \t, \"WOODHEAD\"), \n",
    "    (5 \t, \"STEENBRAS LOWER\"), \n",
    "    (6 \t, \"STEENBRAS UPPER\"), \n",
    "    (7 \t, \"WEMMERSHOEK\"), \n",
    "    (8 \t, \"VOËLVLEI\"), \n",
    "    (9 \t, \"HELY-HUTCHINSON\"), \n",
    "    (10 , \"WOODHEAD\"), \n",
    "    (11 , \"STEENBRAS LOWER\"), \n",
    "    (12 , \"STEENBRAS UPPER\"), \n",
    "    (13 , \"WEMMERSHOEK\"), \n",
    "    (14 , \"VOËLVLEI\"), \n",
    "    (15 , \"HELY-HUTCHINSON\"),\n",
    "    (16 , \"WOODHEAD\"), \n",
    "    (17 , \"STEENBRAS LOWER\"), \n",
    "    (18 , \"STEENBRAS UPPER\");"
   ]
  },
  {
   "cell_type": "markdown",
   "id": "d4353de4",
   "metadata": {},
   "source": [
    "### Exercise 7"
   ]
  },
  {
   "cell_type": "code",
   "execution_count": null,
   "id": "3c2ca026",
   "metadata": {},
   "outputs": [],
   "source": [
    "%%sql\n",
    "\n",
    "DROP TABLE dam_levels_1nf;"
   ]
  },
  {
   "cell_type": "markdown",
   "id": "e9956efe",
   "metadata": {
    "tags": []
   },
   "source": [
    "## Summary\n",
    "\n",
    "At this point, we have split the dam_levels_1nf table into the following tables:\n",
    "\n",
    "|name|\n",
    "---\n",
    "assessments\n",
    "dam_assessments\n",
    "dams\n",
    "\n",
    "Since these tables are in 1NF and do not have any partial functional dependencies, we have successfully normalised our tables into the Second Normal Form!"
   ]
  },
  {
   "cell_type": "markdown",
   "id": "1fa2c3b4",
   "metadata": {},
   "source": [
    "**Important**: After completing this exercise, ensure that you save the `dam_levels.db` file, as it will be used as a foundation for the next exercise."
   ]
  },
  {
   "cell_type": "markdown",
   "id": "26fd094b-0fee-46f1-a4b8-73766813c42b",
   "metadata": {
    "tags": []
   },
   "source": [
    "#  \n",
    "\n",
    "<div align=\"center\" style=\" font-size: 80%; text-align: center; margin: 0 auto\">\n",
    "<img src=\"https://raw.githubusercontent.com/Explore-AI/Pictures/master/ExploreAI_logos/EAI_Blue_Dark.png\"  style=\"width:200px\";/>\n",
    "</div>"
   ]
  }
 ],
 "metadata": {
  "kernelspec": {
   "display_name": "Python 3 (ipykernel)",
   "language": "python",
   "name": "python3"
  },
  "language_info": {
   "codemirror_mode": {
    "name": "ipython",
    "version": 3
   },
   "file_extension": ".py",
   "mimetype": "text/x-python",
   "name": "python",
   "nbconvert_exporter": "python",
   "pygments_lexer": "ipython3",
   "version": "3.11.5"
  }
 },
 "nbformat": 4,
 "nbformat_minor": 5
}
